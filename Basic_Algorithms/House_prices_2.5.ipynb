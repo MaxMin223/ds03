{
 "cells": [
  {
   "cell_type": "markdown",
   "metadata": {},
   "source": [
    "# Задание к занятию «Борьба с переобучением: ансамблирование»"
   ]
  },
  {
   "cell_type": "markdown",
   "metadata": {},
   "source": [
    "## Подготовка данных"
   ]
  },
  {
   "cell_type": "markdown",
   "metadata": {},
   "source": [
    "Категориальные и числовые данные будем готовить по разному.\n",
    "Категориальные сразу и сейчас.\n",
    "Числовые (Imputer, Scaler) позднее в рамках pipeline для каждой модели. Например, при заполнение NaN  в рамках конвейра, среднее значение мы всегда будем вычислять только данных тренировочного набора, чтобы не допустить утечку данных из тестового набора. Ну как-то так."
   ]
  },
  {
   "cell_type": "code",
   "execution_count": 29,
   "metadata": {
    "ExecuteTime": {
     "end_time": "2018-05-05T09:25:11.158286Z",
     "start_time": "2018-05-05T09:25:11.148128Z"
    }
   },
   "outputs": [],
   "source": [
    "import numpy as np\n",
    "import pandas as pd\n",
    "from matplotlib import pyplot as plt\n",
    "import seaborn as sns\n",
    "sns.set()\n",
    "%matplotlib inline\n",
    "\n",
    "import warnings\n",
    "warnings.simplefilter('ignore')"
   ]
  },
  {
   "cell_type": "code",
   "execution_count": 30,
   "metadata": {
    "ExecuteTime": {
     "end_time": "2018-05-05T09:25:11.231904Z",
     "start_time": "2018-05-05T09:25:11.161113Z"
    }
   },
   "outputs": [],
   "source": [
    "X_full = pd.read_csv('train.csv.gz', compression='gzip', index_col='Id')\n",
    "X_val = pd.read_csv('test.csv.gz', compression='gzip', index_col='Id')"
   ]
  },
  {
   "cell_type": "code",
   "execution_count": 31,
   "metadata": {
    "ExecuteTime": {
     "end_time": "2018-05-05T09:25:11.241707Z",
     "start_time": "2018-05-05T09:25:11.234859Z"
    }
   },
   "outputs": [
    {
     "data": {
      "text/plain": [
       "((1460, 80), (1459, 79))"
      ]
     },
     "execution_count": 31,
     "metadata": {},
     "output_type": "execute_result"
    }
   ],
   "source": [
    "X_full.shape, X_val.shape"
   ]
  },
  {
   "cell_type": "code",
   "execution_count": 32,
   "metadata": {
    "ExecuteTime": {
     "end_time": "2018-05-05T09:25:11.293749Z",
     "start_time": "2018-05-05T09:25:11.245482Z"
    }
   },
   "outputs": [
    {
     "data": {
      "text/html": [
       "<div>\n",
       "<style scoped>\n",
       "    .dataframe tbody tr th:only-of-type {\n",
       "        vertical-align: middle;\n",
       "    }\n",
       "\n",
       "    .dataframe tbody tr th {\n",
       "        vertical-align: top;\n",
       "    }\n",
       "\n",
       "    .dataframe thead th {\n",
       "        text-align: right;\n",
       "    }\n",
       "</style>\n",
       "<table border=\"1\" class=\"dataframe\">\n",
       "  <thead>\n",
       "    <tr style=\"text-align: right;\">\n",
       "      <th></th>\n",
       "      <th>MSSubClass</th>\n",
       "      <th>MSZoning</th>\n",
       "      <th>LotFrontage</th>\n",
       "      <th>LotArea</th>\n",
       "      <th>Street</th>\n",
       "      <th>Alley</th>\n",
       "      <th>LotShape</th>\n",
       "      <th>LandContour</th>\n",
       "      <th>Utilities</th>\n",
       "      <th>LotConfig</th>\n",
       "      <th>...</th>\n",
       "      <th>PoolArea</th>\n",
       "      <th>PoolQC</th>\n",
       "      <th>Fence</th>\n",
       "      <th>MiscFeature</th>\n",
       "      <th>MiscVal</th>\n",
       "      <th>MoSold</th>\n",
       "      <th>YrSold</th>\n",
       "      <th>SaleType</th>\n",
       "      <th>SaleCondition</th>\n",
       "      <th>SalePrice</th>\n",
       "    </tr>\n",
       "    <tr>\n",
       "      <th>Id</th>\n",
       "      <th></th>\n",
       "      <th></th>\n",
       "      <th></th>\n",
       "      <th></th>\n",
       "      <th></th>\n",
       "      <th></th>\n",
       "      <th></th>\n",
       "      <th></th>\n",
       "      <th></th>\n",
       "      <th></th>\n",
       "      <th></th>\n",
       "      <th></th>\n",
       "      <th></th>\n",
       "      <th></th>\n",
       "      <th></th>\n",
       "      <th></th>\n",
       "      <th></th>\n",
       "      <th></th>\n",
       "      <th></th>\n",
       "      <th></th>\n",
       "      <th></th>\n",
       "    </tr>\n",
       "  </thead>\n",
       "  <tbody>\n",
       "    <tr>\n",
       "      <th>1</th>\n",
       "      <td>60</td>\n",
       "      <td>RL</td>\n",
       "      <td>65.0</td>\n",
       "      <td>8450</td>\n",
       "      <td>Pave</td>\n",
       "      <td>NaN</td>\n",
       "      <td>Reg</td>\n",
       "      <td>Lvl</td>\n",
       "      <td>AllPub</td>\n",
       "      <td>Inside</td>\n",
       "      <td>...</td>\n",
       "      <td>0</td>\n",
       "      <td>NaN</td>\n",
       "      <td>NaN</td>\n",
       "      <td>NaN</td>\n",
       "      <td>0</td>\n",
       "      <td>2</td>\n",
       "      <td>2008</td>\n",
       "      <td>WD</td>\n",
       "      <td>Normal</td>\n",
       "      <td>208500</td>\n",
       "    </tr>\n",
       "    <tr>\n",
       "      <th>2</th>\n",
       "      <td>20</td>\n",
       "      <td>RL</td>\n",
       "      <td>80.0</td>\n",
       "      <td>9600</td>\n",
       "      <td>Pave</td>\n",
       "      <td>NaN</td>\n",
       "      <td>Reg</td>\n",
       "      <td>Lvl</td>\n",
       "      <td>AllPub</td>\n",
       "      <td>FR2</td>\n",
       "      <td>...</td>\n",
       "      <td>0</td>\n",
       "      <td>NaN</td>\n",
       "      <td>NaN</td>\n",
       "      <td>NaN</td>\n",
       "      <td>0</td>\n",
       "      <td>5</td>\n",
       "      <td>2007</td>\n",
       "      <td>WD</td>\n",
       "      <td>Normal</td>\n",
       "      <td>181500</td>\n",
       "    </tr>\n",
       "    <tr>\n",
       "      <th>3</th>\n",
       "      <td>60</td>\n",
       "      <td>RL</td>\n",
       "      <td>68.0</td>\n",
       "      <td>11250</td>\n",
       "      <td>Pave</td>\n",
       "      <td>NaN</td>\n",
       "      <td>IR1</td>\n",
       "      <td>Lvl</td>\n",
       "      <td>AllPub</td>\n",
       "      <td>Inside</td>\n",
       "      <td>...</td>\n",
       "      <td>0</td>\n",
       "      <td>NaN</td>\n",
       "      <td>NaN</td>\n",
       "      <td>NaN</td>\n",
       "      <td>0</td>\n",
       "      <td>9</td>\n",
       "      <td>2008</td>\n",
       "      <td>WD</td>\n",
       "      <td>Normal</td>\n",
       "      <td>223500</td>\n",
       "    </tr>\n",
       "    <tr>\n",
       "      <th>4</th>\n",
       "      <td>70</td>\n",
       "      <td>RL</td>\n",
       "      <td>60.0</td>\n",
       "      <td>9550</td>\n",
       "      <td>Pave</td>\n",
       "      <td>NaN</td>\n",
       "      <td>IR1</td>\n",
       "      <td>Lvl</td>\n",
       "      <td>AllPub</td>\n",
       "      <td>Corner</td>\n",
       "      <td>...</td>\n",
       "      <td>0</td>\n",
       "      <td>NaN</td>\n",
       "      <td>NaN</td>\n",
       "      <td>NaN</td>\n",
       "      <td>0</td>\n",
       "      <td>2</td>\n",
       "      <td>2006</td>\n",
       "      <td>WD</td>\n",
       "      <td>Abnorml</td>\n",
       "      <td>140000</td>\n",
       "    </tr>\n",
       "    <tr>\n",
       "      <th>5</th>\n",
       "      <td>60</td>\n",
       "      <td>RL</td>\n",
       "      <td>84.0</td>\n",
       "      <td>14260</td>\n",
       "      <td>Pave</td>\n",
       "      <td>NaN</td>\n",
       "      <td>IR1</td>\n",
       "      <td>Lvl</td>\n",
       "      <td>AllPub</td>\n",
       "      <td>FR2</td>\n",
       "      <td>...</td>\n",
       "      <td>0</td>\n",
       "      <td>NaN</td>\n",
       "      <td>NaN</td>\n",
       "      <td>NaN</td>\n",
       "      <td>0</td>\n",
       "      <td>12</td>\n",
       "      <td>2008</td>\n",
       "      <td>WD</td>\n",
       "      <td>Normal</td>\n",
       "      <td>250000</td>\n",
       "    </tr>\n",
       "  </tbody>\n",
       "</table>\n",
       "<p>5 rows × 80 columns</p>\n",
       "</div>"
      ],
      "text/plain": [
       "    MSSubClass MSZoning  LotFrontage  LotArea Street Alley LotShape  \\\n",
       "Id                                                                    \n",
       "1           60       RL         65.0     8450   Pave   NaN      Reg   \n",
       "2           20       RL         80.0     9600   Pave   NaN      Reg   \n",
       "3           60       RL         68.0    11250   Pave   NaN      IR1   \n",
       "4           70       RL         60.0     9550   Pave   NaN      IR1   \n",
       "5           60       RL         84.0    14260   Pave   NaN      IR1   \n",
       "\n",
       "   LandContour Utilities LotConfig    ...     PoolArea PoolQC Fence  \\\n",
       "Id                                    ...                             \n",
       "1          Lvl    AllPub    Inside    ...            0    NaN   NaN   \n",
       "2          Lvl    AllPub       FR2    ...            0    NaN   NaN   \n",
       "3          Lvl    AllPub    Inside    ...            0    NaN   NaN   \n",
       "4          Lvl    AllPub    Corner    ...            0    NaN   NaN   \n",
       "5          Lvl    AllPub       FR2    ...            0    NaN   NaN   \n",
       "\n",
       "   MiscFeature MiscVal MoSold  YrSold  SaleType  SaleCondition  SalePrice  \n",
       "Id                                                                         \n",
       "1          NaN       0      2    2008        WD         Normal     208500  \n",
       "2          NaN       0      5    2007        WD         Normal     181500  \n",
       "3          NaN       0      9    2008        WD         Normal     223500  \n",
       "4          NaN       0      2    2006        WD        Abnorml     140000  \n",
       "5          NaN       0     12    2008        WD         Normal     250000  \n",
       "\n",
       "[5 rows x 80 columns]"
      ]
     },
     "execution_count": 32,
     "metadata": {},
     "output_type": "execute_result"
    }
   ],
   "source": [
    "X_full.head()"
   ]
  },
  {
   "cell_type": "markdown",
   "metadata": {},
   "source": [
    "Признак MSSubClass является категориальным, но ожидаемо распарсился, как число. Переопределяем, как строку"
   ]
  },
  {
   "cell_type": "code",
   "execution_count": 33,
   "metadata": {
    "ExecuteTime": {
     "end_time": "2018-05-05T09:25:11.316994Z",
     "start_time": "2018-05-05T09:25:11.297172Z"
    }
   },
   "outputs": [],
   "source": [
    "X_full.MSSubClass = X_full.MSSubClass.astype('str')\n",
    "X_val.MSSubClass = X_val.MSSubClass.astype('str')\n",
    "X_full.SalePrice = X_full.SalePrice.astype('float64')\n",
    "y_full = X_full.SalePrice\n",
    "X_full.drop('SalePrice', axis=1, inplace=True)"
   ]
  },
  {
   "cell_type": "code",
   "execution_count": 34,
   "metadata": {
    "ExecuteTime": {
     "end_time": "2018-05-05T09:25:11.325538Z",
     "start_time": "2018-05-05T09:25:11.320150Z"
    }
   },
   "outputs": [],
   "source": [
    "#X_full.info()"
   ]
  },
  {
   "cell_type": "code",
   "execution_count": 35,
   "metadata": {
    "ExecuteTime": {
     "end_time": "2018-05-05T09:25:11.342239Z",
     "start_time": "2018-05-05T09:25:11.329542Z"
    }
   },
   "outputs": [
    {
     "data": {
      "text/plain": [
       "True"
      ]
     },
     "execution_count": 35,
     "metadata": {},
     "output_type": "execute_result"
    }
   ],
   "source": [
    "#data.isnull().sum()\n",
    "#newdf = data.select_dtypes(include=[np.number]).columns\n",
    "cat_feat = X_full.dtypes[X_full.dtypes == \"object\"].index.tolist()\n",
    "num_feat = X_full.dtypes[X_full.dtypes != \"object\"].index.tolist()\n",
    "set(X_full.columns) == set(cat_feat + num_feat)"
   ]
  },
  {
   "cell_type": "code",
   "execution_count": 36,
   "metadata": {
    "ExecuteTime": {
     "end_time": "2018-05-05T09:25:11.358143Z",
     "start_time": "2018-05-05T09:25:11.346379Z"
    }
   },
   "outputs": [],
   "source": [
    "#X_full[cat_feat].nunique().sort_values(ascending=False)\n",
    "#X_full.Neighborhood.value_counts()"
   ]
  },
  {
   "cell_type": "code",
   "execution_count": 37,
   "metadata": {
    "ExecuteTime": {
     "end_time": "2018-05-05T09:25:11.444291Z",
     "start_time": "2018-05-05T09:25:11.362867Z"
    }
   },
   "outputs": [],
   "source": [
    "X_full[cat_feat] = X_full[cat_feat].fillna('nan')\n",
    "X_val[cat_feat] = X_val[cat_feat].fillna('nan')"
   ]
  },
  {
   "cell_type": "code",
   "execution_count": 38,
   "metadata": {
    "ExecuteTime": {
     "end_time": "2018-05-05T09:25:11.455404Z",
     "start_time": "2018-05-05T09:25:11.447040Z"
    }
   },
   "outputs": [
    {
     "data": {
      "text/plain": [
       "(1460, 44)"
      ]
     },
     "execution_count": 38,
     "metadata": {},
     "output_type": "execute_result"
    }
   ],
   "source": [
    "X_full[cat_feat].shape"
   ]
  },
  {
   "cell_type": "code",
   "execution_count": 39,
   "metadata": {
    "ExecuteTime": {
     "end_time": "2018-05-05T09:25:11.464191Z",
     "start_time": "2018-05-05T09:25:11.459403Z"
    }
   },
   "outputs": [],
   "source": [
    "#pd.get_dummies(X_full).columns.tolist()"
   ]
  },
  {
   "cell_type": "markdown",
   "metadata": {},
   "source": [
    "После dummy кодирования оставляем только те категориальные  dummy признаки, которые есть как в тренировочном, так и проверочном набрах."
   ]
  },
  {
   "cell_type": "code",
   "execution_count": 40,
   "metadata": {
    "ExecuteTime": {
     "end_time": "2018-05-05T09:25:11.612414Z",
     "start_time": "2018-05-05T09:25:11.468160Z"
    }
   },
   "outputs": [],
   "source": [
    "dummy_full = pd.get_dummies(X_full[cat_feat], columns=cat_feat)\n",
    "dummy_val = pd.get_dummies(X_val[cat_feat], columns=cat_feat)\n",
    "\n",
    "cat_feat = list(set(dummy_full) & set(dummy_val))\n",
    "\n",
    "dummy_full = dummy_full[cat_feat]\n",
    "dummy_val = dummy_val[cat_feat]\n",
    "X_full = pd.concat([X_full[num_feat], dummy_full], axis=1)\n",
    "X_val = pd.concat([X_val[num_feat], dummy_val], axis=1)\n"
   ]
  },
  {
   "cell_type": "code",
   "execution_count": 41,
   "metadata": {
    "ExecuteTime": {
     "end_time": "2018-05-05T09:25:11.624044Z",
     "start_time": "2018-05-05T09:25:11.617587Z"
    }
   },
   "outputs": [
    {
     "data": {
      "text/plain": [
       "((1460, 299), (1459, 299))"
      ]
     },
     "execution_count": 41,
     "metadata": {},
     "output_type": "execute_result"
    }
   ],
   "source": [
    "X_full.shape, X_val.shape"
   ]
  },
  {
   "cell_type": "code",
   "execution_count": 42,
   "metadata": {
    "ExecuteTime": {
     "end_time": "2018-05-05T09:25:11.657003Z",
     "start_time": "2018-05-05T09:25:11.627850Z"
    }
   },
   "outputs": [
    {
     "data": {
      "text/plain": [
       "LotFrontage           259\n",
       "GarageYrBlt            81\n",
       "MasVnrArea              8\n",
       "GarageType_CarPort      0\n",
       "Street_Grvl             0\n",
       "dtype: int64"
      ]
     },
     "execution_count": 42,
     "metadata": {},
     "output_type": "execute_result"
    }
   ],
   "source": [
    "X_full.isnull().sum().sort_values(ascending=False).head()"
   ]
  },
  {
   "cell_type": "markdown",
   "metadata": {},
   "source": [
    "## Базовые модели"
   ]
  },
  {
   "cell_type": "markdown",
   "metadata": {},
   "source": [
    "В качестве базовых моделей будем рассматривать KNeighborsRegressor, линейные модели с разной регуляризацией (Ridge, Lasso, ElasticNet), обычное дерево (DecisionTreeRegressor) и SVR я ядром RBF.\n",
    "Подбор гиперпараметров будем проиводить с помощью GridSearchCV"
   ]
  },
  {
   "cell_type": "code",
   "execution_count": 43,
   "metadata": {
    "ExecuteTime": {
     "end_time": "2018-05-05T09:25:11.672242Z",
     "start_time": "2018-05-05T09:25:11.660104Z"
    }
   },
   "outputs": [],
   "source": [
    "from sklearn.preprocessing import Imputer, StandardScaler\n",
    "from sklearn.model_selection import cross_val_score, train_test_split\n",
    "from sklearn.pipeline import Pipeline#, FeatureUnion\n",
    "#from sklearn.base import BaseEstimator, TransformerMixin\n",
    "from sklearn.model_selection import GridSearchCV\n",
    "from sklearn.svm import SVR\n",
    "from sklearn.linear_model import LinearRegression, Ridge, Lasso, ElasticNet\n",
    "from sklearn.neighbors import KNeighborsRegressor\n",
    "from sklearn.tree import DecisionTreeRegressor\n",
    "from sklearn.ensemble import RandomForestRegressor\n",
    "from sklearn.ensemble import ExtraTreesRegressor\n",
    "from sklearn.ensemble import BaggingRegressor\n",
    "\n",
    "#DataFrameSelector будет использоваться в конвейере для разделения числовых и категориальных признаков\n",
    "#class DataFrameSelector(BaseEstimator):\n",
    "#    \"\"\"\n",
    "#    Create a class to select numerical or categorical columns \n",
    "#    \"\"\"\n",
    "#    def __init__(self, column_names):\n",
    "#        self.column_names = column_names\n",
    "#    def fit(self, X, y=None):\n",
    "#        return self\n",
    "#    def transform(self, X):\n",
    "#        return X[self.column_names].values"
   ]
  },
  {
   "cell_type": "markdown",
   "metadata": {},
   "source": [
    "### Подготовка конвейера"
   ]
  },
  {
   "cell_type": "markdown",
   "metadata": {},
   "source": [
    "Создаем два отдельных конвейра\n",
    "- для моделей, которым требуестя стандартизация числовых признаков prep_imputed_scaled\n",
    "- для моделей, которым стандартизация не требуется prep_imputed (для деревянных моделей)\n",
    "\n",
    "DataFrameSelector используестя для разделения признаков\n",
    "FeatureUnion используется для объединения категориальных и числовх признаков после их параллельной обработки\n"
   ]
  },
  {
   "cell_type": "code",
   "execution_count": 44,
   "metadata": {
    "ExecuteTime": {
     "end_time": "2018-05-05T09:25:11.682291Z",
     "start_time": "2018-05-05T09:25:11.676565Z"
    }
   },
   "outputs": [],
   "source": [
    "#num_imputed_and_scaled = Pipeline([\n",
    "#    ('selector', DataFrameSelector(num_feat)),\n",
    "#    ('imputer', Imputer(strategy='mean')),\n",
    "#    ('scaler', StandardScaler())\n",
    "#])\n",
    "#num_imputed = Pipeline([\n",
    "#    ('selector', DataFrameSelector(num_feat)),\n",
    "#    ('imputer', Imputer(strategy='mean'))\n",
    "#])\n",
    "#cat_untouched = Pipeline([\n",
    "#    ('selector', DataFrameSelector(cat_feat))\n",
    "#])\n",
    "#prep_imputed_scaled = FeatureUnion(transformer_list=[\n",
    "#    ('num_pipe', num_imputed_and_scaled),\n",
    "#    ('cat_pipe', cat_untouched),\n",
    "#])\n",
    "#prep_imputed = FeatureUnion(transformer_list=[\n",
    "#    ('num_pipe', num_imputed),\n",
    "#    ('cat_pipe', cat_untouched),\n",
    "#])"
   ]
  },
  {
   "cell_type": "markdown",
   "metadata": {},
   "source": [
    "Тренировочный набор с kaggle разбиваем на две части 70/30. На второй будем проверять и сравнивать модели."
   ]
  },
  {
   "cell_type": "code",
   "execution_count": 45,
   "metadata": {
    "ExecuteTime": {
     "end_time": "2018-05-05T09:25:11.700267Z",
     "start_time": "2018-05-05T09:25:11.686014Z"
    }
   },
   "outputs": [],
   "source": [
    "X_train, X_test, y_train, y_test = train_test_split(X_full, y_full, test_size=0.30, random_state=42)"
   ]
  },
  {
   "cell_type": "markdown",
   "metadata": {},
   "source": [
    "### Подбор гиперпарамтров"
   ]
  },
  {
   "cell_type": "markdown",
   "metadata": {},
   "source": [
    "#### KNN."
   ]
  },
  {
   "cell_type": "markdown",
   "metadata": {},
   "source": [
    "Проводим поиск по сетке параметров. В конце - лучший средний MSLE на перекрестной проверке, MSLE на тестовом наборе, MSLE на проверочном наборе"
   ]
  },
  {
   "cell_type": "code",
   "execution_count": 46,
   "metadata": {
    "ExecuteTime": {
     "end_time": "2018-05-05T09:25:52.979983Z",
     "start_time": "2018-05-05T09:25:20.153758Z"
    }
   },
   "outputs": [
    {
     "name": "stdout",
     "output_type": "stream",
     "text": [
      "KNeighborsRegressor(algorithm='auto', leaf_size=30, metric='minkowski',\n",
      "          metric_params=None, n_jobs=1, n_neighbors=7, p=2,\n",
      "          weights='uniform')\n",
      "MSLE на cv: 0.04078978615078974\n",
      "MSLE на train: 0.029771319927348286\n",
      "MSLE на test: 0.040192175075626946\n"
     ]
    }
   ],
   "source": [
    "msle_scores = pd.Series()\n",
    "r2_scores = pd.Series()\n",
    "\n",
    "knn_pipe = Pipeline([\n",
    "    ('imputer', Imputer(strategy='mean')),\n",
    "    ('scaler', StandardScaler()),\n",
    "    ('regressor', KNeighborsRegressor())\n",
    "])\n",
    "knn_params = {\n",
    "        'regressor__n_neighbors': [1, 2, 3, 4, 5, 6, 7, 8, 9, 10] \n",
    "}\n",
    "knn_grid = GridSearchCV(knn_pipe, param_grid=knn_params, cv=10, n_jobs=-1, scoring='neg_mean_squared_log_error')\n",
    "knn_grid.fit(X_train, y_train)\n",
    "print(knn_grid.best_estimator_.named_steps['regressor'])\n",
    "print('MSLE на cv: {}'.format(-knn_grid.best_score_))\n",
    "print('MSLE на train: {}'.format(-knn_grid.score(X_train, y_train)))\n",
    "msle_scores['knn_base'] = -knn_grid.score(X_test, y_test)\n",
    "print('MSLE на test: {}'.format(msle_scores['knn_base']))\n"
   ]
  },
  {
   "cell_type": "markdown",
   "metadata": {},
   "source": [
    "#### Линейные модели. "
   ]
  },
  {
   "cell_type": "markdown",
   "metadata": {},
   "source": [
    "Проводим поиск по сетке параметров. Линейные модели не получилось поскорить по MSLE. Здесь и далее для линейных моделей рассчитываем коэффициент детерминации R2. Сравнивать их будем на отдельном графике.\n"
   ]
  },
  {
   "cell_type": "code",
   "execution_count": 47,
   "metadata": {
    "ExecuteTime": {
     "end_time": "2018-05-05T09:27:48.395835Z",
     "start_time": "2018-05-05T09:26:22.311432Z"
    },
    "scrolled": false
   },
   "outputs": [
    {
     "name": "stdout",
     "output_type": "stream",
     "text": [
      "ElasticNet(alpha=10, copy_X=True, fit_intercept=True, l1_ratio=0.9,\n",
      "      max_iter=1000, normalize=False, positive=False, precompute=False,\n",
      "      random_state=None, selection='cyclic', tol=0.0001, warm_start=False)\n",
      "R2 на cv: 0.7961660723873895\n",
      "R2 на train: 0.8789244501188135\n",
      "R2 на test: 0.858980703541694\n"
     ]
    }
   ],
   "source": [
    "line_pipe = Pipeline([\n",
    "    ('imputer', Imputer(strategy='mean')),\n",
    "    ('scaler', StandardScaler()),\n",
    "    ('regressor', Ridge())\n",
    "])\n",
    "line_params = [\n",
    "#    {'regressor': [LinearRegression()]},\n",
    "    {'regressor': [Ridge()], 'regressor__alpha': [0.01, 0.1, 1, 10, 100]},\n",
    "    {'regressor': [Lasso()], 'regressor__alpha': [0.01, 0.1, 1, 10, 100]},\n",
    "    {'regressor': [ElasticNet()], 'regressor__alpha': [0.01, 0.1, 1, 10, 100],\n",
    "     'regressor__l1_ratio': [0.1, 0.2, 0.3, 0.4, 0.5, 0.6, 0.7, 0.8, 0.9]}\n",
    "]\n",
    "line_grid = GridSearchCV(line_pipe, param_grid=line_params, cv=10, n_jobs=-1, scoring='r2')\n",
    "line_grid.fit(X_train, y_train)\n",
    "print(line_grid.best_estimator_.named_steps['regressor'])\n",
    "print('R2 на cv: {}'.format(line_grid.best_score_))\n",
    "print('R2 на train: {}'.format(line_grid.score(X_train, y_train)))\n",
    "r2_scores['line_base'] = line_grid.score(X_test, y_test)\n",
    "print('R2 на test: {}'.format(r2_scores['line_base']))"
   ]
  },
  {
   "cell_type": "markdown",
   "metadata": {},
   "source": [
    "#### Дерево."
   ]
  },
  {
   "cell_type": "markdown",
   "metadata": {},
   "source": [
    "Проводим поиск по сетке параметров. В конце - лучший средний MSLE на перекрестной проверке, MSLE на тестовом наборе, MSLE на проверочном наборе"
   ]
  },
  {
   "cell_type": "code",
   "execution_count": 48,
   "metadata": {
    "ExecuteTime": {
     "end_time": "2018-05-05T09:28:13.959424Z",
     "start_time": "2018-05-05T09:27:49.018132Z"
    }
   },
   "outputs": [
    {
     "name": "stdout",
     "output_type": "stream",
     "text": [
      "DecisionTreeRegressor(criterion='mse', max_depth=8, max_features=0.7,\n",
      "           max_leaf_nodes=None, min_impurity_decrease=0.0,\n",
      "           min_impurity_split=None, min_samples_leaf=1,\n",
      "           min_samples_split=2, min_weight_fraction_leaf=0.0,\n",
      "           presort=False, random_state=42, splitter='best')\n",
      "MSLE на cv: 0.04170247466894774\n",
      "MSLE на train: 0.009538266603715704\n",
      "MSLE на test: 0.04043432645534726\n"
     ]
    }
   ],
   "source": [
    "tree_pipe = Pipeline([\n",
    "    ('imputer', Imputer(strategy='mean')),\n",
    "    ('regressor', DecisionTreeRegressor(random_state=42))\n",
    "])\n",
    "tree_params = {    \n",
    "    'regressor__max_depth': [4, 5, 6, 7, 8, 9, 10, 11, 12],\n",
    "    'regressor__max_features': [0.1, 0.2, 0.3, 0.4, 0.5, 0.6, 0.7, 0.8, 0.9, 1.0]\n",
    "}\n",
    "tree_grid = GridSearchCV(tree_pipe, param_grid=tree_params, cv=10, n_jobs=-1, scoring='neg_mean_squared_log_error')\n",
    "tree_grid.fit(X_train, y_train)\n",
    "print(tree_grid.best_estimator_.named_steps['regressor'])\n",
    "print('MSLE на cv: {}'.format(-tree_grid.best_score_))\n",
    "print('MSLE на train: {}'.format(-tree_grid.score(X_train, y_train)))\n",
    "msle_scores['tree_base'] = -tree_grid.score(X_test, y_test)\n",
    "print('MSLE на test: {}'.format(msle_scores['tree_base']))"
   ]
  },
  {
   "cell_type": "markdown",
   "metadata": {},
   "source": [
    "#### SVM с ядром RBF"
   ]
  },
  {
   "cell_type": "markdown",
   "metadata": {},
   "source": [
    "Проводим поиск по сетке параметров. В конце - лучший средний MSLE на перекрестной проверке, MSLE на тестовом наборе, MSLE на проверочном наборе"
   ]
  },
  {
   "cell_type": "code",
   "execution_count": 49,
   "metadata": {
    "ExecuteTime": {
     "end_time": "2018-05-05T09:29:09.586114Z",
     "start_time": "2018-05-05T09:28:14.529235Z"
    }
   },
   "outputs": [
    {
     "name": "stdout",
     "output_type": "stream",
     "text": [
      "SVR(C=100000, cache_size=200, coef0=0.0, degree=3, epsilon=0.1, gamma=0.001,\n",
      "  kernel='rbf', max_iter=-1, shrinking=True, tol=0.001, verbose=False)\n",
      "MSLE на cv: 0.020337918028051717\n",
      "MSLE на train: 0.006279554438880835\n",
      "MSLE на test: 0.023499863405953433\n"
     ]
    }
   ],
   "source": [
    "svm_pipe = Pipeline([\n",
    "    ('imputer', Imputer(strategy='mean')),\n",
    "    ('scaler', StandardScaler()),\n",
    "    ('regressor', SVR())\n",
    "])\n",
    "svm_params = {    \n",
    "    'regressor__C': [1000, 10000, 100000, 1000000],\n",
    "    'regressor__gamma': [0.0001, 0.001, 0.01]\n",
    "}\n",
    "svm_grid = GridSearchCV(svm_pipe, param_grid=svm_params, cv=10, n_jobs=-1, scoring='neg_mean_squared_log_error')\n",
    "svm_grid.fit(X_train, y_train)\n",
    "print(svm_grid.best_estimator_.named_steps['regressor'])\n",
    "print('MSLE на cv: {}'.format(-svm_grid.best_score_))\n",
    "print('MSLE на train: {}'.format(-svm_grid.score(X_train, y_train)))\n",
    "msle_scores['svm_base'] = -svm_grid.score(X_test, y_test)\n",
    "print('MSLE на test: {}'.format(msle_scores['svm_base']))"
   ]
  },
  {
   "cell_type": "markdown",
   "metadata": {},
   "source": [
    "#### Лучшая базовая модель"
   ]
  },
  {
   "cell_type": "code",
   "execution_count": 50,
   "metadata": {
    "ExecuteTime": {
     "end_time": "2018-05-05T09:29:10.441033Z",
     "start_time": "2018-05-05T09:29:10.180328Z"
    }
   },
   "outputs": [
    {
     "data": {
      "text/plain": [
       "<matplotlib.axes._subplots.AxesSubplot at 0x7fdf4e12bd30>"
      ]
     },
     "execution_count": 50,
     "metadata": {},
     "output_type": "execute_result"
    },
    {
     "data": {
      "image/png": "[encoded data removed]",
      "text/plain": [
       "<Figure size 576x288 with 1 Axes>"
      ]
     },
     "metadata": {},
     "output_type": "display_data"
    }
   ],
   "source": [
    "msle_scores.plot(kind='bar', title = 'Оценка моделей MSLE', figsize=(8,4))\n"
   ]
  },
  {
   "cell_type": "markdown",
   "metadata": {},
   "source": [
    "Предварительно, лучшей моделью из базовых является SVM.\n",
    "На этой модели был сделан один из сабмитов на kaggle"
   ]
  },
  {
   "cell_type": "markdown",
   "metadata": {},
   "source": [
    "### Ансамбли моделей"
   ]
  },
  {
   "cell_type": "markdown",
   "metadata": {},
   "source": [
    "#### Случайный лес"
   ]
  },
  {
   "cell_type": "markdown",
   "metadata": {},
   "source": [
    "Проводим поиск по сетке параметров. В конце - лучший средний MSLE на перекрестной проверке, MSLE на тестовом наборе, MSLE на проверочном наборе"
   ]
  },
  {
   "cell_type": "code",
   "execution_count": 51,
   "metadata": {
    "ExecuteTime": {
     "end_time": "2018-05-05T09:31:06.217442Z",
     "start_time": "2018-05-05T09:29:11.034607Z"
    }
   },
   "outputs": [
    {
     "name": "stdout",
     "output_type": "stream",
     "text": [
      "RandomForestRegressor(bootstrap=True, criterion='mse', max_depth=10,\n",
      "           max_features=0.5, max_leaf_nodes=None,\n",
      "           min_impurity_decrease=0.0, min_impurity_split=None,\n",
      "           min_samples_leaf=15, min_samples_split=2,\n",
      "           min_weight_fraction_leaf=0.0, n_estimators=100, n_jobs=1,\n",
      "           oob_score=False, random_state=None, verbose=0, warm_start=False)\n",
      "MSLE на cv: 0.02782804286326481\n",
      "MSLE на train: 0.020141743370930394\n",
      "MSLE на test: 0.025080042811638763\n"
     ]
    }
   ],
   "source": [
    "rf_pipe = Pipeline([\n",
    "    ('imputer', Imputer(strategy='mean')),\n",
    "    ('regressor', RandomForestRegressor(n_estimators=100, bootstrap=True))\n",
    "])\n",
    "rf_params = {    \n",
    "    'regressor__max_features': [0.5, 0.8, 1.0],\n",
    "    'regressor__max_depth': [10, 15, 20],\n",
    "    'regressor__min_samples_leaf': [15, 20, 25]\n",
    "}\n",
    "rf_grid = GridSearchCV(rf_pipe, param_grid=rf_params, cv=10, n_jobs=-1, scoring='neg_mean_squared_log_error')\n",
    "rf_grid.fit(X_train, y_train)\n",
    "print(rf_grid.best_estimator_.named_steps['regressor'])\n",
    "print('MSLE на cv: {}'.format(-rf_grid.best_score_))\n",
    "print('MSLE на train: {}'.format(-rf_grid.score(X_train, y_train)))\n",
    "msle_scores['rand_forest'] = -rf_grid.score(X_test, y_test)\n",
    "print('MSLE на test: {}'.format(msle_scores['rand_forest']))"
   ]
  },
  {
   "cell_type": "markdown",
   "metadata": {},
   "source": [
    "#### Особо случайный лес"
   ]
  },
  {
   "cell_type": "markdown",
   "metadata": {},
   "source": [
    "Проводим поиск по сетке параметров. В конце - лучший средний MSLE на перекрестной проверке, MSLE на тестовом наборе, MSLE на проверочном наборе.\n",
    "\n",
    "Сетку параметров использовали такую же, как и случайного леса. Особо случайный лес показал точность немного похуже, чем у RandomForestRegressor, но выше скорость работы при подборе параметров."
   ]
  },
  {
   "cell_type": "code",
   "execution_count": 52,
   "metadata": {
    "ExecuteTime": {
     "end_time": "2018-05-05T09:32:32.115290Z",
     "start_time": "2018-05-05T09:31:06.806512Z"
    }
   },
   "outputs": [
    {
     "name": "stdout",
     "output_type": "stream",
     "text": [
      "ExtraTreesRegressor(bootstrap=True, criterion='mse', max_depth=15,\n",
      "          max_features=1.0, max_leaf_nodes=None, min_impurity_decrease=0.0,\n",
      "          min_impurity_split=None, min_samples_leaf=15,\n",
      "          min_samples_split=2, min_weight_fraction_leaf=0.0,\n",
      "          n_estimators=100, n_jobs=1, oob_score=False, random_state=None,\n",
      "          verbose=0, warm_start=False)\n",
      "MSLE на cv: 0.0317421799582393\n",
      "MSLE на train: 0.024730045342563598\n",
      "MSLE на test: 0.031819523750766354\n"
     ]
    }
   ],
   "source": [
    "extree_pipe = Pipeline([\n",
    "    ('imputer', Imputer(strategy='mean')),\n",
    "    ('regressor', ExtraTreesRegressor(n_estimators=100, bootstrap=True))\n",
    "])\n",
    "extree_params = {    \n",
    "    'regressor__max_features': [0.5, 0.8, 1.0],\n",
    "    'regressor__max_depth': [10, 15, 20],\n",
    "    'regressor__min_samples_leaf': [15, 20, 25]\n",
    "}\n",
    "extree_grid = GridSearchCV(extree_pipe, param_grid=extree_params, cv=10, n_jobs=-1, scoring='neg_mean_squared_log_error')\n",
    "extree_grid.fit(X_train, y_train)\n",
    "print(extree_grid.best_estimator_.named_steps['regressor'])\n",
    "print('MSLE на cv: {}'.format(-extree_grid.best_score_))\n",
    "print('MSLE на train: {}'.format(-extree_grid.score(X_train, y_train)))\n",
    "msle_scores['ex_trees'] = -extree_grid.score(X_test, y_test)\n",
    "print('MSLE на test: {}'.format(msle_scores['ex_trees']))"
   ]
  },
  {
   "cell_type": "markdown",
   "metadata": {},
   "source": [
    "Сравним результаты лесов с базовыми моделями"
   ]
  },
  {
   "cell_type": "code",
   "execution_count": 53,
   "metadata": {
    "ExecuteTime": {
     "end_time": "2018-05-05T09:32:32.941402Z",
     "start_time": "2018-05-05T09:32:32.727126Z"
    }
   },
   "outputs": [
    {
     "data": {
      "text/plain": [
       "<matplotlib.axes._subplots.AxesSubplot at 0x7fdf4e042dd8>"
      ]
     },
     "execution_count": 53,
     "metadata": {},
     "output_type": "execute_result"
    },
    {
     "data": {
      "image/png": "[encoded data removed]",
      "text/plain": [
       "<Figure size 576x288 with 1 Axes>"
      ]
     },
     "metadata": {},
     "output_type": "display_data"
    }
   ],
   "source": [
    "msle_scores.plot(kind='bar', title = 'Оценка моделей MSLE', figsize=(8,4))"
   ]
  },
  {
   "cell_type": "markdown",
   "metadata": {},
   "source": [
    "Деревянные ансамбли оказались лучше обычного дерева, но лидером все равно остается SVM"
   ]
  },
  {
   "cell_type": "markdown",
   "metadata": {},
   "source": [
    "#### Оценка важности признаков"
   ]
  },
  {
   "cell_type": "markdown",
   "metadata": {},
   "source": [
    "Важность признаков можно посмотреть по результату RandomForestRegressor. \n",
    "\n",
    "Дополнительно построил важность признаков по Lasso модели (L1-регуляризация), у которой коэффициенты для незначимых признаков будут нулевыми."
   ]
  },
  {
   "cell_type": "code",
   "execution_count": 54,
   "metadata": {
    "ExecuteTime": {
     "end_time": "2018-05-05T09:32:33.787104Z",
     "start_time": "2018-05-05T09:32:33.475655Z"
    }
   },
   "outputs": [
    {
     "data": {
      "text/plain": [
       "<matplotlib.axes._subplots.AxesSubplot at 0x7fdf4dff2470>"
      ]
     },
     "execution_count": 54,
     "metadata": {},
     "output_type": "execute_result"
    },
    {
     "data": {
      "image/png": "[encoded data removed]",
      "text/plain": [
       "<Figure size 576x288 with 1 Axes>"
      ]
     },
     "metadata": {},
     "output_type": "display_data"
    }
   ],
   "source": [
    "imp = pd.Series(rf_grid.best_estimator_.named_steps['regressor'].feature_importances_, index=X_train.columns)\n",
    "imp.sort_values(ascending=False).head(20)[::-1].plot(kind='barh', title='Важность признаков RandomForest',  figsize=(8,4))"
   ]
  },
  {
   "cell_type": "code",
   "execution_count": 55,
   "metadata": {
    "ExecuteTime": {
     "end_time": "2018-05-05T09:32:34.649384Z",
     "start_time": "2018-05-05T09:32:34.330977Z"
    }
   },
   "outputs": [
    {
     "data": {
      "text/plain": [
       "Pipeline(memory=None,\n",
       "     steps=[('imputer', Imputer(axis=0, copy=True, missing_values='NaN', strategy='mean', verbose=0)), ('scaler', StandardScaler(copy=True, with_mean=True, with_std=True)), ('regressor', Lasso(alpha=50, copy_X=True, fit_intercept=True, max_iter=1000,\n",
       "   normalize=False, positive=False, precompute=False, random_state=None,\n",
       "   selection='cyclic', tol=0.0001, warm_start=False))])"
      ]
     },
     "execution_count": 55,
     "metadata": {},
     "output_type": "execute_result"
    }
   ],
   "source": [
    "lasso_pipe = Pipeline([\n",
    "    ('imputer', Imputer(strategy='mean')),\n",
    "    ('scaler', StandardScaler()),\n",
    "    ('regressor', Lasso(alpha=50))\n",
    "])\n",
    "\n",
    "\n",
    "lasso_pipe.fit(X_train, y_train)\n",
    "#print(lasso_pipe.score(X_train, y_train))\n",
    "#print(lasso_pipe.score(X_test, y_test))"
   ]
  },
  {
   "cell_type": "code",
   "execution_count": 56,
   "metadata": {
    "ExecuteTime": {
     "end_time": "2018-05-05T09:32:35.162688Z",
     "start_time": "2018-05-05T09:32:35.157634Z"
    }
   },
   "outputs": [
    {
     "data": {
      "text/plain": [
       "233"
      ]
     },
     "execution_count": 56,
     "metadata": {},
     "output_type": "execute_result"
    }
   ],
   "source": [
    "np.sum(lasso_pipe.named_steps['regressor'].coef_ != 0)"
   ]
  },
  {
   "cell_type": "code",
   "execution_count": 57,
   "metadata": {
    "ExecuteTime": {
     "end_time": "2018-05-05T09:32:36.032114Z",
     "start_time": "2018-05-05T09:32:35.704433Z"
    }
   },
   "outputs": [
    {
     "data": {
      "text/plain": [
       "<matplotlib.axes._subplots.AxesSubplot at 0x7fdf481ab438>"
      ]
     },
     "execution_count": 57,
     "metadata": {},
     "output_type": "execute_result"
    },
    {
     "data": {
      "image/png": "[encoded data removed]",
      "text/plain": [
       "<Figure size 576x288 with 1 Axes>"
      ]
     },
     "metadata": {},
     "output_type": "display_data"
    }
   ],
   "source": [
    "imp_lasso = pd.Series(lasso_pipe.named_steps['regressor'].coef_, index=X_train.columns)\n",
    "imp_lasso = imp_lasso.reindex(imp_lasso.abs().sort_values(ascending=False).index)\n",
    "imp_lasso.head(20)[::-1].plot(kind='barh', title='Важность признаков Lasso',  figsize=(8,4))"
   ]
  },
  {
   "cell_type": "markdown",
   "metadata": {},
   "source": [
    "Дальше можно попробовать базовые модели с автоматическим отбором важных признаков на основе модели случайного леса."
   ]
  },
  {
   "cell_type": "markdown",
   "metadata": {},
   "source": [
    "#### Модели с отбором важных признаков"
   ]
  },
  {
   "cell_type": "markdown",
   "metadata": {},
   "source": [
    "Для всех четырех базовых моделей в конвейер добавляем селектор SelectFromModel с аутоматическим отбором важных признаков случайным лесом. С параметром threshold = 0.01 таких признаков должно быть около 11.\n",
    "Заново проводим поиск параметров и оценку на проверочном наборе"
   ]
  },
  {
   "cell_type": "code",
   "execution_count": 59,
   "metadata": {
    "ExecuteTime": {
     "end_time": "2018-05-05T09:34:37.031078Z",
     "start_time": "2018-05-05T09:34:07.384128Z"
    }
   },
   "outputs": [
    {
     "name": "stdout",
     "output_type": "stream",
     "text": [
      "KNeighborsRegressor(algorithm='auto', leaf_size=30, metric='minkowski',\n",
      "          metric_params=None, n_jobs=1, n_neighbors=10, p=2,\n",
      "          weights='uniform')\n",
      "MSLE на cv: 0.030709090552992875\n",
      "MSLE на train: 0.0241059907286073\n",
      "MSLE на test: 0.027137454982767047\n"
     ]
    }
   ],
   "source": [
    "knn_pipe_selected = Pipeline([\n",
    "    ('imputer', Imputer(strategy='mean')),\n",
    "    ('scaler', StandardScaler()),\n",
    "    ('selector', SelectFromModel(RandomForestRegressor(n_estimators=50, random_state=42),threshold = 0.01)),\n",
    "    ('regressor', KNeighborsRegressor())\n",
    "])\n",
    "knn_params = {\n",
    "        'regressor__n_neighbors': [5, 10, 15, 20] \n",
    "}\n",
    "knn_grid_selected = GridSearchCV(knn_pipe_selected, param_grid=knn_params, cv=10, n_jobs=-1, scoring='neg_mean_squared_log_error')\n",
    "knn_grid_selected.fit(X_train, y_train)\n",
    "print(knn_grid_selected.best_estimator_.named_steps['regressor'])\n",
    "print('MSLE на cv: {}'.format(-knn_grid_selected.best_score_))\n",
    "print('MSLE на train: {}'.format(-knn_grid_selected.score(X_train, y_train)))\n",
    "msle_scores['knn_with_selector'] = -knn_grid_selected.score(X_test, y_test)\n",
    "print('MSLE на test: {}'.format(msle_scores['knn_with_selector']))"
   ]
  },
  {
   "cell_type": "code",
   "execution_count": 60,
   "metadata": {
    "ExecuteTime": {
     "end_time": "2018-05-05T09:37:07.944723Z",
     "start_time": "2018-05-05T09:34:37.596568Z"
    }
   },
   "outputs": [
    {
     "name": "stdout",
     "output_type": "stream",
     "text": [
      "ElasticNet(alpha=1, copy_X=True, fit_intercept=True, l1_ratio=0.9,\n",
      "      max_iter=1000, normalize=False, positive=False, precompute=False,\n",
      "      random_state=None, selection='cyclic', tol=0.0001, warm_start=False)\n",
      "R2 на cv: 0.7570102627755987\n",
      "R2 на train: 0.7869150472566315\n",
      "R2 на test: 0.824923281542329\n"
     ]
    }
   ],
   "source": [
    "line_pipe_selected = Pipeline([\n",
    "    ('imputer', Imputer(strategy='mean')),\n",
    "    ('scaler', StandardScaler()),\n",
    "    ('selector', SelectFromModel(RandomForestRegressor(n_estimators=50, random_state=42),threshold = 0.01)),\n",
    "    ('regressor', LinearRegression())\n",
    "])\n",
    "line_params = [\n",
    "    {'regressor': [LinearRegression()]},\n",
    "    {'regressor': [Ridge()], 'regressor__alpha': [0.1, 1, 10]},\n",
    "    {'regressor': [Lasso()], 'regressor__alpha': [0.1, 1, 10]},\n",
    "    {'regressor': [ElasticNet()], 'regressor__alpha': [0.01, 0.1, 1],\n",
    "     'regressor__l1_ratio': [0.1, 0.3, 0.5, 0.7, 0.9]}\n",
    "]\n",
    "line_grid_selected = GridSearchCV(line_pipe_selected, param_grid=line_params, cv=10, n_jobs=-1, scoring='r2')\n",
    "line_grid_selected.fit(X_train, y_train)\n",
    "print(line_grid_selected.best_estimator_.named_steps['regressor'])\n",
    "print('R2 на cv: {}'.format(line_grid_selected.best_score_))\n",
    "print('R2 на train: {}'.format(line_grid_selected.score(X_train, y_train)))\n",
    "r2_scores['line_with_selector'] = line_grid_selected.score(X_test, y_test)\n",
    "print('R2 на test: {}'.format(r2_scores['line_with_selector']))"
   ]
  },
  {
   "cell_type": "code",
   "execution_count": 61,
   "metadata": {
    "ExecuteTime": {
     "end_time": "2018-05-05T09:38:47.313309Z",
     "start_time": "2018-05-05T09:37:08.527065Z"
    }
   },
   "outputs": [
    {
     "name": "stdout",
     "output_type": "stream",
     "text": [
      "DecisionTreeRegressor(criterion='mse', max_depth=7, max_features=1.0,\n",
      "           max_leaf_nodes=None, min_impurity_decrease=0.0,\n",
      "           min_impurity_split=None, min_samples_leaf=1,\n",
      "           min_samples_split=2, min_weight_fraction_leaf=0.0,\n",
      "           presort=False, random_state=42, splitter='best')\n",
      "MSLE на cv: 0.040523938278500815\n",
      "MSLE на train: 0.01666695256990304\n",
      "MSLE на test: 0.03474558114796175\n"
     ]
    }
   ],
   "source": [
    "tree_pipe_selected = Pipeline([\n",
    "    ('imputer', Imputer(strategy='mean')),\n",
    "    ('selector', SelectFromModel(RandomForestRegressor(n_estimators=50, random_state=42),threshold = 0.01)),\n",
    "    ('regressor', DecisionTreeRegressor(random_state=42))\n",
    "])\n",
    "tree_params = {    \n",
    "    'regressor__max_depth': [5, 7, 9, 11, 13],\n",
    "    'regressor__max_features': [0.8, 0.9, 1.0]\n",
    "}\n",
    "tree_grid_selected = GridSearchCV(tree_pipe_selected, param_grid=tree_params, cv=10, n_jobs=-1, scoring='neg_mean_squared_log_error')\n",
    "tree_grid_selected.fit(X_train, y_train)\n",
    "print(tree_grid_selected.best_estimator_.named_steps['regressor'])\n",
    "print('MSLE на cv: {}'.format(-tree_grid_selected.best_score_))\n",
    "print('MSLE на train: {}'.format(-tree_grid_selected.score(X_train, y_train)))\n",
    "msle_scores['tree_with_selector'] = -tree_grid_selected.score(X_test, y_test)\n",
    "print('MSLE на test: {}'.format(msle_scores['tree_with_selector']))"
   ]
  },
  {
   "cell_type": "code",
   "execution_count": 62,
   "metadata": {
    "ExecuteTime": {
     "end_time": "2018-05-05T09:38:57.793449Z",
     "start_time": "2018-05-05T09:38:47.989011Z"
    }
   },
   "outputs": [
    {
     "name": "stdout",
     "output_type": "stream",
     "text": [
      "SVR(C=100000, cache_size=200, coef0=0.0, degree=3, epsilon=0.1, gamma=0.01,\n",
      "  kernel='rbf', max_iter=-1, shrinking=True, tol=0.001, verbose=False)\n",
      "MSLE на cv: 0.024319410000140537\n",
      "MSLE на train: 0.02109534562021916\n",
      "MSLE на test: 0.023618215220263045\n"
     ]
    }
   ],
   "source": [
    "svm_pipe_selected = Pipeline([\n",
    "    ('imputer', Imputer(strategy='mean')),\n",
    "    ('scaler', StandardScaler()),\n",
    "    ('selector', SelectFromModel(RandomForestRegressor(n_estimators=50, random_state=555),threshold = 0.01)),\n",
    "    ('regressor', SVR())\n",
    "])\n",
    "svm_params = {    \n",
    "    'regressor__C': [100000],\n",
    "    'regressor__gamma': [ 0.01]\n",
    "}\n",
    "svm_grid_selected = GridSearchCV(svm_pipe_selected, param_grid=svm_params, cv=10, n_jobs=-1, scoring='neg_mean_squared_log_error')\n",
    "svm_grid_selected.fit(X_train, y_train)\n",
    "print(svm_grid_selected.best_estimator_.named_steps['regressor'])\n",
    "print('MSLE на cv: {}'.format(-svm_grid_selected.best_score_))\n",
    "print('MSLE на train: {}'.format(-svm_grid_selected.score(X_train, y_train)))\n",
    "msle_scores['svm_with_selector'] = -svm_grid_selected.score(X_test, y_test)\n",
    "print('MSLE на test: {}'.format(msle_scores['svm_with_selector']))"
   ]
  },
  {
   "cell_type": "markdown",
   "metadata": {},
   "source": [
    "Еще раз сравниваем оценки моделей."
   ]
  },
  {
   "cell_type": "code",
   "execution_count": 63,
   "metadata": {
    "ExecuteTime": {
     "end_time": "2018-05-05T09:38:58.707448Z",
     "start_time": "2018-05-05T09:38:58.452117Z"
    }
   },
   "outputs": [
    {
     "data": {
      "text/plain": [
       "<matplotlib.axes._subplots.AxesSubplot at 0x7fdf48108780>"
      ]
     },
     "execution_count": 63,
     "metadata": {},
     "output_type": "execute_result"
    },
    {
     "data": {
      "image/png": "[encoded data removed]",
      "text/plain": [
       "<Figure size 576x288 with 1 Axes>"
      ]
     },
     "metadata": {},
     "output_type": "display_data"
    }
   ],
   "source": [
    "msle_scores.plot(kind='bar', title = 'Оценка моделей MSLE', figsize=(8,4))"
   ]
  },
  {
   "cell_type": "code",
   "execution_count": 64,
   "metadata": {
    "ExecuteTime": {
     "end_time": "2018-05-05T09:38:59.509544Z",
     "start_time": "2018-05-05T09:38:59.340694Z"
    }
   },
   "outputs": [
    {
     "data": {
      "text/plain": [
       "<matplotlib.axes._subplots.AxesSubplot at 0x7fdf480d3710>"
      ]
     },
     "execution_count": 64,
     "metadata": {},
     "output_type": "execute_result"
    },
    {
     "data": {
      "image/png": "[encoded data removed]",
      "text/plain": [
       "<Figure size 576x288 with 1 Axes>"
      ]
     },
     "metadata": {},
     "output_type": "display_data"
    }
   ],
   "source": [
    "\n",
    "r2_scores.plot(kind='bar', title = 'Оценка линейных моделей R2', figsize=(8,4))"
   ]
  },
  {
   "cell_type": "markdown",
   "metadata": {},
   "source": [
    "Видно, что отбор важных признаков позволил улучшить все базовые модели, кроме SVM."
   ]
  },
  {
   "cell_type": "markdown",
   "metadata": {},
   "source": [
    "#### Бэггинг"
   ]
  },
  {
   "cell_type": "markdown",
   "metadata": {},
   "source": [
    "На базовых моделях с оптимальными параметрами проводим бэггинг. Результаты сравним на графике в конце."
   ]
  },
  {
   "cell_type": "code",
   "execution_count": 66,
   "metadata": {
    "ExecuteTime": {
     "end_time": "2018-05-05T09:39:47.938047Z",
     "start_time": "2018-05-05T09:39:47.930938Z"
    }
   },
   "outputs": [
    {
     "data": {
      "text/plain": [
       "Pipeline(memory=None,\n",
       "     steps=[('imputer', Imputer(axis=0, copy=True, missing_values='NaN', strategy='mean', verbose=0)), ('scaler', StandardScaler(copy=True, with_mean=True, with_std=True)), ('regressor', KNeighborsRegressor(algorithm='auto', leaf_size=30, metric='minkowski',\n",
       "          metric_params=None, n_jobs=1, n_neighbors=7, p=2,\n",
       "          weights='uniform'))])"
      ]
     },
     "execution_count": 66,
     "metadata": {},
     "output_type": "execute_result"
    }
   ],
   "source": [
    "knn_grid.best_estimator_"
   ]
  },
  {
   "cell_type": "code",
   "execution_count": 83,
   "metadata": {
    "ExecuteTime": {
     "end_time": "2018-05-05T10:14:53.004961Z",
     "start_time": "2018-05-05T10:06:45.507580Z"
    }
   },
   "outputs": [
    {
     "name": "stdout",
     "output_type": "stream",
     "text": [
      "BaggingRegressor(base_estimator=KNeighborsRegressor(algorithm='auto', leaf_size=30, metric='minkowski',\n",
      "          metric_params=None, n_jobs=1, n_neighbors=7, p=2,\n",
      "          weights='uniform'),\n",
      "         bootstrap=True, bootstrap_features=False, max_features=1.0,\n",
      "         max_samples=1.0, n_estimators=30, n_jobs=1, oob_score=False,\n",
      "         random_state=42, verbose=0, warm_start=False)\n",
      "MSLE на cv: 0.04020695532392238\n",
      "MSLE на train: 0.02918489888944249\n",
      "MSLE на test: 0.03950263653107912\n"
     ]
    }
   ],
   "source": [
    "knn_bag = Pipeline([\n",
    "    ('imputer', Imputer(strategy='mean')),\n",
    "    ('scaler', StandardScaler()),\n",
    "#    ('selector', SelectFromModel(RandomForestRegressor(n_estimators=100, random_state=42),threshold = 0.01)),\n",
    "    ('regressor', BaggingRegressor(n_estimators=20, \n",
    "                                   base_estimator=knn_grid.best_estimator_.named_steps['regressor'], \n",
    "                                   random_state=42, \n",
    "                                   oob_score=False))\n",
    "])\n",
    "knn_bag_params = {    \n",
    "    'regressor__n_estimators': [20, 30, 40],\n",
    "}\n",
    "knn_bag_grid = GridSearchCV(knn_bag, param_grid=knn_bag_params, cv=10, n_jobs=-1, scoring='neg_mean_squared_log_error')\n",
    "knn_bag_grid.fit(X_train, y_train)\n",
    "print(knn_bag_grid.best_estimator_.named_steps['regressor'])\n",
    "print('MSLE на cv: {}'.format(-knn_bag_grid.best_score_))\n",
    "print('MSLE на train: {}'.format(-knn_bag_grid.score(X_train, y_train)))\n",
    "msle_scores['knn_bagging'] = -knn_bag_grid.score(X_test, y_test)\n",
    "print('MSLE на test: {}'.format(msle_scores['knn_bagging']))"
   ]
  },
  {
   "cell_type": "code",
   "execution_count": 82,
   "metadata": {
    "ExecuteTime": {
     "end_time": "2018-05-05T10:06:44.780100Z",
     "start_time": "2018-05-05T10:05:41.865258Z"
    }
   },
   "outputs": [
    {
     "name": "stdout",
     "output_type": "stream",
     "text": [
      "BaggingRegressor(base_estimator=ElasticNet(alpha=10, copy_X=True, fit_intercept=True, l1_ratio=0.9,\n",
      "      max_iter=1000, normalize=False, positive=False, precompute=False,\n",
      "      random_state=None, selection='cyclic', tol=0.0001, warm_start=False),\n",
      "         bootstrap=True, bootstrap_features=False, max_features=1.0,\n",
      "         max_samples=1.0, n_estimators=40, n_jobs=1, oob_score=False,\n",
      "         random_state=42, verbose=0, warm_start=False)\n",
      "R2 на cv: 0.8077733632761828\n",
      "R2 на train: 0.8718113926663593\n",
      "R2 на test: 0.8603440021313571\n"
     ]
    }
   ],
   "source": [
    "line_bag = Pipeline([\n",
    "    ('imputer', Imputer(strategy='mean')),\n",
    "    ('scaler', StandardScaler()),\n",
    "#    ('selector', SelectFromModel(RandomForestRegressor(n_estimators=100, random_state=42),threshold = 0.01)),\n",
    "    ('regressor', BaggingRegressor(n_estimators=20, \n",
    "                                   base_estimator=line_grid.best_estimator_.named_steps['regressor'], \n",
    "                                   random_state=42, \n",
    "                                   oob_score=False))\n",
    "])\n",
    "line_bag_params = {    \n",
    "    'regressor__n_estimators': [20, 30, 40, 50],\n",
    "}\n",
    "line_bag_grid = GridSearchCV(line_bag, param_grid=line_bag_params, cv=10, n_jobs=-1, scoring='r2')\n",
    "line_bag_grid.fit(X_train, y_train)\n",
    "print(line_bag_grid.best_estimator_.named_steps['regressor'])\n",
    "print('R2 на cv: {}'.format(line_bag_grid.best_score_))\n",
    "print('R2 на train: {}'.format(line_bag_grid.score(X_train, y_train)))\n",
    "r2_scores['line_bagging'] = line_bag_grid.score(X_test, y_test)\n",
    "print('R2 на test: {}'.format(r2_scores['line_bagging']))"
   ]
  },
  {
   "cell_type": "code",
   "execution_count": 69,
   "metadata": {
    "ExecuteTime": {
     "end_time": "2018-05-05T09:56:20.592529Z",
     "start_time": "2018-05-05T09:56:00.673577Z"
    }
   },
   "outputs": [
    {
     "name": "stdout",
     "output_type": "stream",
     "text": [
      "BaggingRegressor(base_estimator=DecisionTreeRegressor(criterion='mse', max_depth=8, max_features=0.7,\n",
      "           max_leaf_nodes=None, min_impurity_decrease=0.0,\n",
      "           min_impurity_split=None, min_samples_leaf=1,\n",
      "           min_samples_split=2, min_weight_fraction_leaf=0.0,\n",
      "           presort=False, random_state=42, splitter='best'),\n",
      "         bootstrap=True, bootstrap_features=False, max_features=1.0,\n",
      "         max_samples=1.0, n_estimators=100, n_jobs=1, oob_score=False,\n",
      "         random_state=42, verbose=0, warm_start=False)\n",
      "MSLE на cv: 0.02435569301311809\n",
      "MSLE на train: 0.006941373619118419\n",
      "MSLE на test: 0.02134696459083353\n"
     ]
    }
   ],
   "source": [
    "tree_bag = Pipeline([\n",
    "    ('imputer', Imputer(strategy='mean')),\n",
    "#    ('selector', SelectFromModel(RandomForestRegressor(n_estimators=100, random_state=42),threshold = 0.01)),\n",
    "    ('regressor', BaggingRegressor(n_estimators=20, \n",
    "                                   base_estimator=tree_grid.best_estimator_.named_steps['regressor'], \n",
    "                                   random_state=42, \n",
    "                                   oob_score=False))\n",
    "])\n",
    "tree_bag_params = {    \n",
    "    'regressor__n_estimators': [20, 30, 40, 50, 100],\n",
    "}\n",
    "tree_bag_grid = GridSearchCV(tree_bag, param_grid=tree_bag_params, cv=10, n_jobs=-1, scoring='neg_mean_squared_log_error')\n",
    "tree_bag_grid.fit(X_train, y_train)\n",
    "print(tree_bag_grid.best_estimator_.named_steps['regressor'])\n",
    "print('MSLE на cv: {}'.format(-tree_bag_grid.best_score_))\n",
    "print('MSLE на train: {}'.format(-tree_bag_grid.score(X_train, y_train)))\n",
    "msle_scores['tree_bagging'] = -tree_bag_grid.score(X_test, y_test)\n",
    "print('MSLE на test: {}'.format(msle_scores['tree_bagging']))"
   ]
  },
  {
   "cell_type": "code",
   "execution_count": 70,
   "metadata": {
    "ExecuteTime": {
     "end_time": "2018-05-05T10:02:06.416493Z",
     "start_time": "2018-05-05T09:56:21.198551Z"
    }
   },
   "outputs": [
    {
     "name": "stdout",
     "output_type": "stream",
     "text": [
      "BaggingRegressor(base_estimator=SVR(C=100000, cache_size=200, coef0=0.0, degree=3, epsilon=0.1, gamma=0.001,\n",
      "  kernel='rbf', max_iter=-1, shrinking=True, tol=0.001, verbose=False),\n",
      "         bootstrap=True, bootstrap_features=False, max_features=1.0,\n",
      "         max_samples=1.0, n_estimators=40, n_jobs=1, oob_score=False,\n",
      "         random_state=42, verbose=0, warm_start=False)\n",
      "MSLE на cv: 0.021251131366954515\n",
      "MSLE на train: 0.008288089128413001\n",
      "MSLE на test: 0.025244113005607766\n"
     ]
    }
   ],
   "source": [
    "svm_bag = Pipeline([\n",
    "    ('imputer', Imputer(strategy='mean')),\n",
    "    ('scaler', StandardScaler()),\n",
    "    ('regressor', BaggingRegressor(n_estimators=20, \n",
    "                                   base_estimator=svm_grid.best_estimator_.named_steps['regressor'], \n",
    "                                   random_state=42, \n",
    "                                   oob_score=False))\n",
    "])\n",
    "svm_bag_params = {    \n",
    "    'regressor__n_estimators': [20, 30, 40, 50],\n",
    "}\n",
    "svm_bag_grid = GridSearchCV(svm_bag, param_grid=svm_bag_params, cv=10, n_jobs=-1, scoring='neg_mean_squared_log_error')\n",
    "svm_bag_grid.fit(X_train, y_train)\n",
    "print(svm_bag_grid.best_estimator_.named_steps['regressor'])\n",
    "print('MSLE на cv: {}'.format(-svm_bag_grid.best_score_))\n",
    "print('MSLE на train: {}'.format(-svm_bag_grid.score(X_train, y_train)))\n",
    "msle_scores['svm_bagging'] = -svm_bag_grid.score(X_test, y_test)\n",
    "print('MSLE на test: {}'.format(msle_scores['svm_bagging']))"
   ]
  },
  {
   "cell_type": "markdown",
   "metadata": {},
   "source": [
    "Снова взглянем на графики."
   ]
  },
  {
   "cell_type": "code",
   "execution_count": 85,
   "metadata": {
    "ExecuteTime": {
     "end_time": "2018-05-05T10:15:27.744627Z",
     "start_time": "2018-05-05T10:15:27.424148Z"
    }
   },
   "outputs": [
    {
     "data": {
      "text/plain": [
       "<matplotlib.axes._subplots.AxesSubplot at 0x7fdf49b5da90>"
      ]
     },
     "execution_count": 85,
     "metadata": {},
     "output_type": "execute_result"
    },
    {
     "data": {
      "image/png": "[encoded data removed]",
      "text/plain": [
       "<Figure size 576x288 with 1 Axes>"
      ]
     },
     "metadata": {},
     "output_type": "display_data"
    }
   ],
   "source": [
    "msle_scores.plot(kind='bar', title = 'Оценка моделей MSLE', figsize=(8,4))"
   ]
  },
  {
   "cell_type": "code",
   "execution_count": 86,
   "metadata": {
    "ExecuteTime": {
     "end_time": "2018-05-05T10:17:14.977239Z",
     "start_time": "2018-05-05T10:17:14.811818Z"
    }
   },
   "outputs": [
    {
     "data": {
      "text/plain": [
       "<matplotlib.axes._subplots.AxesSubplot at 0x7fdf3bf0cda0>"
      ]
     },
     "execution_count": 86,
     "metadata": {},
     "output_type": "execute_result"
    },
    {
     "data": {
      "image/png": "[encoded data removed]",
      "text/plain": [
       "<Figure size 576x288 with 1 Axes>"
      ]
     },
     "metadata": {},
     "output_type": "display_data"
    }
   ],
   "source": [
    "r2_scores.plot(kind='bar', title = 'Оценка линейных моделей R2', figsize=(8,4))"
   ]
  },
  {
   "cell_type": "markdown",
   "metadata": {},
   "source": [
    "Бэггинг улучшил все базовые модели. Но KNN с отобранный набором признаков улучшить не удалось"
   ]
  },
  {
   "cell_type": "markdown",
   "metadata": {},
   "source": [
    "#### Стэкинг"
   ]
  },
  {
   "cell_type": "markdown",
   "metadata": {},
   "source": [
    "Строим два стекинга с разными мета моделями на втором уровне - регуляризованная линейная модель и случайный лес.\n",
    "В первом уровне используем три из четырех базовых моделей с оптимальными параметрами."
   ]
  },
  {
   "cell_type": "code",
   "execution_count": 73,
   "metadata": {
    "ExecuteTime": {
     "end_time": "2018-05-05T10:02:08.968250Z",
     "start_time": "2018-05-05T10:02:08.960284Z"
    }
   },
   "outputs": [],
   "source": [
    "def get_meta_features(clf, X_train, y_train, X_test, stack_cv):\n",
    "    meta_train = np.zeros_like(X_train.index, dtype=float)\n",
    "    meta_test = np.zeros_like(X_test.index, dtype=float)\n",
    "    clf_pipe = Pipeline([\n",
    "        ('imputer', Imputer(strategy='mean')),\n",
    "        ('scaler', StandardScaler()),\n",
    "        ('regressor', clf)\n",
    "    ])\n",
    "    for train_ind, test_ind in stack_cv.split(X_train, y_train):\n",
    "        clf_pipe.fit(X_train.iloc[train_ind], y_train.iloc[train_ind])\n",
    "        meta_train[test_ind] = clf_pipe.predict(X_train.iloc[test_ind])\n",
    "        meta_test += clf_pipe.predict(X_test)\n",
    "    return meta_train, meta_test / stack_cv.n_splits\n"
   ]
  },
  {
   "cell_type": "markdown",
   "metadata": {},
   "source": [
    "##### Level-1 модели"
   ]
  },
  {
   "cell_type": "code",
   "execution_count": 74,
   "metadata": {
    "ExecuteTime": {
     "end_time": "2018-05-05T10:02:27.058387Z",
     "start_time": "2018-05-05T10:02:09.553080Z"
    }
   },
   "outputs": [
    {
     "name": "stdout",
     "output_type": "stream",
     "text": [
      "KNN features...\n",
      "SVM features...\n",
      "LR features...\n",
      "RF features...\n"
     ]
    }
   ],
   "source": [
    "from sklearn.model_selection import KFold\n",
    "stack_cv = KFold(n_splits=10, shuffle=True, random_state=555)\n",
    "\n",
    "#X_meta_train = X_train[num_feat]\n",
    "#X_meta_test = X_test[num_feat]\n",
    "X_meta_train = pd.DataFrame(index=X_train.index)\n",
    "X_meta_test = pd.DataFrame(index=X_test.index)\n",
    "\n",
    "print('KNN features...')\n",
    "meta_tr, meta_te = get_meta_features(knn_grid.best_estimator_.named_steps['regressor'], \n",
    "                                     X_train, y_train, X_test, stack_cv)\n",
    "X_meta_train['knn_pred'] = meta_tr\n",
    "X_meta_test['knn_pred'] = meta_te\n",
    "\n",
    "print('SVM features...')\n",
    "meta_tr, meta_te = get_meta_features(svm_grid.best_estimator_.named_steps['regressor'], \n",
    "                                     X_train, y_train, X_test, stack_cv)\n",
    "X_meta_train['svm_pred'] = meta_tr\n",
    "X_meta_test['svm_pred'] = meta_te\n",
    "\n",
    "print('LR features...')\n",
    "meta_tr, meta_te = get_meta_features(line_grid.best_estimator_.named_steps['regressor'], \n",
    "                                     X_train, y_train, X_test, stack_cv)\n",
    "X_meta_train['lr_pred'] = meta_tr\n",
    "X_meta_test['lr_pred'] = meta_te\n",
    "\n",
    "print('RF features...')\n",
    "meta_tr, meta_te = get_meta_features(rf_grid.best_estimator_.named_steps['regressor'], \n",
    "                                     X_train, y_train, X_test, stack_cv)\n",
    "X_meta_train['rf_pred'] = meta_tr\n",
    "X_meta_test['rf_pred'] = meta_te"
   ]
  },
  {
   "cell_type": "code",
   "execution_count": 75,
   "metadata": {
    "ExecuteTime": {
     "end_time": "2018-05-05T10:02:28.029066Z",
     "start_time": "2018-05-05T10:02:27.899324Z"
    }
   },
   "outputs": [
    {
     "data": {
      "text/html": [
       "<div>\n",
       "<style scoped>\n",
       "    .dataframe tbody tr th:only-of-type {\n",
       "        vertical-align: middle;\n",
       "    }\n",
       "\n",
       "    .dataframe tbody tr th {\n",
       "        vertical-align: top;\n",
       "    }\n",
       "\n",
       "    .dataframe thead th {\n",
       "        text-align: right;\n",
       "    }\n",
       "</style>\n",
       "<table border=\"1\" class=\"dataframe\">\n",
       "  <thead>\n",
       "    <tr style=\"text-align: right;\">\n",
       "      <th></th>\n",
       "      <th>count</th>\n",
       "      <th>mean</th>\n",
       "      <th>std</th>\n",
       "      <th>min</th>\n",
       "      <th>25%</th>\n",
       "      <th>50%</th>\n",
       "      <th>75%</th>\n",
       "      <th>max</th>\n",
       "    </tr>\n",
       "  </thead>\n",
       "  <tbody>\n",
       "    <tr>\n",
       "      <th>knn_pred</th>\n",
       "      <td>1022.0</td>\n",
       "      <td>174193.133212</td>\n",
       "      <td>57780.143862</td>\n",
       "      <td>81628.571429</td>\n",
       "      <td>132176.785714</td>\n",
       "      <td>160791.785714</td>\n",
       "      <td>202964.285714</td>\n",
       "      <td>450929.000000</td>\n",
       "    </tr>\n",
       "    <tr>\n",
       "      <th>svm_pred</th>\n",
       "      <td>1022.0</td>\n",
       "      <td>179111.263341</td>\n",
       "      <td>64582.905496</td>\n",
       "      <td>51974.855475</td>\n",
       "      <td>132112.934579</td>\n",
       "      <td>166809.749395</td>\n",
       "      <td>215679.372763</td>\n",
       "      <td>417447.728929</td>\n",
       "    </tr>\n",
       "    <tr>\n",
       "      <th>lr_pred</th>\n",
       "      <td>1022.0</td>\n",
       "      <td>181337.431481</td>\n",
       "      <td>66489.450374</td>\n",
       "      <td>20438.055027</td>\n",
       "      <td>134055.128937</td>\n",
       "      <td>171326.621453</td>\n",
       "      <td>217620.953841</td>\n",
       "      <td>659745.598517</td>\n",
       "    </tr>\n",
       "    <tr>\n",
       "      <th>rf_pred</th>\n",
       "      <td>1022.0</td>\n",
       "      <td>181460.582801</td>\n",
       "      <td>62452.293494</td>\n",
       "      <td>85465.110350</td>\n",
       "      <td>134790.623532</td>\n",
       "      <td>167395.943488</td>\n",
       "      <td>211952.229936</td>\n",
       "      <td>392792.502718</td>\n",
       "    </tr>\n",
       "  </tbody>\n",
       "</table>\n",
       "</div>"
      ],
      "text/plain": [
       "           count           mean           std           min            25%  \\\n",
       "knn_pred  1022.0  174193.133212  57780.143862  81628.571429  132176.785714   \n",
       "svm_pred  1022.0  179111.263341  64582.905496  51974.855475  132112.934579   \n",
       "lr_pred   1022.0  181337.431481  66489.450374  20438.055027  134055.128937   \n",
       "rf_pred   1022.0  181460.582801  62452.293494  85465.110350  134790.623532   \n",
       "\n",
       "                    50%            75%            max  \n",
       "knn_pred  160791.785714  202964.285714  450929.000000  \n",
       "svm_pred  166809.749395  215679.372763  417447.728929  \n",
       "lr_pred   171326.621453  217620.953841  659745.598517  \n",
       "rf_pred   167395.943488  211952.229936  392792.502718  "
      ]
     },
     "execution_count": 75,
     "metadata": {},
     "output_type": "execute_result"
    }
   ],
   "source": [
    "X_meta_train.describe().T"
   ]
  },
  {
   "cell_type": "code",
   "execution_count": 76,
   "metadata": {
    "ExecuteTime": {
     "end_time": "2018-05-05T10:02:28.758253Z",
     "start_time": "2018-05-05T10:02:28.753374Z"
    }
   },
   "outputs": [
    {
     "data": {
      "text/plain": [
       "((1022, 4), (438, 4))"
      ]
     },
     "execution_count": 76,
     "metadata": {},
     "output_type": "execute_result"
    }
   ],
   "source": [
    "X_meta_train.shape, X_meta_test.shape"
   ]
  },
  {
   "cell_type": "markdown",
   "metadata": {},
   "source": [
    "##### Level-2 модели"
   ]
  },
  {
   "cell_type": "code",
   "execution_count": null,
   "metadata": {
    "ExecuteTime": {
     "end_time": "2018-05-05T10:14:53.765310Z",
     "start_time": "2018-05-05T10:09:44.438Z"
    }
   },
   "outputs": [],
   "source": [
    "#meta_feat_lr = ['knn_pred', 'svm_pred', 'rf_pred', 'lr_pred']\n",
    "level2_lr = Pipeline([\n",
    "    ('imputer', Imputer(strategy='mean')),\n",
    "    ('scaler', StandardScaler()),\n",
    "    ('regressor', Ridge())\n",
    "])\n",
    "level2_lr_params = [\n",
    "    {'regressor': [Ridge()], 'regressor__alpha': [0.01, 0.1, 1, 10, 100]},\n",
    "    {'regressor': [Lasso()], 'regressor__alpha': [0.01, 0.1, 1, 10, 100]},\n",
    "    {'regressor': [ElasticNet()], 'regressor__alpha': [0.01, 0.1, 1, 10, 100],\n",
    "     'regressor__l1_ratio': [0.1, 0.2, 0.3, 0.4, 0.5, 0.6, 0.7, 0.8, 0.9]}\n",
    "]\n",
    "level2_lr_grid = GridSearchCV(level2_lr, param_grid=level2_lr_params, cv=10, n_jobs=-1, scoring='neg_mean_squared_log_error')\n",
    "level2_lr_grid.fit(X_meta_train, y_train)\n",
    "print(level2_lr_grid.best_estimator_.named_steps['regressor'])\n",
    "print('MSLE на cv: {}'.format(-level2_lr_grid.best_score_))\n",
    "print('MSLE на train: {}'.format(-level2_lr_grid.score(X_meta_train[meta_feat_lr], y_train)))\n",
    "msle_scores['l2_line_stacking'] = -level2_lr_grid.score(X_meta_test[meta_feat_lr], y_test)\n",
    "print('MSLE на test: {}'.format(msle_scores['l2_line_stacking']))"
   ]
  },
  {
   "cell_type": "code",
   "execution_count": null,
   "metadata": {
    "ExecuteTime": {
     "end_time": "2018-05-05T10:14:53.771232Z",
     "start_time": "2018-05-05T10:10:02.660Z"
    }
   },
   "outputs": [],
   "source": [
    "#meta_feat_lr = ['knn_pred', 'svm_pred', 'rf_pred', 'lr_pred']\n",
    "level2_rf = Pipeline([\n",
    "    ('imputer', Imputer(strategy='mean')),\n",
    "#    ('scaler', StandardScaler()),\n",
    "    ('regressor', RandomForestRegressor())\n",
    "])\n",
    "level2_rf_params = [\n",
    "    {'regressor': [RandomForestRegressor()], \n",
    "     'regressor__n_estimators': [50, 100, 150, 200],\n",
    "     'regressor__max_features': [0.5, 0.8, 1.0],\n",
    "     'regressor__max_depth': [10, 15, 20],\n",
    "     'regressor__min_samples_leaf': [15, 20, 25]}\n",
    "]\n",
    "level2_rf_grid = GridSearchCV(level2_rf, param_grid=level2_rf_params, cv=10, n_jobs=-1, scoring='neg_mean_squared_log_error')\n",
    "level2_rf_grid.fit(X_meta_train, y_train)\n",
    "print(level2_rf_grid.best_estimator_.named_steps['regressor'])\n",
    "print('MSLE на cv: {}'.format(-level2_rf_grid.best_score_))\n",
    "print('MSLE на train: {}'.format(-level2_rf_grid.score(X_meta_train[meta_feat_rf], y_train)))\n",
    "msle_scores['l2_forest_stacking'] = -level2_rf_grid.score(X_meta_test[meta_feat_rf], y_test)\n",
    "print('MSLE на test: {}'.format(msle_scores['l2_forest_stacking']))"
   ]
  },
  {
   "cell_type": "markdown",
   "metadata": {},
   "source": [
    "#### Итог. Лучшая модель"
   ]
  },
  {
   "cell_type": "markdown",
   "metadata": {},
   "source": [
    "На локальной валидации лучший результат показал стекинг с линейной мета моделью.\n",
    "На втором и третьем месте бэггинг SVM и базовый SVM.\n",
    "Сделал три сабмита на kaggle предсказаний на основе этих трех моделей.\n",
    "Неожиданно, но на kaggle learedboard наилучший результат оказался у бэггинга SVM (1334 место в общем зачете), даже выше стекинга."
   ]
  },
  {
   "cell_type": "code",
   "execution_count": 79,
   "metadata": {
    "ExecuteTime": {
     "end_time": "2018-05-05T10:04:54.552043Z",
     "start_time": "2018-05-05T10:04:54.299796Z"
    }
   },
   "outputs": [
    {
     "data": {
      "text/plain": [
       "<matplotlib.axes._subplots.AxesSubplot at 0x7fdf35dc3be0>"
      ]
     },
     "execution_count": 79,
     "metadata": {},
     "output_type": "execute_result"
    },
    {
     "data": {
      "image/png": "[encoded data removed]",
      "text/plain": [
       "<Figure size 576x288 with 1 Axes>"
      ]
     },
     "metadata": {},
     "output_type": "display_data"
    }
   ],
   "source": [
    "msle_scores.plot(kind='bar', title = 'Оценка моделей MSLE', figsize=(8,4))"
   ]
  },
  {
   "cell_type": "markdown",
   "metadata": {},
   "source": [
    "### Сабмит на Kaggle"
   ]
  },
  {
   "cell_type": "markdown",
   "metadata": {},
   "source": [
    "Проводим обучение лучшей стекинг модели на всем тренировочном наборе с kaggle и делаем предсказания на проверочно X_val"
   ]
  },
  {
   "cell_type": "code",
   "execution_count": 89,
   "metadata": {
    "ExecuteTime": {
     "end_time": "2018-05-05T10:20:41.116435Z",
     "start_time": "2018-05-05T10:19:50.048444Z"
    }
   },
   "outputs": [
    {
     "name": "stdout",
     "output_type": "stream",
     "text": [
      "KNN features...\n",
      "SVM features...\n",
      "LR features...\n",
      "RF features...\n",
      "ElasticNet(alpha=0.1, copy_X=True, fit_intercept=True, l1_ratio=0.3,\n",
      "      max_iter=1000, normalize=False, positive=False, precompute=False,\n",
      "      random_state=None, selection='cyclic', tol=0.0001, warm_start=False)\n",
      "MSLE на cv: 0.016825509785955563\n",
      "MSLE на val: 0.016560031149652227\n"
     ]
    }
   ],
   "source": [
    "stack_cv = KFold(n_splits=10, shuffle=True, random_state=555)\n",
    "\n",
    "#X_meta_train = X_full[num_feat]\n",
    "#X_meta_test = X_val[num_feat]\n",
    "X_meta_train = pd.DataFrame(index=X_full.index)\n",
    "X_meta_test = pd.DataFrame(index=X_val.index)\n",
    "\n",
    "print('KNN features...')\n",
    "meta_tr, meta_te = get_meta_features(knn_grid.best_estimator_.named_steps['regressor'],\n",
    "                                     X_full, y_full, X_val, stack_cv)\n",
    "X_meta_train['knn_pred'] = meta_tr\n",
    "X_meta_test['knn_pred'] = meta_te\n",
    "\n",
    "print('SVM features...')\n",
    "meta_tr, meta_te = get_meta_features(svm_grid.best_estimator_.named_steps['regressor'],\n",
    "                                     X_full, y_full, X_val, stack_cv)\n",
    "X_meta_train['svm_pred'] = meta_tr\n",
    "X_meta_test['svm_pred'] = meta_te\n",
    "\n",
    "print('LR features...')\n",
    "meta_tr, meta_te = get_meta_features(line_grid.best_estimator_.named_steps['regressor'],\n",
    "                                     X_full, y_full, X_val, stack_cv)\n",
    "X_meta_train['lr_pred'] = meta_tr\n",
    "X_meta_test['lr_pred'] = meta_te\n",
    "\n",
    "print('RF features...')\n",
    "meta_tr, meta_te = get_meta_features(rf_grid.best_estimator_.named_steps['regressor'],\n",
    "                                     X_full, y_full, X_val, stack_cv)\n",
    "X_meta_train['rf_pred'] = meta_tr\n",
    "X_meta_test['rf_pred'] = meta_te\n",
    "\n",
    "level2_lr_grid.fit(X_meta_train, y_full)\n",
    "print(level2_lr_grid.best_estimator_.named_steps['regressor'])\n",
    "print('MSLE на cv: {}'.format(-level2_lr_grid.best_score_))\n",
    "print('MSLE на val: {}'.format(-level2_lr_grid.score(X_meta_train, y_full)))\n",
    "predictions = level2_lr_grid.predict(X_meta_test)\n"
   ]
  },
  {
   "cell_type": "code",
   "execution_count": 90,
   "metadata": {
    "ExecuteTime": {
     "end_time": "2018-05-05T10:21:35.873430Z",
     "start_time": "2018-05-05T10:21:35.861724Z"
    }
   },
   "outputs": [],
   "source": [
    "#predictions = svm_bag_grid.fit(X_full,y_full).predict(X_val)\n",
    "submussion = 'Id,SalePrice\\n'\n",
    "submussion += \"\\n\".join([\"{},{}\".format(pid, prediction) for pid, prediction in zip(X_val.index, predictions)])\n",
    "with open('submission.txt', 'w') as file:\n",
    "    file.write(submussion)\n"
   ]
  },
  {
   "cell_type": "code",
   "execution_count": null,
   "metadata": {},
   "outputs": [],
   "source": []
  }
 ],
 "metadata": {
  "hide_input": false,
  "kernelspec": {
   "display_name": "Python 3",
   "language": "python",
   "name": "python3"
  },
  "language_info": {
   "codemirror_mode": {
    "name": "ipython",
    "version": 3
   },
   "file_extension": ".py",
   "mimetype": "text/x-python",
   "name": "python",
   "nbconvert_exporter": "python",
   "pygments_lexer": "ipython3",
   "version": "3.6.5"
  },
  "toc": {
   "base_numbering": 1,
   "nav_menu": {},
   "number_sections": true,
   "sideBar": true,
   "skip_h1_title": false,
   "title_cell": "Table of Contents",
   "title_sidebar": "Contents",
   "toc_cell": false,
   "toc_position": {
    "height": "calc(100% - 180px)",
    "left": "10px",
    "top": "150px",
    "width": "320px"
   },
   "toc_section_display": true,
   "toc_window_display": true
  },
  "varInspector": {
   "cols": {
    "lenName": 16,
    "lenType": 16,
    "lenVar": 40
   },
   "kernels_config": {
    "python": {
     "delete_cmd_postfix": "",
     "delete_cmd_prefix": "del ",
     "library": "var_list.py",
     "varRefreshCmd": "print(var_dic_list())"
    },
    "r": {
     "delete_cmd_postfix": ") ",
     "delete_cmd_prefix": "rm(",
     "library": "var_list.r",
     "varRefreshCmd": "cat(var_dic_list()) "
    }
   },
   "types_to_exclude": [
    "module",
    "function",
    "builtin_function_or_method",
    "instance",
    "_Feature"
   ],
   "window_display": false
  }
 },
 "nbformat": 4,
 "nbformat_minor": 2
}
