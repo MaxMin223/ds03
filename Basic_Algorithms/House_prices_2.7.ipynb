{
 "cells": [
  {
   "cell_type": "markdown",
   "metadata": {},
   "source": [
    "# Задание к занятию «Обзор библиотеки XGBoost»"
   ]
  },
  {
   "cell_type": "code",
   "execution_count": null,
   "metadata": {
    "ExecuteTime": {
     "end_time": "2018-05-08T06:46:38.504361Z",
     "start_time": "2018-05-08T06:33:08.650Z"
    }
   },
   "outputs": [],
   "source": [
    "Описание задания:\n",
    "\n",
    "Что делать\n",
    "\n",
    "    - Решите уже знакомую задачу регрессии — предсказание цены на недвижимость. Датасет — train.csv;\n",
    "    - Используйте objective = \"reg:linear\" в xgboost;\n",
    "    - Настройте гиперпараметры, используя hyperopt либо ручную настройку (как вам больше нравится);\n",
    "    - Используйте отложенную выборку (как на занятии), чтобы следить за процессом обучения xgboost'а, но — как и в предыдущем домашнем задании — финальную оценку качества давайте, используя 10-fold кросс-валидацию;\n",
    "    - Проанализируйте, насколько согласованы оценка на отложенной выборке и на кросс-валидации (одновременно уменьшаются/увеличиваются при изменении гиперпараметров или ведут себя по-разному);\n",
    "    - Проанализируйте признаки, используя XGBFI, сделайте выводы об интересных взаимодействиях;\n"
   ]
  },
  {
   "cell_type": "code",
   "execution_count": 1,
   "metadata": {
    "ExecuteTime": {
     "end_time": "2018-05-08T06:29:57.001581Z",
     "start_time": "2018-05-08T06:29:54.861577Z"
    }
   },
   "outputs": [],
   "source": [
    "import numpy as np\n",
    "import pandas as pd\n",
    "from matplotlib import pyplot as plt\n",
    "import seaborn as sns\n",
    "sns.set()\n",
    "%matplotlib inline\n",
    "\n",
    "import warnings\n",
    "warnings.simplefilter('ignore')\n",
    "\n",
    "from sklearn.preprocessing import Imputer\n",
    "from sklearn.pipeline import Pipeline\n",
    "from sklearn.model_selection import RandomizedSearchCV, train_test_split\n",
    "from scipy.stats import randint, uniform\n",
    "from sklearn.tree import DecisionTreeRegressor\n",
    "from sklearn.ensemble import RandomForestRegressor\n",
    "from sklearn.ensemble import AdaBoostRegressor\n",
    "from sklearn.ensemble import GradientBoostingRegressor\n",
    "from xgboost.sklearn import XGBRegressor"
   ]
  },
  {
   "cell_type": "markdown",
   "metadata": {},
   "source": [
    "### Подготовка данных"
   ]
  },
  {
   "cell_type": "code",
   "execution_count": 2,
   "metadata": {
    "ExecuteTime": {
     "end_time": "2018-05-08T06:29:57.084468Z",
     "start_time": "2018-05-08T06:29:57.004474Z"
    }
   },
   "outputs": [],
   "source": [
    "X_full = pd.read_csv('train.csv.gz', compression='gzip', index_col='Id')\n",
    "X_val = pd.read_csv('test.csv.gz', compression='gzip', index_col='Id')"
   ]
  },
  {
   "cell_type": "code",
   "execution_count": 3,
   "metadata": {
    "ExecuteTime": {
     "end_time": "2018-05-08T06:29:57.095360Z",
     "start_time": "2018-05-08T06:29:57.086996Z"
    }
   },
   "outputs": [
    {
     "data": {
      "text/plain": [
       "((1460, 80), (1459, 79))"
      ]
     },
     "execution_count": 3,
     "metadata": {},
     "output_type": "execute_result"
    }
   ],
   "source": [
    "X_full.shape, X_val.shape"
   ]
  },
  {
   "cell_type": "code",
   "execution_count": 4,
   "metadata": {
    "ExecuteTime": {
     "end_time": "2018-05-08T06:29:57.151940Z",
     "start_time": "2018-05-08T06:29:57.098749Z"
    }
   },
   "outputs": [
    {
     "data": {
      "text/html": [
       "<div>\n",
       "<style scoped>\n",
       "    .dataframe tbody tr th:only-of-type {\n",
       "        vertical-align: middle;\n",
       "    }\n",
       "\n",
       "    .dataframe tbody tr th {\n",
       "        vertical-align: top;\n",
       "    }\n",
       "\n",
       "    .dataframe thead th {\n",
       "        text-align: right;\n",
       "    }\n",
       "</style>\n",
       "<table border=\"1\" class=\"dataframe\">\n",
       "  <thead>\n",
       "    <tr style=\"text-align: right;\">\n",
       "      <th></th>\n",
       "      <th>MSSubClass</th>\n",
       "      <th>MSZoning</th>\n",
       "      <th>LotFrontage</th>\n",
       "      <th>LotArea</th>\n",
       "      <th>Street</th>\n",
       "      <th>Alley</th>\n",
       "      <th>LotShape</th>\n",
       "      <th>LandContour</th>\n",
       "      <th>Utilities</th>\n",
       "      <th>LotConfig</th>\n",
       "      <th>...</th>\n",
       "      <th>PoolArea</th>\n",
       "      <th>PoolQC</th>\n",
       "      <th>Fence</th>\n",
       "      <th>MiscFeature</th>\n",
       "      <th>MiscVal</th>\n",
       "      <th>MoSold</th>\n",
       "      <th>YrSold</th>\n",
       "      <th>SaleType</th>\n",
       "      <th>SaleCondition</th>\n",
       "      <th>SalePrice</th>\n",
       "    </tr>\n",
       "    <tr>\n",
       "      <th>Id</th>\n",
       "      <th></th>\n",
       "      <th></th>\n",
       "      <th></th>\n",
       "      <th></th>\n",
       "      <th></th>\n",
       "      <th></th>\n",
       "      <th></th>\n",
       "      <th></th>\n",
       "      <th></th>\n",
       "      <th></th>\n",
       "      <th></th>\n",
       "      <th></th>\n",
       "      <th></th>\n",
       "      <th></th>\n",
       "      <th></th>\n",
       "      <th></th>\n",
       "      <th></th>\n",
       "      <th></th>\n",
       "      <th></th>\n",
       "      <th></th>\n",
       "      <th></th>\n",
       "    </tr>\n",
       "  </thead>\n",
       "  <tbody>\n",
       "    <tr>\n",
       "      <th>1</th>\n",
       "      <td>60</td>\n",
       "      <td>RL</td>\n",
       "      <td>65.0</td>\n",
       "      <td>8450</td>\n",
       "      <td>Pave</td>\n",
       "      <td>NaN</td>\n",
       "      <td>Reg</td>\n",
       "      <td>Lvl</td>\n",
       "      <td>AllPub</td>\n",
       "      <td>Inside</td>\n",
       "      <td>...</td>\n",
       "      <td>0</td>\n",
       "      <td>NaN</td>\n",
       "      <td>NaN</td>\n",
       "      <td>NaN</td>\n",
       "      <td>0</td>\n",
       "      <td>2</td>\n",
       "      <td>2008</td>\n",
       "      <td>WD</td>\n",
       "      <td>Normal</td>\n",
       "      <td>208500</td>\n",
       "    </tr>\n",
       "    <tr>\n",
       "      <th>2</th>\n",
       "      <td>20</td>\n",
       "      <td>RL</td>\n",
       "      <td>80.0</td>\n",
       "      <td>9600</td>\n",
       "      <td>Pave</td>\n",
       "      <td>NaN</td>\n",
       "      <td>Reg</td>\n",
       "      <td>Lvl</td>\n",
       "      <td>AllPub</td>\n",
       "      <td>FR2</td>\n",
       "      <td>...</td>\n",
       "      <td>0</td>\n",
       "      <td>NaN</td>\n",
       "      <td>NaN</td>\n",
       "      <td>NaN</td>\n",
       "      <td>0</td>\n",
       "      <td>5</td>\n",
       "      <td>2007</td>\n",
       "      <td>WD</td>\n",
       "      <td>Normal</td>\n",
       "      <td>181500</td>\n",
       "    </tr>\n",
       "    <tr>\n",
       "      <th>3</th>\n",
       "      <td>60</td>\n",
       "      <td>RL</td>\n",
       "      <td>68.0</td>\n",
       "      <td>11250</td>\n",
       "      <td>Pave</td>\n",
       "      <td>NaN</td>\n",
       "      <td>IR1</td>\n",
       "      <td>Lvl</td>\n",
       "      <td>AllPub</td>\n",
       "      <td>Inside</td>\n",
       "      <td>...</td>\n",
       "      <td>0</td>\n",
       "      <td>NaN</td>\n",
       "      <td>NaN</td>\n",
       "      <td>NaN</td>\n",
       "      <td>0</td>\n",
       "      <td>9</td>\n",
       "      <td>2008</td>\n",
       "      <td>WD</td>\n",
       "      <td>Normal</td>\n",
       "      <td>223500</td>\n",
       "    </tr>\n",
       "    <tr>\n",
       "      <th>4</th>\n",
       "      <td>70</td>\n",
       "      <td>RL</td>\n",
       "      <td>60.0</td>\n",
       "      <td>9550</td>\n",
       "      <td>Pave</td>\n",
       "      <td>NaN</td>\n",
       "      <td>IR1</td>\n",
       "      <td>Lvl</td>\n",
       "      <td>AllPub</td>\n",
       "      <td>Corner</td>\n",
       "      <td>...</td>\n",
       "      <td>0</td>\n",
       "      <td>NaN</td>\n",
       "      <td>NaN</td>\n",
       "      <td>NaN</td>\n",
       "      <td>0</td>\n",
       "      <td>2</td>\n",
       "      <td>2006</td>\n",
       "      <td>WD</td>\n",
       "      <td>Abnorml</td>\n",
       "      <td>140000</td>\n",
       "    </tr>\n",
       "    <tr>\n",
       "      <th>5</th>\n",
       "      <td>60</td>\n",
       "      <td>RL</td>\n",
       "      <td>84.0</td>\n",
       "      <td>14260</td>\n",
       "      <td>Pave</td>\n",
       "      <td>NaN</td>\n",
       "      <td>IR1</td>\n",
       "      <td>Lvl</td>\n",
       "      <td>AllPub</td>\n",
       "      <td>FR2</td>\n",
       "      <td>...</td>\n",
       "      <td>0</td>\n",
       "      <td>NaN</td>\n",
       "      <td>NaN</td>\n",
       "      <td>NaN</td>\n",
       "      <td>0</td>\n",
       "      <td>12</td>\n",
       "      <td>2008</td>\n",
       "      <td>WD</td>\n",
       "      <td>Normal</td>\n",
       "      <td>250000</td>\n",
       "    </tr>\n",
       "  </tbody>\n",
       "</table>\n",
       "<p>5 rows × 80 columns</p>\n",
       "</div>"
      ],
      "text/plain": [
       "    MSSubClass MSZoning  LotFrontage  LotArea Street Alley LotShape  \\\n",
       "Id                                                                    \n",
       "1           60       RL         65.0     8450   Pave   NaN      Reg   \n",
       "2           20       RL         80.0     9600   Pave   NaN      Reg   \n",
       "3           60       RL         68.0    11250   Pave   NaN      IR1   \n",
       "4           70       RL         60.0     9550   Pave   NaN      IR1   \n",
       "5           60       RL         84.0    14260   Pave   NaN      IR1   \n",
       "\n",
       "   LandContour Utilities LotConfig    ...     PoolArea PoolQC Fence  \\\n",
       "Id                                    ...                             \n",
       "1          Lvl    AllPub    Inside    ...            0    NaN   NaN   \n",
       "2          Lvl    AllPub       FR2    ...            0    NaN   NaN   \n",
       "3          Lvl    AllPub    Inside    ...            0    NaN   NaN   \n",
       "4          Lvl    AllPub    Corner    ...            0    NaN   NaN   \n",
       "5          Lvl    AllPub       FR2    ...            0    NaN   NaN   \n",
       "\n",
       "   MiscFeature MiscVal MoSold  YrSold  SaleType  SaleCondition  SalePrice  \n",
       "Id                                                                         \n",
       "1          NaN       0      2    2008        WD         Normal     208500  \n",
       "2          NaN       0      5    2007        WD         Normal     181500  \n",
       "3          NaN       0      9    2008        WD         Normal     223500  \n",
       "4          NaN       0      2    2006        WD        Abnorml     140000  \n",
       "5          NaN       0     12    2008        WD         Normal     250000  \n",
       "\n",
       "[5 rows x 80 columns]"
      ]
     },
     "execution_count": 4,
     "metadata": {},
     "output_type": "execute_result"
    }
   ],
   "source": [
    "X_full.head()"
   ]
  },
  {
   "cell_type": "code",
   "execution_count": 5,
   "metadata": {
    "ExecuteTime": {
     "end_time": "2018-05-08T06:29:57.181990Z",
     "start_time": "2018-05-08T06:29:57.156167Z"
    }
   },
   "outputs": [],
   "source": [
    "X_full.MSSubClass = X_full.MSSubClass.astype('str')\n",
    "X_val.MSSubClass = X_val.MSSubClass.astype('str')\n",
    "X_full.SalePrice = X_full.SalePrice.astype('float64')\n",
    "y_full = X_full.SalePrice\n",
    "X_full.drop('SalePrice', axis=1, inplace=True)"
   ]
  },
  {
   "cell_type": "code",
   "execution_count": 6,
   "metadata": {
    "ExecuteTime": {
     "end_time": "2018-05-08T06:29:57.200023Z",
     "start_time": "2018-05-08T06:29:57.185682Z"
    }
   },
   "outputs": [
    {
     "data": {
      "text/plain": [
       "True"
      ]
     },
     "execution_count": 6,
     "metadata": {},
     "output_type": "execute_result"
    }
   ],
   "source": [
    "cat_feat = X_full.dtypes[X_full.dtypes == \"object\"].index.tolist()\n",
    "num_feat = X_full.dtypes[X_full.dtypes != \"object\"].index.tolist()\n",
    "set(X_full.columns) == set(cat_feat + num_feat)"
   ]
  },
  {
   "cell_type": "code",
   "execution_count": 7,
   "metadata": {
    "ExecuteTime": {
     "end_time": "2018-05-08T06:29:57.311938Z",
     "start_time": "2018-05-08T06:29:57.203738Z"
    }
   },
   "outputs": [],
   "source": [
    "X_full[cat_feat] = X_full[cat_feat].fillna('nan')\n",
    "X_val[cat_feat] = X_val[cat_feat].fillna('nan')"
   ]
  },
  {
   "cell_type": "code",
   "execution_count": null,
   "metadata": {
    "ExecuteTime": {
     "end_time": "2018-05-08T06:46:38.537658Z",
     "start_time": "2018-05-08T06:37:56.322Z"
    }
   },
   "outputs": [],
   "source": [
    "dummy_full = pd.get_dummies(X_full[cat_feat], columns=cat_feat)\n",
    "dummy_val = pd.get_dummies(X_val[cat_feat], columns=cat_feat)\n",
    "\n",
    "cat_feat = list(set(dummy_full) & set(dummy_val))\n",
    "\n",
    "dummy_full = dummy_full[cat_feat]\n",
    "dummy_val = dummy_val[cat_feat]\n",
    "#X_full = pd.concat([X_full[num_feat], dummy_full], axis=1)\n",
    "#X_val = pd.concat([X_val[num_feat], dummy_val], axis=1)\n",
    "#Для деревянных моделей заполняем пустые значения числовых признаков константой -999\n",
    "X_full = pd.concat([X_full[num_feat].fillna(-999), dummy_full], axis=1)\n",
    "X_val = pd.concat([X_val[num_feat].fillna(-999), dummy_val], axis=1)"
   ]
  },
  {
   "cell_type": "code",
   "execution_count": 9,
   "metadata": {
    "ExecuteTime": {
     "end_time": "2018-05-08T06:29:57.496278Z",
     "start_time": "2018-05-08T06:29:57.488832Z"
    }
   },
   "outputs": [
    {
     "data": {
      "text/plain": [
       "((1460, 299), (1459, 299), (1460,))"
      ]
     },
     "execution_count": 9,
     "metadata": {},
     "output_type": "execute_result"
    }
   ],
   "source": [
    "X_full.shape, X_val.shape, y_full.shape"
   ]
  },
  {
   "cell_type": "code",
   "execution_count": 10,
   "metadata": {
    "ExecuteTime": {
     "end_time": "2018-05-08T06:29:57.532829Z",
     "start_time": "2018-05-08T06:29:57.500714Z"
    }
   },
   "outputs": [
    {
     "data": {
      "text/plain": [
       "Neighborhood_Blueste    0\n",
       "PavedDrive_Y            0\n",
       "PavedDrive_N            0\n",
       "CentralAir_Y            0\n",
       "SaleType_New            0\n",
       "dtype: int64"
      ]
     },
     "execution_count": 10,
     "metadata": {},
     "output_type": "execute_result"
    }
   ],
   "source": [
    "X_full.isnull().sum().sort_values(ascending=False).head()"
   ]
  },
  {
   "cell_type": "markdown",
   "metadata": {},
   "source": [
    "Т.к. xgboost не поддерживает метрику MSLE, то от целевой ф-ции берем логарифм log(1+y) и используем метрику RMSE. В конце предсказанные значения переведем обратно с помощью np.expm1(y) "
   ]
  },
  {
   "cell_type": "code",
   "execution_count": 11,
   "metadata": {
    "ExecuteTime": {
     "end_time": "2018-05-08T06:29:57.539761Z",
     "start_time": "2018-05-08T06:29:57.536089Z"
    }
   },
   "outputs": [],
   "source": [
    "y_full = np.log1p(y_full)"
   ]
  },
  {
   "cell_type": "code",
   "execution_count": 12,
   "metadata": {
    "ExecuteTime": {
     "end_time": "2018-05-08T06:29:57.556651Z",
     "start_time": "2018-05-08T06:29:57.544132Z"
    }
   },
   "outputs": [],
   "source": [
    "\n",
    "X_train, X_test, y_train, y_test = train_test_split(X_full, y_full, test_size=0.20, random_state=555)"
   ]
  },
  {
   "cell_type": "markdown",
   "metadata": {},
   "source": [
    "## Модели"
   ]
  },
  {
   "cell_type": "markdown",
   "metadata": {},
   "source": [
    "Сначала сравниваем модели RandomForest, AdaBoosting, GradientBoosting и XGBOOST. Далее проводим дополнительный подбор параметров XGBOOST"
   ]
  },
  {
   "cell_type": "markdown",
   "metadata": {},
   "source": [
    "### RandomForest"
   ]
  },
  {
   "cell_type": "code",
   "execution_count": 13,
   "metadata": {
    "ExecuteTime": {
     "end_time": "2018-05-08T06:29:57.563530Z",
     "start_time": "2018-05-08T06:29:57.559536Z"
    }
   },
   "outputs": [],
   "source": [
    "msle_scores = pd.Series()"
   ]
  },
  {
   "cell_type": "code",
   "execution_count": 14,
   "metadata": {
    "ExecuteTime": {
     "end_time": "2018-05-08T06:29:57.576313Z",
     "start_time": "2018-05-08T06:29:57.566272Z"
    }
   },
   "outputs": [],
   "source": [
    "def find_params(clf, param_grid, scoring='neg_mean_squared_error', n_iter=50, fit_params={}):\n",
    "    clf_grid = RandomizedSearchCV(\n",
    "        clf, \n",
    "        param_distributions=param_grid, \n",
    "        cv=10, \n",
    "        n_jobs=-1, \n",
    "        scoring=scoring, \n",
    "        random_state=42, \n",
    "        n_iter=n_iter, \n",
    "#        fit_params = fit_params\n",
    "#        verbose=3\n",
    "    )\n",
    "    clf_grid.fit(X_train, y_train, **fit_params)\n",
    "#    best_prep_params = clf_grid.best_estimator_.named_steps['prep'].get_params()\n",
    "    best_params = clf_grid.best_estimator_.named_steps['reg'].get_params()\n",
    "    best_score = -clf_grid.best_score_\n",
    "    msle_scores[clf_grid.best_estimator_.named_steps['reg'].__class__.__name__] = -clf_grid.score(X_test, y_test)\n",
    "    print(clf_grid.best_estimator_.named_steps['reg'].__class__.__name__)\n",
    "#    print('Best prep params: {}'.format(best_prep_params))\n",
    "    print('Best params: {}'.format(best_params))\n",
    "    print('MSLE на cv: {}'.format(best_score))\n",
    "    print('MSLE на train: {}'.format(-clf_grid.score(X_train, y_train)))\n",
    "    print('MSLE на test: {}'.format(-clf_grid.score(X_test, y_test)))\n",
    "    return clf_grid.best_estimator_.named_steps['reg'], best_params"
   ]
  },
  {
   "cell_type": "code",
   "execution_count": 15,
   "metadata": {
    "ExecuteTime": {
     "end_time": "2018-05-08T06:31:48.919446Z",
     "start_time": "2018-05-08T06:29:57.579379Z"
    }
   },
   "outputs": [
    {
     "name": "stdout",
     "output_type": "stream",
     "text": [
      "RandomForestRegressor\n",
      "Best params: {'bootstrap': False, 'criterion': 'mse', 'max_depth': 12, 'max_features': 0.3266040662428278, 'max_leaf_nodes': None, 'min_impurity_decrease': 0.0, 'min_impurity_split': None, 'min_samples_leaf': 6, 'min_samples_split': 2, 'min_weight_fraction_leaf': 0.0, 'n_estimators': 50, 'n_jobs': 1, 'oob_score': False, 'random_state': 42, 'verbose': 0, 'warm_start': False}\n",
      "MSLE на cv: 0.02105907659396808\n",
      "MSLE на train: 0.006618286295330821\n",
      "MSLE на test: 0.0180845085181941\n"
     ]
    }
   ],
   "source": [
    "rf_pipe = Pipeline([\n",
    "#    ('prep', Imputer()),\n",
    "    ('reg', RandomForestRegressor(random_state=42))\n",
    "])\n",
    "rf_params = {    \n",
    "#    'prep__strategy': ['mean', 'median', 'most_frequent'],\n",
    "    'reg__bootstrap': [True, False],\n",
    "    'reg__n_estimators': [50],\n",
    "    'reg__max_features': uniform(loc=0.1, scale=0.9),\n",
    "    'reg__max_depth': randint(low=1, high=20),\n",
    "    'reg__min_samples_leaf': randint(low=5, high=20)\n",
    "}\n",
    "_, best_params = find_params(rf_pipe, rf_params, 'neg_mean_squared_error', 50)\n"
   ]
  },
  {
   "cell_type": "code",
   "execution_count": 16,
   "metadata": {
    "ExecuteTime": {
     "end_time": "2018-05-08T06:31:48.932666Z",
     "start_time": "2018-05-08T06:31:48.923700Z"
    }
   },
   "outputs": [
    {
     "data": {
      "text/plain": [
       "RandomForestRegressor    0.018085\n",
       "dtype: float64"
      ]
     },
     "execution_count": 16,
     "metadata": {},
     "output_type": "execute_result"
    }
   ],
   "source": [
    "msle_scores"
   ]
  },
  {
   "cell_type": "markdown",
   "metadata": {},
   "source": [
    "### AdaBoost"
   ]
  },
  {
   "cell_type": "code",
   "execution_count": 17,
   "metadata": {
    "ExecuteTime": {
     "end_time": "2018-05-08T06:34:27.619929Z",
     "start_time": "2018-05-08T06:31:48.936220Z"
    }
   },
   "outputs": [
    {
     "name": "stdout",
     "output_type": "stream",
     "text": [
      "AdaBoostRegressor\n",
      "Best params: {'base_estimator__criterion': 'mse', 'base_estimator__max_depth': 9, 'base_estimator__max_features': 0.5363469742230849, 'base_estimator__max_leaf_nodes': None, 'base_estimator__min_impurity_decrease': 0.0, 'base_estimator__min_impurity_split': None, 'base_estimator__min_samples_leaf': 5, 'base_estimator__min_samples_split': 2, 'base_estimator__min_weight_fraction_leaf': 0.0, 'base_estimator__presort': False, 'base_estimator__random_state': None, 'base_estimator__splitter': 'best', 'base_estimator': DecisionTreeRegressor(criterion='mse', max_depth=9,\n",
      "           max_features=0.5363469742230849, max_leaf_nodes=None,\n",
      "           min_impurity_decrease=0.0, min_impurity_split=None,\n",
      "           min_samples_leaf=5, min_samples_split=2,\n",
      "           min_weight_fraction_leaf=0.0, presort=False, random_state=None,\n",
      "           splitter='best'), 'learning_rate': 0.1099326836668414, 'loss': 'linear', 'n_estimators': 50, 'random_state': 42}\n",
      "MSLE на cv: 0.02154917474844446\n",
      "MSLE на train: 0.0033927611931271213\n",
      "MSLE на test: 0.018660075219655587\n"
     ]
    }
   ],
   "source": [
    "ada_pipe = Pipeline([\n",
    "#    ('prep', Imputer()),\n",
    "    ('reg', AdaBoostRegressor(\n",
    "        base_estimator=DecisionTreeRegressor(),\n",
    "        random_state=42\n",
    "    ))\n",
    "])\n",
    "ada_params = {    \n",
    "#    'prep__strategy': ['mean', 'median', 'most_frequent'],\n",
    "    'reg__n_estimators': [50],\n",
    "    'reg__learning_rate': uniform(loc=0.05, scale=0.5),\n",
    "    'reg__base_estimator__max_features': uniform(loc=0.1, scale=0.9),\n",
    "    'reg__base_estimator__max_depth': randint(low=1, high=10),\n",
    "    'reg__base_estimator__min_samples_leaf': randint(low=5, high=20)\n",
    "}\n",
    "_, best_params = find_params(ada_pipe, ada_params, 'neg_mean_squared_error', 50)\n"
   ]
  },
  {
   "cell_type": "code",
   "execution_count": 18,
   "metadata": {
    "ExecuteTime": {
     "end_time": "2018-05-08T06:34:27.633968Z",
     "start_time": "2018-05-08T06:34:27.624310Z"
    }
   },
   "outputs": [
    {
     "data": {
      "text/plain": [
       "RandomForestRegressor    0.018085\n",
       "AdaBoostRegressor        0.018660\n",
       "dtype: float64"
      ]
     },
     "execution_count": 18,
     "metadata": {},
     "output_type": "execute_result"
    }
   ],
   "source": [
    "msle_scores"
   ]
  },
  {
   "cell_type": "markdown",
   "metadata": {},
   "source": [
    "### GradientBoosting"
   ]
  },
  {
   "cell_type": "code",
   "execution_count": 19,
   "metadata": {
    "ExecuteTime": {
     "end_time": "2018-05-08T06:35:54.349705Z",
     "start_time": "2018-05-08T06:34:27.638090Z"
    }
   },
   "outputs": [
    {
     "name": "stdout",
     "output_type": "stream",
     "text": [
      "GradientBoostingRegressor\n",
      "Best params: {'alpha': 0.9, 'criterion': 'friedman_mse', 'init': None, 'learning_rate': 0.11104397735033668, 'loss': 'ls', 'max_depth': 9, 'max_features': 0.38620312747467755, 'max_leaf_nodes': None, 'min_impurity_decrease': 0.0, 'min_impurity_split': None, 'min_samples_leaf': 5, 'min_samples_split': 2, 'min_weight_fraction_leaf': 0.0, 'n_estimators': 50, 'presort': 'auto', 'random_state': 42, 'subsample': 0.3449190244461718, 'verbose': 0, 'warm_start': False}\n",
      "MSLE на cv: 0.0185105122766854\n",
      "MSLE на train: 0.005873221514531056\n",
      "MSLE на test: 0.01771067187174195\n"
     ]
    }
   ],
   "source": [
    "gbm_pipe = Pipeline([\n",
    "#    ('prep', Imputer()),\n",
    "    ('reg', GradientBoostingRegressor(random_state=42))\n",
    "])\n",
    "gbm_params = {    \n",
    "#    'prep__strategy': ['mean', 'median', 'most_frequent'],\n",
    "    'reg__n_estimators': [50],\n",
    "    'reg__learning_rate': uniform(loc=0.05, scale=0.5),\n",
    "    'reg__max_features': uniform(loc=0.1, scale=0.9),\n",
    "    'reg__max_depth': randint(low=1, high=10),\n",
    "    'reg__min_samples_leaf': randint(low=5, high=20),\n",
    "    'reg__subsample': uniform(loc=0.1, scale=0.9),\n",
    "}\n",
    "_, best_params = find_params(gbm_pipe, gbm_params, 'neg_mean_squared_error', 50)\n"
   ]
  },
  {
   "cell_type": "code",
   "execution_count": 20,
   "metadata": {
    "ExecuteTime": {
     "end_time": "2018-05-08T06:35:54.362296Z",
     "start_time": "2018-05-08T06:35:54.354012Z"
    }
   },
   "outputs": [
    {
     "data": {
      "text/plain": [
       "RandomForestRegressor        0.018085\n",
       "AdaBoostRegressor            0.018660\n",
       "GradientBoostingRegressor    0.017711\n",
       "dtype: float64"
      ]
     },
     "execution_count": 20,
     "metadata": {},
     "output_type": "execute_result"
    }
   ],
   "source": [
    "msle_scores"
   ]
  },
  {
   "cell_type": "markdown",
   "metadata": {},
   "source": [
    "### XGBOOST"
   ]
  },
  {
   "cell_type": "code",
   "execution_count": 42,
   "metadata": {
    "ExecuteTime": {
     "end_time": "2018-05-08T06:56:04.586918Z",
     "start_time": "2018-05-08T06:54:59.633392Z"
    }
   },
   "outputs": [
    {
     "name": "stdout",
     "output_type": "stream",
     "text": [
      "XGBRegressor\n",
      "Best params: {'base_score': 0.5, 'booster': 'gbtree', 'colsample_bylevel': 1, 'colsample_bytree': 0.726205959410574, 'gamma': 0, 'learning_rate': 0.16427501089864982, 'max_delta_step': 0, 'max_depth': 9, 'min_child_weight': 8, 'missing': None, 'n_estimators': 50, 'n_jobs': 1, 'nthread': None, 'objective': 'reg:linear', 'random_state': 42, 'reg_alpha': 0, 'reg_lambda': 1, 'scale_pos_weight': 1, 'seed': None, 'silent': True, 'subsample': 0.5766855205204059}\n",
      "MSLE на cv: 0.018541921767839385\n",
      "MSLE на train: 0.0050350534281108075\n",
      "MSLE на test: 0.01726390278913217\n"
     ]
    }
   ],
   "source": [
    "xgb_pipe = Pipeline([\n",
    "#    ('prep', Imputer()),\n",
    "    ('reg', XGBRegressor(random_state=42))\n",
    "])\n",
    "xgb_params = {    \n",
    "#    'prep__strategy': ['mean', 'median', 'most_frequent'],\n",
    "    'reg__n_estimators': [50],\n",
    "    'reg__learning_rate': uniform(loc=0.05, scale=0.5),\n",
    "    'reg__colsample_bytree': uniform(loc=0.1, scale=0.9),\n",
    "    'reg__max_depth': randint(low=1, high=10),\n",
    "    'reg__min_child_weight': randint(low=5, high=20),\n",
    "    'reg__subsample': uniform(loc=0.1, scale=0.9),\n",
    "}\n",
    "best_estimator, best_params = find_params(xgb_pipe, xgb_params, 'neg_mean_squared_error', 50)\n"
   ]
  },
  {
   "cell_type": "code",
   "execution_count": 43,
   "metadata": {
    "ExecuteTime": {
     "end_time": "2018-05-08T06:56:04.600190Z",
     "start_time": "2018-05-08T06:56:04.591083Z"
    }
   },
   "outputs": [
    {
     "data": {
      "text/plain": [
       "RandomForestRegressor        0.018085\n",
       "AdaBoostRegressor            0.018660\n",
       "GradientBoostingRegressor    0.017711\n",
       "XGBRegressor                 0.017264\n",
       "dtype: float64"
      ]
     },
     "execution_count": 43,
     "metadata": {},
     "output_type": "execute_result"
    }
   ],
   "source": [
    "msle_scores"
   ]
  },
  {
   "cell_type": "code",
   "execution_count": 44,
   "metadata": {
    "ExecuteTime": {
     "end_time": "2018-05-08T06:56:04.879316Z",
     "start_time": "2018-05-08T06:56:04.604015Z"
    }
   },
   "outputs": [
    {
     "data": {
      "text/plain": [
       "<matplotlib.axes._subplots.AxesSubplot at 0x7fa7959a9e80>"
      ]
     },
     "execution_count": 44,
     "metadata": {},
     "output_type": "execute_result"
    },
    {
     "data": {
      "image/png": "[encoded data removed]",
      "text/plain": [
       "<Figure size 576x288 with 1 Axes>"
      ]
     },
     "metadata": {},
     "output_type": "display_data"
    }
   ],
   "source": [
    "msle_scores.plot(kind='bar', title = 'Оценка моделей MSLE', figsize=(8,4))"
   ]
  },
  {
   "cell_type": "code",
   "execution_count": 45,
   "metadata": {
    "ExecuteTime": {
     "end_time": "2018-05-08T06:56:04.887714Z",
     "start_time": "2018-05-08T06:56:04.882174Z"
    }
   },
   "outputs": [
    {
     "data": {
      "text/plain": [
       "{'base_score': 0.5,\n",
       " 'booster': 'gbtree',\n",
       " 'colsample_bylevel': 1,\n",
       " 'colsample_bytree': 0.726205959410574,\n",
       " 'gamma': 0,\n",
       " 'learning_rate': 0.16427501089864982,\n",
       " 'max_delta_step': 0,\n",
       " 'max_depth': 9,\n",
       " 'min_child_weight': 8,\n",
       " 'missing': None,\n",
       " 'n_estimators': 50,\n",
       " 'n_jobs': 1,\n",
       " 'nthread': None,\n",
       " 'objective': 'reg:linear',\n",
       " 'random_state': 42,\n",
       " 'reg_alpha': 0,\n",
       " 'reg_lambda': 1,\n",
       " 'scale_pos_weight': 1,\n",
       " 'seed': None,\n",
       " 'silent': True,\n",
       " 'subsample': 0.5766855205204059}"
      ]
     },
     "execution_count": 45,
     "metadata": {},
     "output_type": "execute_result"
    }
   ],
   "source": [
    "best_params"
   ]
  },
  {
   "cell_type": "code",
   "execution_count": 46,
   "metadata": {
    "ExecuteTime": {
     "end_time": "2018-05-08T06:56:04.903527Z",
     "start_time": "2018-05-08T06:56:04.891157Z"
    }
   },
   "outputs": [
    {
     "data": {
      "text/plain": [
       "XGBRegressor(base_score=0.5, booster='gbtree', colsample_bylevel=1,\n",
       "       colsample_bytree=0.726205959410574, gamma=0,\n",
       "       learning_rate=0.16427501089864982, max_delta_step=0, max_depth=9,\n",
       "       min_child_weight=8, missing=None, n_estimators=50, n_jobs=1,\n",
       "       nthread=None, objective='reg:linear', random_state=42, reg_alpha=0,\n",
       "       reg_lambda=1, scale_pos_weight=1, seed=None, silent=True,\n",
       "       subsample=0.5766855205204059)"
      ]
     },
     "execution_count": 46,
     "metadata": {},
     "output_type": "execute_result"
    }
   ],
   "source": [
    "best_estimator"
   ]
  },
  {
   "cell_type": "markdown",
   "metadata": {},
   "source": [
    "#### Подбираем max_depth и min_child_weight"
   ]
  },
  {
   "cell_type": "code",
   "execution_count": 47,
   "metadata": {
    "ExecuteTime": {
     "end_time": "2018-05-08T06:57:12.567822Z",
     "start_time": "2018-05-08T06:56:04.907241Z"
    }
   },
   "outputs": [
    {
     "name": "stdout",
     "output_type": "stream",
     "text": [
      "XGBRegressor\n",
      "Best params: {'base_score': 0.5, 'booster': 'gbtree', 'colsample_bylevel': 1, 'colsample_bytree': 0.726205959410574, 'gamma': 0, 'learning_rate': 0.16427501089864982, 'max_delta_step': 0, 'max_depth': 4, 'min_child_weight': 23, 'missing': None, 'n_estimators': 50, 'n_jobs': 1, 'nthread': None, 'objective': 'reg:linear', 'random_state': 42, 'reg_alpha': 0, 'reg_lambda': 1, 'scale_pos_weight': 1, 'seed': None, 'silent': True, 'subsample': 0.5766855205204059}\n",
      "MSLE на cv: 0.01897416401830713\n",
      "MSLE на train: 0.012302197709851038\n",
      "MSLE на test: 0.015183741904841508\n"
     ]
    }
   ],
   "source": [
    "xgb_pipe = Pipeline([\n",
    "#    ('prep', Imputer()),\n",
    "    ('reg', XGBRegressor(**best_params))\n",
    "])\n",
    "xgb_params = {    \n",
    "#    'prep__strategy': ['mean', 'median', 'most_frequent'],\n",
    "    'reg__max_depth': randint(low=1, high=5),\n",
    "    'reg__min_child_weight': randint(low=10, high=100),\n",
    "}\n",
    "fit_params = {'reg__eval_set': [(X_test, y_test)], \n",
    "              'reg__early_stopping_rounds': 10, \n",
    "              'reg__verbose': False,\n",
    "              'reg__eval_metric': 'rmse'\n",
    "             } \n",
    "best_estimator, best_params = find_params(xgb_pipe, xgb_params, 'neg_mean_squared_error', 50, fit_params)"
   ]
  },
  {
   "cell_type": "markdown",
   "metadata": {},
   "source": [
    "#### Подбираем gamma"
   ]
  },
  {
   "cell_type": "code",
   "execution_count": 48,
   "metadata": {
    "ExecuteTime": {
     "end_time": "2018-05-08T06:58:45.367456Z",
     "start_time": "2018-05-08T06:57:12.570851Z"
    }
   },
   "outputs": [
    {
     "name": "stdout",
     "output_type": "stream",
     "text": [
      "XGBRegressor\n",
      "Best params: {'base_score': 0.5, 'booster': 'gbtree', 'colsample_bylevel': 1, 'colsample_bytree': 0.726205959410574, 'gamma': 0.010292247147901223, 'learning_rate': 0.16427501089864982, 'max_delta_step': 0, 'max_depth': 4, 'min_child_weight': 23, 'missing': None, 'n_estimators': 50, 'n_jobs': 1, 'nthread': None, 'objective': 'reg:linear', 'random_state': 42, 'reg_alpha': 0, 'reg_lambda': 1, 'scale_pos_weight': 1, 'seed': None, 'silent': True, 'subsample': 0.5766855205204059}\n",
      "MSLE на cv: 0.018867664208578702\n",
      "MSLE на train: 0.012273356427302552\n",
      "MSLE на test: 0.015506971021579687\n"
     ]
    }
   ],
   "source": [
    "xgb_pipe = Pipeline([\n",
    "#    ('prep', Imputer()),\n",
    "    ('reg', XGBRegressor(**best_params))\n",
    "])\n",
    "xgb_params = {    \n",
    "#    'prep__strategy': ['mean', 'median', 'most_frequent'],\n",
    "    'reg__gamma': uniform(loc=0.0, scale=0.5),\n",
    "}\n",
    "fit_params = {'reg__eval_set': [(X_test, y_test)], \n",
    "              'reg__early_stopping_rounds': 10, \n",
    "              'reg__verbose': False,\n",
    "              'reg__eval_metric': 'rmse'\n",
    "             } \n",
    "best_estimator, best_params = find_params(xgb_pipe, xgb_params, 'neg_mean_squared_error', 50, fit_params)\n"
   ]
  },
  {
   "cell_type": "markdown",
   "metadata": {},
   "source": [
    "#### Подбираем subsample и colsample_bytree"
   ]
  },
  {
   "cell_type": "code",
   "execution_count": 49,
   "metadata": {
    "ExecuteTime": {
     "end_time": "2018-05-08T07:00:15.862197Z",
     "start_time": "2018-05-08T06:58:45.372691Z"
    }
   },
   "outputs": [
    {
     "name": "stdout",
     "output_type": "stream",
     "text": [
      "XGBRegressor\n",
      "Best params: {'base_score': 0.5, 'booster': 'gbtree', 'colsample_bylevel': 1, 'colsample_bytree': 0.728034992108518, 'gamma': 0.010292247147901223, 'learning_rate': 0.16427501089864982, 'max_delta_step': 0, 'max_depth': 4, 'min_child_weight': 23, 'missing': None, 'n_estimators': 50, 'n_jobs': 1, 'nthread': None, 'objective': 'reg:linear', 'random_state': 42, 'reg_alpha': 0, 'reg_lambda': 1, 'scale_pos_weight': 1, 'seed': None, 'silent': True, 'subsample': 0.8925879806965068}\n",
      "MSLE на cv: 0.018256835957669307\n",
      "MSLE на train: 0.010779319378928443\n",
      "MSLE на test: 0.01624724811008273\n"
     ]
    }
   ],
   "source": [
    "xgb_pipe = Pipeline([\n",
    "#    ('prep', Imputer()),\n",
    "    ('reg', XGBRegressor(**best_params))\n",
    "])\n",
    "xgb_params = {    \n",
    "#    'prep__strategy': ['mean', 'median', 'most_frequent'],\n",
    "    'reg__subsample': uniform(loc=0.5, scale=0.5),\n",
    "    'reg__colsample_bytree': uniform(loc=0.5, scale=0.5),\n",
    "}\n",
    "fit_params = {'reg__eval_set': [(X_test, y_test)], \n",
    "              'reg__early_stopping_rounds': 10, \n",
    "              'reg__verbose': False,\n",
    "              'reg__eval_metric': 'rmse'\n",
    "             } \n",
    "best_estimator, best_params = find_params(xgb_pipe, xgb_params, 'neg_mean_squared_error', 50, fit_params)\n"
   ]
  },
  {
   "cell_type": "markdown",
   "metadata": {},
   "source": [
    "#### Подбираем reg_alpha и reg_lambda"
   ]
  },
  {
   "cell_type": "code",
   "execution_count": 50,
   "metadata": {
    "ExecuteTime": {
     "end_time": "2018-05-08T07:01:07.082013Z",
     "start_time": "2018-05-08T07:00:15.865047Z"
    }
   },
   "outputs": [
    {
     "name": "stdout",
     "output_type": "stream",
     "text": [
      "XGBRegressor\n",
      "Best params: {'base_score': 0.5, 'booster': 'gbtree', 'colsample_bylevel': 1, 'colsample_bytree': 0.728034992108518, 'gamma': 0.010292247147901223, 'learning_rate': 0.16427501089864982, 'max_delta_step': 0, 'max_depth': 4, 'min_child_weight': 23, 'missing': None, 'n_estimators': 50, 'n_jobs': 1, 'nthread': None, 'objective': 'reg:linear', 'random_state': 42, 'reg_alpha': 0, 'reg_lambda': 1, 'scale_pos_weight': 1, 'seed': None, 'silent': True, 'subsample': 0.8925879806965068}\n",
      "MSLE на cv: 0.018256835957669307\n",
      "MSLE на train: 0.010779319378928443\n",
      "MSLE на test: 0.01624724811008273\n"
     ]
    }
   ],
   "source": [
    "xgb_pipe = Pipeline([\n",
    "#    ('prep', Imputer()),\n",
    "    ('reg', XGBRegressor(**best_params))\n",
    "])\n",
    "xgb_params = {    \n",
    "#    'prep__strategy': ['mean', 'median', 'most_frequent'],\n",
    "    'reg__reg_alpha': [0, 0.0001, 0.001, 0.1, 1],\n",
    "    'reg__reg_lambda': [0, 0.0001, 0.001, 0.1, 1]\n",
    "}\n",
    "fit_params = {'reg__eval_set': [(X_test, y_test)], \n",
    "              'reg__early_stopping_rounds': 10, \n",
    "              'reg__verbose': False,\n",
    "              'reg__eval_metric': 'rmse'\n",
    "             } \n",
    "best_estimator, best_params = find_params(xgb_pipe, xgb_params, 'neg_mean_squared_error', 25, fit_params)\n"
   ]
  },
  {
   "cell_type": "markdown",
   "metadata": {},
   "source": [
    "#### уменьшаем learning_rate и увеличиваем n_estimators"
   ]
  },
  {
   "cell_type": "code",
   "execution_count": 51,
   "metadata": {
    "ExecuteTime": {
     "end_time": "2018-05-08T07:01:47.655445Z",
     "start_time": "2018-05-08T07:01:07.088858Z"
    }
   },
   "outputs": [
    {
     "name": "stdout",
     "output_type": "stream",
     "text": [
      "XGBRegressor\n",
      "Best params: {'base_score': 0.5, 'booster': 'gbtree', 'colsample_bylevel': 1, 'colsample_bytree': 0.728034992108518, 'gamma': 0.010292247147901223, 'learning_rate': 0.005, 'max_delta_step': 0, 'max_depth': 4, 'min_child_weight': 23, 'missing': None, 'n_estimators': 1000, 'n_jobs': 1, 'nthread': None, 'objective': 'reg:linear', 'random_state': 42, 'reg_alpha': 0, 'reg_lambda': 1, 'scale_pos_weight': 1, 'seed': None, 'silent': True, 'subsample': 0.8925879806965068}\n",
      "MSLE на cv: 0.026863993850180366\n",
      "MSLE на train: 0.02065211752030175\n",
      "MSLE на test: 0.025979245907526406\n"
     ]
    }
   ],
   "source": [
    "xgb_pipe = Pipeline([\n",
    "#    ('prep', Imputer()),\n",
    "    ('reg', XGBRegressor(**best_params))\n",
    "])\n",
    "xgb_params = {    \n",
    "#    'prep__strategy': ['mean', 'median', 'most_frequent'],\n",
    "    'reg__learning_rate': [0.005],\n",
    "    'reg__n_estimators': [1000]\n",
    "}\n",
    "fit_params = {'reg__eval_set': [(X_test, y_test)], \n",
    "              'reg__early_stopping_rounds': 10, \n",
    "              'reg__verbose': False,\n",
    "              'reg__eval_metric': 'rmse'\n",
    "             } \n",
    "best_estimator, best_params = find_params(xgb_pipe, xgb_params, 'neg_mean_squared_error', 1, fit_params)"
   ]
  },
  {
   "cell_type": "markdown",
   "metadata": {},
   "source": [
    "### Важность признаков"
   ]
  },
  {
   "cell_type": "code",
   "execution_count": 52,
   "metadata": {
    "ExecuteTime": {
     "end_time": "2018-05-08T07:01:48.784693Z",
     "start_time": "2018-05-08T07:01:47.658515Z"
    }
   },
   "outputs": [
    {
     "data": {
      "image/png": "[encoded data removed]",
      "text/plain": [
       "<Figure size 432x288 with 1 Axes>"
      ]
     },
     "metadata": {},
     "output_type": "display_data"
    },
    {
     "data": {
      "image/png": "[encoded data removed]",
      "text/plain": [
       "<Figure size 432x288 with 1 Axes>"
      ]
     },
     "metadata": {},
     "output_type": "display_data"
    },
    {
     "data": {
      "image/png": "[encoded data removed]",
      "text/plain": [
       "<Figure size 432x288 with 1 Axes>"
      ]
     },
     "metadata": {},
     "output_type": "display_data"
    }
   ],
   "source": [
    "bst = best_estimator.get_booster()\n",
    "\n",
    "for kind in ['weight', 'gain', 'cover']:\n",
    "    imp = pd.Series(bst.get_score(importance_type=kind))\n",
    "    plt.figure()\n",
    "    imp.sort_values(ascending=False).iloc[:20][::-1].plot(kind='barh', title=kind)"
   ]
  },
  {
   "cell_type": "code",
   "execution_count": 54,
   "metadata": {
    "ExecuteTime": {
     "end_time": "2018-05-08T07:03:13.682915Z",
     "start_time": "2018-05-08T07:03:13.617013Z"
    }
   },
   "outputs": [],
   "source": [
    "import xgbfir\n",
    "xgbfir.saveXgbFI(best_estimator, OutputXlsxFile='xgbfi_report.xlsx')"
   ]
  },
  {
   "cell_type": "code",
   "execution_count": null,
   "metadata": {},
   "outputs": [],
   "source": []
  }
 ],
 "metadata": {
  "hide_input": false,
  "kernelspec": {
   "display_name": "Python 3",
   "language": "python",
   "name": "python3"
  },
  "language_info": {
   "codemirror_mode": {
    "name": "ipython",
    "version": 3
   },
   "file_extension": ".py",
   "mimetype": "text/x-python",
   "name": "python",
   "nbconvert_exporter": "python",
   "pygments_lexer": "ipython3",
   "version": "3.6.5"
  },
  "toc": {
   "base_numbering": 1,
   "nav_menu": {},
   "number_sections": true,
   "sideBar": true,
   "skip_h1_title": false,
   "title_cell": "Table of Contents",
   "title_sidebar": "Contents",
   "toc_cell": false,
   "toc_position": {
    "height": "calc(100% - 180px)",
    "left": "10px",
    "top": "150px",
    "width": "320px"
   },
   "toc_section_display": true,
   "toc_window_display": true
  },
  "varInspector": {
   "cols": {
    "lenName": 16,
    "lenType": 16,
    "lenVar": 40
   },
   "kernels_config": {
    "python": {
     "delete_cmd_postfix": "",
     "delete_cmd_prefix": "del ",
     "library": "var_list.py",
     "varRefreshCmd": "print(var_dic_list())"
    },
    "r": {
     "delete_cmd_postfix": ") ",
     "delete_cmd_prefix": "rm(",
     "library": "var_list.r",
     "varRefreshCmd": "cat(var_dic_list()) "
    }
   },
   "types_to_exclude": [
    "module",
    "function",
    "builtin_function_or_method",
    "instance",
    "_Feature"
   ],
   "window_display": false
  }
 },
 "nbformat": 4,
 "nbformat_minor": 2
}
