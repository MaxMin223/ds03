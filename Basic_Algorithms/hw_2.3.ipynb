{
 "cells": [
  {
   "cell_type": "markdown",
   "metadata": {},
   "source": [
    "Описание задания:\n",
    "\n",
    "Что делать\n",
    "\n",
    "Построить модель логистической регрессии, которая предсказывает уровень дохода.\n",
    "\n",
    "При возможности попробуйте улучшить точность предсказаний (метод score) с помощью перебора признаков."
   ]
  },
  {
   "cell_type": "code",
   "execution_count": 1,
   "metadata": {
    "ExecuteTime": {
     "end_time": "2018-04-25T22:55:46.354317Z",
     "start_time": "2018-04-25T22:55:44.827937Z"
    }
   },
   "outputs": [],
   "source": [
    "import pandas as pd\n",
    "import numpy as np\n",
    "import matplotlib as plt\n",
    "import seaborn as sns; sns.set()"
   ]
  },
  {
   "cell_type": "code",
   "execution_count": 2,
   "metadata": {
    "ExecuteTime": {
     "end_time": "2018-04-25T22:55:46.491360Z",
     "start_time": "2018-04-25T22:55:46.357152Z"
    }
   },
   "outputs": [],
   "source": [
    "data = pd.read_csv('adult.csv')"
   ]
  },
  {
   "cell_type": "code",
   "execution_count": 3,
   "metadata": {
    "ExecuteTime": {
     "end_time": "2018-04-25T22:55:46.549175Z",
     "start_time": "2018-04-25T22:55:46.494159Z"
    }
   },
   "outputs": [
    {
     "name": "stdout",
     "output_type": "stream",
     "text": [
      "<class 'pandas.core.frame.DataFrame'>\n",
      "RangeIndex: 48842 entries, 0 to 48841\n",
      "Data columns (total 15 columns):\n",
      "age                48842 non-null int64\n",
      "workclass          48842 non-null object\n",
      "fnlwgt             48842 non-null int64\n",
      "education          48842 non-null object\n",
      "educational-num    48842 non-null int64\n",
      "marital-status     48842 non-null object\n",
      "occupation         48842 non-null object\n",
      "relationship       48842 non-null object\n",
      "race               48842 non-null object\n",
      "gender             48842 non-null object\n",
      "capital-gain       48842 non-null int64\n",
      "capital-loss       48842 non-null int64\n",
      "hours-per-week     48842 non-null int64\n",
      "native-country     48842 non-null object\n",
      "income             48842 non-null object\n",
      "dtypes: int64(6), object(9)\n",
      "memory usage: 5.6+ MB\n"
     ]
    }
   ],
   "source": [
    "\n",
    "data.info()"
   ]
  },
  {
   "cell_type": "markdown",
   "metadata": {},
   "source": [
    "Пустых значений в наших данных нет. Imputer нет необходимости использовать."
   ]
  },
  {
   "cell_type": "code",
   "execution_count": 4,
   "metadata": {
    "ExecuteTime": {
     "end_time": "2018-04-25T22:55:46.587508Z",
     "start_time": "2018-04-25T22:55:46.552822Z"
    }
   },
   "outputs": [
    {
     "data": {
      "text/html": [
       "<div>\n",
       "<style scoped>\n",
       "    .dataframe tbody tr th:only-of-type {\n",
       "        vertical-align: middle;\n",
       "    }\n",
       "\n",
       "    .dataframe tbody tr th {\n",
       "        vertical-align: top;\n",
       "    }\n",
       "\n",
       "    .dataframe thead th {\n",
       "        text-align: right;\n",
       "    }\n",
       "</style>\n",
       "<table border=\"1\" class=\"dataframe\">\n",
       "  <thead>\n",
       "    <tr style=\"text-align: right;\">\n",
       "      <th></th>\n",
       "      <th>age</th>\n",
       "      <th>workclass</th>\n",
       "      <th>fnlwgt</th>\n",
       "      <th>education</th>\n",
       "      <th>educational-num</th>\n",
       "      <th>marital-status</th>\n",
       "      <th>occupation</th>\n",
       "      <th>relationship</th>\n",
       "      <th>race</th>\n",
       "      <th>gender</th>\n",
       "      <th>capital-gain</th>\n",
       "      <th>capital-loss</th>\n",
       "      <th>hours-per-week</th>\n",
       "      <th>native-country</th>\n",
       "      <th>income</th>\n",
       "    </tr>\n",
       "  </thead>\n",
       "  <tbody>\n",
       "    <tr>\n",
       "      <th>0</th>\n",
       "      <td>25</td>\n",
       "      <td>Private</td>\n",
       "      <td>226802</td>\n",
       "      <td>11th</td>\n",
       "      <td>7</td>\n",
       "      <td>Never-married</td>\n",
       "      <td>Machine-op-inspct</td>\n",
       "      <td>Own-child</td>\n",
       "      <td>Black</td>\n",
       "      <td>Male</td>\n",
       "      <td>0</td>\n",
       "      <td>0</td>\n",
       "      <td>40</td>\n",
       "      <td>United-States</td>\n",
       "      <td>&lt;=50K</td>\n",
       "    </tr>\n",
       "    <tr>\n",
       "      <th>1</th>\n",
       "      <td>38</td>\n",
       "      <td>Private</td>\n",
       "      <td>89814</td>\n",
       "      <td>HS-grad</td>\n",
       "      <td>9</td>\n",
       "      <td>Married-civ-spouse</td>\n",
       "      <td>Farming-fishing</td>\n",
       "      <td>Husband</td>\n",
       "      <td>White</td>\n",
       "      <td>Male</td>\n",
       "      <td>0</td>\n",
       "      <td>0</td>\n",
       "      <td>50</td>\n",
       "      <td>United-States</td>\n",
       "      <td>&lt;=50K</td>\n",
       "    </tr>\n",
       "    <tr>\n",
       "      <th>2</th>\n",
       "      <td>28</td>\n",
       "      <td>Local-gov</td>\n",
       "      <td>336951</td>\n",
       "      <td>Assoc-acdm</td>\n",
       "      <td>12</td>\n",
       "      <td>Married-civ-spouse</td>\n",
       "      <td>Protective-serv</td>\n",
       "      <td>Husband</td>\n",
       "      <td>White</td>\n",
       "      <td>Male</td>\n",
       "      <td>0</td>\n",
       "      <td>0</td>\n",
       "      <td>40</td>\n",
       "      <td>United-States</td>\n",
       "      <td>&gt;50K</td>\n",
       "    </tr>\n",
       "    <tr>\n",
       "      <th>3</th>\n",
       "      <td>44</td>\n",
       "      <td>Private</td>\n",
       "      <td>160323</td>\n",
       "      <td>Some-college</td>\n",
       "      <td>10</td>\n",
       "      <td>Married-civ-spouse</td>\n",
       "      <td>Machine-op-inspct</td>\n",
       "      <td>Husband</td>\n",
       "      <td>Black</td>\n",
       "      <td>Male</td>\n",
       "      <td>7688</td>\n",
       "      <td>0</td>\n",
       "      <td>40</td>\n",
       "      <td>United-States</td>\n",
       "      <td>&gt;50K</td>\n",
       "    </tr>\n",
       "    <tr>\n",
       "      <th>4</th>\n",
       "      <td>18</td>\n",
       "      <td>?</td>\n",
       "      <td>103497</td>\n",
       "      <td>Some-college</td>\n",
       "      <td>10</td>\n",
       "      <td>Never-married</td>\n",
       "      <td>?</td>\n",
       "      <td>Own-child</td>\n",
       "      <td>White</td>\n",
       "      <td>Female</td>\n",
       "      <td>0</td>\n",
       "      <td>0</td>\n",
       "      <td>30</td>\n",
       "      <td>United-States</td>\n",
       "      <td>&lt;=50K</td>\n",
       "    </tr>\n",
       "  </tbody>\n",
       "</table>\n",
       "</div>"
      ],
      "text/plain": [
       "   age  workclass  fnlwgt     education  educational-num      marital-status  \\\n",
       "0   25    Private  226802          11th                7       Never-married   \n",
       "1   38    Private   89814       HS-grad                9  Married-civ-spouse   \n",
       "2   28  Local-gov  336951    Assoc-acdm               12  Married-civ-spouse   \n",
       "3   44    Private  160323  Some-college               10  Married-civ-spouse   \n",
       "4   18          ?  103497  Some-college               10       Never-married   \n",
       "\n",
       "          occupation relationship   race  gender  capital-gain  capital-loss  \\\n",
       "0  Machine-op-inspct    Own-child  Black    Male             0             0   \n",
       "1    Farming-fishing      Husband  White    Male             0             0   \n",
       "2    Protective-serv      Husband  White    Male             0             0   \n",
       "3  Machine-op-inspct      Husband  Black    Male          7688             0   \n",
       "4                  ?    Own-child  White  Female             0             0   \n",
       "\n",
       "   hours-per-week native-country income  \n",
       "0              40  United-States  <=50K  \n",
       "1              50  United-States  <=50K  \n",
       "2              40  United-States   >50K  \n",
       "3              40  United-States   >50K  \n",
       "4              30  United-States  <=50K  "
      ]
     },
     "execution_count": 4,
     "metadata": {},
     "output_type": "execute_result"
    }
   ],
   "source": [
    "data.head()"
   ]
  },
  {
   "cell_type": "code",
   "execution_count": 5,
   "metadata": {
    "ExecuteTime": {
     "end_time": "2018-04-25T22:55:46.602811Z",
     "start_time": "2018-04-25T22:55:46.591323Z"
    }
   },
   "outputs": [],
   "source": [
    "y = data.income\n",
    "X = data.drop('income', axis=1)\n"
   ]
  },
  {
   "cell_type": "markdown",
   "metadata": {},
   "source": [
    "Категориальный признак native-country с большой вариацией значений, из которых большинство Unites-States, заменю на 1  для Unites-States, 0 - для остальных.\n",
    "Аналогичное кодирование делаю для содержимого gender"
   ]
  },
  {
   "cell_type": "code",
   "execution_count": 6,
   "metadata": {
    "ExecuteTime": {
     "end_time": "2018-04-25T22:55:46.628673Z",
     "start_time": "2018-04-25T22:55:46.606028Z"
    }
   },
   "outputs": [
    {
     "data": {
      "text/plain": [
       "United-States    43832\n",
       "Mexico             951\n",
       "?                  857\n",
       "Philippines        295\n",
       "Germany            206\n",
       "Name: native-country, dtype: int64"
      ]
     },
     "execution_count": 6,
     "metadata": {},
     "output_type": "execute_result"
    }
   ],
   "source": [
    "X['native-country'].value_counts().head()"
   ]
  },
  {
   "cell_type": "code",
   "execution_count": 7,
   "metadata": {
    "ExecuteTime": {
     "end_time": "2018-04-25T22:55:46.725930Z",
     "start_time": "2018-04-25T22:55:46.631501Z"
    },
    "scrolled": true
   },
   "outputs": [
    {
     "data": {
      "text/plain": [
       "1    43832\n",
       "0     5010\n",
       "Name: native-country, dtype: int64"
      ]
     },
     "execution_count": 7,
     "metadata": {},
     "output_type": "execute_result"
    }
   ],
   "source": [
    "X['native-country'] = X['native-country'].apply(lambda x: int(x == 'United-States'))\n",
    "X['gender'] = X['gender'].apply(lambda x: int(x == 'male'))\n",
    "X['native-country'].value_counts()"
   ]
  },
  {
   "cell_type": "markdown",
   "metadata": {},
   "source": [
    "Далее по всем категориальным признакам провожу dummies кодирование.\n",
    "Потом стандартизация всех получившихся признаков"
   ]
  },
  {
   "cell_type": "code",
   "execution_count": 8,
   "metadata": {
    "ExecuteTime": {
     "end_time": "2018-04-25T22:55:46.818453Z",
     "start_time": "2018-04-25T22:55:46.728756Z"
    }
   },
   "outputs": [],
   "source": [
    "cat_feat = list(X.dtypes[data.dtypes == 'object'].index)\n",
    "num_feat = list(X.dtypes[data.dtypes == 'int64'].index)\n",
    "X = pd.get_dummies(X[cat_feat], columns=cat_feat)"
   ]
  },
  {
   "cell_type": "code",
   "execution_count": 9,
   "metadata": {
    "ExecuteTime": {
     "end_time": "2018-04-25T22:55:46.926112Z",
     "start_time": "2018-04-25T22:55:46.821949Z"
    }
   },
   "outputs": [],
   "source": [
    "from sklearn.preprocessing import LabelEncoder\n",
    "le_y = LabelEncoder()\n",
    "y = pd.Series(data = le_y.fit_transform(y))"
   ]
  },
  {
   "cell_type": "code",
   "execution_count": 10,
   "metadata": {
    "ExecuteTime": {
     "end_time": "2018-04-25T22:55:46.936030Z",
     "start_time": "2018-04-25T22:55:46.929695Z"
    }
   },
   "outputs": [
    {
     "data": {
      "text/plain": [
       "((48842, 61), (48842,))"
      ]
     },
     "execution_count": 10,
     "metadata": {},
     "output_type": "execute_result"
    }
   ],
   "source": [
    "X.shape , y.shape"
   ]
  },
  {
   "cell_type": "code",
   "execution_count": 11,
   "metadata": {
    "ExecuteTime": {
     "end_time": "2018-04-25T22:55:47.029446Z",
     "start_time": "2018-04-25T22:55:46.939477Z"
    }
   },
   "outputs": [],
   "source": [
    "from sklearn.preprocessing import StandardScaler\n",
    "scaler = StandardScaler().fit(X)\n",
    "X_scaled = pd.DataFrame(scaler.transform(X), index=X.index, columns=X.columns)"
   ]
  },
  {
   "cell_type": "markdown",
   "metadata": {},
   "source": [
    "Делаю стратифицированное разбиение на train и test выборки"
   ]
  },
  {
   "cell_type": "code",
   "execution_count": 12,
   "metadata": {
    "ExecuteTime": {
     "end_time": "2018-04-25T22:55:47.105823Z",
     "start_time": "2018-04-25T22:55:47.035803Z"
    }
   },
   "outputs": [],
   "source": [
    "from sklearn.model_selection import train_test_split\n",
    "X_train, X_test, y_train, y_test = train_test_split(X_scaled, y, test_size=0.2, stratify=y, random_state=42)\n"
   ]
  },
  {
   "cell_type": "code",
   "execution_count": 13,
   "metadata": {
    "ExecuteTime": {
     "end_time": "2018-04-25T22:55:47.175320Z",
     "start_time": "2018-04-25T22:55:47.109216Z"
    }
   },
   "outputs": [
    {
     "data": {
      "text/html": [
       "<div>\n",
       "<style scoped>\n",
       "    .dataframe tbody tr th:only-of-type {\n",
       "        vertical-align: middle;\n",
       "    }\n",
       "\n",
       "    .dataframe tbody tr th {\n",
       "        vertical-align: top;\n",
       "    }\n",
       "\n",
       "    .dataframe thead th {\n",
       "        text-align: right;\n",
       "    }\n",
       "</style>\n",
       "<table border=\"1\" class=\"dataframe\">\n",
       "  <thead>\n",
       "    <tr style=\"text-align: right;\">\n",
       "      <th></th>\n",
       "      <th>workclass_?</th>\n",
       "      <th>workclass_Federal-gov</th>\n",
       "      <th>workclass_Local-gov</th>\n",
       "      <th>workclass_Never-worked</th>\n",
       "      <th>workclass_Private</th>\n",
       "      <th>workclass_Self-emp-inc</th>\n",
       "      <th>workclass_Self-emp-not-inc</th>\n",
       "      <th>workclass_State-gov</th>\n",
       "      <th>workclass_Without-pay</th>\n",
       "      <th>education_10th</th>\n",
       "      <th>...</th>\n",
       "      <th>relationship_Unmarried</th>\n",
       "      <th>relationship_Wife</th>\n",
       "      <th>race_Amer-Indian-Eskimo</th>\n",
       "      <th>race_Asian-Pac-Islander</th>\n",
       "      <th>race_Black</th>\n",
       "      <th>race_Other</th>\n",
       "      <th>race_White</th>\n",
       "      <th>gender_0</th>\n",
       "      <th>native-country_0</th>\n",
       "      <th>native-country_1</th>\n",
       "    </tr>\n",
       "  </thead>\n",
       "  <tbody>\n",
       "    <tr>\n",
       "      <th>34342</th>\n",
       "      <td>-0.246558</td>\n",
       "      <td>-0.173795</td>\n",
       "      <td>-0.26194</td>\n",
       "      <td>-0.01431</td>\n",
       "      <td>0.663711</td>\n",
       "      <td>-0.189609</td>\n",
       "      <td>-0.293019</td>\n",
       "      <td>-0.205606</td>\n",
       "      <td>-0.02074</td>\n",
       "      <td>-0.171088</td>\n",
       "      <td>...</td>\n",
       "      <td>-0.342391</td>\n",
       "      <td>-0.223869</td>\n",
       "      <td>-0.098572</td>\n",
       "      <td>-0.179161</td>\n",
       "      <td>-0.325728</td>\n",
       "      <td>-0.091554</td>\n",
       "      <td>0.411743</td>\n",
       "      <td>0.0</td>\n",
       "      <td>-0.338083</td>\n",
       "      <td>0.338083</td>\n",
       "    </tr>\n",
       "    <tr>\n",
       "      <th>18559</th>\n",
       "      <td>-0.246558</td>\n",
       "      <td>-0.173795</td>\n",
       "      <td>-0.26194</td>\n",
       "      <td>-0.01431</td>\n",
       "      <td>0.663711</td>\n",
       "      <td>-0.189609</td>\n",
       "      <td>-0.293019</td>\n",
       "      <td>-0.205606</td>\n",
       "      <td>-0.02074</td>\n",
       "      <td>5.844949</td>\n",
       "      <td>...</td>\n",
       "      <td>-0.342391</td>\n",
       "      <td>-0.223869</td>\n",
       "      <td>-0.098572</td>\n",
       "      <td>-0.179161</td>\n",
       "      <td>-0.325728</td>\n",
       "      <td>-0.091554</td>\n",
       "      <td>0.411743</td>\n",
       "      <td>0.0</td>\n",
       "      <td>-0.338083</td>\n",
       "      <td>0.338083</td>\n",
       "    </tr>\n",
       "    <tr>\n",
       "      <th>12477</th>\n",
       "      <td>-0.246558</td>\n",
       "      <td>-0.173795</td>\n",
       "      <td>-0.26194</td>\n",
       "      <td>-0.01431</td>\n",
       "      <td>0.663711</td>\n",
       "      <td>-0.189609</td>\n",
       "      <td>-0.293019</td>\n",
       "      <td>-0.205606</td>\n",
       "      <td>-0.02074</td>\n",
       "      <td>-0.171088</td>\n",
       "      <td>...</td>\n",
       "      <td>-0.342391</td>\n",
       "      <td>-0.223869</td>\n",
       "      <td>-0.098572</td>\n",
       "      <td>-0.179161</td>\n",
       "      <td>-0.325728</td>\n",
       "      <td>-0.091554</td>\n",
       "      <td>0.411743</td>\n",
       "      <td>0.0</td>\n",
       "      <td>2.957854</td>\n",
       "      <td>-2.957854</td>\n",
       "    </tr>\n",
       "    <tr>\n",
       "      <th>560</th>\n",
       "      <td>-0.246558</td>\n",
       "      <td>-0.173795</td>\n",
       "      <td>-0.26194</td>\n",
       "      <td>-0.01431</td>\n",
       "      <td>0.663711</td>\n",
       "      <td>-0.189609</td>\n",
       "      <td>-0.293019</td>\n",
       "      <td>-0.205606</td>\n",
       "      <td>-0.02074</td>\n",
       "      <td>-0.171088</td>\n",
       "      <td>...</td>\n",
       "      <td>2.920641</td>\n",
       "      <td>-0.223869</td>\n",
       "      <td>-0.098572</td>\n",
       "      <td>-0.179161</td>\n",
       "      <td>3.070047</td>\n",
       "      <td>-0.091554</td>\n",
       "      <td>-2.428701</td>\n",
       "      <td>0.0</td>\n",
       "      <td>-0.338083</td>\n",
       "      <td>0.338083</td>\n",
       "    </tr>\n",
       "    <tr>\n",
       "      <th>3427</th>\n",
       "      <td>-0.246558</td>\n",
       "      <td>-0.173795</td>\n",
       "      <td>-0.26194</td>\n",
       "      <td>-0.01431</td>\n",
       "      <td>0.663711</td>\n",
       "      <td>-0.189609</td>\n",
       "      <td>-0.293019</td>\n",
       "      <td>-0.205606</td>\n",
       "      <td>-0.02074</td>\n",
       "      <td>-0.171088</td>\n",
       "      <td>...</td>\n",
       "      <td>-0.342391</td>\n",
       "      <td>-0.223869</td>\n",
       "      <td>-0.098572</td>\n",
       "      <td>-0.179161</td>\n",
       "      <td>-0.325728</td>\n",
       "      <td>-0.091554</td>\n",
       "      <td>0.411743</td>\n",
       "      <td>0.0</td>\n",
       "      <td>-0.338083</td>\n",
       "      <td>0.338083</td>\n",
       "    </tr>\n",
       "  </tbody>\n",
       "</table>\n",
       "<p>5 rows × 61 columns</p>\n",
       "</div>"
      ],
      "text/plain": [
       "       workclass_?  workclass_Federal-gov  workclass_Local-gov  \\\n",
       "34342    -0.246558              -0.173795             -0.26194   \n",
       "18559    -0.246558              -0.173795             -0.26194   \n",
       "12477    -0.246558              -0.173795             -0.26194   \n",
       "560      -0.246558              -0.173795             -0.26194   \n",
       "3427     -0.246558              -0.173795             -0.26194   \n",
       "\n",
       "       workclass_Never-worked  workclass_Private  workclass_Self-emp-inc  \\\n",
       "34342                -0.01431           0.663711               -0.189609   \n",
       "18559                -0.01431           0.663711               -0.189609   \n",
       "12477                -0.01431           0.663711               -0.189609   \n",
       "560                  -0.01431           0.663711               -0.189609   \n",
       "3427                 -0.01431           0.663711               -0.189609   \n",
       "\n",
       "       workclass_Self-emp-not-inc  workclass_State-gov  workclass_Without-pay  \\\n",
       "34342                   -0.293019            -0.205606               -0.02074   \n",
       "18559                   -0.293019            -0.205606               -0.02074   \n",
       "12477                   -0.293019            -0.205606               -0.02074   \n",
       "560                     -0.293019            -0.205606               -0.02074   \n",
       "3427                    -0.293019            -0.205606               -0.02074   \n",
       "\n",
       "       education_10th        ...         relationship_Unmarried  \\\n",
       "34342       -0.171088        ...                      -0.342391   \n",
       "18559        5.844949        ...                      -0.342391   \n",
       "12477       -0.171088        ...                      -0.342391   \n",
       "560         -0.171088        ...                       2.920641   \n",
       "3427        -0.171088        ...                      -0.342391   \n",
       "\n",
       "       relationship_Wife  race_Amer-Indian-Eskimo  race_Asian-Pac-Islander  \\\n",
       "34342          -0.223869                -0.098572                -0.179161   \n",
       "18559          -0.223869                -0.098572                -0.179161   \n",
       "12477          -0.223869                -0.098572                -0.179161   \n",
       "560            -0.223869                -0.098572                -0.179161   \n",
       "3427           -0.223869                -0.098572                -0.179161   \n",
       "\n",
       "       race_Black  race_Other  race_White  gender_0  native-country_0  \\\n",
       "34342   -0.325728   -0.091554    0.411743       0.0         -0.338083   \n",
       "18559   -0.325728   -0.091554    0.411743       0.0         -0.338083   \n",
       "12477   -0.325728   -0.091554    0.411743       0.0          2.957854   \n",
       "560      3.070047   -0.091554   -2.428701       0.0         -0.338083   \n",
       "3427    -0.325728   -0.091554    0.411743       0.0         -0.338083   \n",
       "\n",
       "       native-country_1  \n",
       "34342          0.338083  \n",
       "18559          0.338083  \n",
       "12477         -2.957854  \n",
       "560            0.338083  \n",
       "3427           0.338083  \n",
       "\n",
       "[5 rows x 61 columns]"
      ]
     },
     "execution_count": 13,
     "metadata": {},
     "output_type": "execute_result"
    }
   ],
   "source": [
    "X_train.head()"
   ]
  },
  {
   "cell_type": "markdown",
   "metadata": {},
   "source": [
    "Логистическая регрессия с параметрами по умолчанию. L2-регуляризация, С=1"
   ]
  },
  {
   "cell_type": "code",
   "execution_count": 14,
   "metadata": {
    "ExecuteTime": {
     "end_time": "2018-04-25T22:55:47.243593Z",
     "start_time": "2018-04-25T22:55:47.179140Z"
    }
   },
   "outputs": [],
   "source": [
    "from sklearn.linear_model import LogisticRegression\n",
    "log_reg = LogisticRegression()"
   ]
  },
  {
   "cell_type": "code",
   "execution_count": 15,
   "metadata": {
    "ExecuteTime": {
     "end_time": "2018-04-25T22:55:48.246542Z",
     "start_time": "2018-04-25T22:55:47.248018Z"
    }
   },
   "outputs": [
    {
     "data": {
      "text/plain": [
       "LogisticRegression(C=1.0, class_weight=None, dual=False, fit_intercept=True,\n",
       "          intercept_scaling=1, max_iter=100, multi_class='ovr', n_jobs=1,\n",
       "          penalty='l2', random_state=None, solver='liblinear', tol=0.0001,\n",
       "          verbose=0, warm_start=False)"
      ]
     },
     "execution_count": 15,
     "metadata": {},
     "output_type": "execute_result"
    }
   ],
   "source": [
    "log_reg.fit(X_train, y_train)"
   ]
  },
  {
   "cell_type": "code",
   "execution_count": 16,
   "metadata": {
    "ExecuteTime": {
     "end_time": "2018-04-25T22:55:48.268906Z",
     "start_time": "2018-04-25T22:55:48.249285Z"
    }
   },
   "outputs": [
    {
     "name": "stdout",
     "output_type": "stream",
     "text": [
      "Правильность на обучающем наборе 0.8324\n",
      "Правильность на тестовом наборе 0.8327\n"
     ]
    }
   ],
   "source": [
    "print('Правильность на обучающем наборе {:.4f}'.format(log_reg.score(X_train, y_train)))\n",
    "print('Правильность на тестовом наборе {:.4f}'.format(log_reg.score(X_test, y_test)))\n"
   ]
  },
  {
   "cell_type": "markdown",
   "metadata": {},
   "source": [
    "По полученнной точности на train и test видно, что модель недоучена. Попробуем улучшить 0.8327 подбором гиперпараметров."
   ]
  },
  {
   "cell_type": "code",
   "execution_count": 17,
   "metadata": {
    "ExecuteTime": {
     "end_time": "2018-04-25T22:55:52.415572Z",
     "start_time": "2018-04-25T22:55:48.271814Z"
    }
   },
   "outputs": [
    {
     "name": "stdout",
     "output_type": "stream",
     "text": [
      "C = 0.001\n",
      "Правильность на обучающем наборе 0.8327\n",
      "Правильность на тестовом наборе 0.8322\n",
      "C = 0.01\n",
      "Правильность на обучающем наборе 0.8324\n",
      "Правильность на тестовом наборе 0.8326\n",
      "C = 0.1\n",
      "Правильность на обучающем наборе 0.8325\n",
      "Правильность на тестовом наборе 0.8327\n",
      "C = 1\n",
      "Правильность на обучающем наборе 0.8324\n",
      "Правильность на тестовом наборе 0.8327\n",
      "C = 10\n",
      "Правильность на обучающем наборе 0.8324\n",
      "Правильность на тестовом наборе 0.8327\n"
     ]
    }
   ],
   "source": [
    "for C in [0.001, 0.01, 0.1, 1, 10]:\n",
    "    log_reg = LogisticRegression(penalty='l2',C=C)\n",
    "    log_reg.fit(X_train, y_train)\n",
    "    print('C = {}'.format(C))\n",
    "    print('Правильность на обучающем наборе {:.4f}'.format(log_reg.score(X_train, y_train)))\n",
    "    print('Правильность на тестовом наборе {:.4f}'.format(log_reg.score(X_test, y_test)))\n"
   ]
  },
  {
   "cell_type": "markdown",
   "metadata": {},
   "source": [
    "L2 регуляризация с перебором параметра C не улучашет точность 0.8327"
   ]
  },
  {
   "cell_type": "code",
   "execution_count": 18,
   "metadata": {
    "ExecuteTime": {
     "end_time": "2018-04-25T22:56:28.278698Z",
     "start_time": "2018-04-25T22:55:52.419315Z"
    }
   },
   "outputs": [
    {
     "name": "stdout",
     "output_type": "stream",
     "text": [
      "C = 0.001\n",
      "Правильность на обучающем наборе 0.8182\n",
      "Правильность на тестовом наборе 0.8172\n",
      "Количество используемых признаков 10\n",
      "C = 0.01\n",
      "Правильность на обучающем наборе 0.8316\n",
      "Правильность на тестовом наборе 0.8315\n",
      "Количество используемых признаков 43\n",
      "C = 0.1\n",
      "Правильность на обучающем наборе 0.8325\n",
      "Правильность на тестовом наборе 0.8332\n",
      "Количество используемых признаков 52\n",
      "C = 1\n",
      "Правильность на обучающем наборе 0.8324\n",
      "Правильность на тестовом наборе 0.8327\n",
      "Количество используемых признаков 55\n",
      "C = 10\n",
      "Правильность на обучающем наборе 0.8324\n",
      "Правильность на тестовом наборе 0.8327\n",
      "Количество используемых признаков 60\n"
     ]
    }
   ],
   "source": [
    "for C in [0.001, 0.01, 0.1, 1, 10]:\n",
    "    log_reg = LogisticRegression(penalty='l1',C=C)\n",
    "    log_reg.fit(X_train, y_train)\n",
    "    print('C = {}'.format(C))\n",
    "    print('Правильность на обучающем наборе {:.4f}'.format(log_reg.score(X_train, y_train)))\n",
    "    print('Правильность на тестовом наборе {:.4f}'.format(log_reg.score(X_test, y_test)))\n",
    "    print('Количество используемых признаков {}'.format(np.sum(log_reg.coef_ != 0)))"
   ]
  },
  {
   "cell_type": "markdown",
   "metadata": {},
   "source": [
    "L1 регуляризаци с подбором параметра С позволяет немного повысить точность до 0.8332.\n",
    "\n",
    "Тем не менее, судя по точности на обучающем наборе модель все равно недоучивается. Видимо, для слишком простая для данного набора данных. \n",
    "Повысить сложность модели можно было бы с помощью полиномиальных признаков, но не уверен, что для это применимо для логистической регрессии )\n"
   ]
  },
  {
   "cell_type": "code",
   "execution_count": 19,
   "metadata": {
    "ExecuteTime": {
     "end_time": "2018-04-25T22:56:31.327108Z",
     "start_time": "2018-04-25T22:56:28.281311Z"
    }
   },
   "outputs": [
    {
     "name": "stdout",
     "output_type": "stream",
     "text": [
      "Правильность на обучающем наборе 0.8325\n",
      "Правильность на тестовом наборе 0.8332\n",
      "Количество используемых признаков 52\n"
     ]
    }
   ],
   "source": [
    "log_reg = LogisticRegression(penalty='l1',C=0.1)\n",
    "log_reg.fit(X_train, y_train)\n",
    "print('Правильность на обучающем наборе {:.4f}'.format(log_reg.score(X_train, y_train)))\n",
    "print('Правильность на тестовом наборе {:.4f}'.format(log_reg.score(X_test, y_test)))\n",
    "print('Количество используемых признаков {}'.format(np.sum(log_reg.coef_ != 0)))"
   ]
  },
  {
   "cell_type": "code",
   "execution_count": null,
   "metadata": {},
   "outputs": [],
   "source": []
  }
 ],
 "metadata": {
  "hide_input": false,
  "kernelspec": {
   "display_name": "Python 3",
   "language": "python",
   "name": "python3"
  },
  "language_info": {
   "codemirror_mode": {
    "name": "ipython",
    "version": 3
   },
   "file_extension": ".py",
   "mimetype": "text/x-python",
   "name": "python",
   "nbconvert_exporter": "python",
   "pygments_lexer": "ipython3",
   "version": "3.6.6"
  },
  "toc": {
   "base_numbering": 1,
   "nav_menu": {},
   "number_sections": true,
   "sideBar": true,
   "skip_h1_title": false,
   "title_cell": "Table of Contents",
   "title_sidebar": "Contents",
   "toc_cell": false,
   "toc_position": {},
   "toc_section_display": true,
   "toc_window_display": false
  },
  "varInspector": {
   "cols": {
    "lenName": 16,
    "lenType": 16,
    "lenVar": 40
   },
   "kernels_config": {
    "python": {
     "delete_cmd_postfix": "",
     "delete_cmd_prefix": "del ",
     "library": "var_list.py",
     "varRefreshCmd": "print(var_dic_list())"
    },
    "r": {
     "delete_cmd_postfix": ") ",
     "delete_cmd_prefix": "rm(",
     "library": "var_list.r",
     "varRefreshCmd": "cat(var_dic_list()) "
    }
   },
   "types_to_exclude": [
    "module",
    "function",
    "builtin_function_or_method",
    "instance",
    "_Feature"
   ],
   "window_display": false
  }
 },
 "nbformat": 4,
 "nbformat_minor": 2
}
