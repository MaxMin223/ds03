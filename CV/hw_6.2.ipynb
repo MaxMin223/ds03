{
 "cells": [
  {
   "cell_type": "markdown",
   "metadata": {},
   "source": [
    "# Распознавание рукописного ввода на примере базы MNIST"
   ]
  },
  {
   "cell_type": "markdown",
   "metadata": {},
   "source": [
    "Что делать\n",
    "\n",
    "Построить классификатор изображений рукописного ввода на базе MNIST. В качестве шаблона можно использовать ipython-ноутбук 002-digit.ipynb.\n",
    "\n",
    "Классификатор предлагается строить на признаках, полученных в результате предобработки изображений, например, гистограммы градиентов (HOG) или результат PCA преобразования.\n",
    "\n",
    "В качестве модели классификатора можно использовать любую известную модель, за исключением сверточных нейронных сетей.\n",
    "\n",
    " \n",
    "\n",
    "Критерии качества \n",
    "\n",
    "Метрика accuracy. Чтобы получить зачёт по работе работе, значение метрики должно быть больше 0.6. Метрика оценивается на тестовой выборке в рамках контеста Digit Recognizer на Kaggle.\n",
    "\n",
    " \n",
    "\n",
    "Как сдавать\n",
    "\n",
    "Решение необходимо предоставить в виде ipytnon-ноутбука с реализацией процесса построения модели и скриншота с финальным результатом на Kaggle.\n"
   ]
  },
  {
   "cell_type": "markdown",
   "metadata": {},
   "source": [
    "## Обработка данных"
   ]
  },
  {
   "cell_type": "code",
   "execution_count": 1,
   "metadata": {
    "ExecuteTime": {
     "end_time": "2018-07-08T17:12:13.906683Z",
     "start_time": "2018-07-08T17:12:13.170526Z"
    }
   },
   "outputs": [],
   "source": [
    "import pandas as pd\n",
    "import numpy as np\n",
    "import matplotlib.pyplot as plt\n",
    "%matplotlib inline\n",
    "\n",
    "from sklearn.preprocessing import StandardScaler\n",
    "from sklearn.pipeline import Pipeline\n",
    "from sklearn.model_selection import train_test_split, GridSearchCV\n",
    "from sklearn.ensemble import RandomForestClassifier\n",
    "from sklearn.decomposition import PCA\n",
    "from sklearn.svm import SVC\n",
    "from sklearn.neural_network import MLPClassifier\n",
    "from sklearn.metrics import accuracy_score, classification_report, confusion_matrix\n",
    "\n",
    "RANDOM_SEED = 42"
   ]
  },
  {
   "cell_type": "code",
   "execution_count": 2,
   "metadata": {
    "ExecuteTime": {
     "end_time": "2018-07-08T17:12:20.343564Z",
     "start_time": "2018-07-08T17:12:13.969728Z"
    }
   },
   "outputs": [],
   "source": [
    "df_train = pd.read_csv('./data/digit/train.csv')\n",
    "df_test = pd.read_csv('./data/digit/test.csv')"
   ]
  },
  {
   "cell_type": "code",
   "execution_count": 3,
   "metadata": {
    "ExecuteTime": {
     "end_time": "2018-07-08T17:12:21.004757Z",
     "start_time": "2018-07-08T17:12:20.988897Z"
    }
   },
   "outputs": [],
   "source": [
    "df_test.index = range(1,len(df_test)+1)"
   ]
  },
  {
   "cell_type": "code",
   "execution_count": 4,
   "metadata": {
    "ExecuteTime": {
     "end_time": "2018-07-08T17:12:21.600069Z",
     "start_time": "2018-07-08T17:12:21.567973Z"
    }
   },
   "outputs": [
    {
     "data": {
      "text/html": [
       "<div>\n",
       "<style scoped>\n",
       "    .dataframe tbody tr th:only-of-type {\n",
       "        vertical-align: middle;\n",
       "    }\n",
       "\n",
       "    .dataframe tbody tr th {\n",
       "        vertical-align: top;\n",
       "    }\n",
       "\n",
       "    .dataframe thead th {\n",
       "        text-align: right;\n",
       "    }\n",
       "</style>\n",
       "<table border=\"1\" class=\"dataframe\">\n",
       "  <thead>\n",
       "    <tr style=\"text-align: right;\">\n",
       "      <th></th>\n",
       "      <th>pixel0</th>\n",
       "      <th>pixel1</th>\n",
       "      <th>pixel2</th>\n",
       "      <th>pixel3</th>\n",
       "      <th>pixel4</th>\n",
       "      <th>pixel5</th>\n",
       "      <th>pixel6</th>\n",
       "      <th>pixel7</th>\n",
       "      <th>pixel8</th>\n",
       "      <th>pixel9</th>\n",
       "      <th>...</th>\n",
       "      <th>pixel774</th>\n",
       "      <th>pixel775</th>\n",
       "      <th>pixel776</th>\n",
       "      <th>pixel777</th>\n",
       "      <th>pixel778</th>\n",
       "      <th>pixel779</th>\n",
       "      <th>pixel780</th>\n",
       "      <th>pixel781</th>\n",
       "      <th>pixel782</th>\n",
       "      <th>pixel783</th>\n",
       "    </tr>\n",
       "  </thead>\n",
       "  <tbody>\n",
       "    <tr>\n",
       "      <th>1</th>\n",
       "      <td>0</td>\n",
       "      <td>0</td>\n",
       "      <td>0</td>\n",
       "      <td>0</td>\n",
       "      <td>0</td>\n",
       "      <td>0</td>\n",
       "      <td>0</td>\n",
       "      <td>0</td>\n",
       "      <td>0</td>\n",
       "      <td>0</td>\n",
       "      <td>...</td>\n",
       "      <td>0</td>\n",
       "      <td>0</td>\n",
       "      <td>0</td>\n",
       "      <td>0</td>\n",
       "      <td>0</td>\n",
       "      <td>0</td>\n",
       "      <td>0</td>\n",
       "      <td>0</td>\n",
       "      <td>0</td>\n",
       "      <td>0</td>\n",
       "    </tr>\n",
       "    <tr>\n",
       "      <th>2</th>\n",
       "      <td>0</td>\n",
       "      <td>0</td>\n",
       "      <td>0</td>\n",
       "      <td>0</td>\n",
       "      <td>0</td>\n",
       "      <td>0</td>\n",
       "      <td>0</td>\n",
       "      <td>0</td>\n",
       "      <td>0</td>\n",
       "      <td>0</td>\n",
       "      <td>...</td>\n",
       "      <td>0</td>\n",
       "      <td>0</td>\n",
       "      <td>0</td>\n",
       "      <td>0</td>\n",
       "      <td>0</td>\n",
       "      <td>0</td>\n",
       "      <td>0</td>\n",
       "      <td>0</td>\n",
       "      <td>0</td>\n",
       "      <td>0</td>\n",
       "    </tr>\n",
       "    <tr>\n",
       "      <th>3</th>\n",
       "      <td>0</td>\n",
       "      <td>0</td>\n",
       "      <td>0</td>\n",
       "      <td>0</td>\n",
       "      <td>0</td>\n",
       "      <td>0</td>\n",
       "      <td>0</td>\n",
       "      <td>0</td>\n",
       "      <td>0</td>\n",
       "      <td>0</td>\n",
       "      <td>...</td>\n",
       "      <td>0</td>\n",
       "      <td>0</td>\n",
       "      <td>0</td>\n",
       "      <td>0</td>\n",
       "      <td>0</td>\n",
       "      <td>0</td>\n",
       "      <td>0</td>\n",
       "      <td>0</td>\n",
       "      <td>0</td>\n",
       "      <td>0</td>\n",
       "    </tr>\n",
       "    <tr>\n",
       "      <th>4</th>\n",
       "      <td>0</td>\n",
       "      <td>0</td>\n",
       "      <td>0</td>\n",
       "      <td>0</td>\n",
       "      <td>0</td>\n",
       "      <td>0</td>\n",
       "      <td>0</td>\n",
       "      <td>0</td>\n",
       "      <td>0</td>\n",
       "      <td>0</td>\n",
       "      <td>...</td>\n",
       "      <td>0</td>\n",
       "      <td>0</td>\n",
       "      <td>0</td>\n",
       "      <td>0</td>\n",
       "      <td>0</td>\n",
       "      <td>0</td>\n",
       "      <td>0</td>\n",
       "      <td>0</td>\n",
       "      <td>0</td>\n",
       "      <td>0</td>\n",
       "    </tr>\n",
       "    <tr>\n",
       "      <th>5</th>\n",
       "      <td>0</td>\n",
       "      <td>0</td>\n",
       "      <td>0</td>\n",
       "      <td>0</td>\n",
       "      <td>0</td>\n",
       "      <td>0</td>\n",
       "      <td>0</td>\n",
       "      <td>0</td>\n",
       "      <td>0</td>\n",
       "      <td>0</td>\n",
       "      <td>...</td>\n",
       "      <td>0</td>\n",
       "      <td>0</td>\n",
       "      <td>0</td>\n",
       "      <td>0</td>\n",
       "      <td>0</td>\n",
       "      <td>0</td>\n",
       "      <td>0</td>\n",
       "      <td>0</td>\n",
       "      <td>0</td>\n",
       "      <td>0</td>\n",
       "    </tr>\n",
       "  </tbody>\n",
       "</table>\n",
       "<p>5 rows × 784 columns</p>\n",
       "</div>"
      ],
      "text/plain": [
       "   pixel0  pixel1  pixel2  pixel3  pixel4  pixel5  pixel6  pixel7  pixel8  \\\n",
       "1       0       0       0       0       0       0       0       0       0   \n",
       "2       0       0       0       0       0       0       0       0       0   \n",
       "3       0       0       0       0       0       0       0       0       0   \n",
       "4       0       0       0       0       0       0       0       0       0   \n",
       "5       0       0       0       0       0       0       0       0       0   \n",
       "\n",
       "   pixel9    ...     pixel774  pixel775  pixel776  pixel777  pixel778  \\\n",
       "1       0    ...            0         0         0         0         0   \n",
       "2       0    ...            0         0         0         0         0   \n",
       "3       0    ...            0         0         0         0         0   \n",
       "4       0    ...            0         0         0         0         0   \n",
       "5       0    ...            0         0         0         0         0   \n",
       "\n",
       "   pixel779  pixel780  pixel781  pixel782  pixel783  \n",
       "1         0         0         0         0         0  \n",
       "2         0         0         0         0         0  \n",
       "3         0         0         0         0         0  \n",
       "4         0         0         0         0         0  \n",
       "5         0         0         0         0         0  \n",
       "\n",
       "[5 rows x 784 columns]"
      ]
     },
     "execution_count": 4,
     "metadata": {},
     "output_type": "execute_result"
    }
   ],
   "source": [
    "df_test.head()"
   ]
  },
  {
   "cell_type": "code",
   "execution_count": 5,
   "metadata": {
    "ExecuteTime": {
     "end_time": "2018-07-08T17:12:22.081282Z",
     "start_time": "2018-07-08T17:12:22.074700Z"
    }
   },
   "outputs": [
    {
     "name": "stdout",
     "output_type": "stream",
     "text": [
      "(42000, 785)\n",
      "(28000, 784)\n"
     ]
    }
   ],
   "source": [
    "print(df_train.shape)\n",
    "print(df_test.shape)"
   ]
  },
  {
   "cell_type": "code",
   "execution_count": 6,
   "metadata": {
    "ExecuteTime": {
     "end_time": "2018-07-08T17:12:22.521985Z",
     "start_time": "2018-07-08T17:12:22.488917Z"
    }
   },
   "outputs": [
    {
     "data": {
      "text/html": [
       "<div>\n",
       "<style scoped>\n",
       "    .dataframe tbody tr th:only-of-type {\n",
       "        vertical-align: middle;\n",
       "    }\n",
       "\n",
       "    .dataframe tbody tr th {\n",
       "        vertical-align: top;\n",
       "    }\n",
       "\n",
       "    .dataframe thead th {\n",
       "        text-align: right;\n",
       "    }\n",
       "</style>\n",
       "<table border=\"1\" class=\"dataframe\">\n",
       "  <thead>\n",
       "    <tr style=\"text-align: right;\">\n",
       "      <th></th>\n",
       "      <th>label</th>\n",
       "      <th>pixel0</th>\n",
       "      <th>pixel1</th>\n",
       "      <th>pixel2</th>\n",
       "      <th>pixel3</th>\n",
       "      <th>pixel4</th>\n",
       "      <th>pixel5</th>\n",
       "      <th>pixel6</th>\n",
       "      <th>pixel7</th>\n",
       "      <th>pixel8</th>\n",
       "      <th>...</th>\n",
       "      <th>pixel774</th>\n",
       "      <th>pixel775</th>\n",
       "      <th>pixel776</th>\n",
       "      <th>pixel777</th>\n",
       "      <th>pixel778</th>\n",
       "      <th>pixel779</th>\n",
       "      <th>pixel780</th>\n",
       "      <th>pixel781</th>\n",
       "      <th>pixel782</th>\n",
       "      <th>pixel783</th>\n",
       "    </tr>\n",
       "  </thead>\n",
       "  <tbody>\n",
       "    <tr>\n",
       "      <th>0</th>\n",
       "      <td>1</td>\n",
       "      <td>0</td>\n",
       "      <td>0</td>\n",
       "      <td>0</td>\n",
       "      <td>0</td>\n",
       "      <td>0</td>\n",
       "      <td>0</td>\n",
       "      <td>0</td>\n",
       "      <td>0</td>\n",
       "      <td>0</td>\n",
       "      <td>...</td>\n",
       "      <td>0</td>\n",
       "      <td>0</td>\n",
       "      <td>0</td>\n",
       "      <td>0</td>\n",
       "      <td>0</td>\n",
       "      <td>0</td>\n",
       "      <td>0</td>\n",
       "      <td>0</td>\n",
       "      <td>0</td>\n",
       "      <td>0</td>\n",
       "    </tr>\n",
       "    <tr>\n",
       "      <th>1</th>\n",
       "      <td>0</td>\n",
       "      <td>0</td>\n",
       "      <td>0</td>\n",
       "      <td>0</td>\n",
       "      <td>0</td>\n",
       "      <td>0</td>\n",
       "      <td>0</td>\n",
       "      <td>0</td>\n",
       "      <td>0</td>\n",
       "      <td>0</td>\n",
       "      <td>...</td>\n",
       "      <td>0</td>\n",
       "      <td>0</td>\n",
       "      <td>0</td>\n",
       "      <td>0</td>\n",
       "      <td>0</td>\n",
       "      <td>0</td>\n",
       "      <td>0</td>\n",
       "      <td>0</td>\n",
       "      <td>0</td>\n",
       "      <td>0</td>\n",
       "    </tr>\n",
       "    <tr>\n",
       "      <th>2</th>\n",
       "      <td>1</td>\n",
       "      <td>0</td>\n",
       "      <td>0</td>\n",
       "      <td>0</td>\n",
       "      <td>0</td>\n",
       "      <td>0</td>\n",
       "      <td>0</td>\n",
       "      <td>0</td>\n",
       "      <td>0</td>\n",
       "      <td>0</td>\n",
       "      <td>...</td>\n",
       "      <td>0</td>\n",
       "      <td>0</td>\n",
       "      <td>0</td>\n",
       "      <td>0</td>\n",
       "      <td>0</td>\n",
       "      <td>0</td>\n",
       "      <td>0</td>\n",
       "      <td>0</td>\n",
       "      <td>0</td>\n",
       "      <td>0</td>\n",
       "    </tr>\n",
       "    <tr>\n",
       "      <th>3</th>\n",
       "      <td>4</td>\n",
       "      <td>0</td>\n",
       "      <td>0</td>\n",
       "      <td>0</td>\n",
       "      <td>0</td>\n",
       "      <td>0</td>\n",
       "      <td>0</td>\n",
       "      <td>0</td>\n",
       "      <td>0</td>\n",
       "      <td>0</td>\n",
       "      <td>...</td>\n",
       "      <td>0</td>\n",
       "      <td>0</td>\n",
       "      <td>0</td>\n",
       "      <td>0</td>\n",
       "      <td>0</td>\n",
       "      <td>0</td>\n",
       "      <td>0</td>\n",
       "      <td>0</td>\n",
       "      <td>0</td>\n",
       "      <td>0</td>\n",
       "    </tr>\n",
       "    <tr>\n",
       "      <th>4</th>\n",
       "      <td>0</td>\n",
       "      <td>0</td>\n",
       "      <td>0</td>\n",
       "      <td>0</td>\n",
       "      <td>0</td>\n",
       "      <td>0</td>\n",
       "      <td>0</td>\n",
       "      <td>0</td>\n",
       "      <td>0</td>\n",
       "      <td>0</td>\n",
       "      <td>...</td>\n",
       "      <td>0</td>\n",
       "      <td>0</td>\n",
       "      <td>0</td>\n",
       "      <td>0</td>\n",
       "      <td>0</td>\n",
       "      <td>0</td>\n",
       "      <td>0</td>\n",
       "      <td>0</td>\n",
       "      <td>0</td>\n",
       "      <td>0</td>\n",
       "    </tr>\n",
       "  </tbody>\n",
       "</table>\n",
       "<p>5 rows × 785 columns</p>\n",
       "</div>"
      ],
      "text/plain": [
       "   label  pixel0  pixel1  pixel2  pixel3  pixel4  pixel5  pixel6  pixel7  \\\n",
       "0      1       0       0       0       0       0       0       0       0   \n",
       "1      0       0       0       0       0       0       0       0       0   \n",
       "2      1       0       0       0       0       0       0       0       0   \n",
       "3      4       0       0       0       0       0       0       0       0   \n",
       "4      0       0       0       0       0       0       0       0       0   \n",
       "\n",
       "   pixel8    ...     pixel774  pixel775  pixel776  pixel777  pixel778  \\\n",
       "0       0    ...            0         0         0         0         0   \n",
       "1       0    ...            0         0         0         0         0   \n",
       "2       0    ...            0         0         0         0         0   \n",
       "3       0    ...            0         0         0         0         0   \n",
       "4       0    ...            0         0         0         0         0   \n",
       "\n",
       "   pixel779  pixel780  pixel781  pixel782  pixel783  \n",
       "0         0         0         0         0         0  \n",
       "1         0         0         0         0         0  \n",
       "2         0         0         0         0         0  \n",
       "3         0         0         0         0         0  \n",
       "4         0         0         0         0         0  \n",
       "\n",
       "[5 rows x 785 columns]"
      ]
     },
     "execution_count": 6,
     "metadata": {},
     "output_type": "execute_result"
    }
   ],
   "source": [
    "df_train.head()"
   ]
  },
  {
   "cell_type": "code",
   "execution_count": 7,
   "metadata": {
    "ExecuteTime": {
     "end_time": "2018-07-08T17:12:23.021385Z",
     "start_time": "2018-07-08T17:12:23.010562Z"
    }
   },
   "outputs": [
    {
     "data": {
      "text/plain": [
       "1    4684\n",
       "7    4401\n",
       "3    4351\n",
       "9    4188\n",
       "2    4177\n",
       "6    4137\n",
       "0    4132\n",
       "4    4072\n",
       "8    4063\n",
       "5    3795\n",
       "Name: label, dtype: int64"
      ]
     },
     "execution_count": 7,
     "metadata": {},
     "output_type": "execute_result"
    }
   ],
   "source": [
    "df_train['label'].value_counts()"
   ]
  },
  {
   "cell_type": "code",
   "execution_count": 8,
   "metadata": {
    "ExecuteTime": {
     "end_time": "2018-07-08T17:12:23.484122Z",
     "start_time": "2018-07-08T17:12:23.476812Z"
    }
   },
   "outputs": [],
   "source": [
    "sample_5 = df_train.sample(5, random_state=422)\n",
    "sample_5_labels = sample_5.pop('label')"
   ]
  },
  {
   "cell_type": "code",
   "execution_count": 9,
   "metadata": {
    "ExecuteTime": {
     "end_time": "2018-07-08T17:12:27.087588Z",
     "start_time": "2018-07-08T17:12:26.586714Z"
    }
   },
   "outputs": [
    {
     "data": {
      "image/png": "[encoded data removed]",
      "text/plain": [
       "<Figure size 1440x720 with 5 Axes>"
      ]
     },
     "metadata": {},
     "output_type": "display_data"
    }
   ],
   "source": [
    "fig = plt.figure(figsize=(20, 10))\n",
    "for i, img in enumerate(sample_5.values, 1):\n",
    "    subplot = fig.add_subplot(1, 7, i)\n",
    "    plt.imshow(img.reshape((28,28)), cmap='gray');\n",
    "    subplot.set_title('%s' % sample_5_labels.values[i - 1]);"
   ]
  },
  {
   "cell_type": "code",
   "execution_count": 10,
   "metadata": {
    "ExecuteTime": {
     "end_time": "2018-07-08T17:12:29.183321Z",
     "start_time": "2018-07-08T17:12:29.059952Z"
    }
   },
   "outputs": [
    {
     "data": {
      "text/plain": [
       "(42000,)"
      ]
     },
     "execution_count": 10,
     "metadata": {},
     "output_type": "execute_result"
    }
   ],
   "source": [
    "y = df_train.pop('label')\n",
    "y.shape"
   ]
  },
  {
   "cell_type": "code",
   "execution_count": 11,
   "metadata": {
    "ExecuteTime": {
     "end_time": "2018-07-08T17:12:29.988835Z",
     "start_time": "2018-07-08T17:12:29.727958Z"
    }
   },
   "outputs": [
    {
     "name": "stdout",
     "output_type": "stream",
     "text": [
      "(33600, 784)\n",
      "(33600,)\n"
     ]
    }
   ],
   "source": [
    "#делаем стратифицированное разбиение на train и test\n",
    "X_train, X_test, y_train, y_test = train_test_split(df_train, y, test_size=0.20, stratify=y, random_state=42)\n",
    "print(X_train.shape)\n",
    "print(y_train.shape)"
   ]
  },
  {
   "cell_type": "markdown",
   "metadata": {},
   "source": [
    "## Baseline"
   ]
  },
  {
   "cell_type": "markdown",
   "metadata": {},
   "source": [
    "### SVM"
   ]
  },
  {
   "cell_type": "code",
   "execution_count": 11,
   "metadata": {
    "ExecuteTime": {
     "end_time": "2018-07-06T22:05:45.385794Z",
     "start_time": "2018-07-06T21:53:08.709526Z"
    }
   },
   "outputs": [
    {
     "name": "stdout",
     "output_type": "stream",
     "text": [
      "SVC rbf:\n",
      "Accuracy train: 0.9839\n",
      "Accuracy test: 0.9568\n",
      "             precision    recall  f1-score   support\n",
      "\n",
      "          0       0.98      0.97      0.98       826\n",
      "          1       0.97      0.99      0.98       937\n",
      "          2       0.92      0.97      0.94       835\n",
      "          3       0.95      0.93      0.94       870\n",
      "          4       0.96      0.96      0.96       814\n",
      "          5       0.94      0.93      0.94       759\n",
      "          6       0.98      0.97      0.98       828\n",
      "          7       0.96      0.96      0.96       880\n",
      "          8       0.96      0.94      0.95       813\n",
      "          9       0.95      0.94      0.94       838\n",
      "\n",
      "avg / total       0.96      0.96      0.96      8400\n",
      "\n",
      "CPU times: user 12min 36s, sys: 867 ms, total: 12min 37s\n",
      "Wall time: 12min 36s\n"
     ]
    }
   ],
   "source": [
    "%%time\n",
    "clf_svm = Pipeline([\n",
    "    ('scaler', StandardScaler()),\n",
    "    ('clf', SVC(kernel='rbf', random_state=42))\n",
    "])\n",
    "clf_svm.fit(X_train, y_train)\n",
    "predict_train = clf_svm.predict(X_train)\n",
    "predict_test = clf_svm.predict(X_test)\n",
    "print('SVC rbf:')\n",
    "print('Accuracy train: {0:6.4f}'.format(accuracy_score(y_train, predict_train)))\n",
    "print('Accuracy test: {0:6.4f}'.format(accuracy_score(y_test, predict_test)))\n",
    "print(classification_report(y_test, predict_test))"
   ]
  },
  {
   "cell_type": "markdown",
   "metadata": {},
   "source": [
    "### RandomForest"
   ]
  },
  {
   "cell_type": "code",
   "execution_count": 12,
   "metadata": {
    "ExecuteTime": {
     "end_time": "2018-07-06T22:06:25.436722Z",
     "start_time": "2018-07-06T22:06:16.170014Z"
    }
   },
   "outputs": [
    {
     "name": "stdout",
     "output_type": "stream",
     "text": [
      "RandomForestClassifier:\n",
      "Accuracy train: 0.9898\n",
      "Accuracy test: 0.9561\n",
      "             precision    recall  f1-score   support\n",
      "\n",
      "          0       0.97      0.98      0.98       826\n",
      "          1       0.98      0.99      0.98       937\n",
      "          2       0.95      0.95      0.95       835\n",
      "          3       0.95      0.92      0.94       870\n",
      "          4       0.96      0.96      0.96       814\n",
      "          5       0.93      0.94      0.94       759\n",
      "          6       0.96      0.98      0.97       828\n",
      "          7       0.97      0.96      0.97       880\n",
      "          8       0.94      0.94      0.94       813\n",
      "          9       0.94      0.94      0.94       838\n",
      "\n",
      "avg / total       0.96      0.96      0.96      8400\n",
      "\n",
      "CPU times: user 32.1 s, sys: 1.94 s, total: 34 s\n",
      "Wall time: 9.26 s\n"
     ]
    }
   ],
   "source": [
    "%%time\n",
    "clf_rf = Pipeline([\n",
    "#    ('scaler', StandardScaler()),\n",
    "    ('clf', RandomForestClassifier(n_estimators=100, min_samples_leaf=5, random_state=42, n_jobs=-1))\n",
    "])\n",
    "clf_rf.fit(X_train, y_train)\n",
    "predict_train = clf_rf.predict(X_train)\n",
    "predict_test = clf_rf.predict(X_test)\n",
    "print('RandomForestClassifier:')\n",
    "print('Accuracy train: {0:6.4f}'.format(accuracy_score(y_train, predict_train)))\n",
    "print('Accuracy test: {0:6.4f}'.format(accuracy_score(y_test, predict_test)))\n",
    "print(classification_report(y_test, predict_test))"
   ]
  },
  {
   "cell_type": "markdown",
   "metadata": {},
   "source": [
    "### MLP"
   ]
  },
  {
   "cell_type": "code",
   "execution_count": 30,
   "metadata": {
    "ExecuteTime": {
     "end_time": "2018-07-06T22:33:48.417704Z",
     "start_time": "2018-07-06T22:33:14.367907Z"
    }
   },
   "outputs": [
    {
     "name": "stdout",
     "output_type": "stream",
     "text": [
      "MLPClassifier 20-20-10:\n",
      "Accuracy train: 0.9981\n",
      "Accuracy test: 0.9449\n",
      "             precision    recall  f1-score   support\n",
      "\n",
      "          0       0.97      0.97      0.97       826\n",
      "          1       0.97      0.98      0.98       937\n",
      "          2       0.95      0.94      0.94       835\n",
      "          3       0.91      0.94      0.92       870\n",
      "          4       0.95      0.93      0.94       814\n",
      "          5       0.94      0.92      0.93       759\n",
      "          6       0.97      0.97      0.97       828\n",
      "          7       0.94      0.95      0.95       880\n",
      "          8       0.93      0.91      0.92       813\n",
      "          9       0.92      0.93      0.92       838\n",
      "\n",
      "avg / total       0.94      0.94      0.94      8400\n",
      "\n",
      "CPU times: user 1min, sys: 6.59 s, total: 1min 6s\n",
      "Wall time: 34 s\n"
     ]
    }
   ],
   "source": [
    "%%time\n",
    "clf_mlp = Pipeline([\n",
    "    ('scaler', StandardScaler()),\n",
    "    ('clf', MLPClassifier(hidden_layer_sizes=(20,20 ), activation='relu', solver='adam', random_state=42))\n",
    "])\n",
    "clf_mlp.fit(X_train, y_train)\n",
    "predict_train = clf_mlp.predict(X_train)\n",
    "predict_test = clf_mlp.predict(X_test)\n",
    "print('MLPClassifier 20-20-10:')\n",
    "print('Accuracy train: {0:6.4f}'.format(accuracy_score(y_train, predict_train)))\n",
    "print('Accuracy test: {0:6.4f}'.format(accuracy_score(y_test, predict_test)))\n",
    "print(classification_report(y_test, predict_test))"
   ]
  },
  {
   "cell_type": "markdown",
   "metadata": {},
   "source": [
    "### Предварительный итог"
   ]
  },
  {
   "cell_type": "markdown",
   "metadata": {},
   "source": [
    "У всех моделей на 784 базовых фичах наблюдается переобучение. SVM с нелинейным ядром показал хороший результат, но обучается долго. На базовом наборе фичей большой размерности лучший результат по скорости и точности у RandomForest.\n"
   ]
  },
  {
   "cell_type": "markdown",
   "metadata": {},
   "source": [
    "## PCA преобразование"
   ]
  },
  {
   "cell_type": "code",
   "execution_count": 10,
   "metadata": {
    "ExecuteTime": {
     "end_time": "2018-07-08T12:30:24.229039Z",
     "start_time": "2018-07-08T12:30:18.639574Z"
    }
   },
   "outputs": [
    {
     "data": {
      "text/plain": [
       "Text(0,0.5,'explained_variance_ratio_')"
      ]
     },
     "execution_count": 10,
     "metadata": {},
     "output_type": "execute_result"
    },
    {
     "data": {
      "image/png": "[encoded data removed]",
      "text/plain": [
       "<Figure size 432x288 with 1 Axes>"
      ]
     },
     "metadata": {},
     "output_type": "display_data"
    }
   ],
   "source": [
    "pca = PCA(random_state=42)\n",
    "pca.fit(X_train)\n",
    "plt.plot(pca.explained_variance_ratio_.cumsum(), linewidth=2)\n",
    "plt.axis('tight')\n",
    "plt.xlabel('n_components')\n",
    "plt.ylabel('explained_variance_ratio_')"
   ]
  },
  {
   "cell_type": "markdown",
   "metadata": {},
   "source": [
    "Посмотрим, сколько признаков останется после PCA преобразования с сохранением 99% и 95% дисперсии"
   ]
  },
  {
   "cell_type": "code",
   "execution_count": 11,
   "metadata": {
    "ExecuteTime": {
     "end_time": "2018-07-08T12:30:30.335837Z",
     "start_time": "2018-07-08T12:30:24.610187Z"
    }
   },
   "outputs": [
    {
     "data": {
      "text/plain": [
       "(33600, 330)"
      ]
     },
     "execution_count": 11,
     "metadata": {},
     "output_type": "execute_result"
    }
   ],
   "source": [
    "pca = PCA(0.99, random_state=42)\n",
    "pca.fit_transform(X_train).shape"
   ]
  },
  {
   "cell_type": "code",
   "execution_count": 12,
   "metadata": {
    "ExecuteTime": {
     "end_time": "2018-07-08T12:30:35.898666Z",
     "start_time": "2018-07-08T12:30:30.675458Z"
    }
   },
   "outputs": [
    {
     "data": {
      "text/plain": [
       "(33600, 153)"
      ]
     },
     "execution_count": 12,
     "metadata": {},
     "output_type": "execute_result"
    }
   ],
   "source": [
    "pca = PCA(0.95, random_state=42)\n",
    "pca.fit_transform(X_train).shape"
   ]
  },
  {
   "cell_type": "markdown",
   "metadata": {},
   "source": [
    "Добавим в pipeline базовых моделей PCA(0.99)"
   ]
  },
  {
   "cell_type": "markdown",
   "metadata": {},
   "source": [
    "### SVM"
   ]
  },
  {
   "cell_type": "code",
   "execution_count": 13,
   "metadata": {
    "ExecuteTime": {
     "end_time": "2018-07-08T12:52:10.501808Z",
     "start_time": "2018-07-08T12:31:30.392340Z"
    }
   },
   "outputs": [
    {
     "name": "stdout",
     "output_type": "stream",
     "text": [
      "SVC rbf, PCA:\n",
      "Accuracy train: 0.9845\n",
      "Accuracy test: 0.9264\n",
      "             precision    recall  f1-score   support\n",
      "\n",
      "          0       0.97      0.96      0.97       826\n",
      "          1       0.98      0.99      0.98       937\n",
      "          2       0.79      0.96      0.86       835\n",
      "          3       0.92      0.89      0.91       870\n",
      "          4       0.95      0.92      0.94       814\n",
      "          5       0.92      0.90      0.91       759\n",
      "          6       0.95      0.95      0.95       828\n",
      "          7       0.94      0.91      0.92       880\n",
      "          8       0.94      0.88      0.91       813\n",
      "          9       0.93      0.91      0.92       838\n",
      "\n",
      "avg / total       0.93      0.93      0.93      8400\n",
      "\n",
      "CPU times: user 20min 43s, sys: 1.34 s, total: 20min 45s\n",
      "Wall time: 20min 40s\n"
     ]
    }
   ],
   "source": [
    "%%time\n",
    "clf_svm = Pipeline([\n",
    "    ('scaler', StandardScaler()),\n",
    "    ('pca', PCA(0.99, random_state=42, whiten=True)),\n",
    "    ('clf', SVC(kernel='rbf', random_state=42))\n",
    "])\n",
    "clf_svm.fit(X_train, y_train)\n",
    "predict_train = clf_svm.predict(X_train)\n",
    "predict_test = clf_svm.predict(X_test)\n",
    "print('SVC rbf, PCA:')\n",
    "print('Accuracy train: {0:6.4f}'.format(accuracy_score(y_train, predict_train)))\n",
    "print('Accuracy test: {0:6.4f}'.format(accuracy_score(y_test, predict_test)))\n",
    "print(classification_report(y_test, predict_test))"
   ]
  },
  {
   "cell_type": "markdown",
   "metadata": {},
   "source": [
    "### RandomForest"
   ]
  },
  {
   "cell_type": "code",
   "execution_count": 14,
   "metadata": {
    "ExecuteTime": {
     "end_time": "2018-07-08T12:53:05.086347Z",
     "start_time": "2018-07-08T12:52:10.828180Z"
    }
   },
   "outputs": [
    {
     "name": "stdout",
     "output_type": "stream",
     "text": [
      "RandomForestClassifier, PCA:\n",
      "Accuracy train: 0.9941\n",
      "Accuracy test: 0.9223\n",
      "             precision    recall  f1-score   support\n",
      "\n",
      "          0       0.95      0.97      0.96       826\n",
      "          1       0.98      0.98      0.98       937\n",
      "          2       0.90      0.93      0.92       835\n",
      "          3       0.88      0.92      0.90       870\n",
      "          4       0.92      0.92      0.92       814\n",
      "          5       0.92      0.87      0.89       759\n",
      "          6       0.94      0.96      0.95       828\n",
      "          7       0.93      0.92      0.92       880\n",
      "          8       0.92      0.86      0.89       813\n",
      "          9       0.88      0.89      0.88       838\n",
      "\n",
      "avg / total       0.92      0.92      0.92      8400\n",
      "\n",
      "CPU times: user 2min 57s, sys: 3.3 s, total: 3min\n",
      "Wall time: 54.2 s\n"
     ]
    }
   ],
   "source": [
    "%%time\n",
    "clf_rf = Pipeline([\n",
    "    ('scaler', StandardScaler()),\n",
    "    ('pca', PCA(0.99, random_state=42, whiten=True)),\n",
    "    ('clf', RandomForestClassifier(n_estimators=100, min_samples_leaf=5, random_state=42, n_jobs=-1))\n",
    "])\n",
    "clf_rf.fit(X_train, y_train)\n",
    "predict_train = clf_rf.predict(X_train)\n",
    "predict_test = clf_rf.predict(X_test)\n",
    "print('RandomForestClassifier, PCA:')\n",
    "print('Accuracy train: {0:6.4f}'.format(accuracy_score(y_train, predict_train)))\n",
    "print('Accuracy test: {0:6.4f}'.format(accuracy_score(y_test, predict_test)))\n",
    "print(classification_report(y_test, predict_test))"
   ]
  },
  {
   "cell_type": "markdown",
   "metadata": {
    "slideshow": {
     "slide_type": "fragment"
    }
   },
   "source": [
    "### MLP\n",
    "\n"
   ]
  },
  {
   "cell_type": "code",
   "execution_count": 15,
   "metadata": {
    "ExecuteTime": {
     "end_time": "2018-07-08T12:53:40.624555Z",
     "start_time": "2018-07-08T12:53:05.360354Z"
    }
   },
   "outputs": [
    {
     "name": "stdout",
     "output_type": "stream",
     "text": [
      "MLPClassifier 20-20-10, PCA:\n",
      "Accuracy train: 0.9959\n",
      "Accuracy test: 0.9054\n",
      "             precision    recall  f1-score   support\n",
      "\n",
      "          0       0.94      0.95      0.94       826\n",
      "          1       0.95      0.97      0.96       937\n",
      "          2       0.89      0.91      0.90       835\n",
      "          3       0.89      0.89      0.89       870\n",
      "          4       0.91      0.89      0.90       814\n",
      "          5       0.87      0.86      0.86       759\n",
      "          6       0.93      0.93      0.93       828\n",
      "          7       0.91      0.90      0.91       880\n",
      "          8       0.88      0.87      0.87       813\n",
      "          9       0.88      0.88      0.88       838\n",
      "\n",
      "avg / total       0.91      0.91      0.91      8400\n",
      "\n",
      "CPU times: user 1min 4s, sys: 5.41 s, total: 1min 9s\n",
      "Wall time: 35.3 s\n"
     ]
    }
   ],
   "source": [
    "%%time\n",
    "clf_mlp = Pipeline([\n",
    "    ('scaler', StandardScaler()),\n",
    "    ('pca', PCA(0.99, random_state=42, whiten=True)),\n",
    "    ('clf', MLPClassifier(hidden_layer_sizes=(20,20 ), activation='relu', solver='adam', random_state=42))\n",
    "])\n",
    "clf_mlp.fit(X_train, y_train)\n",
    "predict_train = clf_mlp.predict(X_train)\n",
    "predict_test = clf_mlp.predict(X_test)\n",
    "print('MLPClassifier 20-20-10, PCA:')\n",
    "print('Accuracy train: {0:6.4f}'.format(accuracy_score(y_train, predict_train)))\n",
    "print('Accuracy test: {0:6.4f}'.format(accuracy_score(y_test, predict_test)))\n",
    "print(classification_report(y_test, predict_test))"
   ]
  },
  {
   "cell_type": "markdown",
   "metadata": {},
   "source": [
    "### Подбор параметров"
   ]
  },
  {
   "cell_type": "markdown",
   "metadata": {},
   "source": [
    "С помощью GridSearch подберем оптимильные параметры для pipeline с PCA и RandomForest."
   ]
  },
  {
   "cell_type": "code",
   "execution_count": 27,
   "metadata": {
    "ExecuteTime": {
     "end_time": "2018-07-08T15:42:38.475841Z",
     "start_time": "2018-07-08T15:42:38.468473Z"
    }
   },
   "outputs": [],
   "source": [
    "clf_rf = Pipeline([\n",
    "    ('scaler', StandardScaler()),\n",
    "    ('pca', PCA(0.99, random_state=42, whiten=True)),\n",
    "    ('clf', RandomForestClassifier(n_estimators=100, min_samples_leaf=5, random_state=42))\n",
    "])\n",
    "grid_params = [\n",
    "    {'pca__n_components': [0.95, 0.99],\n",
    "     'clf__n_estimators':[10, 50, 100],\n",
    "     'clf__min_samples_leaf': [2, 5, 10],\n",
    "     'clf__max_depth':[5, 10, 15],\n",
    "     \n",
    "    }]"
   ]
  },
  {
   "cell_type": "code",
   "execution_count": 28,
   "metadata": {
    "ExecuteTime": {
     "end_time": "2018-07-08T16:27:56.266449Z",
     "start_time": "2018-07-08T15:42:42.155114Z"
    }
   },
   "outputs": [
    {
     "name": "stdout",
     "output_type": "stream",
     "text": [
      "Fitting 3 folds for each of 54 candidates, totalling 162 fits\n"
     ]
    },
    {
     "name": "stderr",
     "output_type": "stream",
     "text": [
      "[Parallel(n_jobs=-1)]: Done  42 tasks      | elapsed:  8.6min\n",
      "[Parallel(n_jobs=-1)]: Done 162 out of 162 | elapsed: 44.0min finished\n"
     ]
    },
    {
     "name": "stdout",
     "output_type": "stream",
     "text": [
      "CPU times: user 2min 49s, sys: 1.89 s, total: 2min 51s\n",
      "Wall time: 45min 14s\n"
     ]
    }
   ],
   "source": [
    "%%time\n",
    "grid = GridSearchCV(clf_rf, param_grid=grid_params, cv=3, n_jobs=-1, scoring='accuracy', verbose=1, refit=True)\n",
    "grid.fit(X_train, y_train)"
   ]
  },
  {
   "cell_type": "code",
   "execution_count": 29,
   "metadata": {
    "ExecuteTime": {
     "end_time": "2018-07-08T16:28:00.021962Z",
     "start_time": "2018-07-08T16:27:56.671429Z"
    }
   },
   "outputs": [
    {
     "name": "stdout",
     "output_type": "stream",
     "text": [
      "Pipeline(memory=None,\n",
      "     steps=[('scaler', StandardScaler(copy=True, with_mean=True, with_std=True)), ('pca', PCA(copy=True, iterated_power='auto', n_components=0.95, random_state=42,\n",
      "  svd_solver='auto', tol=0.0, whiten=True)), ('clf', RandomForestClassifier(bootstrap=True, class_weight=None, criterion='gini',\n",
      "            ...timators=100, n_jobs=1,\n",
      "            oob_score=False, random_state=42, verbose=0, warm_start=False))])\n",
      "Accuracy на cv: 0.9204\n",
      "Accuracy train: 0.9980\n",
      "Accuracy test: 0.9252\n",
      "             precision    recall  f1-score   support\n",
      "\n",
      "          0       0.95      0.97      0.96       826\n",
      "          1       0.98      0.98      0.98       937\n",
      "          2       0.91      0.92      0.92       835\n",
      "          3       0.88      0.91      0.90       870\n",
      "          4       0.93      0.92      0.92       814\n",
      "          5       0.92      0.88      0.90       759\n",
      "          6       0.95      0.96      0.96       828\n",
      "          7       0.94      0.93      0.93       880\n",
      "          8       0.91      0.87      0.89       813\n",
      "          9       0.89      0.90      0.89       838\n",
      "\n",
      "avg / total       0.93      0.93      0.93      8400\n",
      "\n"
     ]
    }
   ],
   "source": [
    "print(grid.best_estimator_)\n",
    "print('Accuracy на cv: {0:6.4f}'.format(grid.best_score_))\n",
    "predict_train = grid.predict(X_train)\n",
    "predict_test = grid.predict(X_test)\n",
    "print('Accuracy train: {0:6.4f}'.format(accuracy_score(y_train, predict_train)))\n",
    "print('Accuracy test: {0:6.4f}'.format(accuracy_score(y_test, predict_test)))\n",
    "print(classification_report(y_test, predict_test))"
   ]
  },
  {
   "cell_type": "markdown",
   "metadata": {},
   "source": [
    "готовим предсказание и делаем первый submit"
   ]
  },
  {
   "cell_type": "code",
   "execution_count": 56,
   "metadata": {
    "ExecuteTime": {
     "end_time": "2018-07-08T16:49:48.526463Z",
     "start_time": "2018-07-08T16:48:23.685167Z"
    }
   },
   "outputs": [
    {
     "data": {
      "text/plain": [
       "Pipeline(memory=None,\n",
       "     steps=[('scaler', StandardScaler(copy=True, with_mean=True, with_std=True)), ('pca', PCA(copy=True, iterated_power='auto', n_components=0.95, random_state=42,\n",
       "  svd_solver='auto', tol=0.0, whiten=True)), ('clf', RandomForestClassifier(bootstrap=True, class_weight=None, criterion='gini',\n",
       "            ...timators=100, n_jobs=1,\n",
       "            oob_score=False, random_state=42, verbose=0, warm_start=False))])"
      ]
     },
     "execution_count": 56,
     "metadata": {},
     "output_type": "execute_result"
    }
   ],
   "source": [
    "model = grid.best_estimator_\n",
    "model.fit(df_train, y)"
   ]
  },
  {
   "cell_type": "code",
   "execution_count": 57,
   "metadata": {
    "ExecuteTime": {
     "end_time": "2018-07-08T16:49:50.511933Z",
     "start_time": "2018-07-08T16:49:48.861562Z"
    }
   },
   "outputs": [],
   "source": [
    "y_pred = model.predict(df_test)\n",
    "y_pred = pd.Series(y_pred, index=df_test.index)"
   ]
  },
  {
   "cell_type": "code",
   "execution_count": 58,
   "metadata": {
    "ExecuteTime": {
     "end_time": "2018-07-08T16:49:50.855479Z",
     "start_time": "2018-07-08T16:49:50.848661Z"
    }
   },
   "outputs": [
    {
     "data": {
      "text/plain": [
       "1    2\n",
       "2    0\n",
       "3    4\n",
       "4    2\n",
       "5    3\n",
       "dtype: int64"
      ]
     },
     "execution_count": 58,
     "metadata": {},
     "output_type": "execute_result"
    }
   ],
   "source": [
    "y_pred.head()"
   ]
  },
  {
   "cell_type": "code",
   "execution_count": 59,
   "metadata": {
    "ExecuteTime": {
     "end_time": "2018-07-08T16:49:51.324920Z",
     "start_time": "2018-07-08T16:49:51.186410Z"
    }
   },
   "outputs": [],
   "source": [
    "y_pred.to_csv('predictions1.csv', sep=',', header=True, index_label=['ImageId','Label'])"
   ]
  },
  {
   "cell_type": "markdown",
   "metadata": {},
   "source": [
    "## HOG признаки"
   ]
  },
  {
   "cell_type": "code",
   "execution_count": 12,
   "metadata": {
    "ExecuteTime": {
     "end_time": "2018-07-08T17:12:34.693590Z",
     "start_time": "2018-07-08T17:12:34.403711Z"
    }
   },
   "outputs": [],
   "source": [
    "import cv2"
   ]
  },
  {
   "cell_type": "markdown",
   "metadata": {},
   "source": [
    "строим дескриптор HOG для всего изображения 28x28, гистограммы градиентов считаем для ячеек 7x7, нормализуем блоками 14x14 со страйдом 7x7.\n",
    "\n",
    "итого, в одном блоке 9x4=36 бинов, всего блоков 3x3=9. Получаем 9x36=324 фичи в дескрипторе"
   ]
  },
  {
   "cell_type": "code",
   "execution_count": 13,
   "metadata": {
    "ExecuteTime": {
     "end_time": "2018-07-08T17:12:35.582830Z",
     "start_time": "2018-07-08T17:12:35.577944Z"
    }
   },
   "outputs": [],
   "source": [
    "winSize = (28,28)\n",
    "blockSize = (14,14)\n",
    "blockStride = (7,7)\n",
    "cellSize = (7,7)\n",
    "nbins = 9\n",
    " \n",
    "hog = cv2.HOGDescriptor(winSize,blockSize,blockStride,cellSize,nbins)"
   ]
  },
  {
   "cell_type": "code",
   "execution_count": 14,
   "metadata": {
    "ExecuteTime": {
     "end_time": "2018-07-08T17:12:39.326965Z",
     "start_time": "2018-07-08T17:12:39.318983Z"
    }
   },
   "outputs": [],
   "source": [
    "sample_5 = sample_5.astype(np.uint8)"
   ]
  },
  {
   "cell_type": "code",
   "execution_count": 33,
   "metadata": {
    "ExecuteTime": {
     "end_time": "2018-07-08T17:25:28.191857Z",
     "start_time": "2018-07-08T17:25:28.187473Z"
    }
   },
   "outputs": [],
   "source": [
    "sample_5_hog = np.array([hog.compute(row.reshape(28,28)).flatten() for row in sample_5.values])"
   ]
  },
  {
   "cell_type": "code",
   "execution_count": 34,
   "metadata": {
    "ExecuteTime": {
     "end_time": "2018-07-08T17:25:29.689117Z",
     "start_time": "2018-07-08T17:25:29.684859Z"
    }
   },
   "outputs": [
    {
     "data": {
      "text/plain": [
       "(5, 324)"
      ]
     },
     "execution_count": 34,
     "metadata": {},
     "output_type": "execute_result"
    }
   ],
   "source": [
    "sample_5_hog.shape"
   ]
  },
  {
   "cell_type": "code",
   "execution_count": 35,
   "metadata": {
    "ExecuteTime": {
     "end_time": "2018-07-08T17:26:37.746317Z",
     "start_time": "2018-07-08T17:26:37.708620Z"
    }
   },
   "outputs": [],
   "source": [
    "X_train = X_train.astype(np.uint8)\n",
    "X_test = X_test.astype(np.uint8)"
   ]
  },
  {
   "cell_type": "code",
   "execution_count": 36,
   "metadata": {
    "ExecuteTime": {
     "end_time": "2018-07-08T17:27:18.005474Z",
     "start_time": "2018-07-08T17:27:15.268823Z"
    }
   },
   "outputs": [
    {
     "name": "stdout",
     "output_type": "stream",
     "text": [
      "(33600, 324)\n",
      "(8400, 324)\n",
      "CPU times: user 2.73 s, sys: 0 ns, total: 2.73 s\n",
      "Wall time: 2.73 s\n"
     ]
    }
   ],
   "source": [
    "%%time\n",
    "X_train_hog = np.array([hog.compute(row.reshape(28,28)).flatten() for row in X_train.values])\n",
    "X_test_hog = np.array([hog.compute(row.reshape(28,28)).flatten() for row in X_test.values])\n",
    "print(X_train_hog.shape)\n",
    "print(X_test_hog.shape)"
   ]
  },
  {
   "cell_type": "markdown",
   "metadata": {},
   "source": [
    "### SVM"
   ]
  },
  {
   "cell_type": "code",
   "execution_count": 37,
   "metadata": {
    "ExecuteTime": {
     "end_time": "2018-07-08T17:30:01.260462Z",
     "start_time": "2018-07-08T17:27:35.185301Z"
    }
   },
   "outputs": [
    {
     "name": "stdout",
     "output_type": "stream",
     "text": [
      "SVC rbf, HOG:\n",
      "Accuracy train: 0.9975\n",
      "Accuracy test: 0.9921\n",
      "             precision    recall  f1-score   support\n",
      "\n",
      "          0       0.99      1.00      0.99       826\n",
      "          1       0.99      1.00      0.99       937\n",
      "          2       0.99      1.00      0.99       835\n",
      "          3       1.00      0.99      0.99       870\n",
      "          4       1.00      0.99      0.99       814\n",
      "          5       0.99      0.99      0.99       759\n",
      "          6       1.00      1.00      1.00       828\n",
      "          7       0.99      0.99      0.99       880\n",
      "          8       0.99      0.99      0.99       813\n",
      "          9       0.98      0.99      0.99       838\n",
      "\n",
      "avg / total       0.99      0.99      0.99      8400\n",
      "\n",
      "CPU times: user 2min 26s, sys: 72.5 ms, total: 2min 26s\n",
      "Wall time: 2min 26s\n"
     ]
    }
   ],
   "source": [
    "%%time\n",
    "clf_svm = Pipeline([\n",
    "    ('scaler', StandardScaler()),\n",
    "    ('clf', SVC(kernel='rbf', random_state=42))\n",
    "])\n",
    "clf_svm.fit(X_train_hog, y_train)\n",
    "predict_train = clf_svm.predict(X_train_hog)\n",
    "predict_test = clf_svm.predict(X_test_hog)\n",
    "print('SVC rbf, HOG:')\n",
    "print('Accuracy train: {0:6.4f}'.format(accuracy_score(y_train, predict_train)))\n",
    "print('Accuracy test: {0:6.4f}'.format(accuracy_score(y_test, predict_test)))\n",
    "print(classification_report(y_test, predict_test))"
   ]
  },
  {
   "cell_type": "markdown",
   "metadata": {},
   "source": [
    "### RandomForest"
   ]
  },
  {
   "cell_type": "code",
   "execution_count": 38,
   "metadata": {
    "ExecuteTime": {
     "end_time": "2018-07-08T17:30:32.322830Z",
     "start_time": "2018-07-08T17:30:02.069811Z"
    }
   },
   "outputs": [
    {
     "name": "stdout",
     "output_type": "stream",
     "text": [
      "RandomForestClassifier, HOG:\n",
      "Accuracy train: 0.9965\n",
      "Accuracy test: 0.9789\n",
      "             precision    recall  f1-score   support\n",
      "\n",
      "          0       0.98      0.99      0.99       826\n",
      "          1       0.99      0.98      0.98       937\n",
      "          2       0.97      0.98      0.98       835\n",
      "          3       0.98      0.97      0.97       870\n",
      "          4       0.98      0.99      0.98       814\n",
      "          5       0.98      0.98      0.98       759\n",
      "          6       0.99      0.99      0.99       828\n",
      "          7       0.97      0.98      0.98       880\n",
      "          8       0.97      0.97      0.97       813\n",
      "          9       0.97      0.96      0.97       838\n",
      "\n",
      "avg / total       0.98      0.98      0.98      8400\n",
      "\n",
      "CPU times: user 1min 50s, sys: 1.43 s, total: 1min 52s\n",
      "Wall time: 30.2 s\n"
     ]
    }
   ],
   "source": [
    "%%time\n",
    "clf_rf = Pipeline([\n",
    "#    ('scaler', StandardScaler()),\n",
    "    ('clf', RandomForestClassifier(n_estimators=100, min_samples_leaf=5, random_state=42, n_jobs=-1))\n",
    "])\n",
    "clf_rf.fit(X_train_hog, y_train)\n",
    "predict_train = clf_rf.predict(X_train_hog)\n",
    "predict_test = clf_rf.predict(X_test_hog)\n",
    "print('RandomForestClassifier, HOG:')\n",
    "print('Accuracy train: {0:6.4f}'.format(accuracy_score(y_train, predict_train)))\n",
    "print('Accuracy test: {0:6.4f}'.format(accuracy_score(y_test, predict_test)))\n",
    "print(classification_report(y_test, predict_test))"
   ]
  },
  {
   "cell_type": "markdown",
   "metadata": {},
   "source": [
    "### MLP"
   ]
  },
  {
   "cell_type": "code",
   "execution_count": 39,
   "metadata": {
    "ExecuteTime": {
     "end_time": "2018-07-08T17:30:48.489913Z",
     "start_time": "2018-07-08T17:30:33.211413Z"
    }
   },
   "outputs": [
    {
     "name": "stdout",
     "output_type": "stream",
     "text": [
      "MLPClassifier 20-20-10, HOG:\n",
      "Accuracy train: 0.9990\n",
      "Accuracy test: 0.9818\n",
      "             precision    recall  f1-score   support\n",
      "\n",
      "          0       0.99      1.00      0.99       826\n",
      "          1       0.98      0.99      0.99       937\n",
      "          2       0.98      0.98      0.98       835\n",
      "          3       0.99      0.97      0.98       870\n",
      "          4       0.99      0.98      0.98       814\n",
      "          5       0.98      0.98      0.98       759\n",
      "          6       0.99      0.99      0.99       828\n",
      "          7       0.99      0.97      0.98       880\n",
      "          8       0.97      0.98      0.97       813\n",
      "          9       0.96      0.98      0.97       838\n",
      "\n",
      "avg / total       0.98      0.98      0.98      8400\n",
      "\n",
      "CPU times: user 29.5 s, sys: 939 ms, total: 30.5 s\n",
      "Wall time: 15.3 s\n"
     ]
    }
   ],
   "source": [
    "%%time\n",
    "clf_mlp = Pipeline([\n",
    "    ('scaler', StandardScaler()),\n",
    "    ('clf', MLPClassifier(hidden_layer_sizes=(20,20 ), activation='relu', solver='adam', random_state=42))\n",
    "])\n",
    "clf_mlp.fit(X_train_hog, y_train)\n",
    "predict_train = clf_mlp.predict(X_train_hog)\n",
    "predict_test = clf_mlp.predict(X_test_hog)\n",
    "print('MLPClassifier 20-20-10, HOG:')\n",
    "print('Accuracy train: {0:6.4f}'.format(accuracy_score(y_train, predict_train)))\n",
    "print('Accuracy test: {0:6.4f}'.format(accuracy_score(y_test, predict_test)))\n",
    "print(classification_report(y_test, predict_test))"
   ]
  },
  {
   "cell_type": "markdown",
   "metadata": {},
   "source": [
    "### Подбор параметров"
   ]
  },
  {
   "cell_type": "markdown",
   "metadata": {},
   "source": [
    "С помощью GridSearch подберем оптимильные параметры для SVM на HOG признаках."
   ]
  },
  {
   "cell_type": "code",
   "execution_count": 43,
   "metadata": {
    "ExecuteTime": {
     "end_time": "2018-07-08T17:43:00.872253Z",
     "start_time": "2018-07-08T17:43:00.867601Z"
    }
   },
   "outputs": [],
   "source": [
    "clf_svm = Pipeline([\n",
    "    ('scaler', StandardScaler()),\n",
    "    ('clf', SVC(kernel='rbf', random_state=42))\n",
    "])\n",
    "grid_params = [\n",
    "    {'clf__kernel':['rbf', 'poly'],\n",
    "     'clf__C': [0.01, 0.1, 1, 10, 100],\n",
    "    }]"
   ]
  },
  {
   "cell_type": "code",
   "execution_count": 45,
   "metadata": {
    "ExecuteTime": {
     "end_time": "2018-07-08T18:50:38.389896Z",
     "start_time": "2018-07-08T17:43:43.802590Z"
    }
   },
   "outputs": [
    {
     "name": "stdout",
     "output_type": "stream",
     "text": [
      "Fitting 3 folds for each of 10 candidates, totalling 30 fits\n"
     ]
    },
    {
     "name": "stderr",
     "output_type": "stream",
     "text": [
      "[Parallel(n_jobs=-1)]: Done  30 out of  30 | elapsed: 65.8min finished\n"
     ]
    },
    {
     "name": "stdout",
     "output_type": "stream",
     "text": [
      "CPU times: user 1min 15s, sys: 1.43 s, total: 1min 17s\n",
      "Wall time: 1h 6min 54s\n"
     ]
    }
   ],
   "source": [
    "%%time\n",
    "grid = GridSearchCV(clf_svm, param_grid=grid_params, cv=3, n_jobs=-1, scoring='accuracy', verbose=1, refit=True)\n",
    "grid.fit(X_train_hog, y_train)"
   ]
  },
  {
   "cell_type": "code",
   "execution_count": 46,
   "metadata": {
    "ExecuteTime": {
     "end_time": "2018-07-08T18:52:19.121298Z",
     "start_time": "2018-07-08T18:50:39.381030Z"
    }
   },
   "outputs": [
    {
     "name": "stdout",
     "output_type": "stream",
     "text": [
      "Pipeline(memory=None,\n",
      "     steps=[('scaler', StandardScaler(copy=True, with_mean=True, with_std=True)), ('clf', SVC(C=10, cache_size=200, class_weight=None, coef0=0.0,\n",
      "  decision_function_shape='ovr', degree=3, gamma='auto', kernel='rbf',\n",
      "  max_iter=-1, probability=False, random_state=42, shrinking=True,\n",
      "  tol=0.001, verbose=False))])\n",
      "Accuracy на cv: 0.9906\n",
      "Accuracy train: 1.0000\n",
      "Accuracy test: 0.9925\n",
      "             precision    recall  f1-score   support\n",
      "\n",
      "          0       0.99      1.00      1.00       826\n",
      "          1       1.00      1.00      1.00       937\n",
      "          2       0.99      1.00      0.99       835\n",
      "          3       1.00      0.99      0.99       870\n",
      "          4       1.00      1.00      1.00       814\n",
      "          5       0.99      0.99      0.99       759\n",
      "          6       1.00      0.99      1.00       828\n",
      "          7       0.99      0.99      0.99       880\n",
      "          8       0.99      0.99      0.99       813\n",
      "          9       0.98      0.99      0.99       838\n",
      "\n",
      "avg / total       0.99      0.99      0.99      8400\n",
      "\n"
     ]
    }
   ],
   "source": [
    "print(grid.best_estimator_)\n",
    "print('Accuracy на cv: {0:6.4f}'.format(grid.best_score_))\n",
    "predict_train = grid.predict(X_train_hog)\n",
    "predict_test = grid.predict(X_test_hog)\n",
    "print('Accuracy train: {0:6.4f}'.format(accuracy_score(y_train, predict_train)))\n",
    "print('Accuracy test: {0:6.4f}'.format(accuracy_score(y_test, predict_test)))\n",
    "print(classification_report(y_test, predict_test))"
   ]
  },
  {
   "cell_type": "markdown",
   "metadata": {},
   "source": [
    "готовим предсказание и делаем второй submit"
   ]
  },
  {
   "cell_type": "code",
   "execution_count": 47,
   "metadata": {
    "ExecuteTime": {
     "end_time": "2018-07-08T18:52:24.453514Z",
     "start_time": "2018-07-08T18:52:20.018433Z"
    }
   },
   "outputs": [
    {
     "name": "stdout",
     "output_type": "stream",
     "text": [
      "(42000, 324)\n",
      "(28000, 324)\n",
      "CPU times: user 4.56 s, sys: 24.1 ms, total: 4.59 s\n",
      "Wall time: 4.43 s\n"
     ]
    }
   ],
   "source": [
    "%%time\n",
    "X_train = df_train.astype(np.uint8)\n",
    "X_test = df_test.astype(np.uint8)\n",
    "X_train_hog = np.array([hog.compute(row.reshape(28,28)).flatten() for row in X_train.values])\n",
    "X_test_hog = np.array([hog.compute(row.reshape(28,28)).flatten() for row in X_test.values])\n",
    "print(X_train_hog.shape)\n",
    "print(X_test_hog.shape)"
   ]
  },
  {
   "cell_type": "code",
   "execution_count": 48,
   "metadata": {
    "ExecuteTime": {
     "end_time": "2018-07-08T18:55:16.496979Z",
     "start_time": "2018-07-08T18:52:25.381279Z"
    }
   },
   "outputs": [],
   "source": [
    "model = grid.best_estimator_\n",
    "model.fit(X_train_hog, y)\n",
    "y_pred = model.predict(X_test_hog)\n",
    "y_pred = pd.Series(y_pred, index=df_test.index)"
   ]
  },
  {
   "cell_type": "code",
   "execution_count": 49,
   "metadata": {
    "ExecuteTime": {
     "end_time": "2018-07-08T18:55:17.559695Z",
     "start_time": "2018-07-08T18:55:17.549180Z"
    }
   },
   "outputs": [
    {
     "data": {
      "text/plain": [
       "1    2\n",
       "2    0\n",
       "3    9\n",
       "4    0\n",
       "5    3\n",
       "dtype: int64"
      ]
     },
     "execution_count": 49,
     "metadata": {},
     "output_type": "execute_result"
    }
   ],
   "source": [
    "y_pred.head()"
   ]
  },
  {
   "cell_type": "code",
   "execution_count": 50,
   "metadata": {
    "ExecuteTime": {
     "end_time": "2018-07-08T18:55:18.813591Z",
     "start_time": "2018-07-08T18:55:18.738162Z"
    }
   },
   "outputs": [],
   "source": [
    "y_pred.to_csv('predictions2.csv', sep=',', header=True, index_label=['ImageId','Label'])"
   ]
  },
  {
   "cell_type": "code",
   "execution_count": 51,
   "metadata": {
    "ExecuteTime": {
     "end_time": "2018-07-08T18:55:19.754510Z",
     "start_time": "2018-07-08T18:55:19.750134Z"
    }
   },
   "outputs": [],
   "source": [
    "# leaderboard score 0.99285"
   ]
  },
  {
   "cell_type": "code",
   "execution_count": null,
   "metadata": {},
   "outputs": [],
   "source": []
  }
 ],
 "metadata": {
  "hide_input": false,
  "kernelspec": {
   "display_name": "Python 3",
   "language": "python",
   "name": "python3"
  },
  "toc": {
   "base_numbering": 1,
   "nav_menu": {},
   "number_sections": true,
   "sideBar": true,
   "skip_h1_title": false,
   "title_cell": "Table of Contents",
   "title_sidebar": "Contents",
   "toc_cell": false,
   "toc_position": {
    "height": "calc(100% - 180px)",
    "left": "10px",
    "top": "150px",
    "width": "320px"
   },
   "toc_section_display": true,
   "toc_window_display": true
  },
  "varInspector": {
   "cols": {
    "lenName": 16,
    "lenType": 16,
    "lenVar": 40
   },
   "kernels_config": {
    "python": {
     "delete_cmd_postfix": "",
     "delete_cmd_prefix": "del ",
     "library": "var_list.py",
     "varRefreshCmd": "print(var_dic_list())"
    },
    "r": {
     "delete_cmd_postfix": ") ",
     "delete_cmd_prefix": "rm(",
     "library": "var_list.r",
     "varRefreshCmd": "cat(var_dic_list()) "
    }
   },
   "types_to_exclude": [
    "module",
    "function",
    "builtin_function_or_method",
    "instance",
    "_Feature"
   ],
   "window_display": false
  }
 },
 "nbformat": 4,
 "nbformat_minor": 2
}
