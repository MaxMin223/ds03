{
  "nbformat": 4,
  "nbformat_minor": 0,
  "metadata": {
    "colab": {
      "name": "yelp-hw.ipynb",
      "version": "0.3.2",
      "views": {},
      "default_view": {},
      "provenance": [],
      "collapsed_sections": []
    },
    "kernelspec": {
      "display_name": "Python 3",
      "language": "python",
      "name": "python3"
    },
    "accelerator": "GPU"
  },
  "cells": [
    {
      "metadata": {
        "id": "Pl9o7mHw80tL",
        "colab_type": "text"
      },
      "cell_type": "markdown",
      "source": [
        "# Yelp Restaurant Photo Classification"
      ]
    },
    {
      "metadata": {
        "id": "eWtJSD6q80tR",
        "colab_type": "text"
      },
      "cell_type": "markdown",
      "source": [
        "https://www.kaggle.com/c/yelp-restaurant-photo-classification"
      ]
    },
    {
      "metadata": {
        "id": "oqqPtdD3_R0x",
        "colab_type": "text"
      },
      "cell_type": "markdown",
      "source": [
        "## Загружаем данные"
      ]
    },
    {
      "metadata": {
        "id": "yayn6lf-9KgO",
        "colab_type": "code",
        "colab": {
          "autoexec": {
            "startup": false,
            "wait_interval": 0
          },
          "base_uri": "https://localhost:8080/",
          "height": 799
        },
        "outputId": "2a8ede52-9e6a-48cc-bed5-83702611359b",
        "executionInfo": {
          "status": "ok",
          "timestamp": 1532866503973,
          "user_tz": -180,
          "elapsed": 9685,
          "user": {
            "displayName": "Max Minenko",
            "photoUrl": "https://lh3.googleusercontent.com/a/default-user=s128",
            "userId": "109736211463040468281"
          }
        }
      },
      "cell_type": "code",
      "source": [
        "!pip install keras --upgrade\n",
        "!pip install keras_applications --upgrade\n",
        "!pip install kaggle\n"
      ],
      "execution_count": 1,
      "outputs": [
        {
          "output_type": "stream",
          "text": [
            "Collecting keras\n",
            "\u001b[?25l  Downloading https://files.pythonhosted.org/packages/34/7d/b1dedde8af99bd82f20ed7e9697aac0597de3049b1f786aa2aac3b9bd4da/Keras-2.2.2-py2.py3-none-any.whl (299kB)\n",
            "\u001b[K    100% |████████████████████████████████| 307kB 5.7MB/s \n",
            "\u001b[?25hRequirement already satisfied, skipping upgrade: h5py in /usr/local/lib/python3.6/dist-packages (from keras) (2.8.0)\n",
            "Collecting keras-applications==1.0.4 (from keras)\n",
            "\u001b[?25l  Downloading https://files.pythonhosted.org/packages/54/90/8f327deaa37a71caddb59b7b4aaa9d4b3e90c0e76f8c2d1572005278ddc5/Keras_Applications-1.0.4-py2.py3-none-any.whl (43kB)\n",
            "\u001b[K    100% |████████████████████████████████| 51kB 10.1MB/s \n",
            "\u001b[?25hRequirement already satisfied, skipping upgrade: scipy>=0.14 in /usr/local/lib/python3.6/dist-packages (from keras) (0.19.1)\n",
            "Requirement already satisfied, skipping upgrade: six>=1.9.0 in /usr/local/lib/python3.6/dist-packages (from keras) (1.11.0)\n",
            "Requirement already satisfied, skipping upgrade: numpy>=1.9.1 in /usr/local/lib/python3.6/dist-packages (from keras) (1.14.5)\n",
            "Collecting keras-preprocessing==1.0.2 (from keras)\n",
            "  Downloading https://files.pythonhosted.org/packages/71/26/1e778ebd737032749824d5cba7dbd3b0cf9234b87ab5ec79f5f0403ca7e9/Keras_Preprocessing-1.0.2-py2.py3-none-any.whl\n",
            "Requirement already satisfied, skipping upgrade: pyyaml in /usr/local/lib/python3.6/dist-packages (from keras) (3.13)\n",
            "Installing collected packages: keras-applications, keras-preprocessing, keras\n",
            "  Found existing installation: Keras 2.1.6\n",
            "    Uninstalling Keras-2.1.6:\n",
            "      Successfully uninstalled Keras-2.1.6\n",
            "Successfully installed keras-2.2.2 keras-applications-1.0.4 keras-preprocessing-1.0.2\n",
            "Requirement already up-to-date: keras_applications in /usr/local/lib/python3.6/dist-packages (1.0.4)\n",
            "Requirement already satisfied, skipping upgrade: h5py in /usr/local/lib/python3.6/dist-packages (from keras_applications) (2.8.0)\n",
            "Requirement already satisfied, skipping upgrade: numpy>=1.9.1 in /usr/local/lib/python3.6/dist-packages (from keras_applications) (1.14.5)\n",
            "Requirement already satisfied, skipping upgrade: keras>=2.1.6 in /usr/local/lib/python3.6/dist-packages (from keras_applications) (2.2.2)\n",
            "Requirement already satisfied, skipping upgrade: six in /usr/local/lib/python3.6/dist-packages (from h5py->keras_applications) (1.11.0)\n",
            "Requirement already satisfied, skipping upgrade: scipy>=0.14 in /usr/local/lib/python3.6/dist-packages (from keras>=2.1.6->keras_applications) (0.19.1)\n",
            "Requirement already satisfied, skipping upgrade: pyyaml in /usr/local/lib/python3.6/dist-packages (from keras>=2.1.6->keras_applications) (3.13)\n",
            "Requirement already satisfied, skipping upgrade: keras-preprocessing==1.0.2 in /usr/local/lib/python3.6/dist-packages (from keras>=2.1.6->keras_applications) (1.0.2)\n",
            "Collecting kaggle\n",
            "\u001b[?25l  Downloading https://files.pythonhosted.org/packages/93/11/f7bc11a9527c52a31695816e7f38d421d8da0d096beff3fa2638dfbd4d95/kaggle-1.4.2.tar.gz (43kB)\n",
            "\u001b[K    100% |████████████████████████████████| 51kB 2.1MB/s \n",
            "\u001b[?25hRequirement already satisfied: urllib3<1.23.0,>=1.15 in /usr/local/lib/python3.6/dist-packages (from kaggle) (1.22)\n",
            "Requirement already satisfied: six>=1.10 in /usr/local/lib/python3.6/dist-packages (from kaggle) (1.11.0)\n",
            "Requirement already satisfied: certifi in /usr/local/lib/python3.6/dist-packages (from kaggle) (2018.4.16)\n",
            "Requirement already satisfied: python-dateutil in /usr/local/lib/python3.6/dist-packages (from kaggle) (2.5.3)\n",
            "Requirement already satisfied: requests in /usr/local/lib/python3.6/dist-packages (from kaggle) (2.18.4)\n",
            "Collecting tqdm (from kaggle)\n",
            "\u001b[?25l  Downloading https://files.pythonhosted.org/packages/7d/e6/19dfaff08fcbee7f3453e5b537e65a8364f1945f921a36d08be1e2ff3475/tqdm-4.24.0-py2.py3-none-any.whl (43kB)\n",
            "\u001b[K    100% |████████████████████████████████| 51kB 5.2MB/s \n",
            "\u001b[?25hRequirement already satisfied: chardet<3.1.0,>=3.0.2 in /usr/local/lib/python3.6/dist-packages (from requests->kaggle) (3.0.4)\n",
            "Requirement already satisfied: idna<2.7,>=2.5 in /usr/local/lib/python3.6/dist-packages (from requests->kaggle) (2.6)\n",
            "Building wheels for collected packages: kaggle\n",
            "  Running setup.py bdist_wheel for kaggle ... \u001b[?25l-\b \b\\\b \bdone\n",
            "\u001b[?25h  Stored in directory: /content/.cache/pip/wheels/3b/8e/14/adcbb71d126f5fb939fec8aa81394450922c20eee876bf8882\n",
            "Successfully built kaggle\n",
            "Installing collected packages: tqdm, kaggle\n",
            "Successfully installed kaggle-1.4.2 tqdm-4.24.0\n"
          ],
          "name": "stdout"
        }
      ]
    },
    {
      "metadata": {
        "id": "1MWO35-y9YWh",
        "colab_type": "code",
        "colab": {
          "autoexec": {
            "startup": false,
            "wait_interval": 0
          }
        }
      },
      "cell_type": "code",
      "source": [
        "!mkdir ~/.kaggle\n",
        "!echo '{\"username\":\"11111\",\"key\":\"111111\"}' > ~/.kaggle/kaggle.json\n",
        "!chmod 600 ~/.kaggle/kaggle.json"
      ],
      "execution_count": 0,
      "outputs": []
    },
    {
      "metadata": {
        "id": "IkHe4lF29a16",
        "colab_type": "code",
        "colab": {
          "autoexec": {
            "startup": false,
            "wait_interval": 0
          },
          "base_uri": "https://localhost:8080/",
          "height": 347
        },
        "outputId": "ea5c275e-94da-4b15-d525-9b58fac00d02",
        "executionInfo": {
          "status": "ok",
          "timestamp": 1532866638258,
          "user_tz": -180,
          "elapsed": 105795,
          "user": {
            "displayName": "Max Minenko",
            "photoUrl": "https://lh3.googleusercontent.com/a/default-user=s128",
            "userId": "109736211463040468281"
          }
        }
      },
      "cell_type": "code",
      "source": [
        "!kaggle config set -n path -v /content\n",
        "!kaggle competitions download -c yelp-restaurant-photo-classification"
      ],
      "execution_count": 3,
      "outputs": [
        {
          "output_type": "stream",
          "text": [
            "path is now set to: /content\n",
            "Downloading train_photo_to_biz_ids.csv.tgz to /content/competitions/yelp-restaurant-photo-classification\n",
            "  0%|                                               | 0.00/1.12M [00:00<?, ?B/s]\n",
            "100%|██████████████████████████████████████| 1.12M/1.12M [00:00<00:00, 91.0MB/s]\n",
            "Downloading train.csv.tgz to /content/competitions/yelp-restaurant-photo-classification\n",
            "  0%|                                               | 0.00/7.12k [00:00<?, ?B/s]\n",
            "100%|██████████████████████████████████████| 7.12k/7.12k [00:00<00:00, 9.02MB/s]\n",
            "Downloading train_photos.tgz to /content/competitions/yelp-restaurant-photo-classification\n",
            " 37%|██████████████▍                        | 2.43G/6.54G [00:17<00:36, 123MB/s]"
          ],
          "name": "stdout"
        },
        {
          "output_type": "stream",
          "text": [
            "100%|██████████████████████████████████████▉| 6.54G/6.54G [00:49<00:00, 126MB/s]\n",
            "100%|███████████████████████████████████████| 6.54G/6.54G [00:49<00:00, 142MB/s]\n",
            "Downloading test_photos.tgz to /content/competitions/yelp-restaurant-photo-classification\n",
            " 65%|█████████████████████████▍             | 4.32G/6.61G [00:32<00:23, 105MB/s]"
          ],
          "name": "stdout"
        },
        {
          "output_type": "stream",
          "text": [
            "100%|██████████████████████████████████████▉| 6.61G/6.61G [00:48<00:00, 151MB/s]\n",
            "100%|███████████████████████████████████████| 6.61G/6.61G [00:49<00:00, 145MB/s]\n",
            "Downloading sample_submission.csv.tgz to /content/competitions/yelp-restaurant-photo-classification\n",
            "  0%|                                               | 0.00/39.0k [00:00<?, ?B/s]\n",
            "100%|██████████████████████████████████████| 39.0k/39.0k [00:00<00:00, 33.8MB/s]\n",
            "Downloading test_photo_to_biz.csv.tgz to /content/competitions/yelp-restaurant-photo-classification\n",
            "  0%|                                               | 0.00/4.79M [00:00<?, ?B/s]\n",
            "100%|██████████████████████████████████████| 4.79M/4.79M [00:00<00:00, 88.1MB/s]\n"
          ],
          "name": "stdout"
        }
      ]
    },
    {
      "metadata": {
        "id": "KtvKBjAS-RV2",
        "colab_type": "code",
        "colab": {
          "autoexec": {
            "startup": false,
            "wait_interval": 0
          },
          "base_uri": "https://localhost:8080/",
          "height": 139
        },
        "outputId": "533f1a50-7774-49dc-e6f1-a97573b3ee33",
        "executionInfo": {
          "status": "ok",
          "timestamp": 1532868045172,
          "user_tz": -180,
          "elapsed": 1614,
          "user": {
            "displayName": "Max Minenko",
            "photoUrl": "https://lh3.googleusercontent.com/a/default-user=s128",
            "userId": "109736211463040468281"
          }
        }
      },
      "cell_type": "code",
      "source": [
        "!ls ./competitions/yelp-restaurant-photo-classification/ -l"
      ],
      "execution_count": 3,
      "outputs": [
        {
          "output_type": "stream",
          "text": [
            "total 13804260\r\n",
            "-rw-r--r-- 1 root root      39917 Jul 29 12:17 sample_submission.csv.tgz\r\n",
            "-rw-r--r-- 1 root root 7102584231 Jul 29 12:17 test_photos.tgz\r\n",
            "-rw-r--r-- 1 root root    5019061 Jul 29 12:17 test_photo_to_biz.csv.tgz\r\n",
            "-rw-r--r-- 1 root root       7287 Jul 29 12:15 train.csv.tgz\r\n",
            "-rw-r--r-- 1 root root 7026724672 Jul 29 12:16 train_photos.tgz\r\n",
            "-rw-r--r-- 1 root root    1171455 Jul 29 12:15 train_photo_to_biz_ids.csv.tgz\r\n"
          ],
          "name": "stdout"
        }
      ]
    },
    {
      "metadata": {
        "id": "JWEW2d6j94nz",
        "colab_type": "code",
        "colab": {
          "autoexec": {
            "startup": false,
            "wait_interval": 0
          }
        }
      },
      "cell_type": "code",
      "source": [
        "!tar -xzf ./competitions/yelp-restaurant-photo-classification/test_photos.tgz \n",
        "!tar -xzf ./competitions/yelp-restaurant-photo-classification/train_photos.tgz \n",
        "!tar -xzf ./competitions/yelp-restaurant-photo-classification/train.csv.tgz \n",
        "!tar -xzf ./competitions/yelp-restaurant-photo-classification/train_photo_to_biz_ids.csv.tgz \n",
        "!tar -xzf ./competitions/yelp-restaurant-photo-classification/test_photo_to_biz.csv.tgz \n"
      ],
      "execution_count": 0,
      "outputs": []
    },
    {
      "metadata": {
        "id": "PaT21Kz680tV",
        "colab_type": "code",
        "colab": {
          "autoexec": {
            "startup": false,
            "wait_interval": 0
          }
        }
      },
      "cell_type": "code",
      "source": [
        "import os\n",
        "import cv2\n",
        "import numpy as np\n",
        "import pandas as pd\n",
        "#from tensorflow.contrib import keras\n",
        "\n",
        "import keras\n",
        "from keras.models import Model, Sequential\n",
        "#from keras.applications.xception import Xception, preprocess_input\n",
        "from keras.applications.mobilenetv2 import MobileNetV2, preprocess_input\n",
        "from keras.layers import Dense, Dropout, Flatten, Concatenate\n",
        "import keras.backend as K\n",
        "from keras.callbacks import ModelCheckpoint\n",
        "\n",
        "from sklearn.model_selection import train_test_split\n",
        "#preprocess_input = keras.applications.vgg16.preprocess_input\n",
        "#VGG16 = keras.applications.VGG16\n",
        "\n",
        "IMG_SIZE = 224\n"
      ],
      "execution_count": 0,
      "outputs": []
    },
    {
      "metadata": {
        "id": "rLAE5oUV80tk",
        "colab_type": "text"
      },
      "cell_type": "markdown",
      "source": [
        "## Загружаем разметку"
      ]
    },
    {
      "metadata": {
        "id": "Rd3lrS5h80tn",
        "colab_type": "code",
        "colab": {
          "autoexec": {
            "startup": false,
            "wait_interval": 0
          }
        }
      },
      "cell_type": "code",
      "source": [
        "train_biz_df = pd.read_csv('train.csv')\n",
        "train_photos_df = pd.read_csv('train_photo_to_biz_ids.csv')\n",
        "df = train_photos_df.merge(train_biz_df)\n",
        "\n",
        "test_photos_df = pd.read_csv('test_photo_to_biz.csv')"
      ],
      "execution_count": 0,
      "outputs": []
    },
    {
      "metadata": {
        "id": "_nlnYWDI80tx",
        "colab_type": "code",
        "colab": {
          "autoexec": {
            "startup": false,
            "wait_interval": 0
          }
        }
      },
      "cell_type": "code",
      "source": [
        "def get_image(path, img_id, img_size=(IMG_SIZE, IMG_SIZE)):\n",
        "    img = cv2.imread(os.path.join(path, '%s.jpg' % img_id))[:,:,::-1]\n",
        "    img = preprocess_input(img.astype(np.float32))\n",
        "    return cv2.resize(img, img_size)\n",
        "\n",
        "def to_dense(labels):\n",
        "    result = [0] * 9\n",
        "    for i in labels:\n",
        "        result[i] = 1.\n",
        "    return result\n",
        "\n",
        "def train_generator(df, img_size=(IMG_SIZE, IMG_SIZE), batch_size=32):\n",
        "    while True:\n",
        "        df = df.sample(frac=1).reset_index(drop=True)\n",
        "        for i in range(0, len(df) // batch_size * batch_size, batch_size):\n",
        "            X, y = [], []\n",
        "            for _, row in df[i:i + batch_size].iterrows():\n",
        "                X.append(get_image('train_photos', row['photo_id'], img_size))\n",
        "                y.append(to_dense(map(int, str(row['labels']).split())))\n",
        "            y = np.array(y)\n",
        "            yield np.array(X), [y[:, i] for i in range(9)]"
      ],
      "execution_count": 0,
      "outputs": []
    },
    {
      "metadata": {
        "id": "n24I0OV780t7",
        "colab_type": "code",
        "colab": {
          "autoexec": {
            "startup": false,
            "wait_interval": 0
          }
        }
      },
      "cell_type": "code",
      "source": [
        "# TODO: build CNN model\n",
        "# TODO: train CNN model using train_generator"
      ],
      "execution_count": 0,
      "outputs": []
    },
    {
      "metadata": {
        "id": "T1Q3qS1B80uD",
        "colab_type": "code",
        "colab": {
          "autoexec": {
            "startup": false,
            "wait_interval": 0
          }
        }
      },
      "cell_type": "code",
      "source": [
        "def recall(y_true, y_pred):\n",
        "    #Recall metric.\n",
        "\n",
        "    true_positives = K.sum(K.round(K.clip(y_true * y_pred, 0, 1)),axis=0)\n",
        "    possible_positives = K.sum(K.round(K.clip(y_true, 0, 1)),axis=0)\n",
        "    recall = true_positives / (possible_positives + K.epsilon())\n",
        "    return recall\n",
        "\n",
        "def precision(y_true, y_pred):\n",
        "    #Precision metric.\n",
        "\n",
        "    true_positives = K.sum(K.round(K.clip(y_true * y_pred, 0, 1)),axis=0)\n",
        "    predicted_positives = K.sum(K.round(K.clip(y_pred, 0, 1)),axis=1)\n",
        "    precision = true_positives / (predicted_positives + K.epsilon())\n",
        "    return precision\n",
        "\n",
        "def f1(y_true, y_pred):\n",
        "    pr = precision(y_true, y_pred)\n",
        "    re = recall(y_true, y_pred)\n",
        "    return 2*pr*re/(pr + re)"
      ],
      "execution_count": 0,
      "outputs": []
    },
    {
      "metadata": {
        "id": "hxFfkF7E80uK",
        "colab_type": "code",
        "colab": {
          "autoexec": {
            "startup": false,
            "wait_interval": 0
          },
          "base_uri": "https://localhost:8080/",
          "height": 52
        },
        "outputId": "1c8fb5b2-1b61-4044-b3ee-e3ac5630b4ac",
        "executionInfo": {
          "status": "ok",
          "timestamp": 1532874716567,
          "user_tz": -180,
          "elapsed": 12146,
          "user": {
            "displayName": "Max Minenko",
            "photoUrl": "https://lh3.googleusercontent.com/a/default-user=s128",
            "userId": "109736211463040468281"
          }
        }
      },
      "cell_type": "code",
      "source": [
        "base_model = MobileNetV2(include_top = False,\n",
        "                   weights = 'imagenet',\n",
        "                   input_shape = (IMG_SIZE, IMG_SIZE, 3),\n",
        "                   pooling = 'avg')"
      ],
      "execution_count": 38,
      "outputs": [
        {
          "output_type": "stream",
          "text": [
            "Downloading data from https://github.com/JonathanCMitchell/mobilenet_v2_keras/releases/download/v1.1/mobilenet_v2_weights_tf_dim_ordering_tf_kernels_1.0_224_no_top.h5\n",
            "9412608/9406464 [==============================] - 0s 0us/step\n"
          ],
          "name": "stdout"
        }
      ]
    },
    {
      "metadata": {
        "id": "IE2jtnU180uT",
        "colab_type": "code",
        "colab": {
          "autoexec": {
            "startup": false,
            "wait_interval": 0
          }
        }
      },
      "cell_type": "code",
      "source": [
        "for layer in base_model.layers:\n",
        "    layer.trainable = False"
      ],
      "execution_count": 0,
      "outputs": []
    },
    {
      "metadata": {
        "id": "O04zGCQ_80uf",
        "colab_type": "code",
        "colab": {
          "autoexec": {
            "startup": false,
            "wait_interval": 0
          },
          "base_uri": "https://localhost:8080/",
          "height": 5557
        },
        "outputId": "f3c5fc6f-e48e-482c-b7b3-44857f70d606",
        "executionInfo": {
          "status": "ok",
          "timestamp": 1532874722147,
          "user_tz": -180,
          "elapsed": 536,
          "user": {
            "displayName": "Max Minenko",
            "photoUrl": "https://lh3.googleusercontent.com/a/default-user=s128",
            "userId": "109736211463040468281"
          }
        }
      },
      "cell_type": "code",
      "source": [
        "base_model.summary()"
      ],
      "execution_count": 40,
      "outputs": [
        {
          "output_type": "stream",
          "text": [
            "__________________________________________________________________________________________________\n",
            "Layer (type)                    Output Shape         Param #     Connected to                     \n",
            "==================================================================================================\n",
            "input_2 (InputLayer)            (None, 224, 224, 3)  0                                            \n",
            "__________________________________________________________________________________________________\n",
            "Conv1 (Conv2D)                  (None, 112, 112, 32) 864         input_2[0][0]                    \n",
            "__________________________________________________________________________________________________\n",
            "bn_Conv1 (BatchNormalization)   (None, 112, 112, 32) 128         Conv1[0][0]                      \n",
            "__________________________________________________________________________________________________\n",
            "Conv1_relu (ReLU)               (None, 112, 112, 32) 0           bn_Conv1[0][0]                   \n",
            "__________________________________________________________________________________________________\n",
            "expanded_conv_depthwise (Depthw (None, 112, 112, 32) 288         Conv1_relu[0][0]                 \n",
            "__________________________________________________________________________________________________\n",
            "expanded_conv_depthwise_BN (Bat (None, 112, 112, 32) 128         expanded_conv_depthwise[0][0]    \n",
            "__________________________________________________________________________________________________\n",
            "expanded_conv_depthwise_relu (R (None, 112, 112, 32) 0           expanded_conv_depthwise_BN[0][0] \n",
            "__________________________________________________________________________________________________\n",
            "expanded_conv_project (Conv2D)  (None, 112, 112, 16) 512         expanded_conv_depthwise_relu[0][0\n",
            "__________________________________________________________________________________________________\n",
            "expanded_conv_project_BN (Batch (None, 112, 112, 16) 64          expanded_conv_project[0][0]      \n",
            "__________________________________________________________________________________________________\n",
            "block_1_expand (Conv2D)         (None, 112, 112, 96) 1536        expanded_conv_project_BN[0][0]   \n",
            "__________________________________________________________________________________________________\n",
            "block_1_expand_BN (BatchNormali (None, 112, 112, 96) 384         block_1_expand[0][0]             \n",
            "__________________________________________________________________________________________________\n",
            "block_1_expand_relu (ReLU)      (None, 112, 112, 96) 0           block_1_expand_BN[0][0]          \n",
            "__________________________________________________________________________________________________\n",
            "block_1_depthwise (DepthwiseCon (None, 56, 56, 96)   864         block_1_expand_relu[0][0]        \n",
            "__________________________________________________________________________________________________\n",
            "block_1_depthwise_BN (BatchNorm (None, 56, 56, 96)   384         block_1_depthwise[0][0]          \n",
            "__________________________________________________________________________________________________\n",
            "block_1_depthwise_relu (ReLU)   (None, 56, 56, 96)   0           block_1_depthwise_BN[0][0]       \n",
            "__________________________________________________________________________________________________\n",
            "block_1_project (Conv2D)        (None, 56, 56, 24)   2304        block_1_depthwise_relu[0][0]     \n",
            "__________________________________________________________________________________________________\n",
            "block_1_project_BN (BatchNormal (None, 56, 56, 24)   96          block_1_project[0][0]            \n",
            "__________________________________________________________________________________________________\n",
            "block_2_expand (Conv2D)         (None, 56, 56, 144)  3456        block_1_project_BN[0][0]         \n",
            "__________________________________________________________________________________________________\n",
            "block_2_expand_BN (BatchNormali (None, 56, 56, 144)  576         block_2_expand[0][0]             \n",
            "__________________________________________________________________________________________________\n",
            "block_2_expand_relu (ReLU)      (None, 56, 56, 144)  0           block_2_expand_BN[0][0]          \n",
            "__________________________________________________________________________________________________\n",
            "block_2_depthwise (DepthwiseCon (None, 56, 56, 144)  1296        block_2_expand_relu[0][0]        \n",
            "__________________________________________________________________________________________________\n",
            "block_2_depthwise_BN (BatchNorm (None, 56, 56, 144)  576         block_2_depthwise[0][0]          \n",
            "__________________________________________________________________________________________________\n",
            "block_2_depthwise_relu (ReLU)   (None, 56, 56, 144)  0           block_2_depthwise_BN[0][0]       \n",
            "__________________________________________________________________________________________________\n",
            "block_2_project (Conv2D)        (None, 56, 56, 24)   3456        block_2_depthwise_relu[0][0]     \n",
            "__________________________________________________________________________________________________\n",
            "block_2_project_BN (BatchNormal (None, 56, 56, 24)   96          block_2_project[0][0]            \n",
            "__________________________________________________________________________________________________\n",
            "block_2_add (Add)               (None, 56, 56, 24)   0           block_1_project_BN[0][0]         \n",
            "                                                                 block_2_project_BN[0][0]         \n",
            "__________________________________________________________________________________________________\n",
            "block_3_expand (Conv2D)         (None, 56, 56, 144)  3456        block_2_add[0][0]                \n",
            "__________________________________________________________________________________________________\n",
            "block_3_expand_BN (BatchNormali (None, 56, 56, 144)  576         block_3_expand[0][0]             \n",
            "__________________________________________________________________________________________________\n",
            "block_3_expand_relu (ReLU)      (None, 56, 56, 144)  0           block_3_expand_BN[0][0]          \n",
            "__________________________________________________________________________________________________\n",
            "block_3_depthwise (DepthwiseCon (None, 28, 28, 144)  1296        block_3_expand_relu[0][0]        \n",
            "__________________________________________________________________________________________________\n",
            "block_3_depthwise_BN (BatchNorm (None, 28, 28, 144)  576         block_3_depthwise[0][0]          \n",
            "__________________________________________________________________________________________________\n",
            "block_3_depthwise_relu (ReLU)   (None, 28, 28, 144)  0           block_3_depthwise_BN[0][0]       \n",
            "__________________________________________________________________________________________________\n",
            "block_3_project (Conv2D)        (None, 28, 28, 32)   4608        block_3_depthwise_relu[0][0]     \n",
            "__________________________________________________________________________________________________\n",
            "block_3_project_BN (BatchNormal (None, 28, 28, 32)   128         block_3_project[0][0]            \n",
            "__________________________________________________________________________________________________\n",
            "block_4_expand (Conv2D)         (None, 28, 28, 192)  6144        block_3_project_BN[0][0]         \n",
            "__________________________________________________________________________________________________\n",
            "block_4_expand_BN (BatchNormali (None, 28, 28, 192)  768         block_4_expand[0][0]             \n",
            "__________________________________________________________________________________________________\n",
            "block_4_expand_relu (ReLU)      (None, 28, 28, 192)  0           block_4_expand_BN[0][0]          \n",
            "__________________________________________________________________________________________________\n",
            "block_4_depthwise (DepthwiseCon (None, 28, 28, 192)  1728        block_4_expand_relu[0][0]        \n",
            "__________________________________________________________________________________________________\n",
            "block_4_depthwise_BN (BatchNorm (None, 28, 28, 192)  768         block_4_depthwise[0][0]          \n",
            "__________________________________________________________________________________________________\n",
            "block_4_depthwise_relu (ReLU)   (None, 28, 28, 192)  0           block_4_depthwise_BN[0][0]       \n",
            "__________________________________________________________________________________________________\n",
            "block_4_project (Conv2D)        (None, 28, 28, 32)   6144        block_4_depthwise_relu[0][0]     \n",
            "__________________________________________________________________________________________________\n",
            "block_4_project_BN (BatchNormal (None, 28, 28, 32)   128         block_4_project[0][0]            \n",
            "__________________________________________________________________________________________________\n",
            "block_4_add (Add)               (None, 28, 28, 32)   0           block_3_project_BN[0][0]         \n",
            "                                                                 block_4_project_BN[0][0]         \n",
            "__________________________________________________________________________________________________\n",
            "block_5_expand (Conv2D)         (None, 28, 28, 192)  6144        block_4_add[0][0]                \n",
            "__________________________________________________________________________________________________\n",
            "block_5_expand_BN (BatchNormali (None, 28, 28, 192)  768         block_5_expand[0][0]             \n",
            "__________________________________________________________________________________________________\n",
            "block_5_expand_relu (ReLU)      (None, 28, 28, 192)  0           block_5_expand_BN[0][0]          \n",
            "__________________________________________________________________________________________________\n",
            "block_5_depthwise (DepthwiseCon (None, 28, 28, 192)  1728        block_5_expand_relu[0][0]        \n",
            "__________________________________________________________________________________________________\n",
            "block_5_depthwise_BN (BatchNorm (None, 28, 28, 192)  768         block_5_depthwise[0][0]          \n",
            "__________________________________________________________________________________________________\n",
            "block_5_depthwise_relu (ReLU)   (None, 28, 28, 192)  0           block_5_depthwise_BN[0][0]       \n",
            "__________________________________________________________________________________________________\n",
            "block_5_project (Conv2D)        (None, 28, 28, 32)   6144        block_5_depthwise_relu[0][0]     \n",
            "__________________________________________________________________________________________________\n",
            "block_5_project_BN (BatchNormal (None, 28, 28, 32)   128         block_5_project[0][0]            \n",
            "__________________________________________________________________________________________________\n",
            "block_5_add (Add)               (None, 28, 28, 32)   0           block_4_add[0][0]                \n",
            "                                                                 block_5_project_BN[0][0]         \n",
            "__________________________________________________________________________________________________\n",
            "block_6_expand (Conv2D)         (None, 28, 28, 192)  6144        block_5_add[0][0]                \n",
            "__________________________________________________________________________________________________\n",
            "block_6_expand_BN (BatchNormali (None, 28, 28, 192)  768         block_6_expand[0][0]             \n",
            "__________________________________________________________________________________________________\n",
            "block_6_expand_relu (ReLU)      (None, 28, 28, 192)  0           block_6_expand_BN[0][0]          \n",
            "__________________________________________________________________________________________________\n",
            "block_6_depthwise (DepthwiseCon (None, 14, 14, 192)  1728        block_6_expand_relu[0][0]        \n",
            "__________________________________________________________________________________________________\n",
            "block_6_depthwise_BN (BatchNorm (None, 14, 14, 192)  768         block_6_depthwise[0][0]          \n",
            "__________________________________________________________________________________________________\n",
            "block_6_depthwise_relu (ReLU)   (None, 14, 14, 192)  0           block_6_depthwise_BN[0][0]       \n",
            "__________________________________________________________________________________________________\n",
            "block_6_project (Conv2D)        (None, 14, 14, 64)   12288       block_6_depthwise_relu[0][0]     \n",
            "__________________________________________________________________________________________________\n",
            "block_6_project_BN (BatchNormal (None, 14, 14, 64)   256         block_6_project[0][0]            \n",
            "__________________________________________________________________________________________________\n",
            "block_7_expand (Conv2D)         (None, 14, 14, 384)  24576       block_6_project_BN[0][0]         \n",
            "__________________________________________________________________________________________________\n",
            "block_7_expand_BN (BatchNormali (None, 14, 14, 384)  1536        block_7_expand[0][0]             \n",
            "__________________________________________________________________________________________________\n",
            "block_7_expand_relu (ReLU)      (None, 14, 14, 384)  0           block_7_expand_BN[0][0]          \n",
            "__________________________________________________________________________________________________\n",
            "block_7_depthwise (DepthwiseCon (None, 14, 14, 384)  3456        block_7_expand_relu[0][0]        \n",
            "__________________________________________________________________________________________________\n",
            "block_7_depthwise_BN (BatchNorm (None, 14, 14, 384)  1536        block_7_depthwise[0][0]          \n",
            "__________________________________________________________________________________________________\n",
            "block_7_depthwise_relu (ReLU)   (None, 14, 14, 384)  0           block_7_depthwise_BN[0][0]       \n",
            "__________________________________________________________________________________________________\n",
            "block_7_project (Conv2D)        (None, 14, 14, 64)   24576       block_7_depthwise_relu[0][0]     \n",
            "__________________________________________________________________________________________________\n",
            "block_7_project_BN (BatchNormal (None, 14, 14, 64)   256         block_7_project[0][0]            \n",
            "__________________________________________________________________________________________________\n",
            "block_7_add (Add)               (None, 14, 14, 64)   0           block_6_project_BN[0][0]         \n",
            "                                                                 block_7_project_BN[0][0]         \n",
            "__________________________________________________________________________________________________\n",
            "block_8_expand (Conv2D)         (None, 14, 14, 384)  24576       block_7_add[0][0]                \n",
            "__________________________________________________________________________________________________\n",
            "block_8_expand_BN (BatchNormali (None, 14, 14, 384)  1536        block_8_expand[0][0]             \n",
            "__________________________________________________________________________________________________\n",
            "block_8_expand_relu (ReLU)      (None, 14, 14, 384)  0           block_8_expand_BN[0][0]          \n",
            "__________________________________________________________________________________________________\n",
            "block_8_depthwise (DepthwiseCon (None, 14, 14, 384)  3456        block_8_expand_relu[0][0]        \n",
            "__________________________________________________________________________________________________\n",
            "block_8_depthwise_BN (BatchNorm (None, 14, 14, 384)  1536        block_8_depthwise[0][0]          \n",
            "__________________________________________________________________________________________________\n",
            "block_8_depthwise_relu (ReLU)   (None, 14, 14, 384)  0           block_8_depthwise_BN[0][0]       \n",
            "__________________________________________________________________________________________________\n",
            "block_8_project (Conv2D)        (None, 14, 14, 64)   24576       block_8_depthwise_relu[0][0]     \n",
            "__________________________________________________________________________________________________\n",
            "block_8_project_BN (BatchNormal (None, 14, 14, 64)   256         block_8_project[0][0]            \n",
            "__________________________________________________________________________________________________\n",
            "block_8_add (Add)               (None, 14, 14, 64)   0           block_7_add[0][0]                \n",
            "                                                                 block_8_project_BN[0][0]         \n",
            "__________________________________________________________________________________________________\n",
            "block_9_expand (Conv2D)         (None, 14, 14, 384)  24576       block_8_add[0][0]                \n",
            "__________________________________________________________________________________________________\n",
            "block_9_expand_BN (BatchNormali (None, 14, 14, 384)  1536        block_9_expand[0][0]             \n",
            "__________________________________________________________________________________________________\n",
            "block_9_expand_relu (ReLU)      (None, 14, 14, 384)  0           block_9_expand_BN[0][0]          \n",
            "__________________________________________________________________________________________________\n",
            "block_9_depthwise (DepthwiseCon (None, 14, 14, 384)  3456        block_9_expand_relu[0][0]        \n",
            "__________________________________________________________________________________________________\n",
            "block_9_depthwise_BN (BatchNorm (None, 14, 14, 384)  1536        block_9_depthwise[0][0]          \n",
            "__________________________________________________________________________________________________\n",
            "block_9_depthwise_relu (ReLU)   (None, 14, 14, 384)  0           block_9_depthwise_BN[0][0]       \n",
            "__________________________________________________________________________________________________\n",
            "block_9_project (Conv2D)        (None, 14, 14, 64)   24576       block_9_depthwise_relu[0][0]     \n",
            "__________________________________________________________________________________________________\n",
            "block_9_project_BN (BatchNormal (None, 14, 14, 64)   256         block_9_project[0][0]            \n",
            "__________________________________________________________________________________________________\n",
            "block_9_add (Add)               (None, 14, 14, 64)   0           block_8_add[0][0]                \n",
            "                                                                 block_9_project_BN[0][0]         \n",
            "__________________________________________________________________________________________________\n",
            "block_10_expand (Conv2D)        (None, 14, 14, 384)  24576       block_9_add[0][0]                \n",
            "__________________________________________________________________________________________________\n",
            "block_10_expand_BN (BatchNormal (None, 14, 14, 384)  1536        block_10_expand[0][0]            \n",
            "__________________________________________________________________________________________________\n",
            "block_10_expand_relu (ReLU)     (None, 14, 14, 384)  0           block_10_expand_BN[0][0]         \n",
            "__________________________________________________________________________________________________\n",
            "block_10_depthwise (DepthwiseCo (None, 14, 14, 384)  3456        block_10_expand_relu[0][0]       \n",
            "__________________________________________________________________________________________________\n",
            "block_10_depthwise_BN (BatchNor (None, 14, 14, 384)  1536        block_10_depthwise[0][0]         \n",
            "__________________________________________________________________________________________________\n",
            "block_10_depthwise_relu (ReLU)  (None, 14, 14, 384)  0           block_10_depthwise_BN[0][0]      \n",
            "__________________________________________________________________________________________________\n",
            "block_10_project (Conv2D)       (None, 14, 14, 96)   36864       block_10_depthwise_relu[0][0]    \n",
            "__________________________________________________________________________________________________\n",
            "block_10_project_BN (BatchNorma (None, 14, 14, 96)   384         block_10_project[0][0]           \n",
            "__________________________________________________________________________________________________\n",
            "block_11_expand (Conv2D)        (None, 14, 14, 576)  55296       block_10_project_BN[0][0]        \n",
            "__________________________________________________________________________________________________\n",
            "block_11_expand_BN (BatchNormal (None, 14, 14, 576)  2304        block_11_expand[0][0]            \n",
            "__________________________________________________________________________________________________\n",
            "block_11_expand_relu (ReLU)     (None, 14, 14, 576)  0           block_11_expand_BN[0][0]         \n",
            "__________________________________________________________________________________________________\n",
            "block_11_depthwise (DepthwiseCo (None, 14, 14, 576)  5184        block_11_expand_relu[0][0]       \n",
            "__________________________________________________________________________________________________\n",
            "block_11_depthwise_BN (BatchNor (None, 14, 14, 576)  2304        block_11_depthwise[0][0]         \n",
            "__________________________________________________________________________________________________\n",
            "block_11_depthwise_relu (ReLU)  (None, 14, 14, 576)  0           block_11_depthwise_BN[0][0]      \n",
            "__________________________________________________________________________________________________\n",
            "block_11_project (Conv2D)       (None, 14, 14, 96)   55296       block_11_depthwise_relu[0][0]    \n",
            "__________________________________________________________________________________________________\n",
            "block_11_project_BN (BatchNorma (None, 14, 14, 96)   384         block_11_project[0][0]           \n",
            "__________________________________________________________________________________________________\n",
            "block_11_add (Add)              (None, 14, 14, 96)   0           block_10_project_BN[0][0]        \n",
            "                                                                 block_11_project_BN[0][0]        \n",
            "__________________________________________________________________________________________________\n",
            "block_12_expand (Conv2D)        (None, 14, 14, 576)  55296       block_11_add[0][0]               \n",
            "__________________________________________________________________________________________________\n",
            "block_12_expand_BN (BatchNormal (None, 14, 14, 576)  2304        block_12_expand[0][0]            \n",
            "__________________________________________________________________________________________________\n",
            "block_12_expand_relu (ReLU)     (None, 14, 14, 576)  0           block_12_expand_BN[0][0]         \n",
            "__________________________________________________________________________________________________\n",
            "block_12_depthwise (DepthwiseCo (None, 14, 14, 576)  5184        block_12_expand_relu[0][0]       \n",
            "__________________________________________________________________________________________________\n",
            "block_12_depthwise_BN (BatchNor (None, 14, 14, 576)  2304        block_12_depthwise[0][0]         \n",
            "__________________________________________________________________________________________________\n",
            "block_12_depthwise_relu (ReLU)  (None, 14, 14, 576)  0           block_12_depthwise_BN[0][0]      \n",
            "__________________________________________________________________________________________________\n",
            "block_12_project (Conv2D)       (None, 14, 14, 96)   55296       block_12_depthwise_relu[0][0]    \n",
            "__________________________________________________________________________________________________\n",
            "block_12_project_BN (BatchNorma (None, 14, 14, 96)   384         block_12_project[0][0]           \n",
            "__________________________________________________________________________________________________\n",
            "block_12_add (Add)              (None, 14, 14, 96)   0           block_11_add[0][0]               \n",
            "                                                                 block_12_project_BN[0][0]        \n",
            "__________________________________________________________________________________________________\n",
            "block_13_expand (Conv2D)        (None, 14, 14, 576)  55296       block_12_add[0][0]               \n",
            "__________________________________________________________________________________________________\n",
            "block_13_expand_BN (BatchNormal (None, 14, 14, 576)  2304        block_13_expand[0][0]            \n",
            "__________________________________________________________________________________________________\n",
            "block_13_expand_relu (ReLU)     (None, 14, 14, 576)  0           block_13_expand_BN[0][0]         \n",
            "__________________________________________________________________________________________________\n",
            "block_13_depthwise (DepthwiseCo (None, 7, 7, 576)    5184        block_13_expand_relu[0][0]       \n",
            "__________________________________________________________________________________________________\n",
            "block_13_depthwise_BN (BatchNor (None, 7, 7, 576)    2304        block_13_depthwise[0][0]         \n",
            "__________________________________________________________________________________________________\n",
            "block_13_depthwise_relu (ReLU)  (None, 7, 7, 576)    0           block_13_depthwise_BN[0][0]      \n",
            "__________________________________________________________________________________________________\n",
            "block_13_project (Conv2D)       (None, 7, 7, 160)    92160       block_13_depthwise_relu[0][0]    \n",
            "__________________________________________________________________________________________________\n",
            "block_13_project_BN (BatchNorma (None, 7, 7, 160)    640         block_13_project[0][0]           \n",
            "__________________________________________________________________________________________________\n",
            "block_14_expand (Conv2D)        (None, 7, 7, 960)    153600      block_13_project_BN[0][0]        \n",
            "__________________________________________________________________________________________________\n",
            "block_14_expand_BN (BatchNormal (None, 7, 7, 960)    3840        block_14_expand[0][0]            \n",
            "__________________________________________________________________________________________________\n",
            "block_14_expand_relu (ReLU)     (None, 7, 7, 960)    0           block_14_expand_BN[0][0]         \n",
            "__________________________________________________________________________________________________\n",
            "block_14_depthwise (DepthwiseCo (None, 7, 7, 960)    8640        block_14_expand_relu[0][0]       \n",
            "__________________________________________________________________________________________________\n",
            "block_14_depthwise_BN (BatchNor (None, 7, 7, 960)    3840        block_14_depthwise[0][0]         \n",
            "__________________________________________________________________________________________________\n",
            "block_14_depthwise_relu (ReLU)  (None, 7, 7, 960)    0           block_14_depthwise_BN[0][0]      \n",
            "__________________________________________________________________________________________________\n",
            "block_14_project (Conv2D)       (None, 7, 7, 160)    153600      block_14_depthwise_relu[0][0]    \n",
            "__________________________________________________________________________________________________\n",
            "block_14_project_BN (BatchNorma (None, 7, 7, 160)    640         block_14_project[0][0]           \n",
            "__________________________________________________________________________________________________\n",
            "block_14_add (Add)              (None, 7, 7, 160)    0           block_13_project_BN[0][0]        \n",
            "                                                                 block_14_project_BN[0][0]        \n",
            "__________________________________________________________________________________________________\n",
            "block_15_expand (Conv2D)        (None, 7, 7, 960)    153600      block_14_add[0][0]               \n",
            "__________________________________________________________________________________________________\n",
            "block_15_expand_BN (BatchNormal (None, 7, 7, 960)    3840        block_15_expand[0][0]            \n",
            "__________________________________________________________________________________________________\n",
            "block_15_expand_relu (ReLU)     (None, 7, 7, 960)    0           block_15_expand_BN[0][0]         \n",
            "__________________________________________________________________________________________________\n",
            "block_15_depthwise (DepthwiseCo (None, 7, 7, 960)    8640        block_15_expand_relu[0][0]       \n",
            "__________________________________________________________________________________________________\n",
            "block_15_depthwise_BN (BatchNor (None, 7, 7, 960)    3840        block_15_depthwise[0][0]         \n",
            "__________________________________________________________________________________________________\n",
            "block_15_depthwise_relu (ReLU)  (None, 7, 7, 960)    0           block_15_depthwise_BN[0][0]      \n",
            "__________________________________________________________________________________________________\n",
            "block_15_project (Conv2D)       (None, 7, 7, 160)    153600      block_15_depthwise_relu[0][0]    \n",
            "__________________________________________________________________________________________________\n",
            "block_15_project_BN (BatchNorma (None, 7, 7, 160)    640         block_15_project[0][0]           \n",
            "__________________________________________________________________________________________________\n",
            "block_15_add (Add)              (None, 7, 7, 160)    0           block_14_add[0][0]               \n",
            "                                                                 block_15_project_BN[0][0]        \n",
            "__________________________________________________________________________________________________\n",
            "block_16_expand (Conv2D)        (None, 7, 7, 960)    153600      block_15_add[0][0]               \n",
            "__________________________________________________________________________________________________\n",
            "block_16_expand_BN (BatchNormal (None, 7, 7, 960)    3840        block_16_expand[0][0]            \n",
            "__________________________________________________________________________________________________\n",
            "block_16_expand_relu (ReLU)     (None, 7, 7, 960)    0           block_16_expand_BN[0][0]         \n",
            "__________________________________________________________________________________________________\n",
            "block_16_depthwise (DepthwiseCo (None, 7, 7, 960)    8640        block_16_expand_relu[0][0]       \n",
            "__________________________________________________________________________________________________\n",
            "block_16_depthwise_BN (BatchNor (None, 7, 7, 960)    3840        block_16_depthwise[0][0]         \n",
            "__________________________________________________________________________________________________\n",
            "block_16_depthwise_relu (ReLU)  (None, 7, 7, 960)    0           block_16_depthwise_BN[0][0]      \n",
            "__________________________________________________________________________________________________\n",
            "block_16_project (Conv2D)       (None, 7, 7, 320)    307200      block_16_depthwise_relu[0][0]    \n",
            "__________________________________________________________________________________________________\n",
            "block_16_project_BN (BatchNorma (None, 7, 7, 320)    1280        block_16_project[0][0]           \n",
            "__________________________________________________________________________________________________\n",
            "Conv_1 (Conv2D)                 (None, 7, 7, 1280)   409600      block_16_project_BN[0][0]        \n",
            "__________________________________________________________________________________________________\n",
            "Conv_1_bn (BatchNormalization)  (None, 7, 7, 1280)   5120        Conv_1[0][0]                     \n",
            "__________________________________________________________________________________________________\n",
            "out_relu (ReLU)                 (None, 7, 7, 1280)   0           Conv_1_bn[0][0]                  \n",
            "__________________________________________________________________________________________________\n",
            "global_average_pooling2d_2 (Glo (None, 1280)         0           out_relu[0][0]                   \n",
            "==================================================================================================\n",
            "Total params: 2,257,984\n",
            "Trainable params: 0\n",
            "Non-trainable params: 2,257,984\n",
            "__________________________________________________________________________________________________\n"
          ],
          "name": "stdout"
        }
      ]
    },
    {
      "metadata": {
        "id": "gC4P8mH280uw",
        "colab_type": "code",
        "colab": {
          "autoexec": {
            "startup": false,
            "wait_interval": 0
          }
        }
      },
      "cell_type": "code",
      "source": [
        "x = base_model.output\n",
        "\n",
        "predictions = []\n",
        "for i in range(9):\n",
        "    x0 = Dense(128, activation='relu')(x)\n",
        "    x0 = Dropout(0.5)(x0)\n",
        "    x0 = Dense(1, activation='sigmoid')(x0)\n",
        "    predictions.append(x0)\n",
        "model = Model(inputs=base_model.input, outputs=predictions)\n",
        "\n",
        "model.compile(optimizer='adam',\n",
        "              loss='binary_crossentropy',\n",
        "              metrics=['accuracy'])"
      ],
      "execution_count": 0,
      "outputs": []
    },
    {
      "metadata": {
        "id": "EMoWecP380u-",
        "colab_type": "code",
        "colab": {
          "autoexec": {
            "startup": false,
            "wait_interval": 0
          },
          "base_uri": "https://localhost:8080/",
          "height": 6495
        },
        "outputId": "53adeaca-f9a5-4ece-eed0-2c5aa98720fc",
        "executionInfo": {
          "status": "ok",
          "timestamp": 1532874753192,
          "user_tz": -180,
          "elapsed": 622,
          "user": {
            "displayName": "Max Minenko",
            "photoUrl": "https://lh3.googleusercontent.com/a/default-user=s128",
            "userId": "109736211463040468281"
          }
        }
      },
      "cell_type": "code",
      "source": [
        "model.summary()"
      ],
      "execution_count": 42,
      "outputs": [
        {
          "output_type": "stream",
          "text": [
            "__________________________________________________________________________________________________\n",
            "Layer (type)                    Output Shape         Param #     Connected to                     \n",
            "==================================================================================================\n",
            "input_2 (InputLayer)            (None, 224, 224, 3)  0                                            \n",
            "__________________________________________________________________________________________________\n",
            "Conv1 (Conv2D)                  (None, 112, 112, 32) 864         input_2[0][0]                    \n",
            "__________________________________________________________________________________________________\n",
            "bn_Conv1 (BatchNormalization)   (None, 112, 112, 32) 128         Conv1[0][0]                      \n",
            "__________________________________________________________________________________________________\n",
            "Conv1_relu (ReLU)               (None, 112, 112, 32) 0           bn_Conv1[0][0]                   \n",
            "__________________________________________________________________________________________________\n",
            "expanded_conv_depthwise (Depthw (None, 112, 112, 32) 288         Conv1_relu[0][0]                 \n",
            "__________________________________________________________________________________________________\n",
            "expanded_conv_depthwise_BN (Bat (None, 112, 112, 32) 128         expanded_conv_depthwise[0][0]    \n",
            "__________________________________________________________________________________________________\n",
            "expanded_conv_depthwise_relu (R (None, 112, 112, 32) 0           expanded_conv_depthwise_BN[0][0] \n",
            "__________________________________________________________________________________________________\n",
            "expanded_conv_project (Conv2D)  (None, 112, 112, 16) 512         expanded_conv_depthwise_relu[0][0\n",
            "__________________________________________________________________________________________________\n",
            "expanded_conv_project_BN (Batch (None, 112, 112, 16) 64          expanded_conv_project[0][0]      \n",
            "__________________________________________________________________________________________________\n",
            "block_1_expand (Conv2D)         (None, 112, 112, 96) 1536        expanded_conv_project_BN[0][0]   \n",
            "__________________________________________________________________________________________________\n",
            "block_1_expand_BN (BatchNormali (None, 112, 112, 96) 384         block_1_expand[0][0]             \n",
            "__________________________________________________________________________________________________\n",
            "block_1_expand_relu (ReLU)      (None, 112, 112, 96) 0           block_1_expand_BN[0][0]          \n",
            "__________________________________________________________________________________________________\n",
            "block_1_depthwise (DepthwiseCon (None, 56, 56, 96)   864         block_1_expand_relu[0][0]        \n",
            "__________________________________________________________________________________________________\n",
            "block_1_depthwise_BN (BatchNorm (None, 56, 56, 96)   384         block_1_depthwise[0][0]          \n",
            "__________________________________________________________________________________________________\n",
            "block_1_depthwise_relu (ReLU)   (None, 56, 56, 96)   0           block_1_depthwise_BN[0][0]       \n",
            "__________________________________________________________________________________________________\n",
            "block_1_project (Conv2D)        (None, 56, 56, 24)   2304        block_1_depthwise_relu[0][0]     \n",
            "__________________________________________________________________________________________________\n",
            "block_1_project_BN (BatchNormal (None, 56, 56, 24)   96          block_1_project[0][0]            \n",
            "__________________________________________________________________________________________________\n",
            "block_2_expand (Conv2D)         (None, 56, 56, 144)  3456        block_1_project_BN[0][0]         \n",
            "__________________________________________________________________________________________________\n",
            "block_2_expand_BN (BatchNormali (None, 56, 56, 144)  576         block_2_expand[0][0]             \n",
            "__________________________________________________________________________________________________\n",
            "block_2_expand_relu (ReLU)      (None, 56, 56, 144)  0           block_2_expand_BN[0][0]          \n",
            "__________________________________________________________________________________________________\n",
            "block_2_depthwise (DepthwiseCon (None, 56, 56, 144)  1296        block_2_expand_relu[0][0]        \n",
            "__________________________________________________________________________________________________\n",
            "block_2_depthwise_BN (BatchNorm (None, 56, 56, 144)  576         block_2_depthwise[0][0]          \n",
            "__________________________________________________________________________________________________\n",
            "block_2_depthwise_relu (ReLU)   (None, 56, 56, 144)  0           block_2_depthwise_BN[0][0]       \n",
            "__________________________________________________________________________________________________\n",
            "block_2_project (Conv2D)        (None, 56, 56, 24)   3456        block_2_depthwise_relu[0][0]     \n",
            "__________________________________________________________________________________________________\n",
            "block_2_project_BN (BatchNormal (None, 56, 56, 24)   96          block_2_project[0][0]            \n",
            "__________________________________________________________________________________________________\n",
            "block_2_add (Add)               (None, 56, 56, 24)   0           block_1_project_BN[0][0]         \n",
            "                                                                 block_2_project_BN[0][0]         \n",
            "__________________________________________________________________________________________________\n",
            "block_3_expand (Conv2D)         (None, 56, 56, 144)  3456        block_2_add[0][0]                \n",
            "__________________________________________________________________________________________________\n",
            "block_3_expand_BN (BatchNormali (None, 56, 56, 144)  576         block_3_expand[0][0]             \n",
            "__________________________________________________________________________________________________\n",
            "block_3_expand_relu (ReLU)      (None, 56, 56, 144)  0           block_3_expand_BN[0][0]          \n",
            "__________________________________________________________________________________________________\n",
            "block_3_depthwise (DepthwiseCon (None, 28, 28, 144)  1296        block_3_expand_relu[0][0]        \n",
            "__________________________________________________________________________________________________\n",
            "block_3_depthwise_BN (BatchNorm (None, 28, 28, 144)  576         block_3_depthwise[0][0]          \n",
            "__________________________________________________________________________________________________\n",
            "block_3_depthwise_relu (ReLU)   (None, 28, 28, 144)  0           block_3_depthwise_BN[0][0]       \n",
            "__________________________________________________________________________________________________\n",
            "block_3_project (Conv2D)        (None, 28, 28, 32)   4608        block_3_depthwise_relu[0][0]     \n",
            "__________________________________________________________________________________________________\n",
            "block_3_project_BN (BatchNormal (None, 28, 28, 32)   128         block_3_project[0][0]            \n",
            "__________________________________________________________________________________________________\n",
            "block_4_expand (Conv2D)         (None, 28, 28, 192)  6144        block_3_project_BN[0][0]         \n",
            "__________________________________________________________________________________________________\n",
            "block_4_expand_BN (BatchNormali (None, 28, 28, 192)  768         block_4_expand[0][0]             \n",
            "__________________________________________________________________________________________________\n",
            "block_4_expand_relu (ReLU)      (None, 28, 28, 192)  0           block_4_expand_BN[0][0]          \n",
            "__________________________________________________________________________________________________\n",
            "block_4_depthwise (DepthwiseCon (None, 28, 28, 192)  1728        block_4_expand_relu[0][0]        \n",
            "__________________________________________________________________________________________________\n",
            "block_4_depthwise_BN (BatchNorm (None, 28, 28, 192)  768         block_4_depthwise[0][0]          \n",
            "__________________________________________________________________________________________________\n",
            "block_4_depthwise_relu (ReLU)   (None, 28, 28, 192)  0           block_4_depthwise_BN[0][0]       \n",
            "__________________________________________________________________________________________________\n",
            "block_4_project (Conv2D)        (None, 28, 28, 32)   6144        block_4_depthwise_relu[0][0]     \n",
            "__________________________________________________________________________________________________\n",
            "block_4_project_BN (BatchNormal (None, 28, 28, 32)   128         block_4_project[0][0]            \n",
            "__________________________________________________________________________________________________\n",
            "block_4_add (Add)               (None, 28, 28, 32)   0           block_3_project_BN[0][0]         \n",
            "                                                                 block_4_project_BN[0][0]         \n",
            "__________________________________________________________________________________________________\n",
            "block_5_expand (Conv2D)         (None, 28, 28, 192)  6144        block_4_add[0][0]                \n",
            "__________________________________________________________________________________________________\n",
            "block_5_expand_BN (BatchNormali (None, 28, 28, 192)  768         block_5_expand[0][0]             \n",
            "__________________________________________________________________________________________________\n",
            "block_5_expand_relu (ReLU)      (None, 28, 28, 192)  0           block_5_expand_BN[0][0]          \n",
            "__________________________________________________________________________________________________\n",
            "block_5_depthwise (DepthwiseCon (None, 28, 28, 192)  1728        block_5_expand_relu[0][0]        \n",
            "__________________________________________________________________________________________________\n",
            "block_5_depthwise_BN (BatchNorm (None, 28, 28, 192)  768         block_5_depthwise[0][0]          \n",
            "__________________________________________________________________________________________________\n",
            "block_5_depthwise_relu (ReLU)   (None, 28, 28, 192)  0           block_5_depthwise_BN[0][0]       \n",
            "__________________________________________________________________________________________________\n",
            "block_5_project (Conv2D)        (None, 28, 28, 32)   6144        block_5_depthwise_relu[0][0]     \n",
            "__________________________________________________________________________________________________\n",
            "block_5_project_BN (BatchNormal (None, 28, 28, 32)   128         block_5_project[0][0]            \n",
            "__________________________________________________________________________________________________\n",
            "block_5_add (Add)               (None, 28, 28, 32)   0           block_4_add[0][0]                \n",
            "                                                                 block_5_project_BN[0][0]         \n",
            "__________________________________________________________________________________________________\n",
            "block_6_expand (Conv2D)         (None, 28, 28, 192)  6144        block_5_add[0][0]                \n",
            "__________________________________________________________________________________________________\n",
            "block_6_expand_BN (BatchNormali (None, 28, 28, 192)  768         block_6_expand[0][0]             \n",
            "__________________________________________________________________________________________________\n",
            "block_6_expand_relu (ReLU)      (None, 28, 28, 192)  0           block_6_expand_BN[0][0]          \n",
            "__________________________________________________________________________________________________\n",
            "block_6_depthwise (DepthwiseCon (None, 14, 14, 192)  1728        block_6_expand_relu[0][0]        \n",
            "__________________________________________________________________________________________________\n",
            "block_6_depthwise_BN (BatchNorm (None, 14, 14, 192)  768         block_6_depthwise[0][0]          \n",
            "__________________________________________________________________________________________________\n",
            "block_6_depthwise_relu (ReLU)   (None, 14, 14, 192)  0           block_6_depthwise_BN[0][0]       \n",
            "__________________________________________________________________________________________________\n",
            "block_6_project (Conv2D)        (None, 14, 14, 64)   12288       block_6_depthwise_relu[0][0]     \n",
            "__________________________________________________________________________________________________\n",
            "block_6_project_BN (BatchNormal (None, 14, 14, 64)   256         block_6_project[0][0]            \n",
            "__________________________________________________________________________________________________\n",
            "block_7_expand (Conv2D)         (None, 14, 14, 384)  24576       block_6_project_BN[0][0]         \n",
            "__________________________________________________________________________________________________\n",
            "block_7_expand_BN (BatchNormali (None, 14, 14, 384)  1536        block_7_expand[0][0]             \n",
            "__________________________________________________________________________________________________\n",
            "block_7_expand_relu (ReLU)      (None, 14, 14, 384)  0           block_7_expand_BN[0][0]          \n",
            "__________________________________________________________________________________________________\n",
            "block_7_depthwise (DepthwiseCon (None, 14, 14, 384)  3456        block_7_expand_relu[0][0]        \n",
            "__________________________________________________________________________________________________\n",
            "block_7_depthwise_BN (BatchNorm (None, 14, 14, 384)  1536        block_7_depthwise[0][0]          \n",
            "__________________________________________________________________________________________________\n",
            "block_7_depthwise_relu (ReLU)   (None, 14, 14, 384)  0           block_7_depthwise_BN[0][0]       \n",
            "__________________________________________________________________________________________________\n",
            "block_7_project (Conv2D)        (None, 14, 14, 64)   24576       block_7_depthwise_relu[0][0]     \n",
            "__________________________________________________________________________________________________\n",
            "block_7_project_BN (BatchNormal (None, 14, 14, 64)   256         block_7_project[0][0]            \n",
            "__________________________________________________________________________________________________\n",
            "block_7_add (Add)               (None, 14, 14, 64)   0           block_6_project_BN[0][0]         \n",
            "                                                                 block_7_project_BN[0][0]         \n",
            "__________________________________________________________________________________________________\n",
            "block_8_expand (Conv2D)         (None, 14, 14, 384)  24576       block_7_add[0][0]                \n",
            "__________________________________________________________________________________________________\n",
            "block_8_expand_BN (BatchNormali (None, 14, 14, 384)  1536        block_8_expand[0][0]             \n",
            "__________________________________________________________________________________________________\n",
            "block_8_expand_relu (ReLU)      (None, 14, 14, 384)  0           block_8_expand_BN[0][0]          \n",
            "__________________________________________________________________________________________________\n",
            "block_8_depthwise (DepthwiseCon (None, 14, 14, 384)  3456        block_8_expand_relu[0][0]        \n",
            "__________________________________________________________________________________________________\n",
            "block_8_depthwise_BN (BatchNorm (None, 14, 14, 384)  1536        block_8_depthwise[0][0]          \n",
            "__________________________________________________________________________________________________\n",
            "block_8_depthwise_relu (ReLU)   (None, 14, 14, 384)  0           block_8_depthwise_BN[0][0]       \n",
            "__________________________________________________________________________________________________\n",
            "block_8_project (Conv2D)        (None, 14, 14, 64)   24576       block_8_depthwise_relu[0][0]     \n",
            "__________________________________________________________________________________________________\n",
            "block_8_project_BN (BatchNormal (None, 14, 14, 64)   256         block_8_project[0][0]            \n",
            "__________________________________________________________________________________________________\n",
            "block_8_add (Add)               (None, 14, 14, 64)   0           block_7_add[0][0]                \n",
            "                                                                 block_8_project_BN[0][0]         \n",
            "__________________________________________________________________________________________________\n",
            "block_9_expand (Conv2D)         (None, 14, 14, 384)  24576       block_8_add[0][0]                \n",
            "__________________________________________________________________________________________________\n",
            "block_9_expand_BN (BatchNormali (None, 14, 14, 384)  1536        block_9_expand[0][0]             \n",
            "__________________________________________________________________________________________________\n",
            "block_9_expand_relu (ReLU)      (None, 14, 14, 384)  0           block_9_expand_BN[0][0]          \n",
            "__________________________________________________________________________________________________\n",
            "block_9_depthwise (DepthwiseCon (None, 14, 14, 384)  3456        block_9_expand_relu[0][0]        \n",
            "__________________________________________________________________________________________________\n",
            "block_9_depthwise_BN (BatchNorm (None, 14, 14, 384)  1536        block_9_depthwise[0][0]          \n",
            "__________________________________________________________________________________________________\n",
            "block_9_depthwise_relu (ReLU)   (None, 14, 14, 384)  0           block_9_depthwise_BN[0][0]       \n",
            "__________________________________________________________________________________________________\n",
            "block_9_project (Conv2D)        (None, 14, 14, 64)   24576       block_9_depthwise_relu[0][0]     \n",
            "__________________________________________________________________________________________________\n",
            "block_9_project_BN (BatchNormal (None, 14, 14, 64)   256         block_9_project[0][0]            \n",
            "__________________________________________________________________________________________________\n",
            "block_9_add (Add)               (None, 14, 14, 64)   0           block_8_add[0][0]                \n",
            "                                                                 block_9_project_BN[0][0]         \n",
            "__________________________________________________________________________________________________\n",
            "block_10_expand (Conv2D)        (None, 14, 14, 384)  24576       block_9_add[0][0]                \n",
            "__________________________________________________________________________________________________\n",
            "block_10_expand_BN (BatchNormal (None, 14, 14, 384)  1536        block_10_expand[0][0]            \n",
            "__________________________________________________________________________________________________\n",
            "block_10_expand_relu (ReLU)     (None, 14, 14, 384)  0           block_10_expand_BN[0][0]         \n",
            "__________________________________________________________________________________________________\n",
            "block_10_depthwise (DepthwiseCo (None, 14, 14, 384)  3456        block_10_expand_relu[0][0]       \n",
            "__________________________________________________________________________________________________\n",
            "block_10_depthwise_BN (BatchNor (None, 14, 14, 384)  1536        block_10_depthwise[0][0]         \n",
            "__________________________________________________________________________________________________\n",
            "block_10_depthwise_relu (ReLU)  (None, 14, 14, 384)  0           block_10_depthwise_BN[0][0]      \n",
            "__________________________________________________________________________________________________\n",
            "block_10_project (Conv2D)       (None, 14, 14, 96)   36864       block_10_depthwise_relu[0][0]    \n",
            "__________________________________________________________________________________________________\n",
            "block_10_project_BN (BatchNorma (None, 14, 14, 96)   384         block_10_project[0][0]           \n",
            "__________________________________________________________________________________________________\n",
            "block_11_expand (Conv2D)        (None, 14, 14, 576)  55296       block_10_project_BN[0][0]        \n",
            "__________________________________________________________________________________________________\n",
            "block_11_expand_BN (BatchNormal (None, 14, 14, 576)  2304        block_11_expand[0][0]            \n",
            "__________________________________________________________________________________________________\n",
            "block_11_expand_relu (ReLU)     (None, 14, 14, 576)  0           block_11_expand_BN[0][0]         \n",
            "__________________________________________________________________________________________________\n",
            "block_11_depthwise (DepthwiseCo (None, 14, 14, 576)  5184        block_11_expand_relu[0][0]       \n",
            "__________________________________________________________________________________________________\n",
            "block_11_depthwise_BN (BatchNor (None, 14, 14, 576)  2304        block_11_depthwise[0][0]         \n",
            "__________________________________________________________________________________________________\n",
            "block_11_depthwise_relu (ReLU)  (None, 14, 14, 576)  0           block_11_depthwise_BN[0][0]      \n",
            "__________________________________________________________________________________________________\n",
            "block_11_project (Conv2D)       (None, 14, 14, 96)   55296       block_11_depthwise_relu[0][0]    \n",
            "__________________________________________________________________________________________________\n",
            "block_11_project_BN (BatchNorma (None, 14, 14, 96)   384         block_11_project[0][0]           \n",
            "__________________________________________________________________________________________________\n",
            "block_11_add (Add)              (None, 14, 14, 96)   0           block_10_project_BN[0][0]        \n",
            "                                                                 block_11_project_BN[0][0]        \n",
            "__________________________________________________________________________________________________\n",
            "block_12_expand (Conv2D)        (None, 14, 14, 576)  55296       block_11_add[0][0]               \n",
            "__________________________________________________________________________________________________\n",
            "block_12_expand_BN (BatchNormal (None, 14, 14, 576)  2304        block_12_expand[0][0]            \n",
            "__________________________________________________________________________________________________\n",
            "block_12_expand_relu (ReLU)     (None, 14, 14, 576)  0           block_12_expand_BN[0][0]         \n",
            "__________________________________________________________________________________________________\n",
            "block_12_depthwise (DepthwiseCo (None, 14, 14, 576)  5184        block_12_expand_relu[0][0]       \n",
            "__________________________________________________________________________________________________\n",
            "block_12_depthwise_BN (BatchNor (None, 14, 14, 576)  2304        block_12_depthwise[0][0]         \n",
            "__________________________________________________________________________________________________\n",
            "block_12_depthwise_relu (ReLU)  (None, 14, 14, 576)  0           block_12_depthwise_BN[0][0]      \n",
            "__________________________________________________________________________________________________\n",
            "block_12_project (Conv2D)       (None, 14, 14, 96)   55296       block_12_depthwise_relu[0][0]    \n",
            "__________________________________________________________________________________________________\n",
            "block_12_project_BN (BatchNorma (None, 14, 14, 96)   384         block_12_project[0][0]           \n",
            "__________________________________________________________________________________________________\n",
            "block_12_add (Add)              (None, 14, 14, 96)   0           block_11_add[0][0]               \n",
            "                                                                 block_12_project_BN[0][0]        \n",
            "__________________________________________________________________________________________________\n",
            "block_13_expand (Conv2D)        (None, 14, 14, 576)  55296       block_12_add[0][0]               \n",
            "__________________________________________________________________________________________________\n",
            "block_13_expand_BN (BatchNormal (None, 14, 14, 576)  2304        block_13_expand[0][0]            \n",
            "__________________________________________________________________________________________________\n",
            "block_13_expand_relu (ReLU)     (None, 14, 14, 576)  0           block_13_expand_BN[0][0]         \n",
            "__________________________________________________________________________________________________\n",
            "block_13_depthwise (DepthwiseCo (None, 7, 7, 576)    5184        block_13_expand_relu[0][0]       \n",
            "__________________________________________________________________________________________________\n",
            "block_13_depthwise_BN (BatchNor (None, 7, 7, 576)    2304        block_13_depthwise[0][0]         \n",
            "__________________________________________________________________________________________________\n",
            "block_13_depthwise_relu (ReLU)  (None, 7, 7, 576)    0           block_13_depthwise_BN[0][0]      \n",
            "__________________________________________________________________________________________________\n",
            "block_13_project (Conv2D)       (None, 7, 7, 160)    92160       block_13_depthwise_relu[0][0]    \n",
            "__________________________________________________________________________________________________\n",
            "block_13_project_BN (BatchNorma (None, 7, 7, 160)    640         block_13_project[0][0]           \n",
            "__________________________________________________________________________________________________\n",
            "block_14_expand (Conv2D)        (None, 7, 7, 960)    153600      block_13_project_BN[0][0]        \n",
            "__________________________________________________________________________________________________\n",
            "block_14_expand_BN (BatchNormal (None, 7, 7, 960)    3840        block_14_expand[0][0]            \n",
            "__________________________________________________________________________________________________\n",
            "block_14_expand_relu (ReLU)     (None, 7, 7, 960)    0           block_14_expand_BN[0][0]         \n",
            "__________________________________________________________________________________________________\n",
            "block_14_depthwise (DepthwiseCo (None, 7, 7, 960)    8640        block_14_expand_relu[0][0]       \n",
            "__________________________________________________________________________________________________\n",
            "block_14_depthwise_BN (BatchNor (None, 7, 7, 960)    3840        block_14_depthwise[0][0]         \n",
            "__________________________________________________________________________________________________\n",
            "block_14_depthwise_relu (ReLU)  (None, 7, 7, 960)    0           block_14_depthwise_BN[0][0]      \n",
            "__________________________________________________________________________________________________\n",
            "block_14_project (Conv2D)       (None, 7, 7, 160)    153600      block_14_depthwise_relu[0][0]    \n",
            "__________________________________________________________________________________________________\n",
            "block_14_project_BN (BatchNorma (None, 7, 7, 160)    640         block_14_project[0][0]           \n",
            "__________________________________________________________________________________________________\n",
            "block_14_add (Add)              (None, 7, 7, 160)    0           block_13_project_BN[0][0]        \n",
            "                                                                 block_14_project_BN[0][0]        \n",
            "__________________________________________________________________________________________________\n",
            "block_15_expand (Conv2D)        (None, 7, 7, 960)    153600      block_14_add[0][0]               \n",
            "__________________________________________________________________________________________________\n",
            "block_15_expand_BN (BatchNormal (None, 7, 7, 960)    3840        block_15_expand[0][0]            \n",
            "__________________________________________________________________________________________________\n",
            "block_15_expand_relu (ReLU)     (None, 7, 7, 960)    0           block_15_expand_BN[0][0]         \n",
            "__________________________________________________________________________________________________\n",
            "block_15_depthwise (DepthwiseCo (None, 7, 7, 960)    8640        block_15_expand_relu[0][0]       \n",
            "__________________________________________________________________________________________________\n",
            "block_15_depthwise_BN (BatchNor (None, 7, 7, 960)    3840        block_15_depthwise[0][0]         \n",
            "__________________________________________________________________________________________________\n",
            "block_15_depthwise_relu (ReLU)  (None, 7, 7, 960)    0           block_15_depthwise_BN[0][0]      \n",
            "__________________________________________________________________________________________________\n",
            "block_15_project (Conv2D)       (None, 7, 7, 160)    153600      block_15_depthwise_relu[0][0]    \n",
            "__________________________________________________________________________________________________\n",
            "block_15_project_BN (BatchNorma (None, 7, 7, 160)    640         block_15_project[0][0]           \n",
            "__________________________________________________________________________________________________\n",
            "block_15_add (Add)              (None, 7, 7, 160)    0           block_14_add[0][0]               \n",
            "                                                                 block_15_project_BN[0][0]        \n",
            "__________________________________________________________________________________________________\n",
            "block_16_expand (Conv2D)        (None, 7, 7, 960)    153600      block_15_add[0][0]               \n",
            "__________________________________________________________________________________________________\n",
            "block_16_expand_BN (BatchNormal (None, 7, 7, 960)    3840        block_16_expand[0][0]            \n",
            "__________________________________________________________________________________________________\n",
            "block_16_expand_relu (ReLU)     (None, 7, 7, 960)    0           block_16_expand_BN[0][0]         \n",
            "__________________________________________________________________________________________________\n",
            "block_16_depthwise (DepthwiseCo (None, 7, 7, 960)    8640        block_16_expand_relu[0][0]       \n",
            "__________________________________________________________________________________________________\n",
            "block_16_depthwise_BN (BatchNor (None, 7, 7, 960)    3840        block_16_depthwise[0][0]         \n",
            "__________________________________________________________________________________________________\n",
            "block_16_depthwise_relu (ReLU)  (None, 7, 7, 960)    0           block_16_depthwise_BN[0][0]      \n",
            "__________________________________________________________________________________________________\n",
            "block_16_project (Conv2D)       (None, 7, 7, 320)    307200      block_16_depthwise_relu[0][0]    \n",
            "__________________________________________________________________________________________________\n",
            "block_16_project_BN (BatchNorma (None, 7, 7, 320)    1280        block_16_project[0][0]           \n",
            "__________________________________________________________________________________________________\n",
            "Conv_1 (Conv2D)                 (None, 7, 7, 1280)   409600      block_16_project_BN[0][0]        \n",
            "__________________________________________________________________________________________________\n",
            "Conv_1_bn (BatchNormalization)  (None, 7, 7, 1280)   5120        Conv_1[0][0]                     \n",
            "__________________________________________________________________________________________________\n",
            "out_relu (ReLU)                 (None, 7, 7, 1280)   0           Conv_1_bn[0][0]                  \n",
            "__________________________________________________________________________________________________\n",
            "global_average_pooling2d_2 (Glo (None, 1280)         0           out_relu[0][0]                   \n",
            "__________________________________________________________________________________________________\n",
            "dense_19 (Dense)                (None, 128)          163968      global_average_pooling2d_2[0][0] \n",
            "__________________________________________________________________________________________________\n",
            "dense_21 (Dense)                (None, 128)          163968      global_average_pooling2d_2[0][0] \n",
            "__________________________________________________________________________________________________\n",
            "dense_23 (Dense)                (None, 128)          163968      global_average_pooling2d_2[0][0] \n",
            "__________________________________________________________________________________________________\n",
            "dense_25 (Dense)                (None, 128)          163968      global_average_pooling2d_2[0][0] \n",
            "__________________________________________________________________________________________________\n",
            "dense_27 (Dense)                (None, 128)          163968      global_average_pooling2d_2[0][0] \n",
            "__________________________________________________________________________________________________\n",
            "dense_29 (Dense)                (None, 128)          163968      global_average_pooling2d_2[0][0] \n",
            "__________________________________________________________________________________________________\n",
            "dense_31 (Dense)                (None, 128)          163968      global_average_pooling2d_2[0][0] \n",
            "__________________________________________________________________________________________________\n",
            "dense_33 (Dense)                (None, 128)          163968      global_average_pooling2d_2[0][0] \n",
            "__________________________________________________________________________________________________\n",
            "dense_35 (Dense)                (None, 128)          163968      global_average_pooling2d_2[0][0] \n",
            "__________________________________________________________________________________________________\n",
            "dropout_10 (Dropout)            (None, 128)          0           dense_19[0][0]                   \n",
            "__________________________________________________________________________________________________\n",
            "dropout_11 (Dropout)            (None, 128)          0           dense_21[0][0]                   \n",
            "__________________________________________________________________________________________________\n",
            "dropout_12 (Dropout)            (None, 128)          0           dense_23[0][0]                   \n",
            "__________________________________________________________________________________________________\n",
            "dropout_13 (Dropout)            (None, 128)          0           dense_25[0][0]                   \n",
            "__________________________________________________________________________________________________\n",
            "dropout_14 (Dropout)            (None, 128)          0           dense_27[0][0]                   \n",
            "__________________________________________________________________________________________________\n",
            "dropout_15 (Dropout)            (None, 128)          0           dense_29[0][0]                   \n",
            "__________________________________________________________________________________________________\n",
            "dropout_16 (Dropout)            (None, 128)          0           dense_31[0][0]                   \n",
            "__________________________________________________________________________________________________\n",
            "dropout_17 (Dropout)            (None, 128)          0           dense_33[0][0]                   \n",
            "__________________________________________________________________________________________________\n",
            "dropout_18 (Dropout)            (None, 128)          0           dense_35[0][0]                   \n",
            "__________________________________________________________________________________________________\n",
            "dense_20 (Dense)                (None, 1)            129         dropout_10[0][0]                 \n",
            "__________________________________________________________________________________________________\n",
            "dense_22 (Dense)                (None, 1)            129         dropout_11[0][0]                 \n",
            "__________________________________________________________________________________________________\n",
            "dense_24 (Dense)                (None, 1)            129         dropout_12[0][0]                 \n",
            "__________________________________________________________________________________________________\n",
            "dense_26 (Dense)                (None, 1)            129         dropout_13[0][0]                 \n",
            "__________________________________________________________________________________________________\n",
            "dense_28 (Dense)                (None, 1)            129         dropout_14[0][0]                 \n",
            "__________________________________________________________________________________________________\n",
            "dense_30 (Dense)                (None, 1)            129         dropout_15[0][0]                 \n",
            "__________________________________________________________________________________________________\n",
            "dense_32 (Dense)                (None, 1)            129         dropout_16[0][0]                 \n",
            "__________________________________________________________________________________________________\n",
            "dense_34 (Dense)                (None, 1)            129         dropout_17[0][0]                 \n",
            "__________________________________________________________________________________________________\n",
            "dense_36 (Dense)                (None, 1)            129         dropout_18[0][0]                 \n",
            "==================================================================================================\n",
            "Total params: 3,734,857\n",
            "Trainable params: 1,476,873\n",
            "Non-trainable params: 2,257,984\n",
            "__________________________________________________________________________________________________\n"
          ],
          "name": "stdout"
        }
      ]
    },
    {
      "metadata": {
        "id": "0ovW5AcA80vJ",
        "colab_type": "code",
        "colab": {
          "autoexec": {
            "startup": false,
            "wait_interval": 0
          }
        }
      },
      "cell_type": "code",
      "source": [
        "checkpoint = ModelCheckpoint('yelp_weights2.h5', save_best_only=True, verbose=1)"
      ],
      "execution_count": 0,
      "outputs": []
    },
    {
      "metadata": {
        "id": "zhRk_w73CP08",
        "colab_type": "code",
        "colab": {
          "autoexec": {
            "startup": false,
            "wait_interval": 0
          }
        }
      },
      "cell_type": "code",
      "source": [
        "df.dropna(inplace=True)"
      ],
      "execution_count": 0,
      "outputs": []
    },
    {
      "metadata": {
        "id": "z1i4QyeTCtgb",
        "colab_type": "code",
        "colab": {
          "autoexec": {
            "startup": false,
            "wait_interval": 0
          },
          "base_uri": "https://localhost:8080/",
          "height": 156
        },
        "outputId": "d1cdb9ec-81b2-4a02-f2f0-e155a0c2b742",
        "executionInfo": {
          "status": "ok",
          "timestamp": 1532874771869,
          "user_tz": -180,
          "elapsed": 583,
          "user": {
            "displayName": "Max Minenko",
            "photoUrl": "https://lh3.googleusercontent.com/a/default-user=s128",
            "userId": "109736211463040468281"
          }
        }
      },
      "cell_type": "code",
      "source": [
        "df.info()"
      ],
      "execution_count": 45,
      "outputs": [
        {
          "output_type": "stream",
          "text": [
            "<class 'pandas.core.frame.DataFrame'>\n",
            "Int64Index: 234545 entries, 0 to 234841\n",
            "Data columns (total 3 columns):\n",
            "photo_id       234545 non-null int64\n",
            "business_id    234545 non-null int64\n",
            "labels         234545 non-null object\n",
            "dtypes: int64(2), object(1)\n",
            "memory usage: 7.2+ MB\n"
          ],
          "name": "stdout"
        }
      ]
    },
    {
      "metadata": {
        "id": "BgLTvs2C80vU",
        "colab_type": "code",
        "colab": {
          "autoexec": {
            "startup": false,
            "wait_interval": 0
          }
        }
      },
      "cell_type": "code",
      "source": [
        "train_df, test_df = train_test_split(df,\n",
        "                                     test_size=0.01,\n",
        "                                     random_state=123,\n",
        "#                                     stratify=df['business_id']\n",
        "                                    )\n",
        "test_gen = train_generator(test_df, batch_size = len(test_df))\n",
        "test_X, test_y = next(test_gen)\n",
        "\n",
        "train_gen = train_generator(train_df)\n",
        "\n",
        "\n",
        "batch_size = 100\n",
        "train_gen = train_generator(train_df, batch_size = batch_size)\n",
        "#steps_per_epoch = len(train_df) / batch_size"
      ],
      "execution_count": 0,
      "outputs": []
    },
    {
      "metadata": {
        "id": "nwqK0FUPfGq3",
        "colab_type": "code",
        "colab": {
          "autoexec": {
            "startup": false,
            "wait_interval": 0
          }
        }
      },
      "cell_type": "code",
      "source": [
        "epochs=10\n",
        "steps_per_epoch=100"
      ],
      "execution_count": 0,
      "outputs": []
    },
    {
      "metadata": {
        "id": "dAL7Ggax80va",
        "colab_type": "code",
        "colab": {
          "autoexec": {
            "startup": false,
            "wait_interval": 0
          },
          "base_uri": "https://localhost:8080/",
          "height": 749
        },
        "outputId": "6bbfb2fe-610b-462b-e7c7-26312cf45458",
        "executionInfo": {
          "status": "ok",
          "timestamp": 1532876148386,
          "user_tz": -180,
          "elapsed": 824903,
          "user": {
            "displayName": "Max Minenko",
            "photoUrl": "https://lh3.googleusercontent.com/a/default-user=s128",
            "userId": "109736211463040468281"
          }
        }
      },
      "cell_type": "code",
      "source": [
        "model.fit_generator(\n",
        "        train_gen,\n",
        "        steps_per_epoch=steps_per_epoch,\n",
        "        epochs=epochs,\n",
        "        validation_data=(test_X, test_y),\n",
        "        callbacks=[checkpoint])"
      ],
      "execution_count": 51,
      "outputs": [
        {
          "output_type": "stream",
          "text": [
            "Epoch 1/10\n",
            "100/100 [==============================] - 87s 867ms/step - loss: 4.8193 - dense_20_loss: 0.4779 - dense_22_loss: 0.5548 - dense_24_loss: 0.5230 - dense_26_loss: 0.6828 - dense_28_loss: 0.5548 - dense_30_loss: 0.4762 - dense_32_loss: 0.4226 - dense_34_loss: 0.5566 - dense_36_loss: 0.5707 - dense_20_acc: 0.7780 - dense_22_acc: 0.7108 - dense_24_acc: 0.7369 - dense_26_acc: 0.5584 - dense_28_acc: 0.7097 - dense_30_acc: 0.7657 - dense_32_acc: 0.8053 - dense_34_acc: 0.7072 - dense_36_acc: 0.7003 - val_loss: 4.9171 - val_dense_20_loss: 0.4749 - val_dense_22_loss: 0.5690 - val_dense_24_loss: 0.5272 - val_dense_26_loss: 0.6743 - val_dense_28_loss: 0.5493 - val_dense_30_loss: 0.5235 - val_dense_32_loss: 0.4816 - val_dense_34_loss: 0.5593 - val_dense_36_loss: 0.5579 - val_dense_20_acc: 0.7890 - val_dense_22_acc: 0.7063 - val_dense_24_acc: 0.7315 - val_dense_26_acc: 0.5652 - val_dense_28_acc: 0.7144 - val_dense_30_acc: 0.7634 - val_dense_32_acc: 0.7975 - val_dense_34_acc: 0.7106 - val_dense_36_acc: 0.7118\n",
            "\n",
            "Epoch 00001: val_loss did not improve from 4.75900\n",
            "Epoch 2/10\n",
            " 30/100 [========>.....................] - ETA: 43s - loss: 4.7991 - dense_20_loss: 0.4715 - dense_22_loss: 0.5439 - dense_24_loss: 0.5176 - dense_26_loss: 0.6812 - dense_28_loss: 0.5557 - dense_30_loss: 0.4619 - dense_32_loss: 0.4264 - dense_34_loss: 0.5659 - dense_36_loss: 0.5749 - dense_20_acc: 0.7773 - dense_22_acc: 0.7227 - dense_24_acc: 0.7430 - dense_26_acc: 0.5533 - dense_28_acc: 0.7140 - dense_30_acc: 0.7843 - dense_32_acc: 0.8063 - dense_34_acc: 0.7007 - dense_36_acc: 0.7030"
          ],
          "name": "stdout"
        },
        {
          "output_type": "stream",
          "text": [
            "100/100 [==============================] - 81s 809ms/step - loss: 4.8080 - dense_20_loss: 0.4689 - dense_22_loss: 0.5487 - dense_24_loss: 0.5244 - dense_26_loss: 0.6831 - dense_28_loss: 0.5564 - dense_30_loss: 0.4671 - dense_32_loss: 0.4313 - dense_34_loss: 0.5560 - dense_36_loss: 0.5721 - dense_20_acc: 0.7802 - dense_22_acc: 0.7210 - dense_24_acc: 0.7409 - dense_26_acc: 0.5552 - dense_28_acc: 0.7154 - dense_30_acc: 0.7733 - dense_32_acc: 0.8014 - dense_34_acc: 0.7093 - dense_36_acc: 0.7041 - val_loss: 4.8002 - val_dense_20_loss: 0.4675 - val_dense_22_loss: 0.5585 - val_dense_24_loss: 0.5305 - val_dense_26_loss: 0.6759 - val_dense_28_loss: 0.5423 - val_dense_30_loss: 0.4725 - val_dense_32_loss: 0.4360 - val_dense_34_loss: 0.5496 - val_dense_36_loss: 0.5674 - val_dense_20_acc: 0.7886 - val_dense_22_acc: 0.7204 - val_dense_24_acc: 0.7494 - val_dense_26_acc: 0.5691 - val_dense_28_acc: 0.7204 - val_dense_30_acc: 0.7783 - val_dense_32_acc: 0.8154 - val_dense_34_acc: 0.7212 - val_dense_36_acc: 0.7059\n",
            "\n",
            "Epoch 00002: val_loss did not improve from 4.75900\n",
            "Epoch 3/10\n",
            " 40/100 [===========>..................] - ETA: 39s - loss: 4.7597 - dense_20_loss: 0.4514 - dense_22_loss: 0.5442 - dense_24_loss: 0.5169 - dense_26_loss: 0.6806 - dense_28_loss: 0.5552 - dense_30_loss: 0.4699 - dense_32_loss: 0.4227 - dense_34_loss: 0.5515 - dense_36_loss: 0.5673 - dense_20_acc: 0.7892 - dense_22_acc: 0.7157 - dense_24_acc: 0.7440 - dense_26_acc: 0.5517 - dense_28_acc: 0.7120 - dense_30_acc: 0.7700 - dense_32_acc: 0.8153 - dense_34_acc: 0.7145 - dense_36_acc: 0.7093"
          ],
          "name": "stdout"
        },
        {
          "output_type": "stream",
          "text": [
            "100/100 [==============================] - 81s 813ms/step - loss: 4.7631 - dense_20_loss: 0.4665 - dense_22_loss: 0.5463 - dense_24_loss: 0.5174 - dense_26_loss: 0.6791 - dense_28_loss: 0.5513 - dense_30_loss: 0.4710 - dense_32_loss: 0.4117 - dense_34_loss: 0.5543 - dense_36_loss: 0.5656 - dense_20_acc: 0.7846 - dense_22_acc: 0.7179 - dense_24_acc: 0.7445 - dense_26_acc: 0.5567 - dense_28_acc: 0.7163 - dense_30_acc: 0.7672 - dense_32_acc: 0.8152 - dense_34_acc: 0.7138 - dense_36_acc: 0.7151 - val_loss: 4.7995 - val_dense_20_loss: 0.4666 - val_dense_22_loss: 0.5629 - val_dense_24_loss: 0.5138 - val_dense_26_loss: 0.6754 - val_dense_28_loss: 0.5400 - val_dense_30_loss: 0.4583 - val_dense_32_loss: 0.4762 - val_dense_34_loss: 0.5453 - val_dense_36_loss: 0.5610 - val_dense_20_acc: 0.7873 - val_dense_22_acc: 0.7161 - val_dense_24_acc: 0.7540 - val_dense_26_acc: 0.5678 - val_dense_28_acc: 0.7238 - val_dense_30_acc: 0.7766 - val_dense_32_acc: 0.8107 - val_dense_34_acc: 0.7268 - val_dense_36_acc: 0.7182\n",
            "\n",
            "Epoch 00003: val_loss did not improve from 4.75900\n",
            "Epoch 4/10\n",
            " 43/100 [===========>..................] - ETA: 37s - loss: 4.7395 - dense_20_loss: 0.4671 - dense_22_loss: 0.5445 - dense_24_loss: 0.5020 - dense_26_loss: 0.6788 - dense_28_loss: 0.5530 - dense_30_loss: 0.4611 - dense_32_loss: 0.4111 - dense_34_loss: 0.5599 - dense_36_loss: 0.5620 - dense_20_acc: 0.7802 - dense_22_acc: 0.7216 - dense_24_acc: 0.7544 - dense_26_acc: 0.5607 - dense_28_acc: 0.7181 - dense_30_acc: 0.7833 - dense_32_acc: 0.8149 - dense_34_acc: 0.7123 - dense_36_acc: 0.7147"
          ],
          "name": "stdout"
        },
        {
          "output_type": "stream",
          "text": [
            "100/100 [==============================] - 82s 816ms/step - loss: 4.7653 - dense_20_loss: 0.4682 - dense_22_loss: 0.5527 - dense_24_loss: 0.5111 - dense_26_loss: 0.6825 - dense_28_loss: 0.5484 - dense_30_loss: 0.4632 - dense_32_loss: 0.4138 - dense_34_loss: 0.5558 - dense_36_loss: 0.5696 - dense_20_acc: 0.7829 - dense_22_acc: 0.7138 - dense_24_acc: 0.7463 - dense_26_acc: 0.5568 - dense_28_acc: 0.7220 - dense_30_acc: 0.7791 - dense_32_acc: 0.8123 - dense_34_acc: 0.7128 - dense_36_acc: 0.7072 - val_loss: 4.7315 - val_dense_20_loss: 0.4586 - val_dense_22_loss: 0.5522 - val_dense_24_loss: 0.5242 - val_dense_26_loss: 0.6764 - val_dense_28_loss: 0.5349 - val_dense_30_loss: 0.4588 - val_dense_32_loss: 0.4287 - val_dense_34_loss: 0.5406 - val_dense_36_loss: 0.5571 - val_dense_20_acc: 0.7924 - val_dense_22_acc: 0.7170 - val_dense_24_acc: 0.7481 - val_dense_26_acc: 0.5708 - val_dense_28_acc: 0.7353 - val_dense_30_acc: 0.7847 - val_dense_32_acc: 0.8180 - val_dense_34_acc: 0.7310 - val_dense_36_acc: 0.7118\n",
            "\n",
            "Epoch 00004: val_loss improved from 4.75900 to 4.73150, saving model to yelp_weights2.h5\n",
            "Epoch 5/10\n",
            " 43/100 [===========>..................] - ETA: 37s - loss: 4.7518 - dense_20_loss: 0.4729 - dense_22_loss: 0.5446 - dense_24_loss: 0.5158 - dense_26_loss: 0.6850 - dense_28_loss: 0.5505 - dense_30_loss: 0.4678 - dense_32_loss: 0.4084 - dense_34_loss: 0.5481 - dense_36_loss: 0.5586 - dense_20_acc: 0.7721 - dense_22_acc: 0.7223 - dense_24_acc: 0.7377 - dense_26_acc: 0.5502 - dense_28_acc: 0.7140 - dense_30_acc: 0.7642 - dense_32_acc: 0.8063 - dense_34_acc: 0.7235 - dense_36_acc: 0.7174"
          ],
          "name": "stdout"
        },
        {
          "output_type": "stream",
          "text": [
            "100/100 [==============================] - 81s 813ms/step - loss: 4.7367 - dense_20_loss: 0.4698 - dense_22_loss: 0.5457 - dense_24_loss: 0.5128 - dense_26_loss: 0.6815 - dense_28_loss: 0.5426 - dense_30_loss: 0.4651 - dense_32_loss: 0.4077 - dense_34_loss: 0.5496 - dense_36_loss: 0.5619 - dense_20_acc: 0.7798 - dense_22_acc: 0.7207 - dense_24_acc: 0.7424 - dense_26_acc: 0.5585 - dense_28_acc: 0.7210 - dense_30_acc: 0.7720 - dense_32_acc: 0.8117 - dense_34_acc: 0.7194 - dense_36_acc: 0.7150 - val_loss: 4.8566 - val_dense_20_loss: 0.4810 - val_dense_22_loss: 0.5551 - val_dense_24_loss: 0.5287 - val_dense_26_loss: 0.6721 - val_dense_28_loss: 0.5405 - val_dense_30_loss: 0.4745 - val_dense_32_loss: 0.4834 - val_dense_34_loss: 0.5543 - val_dense_36_loss: 0.5671 - val_dense_20_acc: 0.7941 - val_dense_22_acc: 0.7208 - val_dense_24_acc: 0.7498 - val_dense_26_acc: 0.5648 - val_dense_28_acc: 0.7246 - val_dense_30_acc: 0.7754 - val_dense_32_acc: 0.8061 - val_dense_34_acc: 0.7178 - val_dense_36_acc: 0.7101\n",
            "\n",
            "Epoch 00005: val_loss did not improve from 4.73150\n",
            "Epoch 6/10\n",
            " 44/100 [============>.................] - ETA: 37s - loss: 4.6869 - dense_20_loss: 0.4597 - dense_22_loss: 0.5478 - dense_24_loss: 0.5153 - dense_26_loss: 0.6793 - dense_28_loss: 0.5428 - dense_30_loss: 0.4507 - dense_32_loss: 0.3925 - dense_34_loss: 0.5479 - dense_36_loss: 0.5509 - dense_20_acc: 0.7886 - dense_22_acc: 0.7302 - dense_24_acc: 0.7464 - dense_26_acc: 0.5609 - dense_28_acc: 0.7300 - dense_30_acc: 0.7845 - dense_32_acc: 0.8230 - dense_34_acc: 0.7152 - dense_36_acc: 0.7257"
          ],
          "name": "stdout"
        },
        {
          "output_type": "stream",
          "text": [
            "100/100 [==============================] - 82s 822ms/step - loss: 4.7085 - dense_20_loss: 0.4626 - dense_22_loss: 0.5487 - dense_24_loss: 0.5093 - dense_26_loss: 0.6791 - dense_28_loss: 0.5445 - dense_30_loss: 0.4558 - dense_32_loss: 0.4000 - dense_34_loss: 0.5493 - dense_36_loss: 0.5593 - dense_20_acc: 0.7877 - dense_22_acc: 0.7264 - dense_24_acc: 0.7511 - dense_26_acc: 0.5638 - dense_28_acc: 0.7274 - dense_30_acc: 0.7788 - dense_32_acc: 0.8189 - dense_34_acc: 0.7155 - dense_36_acc: 0.7181 - val_loss: 4.7197 - val_dense_20_loss: 0.4630 - val_dense_22_loss: 0.5491 - val_dense_24_loss: 0.5035 - val_dense_26_loss: 0.6718 - val_dense_28_loss: 0.5387 - val_dense_30_loss: 0.4516 - val_dense_32_loss: 0.4370 - val_dense_34_loss: 0.5470 - val_dense_36_loss: 0.5580 - val_dense_20_acc: 0.7903 - val_dense_22_acc: 0.7272 - val_dense_24_acc: 0.7600 - val_dense_26_acc: 0.5767 - val_dense_28_acc: 0.7298 - val_dense_30_acc: 0.7890 - val_dense_32_acc: 0.8142 - val_dense_34_acc: 0.7242 - val_dense_36_acc: 0.7106\n",
            "\n",
            "Epoch 00006: val_loss improved from 4.73150 to 4.71967, saving model to yelp_weights2.h5\n",
            "Epoch 7/10\n",
            " 43/100 [===========>..................] - ETA: 37s - loss: 4.6920 - dense_20_loss: 0.4582 - dense_22_loss: 0.5388 - dense_24_loss: 0.4942 - dense_26_loss: 0.6766 - dense_28_loss: 0.5456 - dense_30_loss: 0.4536 - dense_32_loss: 0.4077 - dense_34_loss: 0.5565 - dense_36_loss: 0.5609 - dense_20_acc: 0.7884 - dense_22_acc: 0.7316 - dense_24_acc: 0.7574 - dense_26_acc: 0.5684 - dense_28_acc: 0.7207 - dense_30_acc: 0.7784 - dense_32_acc: 0.8123 - dense_34_acc: 0.7102 - dense_36_acc: 0.7114"
          ],
          "name": "stdout"
        },
        {
          "output_type": "stream",
          "text": [
            "100/100 [==============================] - 82s 817ms/step - loss: 4.6933 - dense_20_loss: 0.4603 - dense_22_loss: 0.5460 - dense_24_loss: 0.5015 - dense_26_loss: 0.6763 - dense_28_loss: 0.5429 - dense_30_loss: 0.4527 - dense_32_loss: 0.4024 - dense_34_loss: 0.5511 - dense_36_loss: 0.5601 - dense_20_acc: 0.7878 - dense_22_acc: 0.7212 - dense_24_acc: 0.7513 - dense_26_acc: 0.5693 - dense_28_acc: 0.7225 - dense_30_acc: 0.7805 - dense_32_acc: 0.8154 - dense_34_acc: 0.7190 - dense_36_acc: 0.7116 - val_loss: 4.7582 - val_dense_20_loss: 0.4564 - val_dense_22_loss: 0.5515 - val_dense_24_loss: 0.5082 - val_dense_26_loss: 0.6710 - val_dense_28_loss: 0.5374 - val_dense_30_loss: 0.4621 - val_dense_32_loss: 0.4646 - val_dense_34_loss: 0.5509 - val_dense_36_loss: 0.5562 - val_dense_20_acc: 0.7945 - val_dense_22_acc: 0.7221 - val_dense_24_acc: 0.7609 - val_dense_26_acc: 0.5797 - val_dense_28_acc: 0.7272 - val_dense_30_acc: 0.7826 - val_dense_32_acc: 0.8095 - val_dense_34_acc: 0.7242 - val_dense_36_acc: 0.7242\n",
            "\n",
            "Epoch 00007: val_loss did not improve from 4.71967\n",
            "Epoch 8/10\n",
            " 44/100 [============>.................] - ETA: 37s - loss: 4.7123 - dense_20_loss: 0.4671 - dense_22_loss: 0.5415 - dense_24_loss: 0.4966 - dense_26_loss: 0.6799 - dense_28_loss: 0.5463 - dense_30_loss: 0.4658 - dense_32_loss: 0.4030 - dense_34_loss: 0.5450 - dense_36_loss: 0.5671 - dense_20_acc: 0.7855 - dense_22_acc: 0.7186 - dense_24_acc: 0.7541 - dense_26_acc: 0.5686 - dense_28_acc: 0.7295 - dense_30_acc: 0.7795 - dense_32_acc: 0.8195 - dense_34_acc: 0.7257 - dense_36_acc: 0.7057"
          ],
          "name": "stdout"
        },
        {
          "output_type": "stream",
          "text": [
            "100/100 [==============================] - 82s 823ms/step - loss: 4.6984 - dense_20_loss: 0.4590 - dense_22_loss: 0.5409 - dense_24_loss: 0.5016 - dense_26_loss: 0.6799 - dense_28_loss: 0.5469 - dense_30_loss: 0.4567 - dense_32_loss: 0.4000 - dense_34_loss: 0.5495 - dense_36_loss: 0.5640 - dense_20_acc: 0.7873 - dense_22_acc: 0.7190 - dense_24_acc: 0.7549 - dense_26_acc: 0.5691 - dense_28_acc: 0.7214 - dense_30_acc: 0.7840 - dense_32_acc: 0.8210 - dense_34_acc: 0.7142 - dense_36_acc: 0.7111 - val_loss: 4.7873 - val_dense_20_loss: 0.4831 - val_dense_22_loss: 0.5558 - val_dense_24_loss: 0.5144 - val_dense_26_loss: 0.6718 - val_dense_28_loss: 0.5391 - val_dense_30_loss: 0.4456 - val_dense_32_loss: 0.4641 - val_dense_34_loss: 0.5451 - val_dense_36_loss: 0.5682 - val_dense_20_acc: 0.7950 - val_dense_22_acc: 0.7161 - val_dense_24_acc: 0.7494 - val_dense_26_acc: 0.5776 - val_dense_28_acc: 0.7285 - val_dense_30_acc: 0.7869 - val_dense_32_acc: 0.8137 - val_dense_34_acc: 0.7234 - val_dense_36_acc: 0.7089\n",
            "\n",
            "Epoch 00008: val_loss did not improve from 4.71967\n",
            "Epoch 9/10\n",
            " 45/100 [============>.................] - ETA: 38s - loss: 4.7209 - dense_20_loss: 0.4655 - dense_22_loss: 0.5466 - dense_24_loss: 0.5101 - dense_26_loss: 0.6748 - dense_28_loss: 0.5390 - dense_30_loss: 0.4651 - dense_32_loss: 0.4119 - dense_34_loss: 0.5478 - dense_36_loss: 0.5602 - dense_20_acc: 0.7902 - dense_22_acc: 0.7267 - dense_24_acc: 0.7564 - dense_26_acc: 0.5616 - dense_28_acc: 0.7224 - dense_30_acc: 0.7747 - dense_32_acc: 0.8180 - dense_34_acc: 0.7182 - dense_36_acc: 0.7131"
          ],
          "name": "stdout"
        },
        {
          "output_type": "stream",
          "text": [
            "100/100 [==============================] - 83s 828ms/step - loss: 4.7132 - dense_20_loss: 0.4607 - dense_22_loss: 0.5453 - dense_24_loss: 0.5062 - dense_26_loss: 0.6798 - dense_28_loss: 0.5414 - dense_30_loss: 0.4678 - dense_32_loss: 0.4050 - dense_34_loss: 0.5457 - dense_36_loss: 0.5612 - dense_20_acc: 0.7920 - dense_22_acc: 0.7271 - dense_24_acc: 0.7561 - dense_26_acc: 0.5524 - dense_28_acc: 0.7222 - dense_30_acc: 0.7768 - dense_32_acc: 0.8194 - dense_34_acc: 0.7158 - dense_36_acc: 0.7114 - val_loss: 4.7380 - val_dense_20_loss: 0.4631 - val_dense_22_loss: 0.5463 - val_dense_24_loss: 0.5031 - val_dense_26_loss: 0.6731 - val_dense_28_loss: 0.5341 - val_dense_30_loss: 0.4533 - val_dense_32_loss: 0.4634 - val_dense_34_loss: 0.5394 - val_dense_36_loss: 0.5622 - val_dense_20_acc: 0.7950 - val_dense_22_acc: 0.7238 - val_dense_24_acc: 0.7549 - val_dense_26_acc: 0.5708 - val_dense_28_acc: 0.7225 - val_dense_30_acc: 0.7822 - val_dense_32_acc: 0.8133 - val_dense_34_acc: 0.7319 - val_dense_36_acc: 0.7131\n",
            "\n",
            "Epoch 00009: val_loss did not improve from 4.71967\n",
            "Epoch 10/10\n",
            " 45/100 [============>.................] - ETA: 37s - loss: 4.6599 - dense_20_loss: 0.4524 - dense_22_loss: 0.5403 - dense_24_loss: 0.5021 - dense_26_loss: 0.6820 - dense_28_loss: 0.5363 - dense_30_loss: 0.4609 - dense_32_loss: 0.4016 - dense_34_loss: 0.5411 - dense_36_loss: 0.5432 - dense_20_acc: 0.7913 - dense_22_acc: 0.7242 - dense_24_acc: 0.7502 - dense_26_acc: 0.5591 - dense_28_acc: 0.7271 - dense_30_acc: 0.7782 - dense_32_acc: 0.8222 - dense_34_acc: 0.7262 - dense_36_acc: 0.7320"
          ],
          "name": "stdout"
        },
        {
          "output_type": "stream",
          "text": [
            "100/100 [==============================] - 82s 820ms/step - loss: 4.6880 - dense_20_loss: 0.4570 - dense_22_loss: 0.5460 - dense_24_loss: 0.5025 - dense_26_loss: 0.6809 - dense_28_loss: 0.5383 - dense_30_loss: 0.4613 - dense_32_loss: 0.4056 - dense_34_loss: 0.5452 - dense_36_loss: 0.5512 - dense_20_acc: 0.7868 - dense_22_acc: 0.7232 - dense_24_acc: 0.7512 - dense_26_acc: 0.5657 - dense_28_acc: 0.7248 - dense_30_acc: 0.7795 - dense_32_acc: 0.8178 - dense_34_acc: 0.7219 - dense_36_acc: 0.7232 - val_loss: 4.7813 - val_dense_20_loss: 0.4677 - val_dense_22_loss: 0.5488 - val_dense_24_loss: 0.5158 - val_dense_26_loss: 0.6708 - val_dense_28_loss: 0.5417 - val_dense_30_loss: 0.4547 - val_dense_32_loss: 0.4663 - val_dense_34_loss: 0.5535 - val_dense_36_loss: 0.5619 - val_dense_20_acc: 0.7954 - val_dense_22_acc: 0.7259 - val_dense_24_acc: 0.7472 - val_dense_26_acc: 0.5767 - val_dense_28_acc: 0.7268 - val_dense_30_acc: 0.7873 - val_dense_32_acc: 0.8090 - val_dense_34_acc: 0.7157 - val_dense_36_acc: 0.7084\n",
            "\n",
            "Epoch 00010: val_loss did not improve from 4.71967\n"
          ],
          "name": "stdout"
        },
        {
          "output_type": "execute_result",
          "data": {
            "text/plain": [
              "<keras.callbacks.History at 0x7f912acdb940>"
            ]
          },
          "metadata": {
            "tags": []
          },
          "execution_count": 51
        }
      ]
    },
    {
      "metadata": {
        "id": "fivDJS3g80vu",
        "colab_type": "code",
        "colab": {
          "autoexec": {
            "startup": false,
            "wait_interval": 0
          }
        }
      },
      "cell_type": "code",
      "source": [
        "from google.colab import auth\n",
        "auth.authenticate_user()\n",
        "from googleapiclient.discovery import build\n",
        "drive_service = build('drive', 'v3')\n",
        "\n",
        "def file_to_disk(file_name):\n",
        "  from googleapiclient.http import MediaFileUpload\n",
        "\n",
        "  file_metadata = {\n",
        "   'name': file_name,\n",
        "  #  'mimeType': 'text/plain'\n",
        "  }\n",
        "  media = MediaFileUpload(file_name, \n",
        "  #                        mimetype='text/plain',\n",
        "                          resumable=True)\n",
        "  created = drive_service.files().create(body=file_metadata,\n",
        "                                         media_body=media,\n",
        "                                        fields='id').execute()\n",
        "  print('File ID: {}'.format(created.get('id')))"
      ],
      "execution_count": 0,
      "outputs": []
    },
    {
      "metadata": {
        "id": "I7TKhj6UMwJs",
        "colab_type": "code",
        "colab": {
          "autoexec": {
            "startup": false,
            "wait_interval": 0
          },
          "base_uri": "https://localhost:8080/",
          "height": 34
        },
        "outputId": "22ab6172-3205-4228-cebc-a8ab2b57f2e5",
        "executionInfo": {
          "status": "ok",
          "timestamp": 1532876179790,
          "user_tz": -180,
          "elapsed": 1659,
          "user": {
            "displayName": "Max Minenko",
            "photoUrl": "https://lh3.googleusercontent.com/a/default-user=s128",
            "userId": "109736211463040468281"
          }
        }
      },
      "cell_type": "code",
      "source": [
        "file_to_disk('yelp_weights2.h5')"
      ],
      "execution_count": 53,
      "outputs": [
        {
          "output_type": "stream",
          "text": [
            "File ID: 17FAvYxEijCVekYKglwmYZRNmSX42hSFh\n"
          ],
          "name": "stdout"
        }
      ]
    },
    {
      "metadata": {
        "id": "DuTZ6-YL80v0",
        "colab_type": "text"
      },
      "cell_type": "markdown",
      "source": [
        "## Получаем предсказания"
      ]
    },
    {
      "metadata": {
        "id": "DV4AG8ce80v6",
        "colab_type": "code",
        "colab": {
          "autoexec": {
            "startup": false,
            "wait_interval": 0
          }
        }
      },
      "cell_type": "code",
      "source": [
        "model.load_weights('yelp_weights2.h5')"
      ],
      "execution_count": 0,
      "outputs": []
    },
    {
      "metadata": {
        "id": "zKtWwNap80wB",
        "colab_type": "code",
        "colab": {
          "autoexec": {
            "startup": false,
            "wait_interval": 0
          }
        }
      },
      "cell_type": "code",
      "source": [
        "class TestSequence(keras.utils.Sequence):\n",
        "    \"\"\" Класс для чтения батча \"\"\"\n",
        "    def __init__(self, df, batch_size):\n",
        "        self._df = df\n",
        "        self._batch_size = batch_size\n",
        "\n",
        "    def __len__(self):\n",
        "        return int(np.ceil(len(self._df) / float(self._batch_size)))\n",
        "\n",
        "    def __getitem__(self, idx):\n",
        "        result = []\n",
        "        sample = self._df[idx * self._batch_size:(idx + 1) * self._batch_size]\n",
        "        for _, row in sample.iterrows():\n",
        "            result.append(get_image('test_photos', row['photo_id']))\n",
        "        return np.array(result)"
      ],
      "execution_count": 0,
      "outputs": []
    },
    {
      "metadata": {
        "id": "OkOhG7gl80wP",
        "colab_type": "code",
        "colab": {
          "autoexec": {
            "startup": false,
            "wait_interval": 0
          },
          "base_uri": "https://localhost:8080/",
          "height": 34
        },
        "outputId": "7a603fed-8a7e-4985-dabb-f0441551f078",
        "executionInfo": {
          "status": "ok",
          "timestamp": 1532882970445,
          "user_tz": -180,
          "elapsed": 6781052,
          "user": {
            "displayName": "Max Minenko",
            "photoUrl": "https://lh3.googleusercontent.com/a/default-user=s128",
            "userId": "109736211463040468281"
          }
        }
      },
      "cell_type": "code",
      "source": [
        "# читаем данные параллельно в 4потока и применяем модель\n",
        "preds = model.predict_generator(\n",
        "    TestSequence(test_photos_df, batch_size=100), workers=4, verbose=1)"
      ],
      "execution_count": 56,
      "outputs": [
        {
          "output_type": "stream",
          "text": [
            "11903/11903 [==============================] - 6780s 570ms/step\n"
          ],
          "name": "stdout"
        }
      ]
    },
    {
      "metadata": {
        "id": "WGtkVM9080wY",
        "colab_type": "code",
        "colab": {
          "autoexec": {
            "startup": false,
            "wait_interval": 0
          }
        }
      },
      "cell_type": "code",
      "source": [
        "test_photos_df['labels'] = [[float(preds[j][i]) for j in range(9)] \n",
        "                            for i in range(len(test_photos_df))]"
      ],
      "execution_count": 0,
      "outputs": []
    },
    {
      "metadata": {
        "id": "SHwW0jLX80wj",
        "colab_type": "code",
        "colab": {
          "autoexec": {
            "startup": false,
            "wait_interval": 0
          },
          "base_uri": "https://localhost:8080/",
          "height": 206
        },
        "outputId": "44b8ea35-0bc0-42cd-ac8e-57a61de23e53",
        "executionInfo": {
          "status": "ok",
          "timestamp": 1532882987835,
          "user_tz": -180,
          "elapsed": 527,
          "user": {
            "displayName": "Max Minenko",
            "photoUrl": "https://lh3.googleusercontent.com/a/default-user=s128",
            "userId": "109736211463040468281"
          }
        }
      },
      "cell_type": "code",
      "source": [
        "test_photos_df.head()"
      ],
      "execution_count": 58,
      "outputs": [
        {
          "output_type": "execute_result",
          "data": {
            "text/html": [
              "<div>\n",
              "<style scoped>\n",
              "    .dataframe tbody tr th:only-of-type {\n",
              "        vertical-align: middle;\n",
              "    }\n",
              "\n",
              "    .dataframe tbody tr th {\n",
              "        vertical-align: top;\n",
              "    }\n",
              "\n",
              "    .dataframe thead th {\n",
              "        text-align: right;\n",
              "    }\n",
              "</style>\n",
              "<table border=\"1\" class=\"dataframe\">\n",
              "  <thead>\n",
              "    <tr style=\"text-align: right;\">\n",
              "      <th></th>\n",
              "      <th>photo_id</th>\n",
              "      <th>business_id</th>\n",
              "      <th>labels</th>\n",
              "    </tr>\n",
              "  </thead>\n",
              "  <tbody>\n",
              "    <tr>\n",
              "      <th>0</th>\n",
              "      <td>317818</td>\n",
              "      <td>003sg</td>\n",
              "      <td>[0.14658589661121368, 0.4474533200263977, 0.65...</td>\n",
              "    </tr>\n",
              "    <tr>\n",
              "      <th>1</th>\n",
              "      <td>30679</td>\n",
              "      <td>003sg</td>\n",
              "      <td>[0.2607298493385315, 0.4288123846054077, 0.566...</td>\n",
              "    </tr>\n",
              "    <tr>\n",
              "      <th>2</th>\n",
              "      <td>455084</td>\n",
              "      <td>003sg</td>\n",
              "      <td>[0.047367196530103683, 0.6503982543945312, 0.8...</td>\n",
              "    </tr>\n",
              "    <tr>\n",
              "      <th>3</th>\n",
              "      <td>371381</td>\n",
              "      <td>003sg</td>\n",
              "      <td>[0.13845843076705933, 0.6566969752311707, 0.62...</td>\n",
              "    </tr>\n",
              "    <tr>\n",
              "      <th>4</th>\n",
              "      <td>86224</td>\n",
              "      <td>003sg</td>\n",
              "      <td>[0.0950169712305069, 0.7989132404327393, 0.893...</td>\n",
              "    </tr>\n",
              "  </tbody>\n",
              "</table>\n",
              "</div>"
            ],
            "text/plain": [
              "   photo_id business_id                                             labels\n",
              "0    317818       003sg  [0.14658589661121368, 0.4474533200263977, 0.65...\n",
              "1     30679       003sg  [0.2607298493385315, 0.4288123846054077, 0.566...\n",
              "2    455084       003sg  [0.047367196530103683, 0.6503982543945312, 0.8...\n",
              "3    371381       003sg  [0.13845843076705933, 0.6566969752311707, 0.62...\n",
              "4     86224       003sg  [0.0950169712305069, 0.7989132404327393, 0.893..."
            ]
          },
          "metadata": {
            "tags": []
          },
          "execution_count": 58
        }
      ]
    },
    {
      "metadata": {
        "id": "2Hb_HYbd80w4",
        "colab_type": "code",
        "colab": {
          "autoexec": {
            "startup": false,
            "wait_interval": 0
          }
        }
      },
      "cell_type": "code",
      "source": [
        "business_df = test_photos_df.groupby('business_id')"
      ],
      "execution_count": 0,
      "outputs": []
    },
    {
      "metadata": {
        "id": "xI3Oi2I_80w9",
        "colab_type": "code",
        "colab": {
          "autoexec": {
            "startup": false,
            "wait_interval": 0
          }
        }
      },
      "cell_type": "code",
      "source": [
        "submission = []\n",
        "for k, labels in business_df['labels'].apply(list).iteritems():\n",
        "    labels = np.array(labels).mean(axis=0)\n",
        "    labels = np.where(labels > 0.5)[0]\n",
        "    submission.append((k, ' '.join(map(str, labels))))"
      ],
      "execution_count": 0,
      "outputs": []
    },
    {
      "metadata": {
        "id": "V3C9xzDF80xB",
        "colab_type": "code",
        "colab": {
          "autoexec": {
            "startup": false,
            "wait_interval": 0
          }
        }
      },
      "cell_type": "code",
      "source": [
        "submission_df = pd.DataFrame(submission, columns=('business_id', 'labels'))\n",
        "submission_df.to_csv('submission_yelp.csv', index=False)\n"
      ],
      "execution_count": 0,
      "outputs": []
    },
    {
      "metadata": {
        "id": "adHgtQIjTyvK",
        "colab_type": "code",
        "colab": {
          "autoexec": {
            "startup": false,
            "wait_interval": 0
          },
          "base_uri": "https://localhost:8080/",
          "height": 34
        },
        "outputId": "7e39e4ce-e611-44b1-e421-208663b0493a",
        "executionInfo": {
          "status": "ok",
          "timestamp": 1532883008075,
          "user_tz": -180,
          "elapsed": 1485,
          "user": {
            "displayName": "Max Minenko",
            "photoUrl": "https://lh3.googleusercontent.com/a/default-user=s128",
            "userId": "109736211463040468281"
          }
        }
      },
      "cell_type": "code",
      "source": [
        "file_to_disk('submission_yelp.csv')"
      ],
      "execution_count": 62,
      "outputs": [
        {
          "output_type": "stream",
          "text": [
            "File ID: 1qlhS3Z-I5qR1SCcIyXYlEyTArb00yqKG\n"
          ],
          "name": "stdout"
        }
      ]
    },
    {
      "metadata": {
        "id": "bJtbQ-OAUXJR",
        "colab_type": "code",
        "colab": {
          "autoexec": {
            "startup": false,
            "wait_interval": 0
          }
        }
      },
      "cell_type": "code",
      "source": [
        "#public scode 0.70228"
      ],
      "execution_count": 0,
      "outputs": []
    }
  ]
}
