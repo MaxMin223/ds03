{
  "nbformat": 4,
  "nbformat_minor": 0,
  "metadata": {
    "colab": {
      "name": "hw_6.6.ipynb",
      "version": "0.3.2",
      "views": {},
      "default_view": {},
      "provenance": [],
      "collapsed_sections": [],
      "toc_visible": true
    },
    "kernelspec": {
      "name": "python3",
      "display_name": "Python 3"
    },
    "accelerator": "GPU"
  },
  "cells": [
    {
      "metadata": {
        "id": "LR0az4Ukrx5L",
        "colab_type": "code",
        "colab": {
          "autoexec": {
            "startup": false,
            "wait_interval": 0
          }
        }
      },
      "cell_type": "code",
      "source": [
        "#!kill -9 -1"
      ],
      "execution_count": 0,
      "outputs": []
    },
    {
      "metadata": {
        "id": "6I9bG8I71re-",
        "colab_type": "code",
        "colab": {
          "autoexec": {
            "startup": false,
            "wait_interval": 0
          },
          "base_uri": "https://localhost:8080/",
          "height": 419
        },
        "outputId": "f74debe0-c4b6-4cf3-d71f-8490ca339c88",
        "executionInfo": {
          "status": "ok",
          "timestamp": 1531929516039,
          "user_tz": -180,
          "elapsed": 4880,
          "user": {
            "displayName": "Max Minenko",
            "photoUrl": "https://lh3.googleusercontent.com/a/default-user=s128",
            "userId": "109736211463040468281"
          }
        }
      },
      "cell_type": "code",
      "source": [
        "!pip install keras --upgrade\n",
        "!pip install keras_applications --upgrade\n",
        "#!pip install Keras-Applications --upgrade\n",
        "#!pip install tensorflow --upgrade"
      ],
      "execution_count": 95,
      "outputs": [
        {
          "output_type": "stream",
          "text": [
            "Requirement already up-to-date: keras in /usr/local/lib/python3.6/dist-packages (2.2.0)\r\n",
            "Requirement not upgraded as not directly required: keras-preprocessing==1.0.1 in /usr/local/lib/python3.6/dist-packages (from keras) (1.0.1)\r\n",
            "Requirement not upgraded as not directly required: scipy>=0.14 in /usr/local/lib/python3.6/dist-packages (from keras) (0.19.1)\r\n",
            "Requirement not upgraded as not directly required: six>=1.9.0 in /usr/local/lib/python3.6/dist-packages (from keras) (1.11.0)\r\n",
            "Collecting keras-applications==1.0.2 (from keras)\n",
            "  Using cached https://files.pythonhosted.org/packages/e2/60/c557075e586e968d7a9c314aa38c236b37cb3ee6b37e8d57152b1a5e0b47/Keras_Applications-1.0.2-py2.py3-none-any.whl\n",
            "Requirement not upgraded as not directly required: numpy>=1.9.1 in /usr/local/lib/python3.6/dist-packages (from keras) (1.14.5)\n",
            "Requirement not upgraded as not directly required: h5py in /usr/local/lib/python3.6/dist-packages (from keras) (2.8.0)\n",
            "Requirement not upgraded as not directly required: pyyaml in /usr/local/lib/python3.6/dist-packages (from keras) (3.13)\n",
            "Installing collected packages: keras-applications\n",
            "  Found existing installation: Keras-Applications 1.0.1\n",
            "    Uninstalling Keras-Applications-1.0.1:\n",
            "      Successfully uninstalled Keras-Applications-1.0.1\n",
            "Successfully installed keras-applications-1.0.2\n",
            "Requirement already up-to-date: keras_applications in /usr/local/lib/python3.6/dist-packages (1.0.2)\n",
            "Requirement not upgraded as not directly required: h5py in /usr/local/lib/python3.6/dist-packages (from keras_applications) (2.8.0)\n",
            "Requirement not upgraded as not directly required: numpy>=1.9.1 in /usr/local/lib/python3.6/dist-packages (from keras_applications) (1.14.5)\n",
            "Requirement not upgraded as not directly required: keras>=2.1.6 in /usr/local/lib/python3.6/dist-packages (from keras_applications) (2.2.0)\n",
            "Requirement not upgraded as not directly required: six in /usr/local/lib/python3.6/dist-packages (from h5py->keras_applications) (1.11.0)\n",
            "Requirement not upgraded as not directly required: keras-preprocessing==1.0.1 in /usr/local/lib/python3.6/dist-packages (from keras>=2.1.6->keras_applications) (1.0.1)\n",
            "Requirement not upgraded as not directly required: pyyaml in /usr/local/lib/python3.6/dist-packages (from keras>=2.1.6->keras_applications) (3.13)\n",
            "Requirement not upgraded as not directly required: scipy>=0.14 in /usr/local/lib/python3.6/dist-packages (from keras>=2.1.6->keras_applications) (0.19.1)\n"
          ],
          "name": "stdout"
        }
      ]
    },
    {
      "metadata": {
        "id": "t_yRfXKCsASF",
        "colab_type": "text"
      },
      "cell_type": "markdown",
      "source": [
        "## Загрузка данных\n"
      ]
    },
    {
      "metadata": {
        "id": "NtlqTsprr_TN",
        "colab_type": "code",
        "colab": {
          "autoexec": {
            "startup": false,
            "wait_interval": 0
          },
          "base_uri": "https://localhost:8080/",
          "height": 350
        },
        "outputId": "4daecd19-3477-4646-b3f8-93415f73f7d2",
        "executionInfo": {
          "status": "ok",
          "timestamp": 1531923657375,
          "user_tz": -180,
          "elapsed": 3895,
          "user": {
            "displayName": "Max Minenko",
            "photoUrl": "https://lh3.googleusercontent.com/a/default-user=s128",
            "userId": "109736211463040468281"
          }
        }
      },
      "cell_type": "code",
      "source": [
        "!pip install kaggle"
      ],
      "execution_count": 21,
      "outputs": [
        {
          "output_type": "stream",
          "text": [
            "Collecting kaggle\n",
            "  Downloading https://files.pythonhosted.org/packages/8d/04/65f961423898104bc3779b0be1e89973ee616840dedf49b385b18a1c34ff/kaggle-1.3.12.tar.gz\n",
            "Requirement already satisfied: urllib3<1.23.0,>=1.15 in /usr/local/lib/python3.6/dist-packages (from kaggle) (1.22)\n",
            "Requirement already satisfied: six>=1.10 in /usr/local/lib/python3.6/dist-packages (from kaggle) (1.11.0)\n",
            "Requirement already satisfied: certifi in /usr/local/lib/python3.6/dist-packages (from kaggle) (2018.4.16)\n",
            "Requirement already satisfied: python-dateutil in /usr/local/lib/python3.6/dist-packages (from kaggle) (2.5.3)\n",
            "Requirement already satisfied: requests in /usr/local/lib/python3.6/dist-packages (from kaggle) (2.18.4)\n",
            "Collecting tqdm (from kaggle)\n",
            "\u001b[?25l  Downloading https://files.pythonhosted.org/packages/93/24/6ab1df969db228aed36a648a8959d1027099ce45fad67532b9673d533318/tqdm-4.23.4-py2.py3-none-any.whl (42kB)\n",
            "\u001b[K    100% |████████████████████████████████| 51kB 20.3MB/s \n",
            "\u001b[?25hRequirement already satisfied: chardet<3.1.0,>=3.0.2 in /usr/local/lib/python3.6/dist-packages (from requests->kaggle) (3.0.4)\n",
            "Requirement already satisfied: idna<2.7,>=2.5 in /usr/local/lib/python3.6/dist-packages (from requests->kaggle) (2.6)\n",
            "Building wheels for collected packages: kaggle\n",
            "  Running setup.py bdist_wheel for kaggle ... \u001b[?25l-\b \bdone\n",
            "\u001b[?25h  Stored in directory: /content/.cache/pip/wheels/61/d6/e6/38fc0e2316f49b91aafdaf9a8d7756a9906b2ad7e501c1e165\n",
            "Successfully built kaggle\n",
            "Installing collected packages: tqdm, kaggle\n",
            "Successfully installed kaggle-1.3.12 tqdm-4.23.4\n"
          ],
          "name": "stdout"
        }
      ]
    },
    {
      "metadata": {
        "id": "NE8yMMJYukvN",
        "colab_type": "code",
        "colab": {
          "autoexec": {
            "startup": false,
            "wait_interval": 0
          }
        }
      },
      "cell_type": "code",
      "source": [
        "!mkdir ~/.kaggle\n",
        "!echo '{\"username\":\"1111111111\",\"key\":\"1111111111\"}' > ~/.kaggle/kaggle.json\n",
        "!chmod 600 ~/.kaggle/kaggle.json\n"
      ],
      "execution_count": 0,
      "outputs": []
    },
    {
      "metadata": {
        "id": "0fEquAbKsIR1",
        "colab_type": "code",
        "colab": {
          "autoexec": {
            "startup": false,
            "wait_interval": 0
          },
          "base_uri": "https://localhost:8080/",
          "height": 86
        },
        "outputId": "371c9257-895a-41a2-b502-18abafef54f4",
        "executionInfo": {
          "status": "ok",
          "timestamp": 1531923936898,
          "user_tz": -180,
          "elapsed": 18089,
          "user": {
            "displayName": "Max Minenko",
            "photoUrl": "https://lh3.googleusercontent.com/a/default-user=s128",
            "userId": "109736211463040468281"
          }
        }
      },
      "cell_type": "code",
      "source": [
        "!kaggle config set -n path -v /content\n",
        "!kaggle competitions download -c dogs-vs-cats-redux-kernels-edition"
      ],
      "execution_count": 32,
      "outputs": [
        {
          "output_type": "stream",
          "text": [
            "path is now set to: /content\n",
            "test.zip: Skipping, found more recently modified local copy (use --force to force download)\n",
            "train.zip: Skipping, found more recently modified local copy (use --force to force download)\n",
            "sample_submission.csv: Skipping, found more recently modified local copy (use --force to force download)\n"
          ],
          "name": "stdout"
        }
      ]
    },
    {
      "metadata": {
        "id": "4ICUGcSUsVRa",
        "colab_type": "code",
        "colab": {
          "autoexec": {
            "startup": false,
            "wait_interval": 0
          },
          "base_uri": "https://localhost:8080/",
          "height": 350
        },
        "outputId": "0803e4b9-4d56-4d8c-b887-7489922b387f",
        "executionInfo": {
          "status": "ok",
          "timestamp": 1531924422044,
          "user_tz": -180,
          "elapsed": 4581,
          "user": {
            "displayName": "Max Minenko",
            "photoUrl": "https://lh3.googleusercontent.com/a/default-user=s128",
            "userId": "109736211463040468281"
          }
        }
      },
      "cell_type": "code",
      "source": [
        "!apt install tree"
      ],
      "execution_count": 45,
      "outputs": [
        {
          "output_type": "stream",
          "text": [
            "Reading package lists... Done\n",
            "Building dependency tree       \n",
            "Reading state information... Done\n",
            "The following NEW packages will be installed:\n",
            "  tree\n",
            "0 upgraded, 1 newly installed, 0 to remove and 7 not upgraded.\n",
            "Need to get 40.7 kB of archives.\n",
            "After this operation, 105 kB of additional disk space will be used.\n",
            "Get:1 http://archive.ubuntu.com/ubuntu artful/universe amd64 tree amd64 1.7.0-5 [40.7 kB]\n",
            "Fetched 40.7 kB in 0s (630 kB/s)\n",
            "\n",
            "\u001b7\u001b[0;23r\u001b8\u001b[1ASelecting previously unselected package tree.\n",
            "(Reading database ... 18396 files and directories currently installed.)\n",
            "Preparing to unpack .../tree_1.7.0-5_amd64.deb ...\n",
            "\u001b7\u001b[24;0f\u001b[42m\u001b[30mProgress: [  0%]\u001b[49m\u001b[39m [..........................................................] \u001b8\u001b7\u001b[24;0f\u001b[42m\u001b[30mProgress: [ 16%]\u001b[49m\u001b[39m [#########.................................................] \u001b8Unpacking tree (1.7.0-5) ...\n",
            "\u001b7\u001b[24;0f\u001b[42m\u001b[30mProgress: [ 33%]\u001b[49m\u001b[39m [###################.......................................] \u001b8\u001b7\u001b[24;0f\u001b[42m\u001b[30mProgress: [ 50%]\u001b[49m\u001b[39m [#############################.............................] \u001b8Setting up tree (1.7.0-5) ...\n",
            "\u001b7\u001b[24;0f\u001b[42m\u001b[30mProgress: [ 66%]\u001b[49m\u001b[39m [######################################....................] \u001b8\u001b7\u001b[24;0f\u001b[42m\u001b[30mProgress: [ 83%]\u001b[49m\u001b[39m [################################################..........] \u001b8\n",
            "\u001b7\u001b[0;24r\u001b8\u001b[1A\u001b[J"
          ],
          "name": "stdout"
        }
      ]
    },
    {
      "metadata": {
        "id": "hn8aem6VsYNP",
        "colab_type": "code",
        "colab": {
          "autoexec": {
            "startup": false,
            "wait_interval": 0
          }
        }
      },
      "cell_type": "code",
      "source": [
        "#!mkdir ./data\n",
        "!unzip -q ./competitions/dogs-vs-cats-redux-kernels-edition/train.zip -d ./data/\n",
        "!unzip -q ./competitions/dogs-vs-cats-redux-kernels-edition/test.zip -d ./data/test"
      ],
      "execution_count": 0,
      "outputs": []
    },
    {
      "metadata": {
        "id": "Jfhy7zfHtOvp",
        "colab_type": "code",
        "colab": {
          "autoexec": {
            "startup": false,
            "wait_interval": 0
          },
          "base_uri": "https://localhost:8080/",
          "height": 52
        },
        "outputId": "b199d5a8-f0e4-4931-b134-497c188367ce",
        "executionInfo": {
          "status": "ok",
          "timestamp": 1531931181633,
          "user_tz": -180,
          "elapsed": 5659,
          "user": {
            "displayName": "Max Minenko",
            "photoUrl": "https://lh3.googleusercontent.com/a/default-user=s128",
            "userId": "109736211463040468281"
          }
        }
      },
      "cell_type": "code",
      "source": [
        "!mkdir ./data/train/dogs\n",
        "!mkdir ./data/train/cats\n",
        "!mv ./data/train/dog*.* ./data/train/dogs\n",
        "!mv ./data/train/cat*.* ./data/train/cats"
      ],
      "execution_count": 105,
      "outputs": [
        {
          "output_type": "stream",
          "text": [
            "mkdir: cannot create directory ‘./data/train/dogs’: File exists\n",
            "mkdir: cannot create directory ‘./data/train/cats’: File exists\n"
          ],
          "name": "stdout"
        }
      ]
    },
    {
      "metadata": {
        "id": "b0v7JdA6yzd1",
        "colab_type": "code",
        "colab": {
          "autoexec": {
            "startup": false,
            "wait_interval": 0
          },
          "base_uri": "https://localhost:8080/",
          "height": 156
        },
        "outputId": "7c20bcf4-878f-4b03-b2d0-f1d7783e8b01",
        "executionInfo": {
          "status": "ok",
          "timestamp": 1531931187350,
          "user_tz": -180,
          "elapsed": 1667,
          "user": {
            "displayName": "Max Minenko",
            "photoUrl": "https://lh3.googleusercontent.com/a/default-user=s128",
            "userId": "109736211463040468281"
          }
        }
      },
      "cell_type": "code",
      "source": [
        "!tree ./data -d"
      ],
      "execution_count": 106,
      "outputs": [
        {
          "output_type": "stream",
          "text": [
            "./data\r\n",
            "├── test\n",
            "│   └── test\n",
            "└── train\n",
            "    ├── cats\n",
            "    └── dogs\n",
            "\n",
            "5 directories\n"
          ],
          "name": "stdout"
        }
      ]
    },
    {
      "metadata": {
        "id": "KsIH58wB0zkh",
        "colab_type": "code",
        "colab": {
          "autoexec": {
            "startup": false,
            "wait_interval": 0
          }
        }
      },
      "cell_type": "code",
      "source": [
        "import numpy as np\n",
        "import keras\n",
        "from keras.models import Model, Sequential\n",
        "from keras.layers import Dense, Dropout, BatchNormalization, Flatten\n",
        "from keras.applications import MobileNet\n",
        "from keras.applications.mobilenet import preprocess_input\n",
        "from keras.preprocessing.image import ImageDataGenerator, load_img, img_to_array\n"
      ],
      "execution_count": 0,
      "outputs": []
    },
    {
      "metadata": {
        "id": "U6ZUdA470Rz3",
        "colab_type": "code",
        "colab": {
          "autoexec": {
            "startup": false,
            "wait_interval": 0
          }
        }
      },
      "cell_type": "code",
      "source": [
        "IMG_SIZE = (224, 224)\n",
        "batch_size = 32\n",
        "epochs = 30"
      ],
      "execution_count": 0,
      "outputs": []
    },
    {
      "metadata": {
        "id": "R33XxyjMpabf",
        "colab_type": "text"
      },
      "cell_type": "markdown",
      "source": [
        "Аугментацию данных будем проводить с помощью ImageDataGenerator. Размер картинок приводим к (224, 224)"
      ]
    },
    {
      "metadata": {
        "id": "GMK8kWYHAOCZ",
        "colab_type": "code",
        "colab": {
          "autoexec": {
            "startup": false,
            "wait_interval": 0
          }
        }
      },
      "cell_type": "code",
      "source": [
        "train_datagen = ImageDataGenerator(\n",
        "        rescale=1./255,\n",
        "        rotation_range=40,\n",
        "        width_shift_range=0.2,\n",
        "        height_shift_range=0.2,\n",
        "#        shear_range=0.2,\n",
        "        zoom_range=0.2,\n",
        "        horizontal_flip=True,\n",
        "        fill_mode='nearest',\n",
        "        validation_split=0.2)\n",
        "\n",
        "test_datagen = ImageDataGenerator(rescale=1./255)"
      ],
      "execution_count": 0,
      "outputs": []
    },
    {
      "metadata": {
        "id": "7w519xLnNTyT",
        "colab_type": "code",
        "colab": {
          "autoexec": {
            "startup": false,
            "wait_interval": 0
          },
          "base_uri": "https://localhost:8080/",
          "height": 69
        },
        "outputId": "7ded9b9a-fb68-4a38-8a8e-d1d1673ccda8",
        "executionInfo": {
          "status": "ok",
          "timestamp": 1531936312486,
          "user_tz": -180,
          "elapsed": 3545,
          "user": {
            "displayName": "Max Minenko",
            "photoUrl": "https://lh3.googleusercontent.com/a/default-user=s128",
            "userId": "109736211463040468281"
          }
        }
      },
      "cell_type": "code",
      "source": [
        "train_generator = train_datagen.flow_from_directory(\n",
        "        './data/train', \n",
        "        target_size=(IMG_SIZE[0], IMG_SIZE[1]), \n",
        "        batch_size=batch_size,\n",
        "        class_mode='binary',\n",
        "        subset = 'training')\n",
        "\n",
        "validation_generator = train_datagen.flow_from_directory(\n",
        "        './data/train', \n",
        "        target_size=(IMG_SIZE[0], IMG_SIZE[1]), \n",
        "        batch_size=batch_size,\n",
        "        class_mode='binary',\n",
        "        subset = 'validation')\n",
        "\n",
        "test_generator = test_datagen.flow_from_directory(\n",
        "        './data/test',\n",
        "        target_size=(IMG_SIZE[0], IMG_SIZE[1]),\n",
        "        batch_size=1,\n",
        "        class_mode=None,\n",
        "        classes=None,\n",
        "        shuffle=False)"
      ],
      "execution_count": 130,
      "outputs": [
        {
          "output_type": "stream",
          "text": [
            "Found 20000 images belonging to 2 classes.\n",
            "Found 5000 images belonging to 2 classes.\n",
            "Found 12500 images belonging to 1 classes.\n"
          ],
          "name": "stdout"
        }
      ]
    },
    {
      "metadata": {
        "id": "Wx_dZMjkpzVH",
        "colab_type": "text"
      },
      "cell_type": "markdown",
      "source": [
        "## Обучение MobileNet"
      ]
    },
    {
      "metadata": {
        "id": "dvDNZm_6p4Nf",
        "colab_type": "text"
      },
      "cell_type": "markdown",
      "source": [
        "В качестве базовой модели берем MobileNet.\n",
        "Размораживаем последний сверточный слой.\n",
        "И добавляем два полносвязных"
      ]
    },
    {
      "metadata": {
        "id": "BD6GiNid05-V",
        "colab_type": "code",
        "colab": {
          "autoexec": {
            "startup": false,
            "wait_interval": 0
          }
        }
      },
      "cell_type": "code",
      "source": [
        "base_model = MobileNet(include_top = False,\n",
        "                   weights = 'imagenet',\n",
        "                   input_shape = (IMG_SIZE[0], IMG_SIZE[1], 3),\n",
        "                   pooling = 'avg')"
      ],
      "execution_count": 0,
      "outputs": []
    },
    {
      "metadata": {
        "id": "pSof1yUhOIAo",
        "colab_type": "code",
        "colab": {
          "autoexec": {
            "startup": false,
            "wait_interval": 0
          }
        }
      },
      "cell_type": "code",
      "source": [
        "for layer in base_model.layers[:93]:\n",
        "    layer.trainable = False"
      ],
      "execution_count": 0,
      "outputs": []
    },
    {
      "metadata": {
        "id": "O47TGtSs7Tnw",
        "colab_type": "code",
        "colab": {
          "autoexec": {
            "startup": false,
            "wait_interval": 0
          },
          "base_uri": "https://localhost:8080/",
          "height": 3508
        },
        "outputId": "b360951a-858a-4fb9-ac0f-a6c4404d8249",
        "executionInfo": {
          "status": "ok",
          "timestamp": 1531936471579,
          "user_tz": -180,
          "elapsed": 1356,
          "user": {
            "displayName": "Max Minenko",
            "photoUrl": "https://lh3.googleusercontent.com/a/default-user=s128",
            "userId": "109736211463040468281"
          }
        }
      },
      "cell_type": "code",
      "source": [
        "base_model.summary()"
      ],
      "execution_count": 137,
      "outputs": [
        {
          "output_type": "stream",
          "text": [
            "_________________________________________________________________\n",
            "Layer (type)                 Output Shape              Param #   \n",
            "=================================================================\n",
            "input_3 (InputLayer)         (None, 224, 224, 3)       0         \n",
            "_________________________________________________________________\n",
            "conv1_pad (ZeroPadding2D)    (None, 226, 226, 3)       0         \n",
            "_________________________________________________________________\n",
            "conv1 (Conv2D)               (None, 112, 112, 32)      864       \n",
            "_________________________________________________________________\n",
            "conv1_bn (BatchNormalization (None, 112, 112, 32)      128       \n",
            "_________________________________________________________________\n",
            "conv1_relu (Activation)      (None, 112, 112, 32)      0         \n",
            "_________________________________________________________________\n",
            "conv_pad_1 (ZeroPadding2D)   (None, 114, 114, 32)      0         \n",
            "_________________________________________________________________\n",
            "conv_dw_1 (DepthwiseConv2D)  (None, 112, 112, 32)      288       \n",
            "_________________________________________________________________\n",
            "conv_dw_1_bn (BatchNormaliza (None, 112, 112, 32)      128       \n",
            "_________________________________________________________________\n",
            "conv_dw_1_relu (Activation)  (None, 112, 112, 32)      0         \n",
            "_________________________________________________________________\n",
            "conv_pw_1 (Conv2D)           (None, 112, 112, 64)      2048      \n",
            "_________________________________________________________________\n",
            "conv_pw_1_bn (BatchNormaliza (None, 112, 112, 64)      256       \n",
            "_________________________________________________________________\n",
            "conv_pw_1_relu (Activation)  (None, 112, 112, 64)      0         \n",
            "_________________________________________________________________\n",
            "conv_pad_2 (ZeroPadding2D)   (None, 114, 114, 64)      0         \n",
            "_________________________________________________________________\n",
            "conv_dw_2 (DepthwiseConv2D)  (None, 56, 56, 64)        576       \n",
            "_________________________________________________________________\n",
            "conv_dw_2_bn (BatchNormaliza (None, 56, 56, 64)        256       \n",
            "_________________________________________________________________\n",
            "conv_dw_2_relu (Activation)  (None, 56, 56, 64)        0         \n",
            "_________________________________________________________________\n",
            "conv_pw_2 (Conv2D)           (None, 56, 56, 128)       8192      \n",
            "_________________________________________________________________\n",
            "conv_pw_2_bn (BatchNormaliza (None, 56, 56, 128)       512       \n",
            "_________________________________________________________________\n",
            "conv_pw_2_relu (Activation)  (None, 56, 56, 128)       0         \n",
            "_________________________________________________________________\n",
            "conv_pad_3 (ZeroPadding2D)   (None, 58, 58, 128)       0         \n",
            "_________________________________________________________________\n",
            "conv_dw_3 (DepthwiseConv2D)  (None, 56, 56, 128)       1152      \n",
            "_________________________________________________________________\n",
            "conv_dw_3_bn (BatchNormaliza (None, 56, 56, 128)       512       \n",
            "_________________________________________________________________\n",
            "conv_dw_3_relu (Activation)  (None, 56, 56, 128)       0         \n",
            "_________________________________________________________________\n",
            "conv_pw_3 (Conv2D)           (None, 56, 56, 128)       16384     \n",
            "_________________________________________________________________\n",
            "conv_pw_3_bn (BatchNormaliza (None, 56, 56, 128)       512       \n",
            "_________________________________________________________________\n",
            "conv_pw_3_relu (Activation)  (None, 56, 56, 128)       0         \n",
            "_________________________________________________________________\n",
            "conv_pad_4 (ZeroPadding2D)   (None, 58, 58, 128)       0         \n",
            "_________________________________________________________________\n",
            "conv_dw_4 (DepthwiseConv2D)  (None, 28, 28, 128)       1152      \n",
            "_________________________________________________________________\n",
            "conv_dw_4_bn (BatchNormaliza (None, 28, 28, 128)       512       \n",
            "_________________________________________________________________\n",
            "conv_dw_4_relu (Activation)  (None, 28, 28, 128)       0         \n",
            "_________________________________________________________________\n",
            "conv_pw_4 (Conv2D)           (None, 28, 28, 256)       32768     \n",
            "_________________________________________________________________\n",
            "conv_pw_4_bn (BatchNormaliza (None, 28, 28, 256)       1024      \n",
            "_________________________________________________________________\n",
            "conv_pw_4_relu (Activation)  (None, 28, 28, 256)       0         \n",
            "_________________________________________________________________\n",
            "conv_pad_5 (ZeroPadding2D)   (None, 30, 30, 256)       0         \n",
            "_________________________________________________________________\n",
            "conv_dw_5 (DepthwiseConv2D)  (None, 28, 28, 256)       2304      \n",
            "_________________________________________________________________\n",
            "conv_dw_5_bn (BatchNormaliza (None, 28, 28, 256)       1024      \n",
            "_________________________________________________________________\n",
            "conv_dw_5_relu (Activation)  (None, 28, 28, 256)       0         \n",
            "_________________________________________________________________\n",
            "conv_pw_5 (Conv2D)           (None, 28, 28, 256)       65536     \n",
            "_________________________________________________________________\n",
            "conv_pw_5_bn (BatchNormaliza (None, 28, 28, 256)       1024      \n",
            "_________________________________________________________________\n",
            "conv_pw_5_relu (Activation)  (None, 28, 28, 256)       0         \n",
            "_________________________________________________________________\n",
            "conv_pad_6 (ZeroPadding2D)   (None, 30, 30, 256)       0         \n",
            "_________________________________________________________________\n",
            "conv_dw_6 (DepthwiseConv2D)  (None, 14, 14, 256)       2304      \n",
            "_________________________________________________________________\n",
            "conv_dw_6_bn (BatchNormaliza (None, 14, 14, 256)       1024      \n",
            "_________________________________________________________________\n",
            "conv_dw_6_relu (Activation)  (None, 14, 14, 256)       0         \n",
            "_________________________________________________________________\n",
            "conv_pw_6 (Conv2D)           (None, 14, 14, 512)       131072    \n",
            "_________________________________________________________________\n",
            "conv_pw_6_bn (BatchNormaliza (None, 14, 14, 512)       2048      \n",
            "_________________________________________________________________\n",
            "conv_pw_6_relu (Activation)  (None, 14, 14, 512)       0         \n",
            "_________________________________________________________________\n",
            "conv_pad_7 (ZeroPadding2D)   (None, 16, 16, 512)       0         \n",
            "_________________________________________________________________\n",
            "conv_dw_7 (DepthwiseConv2D)  (None, 14, 14, 512)       4608      \n",
            "_________________________________________________________________\n",
            "conv_dw_7_bn (BatchNormaliza (None, 14, 14, 512)       2048      \n",
            "_________________________________________________________________\n",
            "conv_dw_7_relu (Activation)  (None, 14, 14, 512)       0         \n",
            "_________________________________________________________________\n",
            "conv_pw_7 (Conv2D)           (None, 14, 14, 512)       262144    \n",
            "_________________________________________________________________\n",
            "conv_pw_7_bn (BatchNormaliza (None, 14, 14, 512)       2048      \n",
            "_________________________________________________________________\n",
            "conv_pw_7_relu (Activation)  (None, 14, 14, 512)       0         \n",
            "_________________________________________________________________\n",
            "conv_pad_8 (ZeroPadding2D)   (None, 16, 16, 512)       0         \n",
            "_________________________________________________________________\n",
            "conv_dw_8 (DepthwiseConv2D)  (None, 14, 14, 512)       4608      \n",
            "_________________________________________________________________\n",
            "conv_dw_8_bn (BatchNormaliza (None, 14, 14, 512)       2048      \n",
            "_________________________________________________________________\n",
            "conv_dw_8_relu (Activation)  (None, 14, 14, 512)       0         \n",
            "_________________________________________________________________\n",
            "conv_pw_8 (Conv2D)           (None, 14, 14, 512)       262144    \n",
            "_________________________________________________________________\n",
            "conv_pw_8_bn (BatchNormaliza (None, 14, 14, 512)       2048      \n",
            "_________________________________________________________________\n",
            "conv_pw_8_relu (Activation)  (None, 14, 14, 512)       0         \n",
            "_________________________________________________________________\n",
            "conv_pad_9 (ZeroPadding2D)   (None, 16, 16, 512)       0         \n",
            "_________________________________________________________________\n",
            "conv_dw_9 (DepthwiseConv2D)  (None, 14, 14, 512)       4608      \n",
            "_________________________________________________________________\n",
            "conv_dw_9_bn (BatchNormaliza (None, 14, 14, 512)       2048      \n",
            "_________________________________________________________________\n",
            "conv_dw_9_relu (Activation)  (None, 14, 14, 512)       0         \n",
            "_________________________________________________________________\n",
            "conv_pw_9 (Conv2D)           (None, 14, 14, 512)       262144    \n",
            "_________________________________________________________________\n",
            "conv_pw_9_bn (BatchNormaliza (None, 14, 14, 512)       2048      \n",
            "_________________________________________________________________\n",
            "conv_pw_9_relu (Activation)  (None, 14, 14, 512)       0         \n",
            "_________________________________________________________________\n",
            "conv_pad_10 (ZeroPadding2D)  (None, 16, 16, 512)       0         \n",
            "_________________________________________________________________\n",
            "conv_dw_10 (DepthwiseConv2D) (None, 14, 14, 512)       4608      \n",
            "_________________________________________________________________\n",
            "conv_dw_10_bn (BatchNormaliz (None, 14, 14, 512)       2048      \n",
            "_________________________________________________________________\n",
            "conv_dw_10_relu (Activation) (None, 14, 14, 512)       0         \n",
            "_________________________________________________________________\n",
            "conv_pw_10 (Conv2D)          (None, 14, 14, 512)       262144    \n",
            "_________________________________________________________________\n",
            "conv_pw_10_bn (BatchNormaliz (None, 14, 14, 512)       2048      \n",
            "_________________________________________________________________\n",
            "conv_pw_10_relu (Activation) (None, 14, 14, 512)       0         \n",
            "_________________________________________________________________\n",
            "conv_pad_11 (ZeroPadding2D)  (None, 16, 16, 512)       0         \n",
            "_________________________________________________________________\n",
            "conv_dw_11 (DepthwiseConv2D) (None, 14, 14, 512)       4608      \n",
            "_________________________________________________________________\n",
            "conv_dw_11_bn (BatchNormaliz (None, 14, 14, 512)       2048      \n",
            "_________________________________________________________________\n",
            "conv_dw_11_relu (Activation) (None, 14, 14, 512)       0         \n",
            "_________________________________________________________________\n",
            "conv_pw_11 (Conv2D)          (None, 14, 14, 512)       262144    \n",
            "_________________________________________________________________\n",
            "conv_pw_11_bn (BatchNormaliz (None, 14, 14, 512)       2048      \n",
            "_________________________________________________________________\n",
            "conv_pw_11_relu (Activation) (None, 14, 14, 512)       0         \n",
            "_________________________________________________________________\n",
            "conv_pad_12 (ZeroPadding2D)  (None, 16, 16, 512)       0         \n",
            "_________________________________________________________________\n",
            "conv_dw_12 (DepthwiseConv2D) (None, 7, 7, 512)         4608      \n",
            "_________________________________________________________________\n",
            "conv_dw_12_bn (BatchNormaliz (None, 7, 7, 512)         2048      \n",
            "_________________________________________________________________\n",
            "conv_dw_12_relu (Activation) (None, 7, 7, 512)         0         \n",
            "_________________________________________________________________\n",
            "conv_pw_12 (Conv2D)          (None, 7, 7, 1024)        524288    \n",
            "_________________________________________________________________\n",
            "conv_pw_12_bn (BatchNormaliz (None, 7, 7, 1024)        4096      \n",
            "_________________________________________________________________\n",
            "conv_pw_12_relu (Activation) (None, 7, 7, 1024)        0         \n",
            "_________________________________________________________________\n",
            "conv_pad_13 (ZeroPadding2D)  (None, 9, 9, 1024)        0         \n",
            "_________________________________________________________________\n",
            "conv_dw_13 (DepthwiseConv2D) (None, 7, 7, 1024)        9216      \n",
            "_________________________________________________________________\n",
            "conv_dw_13_bn (BatchNormaliz (None, 7, 7, 1024)        4096      \n",
            "_________________________________________________________________\n",
            "conv_dw_13_relu (Activation) (None, 7, 7, 1024)        0         \n",
            "_________________________________________________________________\n",
            "conv_pw_13 (Conv2D)          (None, 7, 7, 1024)        1048576   \n",
            "_________________________________________________________________\n",
            "conv_pw_13_bn (BatchNormaliz (None, 7, 7, 1024)        4096      \n",
            "_________________________________________________________________\n",
            "conv_pw_13_relu (Activation) (None, 7, 7, 1024)        0         \n",
            "_________________________________________________________________\n",
            "global_average_pooling2d_3 ( (None, 1024)              0         \n",
            "=================================================================\n",
            "Total params: 3,228,864\n",
            "Trainable params: 1,050,624\n",
            "Non-trainable params: 2,178,240\n",
            "_________________________________________________________________\n"
          ],
          "name": "stdout"
        }
      ]
    },
    {
      "metadata": {
        "id": "lPeZ4NqBRB1a",
        "colab_type": "code",
        "colab": {
          "autoexec": {
            "startup": false,
            "wait_interval": 0
          },
          "base_uri": "https://localhost:8080/",
          "height": 34
        },
        "outputId": "f1f326e6-201f-4611-c19d-c6aa930313bb",
        "executionInfo": {
          "status": "ok",
          "timestamp": 1531932161809,
          "user_tz": -180,
          "elapsed": 650,
          "user": {
            "displayName": "Max Minenko",
            "photoUrl": "https://lh3.googleusercontent.com/a/default-user=s128",
            "userId": "109736211463040468281"
          }
        }
      },
      "cell_type": "code",
      "source": [
        "base_model.output_shape[1:]"
      ],
      "execution_count": 120,
      "outputs": [
        {
          "output_type": "execute_result",
          "data": {
            "text/plain": [
              "(1024,)"
            ]
          },
          "metadata": {
            "tags": []
          },
          "execution_count": 120
        }
      ]
    },
    {
      "metadata": {
        "id": "grResgIoONFo",
        "colab_type": "code",
        "colab": {
          "autoexec": {
            "startup": false,
            "wait_interval": 0
          }
        }
      },
      "cell_type": "code",
      "source": [
        "top_model = Sequential()\n",
        "    \n",
        "top_model.add(Dense(256, activation='relu', input_shape=base_model.output_shape[1:]))\n",
        "top_model.add(Dropout(0.5))\n",
        "\n",
        "top_model.add(Dense(128, activation='relu'))\n",
        "top_model.add(Dropout(0.5))    \n",
        "\n",
        "top_model.add(Dense(1, activation='sigmoid'))\n",
        "\n",
        "model = Model(inputs=base_model.input, outputs=top_model(base_model.output))\n",
        "\n",
        "model.compile(optimizer='adam',\n",
        "              loss='binary_crossentropy',\n",
        "              metrics=['accuracy'])"
      ],
      "execution_count": 0,
      "outputs": []
    },
    {
      "metadata": {
        "id": "_JhUdTn3R33z",
        "colab_type": "code",
        "colab": {
          "autoexec": {
            "startup": false,
            "wait_interval": 0
          },
          "base_uri": "https://localhost:8080/",
          "height": 3542
        },
        "outputId": "766d213e-e065-4f28-e718-8f9e76363f2c",
        "executionInfo": {
          "status": "ok",
          "timestamp": 1531936503919,
          "user_tz": -180,
          "elapsed": 714,
          "user": {
            "displayName": "Max Minenko",
            "photoUrl": "https://lh3.googleusercontent.com/a/default-user=s128",
            "userId": "109736211463040468281"
          }
        }
      },
      "cell_type": "code",
      "source": [
        "model.summary()"
      ],
      "execution_count": 139,
      "outputs": [
        {
          "output_type": "stream",
          "text": [
            "_________________________________________________________________\n",
            "Layer (type)                 Output Shape              Param #   \n",
            "=================================================================\n",
            "input_3 (InputLayer)         (None, 224, 224, 3)       0         \n",
            "_________________________________________________________________\n",
            "conv1_pad (ZeroPadding2D)    (None, 226, 226, 3)       0         \n",
            "_________________________________________________________________\n",
            "conv1 (Conv2D)               (None, 112, 112, 32)      864       \n",
            "_________________________________________________________________\n",
            "conv1_bn (BatchNormalization (None, 112, 112, 32)      128       \n",
            "_________________________________________________________________\n",
            "conv1_relu (Activation)      (None, 112, 112, 32)      0         \n",
            "_________________________________________________________________\n",
            "conv_pad_1 (ZeroPadding2D)   (None, 114, 114, 32)      0         \n",
            "_________________________________________________________________\n",
            "conv_dw_1 (DepthwiseConv2D)  (None, 112, 112, 32)      288       \n",
            "_________________________________________________________________\n",
            "conv_dw_1_bn (BatchNormaliza (None, 112, 112, 32)      128       \n",
            "_________________________________________________________________\n",
            "conv_dw_1_relu (Activation)  (None, 112, 112, 32)      0         \n",
            "_________________________________________________________________\n",
            "conv_pw_1 (Conv2D)           (None, 112, 112, 64)      2048      \n",
            "_________________________________________________________________\n",
            "conv_pw_1_bn (BatchNormaliza (None, 112, 112, 64)      256       \n",
            "_________________________________________________________________\n",
            "conv_pw_1_relu (Activation)  (None, 112, 112, 64)      0         \n",
            "_________________________________________________________________\n",
            "conv_pad_2 (ZeroPadding2D)   (None, 114, 114, 64)      0         \n",
            "_________________________________________________________________\n",
            "conv_dw_2 (DepthwiseConv2D)  (None, 56, 56, 64)        576       \n",
            "_________________________________________________________________\n",
            "conv_dw_2_bn (BatchNormaliza (None, 56, 56, 64)        256       \n",
            "_________________________________________________________________\n",
            "conv_dw_2_relu (Activation)  (None, 56, 56, 64)        0         \n",
            "_________________________________________________________________\n",
            "conv_pw_2 (Conv2D)           (None, 56, 56, 128)       8192      \n",
            "_________________________________________________________________\n",
            "conv_pw_2_bn (BatchNormaliza (None, 56, 56, 128)       512       \n",
            "_________________________________________________________________\n",
            "conv_pw_2_relu (Activation)  (None, 56, 56, 128)       0         \n",
            "_________________________________________________________________\n",
            "conv_pad_3 (ZeroPadding2D)   (None, 58, 58, 128)       0         \n",
            "_________________________________________________________________\n",
            "conv_dw_3 (DepthwiseConv2D)  (None, 56, 56, 128)       1152      \n",
            "_________________________________________________________________\n",
            "conv_dw_3_bn (BatchNormaliza (None, 56, 56, 128)       512       \n",
            "_________________________________________________________________\n",
            "conv_dw_3_relu (Activation)  (None, 56, 56, 128)       0         \n",
            "_________________________________________________________________\n",
            "conv_pw_3 (Conv2D)           (None, 56, 56, 128)       16384     \n",
            "_________________________________________________________________\n",
            "conv_pw_3_bn (BatchNormaliza (None, 56, 56, 128)       512       \n",
            "_________________________________________________________________\n",
            "conv_pw_3_relu (Activation)  (None, 56, 56, 128)       0         \n",
            "_________________________________________________________________\n",
            "conv_pad_4 (ZeroPadding2D)   (None, 58, 58, 128)       0         \n",
            "_________________________________________________________________\n",
            "conv_dw_4 (DepthwiseConv2D)  (None, 28, 28, 128)       1152      \n",
            "_________________________________________________________________\n",
            "conv_dw_4_bn (BatchNormaliza (None, 28, 28, 128)       512       \n",
            "_________________________________________________________________\n",
            "conv_dw_4_relu (Activation)  (None, 28, 28, 128)       0         \n",
            "_________________________________________________________________\n",
            "conv_pw_4 (Conv2D)           (None, 28, 28, 256)       32768     \n",
            "_________________________________________________________________\n",
            "conv_pw_4_bn (BatchNormaliza (None, 28, 28, 256)       1024      \n",
            "_________________________________________________________________\n",
            "conv_pw_4_relu (Activation)  (None, 28, 28, 256)       0         \n",
            "_________________________________________________________________\n",
            "conv_pad_5 (ZeroPadding2D)   (None, 30, 30, 256)       0         \n",
            "_________________________________________________________________\n",
            "conv_dw_5 (DepthwiseConv2D)  (None, 28, 28, 256)       2304      \n",
            "_________________________________________________________________\n",
            "conv_dw_5_bn (BatchNormaliza (None, 28, 28, 256)       1024      \n",
            "_________________________________________________________________\n",
            "conv_dw_5_relu (Activation)  (None, 28, 28, 256)       0         \n",
            "_________________________________________________________________\n",
            "conv_pw_5 (Conv2D)           (None, 28, 28, 256)       65536     \n",
            "_________________________________________________________________\n",
            "conv_pw_5_bn (BatchNormaliza (None, 28, 28, 256)       1024      \n",
            "_________________________________________________________________\n",
            "conv_pw_5_relu (Activation)  (None, 28, 28, 256)       0         \n",
            "_________________________________________________________________\n",
            "conv_pad_6 (ZeroPadding2D)   (None, 30, 30, 256)       0         \n",
            "_________________________________________________________________\n",
            "conv_dw_6 (DepthwiseConv2D)  (None, 14, 14, 256)       2304      \n",
            "_________________________________________________________________\n",
            "conv_dw_6_bn (BatchNormaliza (None, 14, 14, 256)       1024      \n",
            "_________________________________________________________________\n",
            "conv_dw_6_relu (Activation)  (None, 14, 14, 256)       0         \n",
            "_________________________________________________________________\n",
            "conv_pw_6 (Conv2D)           (None, 14, 14, 512)       131072    \n",
            "_________________________________________________________________\n",
            "conv_pw_6_bn (BatchNormaliza (None, 14, 14, 512)       2048      \n",
            "_________________________________________________________________\n",
            "conv_pw_6_relu (Activation)  (None, 14, 14, 512)       0         \n",
            "_________________________________________________________________\n",
            "conv_pad_7 (ZeroPadding2D)   (None, 16, 16, 512)       0         \n",
            "_________________________________________________________________\n",
            "conv_dw_7 (DepthwiseConv2D)  (None, 14, 14, 512)       4608      \n",
            "_________________________________________________________________\n",
            "conv_dw_7_bn (BatchNormaliza (None, 14, 14, 512)       2048      \n",
            "_________________________________________________________________\n",
            "conv_dw_7_relu (Activation)  (None, 14, 14, 512)       0         \n",
            "_________________________________________________________________\n",
            "conv_pw_7 (Conv2D)           (None, 14, 14, 512)       262144    \n",
            "_________________________________________________________________\n",
            "conv_pw_7_bn (BatchNormaliza (None, 14, 14, 512)       2048      \n",
            "_________________________________________________________________\n",
            "conv_pw_7_relu (Activation)  (None, 14, 14, 512)       0         \n",
            "_________________________________________________________________\n",
            "conv_pad_8 (ZeroPadding2D)   (None, 16, 16, 512)       0         \n",
            "_________________________________________________________________\n",
            "conv_dw_8 (DepthwiseConv2D)  (None, 14, 14, 512)       4608      \n",
            "_________________________________________________________________\n",
            "conv_dw_8_bn (BatchNormaliza (None, 14, 14, 512)       2048      \n",
            "_________________________________________________________________\n",
            "conv_dw_8_relu (Activation)  (None, 14, 14, 512)       0         \n",
            "_________________________________________________________________\n",
            "conv_pw_8 (Conv2D)           (None, 14, 14, 512)       262144    \n",
            "_________________________________________________________________\n",
            "conv_pw_8_bn (BatchNormaliza (None, 14, 14, 512)       2048      \n",
            "_________________________________________________________________\n",
            "conv_pw_8_relu (Activation)  (None, 14, 14, 512)       0         \n",
            "_________________________________________________________________\n",
            "conv_pad_9 (ZeroPadding2D)   (None, 16, 16, 512)       0         \n",
            "_________________________________________________________________\n",
            "conv_dw_9 (DepthwiseConv2D)  (None, 14, 14, 512)       4608      \n",
            "_________________________________________________________________\n",
            "conv_dw_9_bn (BatchNormaliza (None, 14, 14, 512)       2048      \n",
            "_________________________________________________________________\n",
            "conv_dw_9_relu (Activation)  (None, 14, 14, 512)       0         \n",
            "_________________________________________________________________\n",
            "conv_pw_9 (Conv2D)           (None, 14, 14, 512)       262144    \n",
            "_________________________________________________________________\n",
            "conv_pw_9_bn (BatchNormaliza (None, 14, 14, 512)       2048      \n",
            "_________________________________________________________________\n",
            "conv_pw_9_relu (Activation)  (None, 14, 14, 512)       0         \n",
            "_________________________________________________________________\n",
            "conv_pad_10 (ZeroPadding2D)  (None, 16, 16, 512)       0         \n",
            "_________________________________________________________________\n",
            "conv_dw_10 (DepthwiseConv2D) (None, 14, 14, 512)       4608      \n",
            "_________________________________________________________________\n",
            "conv_dw_10_bn (BatchNormaliz (None, 14, 14, 512)       2048      \n",
            "_________________________________________________________________\n",
            "conv_dw_10_relu (Activation) (None, 14, 14, 512)       0         \n",
            "_________________________________________________________________\n",
            "conv_pw_10 (Conv2D)          (None, 14, 14, 512)       262144    \n",
            "_________________________________________________________________\n",
            "conv_pw_10_bn (BatchNormaliz (None, 14, 14, 512)       2048      \n",
            "_________________________________________________________________\n",
            "conv_pw_10_relu (Activation) (None, 14, 14, 512)       0         \n",
            "_________________________________________________________________\n",
            "conv_pad_11 (ZeroPadding2D)  (None, 16, 16, 512)       0         \n",
            "_________________________________________________________________\n",
            "conv_dw_11 (DepthwiseConv2D) (None, 14, 14, 512)       4608      \n",
            "_________________________________________________________________\n",
            "conv_dw_11_bn (BatchNormaliz (None, 14, 14, 512)       2048      \n",
            "_________________________________________________________________\n",
            "conv_dw_11_relu (Activation) (None, 14, 14, 512)       0         \n",
            "_________________________________________________________________\n",
            "conv_pw_11 (Conv2D)          (None, 14, 14, 512)       262144    \n",
            "_________________________________________________________________\n",
            "conv_pw_11_bn (BatchNormaliz (None, 14, 14, 512)       2048      \n",
            "_________________________________________________________________\n",
            "conv_pw_11_relu (Activation) (None, 14, 14, 512)       0         \n",
            "_________________________________________________________________\n",
            "conv_pad_12 (ZeroPadding2D)  (None, 16, 16, 512)       0         \n",
            "_________________________________________________________________\n",
            "conv_dw_12 (DepthwiseConv2D) (None, 7, 7, 512)         4608      \n",
            "_________________________________________________________________\n",
            "conv_dw_12_bn (BatchNormaliz (None, 7, 7, 512)         2048      \n",
            "_________________________________________________________________\n",
            "conv_dw_12_relu (Activation) (None, 7, 7, 512)         0         \n",
            "_________________________________________________________________\n",
            "conv_pw_12 (Conv2D)          (None, 7, 7, 1024)        524288    \n",
            "_________________________________________________________________\n",
            "conv_pw_12_bn (BatchNormaliz (None, 7, 7, 1024)        4096      \n",
            "_________________________________________________________________\n",
            "conv_pw_12_relu (Activation) (None, 7, 7, 1024)        0         \n",
            "_________________________________________________________________\n",
            "conv_pad_13 (ZeroPadding2D)  (None, 9, 9, 1024)        0         \n",
            "_________________________________________________________________\n",
            "conv_dw_13 (DepthwiseConv2D) (None, 7, 7, 1024)        9216      \n",
            "_________________________________________________________________\n",
            "conv_dw_13_bn (BatchNormaliz (None, 7, 7, 1024)        4096      \n",
            "_________________________________________________________________\n",
            "conv_dw_13_relu (Activation) (None, 7, 7, 1024)        0         \n",
            "_________________________________________________________________\n",
            "conv_pw_13 (Conv2D)          (None, 7, 7, 1024)        1048576   \n",
            "_________________________________________________________________\n",
            "conv_pw_13_bn (BatchNormaliz (None, 7, 7, 1024)        4096      \n",
            "_________________________________________________________________\n",
            "conv_pw_13_relu (Activation) (None, 7, 7, 1024)        0         \n",
            "_________________________________________________________________\n",
            "global_average_pooling2d_3 ( (None, 1024)              0         \n",
            "_________________________________________________________________\n",
            "sequential_6 (Sequential)    (None, 1)                 295425    \n",
            "=================================================================\n",
            "Total params: 3,524,289\n",
            "Trainable params: 1,346,049\n",
            "Non-trainable params: 2,178,240\n",
            "_________________________________________________________________\n"
          ],
          "name": "stdout"
        }
      ]
    },
    {
      "metadata": {
        "id": "bcLSgmarO6fN",
        "colab_type": "code",
        "colab": {
          "autoexec": {
            "startup": false,
            "wait_interval": 0
          },
          "base_uri": "https://localhost:8080/",
          "height": 72
        },
        "outputId": "782627d8-02f6-4abd-b834-50b3862767c6",
        "executionInfo": {
          "status": "ok",
          "timestamp": 1531936512142,
          "user_tz": -180,
          "elapsed": 997,
          "user": {
            "displayName": "Max Minenko",
            "photoUrl": "https://lh3.googleusercontent.com/a/default-user=s128",
            "userId": "109736211463040468281"
          }
        }
      },
      "cell_type": "code",
      "source": [
        "lr_reduce = keras.callbacks.ReduceLROnPlateau(monitor='val_acc', \n",
        "                                              factor=0.1,\n",
        "                                              epsilon=1e-5, \n",
        "                                              patience=5, \n",
        "                                              verbose=1)\n",
        "\n",
        "checkpoint = keras.callbacks.ModelCheckpoint('top_weights2.h5',\n",
        "                                             save_best_only=True,\n",
        "                                             verbose=1)\n",
        "\n"
      ],
      "execution_count": 140,
      "outputs": [
        {
          "output_type": "stream",
          "text": [
            "/usr/local/lib/python3.6/dist-packages/keras/callbacks.py:928: UserWarning: `epsilon` argument is deprecated and will be removed, use `min_delta` insted.\n",
            "  feed_dict[K.learning_phase()] = False\n"
          ],
          "name": "stderr"
        }
      ]
    },
    {
      "metadata": {
        "id": "x5JH02L0QDMZ",
        "colab_type": "code",
        "colab": {
          "autoexec": {
            "startup": false,
            "wait_interval": 0
          },
          "base_uri": "https://localhost:8080/",
          "height": 2277
        },
        "outputId": "53cb7fec-c93e-4f0d-fb19-c7dd15d6904d",
        "executionInfo": {
          "status": "ok",
          "timestamp": 1531938923762,
          "user_tz": -180,
          "elapsed": 2287924,
          "user": {
            "displayName": "Max Minenko",
            "photoUrl": "https://lh3.googleusercontent.com/a/default-user=s128",
            "userId": "109736211463040468281"
          }
        }
      },
      "cell_type": "code",
      "source": [
        "model.fit_generator(\n",
        "        train_generator,\n",
        "        steps_per_epoch=10,\n",
        "        epochs=epochs,\n",
        "        validation_data=validation_generator,\n",
        "        callbacks=[lr_reduce, checkpoint])"
      ],
      "execution_count": 143,
      "outputs": [
        {
          "output_type": "stream",
          "text": [
            "Epoch 1/30\n",
            "10/10 [==============================] - 81s 8s/step - loss: 0.5634 - acc: 0.7375 - val_loss: 0.4256 - val_acc: 0.7862\n",
            "\n",
            "Epoch 00001: val_loss improved from inf to 0.42559, saving model to top_weights2.h5\n",
            "Epoch 2/30\n",
            "10/10 [==============================] - 75s 7s/step - loss: 0.3418 - acc: 0.8562 - val_loss: 0.5011 - val_acc: 0.7908\n",
            "\n",
            "Epoch 00002: val_loss did not improve from 0.42559\n",
            "Epoch 3/30\n",
            "10/10 [==============================] - 77s 8s/step - loss: 0.2119 - acc: 0.9219 - val_loss: 0.1542 - val_acc: 0.9352\n",
            "\n",
            "Epoch 00003: val_loss improved from 0.42559 to 0.15417, saving model to top_weights2.h5\n",
            "Epoch 4/30\n",
            "10/10 [==============================] - 77s 8s/step - loss: 0.2769 - acc: 0.8906 - val_loss: 0.6001 - val_acc: 0.8054\n",
            "\n",
            "Epoch 00004: val_loss did not improve from 0.15417\n",
            "Epoch 5/30\n",
            "10/10 [==============================] - 76s 8s/step - loss: 0.2642 - acc: 0.8969 - val_loss: 0.3280 - val_acc: 0.8684\n",
            "\n",
            "Epoch 00005: val_loss did not improve from 0.15417\n",
            "Epoch 6/30\n",
            "10/10 [==============================] - 77s 8s/step - loss: 0.2177 - acc: 0.9031 - val_loss: 0.1441 - val_acc: 0.9372\n",
            "\n",
            "Epoch 00006: val_loss improved from 0.15417 to 0.14413, saving model to top_weights2.h5\n",
            "Epoch 7/30\n",
            "10/10 [==============================] - 75s 8s/step - loss: 0.1619 - acc: 0.9344 - val_loss: 0.1269 - val_acc: 0.9508\n",
            "\n",
            "Epoch 00007: val_loss improved from 0.14413 to 0.12689, saving model to top_weights2.h5\n",
            "Epoch 8/30\n",
            "10/10 [==============================] - 76s 8s/step - loss: 0.1682 - acc: 0.9281 - val_loss: 0.1944 - val_acc: 0.9200\n",
            "\n",
            "Epoch 00008: val_loss did not improve from 0.12689\n",
            "Epoch 9/30\n",
            "10/10 [==============================] - 75s 7s/step - loss: 0.1604 - acc: 0.9313 - val_loss: 0.1737 - val_acc: 0.9288\n",
            "\n",
            "Epoch 00009: val_loss did not improve from 0.12689\n",
            "Epoch 10/30\n",
            " 8/10 [=======================>......] - ETA: 0s - loss: 0.2257 - acc: 0.9453"
          ],
          "name": "stdout"
        },
        {
          "output_type": "stream",
          "text": [
            "10/10 [==============================] - 75s 7s/step - loss: 0.2154 - acc: 0.9375 - val_loss: 0.2271 - val_acc: 0.9032\n",
            "\n",
            "Epoch 00010: val_loss did not improve from 0.12689\n",
            "Epoch 11/30\n",
            "10/10 [==============================] - 75s 7s/step - loss: 0.1790 - acc: 0.9250 - val_loss: 0.3182 - val_acc: 0.8560\n",
            "\n",
            "Epoch 00011: val_loss did not improve from 0.12689\n",
            "Epoch 12/30\n",
            "10/10 [==============================] - 74s 7s/step - loss: 0.1171 - acc: 0.9531 - val_loss: 0.2669 - val_acc: 0.8758\n",
            "\n",
            "Epoch 00012: ReduceLROnPlateau reducing learning rate to 0.00010000000474974513.\n",
            "\n",
            "Epoch 00012: val_loss did not improve from 0.12689\n",
            "Epoch 13/30\n",
            "10/10 [==============================] - 74s 7s/step - loss: 0.1290 - acc: 0.9625 - val_loss: 0.2547 - val_acc: 0.8804\n",
            "\n",
            "Epoch 00013: val_loss did not improve from 0.12689\n",
            "Epoch 14/30\n",
            "10/10 [==============================] - 76s 8s/step - loss: 0.1368 - acc: 0.9375 - val_loss: 0.2518 - val_acc: 0.8836\n",
            "\n",
            "Epoch 00014: val_loss did not improve from 0.12689\n",
            "Epoch 15/30\n",
            "10/10 [==============================] - 74s 7s/step - loss: 0.1017 - acc: 0.9625 - val_loss: 0.2639 - val_acc: 0.8860\n",
            "\n",
            "Epoch 00015: val_loss did not improve from 0.12689\n",
            "Epoch 16/30\n",
            "10/10 [==============================] - 74s 7s/step - loss: 0.1536 - acc: 0.9531 - val_loss: 0.2707 - val_acc: 0.8800\n",
            "\n",
            "Epoch 00016: val_loss did not improve from 0.12689\n",
            "Epoch 17/30\n",
            "10/10 [==============================] - 73s 7s/step - loss: 0.1856 - acc: 0.9250 - val_loss: 0.2772 - val_acc: 0.8756\n",
            "\n",
            "Epoch 00017: ReduceLROnPlateau reducing learning rate to 1.0000000474974514e-05.\n",
            "\n",
            "Epoch 00017: val_loss did not improve from 0.12689\n",
            "Epoch 18/30\n",
            "10/10 [==============================] - 75s 7s/step - loss: 0.1424 - acc: 0.9500 - val_loss: 0.2638 - val_acc: 0.8804\n",
            "\n",
            "Epoch 00018: val_loss did not improve from 0.12689\n",
            "Epoch 19/30\n",
            "10/10 [==============================] - 74s 7s/step - loss: 0.0996 - acc: 0.9625 - val_loss: 0.2588 - val_acc: 0.8816\n",
            "\n",
            "Epoch 00019: val_loss did not improve from 0.12689\n",
            "Epoch 20/30\n",
            " 1/10 [==>...........................] - ETA: 1s - loss: 0.1217 - acc: 0.9375"
          ],
          "name": "stdout"
        },
        {
          "output_type": "stream",
          "text": [
            "10/10 [==============================] - 75s 7s/step - loss: 0.1545 - acc: 0.9250 - val_loss: 0.2572 - val_acc: 0.8836\n",
            "\n",
            "Epoch 00020: val_loss did not improve from 0.12689\n",
            "Epoch 21/30\n",
            "10/10 [==============================] - 76s 8s/step - loss: 0.1247 - acc: 0.9656 - val_loss: 0.2551 - val_acc: 0.8844\n",
            "\n",
            "Epoch 00021: val_loss did not improve from 0.12689\n",
            "Epoch 22/30\n",
            "10/10 [==============================] - 76s 8s/step - loss: 0.1229 - acc: 0.9437 - val_loss: 0.2575 - val_acc: 0.8824\n",
            "\n",
            "Epoch 00022: ReduceLROnPlateau reducing learning rate to 1.0000000656873453e-06.\n",
            "\n",
            "Epoch 00022: val_loss did not improve from 0.12689\n",
            "Epoch 23/30\n",
            "10/10 [==============================] - 74s 7s/step - loss: 0.1084 - acc: 0.9531 - val_loss: 0.2477 - val_acc: 0.8852\n",
            "\n",
            "Epoch 00023: val_loss did not improve from 0.12689\n",
            "Epoch 24/30\n",
            "10/10 [==============================] - 78s 8s/step - loss: 0.1602 - acc: 0.9313 - val_loss: 0.2485 - val_acc: 0.8878\n",
            "\n",
            "Epoch 00024: val_loss did not improve from 0.12689\n",
            "Epoch 25/30\n",
            "10/10 [==============================] - 78s 8s/step - loss: 0.2245 - acc: 0.9313 - val_loss: 0.2489 - val_acc: 0.8868\n",
            "\n",
            "Epoch 00025: val_loss did not improve from 0.12689\n",
            "Epoch 26/30\n",
            "10/10 [==============================] - 76s 8s/step - loss: 0.1218 - acc: 0.9437 - val_loss: 0.2501 - val_acc: 0.8864\n",
            "\n",
            "Epoch 00026: val_loss did not improve from 0.12689\n",
            "Epoch 27/30\n",
            "10/10 [==============================] - 78s 8s/step - loss: 0.1161 - acc: 0.9656 - val_loss: 0.2428 - val_acc: 0.8904\n",
            "\n",
            "Epoch 00027: ReduceLROnPlateau reducing learning rate to 1.0000001111620805e-07.\n",
            "\n",
            "Epoch 00027: val_loss did not improve from 0.12689\n",
            "Epoch 28/30\n",
            "10/10 [==============================] - 77s 8s/step - loss: 0.1973 - acc: 0.9250 - val_loss: 0.2416 - val_acc: 0.8920\n",
            "\n",
            "Epoch 00028: val_loss did not improve from 0.12689\n",
            "Epoch 29/30\n",
            "10/10 [==============================] - 80s 8s/step - loss: 0.1624 - acc: 0.9375 - val_loss: 0.2470 - val_acc: 0.8888\n",
            "\n",
            "Epoch 00029: val_loss did not improve from 0.12689\n",
            "Epoch 30/30\n",
            " 1/10 [==>...........................] - ETA: 1s - loss: 0.0387 - acc: 1.0000"
          ],
          "name": "stdout"
        },
        {
          "output_type": "stream",
          "text": [
            "10/10 [==============================] - 83s 8s/step - loss: 0.0907 - acc: 0.9656 - val_loss: 0.2374 - val_acc: 0.8918\n",
            "\n",
            "Epoch 00030: val_loss did not improve from 0.12689\n"
          ],
          "name": "stdout"
        },
        {
          "output_type": "execute_result",
          "data": {
            "text/plain": [
              "<keras.callbacks.History at 0x7f125ed42278>"
            ]
          },
          "metadata": {
            "tags": []
          },
          "execution_count": 143
        }
      ]
    },
    {
      "metadata": {
        "id": "psT_O00NqSWt",
        "colab_type": "text"
      },
      "cell_type": "markdown",
      "source": [
        "Сохраняем модель и веса"
      ]
    },
    {
      "metadata": {
        "id": "XmAJFhBsXgSy",
        "colab_type": "code",
        "colab": {
          "autoexec": {
            "startup": false,
            "wait_interval": 0
          }
        }
      },
      "cell_type": "code",
      "source": [
        "model.save(\"model.h5\")"
      ],
      "execution_count": 0,
      "outputs": []
    },
    {
      "metadata": {
        "id": "ZYn2r-MWYPrl",
        "colab_type": "code",
        "colab": {
          "autoexec": {
            "startup": false,
            "wait_interval": 0
          }
        }
      },
      "cell_type": "code",
      "source": [
        "from google.colab import auth\n",
        "auth.authenticate_user()\n",
        "from googleapiclient.discovery import build\n",
        "drive_service = build('drive', 'v3')"
      ],
      "execution_count": 0,
      "outputs": []
    },
    {
      "metadata": {
        "id": "pS9fjCP8Yamd",
        "colab_type": "code",
        "colab": {
          "autoexec": {
            "startup": false,
            "wait_interval": 0
          },
          "base_uri": "https://localhost:8080/",
          "height": 34
        },
        "outputId": "c637dbb8-9276-44e4-8237-05f33a871b3f",
        "executionInfo": {
          "status": "ok",
          "timestamp": 1531938971192,
          "user_tz": -180,
          "elapsed": 1989,
          "user": {
            "displayName": "Max Minenko",
            "photoUrl": "https://lh3.googleusercontent.com/a/default-user=s128",
            "userId": "109736211463040468281"
          }
        }
      },
      "cell_type": "code",
      "source": [
        "file_name = 'top_weights2.h5'\n",
        "\n",
        "from googleapiclient.http import MediaFileUpload\n",
        "\n",
        "file_metadata = {\n",
        "  'name': file_name,\n",
        "#  'mimeType': 'text/plain'\n",
        "}\n",
        "media = MediaFileUpload(file_name, \n",
        "#                        mimetype='text/plain',\n",
        "                        resumable=True)\n",
        "created = drive_service.files().create(body=file_metadata,\n",
        "                                       media_body=media,\n",
        "                                       fields='id').execute()\n",
        "print('File ID: {}'.format(created.get('id')))"
      ],
      "execution_count": 146,
      "outputs": [
        {
          "output_type": "stream",
          "text": [
            "File ID: 1pubf_uQO3sKeLyGwNkOtc7axJTsk0Y11\n"
          ],
          "name": "stdout"
        }
      ]
    },
    {
      "metadata": {
        "id": "FPO3d80GqXM0",
        "colab_type": "text"
      },
      "cell_type": "markdown",
      "source": [
        "## Предсказание и сабмит"
      ]
    },
    {
      "metadata": {
        "id": "MD8kTiB4U0SR",
        "colab_type": "code",
        "colab": {
          "autoexec": {
            "startup": false,
            "wait_interval": 0
          }
        }
      },
      "cell_type": "code",
      "source": [
        "model.load_weights(filepath='top_weights2.h5')"
      ],
      "execution_count": 0,
      "outputs": []
    },
    {
      "metadata": {
        "id": "kgO0gIeLtNJv",
        "colab_type": "code",
        "colab": {
          "autoexec": {
            "startup": false,
            "wait_interval": 0
          }
        }
      },
      "cell_type": "code",
      "source": [
        "# загружаем входное изображение и предобрабатываем\n",
        "def load_image(path, target_size=IMG_SIZE):\n",
        "    img = load_img(path, target_size=target_size)  # загрузка и масштабирование изображения\n",
        "    array = img_to_array(img)\n",
        "    return preprocess_input(array)  # предобработка для MobileNet\n",
        "def predict_generator(files):\n",
        "    while True:\n",
        "        for path in files:\n",
        "            yield np.array([load_image(path)])"
      ],
      "execution_count": 0,
      "outputs": []
    },
    {
      "metadata": {
        "id": "_NCnE6zOta1D",
        "colab_type": "code",
        "colab": {
          "autoexec": {
            "startup": false,
            "wait_interval": 0
          }
        }
      },
      "cell_type": "code",
      "source": [
        "import re\n",
        "from glob import glob\n",
        "\n",
        "test_files = glob('./data/test/test/*.jpg')"
      ],
      "execution_count": 0,
      "outputs": []
    },
    {
      "metadata": {
        "id": "3mB1ja6WQHLi",
        "colab_type": "code",
        "colab": {
          "autoexec": {
            "startup": false,
            "wait_interval": 0
          },
          "base_uri": "https://localhost:8080/",
          "height": 34
        },
        "outputId": "bb6271ad-d12b-4049-c7d8-5f36a7a846c4",
        "executionInfo": {
          "status": "ok",
          "timestamp": 1531939973333,
          "user_tz": -180,
          "elapsed": 167307,
          "user": {
            "displayName": "Max Minenko",
            "photoUrl": "https://lh3.googleusercontent.com/a/default-user=s128",
            "userId": "109736211463040468281"
          }
        }
      },
      "cell_type": "code",
      "source": [
        "pred = model.predict_generator(predict_generator(test_files), len(test_files), max_queue_size=500, verbose=1)"
      ],
      "execution_count": 162,
      "outputs": [
        {
          "output_type": "stream",
          "text": [
            "12500/12500 [==============================] - 167s 13ms/step\n"
          ],
          "name": "stdout"
        }
      ]
    },
    {
      "metadata": {
        "id": "yO8ih_tpVT5s",
        "colab_type": "code",
        "colab": {
          "autoexec": {
            "startup": false,
            "wait_interval": 0
          },
          "base_uri": "https://localhost:8080/",
          "height": 34
        },
        "outputId": "a4913349-25b3-4860-b5ae-860843018ac1",
        "executionInfo": {
          "status": "ok",
          "timestamp": 1531939977947,
          "user_tz": -180,
          "elapsed": 698,
          "user": {
            "displayName": "Max Minenko",
            "photoUrl": "https://lh3.googleusercontent.com/a/default-user=s128",
            "userId": "109736211463040468281"
          }
        }
      },
      "cell_type": "code",
      "source": [
        "train_generator.class_indices"
      ],
      "execution_count": 163,
      "outputs": [
        {
          "output_type": "execute_result",
          "data": {
            "text/plain": [
              "{'cats': 0, 'dogs': 1}"
            ]
          },
          "metadata": {
            "tags": []
          },
          "execution_count": 163
        }
      ]
    },
    {
      "metadata": {
        "id": "-DsOknfcVvDe",
        "colab_type": "code",
        "colab": {
          "autoexec": {
            "startup": false,
            "wait_interval": 0
          },
          "base_uri": "https://localhost:8080/",
          "height": 34
        },
        "outputId": "c4996928-af28-4cc8-e28c-6d856c8dcd16",
        "executionInfo": {
          "status": "ok",
          "timestamp": 1531939979442,
          "user_tz": -180,
          "elapsed": 475,
          "user": {
            "displayName": "Max Minenko",
            "photoUrl": "https://lh3.googleusercontent.com/a/default-user=s128",
            "userId": "109736211463040468281"
          }
        }
      },
      "cell_type": "code",
      "source": [
        "pred.shape"
      ],
      "execution_count": 164,
      "outputs": [
        {
          "output_type": "execute_result",
          "data": {
            "text/plain": [
              "(12500, 1)"
            ]
          },
          "metadata": {
            "tags": []
          },
          "execution_count": 164
        }
      ]
    },
    {
      "metadata": {
        "id": "odZH2vdXWNh2",
        "colab_type": "code",
        "colab": {
          "autoexec": {
            "startup": false,
            "wait_interval": 0
          }
        }
      },
      "cell_type": "code",
      "source": [
        "\n",
        "\n",
        "with open('submit.txt', 'w') as dst:\n",
        "    dst.write('id,label\\n')\n",
        "    for path, score in zip(test_files, pred):\n",
        "        dst.write('%s,%f\\n' % (re.search('(\\d+)', path).group(0), score))"
      ],
      "execution_count": 0,
      "outputs": []
    },
    {
      "metadata": {
        "id": "OaK4TfnMs2ED",
        "colab_type": "code",
        "colab": {
          "autoexec": {
            "startup": false,
            "wait_interval": 0
          }
        }
      },
      "cell_type": "code",
      "source": [
        "test_files"
      ],
      "execution_count": 0,
      "outputs": []
    },
    {
      "metadata": {
        "id": "Wfn3sTfjsW_J",
        "colab_type": "code",
        "colab": {
          "autoexec": {
            "startup": false,
            "wait_interval": 0
          },
          "base_uri": "https://localhost:8080/",
          "height": 191
        },
        "outputId": "acf8ec81-a3b9-43c3-905a-2ae3b337e40f",
        "executionInfo": {
          "status": "ok",
          "timestamp": 1531939988495,
          "user_tz": -180,
          "elapsed": 1573,
          "user": {
            "displayName": "Max Minenko",
            "photoUrl": "https://lh3.googleusercontent.com/a/default-user=s128",
            "userId": "109736211463040468281"
          }
        }
      },
      "cell_type": "code",
      "source": [
        "!head submit.txt"
      ],
      "execution_count": 167,
      "outputs": [
        {
          "output_type": "stream",
          "text": [
            "id,label\r\n",
            "9506,0.000011\r\n",
            "7955,0.000056\r\n",
            "10702,0.999776\r\n",
            "4862,0.802012\r\n",
            "8436,0.001531\r\n",
            "8921,0.000236\r\n",
            "802,0.002098\r\n",
            "10462,0.998887\r\n",
            "5730,0.968289\r\n"
          ],
          "name": "stdout"
        }
      ]
    },
    {
      "metadata": {
        "id": "uqpKgPTLaA-J",
        "colab_type": "code",
        "colab": {
          "autoexec": {
            "startup": false,
            "wait_interval": 0
          },
          "base_uri": "https://localhost:8080/",
          "height": 34
        },
        "outputId": "ee9b1fa4-2d0c-4fae-cd22-12249e1ed79f",
        "executionInfo": {
          "status": "ok",
          "timestamp": 1531939993322,
          "user_tz": -180,
          "elapsed": 1355,
          "user": {
            "displayName": "Max Minenko",
            "photoUrl": "https://lh3.googleusercontent.com/a/default-user=s128",
            "userId": "109736211463040468281"
          }
        }
      },
      "cell_type": "code",
      "source": [
        "file_name = 'submit.txt'\n",
        "\n",
        "from googleapiclient.http import MediaFileUpload\n",
        "\n",
        "file_metadata = {\n",
        "  'name': file_name,\n",
        "#  'mimeType': 'text/plain'\n",
        "}\n",
        "media = MediaFileUpload(file_name, \n",
        "#                        mimetype='text/plain',\n",
        "                        resumable=True)\n",
        "created = drive_service.files().create(body=file_metadata,\n",
        "                                       media_body=media,\n",
        "                                       fields='id').execute()\n",
        "print('File ID: {}'.format(created.get('id')))"
      ],
      "execution_count": 168,
      "outputs": [
        {
          "output_type": "stream",
          "text": [
            "File ID: 1dXJmfqIVQ7xCQVW0gFadN0WbESd2HO4V\n"
          ],
          "name": "stdout"
        }
      ]
    },
    {
      "metadata": {
        "id": "_ZLVgFTLv6Ow",
        "colab_type": "text"
      },
      "cell_type": "markdown",
      "source": [
        "public score: 0.10257"
      ]
    },
    {
      "metadata": {
        "id": "Nj8PuNunvTCJ",
        "colab_type": "code",
        "colab": {
          "autoexec": {
            "startup": false,
            "wait_interval": 0
          }
        }
      },
      "cell_type": "code",
      "source": [
        ""
      ],
      "execution_count": 0,
      "outputs": []
    }
  ]
}
