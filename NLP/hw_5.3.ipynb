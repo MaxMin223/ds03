{
 "cells": [
  {
   "cell_type": "markdown",
   "metadata": {},
   "source": [
    "#  Домашнее задание по NLP # 3 [100 баллов] \n",
    "## Классификация и генерация фамилий \n",
    "\n",
    "В этом домашнем задании вам предстоит классифицировать и генерировать фамилии на 19 разных языках. Обучающие данные хранятся в папке data и разбиты по языкам: один язык – одна подпапка. Ниже представлен код для считывания данных в словарь вида: \n",
    "```d{язык} : [список имен]```."
   ]
  },
  {
   "cell_type": "markdown",
   "metadata": {},
   "source": [
    "## Часть 1. Предварительная обработка данных [10 баллов]\n",
    "\n",
    "1. Удалите неоднозначные фамилии (т.е. одинаковые фамилии на разных языка), если такие есть;\n",
    "2. Оцените \n",
    "* среднюю длину фамилии по всей коллекции\n",
    "* по каждому языку\n",
    "3. Для последующей классификации (части 2 и 3) оздайте обучающее и тестовое множество так, чтобы в обучающем множестве классы были сбалансированы: то есть, в обучающее множество должно входить примерно одинаковое количество фамилий на разных ящыка. "
   ]
  },
  {
   "cell_type": "code",
   "execution_count": 1,
   "metadata": {
    "ExecuteTime": {
     "end_time": "2018-07-01T17:18:16.034857Z",
     "start_time": "2018-07-01T17:18:14.533204Z"
    }
   },
   "outputs": [],
   "source": [
    "import numpy as np\n",
    "import pandas as pd\n",
    "import matplotlib.pyplot as plt\n",
    "%matplotlib inline\n",
    "import seaborn as sns; sns.set()\n",
    "import glob\n",
    "\n",
    "from sklearn.model_selection import train_test_split\n",
    "from sklearn.preprocessing import LabelEncoder\n",
    "\n",
    "import warnings\n",
    "warnings.simplefilter('ignore')\n",
    "\n",
    "import nltk"
   ]
  },
  {
   "cell_type": "code",
   "execution_count": 2,
   "metadata": {
    "ExecuteTime": {
     "end_time": "2018-07-01T17:18:16.258972Z",
     "start_time": "2018-07-01T17:18:16.137073Z"
    }
   },
   "outputs": [],
   "source": [
    "df=pd.DataFrame()\n",
    "for filename in glob.glob('./data/names/*.txt'):\n",
    "    category = filename.split('/')[-1].split('.')[0]\n",
    "    df_temp = pd.read_csv(filename, names=['names'], encoding='utf8')\n",
    "    df_temp['labels'] = category\n",
    "    df = pd.concat([df,df_temp], ignore_index=True)\n",
    "df['names'] = df['names'].str.lower()"
   ]
  },
  {
   "cell_type": "code",
   "execution_count": 3,
   "metadata": {
    "ExecuteTime": {
     "end_time": "2018-07-01T17:18:17.588258Z",
     "start_time": "2018-07-01T17:18:17.569924Z"
    }
   },
   "outputs": [
    {
     "data": {
      "text/html": [
       "<div>\n",
       "<style scoped>\n",
       "    .dataframe tbody tr th:only-of-type {\n",
       "        vertical-align: middle;\n",
       "    }\n",
       "\n",
       "    .dataframe tbody tr th {\n",
       "        vertical-align: top;\n",
       "    }\n",
       "\n",
       "    .dataframe thead th {\n",
       "        text-align: right;\n",
       "    }\n",
       "</style>\n",
       "<table border=\"1\" class=\"dataframe\">\n",
       "  <thead>\n",
       "    <tr style=\"text-align: right;\">\n",
       "      <th></th>\n",
       "      <th>names</th>\n",
       "      <th>labels</th>\n",
       "    </tr>\n",
       "  </thead>\n",
       "  <tbody>\n",
       "    <tr>\n",
       "      <th>5998</th>\n",
       "      <td>slattery</td>\n",
       "      <td>English</td>\n",
       "    </tr>\n",
       "    <tr>\n",
       "      <th>11064</th>\n",
       "      <td>dorofeev</td>\n",
       "      <td>Russian</td>\n",
       "    </tr>\n",
       "    <tr>\n",
       "      <th>2179</th>\n",
       "      <td>tsucgimoto</td>\n",
       "      <td>Japanese</td>\n",
       "    </tr>\n",
       "    <tr>\n",
       "      <th>12683</th>\n",
       "      <td>jadanovsky</td>\n",
       "      <td>Russian</td>\n",
       "    </tr>\n",
       "    <tr>\n",
       "      <th>18058</th>\n",
       "      <td>jon</td>\n",
       "      <td>Korean</td>\n",
       "    </tr>\n",
       "  </tbody>\n",
       "</table>\n",
       "</div>"
      ],
      "text/plain": [
       "            names    labels\n",
       "5998     slattery   English\n",
       "11064    dorofeev   Russian\n",
       "2179   tsucgimoto  Japanese\n",
       "12683  jadanovsky   Russian\n",
       "18058         jon    Korean"
      ]
     },
     "execution_count": 3,
     "metadata": {},
     "output_type": "execute_result"
    }
   ],
   "source": [
    "df.sample(5)"
   ]
  },
  {
   "cell_type": "code",
   "execution_count": 4,
   "metadata": {
    "ExecuteTime": {
     "end_time": "2018-07-01T17:18:18.749701Z",
     "start_time": "2018-07-01T17:18:18.594194Z"
    }
   },
   "outputs": [
    {
     "name": "stdout",
     "output_type": "stream",
     "text": [
      "['a', 'b', 'e', 'l', 'r', 'h', 'm', 'd', 't', 'c', 'u', 'i', 's', 'g', 'n', 'x', 'o', 'é', 'y', 'f', 'v', 'p', \"'\", 'z', ' ', 'j', 'q', 'ê', 'ç', 'w', 'k', 'ú', 'à', 'ó', 'ò', 'ù', 'ì', 'è', 'ã', 'õ', 'á', 'í', 'ñ', '-', '\\xa0', ':', 'ü', 'ä', 'ö', 'ß', 'ż', 'ń', 'ł', 'ś', 'ą', '/', '1']\n"
     ]
    }
   ],
   "source": [
    "chars = [char  for name in df['names'].tolist() for char in name]\n",
    "freq = nltk.FreqDist(chars)\n",
    "\n",
    "print(list(freq.keys()))"
   ]
  },
  {
   "cell_type": "code",
   "execution_count": 5,
   "metadata": {
    "ExecuteTime": {
     "end_time": "2018-07-01T17:18:19.497911Z",
     "start_time": "2018-07-01T17:18:19.450125Z"
    }
   },
   "outputs": [
    {
     "data": {
      "text/html": [
       "<div>\n",
       "<style scoped>\n",
       "    .dataframe tbody tr th:only-of-type {\n",
       "        vertical-align: middle;\n",
       "    }\n",
       "\n",
       "    .dataframe tbody tr th {\n",
       "        vertical-align: top;\n",
       "    }\n",
       "\n",
       "    .dataframe thead th {\n",
       "        text-align: right;\n",
       "    }\n",
       "</style>\n",
       "<table border=\"1\" class=\"dataframe\">\n",
       "  <thead>\n",
       "    <tr style=\"text-align: right;\">\n",
       "      <th></th>\n",
       "      <th>names</th>\n",
       "      <th>labels</th>\n",
       "    </tr>\n",
       "  </thead>\n",
       "  <tbody>\n",
       "    <tr>\n",
       "      <th>18354</th>\n",
       "      <td>lu:</td>\n",
       "      <td>Chinese</td>\n",
       "    </tr>\n",
       "    <tr>\n",
       "      <th>19819</th>\n",
       "      <td>maxa/b</td>\n",
       "      <td>Czech</td>\n",
       "    </tr>\n",
       "    <tr>\n",
       "      <th>19915</th>\n",
       "      <td>rafaj1</td>\n",
       "      <td>Czech</td>\n",
       "    </tr>\n",
       "    <tr>\n",
       "      <th>20028</th>\n",
       "      <td>urbanek1</td>\n",
       "      <td>Czech</td>\n",
       "    </tr>\n",
       "    <tr>\n",
       "      <th>20057</th>\n",
       "      <td>whitmire1</td>\n",
       "      <td>Czech</td>\n",
       "    </tr>\n",
       "  </tbody>\n",
       "</table>\n",
       "</div>"
      ],
      "text/plain": [
       "           names   labels\n",
       "18354        lu:  Chinese\n",
       "19819     maxa/b    Czech\n",
       "19915     rafaj1    Czech\n",
       "20028   urbanek1    Czech\n",
       "20057  whitmire1    Czech"
      ]
     },
     "execution_count": 5,
     "metadata": {},
     "output_type": "execute_result"
    }
   ],
   "source": [
    "df[df['names'].str.contains('[:/1]+', regex=True)]"
   ]
  },
  {
   "cell_type": "code",
   "execution_count": 6,
   "metadata": {
    "ExecuteTime": {
     "end_time": "2018-07-01T17:18:20.419124Z",
     "start_time": "2018-07-01T17:18:20.360532Z"
    }
   },
   "outputs": [],
   "source": [
    "df['names'] = df['names'].str.replace('[:/1]+','', regex=True)\n",
    "df['names'] = df['names'].str.strip()"
   ]
  },
  {
   "cell_type": "code",
   "execution_count": 7,
   "metadata": {
    "ExecuteTime": {
     "end_time": "2018-07-01T17:18:21.328003Z",
     "start_time": "2018-07-01T17:18:21.295067Z"
    }
   },
   "outputs": [],
   "source": [
    "#удалим неоднозначные фамилии\n",
    "df.drop(df[df.names.str.contains('to the first')].index, inplace=True)\n",
    "df.drop_duplicates(['names'], keep=False, inplace=True)"
   ]
  },
  {
   "cell_type": "code",
   "execution_count": 8,
   "metadata": {
    "ExecuteTime": {
     "end_time": "2018-07-01T17:18:22.044305Z",
     "start_time": "2018-07-01T17:18:21.904169Z"
    }
   },
   "outputs": [
    {
     "name": "stdout",
     "output_type": "stream",
     "text": [
      "['a', 'r', 'c', 'h', 'm', 'b', 'u', 'l', 't', 'i', 's', 'e', 'd', 'n', 'x', 'é', 'g', 'o', 'f', 'y', 'v', 'p', \"'\", 'z', ' ', 'j', 'ê', 'q', 'ç', 'w', 'k', 'ú', 'à', 'ò', 'ù', 'ì', 'è', 'ã', 'õ', 'á', 'í', 'ó', 'ñ', '-', 'ü', 'ä', 'ö', 'ß', 'ż', 'ń', 'ł', 'ś', 'ą']\n"
     ]
    }
   ],
   "source": [
    "chars = [char  for name in df['names'].tolist() for char in name]\n",
    "freq = nltk.FreqDist(chars)\n",
    "\n",
    "print(list(freq.keys()))"
   ]
  },
  {
   "cell_type": "code",
   "execution_count": 9,
   "metadata": {
    "ExecuteTime": {
     "end_time": "2018-07-01T17:18:22.955432Z",
     "start_time": "2018-07-01T17:18:22.946288Z"
    }
   },
   "outputs": [
    {
     "data": {
      "text/plain": [
       "(16759, 2)"
      ]
     },
     "execution_count": 9,
     "metadata": {},
     "output_type": "execute_result"
    }
   ],
   "source": [
    "df.shape"
   ]
  },
  {
   "cell_type": "code",
   "execution_count": 10,
   "metadata": {
    "ExecuteTime": {
     "end_time": "2018-07-01T17:18:23.923810Z",
     "start_time": "2018-07-01T17:18:23.910903Z"
    }
   },
   "outputs": [],
   "source": [
    "df['len'] = df['names'].str.len()"
   ]
  },
  {
   "cell_type": "code",
   "execution_count": 11,
   "metadata": {
    "ExecuteTime": {
     "end_time": "2018-07-01T17:18:24.531043Z",
     "start_time": "2018-07-01T17:18:24.497570Z"
    }
   },
   "outputs": [
    {
     "data": {
      "text/html": [
       "<div>\n",
       "<style scoped>\n",
       "    .dataframe tbody tr th:only-of-type {\n",
       "        vertical-align: middle;\n",
       "    }\n",
       "\n",
       "    .dataframe tbody tr th {\n",
       "        vertical-align: top;\n",
       "    }\n",
       "\n",
       "    .dataframe thead th {\n",
       "        text-align: right;\n",
       "    }\n",
       "</style>\n",
       "<table border=\"1\" class=\"dataframe\">\n",
       "  <thead>\n",
       "    <tr style=\"text-align: right;\">\n",
       "      <th></th>\n",
       "      <th>count</th>\n",
       "      <th>mean</th>\n",
       "      <th>std</th>\n",
       "      <th>min</th>\n",
       "      <th>25%</th>\n",
       "      <th>50%</th>\n",
       "      <th>75%</th>\n",
       "      <th>max</th>\n",
       "    </tr>\n",
       "  </thead>\n",
       "  <tbody>\n",
       "    <tr>\n",
       "      <th>len</th>\n",
       "      <td>16759.0</td>\n",
       "      <td>7.431231</td>\n",
       "      <td>2.057598</td>\n",
       "      <td>2.0</td>\n",
       "      <td>6.0</td>\n",
       "      <td>7.0</td>\n",
       "      <td>9.0</td>\n",
       "      <td>20.0</td>\n",
       "    </tr>\n",
       "  </tbody>\n",
       "</table>\n",
       "</div>"
      ],
      "text/plain": [
       "       count      mean       std  min  25%  50%  75%   max\n",
       "len  16759.0  7.431231  2.057598  2.0  6.0  7.0  9.0  20.0"
      ]
     },
     "execution_count": 11,
     "metadata": {},
     "output_type": "execute_result"
    }
   ],
   "source": [
    "#статистики длины имен\n",
    "df.describe().T"
   ]
  },
  {
   "cell_type": "code",
   "execution_count": 12,
   "metadata": {
    "ExecuteTime": {
     "end_time": "2018-07-01T17:18:25.489840Z",
     "start_time": "2018-07-01T17:18:25.478586Z"
    }
   },
   "outputs": [
    {
     "data": {
      "text/plain": [
       "labels\n",
       "Chinese       3.702703\n",
       "Czech         6.672566\n",
       "Dutch         7.166667\n",
       "English       6.433839\n",
       "French        7.100962\n",
       "German        6.867797\n",
       "Greek         8.789474\n",
       "Irish         7.367089\n",
       "Italian       7.054962\n",
       "Japanese      6.723751\n",
       "Korean        3.459016\n",
       "Polish        7.333333\n",
       "Portuguese    6.593750\n",
       "Russian       8.097904\n",
       "Scottish      3.000000\n",
       "Spanish       6.739726\n",
       "Vietnamese    3.849057\n",
       "Name: len, dtype: float64"
      ]
     },
     "execution_count": 12,
     "metadata": {},
     "output_type": "execute_result"
    }
   ],
   "source": [
    "#средняя длина по классам\n",
    "df.groupby('labels')['len'].agg('mean')"
   ]
  },
  {
   "cell_type": "code",
   "execution_count": 13,
   "metadata": {
    "ExecuteTime": {
     "end_time": "2018-07-01T17:18:27.772506Z",
     "start_time": "2018-07-01T17:18:27.761214Z"
    }
   },
   "outputs": [
    {
     "data": {
      "text/plain": [
       "Russian       9254\n",
       "English       3363\n",
       "Japanese       981\n",
       "Italian        655\n",
       "German         590\n",
       "Czech          452\n",
       "Dutch          234\n",
       "Spanish        219\n",
       "French         208\n",
       "Greek          190\n",
       "Chinese        185\n",
       "Irish          158\n",
       "Polish         123\n",
       "Korean          61\n",
       "Vietnamese      53\n",
       "Portuguese      32\n",
       "Scottish         1\n",
       "Name: labels, dtype: int64"
      ]
     },
     "execution_count": 13,
     "metadata": {},
     "output_type": "execute_result"
    }
   ],
   "source": [
    "df['labels'].value_counts()"
   ]
  },
  {
   "cell_type": "code",
   "execution_count": 14,
   "metadata": {
    "ExecuteTime": {
     "end_time": "2018-07-01T17:18:29.492718Z",
     "start_time": "2018-07-01T17:18:29.485626Z"
    }
   },
   "outputs": [],
   "source": [
    "#после удаления неоднозначных фамилий, шотландская осталась только одна. Не повезвло шотландцам\n",
    "df.drop(df[df.labels=='Scottish'].index, inplace=True)"
   ]
  },
  {
   "cell_type": "code",
   "execution_count": 15,
   "metadata": {
    "ExecuteTime": {
     "end_time": "2018-07-01T17:18:30.451990Z",
     "start_time": "2018-07-01T17:18:30.430917Z"
    }
   },
   "outputs": [
    {
     "data": {
      "text/plain": [
       "13    9254\n",
       "3     3363\n",
       "9      981\n",
       "8      655\n",
       "5      590\n",
       "1      452\n",
       "2      234\n",
       "14     219\n",
       "4      208\n",
       "6      190\n",
       "0      185\n",
       "7      158\n",
       "11     123\n",
       "10      61\n",
       "15      53\n",
       "12      32\n",
       "Name: labels, dtype: int64"
      ]
     },
     "execution_count": 15,
     "metadata": {},
     "output_type": "execute_result"
    }
   ],
   "source": [
    "le = LabelEncoder()\n",
    "df['labels'] = le.fit_transform(df['labels'])\n",
    "labels=le.classes_\n",
    "df['labels'].value_counts()"
   ]
  },
  {
   "cell_type": "code",
   "execution_count": 16,
   "metadata": {
    "ExecuteTime": {
     "end_time": "2018-07-01T17:18:31.797090Z",
     "start_time": "2018-07-01T17:18:31.793280Z"
    }
   },
   "outputs": [
    {
     "name": "stdout",
     "output_type": "stream",
     "text": [
      "['Chinese' 'Czech' 'Dutch' 'English' 'French' 'German' 'Greek' 'Irish'\n",
      " 'Italian' 'Japanese' 'Korean' 'Polish' 'Portuguese' 'Russian' 'Spanish'\n",
      " 'Vietnamese']\n"
     ]
    }
   ],
   "source": [
    "print(labels)"
   ]
  },
  {
   "cell_type": "code",
   "execution_count": 17,
   "metadata": {
    "ExecuteTime": {
     "end_time": "2018-07-01T17:18:33.173477Z",
     "start_time": "2018-07-01T17:18:33.152910Z"
    }
   },
   "outputs": [
    {
     "data": {
      "text/plain": [
       "13    7403\n",
       "3     2690\n",
       "9      785\n",
       "8      524\n",
       "5      472\n",
       "1      362\n",
       "2      187\n",
       "14     175\n",
       "4      166\n",
       "6      152\n",
       "0      148\n",
       "7      126\n",
       "11      98\n",
       "10      49\n",
       "15      43\n",
       "12      26\n",
       "Name: labels, dtype: int64"
      ]
     },
     "execution_count": 17,
     "metadata": {},
     "output_type": "execute_result"
    }
   ],
   "source": [
    "#делаем стратифицированное разбиение на train и test\n",
    "X_train, X_test, y_train, y_test = train_test_split(df['names'], df['labels'], test_size=0.20, stratify=df['labels'], random_state=42)\n",
    "y_train.value_counts()"
   ]
  },
  {
   "cell_type": "markdown",
   "metadata": {},
   "source": [
    "##  Часть 2. Базовый метод классификации [20 баллов]\n",
    "\n",
    "\n",
    "\n",
    "Используйте метод наивного Байеса, логистическую регрессию или любой другой метод для классификации фамилий: в качестве признаков используйте символьные $n$-граммы. Сравните результаты, получаемые при разных $n=2,3,4$ по $F$-мере и аккуратности. В каких случаях метод ошибается?\n",
    "\n",
    "Для генерации $n$-грамм используйте:"
   ]
  },
  {
   "cell_type": "code",
   "execution_count": 18,
   "metadata": {
    "ExecuteTime": {
     "end_time": "2018-07-01T17:18:36.215353Z",
     "start_time": "2018-07-01T17:18:36.174186Z"
    }
   },
   "outputs": [],
   "source": [
    "from sklearn.pipeline import Pipeline\n",
    "from sklearn.preprocessing import LabelEncoder\n",
    "from sklearn.feature_extraction.text import CountVectorizer, TfidfTransformer\n",
    "from sklearn.ensemble import RandomForestClassifier\n",
    "from sklearn.linear_model import LogisticRegression\n",
    "from sklearn.naive_bayes import MultinomialNB\n",
    "from sklearn.model_selection import train_test_split\n",
    "from sklearn.metrics import accuracy_score, f1_score, classification_report, confusion_matrix"
   ]
  },
  {
   "cell_type": "markdown",
   "metadata": {},
   "source": [
    "Для генерации символьных ngram будем использовать CountVectorizer "
   ]
  },
  {
   "cell_type": "code",
   "execution_count": 25,
   "metadata": {
    "ExecuteTime": {
     "end_time": "2018-07-01T09:47:50.616233Z",
     "start_time": "2018-07-01T09:47:50.444572Z"
    }
   },
   "outputs": [
    {
     "name": "stdout",
     "output_type": "stream",
     "text": [
      "Размер словаря биграмм: 783\n",
      "(13406,)\n",
      "(13406, 783)\n"
     ]
    }
   ],
   "source": [
    "#биграммы\n",
    "vect = CountVectorizer(analyzer='char', ngram_range=(2,2))\n",
    "X_train_v = vect.fit_transform(X_train)\n",
    "print('Размер словаря биграмм: {}'.format(len(vect.vocabulary_)))\n",
    "print(X_train.shape)\n",
    "print(X_train_v.shape)"
   ]
  },
  {
   "cell_type": "code",
   "execution_count": 26,
   "metadata": {
    "ExecuteTime": {
     "end_time": "2018-07-01T09:47:51.580479Z",
     "start_time": "2018-07-01T09:47:51.405717Z"
    }
   },
   "outputs": [
    {
     "name": "stdout",
     "output_type": "stream",
     "text": [
      "Размер словаря триграмм: 5780\n",
      "(13406,)\n",
      "(13406, 5780)\n"
     ]
    }
   ],
   "source": [
    "#триграммы\n",
    "vect = CountVectorizer(analyzer='char', ngram_range=(3,3))\n",
    "X_train_v = vect.fit_transform(X_train)\n",
    "print('Размер словаря триграмм: {}'.format(len(vect.vocabulary_)))\n",
    "print(X_train.shape)\n",
    "print(X_train_v.shape)"
   ]
  },
  {
   "cell_type": "code",
   "execution_count": 27,
   "metadata": {
    "ExecuteTime": {
     "end_time": "2018-07-01T09:47:52.675814Z",
     "start_time": "2018-07-01T09:47:52.492026Z"
    }
   },
   "outputs": [
    {
     "name": "stdout",
     "output_type": "stream",
     "text": [
      "Размер словаря 4-грамм: 19242\n",
      "(13406,)\n",
      "(13406, 19242)\n"
     ]
    }
   ],
   "source": [
    "#4-граммы\n",
    "vect = CountVectorizer(analyzer='char', ngram_range=(4,4))\n",
    "X_train_v = vect.fit_transform(X_train)\n",
    "print('Размер словаря 4-грамм: {}'.format(len(vect.vocabulary_)))\n",
    "print(X_train.shape)\n",
    "print(X_train_v.shape)"
   ]
  },
  {
   "cell_type": "markdown",
   "metadata": {},
   "source": [
    "Проведем классификацию несколькими разными моделями на разной размерности ngram"
   ]
  },
  {
   "cell_type": "markdown",
   "metadata": {},
   "source": [
    "### MultinomialNB"
   ]
  },
  {
   "cell_type": "markdown",
   "metadata": {},
   "source": [
    "#### ngram = 2"
   ]
  },
  {
   "cell_type": "code",
   "execution_count": 22,
   "metadata": {
    "ExecuteTime": {
     "end_time": "2018-06-30T22:19:24.815956Z",
     "start_time": "2018-06-30T22:19:24.364205Z"
    }
   },
   "outputs": [
    {
     "name": "stdout",
     "output_type": "stream",
     "text": [
      "MultinomialNB, ngram = 2:\n",
      "Accuracy train: 0.7996\n",
      "Accuracy test: 0.7798\n",
      "F1 train: 0.7818\n",
      "F1 test: 0.7563\n",
      "             precision    recall  f1-score   support\n",
      "\n",
      "    Chinese       1.00      0.19      0.32        37\n",
      "      Czech       0.69      0.12      0.21        90\n",
      "      Dutch       0.68      0.36      0.47        47\n",
      "    English       0.68      0.79      0.73       673\n",
      "     French       0.75      0.14      0.24        42\n",
      "     German       0.53      0.49      0.51       118\n",
      "      Greek       0.64      0.18      0.29        38\n",
      "      Irish       0.95      0.62      0.75        32\n",
      "    Italian       0.59      0.54      0.57       131\n",
      "   Japanese       0.69      0.72      0.71       196\n",
      "     Korean       0.00      0.00      0.00        12\n",
      "     Polish       0.86      0.24      0.38        25\n",
      " Portuguese       0.00      0.00      0.00         6\n",
      "    Russian       0.85      0.94      0.89      1851\n",
      "    Spanish       0.67      0.18      0.29        44\n",
      " Vietnamese       0.00      0.00      0.00        10\n",
      "\n",
      "avg / total       0.77      0.78      0.76      3352\n",
      "\n"
     ]
    }
   ],
   "source": [
    "pipe_nb = Pipeline([\n",
    "    ('vect', CountVectorizer(analyzer='char', ngram_range=(2,2))),\n",
    "    ('clf', MultinomialNB())\n",
    "])\n",
    "pipe_nb.fit(X_train, y_train)\n",
    "predict_train = pipe_nb.predict(X_train)\n",
    "predict_test = pipe_nb.predict(X_test)\n",
    "print('MultinomialNB, ngram = 2:')\n",
    "print('Accuracy train: {0:6.4f}'.format(accuracy_score(y_train, predict_train)))\n",
    "print('Accuracy test: {0:6.4f}'.format(accuracy_score(y_test, predict_test)))\n",
    "print('F1 train: {0:6.4f}'.format(f1_score(y_train, predict_train, average='weighted')))\n",
    "print('F1 test: {0:6.4f}'.format(f1_score(y_test, predict_test, average='weighted')))\n",
    "print(classification_report(y_test, predict_test, target_names=labels))\n"
   ]
  },
  {
   "cell_type": "markdown",
   "metadata": {
    "ExecuteTime": {
     "end_time": "2018-06-30T13:41:59.264319Z",
     "start_time": "2018-06-30T13:41:59.259602Z"
    }
   },
   "source": [
    "#### ngram = 3"
   ]
  },
  {
   "cell_type": "code",
   "execution_count": 23,
   "metadata": {
    "ExecuteTime": {
     "end_time": "2018-06-30T22:19:25.276948Z",
     "start_time": "2018-06-30T22:19:24.818833Z"
    }
   },
   "outputs": [
    {
     "name": "stdout",
     "output_type": "stream",
     "text": [
      "MultinomialNB, ngram = 3:\n",
      "Accuracy train: 0.8511\n",
      "Accuracy test: 0.7897\n",
      "F1 train: 0.8365\n",
      "F1 test: 0.7613\n",
      "             precision    recall  f1-score   support\n",
      "\n",
      "    Chinese       1.00      0.14      0.24        37\n",
      "      Czech       0.80      0.13      0.23        90\n",
      "      Dutch       1.00      0.45      0.62        47\n",
      "    English       0.69      0.85      0.76       673\n",
      "     French       0.75      0.14      0.24        42\n",
      "     German       0.52      0.36      0.43       118\n",
      "      Greek       0.73      0.21      0.33        38\n",
      "      Irish       0.82      0.28      0.42        32\n",
      "    Italian       0.68      0.51      0.59       131\n",
      "   Japanese       0.73      0.74      0.74       196\n",
      "     Korean       0.00      0.00      0.00        12\n",
      "     Polish       1.00      0.24      0.39        25\n",
      " Portuguese       1.00      0.17      0.29         6\n",
      "    Russian       0.85      0.94      0.89      1851\n",
      "    Spanish       0.83      0.11      0.20        44\n",
      " Vietnamese       0.00      0.00      0.00        10\n",
      "\n",
      "avg / total       0.79      0.79      0.76      3352\n",
      "\n"
     ]
    }
   ],
   "source": [
    "pipe_nb = Pipeline([\n",
    "    ('vect', CountVectorizer(analyzer='char', ngram_range=(3,3))),\n",
    "    ('clf', MultinomialNB())\n",
    "])\n",
    "pipe_nb.fit(X_train, y_train)\n",
    "predict_train = pipe_nb.predict(X_train)\n",
    "predict_test = pipe_nb.predict(X_test)\n",
    "print('MultinomialNB, ngram = 3:')\n",
    "print('Accuracy train: {0:6.4f}'.format(accuracy_score(y_train, predict_train)))\n",
    "print('Accuracy test: {0:6.4f}'.format(accuracy_score(y_test, predict_test)))\n",
    "print('F1 train: {0:6.4f}'.format(f1_score(y_train, predict_train, average='weighted')))\n",
    "print('F1 test: {0:6.4f}'.format(f1_score(y_test, predict_test, average='weighted')))\n",
    "print(classification_report(y_test, predict_test, target_names=labels))"
   ]
  },
  {
   "cell_type": "markdown",
   "metadata": {},
   "source": [
    "#### ngram = 4"
   ]
  },
  {
   "cell_type": "code",
   "execution_count": 24,
   "metadata": {
    "ExecuteTime": {
     "end_time": "2018-06-30T22:19:25.770910Z",
     "start_time": "2018-06-30T22:19:25.281575Z"
    }
   },
   "outputs": [
    {
     "name": "stdout",
     "output_type": "stream",
     "text": [
      "MultinomialNB, ngram = 4:\n",
      "Accuracy train: 0.8889\n",
      "Accuracy test: 0.7622\n",
      "F1 train: 0.8748\n",
      "F1 test: 0.7189\n",
      "             precision    recall  f1-score   support\n",
      "\n",
      "    Chinese       0.00      0.00      0.00        37\n",
      "      Czech       0.90      0.10      0.18        90\n",
      "      Dutch       1.00      0.47      0.64        47\n",
      "    English       0.70      0.76      0.73       673\n",
      "     French       1.00      0.10      0.17        42\n",
      "     German       0.49      0.19      0.28       118\n",
      "      Greek       0.88      0.18      0.30        38\n",
      "      Irish       0.75      0.09      0.17        32\n",
      "    Italian       0.77      0.37      0.50       131\n",
      "   Japanese       0.90      0.64      0.75       196\n",
      "     Korean       0.00      0.00      0.00        12\n",
      "     Polish       1.00      0.12      0.21        25\n",
      " Portuguese       0.00      0.00      0.00         6\n",
      "    Russian       0.77      0.97      0.86      1851\n",
      "    Spanish       1.00      0.05      0.09        44\n",
      " Vietnamese       0.00      0.00      0.00        10\n",
      "\n",
      "avg / total       0.76      0.76      0.72      3352\n",
      "\n"
     ]
    }
   ],
   "source": [
    "pipe_nb = Pipeline([\n",
    "    ('vect', CountVectorizer(analyzer='char', ngram_range=(4,4))),\n",
    "    ('clf', MultinomialNB())\n",
    "])\n",
    "pipe_nb.fit(X_train, y_train)\n",
    "predict_train = pipe_nb.predict(X_train)\n",
    "predict_test = pipe_nb.predict(X_test)\n",
    "print('MultinomialNB, ngram = 4:')\n",
    "print('Accuracy train: {0:6.4f}'.format(accuracy_score(y_train, predict_train)))\n",
    "print('Accuracy test: {0:6.4f}'.format(accuracy_score(y_test, predict_test)))\n",
    "print('F1 train: {0:6.4f}'.format(f1_score(y_train, predict_train, average='weighted')))\n",
    "print('F1 test: {0:6.4f}'.format(f1_score(y_test, predict_test, average='weighted')))\n",
    "print(classification_report(y_test, predict_test, target_names=labels))"
   ]
  },
  {
   "cell_type": "markdown",
   "metadata": {},
   "source": [
    "#### Выводы"
   ]
  },
  {
   "cell_type": "markdown",
   "metadata": {},
   "source": [
    "Наилучший результат достигается на биграммах.\n",
    "\n",
    "С увеличением размерности векторов (ngram=3,4) по f-мере на train видно, что модель переобучается.\n",
    "\n",
    "По матрице ошибок, представленной ниже (ngram=4), видно, что модель не предсказала правильно ни одной китайской, корейской, вьетнамской и португальской фамилии. Большинство из них были предсказаны русскими фамилиями o_O"
   ]
  },
  {
   "cell_type": "code",
   "execution_count": 25,
   "metadata": {
    "ExecuteTime": {
     "end_time": "2018-06-30T22:19:26.471285Z",
     "start_time": "2018-06-30T22:19:25.773643Z"
    }
   },
   "outputs": [
    {
     "data": {
      "image/png": "[encoded data removed]",
      "text/plain": [
       "<Figure size 432x288 with 1 Axes>"
      ]
     },
     "metadata": {},
     "output_type": "display_data"
    }
   ],
   "source": [
    "sns.heatmap(data=confusion_matrix(y_test, predict_test), annot=True, fmt=\"d\", cbar=False, xticklabels=labels, yticklabels=labels, cmap='binary')\n",
    "plt.title(\"Confusion matrix\")\n",
    "plt.show()"
   ]
  },
  {
   "cell_type": "markdown",
   "metadata": {},
   "source": [
    "### RandomForestClassifier"
   ]
  },
  {
   "cell_type": "markdown",
   "metadata": {},
   "source": [
    "#### ngram = 2"
   ]
  },
  {
   "cell_type": "code",
   "execution_count": 26,
   "metadata": {
    "ExecuteTime": {
     "end_time": "2018-06-30T22:19:28.444424Z",
     "start_time": "2018-06-30T22:19:26.473305Z"
    }
   },
   "outputs": [
    {
     "name": "stdout",
     "output_type": "stream",
     "text": [
      "RandomForestClassifier, ngram = 2:\n",
      "Accuracy train: 0.7524\n",
      "Accuracy test: 0.7264\n",
      "F1 train: 0.6937\n",
      "F1 test: 0.6623\n",
      "             precision    recall  f1-score   support\n",
      "\n",
      "    Chinese       0.43      0.08      0.14        37\n",
      "      Czech       0.00      0.00      0.00        90\n",
      "      Dutch       1.00      0.17      0.29        47\n",
      "    English       0.57      0.80      0.67       673\n",
      "     French       0.00      0.00      0.00        42\n",
      "     German       0.56      0.08      0.13       118\n",
      "      Greek       0.00      0.00      0.00        38\n",
      "      Irish       1.00      0.03      0.06        32\n",
      "    Italian       0.83      0.04      0.07       131\n",
      "   Japanese       0.75      0.45      0.57       196\n",
      "     Korean       0.00      0.00      0.00        12\n",
      "     Polish       0.00      0.00      0.00        25\n",
      " Portuguese       0.00      0.00      0.00         6\n",
      "    Russian       0.79      0.96      0.87      1851\n",
      "    Spanish       0.71      0.11      0.20        44\n",
      " Vietnamese       0.00      0.00      0.00        10\n",
      "\n",
      "avg / total       0.69      0.73      0.66      3352\n",
      "\n"
     ]
    }
   ],
   "source": [
    "pipe_rf = Pipeline([\n",
    "    ('vect', CountVectorizer(analyzer='char', ngram_range=(2,2))),\n",
    "    ('clf', RandomForestClassifier(n_estimators=100, min_samples_leaf=5))\n",
    "])\n",
    "pipe_rf.fit(X_train, y_train)\n",
    "predict_train = pipe_rf.predict(X_train)\n",
    "predict_test = pipe_rf.predict(X_test)\n",
    "print('RandomForestClassifier, ngram = 2:')\n",
    "print('Accuracy train: {0:6.4f}'.format(accuracy_score(y_train, predict_train)))\n",
    "print('Accuracy test: {0:6.4f}'.format(accuracy_score(y_test, predict_test)))\n",
    "print('F1 train: {0:6.4f}'.format(f1_score(y_train, predict_train, average='weighted')))\n",
    "print('F1 test: {0:6.4f}'.format(f1_score(y_test, predict_test, average='weighted')))\n",
    "print(classification_report(y_test, predict_test, target_names=labels))"
   ]
  },
  {
   "cell_type": "markdown",
   "metadata": {},
   "source": [
    "#### ngram = 3"
   ]
  },
  {
   "cell_type": "code",
   "execution_count": 27,
   "metadata": {
    "ExecuteTime": {
     "end_time": "2018-06-30T22:19:31.284805Z",
     "start_time": "2018-06-30T22:19:28.446586Z"
    }
   },
   "outputs": [
    {
     "name": "stdout",
     "output_type": "stream",
     "text": [
      "RandomForestClassifier, ngram = 3:\n",
      "Accuracy train: 0.7710\n",
      "Accuracy test: 0.7440\n",
      "F1 train: 0.7271\n",
      "F1 test: 0.6943\n",
      "             precision    recall  f1-score   support\n",
      "\n",
      "    Chinese       0.55      0.16      0.25        37\n",
      "      Czech       0.50      0.02      0.04        90\n",
      "      Dutch       1.00      0.17      0.29        47\n",
      "    English       0.56      0.85      0.68       673\n",
      "     French       1.00      0.05      0.09        42\n",
      "     German       0.41      0.14      0.21       118\n",
      "      Greek       1.00      0.03      0.05        38\n",
      "      Irish       1.00      0.03      0.06        32\n",
      "    Italian       0.62      0.12      0.20       131\n",
      "   Japanese       0.76      0.64      0.69       196\n",
      "     Korean       0.00      0.00      0.00        12\n",
      "     Polish       0.00      0.00      0.00        25\n",
      " Portuguese       0.00      0.00      0.00         6\n",
      "    Russian       0.84      0.94      0.89      1851\n",
      "    Spanish       0.75      0.07      0.12        44\n",
      " Vietnamese       0.00      0.00      0.00        10\n",
      "\n",
      "avg / total       0.74      0.74      0.69      3352\n",
      "\n"
     ]
    }
   ],
   "source": [
    "pipe_rf = Pipeline([\n",
    "    ('vect', CountVectorizer(analyzer='char', ngram_range=(3,3))),\n",
    "    ('clf', RandomForestClassifier(n_estimators=100, min_samples_leaf=5))\n",
    "])\n",
    "pipe_rf.fit(X_train, y_train)\n",
    "predict_train = pipe_rf.predict(X_train)\n",
    "predict_test = pipe_rf.predict(X_test)\n",
    "print('RandomForestClassifier, ngram = 3:')\n",
    "print('Accuracy train: {0:6.4f}'.format(accuracy_score(y_train, predict_train)))\n",
    "print('Accuracy test: {0:6.4f}'.format(accuracy_score(y_test, predict_test)))\n",
    "print('F1 train: {0:6.4f}'.format(f1_score(y_train, predict_train, average='weighted')))\n",
    "print('F1 test: {0:6.4f}'.format(f1_score(y_test, predict_test, average='weighted')))\n",
    "print(classification_report(y_test, predict_test, target_names=labels))"
   ]
  },
  {
   "cell_type": "markdown",
   "metadata": {},
   "source": [
    "#### ngram = 4"
   ]
  },
  {
   "cell_type": "code",
   "execution_count": 28,
   "metadata": {
    "ExecuteTime": {
     "end_time": "2018-06-30T22:19:34.416528Z",
     "start_time": "2018-06-30T22:19:31.287282Z"
    }
   },
   "outputs": [
    {
     "name": "stdout",
     "output_type": "stream",
     "text": [
      "RandomForestClassifier, ngram = 4:\n",
      "Accuracy train: 0.6552\n",
      "Accuracy test: 0.6348\n",
      "F1 train: 0.5773\n",
      "F1 test: 0.5480\n",
      "             precision    recall  f1-score   support\n",
      "\n",
      "    Chinese       0.00      0.00      0.00        37\n",
      "      Czech       1.00      0.01      0.02        90\n",
      "      Dutch       1.00      0.09      0.16        47\n",
      "    English       0.80      0.28      0.41       673\n",
      "     French       0.00      0.00      0.00        42\n",
      "     German       0.85      0.09      0.17       118\n",
      "      Greek       1.00      0.08      0.15        38\n",
      "      Irish       0.00      0.00      0.00        32\n",
      "    Italian       0.44      0.03      0.06       131\n",
      "   Japanese       0.91      0.44      0.60       196\n",
      "     Korean       0.00      0.00      0.00        12\n",
      "     Polish       0.00      0.00      0.00        25\n",
      " Portuguese       0.00      0.00      0.00         6\n",
      "    Russian       0.61      0.99      0.76      1851\n",
      "    Spanish       0.00      0.00      0.00        44\n",
      " Vietnamese       0.00      0.00      0.00        10\n",
      "\n",
      "avg / total       0.65      0.63      0.55      3352\n",
      "\n"
     ]
    }
   ],
   "source": [
    "pipe_rf = Pipeline([\n",
    "    ('vect', CountVectorizer(analyzer='char', ngram_range=(4,4))),\n",
    "    ('clf', RandomForestClassifier(n_estimators=100, min_samples_leaf=5))\n",
    "])\n",
    "pipe_rf.fit(X_train, y_train)\n",
    "predict_train = pipe_rf.predict(X_train)\n",
    "predict_test = pipe_rf.predict(X_test)\n",
    "print('RandomForestClassifier, ngram = 4:')\n",
    "print('Accuracy train: {0:6.4f}'.format(accuracy_score(y_train, predict_train)))\n",
    "print('Accuracy test: {0:6.4f}'.format(accuracy_score(y_test, predict_test)))\n",
    "print('F1 train: {0:6.4f}'.format(f1_score(y_train, predict_train, average='weighted')))\n",
    "print('F1 test: {0:6.4f}'.format(f1_score(y_test, predict_test, average='weighted')))\n",
    "print(classification_report(y_test, predict_test, target_names=labels))"
   ]
  },
  {
   "cell_type": "markdown",
   "metadata": {},
   "source": [
    "#### Выводы"
   ]
  },
  {
   "cell_type": "markdown",
   "metadata": {},
   "source": [
    "В целом, случайный лес без настойки параметров (n_estimators=100, min_samples_leaf=5) показал результат хуже, чем наивный Байес. \n",
    "\n",
    "На все всех размерах биграмм переобучение модели не наблюдалось.\n",
    "По матрице ошибок модель так же ошибается в предсказании нескольких языков."
   ]
  },
  {
   "cell_type": "code",
   "execution_count": 29,
   "metadata": {
    "ExecuteTime": {
     "end_time": "2018-06-30T22:19:35.170644Z",
     "start_time": "2018-06-30T22:19:34.418434Z"
    }
   },
   "outputs": [
    {
     "data": {
      "image/png": "[encoded data removed]",
      "text/plain": [
       "<Figure size 432x288 with 1 Axes>"
      ]
     },
     "metadata": {},
     "output_type": "display_data"
    }
   ],
   "source": [
    "sns.heatmap(data=confusion_matrix(y_test, predict_test), annot=True, fmt=\"d\", cbar=False, xticklabels=labels, yticklabels=labels, cmap='binary')\n",
    "plt.title(\"Confusion matrix\")\n",
    "plt.show()"
   ]
  },
  {
   "cell_type": "markdown",
   "metadata": {},
   "source": [
    "### LogisticRegression"
   ]
  },
  {
   "cell_type": "markdown",
   "metadata": {},
   "source": [
    "#### ngram = 2"
   ]
  },
  {
   "cell_type": "code",
   "execution_count": 30,
   "metadata": {
    "ExecuteTime": {
     "end_time": "2018-06-30T22:19:36.327953Z",
     "start_time": "2018-06-30T22:19:35.173019Z"
    }
   },
   "outputs": [
    {
     "name": "stdout",
     "output_type": "stream",
     "text": [
      "LogisticRegression, ngram = 2:\n",
      "Accuracy train: 0.8520\n",
      "Accuracy test: 0.8177\n",
      "F1 train: 0.8397\n",
      "F1 test: 0.7985\n",
      "             precision    recall  f1-score   support\n",
      "\n",
      "    Chinese       0.90      0.51      0.66        37\n",
      "      Czech       0.42      0.12      0.19        90\n",
      "      Dutch       0.85      0.49      0.62        47\n",
      "    English       0.69      0.85      0.76       673\n",
      "     French       0.64      0.21      0.32        42\n",
      "     German       0.58      0.35      0.43       118\n",
      "      Greek       0.85      0.45      0.59        38\n",
      "      Irish       0.95      0.59      0.73        32\n",
      "    Italian       0.73      0.69      0.71       131\n",
      "   Japanese       0.83      0.82      0.82       196\n",
      "     Korean       0.00      0.00      0.00        12\n",
      "     Polish       0.78      0.28      0.41        25\n",
      " Portuguese       1.00      0.17      0.29         6\n",
      "    Russian       0.89      0.95      0.92      1851\n",
      "    Spanish       0.71      0.23      0.34        44\n",
      " Vietnamese       0.00      0.00      0.00        10\n",
      "\n",
      "avg / total       0.80      0.82      0.80      3352\n",
      "\n"
     ]
    }
   ],
   "source": [
    "pipe_lr = Pipeline([\n",
    "    ('vect', CountVectorizer(analyzer='char', ngram_range=(2,2))),\n",
    "    ('clf', LogisticRegression())\n",
    "])\n",
    "pipe_lr.fit(X_train, y_train)\n",
    "predict_train = pipe_lr.predict(X_train)\n",
    "predict_test = pipe_lr.predict(X_test)\n",
    "print('LogisticRegression, ngram = 2:')\n",
    "print('Accuracy train: {0:6.4f}'.format(accuracy_score(y_train, predict_train)))\n",
    "print('Accuracy test: {0:6.4f}'.format(accuracy_score(y_test, predict_test)))\n",
    "print('F1 train: {0:6.4f}'.format(f1_score(y_train, predict_train, average='weighted')))\n",
    "print('F1 test: {0:6.4f}'.format(f1_score(y_test, predict_test, average='weighted')))\n",
    "print(classification_report(y_test, predict_test, target_names=labels))"
   ]
  },
  {
   "cell_type": "markdown",
   "metadata": {},
   "source": [
    "#### ngram = 3"
   ]
  },
  {
   "cell_type": "code",
   "execution_count": 31,
   "metadata": {
    "ExecuteTime": {
     "end_time": "2018-06-30T22:19:37.425949Z",
     "start_time": "2018-06-30T22:19:36.332304Z"
    }
   },
   "outputs": [
    {
     "name": "stdout",
     "output_type": "stream",
     "text": [
      "LogisticRegression, ngram = 3:\n",
      "Accuracy train: 0.9122\n",
      "Accuracy test: 0.8097\n",
      "F1 train: 0.9050\n",
      "F1 test: 0.7835\n",
      "             precision    recall  f1-score   support\n",
      "\n",
      "    Chinese       0.73      0.30      0.42        37\n",
      "      Czech       0.68      0.17      0.27        90\n",
      "      Dutch       1.00      0.51      0.68        47\n",
      "    English       0.68      0.88      0.77       673\n",
      "     French       0.75      0.14      0.24        42\n",
      "     German       0.60      0.36      0.45       118\n",
      "      Greek       0.88      0.18      0.30        38\n",
      "      Irish       1.00      0.22      0.36        32\n",
      "    Italian       0.70      0.53      0.60       131\n",
      "   Japanese       0.86      0.74      0.80       196\n",
      "     Korean       0.00      0.00      0.00        12\n",
      "     Polish       1.00      0.20      0.33        25\n",
      " Portuguese       1.00      0.17      0.29         6\n",
      "    Russian       0.87      0.96      0.92      1851\n",
      "    Spanish       0.82      0.20      0.33        44\n",
      " Vietnamese       0.00      0.00      0.00        10\n",
      "\n",
      "avg / total       0.81      0.81      0.78      3352\n",
      "\n"
     ]
    }
   ],
   "source": [
    "pipe_lr = Pipeline([\n",
    "    ('vect', CountVectorizer(analyzer='char', ngram_range=(3,3))),\n",
    "    ('clf', LogisticRegression())\n",
    "])\n",
    "pipe_lr.fit(X_train, y_train)\n",
    "predict_train = pipe_lr.predict(X_train)\n",
    "predict_test = pipe_lr.predict(X_test)\n",
    "print('LogisticRegression, ngram = 3:')\n",
    "print('Accuracy train: {0:6.4f}'.format(accuracy_score(y_train, predict_train)))\n",
    "print('Accuracy test: {0:6.4f}'.format(accuracy_score(y_test, predict_test)))\n",
    "print('F1 train: {0:6.4f}'.format(f1_score(y_train, predict_train, average='weighted')))\n",
    "print('F1 test: {0:6.4f}'.format(f1_score(y_test, predict_test, average='weighted')))\n",
    "print(classification_report(y_test, predict_test, target_names=labels))"
   ]
  },
  {
   "cell_type": "markdown",
   "metadata": {},
   "source": [
    "#### ngram = 4"
   ]
  },
  {
   "cell_type": "code",
   "execution_count": 32,
   "metadata": {
    "ExecuteTime": {
     "end_time": "2018-06-30T22:19:38.640146Z",
     "start_time": "2018-06-30T22:19:37.428525Z"
    }
   },
   "outputs": [
    {
     "name": "stdout",
     "output_type": "stream",
     "text": [
      "LogisticRegression, ngram = 4:\n",
      "Accuracy train: 0.9062\n",
      "Accuracy test: 0.7563\n",
      "F1 train: 0.8930\n",
      "F1 test: 0.7071\n",
      "             precision    recall  f1-score   support\n",
      "\n",
      "    Chinese       0.00      0.00      0.00        37\n",
      "      Czech       0.83      0.06      0.10        90\n",
      "      Dutch       1.00      0.40      0.58        47\n",
      "    English       0.75      0.76      0.75       673\n",
      "     French       0.60      0.07      0.13        42\n",
      "     German       0.64      0.19      0.30       118\n",
      "      Greek       1.00      0.08      0.15        38\n",
      "      Irish       1.00      0.12      0.22        32\n",
      "    Italian       0.77      0.25      0.38       131\n",
      "   Japanese       0.95      0.58      0.72       196\n",
      "     Korean       0.00      0.00      0.00        12\n",
      "     Polish       1.00      0.12      0.21        25\n",
      " Portuguese       0.00      0.00      0.00         6\n",
      "    Russian       0.75      0.98      0.85      1851\n",
      "    Spanish       0.67      0.09      0.16        44\n",
      " Vietnamese       0.00      0.00      0.00        10\n",
      "\n",
      "avg / total       0.75      0.76      0.71      3352\n",
      "\n"
     ]
    }
   ],
   "source": [
    "pipe_lr = Pipeline([\n",
    "    ('vect', CountVectorizer(analyzer='char', ngram_range=(4,4))),\n",
    "    ('clf', LogisticRegression())\n",
    "])\n",
    "pipe_lr.fit(X_train, y_train)\n",
    "predict_train = pipe_lr.predict(X_train)\n",
    "predict_test = pipe_lr.predict(X_test)\n",
    "print('LogisticRegression, ngram = 4:')\n",
    "print('Accuracy train: {0:6.4f}'.format(accuracy_score(y_train, predict_train)))\n",
    "print('Accuracy test: {0:6.4f}'.format(accuracy_score(y_test, predict_test)))\n",
    "print('F1 train: {0:6.4f}'.format(f1_score(y_train, predict_train, average='weighted')))\n",
    "print('F1 test: {0:6.4f}'.format(f1_score(y_test, predict_test, average='weighted')))\n",
    "print(classification_report(y_test, predict_test, target_names=labels))"
   ]
  },
  {
   "cell_type": "markdown",
   "metadata": {},
   "source": [
    "#### Выводы"
   ]
  },
  {
   "cell_type": "markdown",
   "metadata": {},
   "source": [
    "Линейная модель с параметрами по умолчанию начинает переобучается уже даже на биграммах. Но f-мера лучше, чем у наивного Байеса. Дальнейшая регуляризация позволит еще больше повысить качество модели.\n",
    "\n",
    "Ошибается линейная модель на тех же языках, что и наивный Байес"
   ]
  },
  {
   "cell_type": "code",
   "execution_count": 33,
   "metadata": {
    "ExecuteTime": {
     "end_time": "2018-06-30T22:19:39.373666Z",
     "start_time": "2018-06-30T22:19:38.642715Z"
    }
   },
   "outputs": [
    {
     "data": {
      "image/png": "[encoded data removed]",
      "text/plain": [
       "<Figure size 432x288 with 1 Axes>"
      ]
     },
     "metadata": {},
     "output_type": "display_data"
    }
   ],
   "source": [
    "sns.heatmap(data=confusion_matrix(y_test, predict_test), annot=True, fmt=\"d\", cbar=False, xticklabels=labels, yticklabels=labels, cmap='binary')\n",
    "plt.title(\"Confusion matrix\")\n",
    "plt.show()"
   ]
  },
  {
   "cell_type": "markdown",
   "metadata": {},
   "source": [
    "##  Часть 3. Нейронная сеть [35 баллов]\n",
    "\n",
    "\n",
    "Используйте  реккурентную нейронную сеть с  LSTM для решения задачи. В ней может быть несколько слоев с LSTM, несколько слоев c Bidirectional(LSTM).  У нейронной сети один выход, определяющий класс фамилии. \n",
    "\n",
    "Представление имени для классификации в этом случае: \n",
    "1 вариант: бинарная матрица размера (количество букв в корпусе $\\times$ максимальная длина имени). Обозначим его через $x$. Если первая буква имени a, то $x[1][1] = 1$, если вторая – b, то  $x[2][1] = 1$. То есть, используем one hot encoding для векторизации букв.  \n",
    "2 вариант: Embedding'и символов. \n",
    "\n",
    "Выберите тот вариант, который вам проще или интереснее реализовать :) \n",
    "\n",
    "Не забудьте про регуляризацию нейронной сети дропаутами. \n",
    "\n",
    "Сравните результаты классификации разными методами по accuracy, micro- и macro- F-measure, precision, recall. Какой метод лучше и почему?\n",
    "\n",
    "Сравните результаты, получаемые при разных значениях дропаута, разных числах узлов на слоях нейронной сети по $F$-мере и аккуратности. В каких случаях нейронная сеть ошибается?"
   ]
  },
  {
   "cell_type": "markdown",
   "metadata": {},
   "source": [
    "Если совсем не получается запрограммировать нейронную сеть самостоятельно, обратитесь к туториалу тут: https://github.com/divamgupta/lstm-gender-predictor"
   ]
  },
  {
   "cell_type": "markdown",
   "metadata": {},
   "source": [
    "####  LSTM"
   ]
  },
  {
   "cell_type": "code",
   "execution_count": 19,
   "metadata": {
    "ExecuteTime": {
     "end_time": "2018-07-01T17:19:12.883509Z",
     "start_time": "2018-07-01T17:19:11.110073Z"
    }
   },
   "outputs": [
    {
     "name": "stderr",
     "output_type": "stream",
     "text": [
      "Using TensorFlow backend.\n"
     ]
    }
   ],
   "source": [
    "from keras.preprocessing.text import Tokenizer\n",
    "from keras.preprocessing.sequence import pad_sequences\n",
    "from keras.layers import LSTM, TimeDistributed, Bidirectional\n",
    "from keras.models import Sequential\n",
    "from keras.layers import Dense, Activation, Embedding, Flatten, Dropout\n",
    "\n",
    "from keras.utils import to_categorical\n",
    "from sklearn.utils import shuffle"
   ]
  },
  {
   "cell_type": "code",
   "execution_count": 20,
   "metadata": {
    "ExecuteTime": {
     "end_time": "2018-07-01T17:19:12.992396Z",
     "start_time": "2018-07-01T17:19:12.974038Z"
    }
   },
   "outputs": [],
   "source": [
    "X_train, X_test, y_train, y_test = train_test_split(df['names'], df['labels'], test_size=0.20, stratify=df['labels'], random_state=42)"
   ]
  },
  {
   "cell_type": "code",
   "execution_count": 44,
   "metadata": {
    "ExecuteTime": {
     "end_time": "2018-07-01T09:50:14.965812Z",
     "start_time": "2018-07-01T09:50:14.960000Z"
    }
   },
   "outputs": [
    {
     "data": {
      "text/plain": [
       "((13406,), (13406,), (3352,), (3352,))"
      ]
     },
     "execution_count": 44,
     "metadata": {},
     "output_type": "execute_result"
    }
   ],
   "source": [
    "X_train.shape, y_train.shape, X_test.shape, y_test.shape"
   ]
  },
  {
   "cell_type": "code",
   "execution_count": 45,
   "metadata": {
    "ExecuteTime": {
     "end_time": "2018-07-01T09:50:16.004570Z",
     "start_time": "2018-07-01T09:50:15.997250Z"
    }
   },
   "outputs": [
    {
     "data": {
      "text/plain": [
       "4812             kings\n",
       "19346    moraitopoulos\n",
       "16500         tzalikov\n",
       "19966              sip\n",
       "2620              dael\n",
       "Name: names, dtype: object"
      ]
     },
     "execution_count": 45,
     "metadata": {},
     "output_type": "execute_result"
    }
   ],
   "source": [
    "X_train.sample(5)"
   ]
  },
  {
   "cell_type": "code",
   "execution_count": 46,
   "metadata": {
    "ExecuteTime": {
     "end_time": "2018-07-01T09:50:16.874305Z",
     "start_time": "2018-07-01T09:50:16.867114Z"
    }
   },
   "outputs": [
    {
     "data": {
      "text/plain": [
       "11482    13\n",
       "19619     1\n",
       "5573      3\n",
       "13012    13\n",
       "15025    13\n",
       "Name: labels, dtype: int64"
      ]
     },
     "execution_count": 46,
     "metadata": {},
     "output_type": "execute_result"
    }
   ],
   "source": [
    "y_train.sample(5)"
   ]
  },
  {
   "cell_type": "code",
   "execution_count": 21,
   "metadata": {
    "ExecuteTime": {
     "end_time": "2018-07-01T17:19:18.396691Z",
     "start_time": "2018-07-01T17:19:18.360313Z"
    }
   },
   "outputs": [
    {
     "name": "stdout",
     "output_type": "stream",
     "text": [
      "batch_size: 32\n",
      "embedding_size: 50\n",
      "vocab_size: 53\n",
      "sequence_size: 20\n",
      "n_neurons: 128\n",
      "dropout: 0.2\n",
      "n_epoch: 20\n",
      "n_output: 16\n"
     ]
    }
   ],
   "source": [
    "n_neurons = 128\n",
    "n_epoch = 20\n",
    "embedding_size = 50\n",
    "dropout = 0.2\n",
    "batch_size = 32\n",
    "chars = [char  for name in df['names'].tolist() for char in name]\n",
    "vocab_size = len(list(set(chars)))\n",
    "sequence_size = df.describe().loc['max','len'].astype(int)\n",
    "n_output = df['labels'].nunique()\n",
    "print('batch_size:', batch_size)\n",
    "print('embedding_size:', embedding_size)\n",
    "print('vocab_size:', vocab_size)\n",
    "print('sequence_size:', sequence_size)\n",
    "print('n_neurons:', n_neurons)\n",
    "print('dropout:', dropout)\n",
    "print('n_epoch:', n_epoch)\n",
    "print('n_output:', n_output)"
   ]
  },
  {
   "cell_type": "code",
   "execution_count": 48,
   "metadata": {
    "ExecuteTime": {
     "end_time": "2018-07-01T09:50:21.457546Z",
     "start_time": "2018-07-01T09:50:21.451517Z"
    }
   },
   "outputs": [
    {
     "data": {
      "text/plain": [
       "'cheruhin'"
      ]
     },
     "execution_count": 48,
     "metadata": {},
     "output_type": "execute_result"
    }
   ],
   "source": [
    "X_train.iloc[0]"
   ]
  },
  {
   "cell_type": "code",
   "execution_count": 49,
   "metadata": {
    "ExecuteTime": {
     "end_time": "2018-07-01T09:50:22.483702Z",
     "start_time": "2018-07-01T09:50:22.309537Z"
    }
   },
   "outputs": [
    {
     "data": {
      "text/plain": [
       "[18, 7, 3, 6, 13, 7, 4, 5]"
      ]
     },
     "execution_count": 49,
     "metadata": {},
     "output_type": "execute_result"
    }
   ],
   "source": [
    "tokenizer = Tokenizer(num_words=vocab_size, char_level=True)\n",
    "tokenizer.fit_on_texts(df['names'].tolist())\n",
    "X_train = tokenizer.texts_to_sequences(X_train.tolist())\n",
    "X_test = tokenizer.texts_to_sequences(X_test.tolist())\n",
    "X_train[0]"
   ]
  },
  {
   "cell_type": "code",
   "execution_count": 50,
   "metadata": {
    "ExecuteTime": {
     "end_time": "2018-07-01T09:50:23.697834Z",
     "start_time": "2018-07-01T09:50:23.499841Z"
    }
   },
   "outputs": [
    {
     "data": {
      "text/plain": [
       "array([18,  7,  3,  6, 13,  7,  4,  5,  0,  0,  0,  0,  0,  0,  0,  0,  0,\n",
       "        0,  0,  0], dtype=int32)"
      ]
     },
     "execution_count": 50,
     "metadata": {},
     "output_type": "execute_result"
    }
   ],
   "source": [
    "X_train = pad_sequences(X_train, maxlen=sequence_size, padding='post')\n",
    "X_test = pad_sequences(X_test, maxlen=sequence_size, padding='post')\n",
    "X_train[0]"
   ]
  },
  {
   "cell_type": "code",
   "execution_count": 37,
   "metadata": {
    "ExecuteTime": {
     "end_time": "2018-07-01T09:48:27.971785Z",
     "start_time": "2018-07-01T09:48:27.964350Z"
    }
   },
   "outputs": [
    {
     "data": {
      "text/plain": [
       "array([0., 0., 0., 0., 0., 0., 0., 0., 0., 0., 0., 0., 0., 1., 0., 0.],\n",
       "      dtype=float32)"
      ]
     },
     "execution_count": 37,
     "metadata": {},
     "output_type": "execute_result"
    }
   ],
   "source": [
    "y_train = to_categorical(y_train)\n",
    "y_test = to_categorical(y_test)\n",
    "y_train[0]"
   ]
  },
  {
   "cell_type": "code",
   "execution_count": 44,
   "metadata": {
    "ExecuteTime": {
     "end_time": "2018-06-30T22:19:42.434399Z",
     "start_time": "2018-06-30T22:19:41.229983Z"
    }
   },
   "outputs": [],
   "source": [
    "model = Sequential()\n",
    "model.add(Embedding(vocab_size, embedding_size, input_length=sequence_size))\n",
    "model.add(LSTM(n_neurons, return_sequences=True, dropout=dropout, recurrent_dropout=dropout))\n",
    "model.add(LSTM(n_neurons, return_sequences=False, dropout=dropout, recurrent_dropout=dropout))\n",
    "model.add(Dense(n_output, activation = 'softmax'))\n",
    "\n",
    "model.compile(loss='categorical_crossentropy', optimizer='adam', metrics=['accuracy'])"
   ]
  },
  {
   "cell_type": "code",
   "execution_count": 48,
   "metadata": {
    "ExecuteTime": {
     "end_time": "2018-06-30T22:47:53.543538Z",
     "start_time": "2018-06-30T22:28:47.157163Z"
    }
   },
   "outputs": [
    {
     "name": "stdout",
     "output_type": "stream",
     "text": [
      "Epoch 1/20\n",
      "13406/13406 [==============================] - 114s 8ms/step - loss: 0.6840 - acc: 0.7885\n",
      "Epoch 2/20\n",
      "13406/13406 [==============================] - 107s 8ms/step - loss: 0.6489 - acc: 0.7998\n",
      "Epoch 3/20\n",
      "13406/13406 [==============================] - 31s 2ms/step - loss: 0.6183 - acc: 0.8061\n",
      "Epoch 4/20\n",
      "13406/13406 [==============================] - 81s 6ms/step - loss: 0.5855 - acc: 0.8128\n",
      "Epoch 5/20\n",
      "13406/13406 [==============================] - 33s 2ms/step - loss: 0.5628 - acc: 0.8198\n",
      "Epoch 6/20\n",
      "13406/13406 [==============================] - 73s 5ms/step - loss: 0.5468 - acc: 0.8257\n",
      "Epoch 7/20\n",
      "13406/13406 [==============================] - 56s 4ms/step - loss: 0.5235 - acc: 0.8298\n",
      "Epoch 8/20\n",
      "13406/13406 [==============================] - 32s 2ms/step - loss: 0.5064 - acc: 0.8330\n",
      "Epoch 9/20\n",
      "13406/13406 [==============================] - 45s 3ms/step - loss: 0.4925 - acc: 0.8406\n",
      "Epoch 10/20\n",
      "13406/13406 [==============================] - 39s 3ms/step - loss: 0.4734 - acc: 0.8456\n",
      "Epoch 11/20\n",
      "13406/13406 [==============================] - 44s 3ms/step - loss: 0.4524 - acc: 0.8534\n",
      "Epoch 12/20\n",
      "13406/13406 [==============================] - 39s 3ms/step - loss: 0.4435 - acc: 0.8535\n",
      "Epoch 13/20\n",
      "13406/13406 [==============================] - 47s 3ms/step - loss: 0.4273 - acc: 0.8582\n",
      "Epoch 14/20\n",
      "13406/13406 [==============================] - 77s 6ms/step - loss: 0.4109 - acc: 0.8633\n",
      "Epoch 15/20\n",
      "13406/13406 [==============================] - 51s 4ms/step - loss: 0.4004 - acc: 0.8692\n",
      "Epoch 16/20\n",
      "13406/13406 [==============================] - 58s 4ms/step - loss: 0.3891 - acc: 0.8720\n",
      "Epoch 17/20\n",
      "13406/13406 [==============================] - 64s 5ms/step - loss: 0.3729 - acc: 0.8758\n",
      "Epoch 18/20\n",
      "13406/13406 [==============================] - 53s 4ms/step - loss: 0.3655 - acc: 0.8804\n",
      "Epoch 19/20\n",
      "13406/13406 [==============================] - 55s 4ms/step - loss: 0.3509 - acc: 0.8815\n",
      "Epoch 20/20\n",
      "13406/13406 [==============================] - 50s 4ms/step - loss: 0.3360 - acc: 0.8868\n"
     ]
    },
    {
     "data": {
      "text/plain": [
       "<keras.callbacks.History at 0x7fbc4cf17160>"
      ]
     },
     "execution_count": 48,
     "metadata": {},
     "output_type": "execute_result"
    }
   ],
   "source": [
    "model.fit(X_train, y_train, batch_size=batch_size, epochs=n_epoch, verbose = 1)"
   ]
  },
  {
   "cell_type": "code",
   "execution_count": 52,
   "metadata": {
    "ExecuteTime": {
     "end_time": "2018-06-30T22:54:19.003346Z",
     "start_time": "2018-06-30T22:54:18.995241Z"
    }
   },
   "outputs": [
    {
     "name": "stdout",
     "output_type": "stream",
     "text": [
      "_________________________________________________________________\n",
      "Layer (type)                 Output Shape              Param #   \n",
      "=================================================================\n",
      "embedding_1 (Embedding)      (None, 20, 50)            2650      \n",
      "_________________________________________________________________\n",
      "lstm_1 (LSTM)                (None, 20, 128)           91648     \n",
      "_________________________________________________________________\n",
      "lstm_2 (LSTM)                (None, 128)               131584    \n",
      "_________________________________________________________________\n",
      "dense_1 (Dense)              (None, 16)                2064      \n",
      "=================================================================\n",
      "Total params: 227,946\n",
      "Trainable params: 227,946\n",
      "Non-trainable params: 0\n",
      "_________________________________________________________________\n"
     ]
    }
   ],
   "source": [
    "model.summary()"
   ]
  },
  {
   "cell_type": "code",
   "execution_count": 73,
   "metadata": {
    "ExecuteTime": {
     "end_time": "2018-06-30T23:04:57.194658Z",
     "start_time": "2018-06-30T23:04:48.004878Z"
    }
   },
   "outputs": [],
   "source": [
    "predict_train = model.predict(X_train)\n",
    "predict_test = model.predict(X_test)"
   ]
  },
  {
   "cell_type": "code",
   "execution_count": 74,
   "metadata": {
    "ExecuteTime": {
     "end_time": "2018-06-30T23:04:58.324765Z",
     "start_time": "2018-06-30T23:04:58.318658Z"
    }
   },
   "outputs": [
    {
     "data": {
      "text/plain": [
       "((3352, 16), (3352, 20))"
      ]
     },
     "execution_count": 74,
     "metadata": {},
     "output_type": "execute_result"
    }
   ],
   "source": [
    "predict_test.shape, X_test.shape"
   ]
  },
  {
   "cell_type": "code",
   "execution_count": 75,
   "metadata": {
    "ExecuteTime": {
     "end_time": "2018-06-30T23:04:59.432132Z",
     "start_time": "2018-06-30T23:04:59.426659Z"
    }
   },
   "outputs": [
    {
     "data": {
      "text/plain": [
       "array([4.03096756e-08, 5.64205184e-05, 2.73029883e-07, 1.64247172e-06,\n",
       "       1.08144164e-07, 5.11630901e-07, 1.43704952e-07, 8.46365026e-07,\n",
       "       5.86333726e-07, 2.64770222e-07, 4.75361706e-09, 1.03440172e-07,\n",
       "       8.22910007e-09, 9.99938965e-01, 7.17248909e-08, 2.55224979e-08],\n",
       "      dtype=float32)"
      ]
     },
     "execution_count": 75,
     "metadata": {},
     "output_type": "execute_result"
    }
   ],
   "source": [
    "predict_test[1]"
   ]
  },
  {
   "cell_type": "code",
   "execution_count": 76,
   "metadata": {
    "ExecuteTime": {
     "end_time": "2018-06-30T23:05:19.739901Z",
     "start_time": "2018-06-30T23:05:19.733344Z"
    }
   },
   "outputs": [],
   "source": [
    "predict_train = np.argmax(predict_train ,axis=1)\n",
    "predict_test = np.argmax(predict_test ,axis=1)\n",
    "y_train = np.argmax(y_train ,axis=1)\n",
    "y_test = np.argmax(y_test ,axis=1)"
   ]
  },
  {
   "cell_type": "code",
   "execution_count": 77,
   "metadata": {
    "ExecuteTime": {
     "end_time": "2018-06-30T23:05:20.537898Z",
     "start_time": "2018-06-30T23:05:20.533569Z"
    }
   },
   "outputs": [
    {
     "data": {
      "text/plain": [
       "(13, 13)"
      ]
     },
     "execution_count": 77,
     "metadata": {},
     "output_type": "execute_result"
    }
   ],
   "source": [
    "predict_train[0], y_train[0]"
   ]
  },
  {
   "cell_type": "code",
   "execution_count": 78,
   "metadata": {
    "ExecuteTime": {
     "end_time": "2018-06-30T23:06:03.655307Z",
     "start_time": "2018-06-30T23:06:03.637286Z"
    }
   },
   "outputs": [
    {
     "name": "stdout",
     "output_type": "stream",
     "text": [
      "LSTM:\n",
      "Accuracy train: 0.9214\n",
      "Accuracy test: 0.8523\n",
      "F1 train: 0.9184\n",
      "F1 test: 0.8448\n",
      "             precision    recall  f1-score   support\n",
      "\n",
      "    Chinese       0.82      0.73      0.77        37\n",
      "      Czech       0.46      0.30      0.36        90\n",
      "      Dutch       0.80      0.43      0.56        47\n",
      "    English       0.79      0.89      0.84       673\n",
      "     French       0.60      0.36      0.45        42\n",
      "     German       0.65      0.51      0.57       118\n",
      "      Greek       0.89      0.63      0.74        38\n",
      "      Irish       0.66      0.66      0.66        32\n",
      "    Italian       0.73      0.84      0.78       131\n",
      "   Japanese       0.87      0.88      0.88       196\n",
      "     Korean       0.40      0.17      0.24        12\n",
      "     Polish       0.67      0.40      0.50        25\n",
      " Portuguese       0.00      0.00      0.00         6\n",
      "    Russian       0.93      0.95      0.94      1851\n",
      "    Spanish       0.40      0.39      0.40        44\n",
      " Vietnamese       0.56      0.50      0.53        10\n",
      "\n",
      "avg / total       0.84      0.85      0.84      3352\n",
      "\n"
     ]
    }
   ],
   "source": [
    "print('LSTM:')\n",
    "print('Accuracy train: {0:6.4f}'.format(accuracy_score(y_train, predict_train)))\n",
    "print('Accuracy test: {0:6.4f}'.format(accuracy_score(y_test, predict_test)))\n",
    "print('F1 train: {0:6.4f}'.format(f1_score(y_train, predict_train, average='weighted')))\n",
    "print('F1 test: {0:6.4f}'.format(f1_score(y_test, predict_test, average='weighted')))\n",
    "print(classification_report(y_test, predict_test, target_names=labels))"
   ]
  },
  {
   "cell_type": "markdown",
   "metadata": {},
   "source": [
    "#### Bidirectional(LSTM)"
   ]
  },
  {
   "cell_type": "code",
   "execution_count": 89,
   "metadata": {
    "ExecuteTime": {
     "end_time": "2018-06-30T23:43:50.398793Z",
     "start_time": "2018-06-30T23:43:50.392701Z"
    }
   },
   "outputs": [],
   "source": [
    "n_neurons = 64\n",
    "n_epoch = 10"
   ]
  },
  {
   "cell_type": "code",
   "execution_count": 97,
   "metadata": {
    "ExecuteTime": {
     "end_time": "2018-06-30T23:55:57.972192Z",
     "start_time": "2018-06-30T23:55:57.966527Z"
    }
   },
   "outputs": [
    {
     "data": {
      "text/plain": [
       "array([0., 0., 0., 0., 0., 0., 0., 0., 0., 0., 0., 0., 0., 1., 0., 0.],\n",
       "      dtype=float32)"
      ]
     },
     "execution_count": 97,
     "metadata": {},
     "output_type": "execute_result"
    }
   ],
   "source": [
    "y_train = to_categorical(y_train)\n",
    "y_test = to_categorical(y_test)\n",
    "y_train[0]"
   ]
  },
  {
   "cell_type": "code",
   "execution_count": 91,
   "metadata": {
    "ExecuteTime": {
     "end_time": "2018-06-30T23:43:56.405073Z",
     "start_time": "2018-06-30T23:43:54.888346Z"
    }
   },
   "outputs": [],
   "source": [
    "model2 = Sequential()\n",
    "model2.add(Embedding(vocab_size, embedding_size, input_length=sequence_size))\n",
    "model2.add(Bidirectional(LSTM(n_neurons, return_sequences=True, dropout=dropout, recurrent_dropout=dropout)))\n",
    "model2.add(Bidirectional(LSTM(n_neurons, return_sequences=False, dropout=dropout, recurrent_dropout=dropout)))\n",
    "model2.add(Dense(n_output, activation = 'softmax'))\n",
    "\n",
    "model2.compile(loss='categorical_crossentropy', optimizer='adam', metrics=['accuracy'])"
   ]
  },
  {
   "cell_type": "code",
   "execution_count": 98,
   "metadata": {
    "ExecuteTime": {
     "end_time": "2018-07-01T00:05:53.171076Z",
     "start_time": "2018-06-30T23:56:02.563593Z"
    }
   },
   "outputs": [
    {
     "name": "stdout",
     "output_type": "stream",
     "text": [
      "Epoch 1/10\n",
      "13406/13406 [==============================] - 35s 3ms/step - loss: 0.5505 - acc: 0.8251\n",
      "Epoch 2/10\n",
      "13406/13406 [==============================] - 42s 3ms/step - loss: 0.5312 - acc: 0.8290\n",
      "Epoch 3/10\n",
      "13406/13406 [==============================] - 64s 5ms/step - loss: 0.5143 - acc: 0.8329\n",
      "Epoch 4/10\n",
      "13406/13406 [==============================] - 64s 5ms/step - loss: 0.4957 - acc: 0.8390\n",
      "Epoch 5/10\n",
      "13406/13406 [==============================] - 54s 4ms/step - loss: 0.4800 - acc: 0.8435\n",
      "Epoch 6/10\n",
      "13406/13406 [==============================] - 61s 5ms/step - loss: 0.4608 - acc: 0.8502\n",
      "Epoch 7/10\n",
      "13406/13406 [==============================] - 62s 5ms/step - loss: 0.4392 - acc: 0.8550\n",
      "Epoch 8/10\n",
      "13406/13406 [==============================] - 62s 5ms/step - loss: 0.4292 - acc: 0.8560\n",
      "Epoch 9/10\n",
      "13406/13406 [==============================] - 72s 5ms/step - loss: 0.4206 - acc: 0.8609\n",
      "Epoch 10/10\n",
      "13406/13406 [==============================] - 74s 5ms/step - loss: 0.4030 - acc: 0.8652\n",
      "CPU times: user 18min 37s, sys: 23.5 s, total: 19min\n",
      "Wall time: 9min 50s\n"
     ]
    },
    {
     "data": {
      "text/plain": [
       "<keras.callbacks.History at 0x7fbc274686a0>"
      ]
     },
     "execution_count": 98,
     "metadata": {},
     "output_type": "execute_result"
    }
   ],
   "source": [
    "%%time\n",
    "model2.fit(X_train, y_train, batch_size=batch_size, epochs=n_epoch, verbose = 1)"
   ]
  },
  {
   "cell_type": "code",
   "execution_count": 99,
   "metadata": {
    "ExecuteTime": {
     "end_time": "2018-07-01T00:05:53.280122Z",
     "start_time": "2018-07-01T00:05:53.274880Z"
    }
   },
   "outputs": [
    {
     "name": "stdout",
     "output_type": "stream",
     "text": [
      "_________________________________________________________________\n",
      "Layer (type)                 Output Shape              Param #   \n",
      "=================================================================\n",
      "embedding_3 (Embedding)      (None, 20, 50)            2650      \n",
      "_________________________________________________________________\n",
      "bidirectional_3 (Bidirection (None, 20, 128)           58880     \n",
      "_________________________________________________________________\n",
      "bidirectional_4 (Bidirection (None, 128)               98816     \n",
      "_________________________________________________________________\n",
      "dense_3 (Dense)              (None, 16)                2064      \n",
      "=================================================================\n",
      "Total params: 162,410\n",
      "Trainable params: 162,410\n",
      "Non-trainable params: 0\n",
      "_________________________________________________________________\n"
     ]
    }
   ],
   "source": [
    "model2.summary()"
   ]
  },
  {
   "cell_type": "code",
   "execution_count": 100,
   "metadata": {
    "ExecuteTime": {
     "end_time": "2018-07-01T00:06:23.623490Z",
     "start_time": "2018-07-01T00:05:53.388241Z"
    }
   },
   "outputs": [],
   "source": [
    "predict_train = model2.predict(X_train)\n",
    "predict_test = model2.predict(X_test)\n",
    "predict_train = np.argmax(predict_train ,axis=1)\n",
    "predict_test = np.argmax(predict_test ,axis=1)\n",
    "y_train = np.argmax(y_train ,axis=1)\n",
    "y_test = np.argmax(y_test ,axis=1)"
   ]
  },
  {
   "cell_type": "code",
   "execution_count": 101,
   "metadata": {
    "ExecuteTime": {
     "end_time": "2018-07-01T00:06:23.679076Z",
     "start_time": "2018-07-01T00:06:23.662663Z"
    }
   },
   "outputs": [
    {
     "name": "stdout",
     "output_type": "stream",
     "text": [
      "biLSTM:\n",
      "Accuracy train: 0.8897\n",
      "Accuracy test: 0.8416\n",
      "F1 train: 0.8843\n",
      "F1 test: 0.8340\n",
      "             precision    recall  f1-score   support\n",
      "\n",
      "    Chinese       0.63      0.78      0.70        37\n",
      "      Czech       0.43      0.24      0.31        90\n",
      "      Dutch       0.66      0.62      0.64        47\n",
      "    English       0.75      0.89      0.81       673\n",
      "     French       0.60      0.36      0.45        42\n",
      "     German       0.67      0.39      0.49       118\n",
      "      Greek       0.67      0.76      0.72        38\n",
      "      Irish       0.63      0.59      0.61        32\n",
      "    Italian       0.71      0.85      0.78       131\n",
      "   Japanese       0.83      0.88      0.86       196\n",
      "     Korean       0.12      0.08      0.10        12\n",
      "     Polish       0.60      0.48      0.53        25\n",
      " Portuguese       0.00      0.00      0.00         6\n",
      "    Russian       0.94      0.93      0.94      1851\n",
      "    Spanish       0.47      0.32      0.38        44\n",
      " Vietnamese       0.71      0.50      0.59        10\n",
      "\n",
      "avg / total       0.84      0.84      0.83      3352\n",
      "\n"
     ]
    }
   ],
   "source": [
    "print('biLSTM:')\n",
    "print('Accuracy train: {0:6.4f}'.format(accuracy_score(y_train, predict_train)))\n",
    "print('Accuracy test: {0:6.4f}'.format(accuracy_score(y_test, predict_test)))\n",
    "print('F1 train: {0:6.4f}'.format(f1_score(y_train, predict_train, average='weighted')))\n",
    "print('F1 test: {0:6.4f}'.format(f1_score(y_test, predict_test, average='weighted')))\n",
    "print(classification_report(y_test, predict_test, target_names=labels))"
   ]
  },
  {
   "cell_type": "markdown",
   "metadata": {},
   "source": [
    "#### Подбор параметров LSTM сети"
   ]
  },
  {
   "cell_type": "code",
   "execution_count": 51,
   "metadata": {
    "ExecuteTime": {
     "end_time": "2018-07-01T09:50:32.058496Z",
     "start_time": "2018-07-01T09:50:32.054843Z"
    }
   },
   "outputs": [],
   "source": [
    "from keras.wrappers.scikit_learn import KerasClassifier\n",
    "from sklearn.model_selection import GridSearchCV\n",
    "seed = 42\n",
    "np.random.seed(seed)"
   ]
  },
  {
   "cell_type": "code",
   "execution_count": 52,
   "metadata": {
    "ExecuteTime": {
     "end_time": "2018-07-01T09:50:32.638102Z",
     "start_time": "2018-07-01T09:50:32.625897Z"
    }
   },
   "outputs": [],
   "source": [
    "def create_model(dropout_rate=0.1, neurons=10, embedding_size=50, vocab_size=53, sequence_size=20):\n",
    "    model = Sequential()\n",
    "    model.add(Embedding(vocab_size, embedding_size, input_length=sequence_size))\n",
    "    model.add(LSTM(neurons, return_sequences=True, dropout=dropout_rate, recurrent_dropout=dropout_rate))\n",
    "    model.add(LSTM(neurons, return_sequences=False, dropout=dropout_rate, recurrent_dropout=dropout_rate))\n",
    "    model.add(Dense(n_output, activation = 'softmax'))\n",
    "    model.compile(loss='categorical_crossentropy', optimizer='adam', metrics=['accuracy'])\n",
    "    return model"
   ]
  },
  {
   "cell_type": "code",
   "execution_count": 53,
   "metadata": {
    "ExecuteTime": {
     "end_time": "2018-07-01T09:50:33.485551Z",
     "start_time": "2018-07-01T09:50:33.478623Z"
    }
   },
   "outputs": [],
   "source": [
    "model3 = KerasClassifier(build_fn=create_model, verbose=0)"
   ]
  },
  {
   "cell_type": "code",
   "execution_count": 54,
   "metadata": {
    "ExecuteTime": {
     "end_time": "2018-07-01T09:50:34.609657Z",
     "start_time": "2018-07-01T09:50:34.603377Z"
    }
   },
   "outputs": [
    {
     "data": {
      "text/plain": [
       "array([0., 0., 0., 0., 0., 0., 0., 0., 0., 0., 0., 0., 0., 1., 0., 0.],\n",
       "      dtype=float32)"
      ]
     },
     "execution_count": 54,
     "metadata": {},
     "output_type": "execute_result"
    }
   ],
   "source": [
    "y_train = to_categorical(y_train)\n",
    "y_test = to_categorical(y_test)\n",
    "y_train[0]"
   ]
  },
  {
   "cell_type": "markdown",
   "metadata": {},
   "source": [
    "Перебор параметров будем проводить на меньшем количестве эпох, количестве нейронов на скрытых слоях и кросс валидации на трех фолдах."
   ]
  },
  {
   "cell_type": "code",
   "execution_count": 57,
   "metadata": {
    "ExecuteTime": {
     "end_time": "2018-07-01T09:54:36.189302Z",
     "start_time": "2018-07-01T09:54:36.183051Z"
    }
   },
   "outputs": [],
   "source": [
    "batch_size = [10, 100]\n",
    "epochs = [2]\n",
    "dropout_rate = [0.1, 0.9]\n",
    "neurons = [2, 5]\n",
    "embedding_size = [50, 100]\n",
    "\n",
    "param_grid = dict(batch_size=batch_size,\n",
    "                  epochs=epochs,\n",
    "                  dropout_rate=dropout_rate,\n",
    "                  neurons=neurons,\n",
    "                  embedding_size=embedding_size,                \n",
    "                 )\n",
    "grid = GridSearchCV(estimator=model3, param_grid=param_grid, n_jobs=1, refit=True, verbose=1)\n"
   ]
  },
  {
   "cell_type": "code",
   "execution_count": 58,
   "metadata": {
    "ExecuteTime": {
     "end_time": "2018-07-01T10:39:01.475413Z",
     "start_time": "2018-07-01T09:54:37.443290Z"
    }
   },
   "outputs": [
    {
     "name": "stdout",
     "output_type": "stream",
     "text": [
      "Fitting 3 folds for each of 16 candidates, totalling 48 fits\n"
     ]
    },
    {
     "name": "stderr",
     "output_type": "stream",
     "text": [
      "[Parallel(n_jobs=1)]: Done  48 out of  48 | elapsed: 42.5min finished\n"
     ]
    },
    {
     "name": "stdout",
     "output_type": "stream",
     "text": [
      "Best: 0.552215 using {'batch_size': 10, 'dropout_rate': 0.1, 'embedding_size': 50, 'epochs': 2, 'neurons': 2}\n",
      "0.552215 with: {'batch_size': 10, 'dropout_rate': 0.1, 'embedding_size': 50, 'epochs': 2, 'neurons': 2}\n",
      "0.552215 with: {'batch_size': 10, 'dropout_rate': 0.1, 'embedding_size': 50, 'epochs': 2, 'neurons': 5}\n",
      "0.552215 with: {'batch_size': 10, 'dropout_rate': 0.1, 'embedding_size': 100, 'epochs': 2, 'neurons': 2}\n",
      "0.552215 with: {'batch_size': 10, 'dropout_rate': 0.1, 'embedding_size': 100, 'epochs': 2, 'neurons': 5}\n",
      "0.552215 with: {'batch_size': 10, 'dropout_rate': 0.9, 'embedding_size': 50, 'epochs': 2, 'neurons': 2}\n",
      "0.552215 with: {'batch_size': 10, 'dropout_rate': 0.9, 'embedding_size': 50, 'epochs': 2, 'neurons': 5}\n",
      "0.552215 with: {'batch_size': 10, 'dropout_rate': 0.9, 'embedding_size': 100, 'epochs': 2, 'neurons': 2}\n",
      "0.552215 with: {'batch_size': 10, 'dropout_rate': 0.9, 'embedding_size': 100, 'epochs': 2, 'neurons': 5}\n",
      "0.552215 with: {'batch_size': 100, 'dropout_rate': 0.1, 'embedding_size': 50, 'epochs': 2, 'neurons': 2}\n",
      "0.552215 with: {'batch_size': 100, 'dropout_rate': 0.1, 'embedding_size': 50, 'epochs': 2, 'neurons': 5}\n",
      "0.552215 with: {'batch_size': 100, 'dropout_rate': 0.1, 'embedding_size': 100, 'epochs': 2, 'neurons': 2}\n",
      "0.552215 with: {'batch_size': 100, 'dropout_rate': 0.1, 'embedding_size': 100, 'epochs': 2, 'neurons': 5}\n",
      "0.552215 with: {'batch_size': 100, 'dropout_rate': 0.9, 'embedding_size': 50, 'epochs': 2, 'neurons': 2}\n",
      "0.432568 with: {'batch_size': 100, 'dropout_rate': 0.9, 'embedding_size': 50, 'epochs': 2, 'neurons': 5}\n",
      "0.436819 with: {'batch_size': 100, 'dropout_rate': 0.9, 'embedding_size': 100, 'epochs': 2, 'neurons': 2}\n",
      "0.552215 with: {'batch_size': 100, 'dropout_rate': 0.9, 'embedding_size': 100, 'epochs': 2, 'neurons': 5}\n",
      "CPU times: user 1h 25min 40s, sys: 6min 42s, total: 1h 32min 22s\n",
      "Wall time: 44min 24s\n"
     ]
    }
   ],
   "source": [
    "%%time\n",
    "grid_result = grid.fit(X_train, y_train)\n",
    "\n",
    "print(\"Best: %f using %s\" % (grid_result.best_score_, grid_result.best_params_))\n",
    "means = grid_result.cv_results_['mean_test_score']\n",
    "params = grid_result.cv_results_['params']\n",
    "for mean, param in zip(means, params):\n",
    "    print(\"%f with: %r\" % (mean, param))"
   ]
  },
  {
   "cell_type": "code",
   "execution_count": 62,
   "metadata": {
    "ExecuteTime": {
     "end_time": "2018-07-01T10:40:51.539382Z",
     "start_time": "2018-07-01T10:40:42.778763Z"
    }
   },
   "outputs": [],
   "source": [
    "predict_train = grid.predict(X_train)\n",
    "predict_test = grid.predict(X_test)\n",
    "#predict_train = np.argmax(predict_train ,axis=1)\n",
    "#predict_test = np.argmax(predict_test ,axis=1)\n",
    "y_train = np.argmax(y_train ,axis=1)\n",
    "y_test = np.argmax(y_test ,axis=1)"
   ]
  },
  {
   "cell_type": "code",
   "execution_count": 63,
   "metadata": {
    "ExecuteTime": {
     "end_time": "2018-07-01T10:40:53.396340Z",
     "start_time": "2018-07-01T10:40:53.371573Z"
    }
   },
   "outputs": [
    {
     "name": "stdout",
     "output_type": "stream",
     "text": [
      "gridsearch LSTM:\n",
      "Accuracy train: 0.5522\n",
      "Accuracy test: 0.5522\n",
      "F1 train: 0.3929\n",
      "F1 test: 0.3929\n",
      "             precision    recall  f1-score   support\n",
      "\n",
      "    Chinese       0.00      0.00      0.00        37\n",
      "      Czech       0.00      0.00      0.00        90\n",
      "      Dutch       0.00      0.00      0.00        47\n",
      "    English       0.00      0.00      0.00       673\n",
      "     French       0.00      0.00      0.00        42\n",
      "     German       0.00      0.00      0.00       118\n",
      "      Greek       0.00      0.00      0.00        38\n",
      "      Irish       0.00      0.00      0.00        32\n",
      "    Italian       0.00      0.00      0.00       131\n",
      "   Japanese       0.00      0.00      0.00       196\n",
      "     Korean       0.00      0.00      0.00        12\n",
      "     Polish       0.00      0.00      0.00        25\n",
      " Portuguese       0.00      0.00      0.00         6\n",
      "    Russian       0.55      1.00      0.71      1851\n",
      "    Spanish       0.00      0.00      0.00        44\n",
      " Vietnamese       0.00      0.00      0.00        10\n",
      "\n",
      "avg / total       0.30      0.55      0.39      3352\n",
      "\n"
     ]
    }
   ],
   "source": [
    "print('gridsearch LSTM:')\n",
    "print('Accuracy train: {0:6.4f}'.format(accuracy_score(y_train, predict_train)))\n",
    "print('Accuracy test: {0:6.4f}'.format(accuracy_score(y_test, predict_test)))\n",
    "print('F1 train: {0:6.4f}'.format(f1_score(y_train, predict_train, average='weighted')))\n",
    "print('F1 test: {0:6.4f}'.format(f1_score(y_test, predict_test, average='weighted')))\n",
    "print(classification_report(y_test, predict_test, target_names=labels))"
   ]
  },
  {
   "cell_type": "markdown",
   "metadata": {},
   "source": [
    "#### Выводы"
   ]
  },
  {
   "cell_type": "markdown",
   "metadata": {},
   "source": [
    "Нейронные сети показали лучший результат, чем базовые модели. С китайскими, корейскими и вьетнамскими фамилиями результаты классификации лучше, чем у базовых моделей.\n",
    "\n",
    "Двухслойный LSTM c 128 нейронами на каждом скрытом слое склонен к переобучению на тестовом наборе данных (даже, несмотря на дропауты везде, где можно). У двухслойного biLSTM на 64 нейронах переобучение было в меньшей степени.\n",
    "\n",
    "Перебор параметров среди небольшого количества нейронов, 2 эпох, различных размеров эмбедингов, пакетов и коэффициентов дропаута привел к выбору модели с минимальными значениями из набора нейронов, дропаута и размера пакета\n",
    "\n"
   ]
  },
  {
   "cell_type": "markdown",
   "metadata": {},
   "source": [
    "##  Часть 4. Генерация фамилии [35 баллов]\n",
    "\n",
    "Используйте архитектуру нейронной сети из Части 3 для генерации имени. В этот момент можно забыть про разбиение коллекции на обучающее и тестовое множество. \n",
    "\n",
    "Рассмотрите два сценария генерация имени:\n",
    "* обучение нейронной сети по всей коллекции\n",
    "* обучение нейронной сети с обуславливанием на язык\n",
    "\n",
    "Для обуславливания на язык нужно изменить векторное представление фамилии. До этого момента мы разбивали фамилию на отдельные символы и находили векторное представление каждого символа. Теперь добавим в начало фамилии метку языка и будем ее считать первым символов фамилии. Так нейронная сеть научиться понимать, на каком языке написана фамилия. \n",
    "\n",
    "Пример: ```[rus bos i v a n o v eos pad pad pad]```\n",
    "\n",
    "Когда будем генерировать новую фамилию, будем начинать процесс генерации не с символа начала последовательности ```bos```, а с символа языка и символа начала последовательности ```rus bos```. \n",
    "\n",
    "Привидите несколько примеров удачно сгенерированных фамилий. "
   ]
  },
  {
   "cell_type": "markdown",
   "metadata": {},
   "source": [
    "#### обучение нейронной сети по всей коллекции"
   ]
  },
  {
   "cell_type": "code",
   "execution_count": 282,
   "metadata": {
    "ExecuteTime": {
     "end_time": "2018-07-01T20:57:35.004865Z",
     "start_time": "2018-07-01T20:57:34.178649Z"
    }
   },
   "outputs": [
    {
     "name": "stdout",
     "output_type": "stream",
     "text": [
      "(16758,)\n",
      "bos a r c h a m b a u l t\n",
      " a r c h a m b a u l t eos\n"
     ]
    }
   ],
   "source": [
    "X_names = df.apply(lambda x: 'bos '+' '.join(list(x['names'])), axis=1)\n",
    "Y_names = df.apply(lambda x: ' '+' '.join(list(x['names']))+' eos', axis=1)\n",
    "print(X_names.shape)\n",
    "print(X_names.iloc[0])\n",
    "print(Y_names.iloc[0])"
   ]
  },
  {
   "cell_type": "code",
   "execution_count": 278,
   "metadata": {
    "ExecuteTime": {
     "end_time": "2018-07-01T20:54:05.237163Z",
     "start_time": "2018-07-01T20:54:05.233752Z"
    }
   },
   "outputs": [],
   "source": [
    "sequence_size += 1"
   ]
  },
  {
   "cell_type": "code",
   "execution_count": 43,
   "metadata": {
    "ExecuteTime": {
     "end_time": "2018-07-01T17:32:08.308155Z",
     "start_time": "2018-07-01T17:32:08.305097Z"
    }
   },
   "outputs": [],
   "source": [
    "#pd.concat([X_names,Y_names]).tolist()"
   ]
  },
  {
   "cell_type": "code",
   "execution_count": 283,
   "metadata": {
    "ExecuteTime": {
     "end_time": "2018-07-01T20:57:55.654599Z",
     "start_time": "2018-07-01T20:57:54.788855Z"
    }
   },
   "outputs": [
    {
     "name": "stdout",
     "output_type": "stream",
     "text": [
      "[6, 1, 8, 20, 9, 1, 16, 19, 1, 15, 13, 14]\n",
      "[1, 8, 20, 9, 1, 16, 19, 1, 15, 13, 14, 7]\n"
     ]
    }
   ],
   "source": [
    "tokenizer = Tokenizer(num_words=vocab_size+2)\n",
    "tokenizer.fit_on_texts(X_names+Y_names)\n",
    "X_names = tokenizer.texts_to_sequences(X_names)\n",
    "Y_names = tokenizer.texts_to_sequences(Y_names)\n",
    "\n",
    "print(X_names[0])\n",
    "print(Y_names[0])"
   ]
  },
  {
   "cell_type": "code",
   "execution_count": 284,
   "metadata": {
    "ExecuteTime": {
     "end_time": "2018-07-01T20:58:15.768176Z",
     "start_time": "2018-07-01T20:58:15.763945Z"
    }
   },
   "outputs": [
    {
     "name": "stdout",
     "output_type": "stream",
     "text": [
      "{'a': 1, 'o': 2, 'e': 3, 'i': 4, 'n': 5, 'bos': 6, 'eos': 7, 'r': 8, 'h': 9, 's': 10, 'k': 11, 'v': 12, 'l': 13, 't': 14, 'u': 15, 'm': 16, 'y': 17, 'd': 18, 'b': 19, 'c': 20, 'g': 21, 'z': 22, 'p': 23, 'f': 24, 'j': 25, 'w': 26, \"'\": 27, 'x': 28, 'q': 29, 'ö': 30, 'é': 31, 'í': 32, 'á': 33, 'ä': 34, 'ó': 35, 'ü': 36, 'ß': 37, 'à': 38, 'ñ': 39, 'ú': 40, 'ò': 41, 'ś': 42, 'è': 43, 'ã': 44, 'ż': 45, 'ê': 46, 'ç': 47, 'ù': 48, 'ì': 49, 'õ': 50, 'ń': 51, 'ł': 52, 'ą': 53}\n"
     ]
    }
   ],
   "source": [
    "print(tokenizer.word_index)"
   ]
  },
  {
   "cell_type": "code",
   "execution_count": 285,
   "metadata": {
    "ExecuteTime": {
     "end_time": "2018-07-01T20:58:35.639343Z",
     "start_time": "2018-07-01T20:58:35.337337Z"
    }
   },
   "outputs": [
    {
     "name": "stdout",
     "output_type": "stream",
     "text": [
      "(16758, 21)\n",
      "(16758, 21)\n",
      "[ 6  1  8 20  9  1 16 19  1 15 13 14  0  0  0  0  0  0  0  0  0]\n",
      "[ 1  8 20  9  1 16 19  1 15 13 14  7  0  0  0  0  0  0  0  0  0]\n"
     ]
    }
   ],
   "source": [
    "X_train = pad_sequences(X_names, maxlen=sequence_size, padding='post')\n",
    "y_train = pad_sequences(Y_names, maxlen=sequence_size, padding='post')\n",
    "print(X_train.shape)\n",
    "print(y_train.shape)\n",
    "print(X_train[0])\n",
    "print(y_train[0])"
   ]
  },
  {
   "cell_type": "code",
   "execution_count": 286,
   "metadata": {
    "ExecuteTime": {
     "end_time": "2018-07-01T20:58:55.733535Z",
     "start_time": "2018-07-01T20:58:55.378532Z"
    }
   },
   "outputs": [],
   "source": [
    "y_train_cat  = [to_categorical(sent, num_classes=vocab_size+2) for sent in y_train]\n",
    "y_train =  np.asarray(y_train_cat)"
   ]
  },
  {
   "cell_type": "code",
   "execution_count": 287,
   "metadata": {
    "ExecuteTime": {
     "end_time": "2018-07-01T20:59:16.079540Z",
     "start_time": "2018-07-01T20:59:16.075422Z"
    }
   },
   "outputs": [
    {
     "name": "stdout",
     "output_type": "stream",
     "text": [
      "(16758, 21, 55)\n"
     ]
    }
   ],
   "source": [
    "print(y_train.shape)"
   ]
  },
  {
   "cell_type": "code",
   "execution_count": 288,
   "metadata": {
    "ExecuteTime": {
     "end_time": "2018-07-01T20:59:35.727699Z",
     "start_time": "2018-07-01T20:59:35.722945Z"
    }
   },
   "outputs": [],
   "source": [
    "n_neurons = 128\n",
    "n_epoch = 10\n",
    "embedding_size = 50\n",
    "dropout = 0.2\n",
    "batch_size = 32"
   ]
  },
  {
   "cell_type": "code",
   "execution_count": 289,
   "metadata": {
    "ExecuteTime": {
     "end_time": "2018-07-01T20:59:55.959087Z",
     "start_time": "2018-07-01T20:59:55.384068Z"
    }
   },
   "outputs": [],
   "source": [
    "model4 = Sequential()\n",
    "\n",
    "model4.add(Embedding(vocab_size+2, embedding_size, input_length=sequence_size))\n",
    "model4.add(LSTM(n_neurons, return_sequences = True, dropout=dropout, recurrent_dropout=dropout))\n",
    "\n",
    "model4.add(Dense(vocab_size+2, activation = 'softmax'))\n",
    "model4.compile(loss='categorical_crossentropy', optimizer='adam', metrics=['accuracy'])\n"
   ]
  },
  {
   "cell_type": "code",
   "execution_count": 290,
   "metadata": {
    "ExecuteTime": {
     "end_time": "2018-07-01T21:00:15.621856Z",
     "start_time": "2018-07-01T21:00:15.617588Z"
    }
   },
   "outputs": [
    {
     "name": "stdout",
     "output_type": "stream",
     "text": [
      "_________________________________________________________________\n",
      "Layer (type)                 Output Shape              Param #   \n",
      "=================================================================\n",
      "embedding_7 (Embedding)      (None, 21, 50)            2750      \n",
      "_________________________________________________________________\n",
      "lstm_7 (LSTM)                (None, 21, 128)           91648     \n",
      "_________________________________________________________________\n",
      "dense_7 (Dense)              (None, 21, 55)            7095      \n",
      "=================================================================\n",
      "Total params: 101,493\n",
      "Trainable params: 101,493\n",
      "Non-trainable params: 0\n",
      "_________________________________________________________________\n"
     ]
    }
   ],
   "source": [
    "model4.summary()"
   ]
  },
  {
   "cell_type": "code",
   "execution_count": 291,
   "metadata": {
    "ExecuteTime": {
     "end_time": "2018-07-01T21:03:57.110413Z",
     "start_time": "2018-07-01T21:00:35.811635Z"
    }
   },
   "outputs": [
    {
     "name": "stdout",
     "output_type": "stream",
     "text": [
      "Epoch 1/1\n",
      "16758/16758 [==============================] - 23s 1ms/step - loss: 4.0084 - acc: 0.0082\n",
      "Epoch 1/1\n",
      "16758/16758 [==============================] - 21s 1ms/step - loss: 3.9902 - acc: 0.2510\n",
      "Epoch 1/1\n",
      "16758/16758 [==============================] - 21s 1ms/step - loss: 3.9713 - acc: 0.6043\n",
      "Epoch 1/1\n",
      "16758/16758 [==============================] - 20s 1ms/step - loss: 3.9529 - acc: 0.6005\n",
      "Epoch 1/1\n",
      "16758/16758 [==============================] - 28s 2ms/step - loss: 3.9313 - acc: 0.5991\n",
      "Epoch 1/1\n",
      "16758/16758 [==============================] - 23s 1ms/step - loss: 3.9056 - acc: 0.5987\n",
      "Epoch 1/1\n",
      "16758/16758 [==============================] - 22s 1ms/step - loss: 3.8728 - acc: 0.5987\n",
      "Epoch 1/1\n",
      "16758/16758 [==============================] - 20s 1ms/step - loss: 3.8311 - acc: 0.5987\n",
      "Epoch 1/1\n",
      "16758/16758 [==============================] - 21s 1ms/step - loss: 3.7763 - acc: 0.5987\n",
      "CPU times: user 11min 19s, sys: 28.8 s, total: 11min 48s\n",
      "Wall time: 3min 21s\n"
     ]
    }
   ],
   "source": [
    "%%time\n",
    "for iteration in range(1, n_epoch):\n",
    "    X_train_shuffled, y_train_shuffled = shuffle(X_train, y_train)\n",
    "    model4.fit(X_train_shuffled, y_train_shuffled, batch_size=len(X_train), epochs=1, verbose = 1)"
   ]
  },
  {
   "cell_type": "code",
   "execution_count": 292,
   "metadata": {
    "ExecuteTime": {
     "end_time": "2018-07-01T21:04:19.557242Z",
     "start_time": "2018-07-01T21:04:19.554131Z"
    }
   },
   "outputs": [],
   "source": [
    "char_index = tokenizer.word_index\n",
    "index_char = {i: c for c, i in char_index.items()}"
   ]
  },
  {
   "cell_type": "code",
   "execution_count": 293,
   "metadata": {
    "ExecuteTime": {
     "end_time": "2018-07-01T21:04:44.509846Z",
     "start_time": "2018-07-01T21:04:44.506106Z"
    }
   },
   "outputs": [],
   "source": [
    "def sample(preds):\n",
    "    # helper function to sample an index from a probability array\n",
    "    preds = np.asarray(preds).astype('float64')\n",
    "    preds = np.log(preds) #/ temperature\n",
    "    exp_preds = np.exp(preds)\n",
    "    preds = exp_preds / np.sum(exp_preds)\n",
    "    probas = np.random.choice(range(vocab_size+2), p = preds)\n",
    "    return probas"
   ]
  },
  {
   "cell_type": "code",
   "execution_count": 294,
   "metadata": {
    "ExecuteTime": {
     "end_time": "2018-07-01T21:05:09.002922Z",
     "start_time": "2018-07-01T21:05:08.442556Z"
    }
   },
   "outputs": [
    {
     "name": "stdout",
     "output_type": "stream",
     "text": [
      "----- Generating with seed: \"bos\"\n",
      "bos \n",
      "bos w \n",
      "bos w s \n",
      "bos w s ì \n",
      "bos w s ì q \n",
      "bos w s ì q ż \n",
      "bos w s ì q ż ś \n",
      "bos w s ì q ż ś ñ \n"
     ]
    }
   ],
   "source": [
    "generated = ''\n",
    "seed = 'bos'\n",
    "generated += seed + ' '\n",
    "print('----- Generating with seed: \"' + seed + '\"')\n",
    "print(generated)\n",
    "\n",
    "\n",
    "for i in range(7): \n",
    "    sequences = tokenizer.texts_to_sequences([seed])\n",
    "#    print('sequences',sequences)\n",
    "    X_pred = pad_sequences(sequences, maxlen=sequence_size, padding = 'post')\n",
    "#    print('X_pred',X_pred)\n",
    "    preds = model4.predict(X_pred, verbose=0)[0]\n",
    "#    print('preds.shape',preds.shape)\n",
    "    samples = [sample(p) for p in preds]\n",
    "#    print('samples',samples)\n",
    "    next_index = samples[i]\n",
    "#    print('next_index',next_index)\n",
    "    while next_index == 0 or next_index == 6:\n",
    "        samples = [sample(p) for p in preds]\n",
    "        next_index = samples[i]\n",
    "    next_char = index_char[next_index]\n",
    "#    print('next_char',next_char)\n",
    "    generated += next_char + ' '\n",
    "    print(generated)\n",
    "    seed += ' ' + next_char\n",
    "#    print('seed',seed)\n",
    "    if next_char == 'eos':\n",
    "        break\n"
   ]
  },
  {
   "cell_type": "markdown",
   "metadata": {},
   "source": [
    "#### обучение нейронной сети с обуславливанием на язык"
   ]
  },
  {
   "cell_type": "code",
   "execution_count": 137,
   "metadata": {
    "ExecuteTime": {
     "end_time": "2018-07-01T18:45:23.682898Z",
     "start_time": "2018-07-01T18:45:23.679233Z"
    }
   },
   "outputs": [],
   "source": [
    "df['labels'] = le.inverse_transform(df['labels'])\n"
   ]
  },
  {
   "cell_type": "code",
   "execution_count": 205,
   "metadata": {
    "ExecuteTime": {
     "end_time": "2018-07-01T19:43:13.521606Z",
     "start_time": "2018-07-01T19:43:13.395108Z"
    }
   },
   "outputs": [
    {
     "data": {
      "text/html": [
       "<div>\n",
       "<style scoped>\n",
       "    .dataframe tbody tr th:only-of-type {\n",
       "        vertical-align: middle;\n",
       "    }\n",
       "\n",
       "    .dataframe tbody tr th {\n",
       "        vertical-align: top;\n",
       "    }\n",
       "\n",
       "    .dataframe thead th {\n",
       "        text-align: right;\n",
       "    }\n",
       "</style>\n",
       "<table border=\"1\" class=\"dataframe\">\n",
       "  <thead>\n",
       "    <tr style=\"text-align: right;\">\n",
       "      <th></th>\n",
       "      <th>names</th>\n",
       "      <th>labels</th>\n",
       "      <th>len</th>\n",
       "      <th>prefix</th>\n",
       "    </tr>\n",
       "  </thead>\n",
       "  <tbody>\n",
       "    <tr>\n",
       "      <th>13011</th>\n",
       "      <td>jeverjeev</td>\n",
       "      <td>Russian</td>\n",
       "      <td>9</td>\n",
       "      <td>Rus</td>\n",
       "    </tr>\n",
       "    <tr>\n",
       "      <th>9862</th>\n",
       "      <td>baigozin</td>\n",
       "      <td>Russian</td>\n",
       "      <td>8</td>\n",
       "      <td>Rus</td>\n",
       "    </tr>\n",
       "    <tr>\n",
       "      <th>11472</th>\n",
       "      <td>filippishin</td>\n",
       "      <td>Russian</td>\n",
       "      <td>11</td>\n",
       "      <td>Rus</td>\n",
       "    </tr>\n",
       "    <tr>\n",
       "      <th>3994</th>\n",
       "      <td>fenton</td>\n",
       "      <td>English</td>\n",
       "      <td>6</td>\n",
       "      <td>Eng</td>\n",
       "    </tr>\n",
       "    <tr>\n",
       "      <th>11612</th>\n",
       "      <td>gasparov</td>\n",
       "      <td>Russian</td>\n",
       "      <td>8</td>\n",
       "      <td>Rus</td>\n",
       "    </tr>\n",
       "  </tbody>\n",
       "</table>\n",
       "</div>"
      ],
      "text/plain": [
       "             names   labels  len prefix\n",
       "13011    jeverjeev  Russian    9    Rus\n",
       "9862      baigozin  Russian    8    Rus\n",
       "11472  filippishin  Russian   11    Rus\n",
       "3994        fenton  English    6    Eng\n",
       "11612     gasparov  Russian    8    Rus"
      ]
     },
     "execution_count": 205,
     "metadata": {},
     "output_type": "execute_result"
    }
   ],
   "source": [
    "df['prefix'] = df['labels'].str.slice(0, 3)\n",
    "df.sample(5)"
   ]
  },
  {
   "cell_type": "code",
   "execution_count": 99,
   "metadata": {
    "ExecuteTime": {
     "end_time": "2018-07-01T18:13:46.293076Z",
     "start_time": "2018-07-01T18:13:46.289971Z"
    }
   },
   "outputs": [],
   "source": [
    "sequence_size += 1"
   ]
  },
  {
   "cell_type": "code",
   "execution_count": 216,
   "metadata": {
    "ExecuteTime": {
     "end_time": "2018-07-01T19:51:29.373727Z",
     "start_time": "2018-07-01T19:51:29.370513Z"
    }
   },
   "outputs": [],
   "source": [
    "#df.apply(lambda x: x['prefix'].lower()+' '+'bos'+' '+' '.join(list(x['names'])), axis=1)"
   ]
  },
  {
   "cell_type": "code",
   "execution_count": 224,
   "metadata": {
    "ExecuteTime": {
     "end_time": "2018-07-01T19:58:52.590508Z",
     "start_time": "2018-07-01T19:58:51.540856Z"
    }
   },
   "outputs": [
    {
     "name": "stdout",
     "output_type": "stream",
     "text": [
      "(16758,)\n",
      "(16758,)\n",
      "fre bos a r c h a m b a u l t\n",
      " bos a r c h a m b a u l t eos\n"
     ]
    }
   ],
   "source": [
    "#Y_names = df['names']\n",
    "X_names = df.apply(lambda x: x['prefix'].lower()+' bos '+' '.join(list(x['names'])), axis=1)\n",
    "Y_names = df.apply(lambda x: ' bos '+' '.join(list(x['names']))+' eos', axis=1)\n",
    "\n",
    "print(X_names.shape)\n",
    "print(Y_names.shape)\n",
    "print(X_names.iloc[0])\n",
    "print(Y_names.iloc[0])"
   ]
  },
  {
   "cell_type": "code",
   "execution_count": 225,
   "metadata": {
    "ExecuteTime": {
     "end_time": "2018-07-01T19:59:12.992330Z",
     "start_time": "2018-07-01T19:59:12.138884Z"
    }
   },
   "outputs": [
    {
     "name": "stdout",
     "output_type": "stream",
     "text": [
      "[35, 1, 2, 8, 21, 9, 2, 17, 20, 2, 16, 13, 14]\n",
      "[1, 2, 8, 21, 9, 2, 17, 20, 2, 16, 13, 14, 7]\n"
     ]
    }
   ],
   "source": [
    "tokenizer = Tokenizer(num_words=vocab_size+2+len(labels))\n",
    "tokenizer.fit_on_texts(X_names+Y_names)\n",
    "X_names = tokenizer.texts_to_sequences(X_names)\n",
    "Y_names = tokenizer.texts_to_sequences(Y_names)\n",
    "\n",
    "print(X_names[0])\n",
    "print(Y_names[0])"
   ]
  },
  {
   "cell_type": "code",
   "execution_count": 226,
   "metadata": {
    "ExecuteTime": {
     "end_time": "2018-07-01T19:59:32.189377Z",
     "start_time": "2018-07-01T19:59:32.186277Z"
    }
   },
   "outputs": [
    {
     "name": "stdout",
     "output_type": "stream",
     "text": [
      "{'bos': 1, 'a': 2, 'o': 3, 'e': 4, 'i': 5, 'n': 6, 'eos': 7, 'r': 8, 'h': 9, 's': 10, 'k': 11, 'v': 12, 'l': 13, 't': 14, 'rus': 15, 'u': 16, 'm': 17, 'y': 18, 'd': 19, 'b': 20, 'c': 21, 'g': 22, 'z': 23, 'eng': 24, 'p': 25, 'f': 26, 'j': 27, 'w': 28, 'jap': 29, 'ita': 30, 'ger': 31, 'cze': 32, 'dut': 33, 'spa': 34, 'fre': 35, 'gre': 36, 'chi': 37, 'iri': 38, \"'\": 39, 'x': 40, 'pol': 41, 'q': 42, 'kor': 43, 'vie': 44, 'ö': 45, 'é': 46, 'por': 47, 'í': 48, 'á': 49, 'ä': 50, 'ó': 51, 'ü': 52, 'ß': 53, 'à': 54, 'ñ': 55, 'ú': 56, 'ò': 57, 'ś': 58, 'è': 59, 'ã': 60, 'ż': 61, 'ê': 62, 'ç': 63, 'ù': 64, 'ì': 65, 'õ': 66, 'ń': 67, 'ł': 68, 'ą': 69}\n"
     ]
    }
   ],
   "source": [
    "print(tokenizer.word_index)"
   ]
  },
  {
   "cell_type": "code",
   "execution_count": 227,
   "metadata": {
    "ExecuteTime": {
     "end_time": "2018-07-01T19:59:52.253652Z",
     "start_time": "2018-07-01T19:59:51.928883Z"
    }
   },
   "outputs": [
    {
     "name": "stdout",
     "output_type": "stream",
     "text": [
      "(16758, 22)\n",
      "(16758, 22)\n",
      "[35  1  2  8 21  9  2 17 20  2 16 13 14  0  0  0  0  0  0  0  0  0]\n",
      "[ 1  2  8 21  9  2 17 20  2 16 13 14  7  0  0  0  0  0  0  0  0  0]\n"
     ]
    }
   ],
   "source": [
    "X_train = pad_sequences(X_names, maxlen=sequence_size, padding='post')\n",
    "y_train = pad_sequences(Y_names, maxlen=sequence_size, padding='post')\n",
    "print(X_train.shape)\n",
    "print(y_train.shape)\n",
    "print(X_train[0])\n",
    "print(y_train[0])"
   ]
  },
  {
   "cell_type": "code",
   "execution_count": 228,
   "metadata": {
    "ExecuteTime": {
     "end_time": "2018-07-01T20:00:13.158320Z",
     "start_time": "2018-07-01T20:00:12.724694Z"
    }
   },
   "outputs": [],
   "source": [
    "y_train_cat  = [to_categorical(sent, num_classes=vocab_size+2+len(labels)) for sent in y_train]\n",
    "y_train =  np.asarray(y_train_cat)"
   ]
  },
  {
   "cell_type": "code",
   "execution_count": 229,
   "metadata": {
    "ExecuteTime": {
     "end_time": "2018-07-01T20:00:32.814524Z",
     "start_time": "2018-07-01T20:00:32.811258Z"
    }
   },
   "outputs": [
    {
     "name": "stdout",
     "output_type": "stream",
     "text": [
      "(16758, 22, 71)\n"
     ]
    }
   ],
   "source": [
    "print(y_train.shape)"
   ]
  },
  {
   "cell_type": "code",
   "execution_count": 230,
   "metadata": {
    "ExecuteTime": {
     "end_time": "2018-07-01T20:00:55.455869Z",
     "start_time": "2018-07-01T20:00:54.945259Z"
    }
   },
   "outputs": [],
   "source": [
    "model5 = Sequential()\n",
    "\n",
    "model5.add(Embedding(vocab_size+2+len(labels), embedding_size, input_length=sequence_size))\n",
    "model5.add(LSTM(n_neurons, return_sequences = True, dropout=dropout, recurrent_dropout=dropout))\n",
    "\n",
    "model5.add(Dense(vocab_size+2+len(labels), activation = 'softmax'))\n",
    "model5.compile(loss='categorical_crossentropy', optimizer='adam', metrics=['accuracy'])"
   ]
  },
  {
   "cell_type": "code",
   "execution_count": 231,
   "metadata": {
    "ExecuteTime": {
     "end_time": "2018-07-01T20:01:17.223669Z",
     "start_time": "2018-07-01T20:01:17.219676Z"
    }
   },
   "outputs": [
    {
     "name": "stdout",
     "output_type": "stream",
     "text": [
      "_________________________________________________________________\n",
      "Layer (type)                 Output Shape              Param #   \n",
      "=================================================================\n",
      "embedding_6 (Embedding)      (None, 22, 50)            3550      \n",
      "_________________________________________________________________\n",
      "lstm_6 (LSTM)                (None, 22, 128)           91648     \n",
      "_________________________________________________________________\n",
      "dense_6 (Dense)              (None, 22, 71)            9159      \n",
      "=================================================================\n",
      "Total params: 104,357\n",
      "Trainable params: 104,357\n",
      "Non-trainable params: 0\n",
      "_________________________________________________________________\n"
     ]
    }
   ],
   "source": [
    "model5.summary()"
   ]
  },
  {
   "cell_type": "code",
   "execution_count": 275,
   "metadata": {
    "ExecuteTime": {
     "end_time": "2018-07-01T20:52:14.699280Z",
     "start_time": "2018-07-01T20:48:46.861506Z"
    }
   },
   "outputs": [
    {
     "name": "stdout",
     "output_type": "stream",
     "text": [
      "Epoch 1/1\n",
      "16758/16758 [==============================] - 20s 1ms/step - loss: 1.9794 - acc: 0.5715\n",
      "Epoch 1/1\n",
      "16758/16758 [==============================] - 20s 1ms/step - loss: 1.9071 - acc: 0.5715\n",
      "Epoch 1/1\n",
      "16758/16758 [==============================] - 23s 1ms/step - loss: 1.8855 - acc: 0.5715\n",
      "Epoch 1/1\n",
      "16758/16758 [==============================] - 27s 2ms/step - loss: 1.8971 - acc: 0.5715\n",
      "Epoch 1/1\n",
      "16758/16758 [==============================] - 24s 1ms/step - loss: 1.9251 - acc: 0.5715\n",
      "Epoch 1/1\n",
      "16758/16758 [==============================] - 24s 1ms/step - loss: 1.9561 - acc: 0.5715\n",
      "Epoch 1/1\n",
      "16758/16758 [==============================] - 23s 1ms/step - loss: 1.9794 - acc: 0.5715\n",
      "Epoch 1/1\n",
      "16758/16758 [==============================] - 23s 1ms/step - loss: 1.9929 - acc: 0.5715\n",
      "Epoch 1/1\n",
      "16758/16758 [==============================] - 23s 1ms/step - loss: 1.9940 - acc: 0.5715\n",
      "CPU times: user 12min 32s, sys: 30.1 s, total: 13min 3s\n",
      "Wall time: 3min 27s\n"
     ]
    }
   ],
   "source": [
    "%%time\n",
    "for iteration in range(1, n_epoch):\n",
    "    X_train_shuffled, y_train_shuffled = shuffle(X_train, y_train)\n",
    "    model5.fit(X_train_shuffled, y_train_shuffled, batch_size=len(X_train), epochs=1, verbose = 1)"
   ]
  },
  {
   "cell_type": "code",
   "execution_count": 235,
   "metadata": {
    "ExecuteTime": {
     "end_time": "2018-07-01T20:09:38.634691Z",
     "start_time": "2018-07-01T20:09:38.628263Z"
    }
   },
   "outputs": [],
   "source": [
    "char_index = tokenizer.word_index\n",
    "index_char = {i: c for c, i in char_index.items()}"
   ]
  },
  {
   "cell_type": "code",
   "execution_count": 236,
   "metadata": {
    "ExecuteTime": {
     "end_time": "2018-07-01T20:09:59.036696Z",
     "start_time": "2018-07-01T20:09:59.032722Z"
    }
   },
   "outputs": [],
   "source": [
    "def sample(preds):\n",
    "    # helper function to sample an index from a probability array\n",
    "    preds = np.asarray(preds).astype('float64')\n",
    "    preds = np.log(preds) #/ temperature\n",
    "    exp_preds = np.exp(preds)\n",
    "    preds = exp_preds / np.sum(exp_preds)\n",
    "    probas = np.random.choice(range(vocab_size+2+len(labels)), p = preds)\n",
    "    return probas"
   ]
  },
  {
   "cell_type": "code",
   "execution_count": 266,
   "metadata": {
    "ExecuteTime": {
     "end_time": "2018-07-01T20:38:17.232749Z",
     "start_time": "2018-07-01T20:38:17.229389Z"
    }
   },
   "outputs": [
    {
     "name": "stdout",
     "output_type": "stream",
     "text": [
      "{'bos': 1, 'a': 2, 'o': 3, 'e': 4, 'i': 5, 'n': 6, 'eos': 7, 'r': 8, 'h': 9, 's': 10, 'k': 11, 'v': 12, 'l': 13, 't': 14, 'rus': 15, 'u': 16, 'm': 17, 'y': 18, 'd': 19, 'b': 20, 'c': 21, 'g': 22, 'z': 23, 'eng': 24, 'p': 25, 'f': 26, 'j': 27, 'w': 28, 'jap': 29, 'ita': 30, 'ger': 31, 'cze': 32, 'dut': 33, 'spa': 34, 'fre': 35, 'gre': 36, 'chi': 37, 'iri': 38, \"'\": 39, 'x': 40, 'pol': 41, 'q': 42, 'kor': 43, 'vie': 44, 'ö': 45, 'é': 46, 'por': 47, 'í': 48, 'á': 49, 'ä': 50, 'ó': 51, 'ü': 52, 'ß': 53, 'à': 54, 'ñ': 55, 'ú': 56, 'ò': 57, 'ś': 58, 'è': 59, 'ã': 60, 'ż': 61, 'ê': 62, 'ç': 63, 'ù': 64, 'ì': 65, 'õ': 66, 'ń': 67, 'ł': 68, 'ą': 69}\n"
     ]
    }
   ],
   "source": [
    "print(tokenizer.word_index)"
   ]
  },
  {
   "cell_type": "code",
   "execution_count": 276,
   "metadata": {
    "ExecuteTime": {
     "end_time": "2018-07-01T20:52:36.422372Z",
     "start_time": "2018-07-01T20:52:36.293631Z"
    },
    "code_folding": []
   },
   "outputs": [
    {
     "name": "stdout",
     "output_type": "stream",
     "text": [
      "----- Generating with seed: \"rus bos\"\n",
      "rus bos \n",
      "rus bos è \n",
      "rus bos è s \n",
      "rus bos è s e \n",
      "rus bos è s e k \n",
      "rus bos è s e k o \n",
      "rus bos è s e k o n \n",
      "rus bos è s e k o n r \n",
      "rus bos è s e k o n r l \n",
      "rus bos è s e k o n r l f \n"
     ]
    }
   ],
   "source": [
    "generated = ''\n",
    "seed = 'rus bos'\n",
    "generated += seed + ' '\n",
    "print('----- Generating with seed: \"' + seed + '\"')\n",
    "print(generated)\n",
    "\n",
    "\n",
    "for i in range(1,10):\n",
    "#    print('seed:', seed)\n",
    "    sequences = tokenizer.texts_to_sequences([seed])\n",
    "#    print('sequences:', sequences)\n",
    "    X_pred = pad_sequences(sequences, maxlen=sequence_size, padding = 'post')\n",
    "#    print('X_pred:', X_pred)\n",
    "    preds = model5.predict(X_pred, verbose=0)[0]\n",
    "    samples = [sample(p) for p in preds]\n",
    "#    print('samples:', samples)\n",
    "    next_index = samples[i]\n",
    "#    print('next_index:', next_index)\n",
    "    while next_index==0 or (index_char[next_index] in [label[0:3].lower() for label in labels]):\n",
    "        samples = [sample(p) for p in preds]\n",
    "        next_index = samples[i]\n",
    "#        print('next_index:', next_index)\n",
    "#        next_char = index_char[next_index]\n",
    "    next_char = index_char[next_index]\n",
    "    generated += next_char + ' '\n",
    "    print(generated)\n",
    "    seed += ' '+next_char\n",
    "    if next_char == 'eos':\n",
    "        break"
   ]
  },
  {
   "cell_type": "code",
   "execution_count": null,
   "metadata": {},
   "outputs": [],
   "source": []
  }
 ],
 "metadata": {
  "hide_input": false,
  "kernelspec": {
   "display_name": "Python 3",
   "language": "python",
   "name": "python3"
  },
  "language_info": {
   "codemirror_mode": {
    "name": "ipython",
    "version": 3
   },
   "file_extension": ".py",
   "mimetype": "text/x-python",
   "name": "python",
   "nbconvert_exporter": "python",
   "pygments_lexer": "ipython3",
   "version": "3.6.6"
  },
  "toc": {
   "base_numbering": 1,
   "nav_menu": {},
   "number_sections": true,
   "sideBar": true,
   "skip_h1_title": false,
   "title_cell": "Table of Contents",
   "title_sidebar": "Contents",
   "toc_cell": false,
   "toc_position": {
    "height": "calc(100% - 180px)",
    "left": "10px",
    "top": "150px",
    "width": "324px"
   },
   "toc_section_display": true,
   "toc_window_display": true
  },
  "varInspector": {
   "cols": {
    "lenName": 16,
    "lenType": 16,
    "lenVar": 40
   },
   "kernels_config": {
    "python": {
     "delete_cmd_postfix": "",
     "delete_cmd_prefix": "del ",
     "library": "var_list.py",
     "varRefreshCmd": "print(var_dic_list())"
    },
    "r": {
     "delete_cmd_postfix": ") ",
     "delete_cmd_prefix": "rm(",
     "library": "var_list.r",
     "varRefreshCmd": "cat(var_dic_list()) "
    }
   },
   "position": {
    "height": "610px",
    "left": "1225px",
    "right": "20px",
    "top": "120px",
    "width": "350px"
   },
   "types_to_exclude": [
    "module",
    "function",
    "builtin_function_or_method",
    "instance",
    "_Feature"
   ],
   "window_display": false
  }
 },
 "nbformat": 4,
 "nbformat_minor": 2
}
