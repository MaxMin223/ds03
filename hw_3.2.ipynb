{
 "cells": [
  {
   "cell_type": "markdown",
   "metadata": {},
   "source": [
    "# Задание к занятию «Методы декомпозиции»\n",
    "\n",
    "Преподаватель: Егор Сачко\n",
    "Описание задания:\n",
    "\n",
    "Что сделать\n",
    "\n",
    "Обязательные\n",
    "\n",
    "1. Провести первичный анализ данных\n",
    "\n",
    "Посмотреть распределения признаков, выделить самые популярные MCC, помотреть активность клиентов по дням недели/времени, какие категории транзакции (trx_category) наиболее популярны и т.д. Получить инсайты, которые в дальнейшем помогут вам правильно подготовить фичи.\n",
    "\n",
    "2. На большом количестве фичей применить Lasso регрессию и посмотреть, какие переменные получают 0 в качестве коэффициентов.\n",
    "\n",
    "3. На фичах из MCC кодов применить PCA и посмотреть, какие фичи получаются и что они могут объяснять (для этого посмотреть на коэффициенты в sklearn.decomposition.pca.components_ после построения главных компонент).\n",
    "\n",
    "4. С отобранными фичами и полученными компонентами обучить модель (тип алгоритма на свой вкус, можно начать с линейной) и померить качество на локальном тестовом наборе данных (локальная валидация), который создается в этом ноутбуке. Сравнить качество модели до добавления компонент/после добавления/только на главных компонентах. \n",
    "\n",
    "Метрика оценки качества — ROC AUC.\n",
    "\n",
    " \n",
    "\n",
    "Дополнительные\n",
    "\n",
    "Поучаствовать в соревновании - загрузить предсказания на https://boosters.pro/champ_15. Для этого используйте все данные из файла rosbank_train.csv, на них делать feature engineering и обучениеб затем делать предсказания для клиентов из файла rosbank_test.csv, предварительно создав фичи по аналогии с train.\n",
    "\n",
    " \n",
    "\n",
    "Формат сдачи\n",
    "\n",
    "Ноутбук с кодом/картинками выполненной обязательной части + указание места в leaderboard при решении дополнительной.\n",
    "\n",
    " \n",
    "\n",
    "Дополнительная информация по заданию\n",
    "\n",
    "Ноубук на Гитхабе."
   ]
  },
  {
   "cell_type": "markdown",
   "metadata": {},
   "source": [
    "## Обработка данных"
   ]
  },
  {
   "cell_type": "markdown",
   "metadata": {},
   "source": [
    "При подготовке признаков будем использовать дополнительные данные:\n",
    "- справочник MMC кодов https://mcc-codes.ru/ , который позволит получить категории\n",
    "- курсы валют http://export.rbc.ru/expdocs/free.cb.0.shtml, что позволит перевести валютные операции в рубли, для дальнейшего агрегирования\n",
    "- ISO справочник валют нужен для объединения исходных данных и курсов валют (https://www.currency-iso.org/en/home/tables/table-a1.html)"
   ]
  },
  {
   "cell_type": "code",
   "execution_count": 107,
   "metadata": {
    "ExecuteTime": {
     "end_time": "2018-05-27T18:52:47.882726Z",
     "start_time": "2018-05-27T18:52:47.872948Z"
    }
   },
   "outputs": [],
   "source": [
    "import pandas as pd\n",
    "import numpy as np\n",
    "import matplotlib.pyplot as plt\n",
    "import seaborn as sns; sns.set()\n",
    "%matplotlib inline"
   ]
  },
  {
   "cell_type": "code",
   "execution_count": 108,
   "metadata": {
    "ExecuteTime": {
     "end_time": "2018-05-27T18:52:49.975246Z",
     "start_time": "2018-05-27T18:52:47.889257Z"
    }
   },
   "outputs": [],
   "source": [
    "df_train = pd.read_csv('train.csv', dtype={'currency': object, 'MCC': object})\n",
    "df_test = pd.read_csv('test.csv', dtype={'currency': object, 'MCC': object})\n",
    "mcc_codes = pd.read_csv('mcc-codes.csv', dtype={'MCC': object })\n",
    "iso_codes = pd.read_csv('iso_codes.csv', dtype={'Numeric Code': object })\n",
    "curr_rates = pd.read_csv('curr_rates.csv', dtype={'Numeric Code': object })"
   ]
  },
  {
   "cell_type": "code",
   "execution_count": 109,
   "metadata": {
    "ExecuteTime": {
     "end_time": "2018-05-27T18:52:50.073350Z",
     "start_time": "2018-05-27T18:52:49.980566Z"
    }
   },
   "outputs": [
    {
     "data": {
      "text/html": [
       "<div>\n",
       "<style scoped>\n",
       "    .dataframe tbody tr th:only-of-type {\n",
       "        vertical-align: middle;\n",
       "    }\n",
       "\n",
       "    .dataframe tbody tr th {\n",
       "        vertical-align: top;\n",
       "    }\n",
       "\n",
       "    .dataframe thead th {\n",
       "        text-align: right;\n",
       "    }\n",
       "</style>\n",
       "<table border=\"1\" class=\"dataframe\">\n",
       "  <thead>\n",
       "    <tr style=\"text-align: right;\">\n",
       "      <th></th>\n",
       "      <th>target_flag</th>\n",
       "    </tr>\n",
       "    <tr>\n",
       "      <th>cl_id</th>\n",
       "      <th></th>\n",
       "    </tr>\n",
       "  </thead>\n",
       "  <tbody>\n",
       "    <tr>\n",
       "      <th>0</th>\n",
       "      <td>0</td>\n",
       "    </tr>\n",
       "    <tr>\n",
       "      <th>1</th>\n",
       "      <td>0</td>\n",
       "    </tr>\n",
       "    <tr>\n",
       "      <th>5</th>\n",
       "      <td>1</td>\n",
       "    </tr>\n",
       "    <tr>\n",
       "      <th>9</th>\n",
       "      <td>0</td>\n",
       "    </tr>\n",
       "    <tr>\n",
       "      <th>10</th>\n",
       "      <td>0</td>\n",
       "    </tr>\n",
       "  </tbody>\n",
       "</table>\n",
       "</div>"
      ],
      "text/plain": [
       "       target_flag\n",
       "cl_id             \n",
       "0                0\n",
       "1                0\n",
       "5                1\n",
       "9                0\n",
       "10               0"
      ]
     },
     "execution_count": 109,
     "metadata": {},
     "output_type": "execute_result"
    }
   ],
   "source": [
    "y = df_train[['cl_id','target_flag']]\n",
    "df_train.drop(['target_flag', 'target_sum'], axis=1, inplace=True)\n",
    "y = y.drop_duplicates()\n",
    "y = y.set_index('cl_id')\n",
    "y.head()"
   ]
  },
  {
   "cell_type": "code",
   "execution_count": 110,
   "metadata": {
    "ExecuteTime": {
     "end_time": "2018-05-27T18:52:50.087784Z",
     "start_time": "2018-05-27T18:52:50.077340Z"
    }
   },
   "outputs": [
    {
     "data": {
      "text/plain": [
       "1    2767\n",
       "0    2233\n",
       "Name: target_flag, dtype: int64"
      ]
     },
     "execution_count": 110,
     "metadata": {},
     "output_type": "execute_result"
    }
   ],
   "source": [
    "y['target_flag'].value_counts()"
   ]
  },
  {
   "cell_type": "markdown",
   "metadata": {},
   "source": [
    "Категории более менее сбалансированы, но на кросс валидации будем делать стратифицированное разбиение обучающего набора"
   ]
  },
  {
   "cell_type": "code",
   "execution_count": 111,
   "metadata": {
    "ExecuteTime": {
     "end_time": "2018-05-27T18:52:50.109554Z",
     "start_time": "2018-05-27T18:52:50.091616Z"
    }
   },
   "outputs": [
    {
     "data": {
      "text/plain": [
       "((490513, 9), (518376, 9), (5000, 1))"
      ]
     },
     "execution_count": 111,
     "metadata": {},
     "output_type": "execute_result"
    }
   ],
   "source": [
    "df_train['is_test'] = 0\n",
    "df_test['is_test'] = 1\n",
    "df_train.shape, df_test.shape, y.shape"
   ]
  },
  {
   "cell_type": "markdown",
   "metadata": {},
   "source": [
    "Готовить новые признаки и агреггировать будем сразу для обоих наборов данных"
   ]
  },
  {
   "cell_type": "code",
   "execution_count": 112,
   "metadata": {
    "ExecuteTime": {
     "end_time": "2018-05-27T18:52:50.600470Z",
     "start_time": "2018-05-27T18:52:50.114984Z"
    }
   },
   "outputs": [
    {
     "data": {
      "text/plain": [
       "(1008889, 9)"
      ]
     },
     "execution_count": 112,
     "metadata": {},
     "output_type": "execute_result"
    }
   ],
   "source": [
    "df = pd.concat([df_train, df_test])\n",
    "df.shape"
   ]
  },
  {
   "cell_type": "code",
   "execution_count": 113,
   "metadata": {
    "ExecuteTime": {
     "end_time": "2018-05-27T18:52:51.682010Z",
     "start_time": "2018-05-27T18:52:50.603937Z"
    }
   },
   "outputs": [
    {
     "name": "stdout",
     "output_type": "stream",
     "text": [
      "<class 'pandas.core.frame.DataFrame'>\n",
      "Int64Index: 1008889 entries, 0 to 518375\n",
      "Data columns (total 9 columns):\n",
      "PERIOD          1008889 non-null object\n",
      "cl_id           1008889 non-null int64\n",
      "MCC             1008889 non-null object\n",
      "channel_type    1003825 non-null object\n",
      "currency        1008889 non-null object\n",
      "TRDATETIME      1008889 non-null object\n",
      "amount          1008889 non-null float64\n",
      "trx_category    1008889 non-null object\n",
      "is_test         1008889 non-null int64\n",
      "dtypes: float64(1), int64(2), object(6)\n",
      "memory usage: 77.0+ MB\n"
     ]
    }
   ],
   "source": [
    "df.info()"
   ]
  },
  {
   "cell_type": "markdown",
   "metadata": {},
   "source": [
    "В channel_type есть пустые значения. Возможно, один из видов каналов привлечения клиентов просто не заполнен. Заполним пустые значения channel_type константой, которую модель будет трактовать как отдельный канал привлечения"
   ]
  },
  {
   "cell_type": "code",
   "execution_count": 114,
   "metadata": {
    "ExecuteTime": {
     "end_time": "2018-05-27T18:52:51.913603Z",
     "start_time": "2018-05-27T18:52:51.686416Z"
    }
   },
   "outputs": [
    {
     "data": {
      "text/plain": [
       "type1    619756\n",
       "type2    357071\n",
       "type5      9668\n",
       "type4      9485\n",
       "type3      7845\n",
       "Name: channel_type, dtype: int64"
      ]
     },
     "execution_count": 114,
     "metadata": {},
     "output_type": "execute_result"
    }
   ],
   "source": [
    "df['channel_type'].value_counts()"
   ]
  },
  {
   "cell_type": "code",
   "execution_count": 115,
   "metadata": {
    "ExecuteTime": {
     "end_time": "2018-05-27T18:52:52.005694Z",
     "start_time": "2018-05-27T18:52:51.916671Z"
    }
   },
   "outputs": [],
   "source": [
    "df['channel_type'].fillna('NaN', inplace=True)"
   ]
  },
  {
   "cell_type": "code",
   "execution_count": 116,
   "metadata": {
    "ExecuteTime": {
     "end_time": "2018-05-27T18:52:52.644483Z",
     "start_time": "2018-05-27T18:52:52.008685Z"
    }
   },
   "outputs": [
    {
     "name": "stdout",
     "output_type": "stream",
     "text": [
      "<class 'pandas.core.frame.DataFrame'>\n",
      "Int64Index: 1008889 entries, 0 to 518375\n",
      "Data columns (total 9 columns):\n",
      "PERIOD          1008889 non-null object\n",
      "cl_id           1008889 non-null int64\n",
      "MCC             1008889 non-null object\n",
      "channel_type    1008889 non-null object\n",
      "currency        1008889 non-null object\n",
      "TRDATETIME      1008889 non-null object\n",
      "amount          1008889 non-null float64\n",
      "trx_category    1008889 non-null object\n",
      "is_test         1008889 non-null int64\n",
      "dtypes: float64(1), int64(2), object(6)\n",
      "memory usage: 77.0+ MB\n"
     ]
    }
   ],
   "source": [
    "df.info()"
   ]
  },
  {
   "cell_type": "code",
   "execution_count": 117,
   "metadata": {
    "ExecuteTime": {
     "end_time": "2018-05-27T18:52:52.670706Z",
     "start_time": "2018-05-27T18:52:52.648034Z"
    }
   },
   "outputs": [
    {
     "data": {
      "text/html": [
       "<div>\n",
       "<style scoped>\n",
       "    .dataframe tbody tr th:only-of-type {\n",
       "        vertical-align: middle;\n",
       "    }\n",
       "\n",
       "    .dataframe tbody tr th {\n",
       "        vertical-align: top;\n",
       "    }\n",
       "\n",
       "    .dataframe thead th {\n",
       "        text-align: right;\n",
       "    }\n",
       "</style>\n",
       "<table border=\"1\" class=\"dataframe\">\n",
       "  <thead>\n",
       "    <tr style=\"text-align: right;\">\n",
       "      <th></th>\n",
       "      <th>PERIOD</th>\n",
       "      <th>cl_id</th>\n",
       "      <th>MCC</th>\n",
       "      <th>channel_type</th>\n",
       "      <th>currency</th>\n",
       "      <th>TRDATETIME</th>\n",
       "      <th>amount</th>\n",
       "      <th>trx_category</th>\n",
       "      <th>is_test</th>\n",
       "    </tr>\n",
       "  </thead>\n",
       "  <tbody>\n",
       "    <tr>\n",
       "      <th>0</th>\n",
       "      <td>01/10/2017</td>\n",
       "      <td>0</td>\n",
       "      <td>5200</td>\n",
       "      <td>NaN</td>\n",
       "      <td>810</td>\n",
       "      <td>21OCT17:00:00:00</td>\n",
       "      <td>5023.0</td>\n",
       "      <td>POS</td>\n",
       "      <td>0</td>\n",
       "    </tr>\n",
       "    <tr>\n",
       "      <th>1</th>\n",
       "      <td>01/10/2017</td>\n",
       "      <td>0</td>\n",
       "      <td>6011</td>\n",
       "      <td>NaN</td>\n",
       "      <td>810</td>\n",
       "      <td>12OCT17:12:24:07</td>\n",
       "      <td>20000.0</td>\n",
       "      <td>DEPOSIT</td>\n",
       "      <td>0</td>\n",
       "    </tr>\n",
       "    <tr>\n",
       "      <th>2</th>\n",
       "      <td>01/12/2017</td>\n",
       "      <td>0</td>\n",
       "      <td>5921</td>\n",
       "      <td>NaN</td>\n",
       "      <td>810</td>\n",
       "      <td>05DEC17:00:00:00</td>\n",
       "      <td>767.0</td>\n",
       "      <td>POS</td>\n",
       "      <td>0</td>\n",
       "    </tr>\n",
       "    <tr>\n",
       "      <th>3</th>\n",
       "      <td>01/10/2017</td>\n",
       "      <td>0</td>\n",
       "      <td>5411</td>\n",
       "      <td>NaN</td>\n",
       "      <td>810</td>\n",
       "      <td>21OCT17:00:00:00</td>\n",
       "      <td>2031.0</td>\n",
       "      <td>POS</td>\n",
       "      <td>0</td>\n",
       "    </tr>\n",
       "    <tr>\n",
       "      <th>4</th>\n",
       "      <td>01/10/2017</td>\n",
       "      <td>0</td>\n",
       "      <td>6012</td>\n",
       "      <td>NaN</td>\n",
       "      <td>810</td>\n",
       "      <td>24OCT17:13:14:24</td>\n",
       "      <td>36562.0</td>\n",
       "      <td>C2C_OUT</td>\n",
       "      <td>0</td>\n",
       "    </tr>\n",
       "  </tbody>\n",
       "</table>\n",
       "</div>"
      ],
      "text/plain": [
       "       PERIOD  cl_id   MCC channel_type currency        TRDATETIME   amount  \\\n",
       "0  01/10/2017      0  5200          NaN      810  21OCT17:00:00:00   5023.0   \n",
       "1  01/10/2017      0  6011          NaN      810  12OCT17:12:24:07  20000.0   \n",
       "2  01/12/2017      0  5921          NaN      810  05DEC17:00:00:00    767.0   \n",
       "3  01/10/2017      0  5411          NaN      810  21OCT17:00:00:00   2031.0   \n",
       "4  01/10/2017      0  6012          NaN      810  24OCT17:13:14:24  36562.0   \n",
       "\n",
       "  trx_category  is_test  \n",
       "0          POS        0  \n",
       "1      DEPOSIT        0  \n",
       "2          POS        0  \n",
       "3          POS        0  \n",
       "4      C2C_OUT        0  "
      ]
     },
     "execution_count": 117,
     "metadata": {},
     "output_type": "execute_result"
    }
   ],
   "source": [
    "df.head()"
   ]
  },
  {
   "cell_type": "markdown",
   "metadata": {},
   "source": [
    "### Категории MMC"
   ]
  },
  {
   "cell_type": "markdown",
   "metadata": {},
   "source": [
    "Добавим категории MCC кодов"
   ]
  },
  {
   "cell_type": "code",
   "execution_count": 118,
   "metadata": {
    "ExecuteTime": {
     "end_time": "2018-05-27T18:52:52.691551Z",
     "start_time": "2018-05-27T18:52:52.673326Z"
    }
   },
   "outputs": [
    {
     "data": {
      "text/plain": [
       "Отели и мотели                      304\n",
       "Авиалинии_авиакомпании              289\n",
       "Арендаавтомобилей                    92\n",
       "Различныемагазины                    53\n",
       "Поставщик услуг                      33\n",
       "Оптовыепоставщики ипроизводители     31\n",
       "Бизнес услуги                        25\n",
       "Развлечения                          22\n",
       "Розничныемагазины                    21\n",
       "Профессиональныеуслуги               20\n",
       "Транспорт                            18\n",
       "Личные услуги                        17\n",
       "Ремонтные услуги                     13\n",
       "Автомобили итранспортныесредства     13\n",
       "Магазины одежды                      12\n",
       "Контрактныеуслуги                    11\n",
       "Государственныеуслуги                11\n",
       "Продажи по почте/телефону             9\n",
       "Коммунальные икабельные услуги        8\n",
       "Членскиеорганизации                   6\n",
       "Name: MCC_group, dtype: int64"
      ]
     },
     "execution_count": 118,
     "metadata": {},
     "output_type": "execute_result"
    }
   ],
   "source": [
    "mcc_codes = mcc_codes[['MCC', 'MCC_group']]\n",
    "mcc_codes['MCC_group'].value_counts()"
   ]
  },
  {
   "cell_type": "code",
   "execution_count": 119,
   "metadata": {
    "ExecuteTime": {
     "end_time": "2018-05-27T18:52:53.165549Z",
     "start_time": "2018-05-27T18:52:52.695991Z"
    }
   },
   "outputs": [
    {
     "data": {
      "text/plain": [
       "4    1008682\n",
       "3        207\n",
       "Name: MCC, dtype: int64"
      ]
     },
     "execution_count": 119,
     "metadata": {},
     "output_type": "execute_result"
    }
   ],
   "source": [
    "df['MCC'].str.len().value_counts()"
   ]
  },
  {
   "cell_type": "code",
   "execution_count": 120,
   "metadata": {
    "ExecuteTime": {
     "end_time": "2018-05-27T18:52:53.179362Z",
     "start_time": "2018-05-27T18:52:53.168579Z"
    }
   },
   "outputs": [
    {
     "data": {
      "text/plain": [
       "4    1019\n",
       "Name: MCC, dtype: int64"
      ]
     },
     "execution_count": 120,
     "metadata": {},
     "output_type": "execute_result"
    }
   ],
   "source": [
    "mcc_codes['MCC'].str.len().value_counts()"
   ]
  },
  {
   "cell_type": "markdown",
   "metadata": {},
   "source": [
    "Перед объединением, трехзначные MCC коды дополним нулем до четырех знаков"
   ]
  },
  {
   "cell_type": "code",
   "execution_count": 121,
   "metadata": {
    "ExecuteTime": {
     "end_time": "2018-05-27T18:52:53.746195Z",
     "start_time": "2018-05-27T18:52:53.183359Z"
    }
   },
   "outputs": [],
   "source": [
    "df['MCC'] = df['MCC'].str.pad(4, side='left', fillchar='0')"
   ]
  },
  {
   "cell_type": "code",
   "execution_count": 122,
   "metadata": {
    "ExecuteTime": {
     "end_time": "2018-05-27T18:52:54.251206Z",
     "start_time": "2018-05-27T18:52:53.748837Z"
    }
   },
   "outputs": [
    {
     "data": {
      "text/plain": [
       "4    1008889\n",
       "Name: MCC, dtype: int64"
      ]
     },
     "execution_count": 122,
     "metadata": {},
     "output_type": "execute_result"
    }
   ],
   "source": [
    "df['MCC'].str.len().value_counts()"
   ]
  },
  {
   "cell_type": "code",
   "execution_count": 123,
   "metadata": {
    "ExecuteTime": {
     "end_time": "2018-05-27T18:52:54.912457Z",
     "start_time": "2018-05-27T18:52:54.260049Z"
    }
   },
   "outputs": [],
   "source": [
    "df = pd.merge(df, mcc_codes, how='left', on='MCC')"
   ]
  },
  {
   "cell_type": "code",
   "execution_count": 124,
   "metadata": {
    "ExecuteTime": {
     "end_time": "2018-05-27T18:52:55.545534Z",
     "start_time": "2018-05-27T18:52:54.917608Z"
    }
   },
   "outputs": [
    {
     "data": {
      "text/html": [
       "<div>\n",
       "<style scoped>\n",
       "    .dataframe tbody tr th:only-of-type {\n",
       "        vertical-align: middle;\n",
       "    }\n",
       "\n",
       "    .dataframe tbody tr th {\n",
       "        vertical-align: top;\n",
       "    }\n",
       "\n",
       "    .dataframe thead th {\n",
       "        text-align: right;\n",
       "    }\n",
       "</style>\n",
       "<table border=\"1\" class=\"dataframe\">\n",
       "  <thead>\n",
       "    <tr style=\"text-align: right;\">\n",
       "      <th></th>\n",
       "      <th>PERIOD</th>\n",
       "      <th>cl_id</th>\n",
       "      <th>MCC</th>\n",
       "      <th>channel_type</th>\n",
       "      <th>currency</th>\n",
       "      <th>TRDATETIME</th>\n",
       "      <th>amount</th>\n",
       "      <th>trx_category</th>\n",
       "      <th>is_test</th>\n",
       "      <th>MCC_group</th>\n",
       "    </tr>\n",
       "  </thead>\n",
       "  <tbody>\n",
       "    <tr>\n",
       "      <th>541019</th>\n",
       "      <td>01/12/2016</td>\n",
       "      <td>935</td>\n",
       "      <td>4829</td>\n",
       "      <td>type2</td>\n",
       "      <td>810</td>\n",
       "      <td>12DEC16:17:59:33</td>\n",
       "      <td>5000.00</td>\n",
       "      <td>C2C_OUT</td>\n",
       "      <td>1</td>\n",
       "      <td>Поставщик услуг</td>\n",
       "    </tr>\n",
       "    <tr>\n",
       "      <th>386005</th>\n",
       "      <td>01/06/2017</td>\n",
       "      <td>7803</td>\n",
       "      <td>6011</td>\n",
       "      <td>type1</td>\n",
       "      <td>810</td>\n",
       "      <td>05JUN17:10:58:21</td>\n",
       "      <td>800.00</td>\n",
       "      <td>WD_ATM_ROS</td>\n",
       "      <td>0</td>\n",
       "      <td>Поставщик услуг</td>\n",
       "    </tr>\n",
       "    <tr>\n",
       "      <th>824091</th>\n",
       "      <td>01/01/2017</td>\n",
       "      <td>6091</td>\n",
       "      <td>4829</td>\n",
       "      <td>type1</td>\n",
       "      <td>810</td>\n",
       "      <td>19JAN17:19:47:34</td>\n",
       "      <td>5949.42</td>\n",
       "      <td>C2C_OUT</td>\n",
       "      <td>1</td>\n",
       "      <td>Поставщик услуг</td>\n",
       "    </tr>\n",
       "    <tr>\n",
       "      <th>70145</th>\n",
       "      <td>01/05/2017</td>\n",
       "      <td>1262</td>\n",
       "      <td>5311</td>\n",
       "      <td>type2</td>\n",
       "      <td>810</td>\n",
       "      <td>02MAY17:00:00:00</td>\n",
       "      <td>1592.17</td>\n",
       "      <td>POS</td>\n",
       "      <td>0</td>\n",
       "      <td>Розничныемагазины</td>\n",
       "    </tr>\n",
       "    <tr>\n",
       "      <th>72999</th>\n",
       "      <td>01/05/2017</td>\n",
       "      <td>1317</td>\n",
       "      <td>5411</td>\n",
       "      <td>type2</td>\n",
       "      <td>810</td>\n",
       "      <td>20MAY17:00:00:00</td>\n",
       "      <td>148.50</td>\n",
       "      <td>POS</td>\n",
       "      <td>0</td>\n",
       "      <td>Розничныемагазины</td>\n",
       "    </tr>\n",
       "    <tr>\n",
       "      <th>874775</th>\n",
       "      <td>01/01/2017</td>\n",
       "      <td>7237</td>\n",
       "      <td>5814</td>\n",
       "      <td>type1</td>\n",
       "      <td>810</td>\n",
       "      <td>05JAN17:00:00:00</td>\n",
       "      <td>167.00</td>\n",
       "      <td>POS</td>\n",
       "      <td>1</td>\n",
       "      <td>Различныемагазины</td>\n",
       "    </tr>\n",
       "    <tr>\n",
       "      <th>908533</th>\n",
       "      <td>01/03/2017</td>\n",
       "      <td>7873</td>\n",
       "      <td>6011</td>\n",
       "      <td>type1</td>\n",
       "      <td>810</td>\n",
       "      <td>20MAR17:07:24:21</td>\n",
       "      <td>60000.00</td>\n",
       "      <td>DEPOSIT</td>\n",
       "      <td>1</td>\n",
       "      <td>Поставщик услуг</td>\n",
       "    </tr>\n",
       "    <tr>\n",
       "      <th>538769</th>\n",
       "      <td>01/03/2017</td>\n",
       "      <td>881</td>\n",
       "      <td>5411</td>\n",
       "      <td>type2</td>\n",
       "      <td>810</td>\n",
       "      <td>22MAR17:00:00:00</td>\n",
       "      <td>199.00</td>\n",
       "      <td>POS</td>\n",
       "      <td>1</td>\n",
       "      <td>Розничныемагазины</td>\n",
       "    </tr>\n",
       "    <tr>\n",
       "      <th>160469</th>\n",
       "      <td>01/11/2016</td>\n",
       "      <td>2838</td>\n",
       "      <td>4112</td>\n",
       "      <td>type2</td>\n",
       "      <td>810</td>\n",
       "      <td>23NOV16:00:00:00</td>\n",
       "      <td>2188.00</td>\n",
       "      <td>POS</td>\n",
       "      <td>0</td>\n",
       "      <td>Транспорт</td>\n",
       "    </tr>\n",
       "    <tr>\n",
       "      <th>194786</th>\n",
       "      <td>01/06/2017</td>\n",
       "      <td>3430</td>\n",
       "      <td>5814</td>\n",
       "      <td>type1</td>\n",
       "      <td>810</td>\n",
       "      <td>21JUN17:00:00:00</td>\n",
       "      <td>228.00</td>\n",
       "      <td>POS</td>\n",
       "      <td>0</td>\n",
       "      <td>Различныемагазины</td>\n",
       "    </tr>\n",
       "  </tbody>\n",
       "</table>\n",
       "</div>"
      ],
      "text/plain": [
       "            PERIOD  cl_id   MCC channel_type currency        TRDATETIME  \\\n",
       "541019  01/12/2016    935  4829        type2      810  12DEC16:17:59:33   \n",
       "386005  01/06/2017   7803  6011        type1      810  05JUN17:10:58:21   \n",
       "824091  01/01/2017   6091  4829        type1      810  19JAN17:19:47:34   \n",
       "70145   01/05/2017   1262  5311        type2      810  02MAY17:00:00:00   \n",
       "72999   01/05/2017   1317  5411        type2      810  20MAY17:00:00:00   \n",
       "874775  01/01/2017   7237  5814        type1      810  05JAN17:00:00:00   \n",
       "908533  01/03/2017   7873  6011        type1      810  20MAR17:07:24:21   \n",
       "538769  01/03/2017    881  5411        type2      810  22MAR17:00:00:00   \n",
       "160469  01/11/2016   2838  4112        type2      810  23NOV16:00:00:00   \n",
       "194786  01/06/2017   3430  5814        type1      810  21JUN17:00:00:00   \n",
       "\n",
       "          amount trx_category  is_test          MCC_group  \n",
       "541019   5000.00      C2C_OUT        1    Поставщик услуг  \n",
       "386005    800.00   WD_ATM_ROS        0    Поставщик услуг  \n",
       "824091   5949.42      C2C_OUT        1    Поставщик услуг  \n",
       "70145    1592.17          POS        0  Розничныемагазины  \n",
       "72999     148.50          POS        0  Розничныемагазины  \n",
       "874775    167.00          POS        1  Различныемагазины  \n",
       "908533  60000.00      DEPOSIT        1    Поставщик услуг  \n",
       "538769    199.00          POS        1  Розничныемагазины  \n",
       "160469   2188.00          POS        0          Транспорт  \n",
       "194786    228.00          POS        0  Различныемагазины  "
      ]
     },
     "execution_count": 124,
     "metadata": {},
     "output_type": "execute_result"
    }
   ],
   "source": [
    "df.sample(10)"
   ]
  },
  {
   "cell_type": "code",
   "execution_count": 125,
   "metadata": {
    "ExecuteTime": {
     "end_time": "2018-05-27T18:52:56.167329Z",
     "start_time": "2018-05-27T18:52:55.552471Z"
    }
   },
   "outputs": [
    {
     "name": "stdout",
     "output_type": "stream",
     "text": [
      "<class 'pandas.core.frame.DataFrame'>\n",
      "Int64Index: 1008889 entries, 0 to 1008888\n",
      "Data columns (total 10 columns):\n",
      "PERIOD          1008889 non-null object\n",
      "cl_id           1008889 non-null int64\n",
      "MCC             1008889 non-null object\n",
      "channel_type    1008889 non-null object\n",
      "currency        1008889 non-null object\n",
      "TRDATETIME      1008889 non-null object\n",
      "amount          1008889 non-null float64\n",
      "trx_category    1008889 non-null object\n",
      "is_test         1008889 non-null int64\n",
      "MCC_group       1008887 non-null object\n",
      "dtypes: float64(1), int64(2), object(7)\n",
      "memory usage: 84.7+ MB\n"
     ]
    }
   ],
   "source": [
    "df.info()"
   ]
  },
  {
   "cell_type": "markdown",
   "metadata": {},
   "source": [
    "Пустые значения MCC_group заполним константой"
   ]
  },
  {
   "cell_type": "code",
   "execution_count": 126,
   "metadata": {
    "ExecuteTime": {
     "end_time": "2018-05-27T18:52:56.252499Z",
     "start_time": "2018-05-27T18:52:56.171276Z"
    }
   },
   "outputs": [],
   "source": [
    "df['MCC_group'].fillna('Nan', inplace=True)"
   ]
  },
  {
   "cell_type": "code",
   "execution_count": 127,
   "metadata": {
    "ExecuteTime": {
     "end_time": "2018-05-27T18:52:56.866737Z",
     "start_time": "2018-05-27T18:52:56.256090Z"
    }
   },
   "outputs": [
    {
     "name": "stdout",
     "output_type": "stream",
     "text": [
      "<class 'pandas.core.frame.DataFrame'>\n",
      "Int64Index: 1008889 entries, 0 to 1008888\n",
      "Data columns (total 10 columns):\n",
      "PERIOD          1008889 non-null object\n",
      "cl_id           1008889 non-null int64\n",
      "MCC             1008889 non-null object\n",
      "channel_type    1008889 non-null object\n",
      "currency        1008889 non-null object\n",
      "TRDATETIME      1008889 non-null object\n",
      "amount          1008889 non-null float64\n",
      "trx_category    1008889 non-null object\n",
      "is_test         1008889 non-null int64\n",
      "MCC_group       1008889 non-null object\n",
      "dtypes: float64(1), int64(2), object(7)\n",
      "memory usage: 84.7+ MB\n"
     ]
    }
   ],
   "source": [
    "df.info()"
   ]
  },
  {
   "cell_type": "markdown",
   "metadata": {},
   "source": [
    "### Курсы валют"
   ]
  },
  {
   "cell_type": "markdown",
   "metadata": {},
   "source": [
    "Видно, что большинство транзакций не содержат данных о времени проведения операции. Поэтому нет смысла добавлять признаки, связанные с времененем операции. А жаль, можно было бы агрегировать транзакции по времени суток.."
   ]
  },
  {
   "cell_type": "code",
   "execution_count": 128,
   "metadata": {
    "ExecuteTime": {
     "end_time": "2018-05-27T18:52:57.739204Z",
     "start_time": "2018-05-27T18:52:56.870375Z"
    }
   },
   "outputs": [
    {
     "data": {
      "text/plain": [
       "(890639, 10)"
      ]
     },
     "execution_count": 128,
     "metadata": {},
     "output_type": "execute_result"
    }
   ],
   "source": [
    "df[df['TRDATETIME'].str.contains(':00:00:00') ].shape"
   ]
  },
  {
   "cell_type": "code",
   "execution_count": 129,
   "metadata": {
    "ExecuteTime": {
     "end_time": "2018-05-27T18:53:15.202684Z",
     "start_time": "2018-05-27T18:52:57.743094Z"
    }
   },
   "outputs": [],
   "source": [
    "df['TRDATETIME'] =  pd.to_datetime(df['TRDATETIME'], format='%d%b%y:%H:%M:%S')\n",
    "df['PERIOD'] =  pd.to_datetime(df['PERIOD'], format='%d/%m/%Y')\n",
    "df['PERIOD'] = df['PERIOD'].dt.to_period('M')\n",
    "#df['TRDATETIME'] = df['TRDATETIME'].dt.date"
   ]
  },
  {
   "cell_type": "code",
   "execution_count": 130,
   "metadata": {
    "ExecuteTime": {
     "end_time": "2018-05-27T18:53:15.225928Z",
     "start_time": "2018-05-27T18:53:15.205597Z"
    }
   },
   "outputs": [
    {
     "data": {
      "text/html": [
       "<div>\n",
       "<style scoped>\n",
       "    .dataframe tbody tr th:only-of-type {\n",
       "        vertical-align: middle;\n",
       "    }\n",
       "\n",
       "    .dataframe tbody tr th {\n",
       "        vertical-align: top;\n",
       "    }\n",
       "\n",
       "    .dataframe thead th {\n",
       "        text-align: right;\n",
       "    }\n",
       "</style>\n",
       "<table border=\"1\" class=\"dataframe\">\n",
       "  <thead>\n",
       "    <tr style=\"text-align: right;\">\n",
       "      <th></th>\n",
       "      <th>PERIOD</th>\n",
       "      <th>cl_id</th>\n",
       "      <th>MCC</th>\n",
       "      <th>channel_type</th>\n",
       "      <th>currency</th>\n",
       "      <th>TRDATETIME</th>\n",
       "      <th>amount</th>\n",
       "      <th>trx_category</th>\n",
       "      <th>is_test</th>\n",
       "      <th>MCC_group</th>\n",
       "    </tr>\n",
       "  </thead>\n",
       "  <tbody>\n",
       "    <tr>\n",
       "      <th>0</th>\n",
       "      <td>2017-10</td>\n",
       "      <td>0</td>\n",
       "      <td>5200</td>\n",
       "      <td>NaN</td>\n",
       "      <td>810</td>\n",
       "      <td>2017-10-21 00:00:00</td>\n",
       "      <td>5023.0</td>\n",
       "      <td>POS</td>\n",
       "      <td>0</td>\n",
       "      <td>Розничныемагазины</td>\n",
       "    </tr>\n",
       "    <tr>\n",
       "      <th>1</th>\n",
       "      <td>2017-10</td>\n",
       "      <td>0</td>\n",
       "      <td>6011</td>\n",
       "      <td>NaN</td>\n",
       "      <td>810</td>\n",
       "      <td>2017-10-12 12:24:07</td>\n",
       "      <td>20000.0</td>\n",
       "      <td>DEPOSIT</td>\n",
       "      <td>0</td>\n",
       "      <td>Поставщик услуг</td>\n",
       "    </tr>\n",
       "    <tr>\n",
       "      <th>2</th>\n",
       "      <td>2017-12</td>\n",
       "      <td>0</td>\n",
       "      <td>5921</td>\n",
       "      <td>NaN</td>\n",
       "      <td>810</td>\n",
       "      <td>2017-12-05 00:00:00</td>\n",
       "      <td>767.0</td>\n",
       "      <td>POS</td>\n",
       "      <td>0</td>\n",
       "      <td>Различныемагазины</td>\n",
       "    </tr>\n",
       "    <tr>\n",
       "      <th>3</th>\n",
       "      <td>2017-10</td>\n",
       "      <td>0</td>\n",
       "      <td>5411</td>\n",
       "      <td>NaN</td>\n",
       "      <td>810</td>\n",
       "      <td>2017-10-21 00:00:00</td>\n",
       "      <td>2031.0</td>\n",
       "      <td>POS</td>\n",
       "      <td>0</td>\n",
       "      <td>Розничныемагазины</td>\n",
       "    </tr>\n",
       "    <tr>\n",
       "      <th>4</th>\n",
       "      <td>2017-10</td>\n",
       "      <td>0</td>\n",
       "      <td>6012</td>\n",
       "      <td>NaN</td>\n",
       "      <td>810</td>\n",
       "      <td>2017-10-24 13:14:24</td>\n",
       "      <td>36562.0</td>\n",
       "      <td>C2C_OUT</td>\n",
       "      <td>0</td>\n",
       "      <td>Поставщик услуг</td>\n",
       "    </tr>\n",
       "  </tbody>\n",
       "</table>\n",
       "</div>"
      ],
      "text/plain": [
       "   PERIOD  cl_id   MCC channel_type currency          TRDATETIME   amount  \\\n",
       "0 2017-10      0  5200          NaN      810 2017-10-21 00:00:00   5023.0   \n",
       "1 2017-10      0  6011          NaN      810 2017-10-12 12:24:07  20000.0   \n",
       "2 2017-12      0  5921          NaN      810 2017-12-05 00:00:00    767.0   \n",
       "3 2017-10      0  5411          NaN      810 2017-10-21 00:00:00   2031.0   \n",
       "4 2017-10      0  6012          NaN      810 2017-10-24 13:14:24  36562.0   \n",
       "\n",
       "  trx_category  is_test          MCC_group  \n",
       "0          POS        0  Розничныемагазины  \n",
       "1      DEPOSIT        0    Поставщик услуг  \n",
       "2          POS        0  Различныемагазины  \n",
       "3          POS        0  Розничныемагазины  \n",
       "4      C2C_OUT        0    Поставщик услуг  "
      ]
     },
     "execution_count": 130,
     "metadata": {},
     "output_type": "execute_result"
    }
   ],
   "source": [
    "df.head()"
   ]
  },
  {
   "cell_type": "code",
   "execution_count": 131,
   "metadata": {
    "ExecuteTime": {
     "end_time": "2018-05-27T18:53:16.197978Z",
     "start_time": "2018-05-27T18:53:15.229320Z"
    }
   },
   "outputs": [
    {
     "name": "stdout",
     "output_type": "stream",
     "text": [
      "<class 'pandas.core.frame.DataFrame'>\n",
      "Int64Index: 1008889 entries, 0 to 1008888\n",
      "Data columns (total 10 columns):\n",
      "PERIOD          1008889 non-null object\n",
      "cl_id           1008889 non-null int64\n",
      "MCC             1008889 non-null object\n",
      "channel_type    1008889 non-null object\n",
      "currency        1008889 non-null object\n",
      "TRDATETIME      1008889 non-null datetime64[ns]\n",
      "amount          1008889 non-null float64\n",
      "trx_category    1008889 non-null object\n",
      "is_test         1008889 non-null int64\n",
      "MCC_group       1008889 non-null object\n",
      "dtypes: datetime64[ns](1), float64(1), int64(2), object(6)\n",
      "memory usage: 84.7+ MB\n"
     ]
    }
   ],
   "source": [
    "df.info()"
   ]
  },
  {
   "cell_type": "markdown",
   "metadata": {},
   "source": [
    "Большинство операций в рублях. Для дальнейшего агреггирования по суммам операций добавим курс валюты на день операции (или ближайшего рабочего дня) и добавим новую колонку с суммой валютной операции в рублях."
   ]
  },
  {
   "cell_type": "code",
   "execution_count": 132,
   "metadata": {
    "ExecuteTime": {
     "end_time": "2018-05-27T18:53:16.379667Z",
     "start_time": "2018-05-27T18:53:16.200912Z"
    }
   },
   "outputs": [
    {
     "data": {
      "text/plain": [
       "810    981731\n",
       "978     11573\n",
       "840      3808\n",
       "933      1460\n",
       "764       941\n",
       "203       924\n",
       "949       902\n",
       "985       749\n",
       "826       705\n",
       "975       596\n",
       "Name: currency, dtype: int64"
      ]
     },
     "execution_count": 132,
     "metadata": {},
     "output_type": "execute_result"
    }
   ],
   "source": [
    "df['currency'].value_counts().head(10)"
   ]
  },
  {
   "cell_type": "code",
   "execution_count": 133,
   "metadata": {
    "ExecuteTime": {
     "end_time": "2018-05-27T18:53:16.871836Z",
     "start_time": "2018-05-27T18:53:16.382398Z"
    }
   },
   "outputs": [],
   "source": [
    "df['currency'] = df['currency'].str.pad(3, side='left', fillchar='0')"
   ]
  },
  {
   "cell_type": "code",
   "execution_count": 134,
   "metadata": {
    "ExecuteTime": {
     "end_time": "2018-05-27T18:53:16.889774Z",
     "start_time": "2018-05-27T18:53:16.875678Z"
    }
   },
   "outputs": [
    {
     "data": {
      "text/html": [
       "<div>\n",
       "<style scoped>\n",
       "    .dataframe tbody tr th:only-of-type {\n",
       "        vertical-align: middle;\n",
       "    }\n",
       "\n",
       "    .dataframe tbody tr th {\n",
       "        vertical-align: top;\n",
       "    }\n",
       "\n",
       "    .dataframe thead th {\n",
       "        text-align: right;\n",
       "    }\n",
       "</style>\n",
       "<table border=\"1\" class=\"dataframe\">\n",
       "  <thead>\n",
       "    <tr style=\"text-align: right;\">\n",
       "      <th></th>\n",
       "      <th>Alphabetic Code</th>\n",
       "      <th>Numeric Code</th>\n",
       "    </tr>\n",
       "  </thead>\n",
       "  <tbody>\n",
       "    <tr>\n",
       "      <th>0</th>\n",
       "      <td>AFN</td>\n",
       "      <td>971</td>\n",
       "    </tr>\n",
       "    <tr>\n",
       "      <th>1</th>\n",
       "      <td>EUR</td>\n",
       "      <td>978</td>\n",
       "    </tr>\n",
       "    <tr>\n",
       "      <th>2</th>\n",
       "      <td>ALL</td>\n",
       "      <td>008</td>\n",
       "    </tr>\n",
       "    <tr>\n",
       "      <th>3</th>\n",
       "      <td>DZD</td>\n",
       "      <td>012</td>\n",
       "    </tr>\n",
       "    <tr>\n",
       "      <th>4</th>\n",
       "      <td>USD</td>\n",
       "      <td>840</td>\n",
       "    </tr>\n",
       "  </tbody>\n",
       "</table>\n",
       "</div>"
      ],
      "text/plain": [
       "  Alphabetic Code Numeric Code\n",
       "0             AFN          971\n",
       "1             EUR          978\n",
       "2             ALL          008\n",
       "3             DZD          012\n",
       "4             USD          840"
      ]
     },
     "execution_count": 134,
     "metadata": {},
     "output_type": "execute_result"
    }
   ],
   "source": [
    "iso_codes = iso_codes.drop_duplicates()\n",
    "iso_codes.head()"
   ]
  },
  {
   "cell_type": "code",
   "execution_count": 135,
   "metadata": {
    "ExecuteTime": {
     "end_time": "2018-05-27T18:53:17.178070Z",
     "start_time": "2018-05-27T18:53:16.893995Z"
    }
   },
   "outputs": [
    {
     "data": {
      "text/html": [
       "<div>\n",
       "<style scoped>\n",
       "    .dataframe tbody tr th:only-of-type {\n",
       "        vertical-align: middle;\n",
       "    }\n",
       "\n",
       "    .dataframe tbody tr th {\n",
       "        vertical-align: top;\n",
       "    }\n",
       "\n",
       "    .dataframe thead th {\n",
       "        text-align: right;\n",
       "    }\n",
       "</style>\n",
       "<table border=\"1\" class=\"dataframe\">\n",
       "  <thead>\n",
       "    <tr style=\"text-align: right;\">\n",
       "      <th></th>\n",
       "      <th>TICKER</th>\n",
       "      <th>DATE</th>\n",
       "      <th>CLOSE</th>\n",
       "      <th>NOMINAL</th>\n",
       "    </tr>\n",
       "  </thead>\n",
       "  <tbody>\n",
       "    <tr>\n",
       "      <th>0</th>\n",
       "      <td>AMD</td>\n",
       "      <td>2016-10-07</td>\n",
       "      <td>13.1624</td>\n",
       "      <td>100</td>\n",
       "    </tr>\n",
       "    <tr>\n",
       "      <th>1</th>\n",
       "      <td>AUD</td>\n",
       "      <td>2016-10-07</td>\n",
       "      <td>47.3852</td>\n",
       "      <td>1</td>\n",
       "    </tr>\n",
       "    <tr>\n",
       "      <th>2</th>\n",
       "      <td>AZN</td>\n",
       "      <td>2016-10-07</td>\n",
       "      <td>38.6172</td>\n",
       "      <td>1</td>\n",
       "    </tr>\n",
       "    <tr>\n",
       "      <th>3</th>\n",
       "      <td>BGN</td>\n",
       "      <td>2016-10-07</td>\n",
       "      <td>35.7208</td>\n",
       "      <td>1</td>\n",
       "    </tr>\n",
       "    <tr>\n",
       "      <th>4</th>\n",
       "      <td>BRL</td>\n",
       "      <td>2016-10-07</td>\n",
       "      <td>19.3728</td>\n",
       "      <td>1</td>\n",
       "    </tr>\n",
       "  </tbody>\n",
       "</table>\n",
       "</div>"
      ],
      "text/plain": [
       "  TICKER       DATE    CLOSE  NOMINAL\n",
       "0    AMD 2016-10-07  13.1624      100\n",
       "1    AUD 2016-10-07  47.3852        1\n",
       "2    AZN 2016-10-07  38.6172        1\n",
       "3    BGN 2016-10-07  35.7208        1\n",
       "4    BRL 2016-10-07  19.3728        1"
      ]
     },
     "execution_count": 135,
     "metadata": {},
     "output_type": "execute_result"
    }
   ],
   "source": [
    "curr_rates = curr_rates[['TICKER','DATE','CLOSE','NOMINAL']]\n",
    "curr_rates['DATE'] = pd.to_datetime(curr_rates['DATE'])\n",
    "#curr_rates['DATE'] = curr_rates['DATE'].dt.date\n",
    "curr_rates.head()"
   ]
  },
  {
   "cell_type": "code",
   "execution_count": 136,
   "metadata": {
    "ExecuteTime": {
     "end_time": "2018-05-27T18:53:18.487840Z",
     "start_time": "2018-05-27T18:53:17.180700Z"
    }
   },
   "outputs": [],
   "source": [
    "df = pd.merge(df, iso_codes, how='left', left_on='currency', right_on='Numeric Code')\n",
    "df.drop('Numeric Code', axis=1, inplace=True)"
   ]
  },
  {
   "cell_type": "code",
   "execution_count": 137,
   "metadata": {
    "ExecuteTime": {
     "end_time": "2018-05-27T18:53:19.204310Z",
     "start_time": "2018-05-27T18:53:18.490405Z"
    }
   },
   "outputs": [
    {
     "name": "stdout",
     "output_type": "stream",
     "text": [
      "<class 'pandas.core.frame.DataFrame'>\n",
      "Int64Index: 1008889 entries, 0 to 1008888\n",
      "Data columns (total 11 columns):\n",
      "PERIOD             1008889 non-null object\n",
      "cl_id              1008889 non-null int64\n",
      "MCC                1008889 non-null object\n",
      "channel_type       1008889 non-null object\n",
      "currency           1008889 non-null object\n",
      "TRDATETIME         1008889 non-null datetime64[ns]\n",
      "amount             1008889 non-null float64\n",
      "trx_category       1008889 non-null object\n",
      "is_test            1008889 non-null int64\n",
      "MCC_group          1008889 non-null object\n",
      "Alphabetic Code    1008836 non-null object\n",
      "dtypes: datetime64[ns](1), float64(1), int64(2), object(7)\n",
      "memory usage: 92.4+ MB\n"
     ]
    }
   ],
   "source": [
    "df.info()"
   ]
  },
  {
   "cell_type": "code",
   "execution_count": 138,
   "metadata": {
    "ExecuteTime": {
     "end_time": "2018-05-27T18:53:19.553328Z",
     "start_time": "2018-05-27T18:53:19.207333Z"
    }
   },
   "outputs": [
    {
     "data": {
      "text/html": [
       "<div>\n",
       "<style scoped>\n",
       "    .dataframe tbody tr th:only-of-type {\n",
       "        vertical-align: middle;\n",
       "    }\n",
       "\n",
       "    .dataframe tbody tr th {\n",
       "        vertical-align: top;\n",
       "    }\n",
       "\n",
       "    .dataframe thead th {\n",
       "        text-align: right;\n",
       "    }\n",
       "</style>\n",
       "<table border=\"1\" class=\"dataframe\">\n",
       "  <thead>\n",
       "    <tr style=\"text-align: right;\">\n",
       "      <th></th>\n",
       "      <th>PERIOD</th>\n",
       "      <th>cl_id</th>\n",
       "      <th>MCC</th>\n",
       "      <th>channel_type</th>\n",
       "      <th>currency</th>\n",
       "      <th>TRDATETIME</th>\n",
       "      <th>amount</th>\n",
       "      <th>trx_category</th>\n",
       "      <th>is_test</th>\n",
       "      <th>MCC_group</th>\n",
       "      <th>curr_code</th>\n",
       "    </tr>\n",
       "  </thead>\n",
       "  <tbody>\n",
       "    <tr>\n",
       "      <th>10299</th>\n",
       "      <td>2017-06</td>\n",
       "      <td>206</td>\n",
       "      <td>4121</td>\n",
       "      <td>type4</td>\n",
       "      <td>702</td>\n",
       "      <td>2017-06-11 00:00:00</td>\n",
       "      <td>28.45</td>\n",
       "      <td>POS</td>\n",
       "      <td>0</td>\n",
       "      <td>Транспорт</td>\n",
       "      <td>SGD</td>\n",
       "    </tr>\n",
       "    <tr>\n",
       "      <th>464588</th>\n",
       "      <td>2017-01</td>\n",
       "      <td>9658</td>\n",
       "      <td>5912</td>\n",
       "      <td>type1</td>\n",
       "      <td>810</td>\n",
       "      <td>2017-01-10 00:00:00</td>\n",
       "      <td>484.00</td>\n",
       "      <td>POS</td>\n",
       "      <td>0</td>\n",
       "      <td>Различныемагазины</td>\n",
       "      <td>RUB</td>\n",
       "    </tr>\n",
       "    <tr>\n",
       "      <th>510471</th>\n",
       "      <td>2017-04</td>\n",
       "      <td>445</td>\n",
       "      <td>5411</td>\n",
       "      <td>type2</td>\n",
       "      <td>810</td>\n",
       "      <td>2017-04-01 00:00:00</td>\n",
       "      <td>125.00</td>\n",
       "      <td>POS</td>\n",
       "      <td>1</td>\n",
       "      <td>Розничныемагазины</td>\n",
       "      <td>RUB</td>\n",
       "    </tr>\n",
       "    <tr>\n",
       "      <th>598464</th>\n",
       "      <td>2017-08</td>\n",
       "      <td>1817</td>\n",
       "      <td>5411</td>\n",
       "      <td>type2</td>\n",
       "      <td>810</td>\n",
       "      <td>2017-08-30 00:00:00</td>\n",
       "      <td>398.00</td>\n",
       "      <td>POS</td>\n",
       "      <td>1</td>\n",
       "      <td>Розничныемагазины</td>\n",
       "      <td>RUB</td>\n",
       "    </tr>\n",
       "    <tr>\n",
       "      <th>349934</th>\n",
       "      <td>2016-12</td>\n",
       "      <td>7007</td>\n",
       "      <td>5921</td>\n",
       "      <td>type1</td>\n",
       "      <td>810</td>\n",
       "      <td>2016-12-31 00:00:00</td>\n",
       "      <td>653.90</td>\n",
       "      <td>POS</td>\n",
       "      <td>0</td>\n",
       "      <td>Различныемагазины</td>\n",
       "      <td>RUB</td>\n",
       "    </tr>\n",
       "    <tr>\n",
       "      <th>421693</th>\n",
       "      <td>2017-06</td>\n",
       "      <td>8646</td>\n",
       "      <td>5541</td>\n",
       "      <td>type1</td>\n",
       "      <td>810</td>\n",
       "      <td>2017-06-29 00:00:00</td>\n",
       "      <td>999.69</td>\n",
       "      <td>POS</td>\n",
       "      <td>0</td>\n",
       "      <td>Автомобили итранспортныесредства</td>\n",
       "      <td>RUB</td>\n",
       "    </tr>\n",
       "    <tr>\n",
       "      <th>38734</th>\n",
       "      <td>2017-05</td>\n",
       "      <td>695</td>\n",
       "      <td>5411</td>\n",
       "      <td>type2</td>\n",
       "      <td>810</td>\n",
       "      <td>2017-05-17 00:00:00</td>\n",
       "      <td>138.32</td>\n",
       "      <td>POS</td>\n",
       "      <td>0</td>\n",
       "      <td>Розничныемагазины</td>\n",
       "      <td>RUB</td>\n",
       "    </tr>\n",
       "    <tr>\n",
       "      <th>848168</th>\n",
       "      <td>2017-05</td>\n",
       "      <td>6643</td>\n",
       "      <td>5211</td>\n",
       "      <td>type1</td>\n",
       "      <td>810</td>\n",
       "      <td>2017-05-23 00:00:00</td>\n",
       "      <td>927.20</td>\n",
       "      <td>POS</td>\n",
       "      <td>1</td>\n",
       "      <td>Розничныемагазины</td>\n",
       "      <td>RUB</td>\n",
       "    </tr>\n",
       "    <tr>\n",
       "      <th>419347</th>\n",
       "      <td>2016-12</td>\n",
       "      <td>8590</td>\n",
       "      <td>5732</td>\n",
       "      <td>type1</td>\n",
       "      <td>810</td>\n",
       "      <td>2016-12-06 00:00:00</td>\n",
       "      <td>625.00</td>\n",
       "      <td>POS</td>\n",
       "      <td>0</td>\n",
       "      <td>Различныемагазины</td>\n",
       "      <td>RUB</td>\n",
       "    </tr>\n",
       "    <tr>\n",
       "      <th>794143</th>\n",
       "      <td>2017-03</td>\n",
       "      <td>5540</td>\n",
       "      <td>6011</td>\n",
       "      <td>type1</td>\n",
       "      <td>810</td>\n",
       "      <td>2017-03-14 18:02:36</td>\n",
       "      <td>150000.00</td>\n",
       "      <td>WD_ATM_ROS</td>\n",
       "      <td>1</td>\n",
       "      <td>Поставщик услуг</td>\n",
       "      <td>RUB</td>\n",
       "    </tr>\n",
       "  </tbody>\n",
       "</table>\n",
       "</div>"
      ],
      "text/plain": [
       "        PERIOD  cl_id   MCC channel_type currency          TRDATETIME  \\\n",
       "10299  2017-06    206  4121        type4      702 2017-06-11 00:00:00   \n",
       "464588 2017-01   9658  5912        type1      810 2017-01-10 00:00:00   \n",
       "510471 2017-04    445  5411        type2      810 2017-04-01 00:00:00   \n",
       "598464 2017-08   1817  5411        type2      810 2017-08-30 00:00:00   \n",
       "349934 2016-12   7007  5921        type1      810 2016-12-31 00:00:00   \n",
       "421693 2017-06   8646  5541        type1      810 2017-06-29 00:00:00   \n",
       "38734  2017-05    695  5411        type2      810 2017-05-17 00:00:00   \n",
       "848168 2017-05   6643  5211        type1      810 2017-05-23 00:00:00   \n",
       "419347 2016-12   8590  5732        type1      810 2016-12-06 00:00:00   \n",
       "794143 2017-03   5540  6011        type1      810 2017-03-14 18:02:36   \n",
       "\n",
       "           amount trx_category  is_test                         MCC_group  \\\n",
       "10299       28.45          POS        0                         Транспорт   \n",
       "464588     484.00          POS        0                 Различныемагазины   \n",
       "510471     125.00          POS        1                 Розничныемагазины   \n",
       "598464     398.00          POS        1                 Розничныемагазины   \n",
       "349934     653.90          POS        0                 Различныемагазины   \n",
       "421693     999.69          POS        0  Автомобили итранспортныесредства   \n",
       "38734      138.32          POS        0                 Розничныемагазины   \n",
       "848168     927.20          POS        1                 Розничныемагазины   \n",
       "419347     625.00          POS        0                 Различныемагазины   \n",
       "794143  150000.00   WD_ATM_ROS        1                   Поставщик услуг   \n",
       "\n",
       "       curr_code  \n",
       "10299        SGD  \n",
       "464588       RUB  \n",
       "510471       RUB  \n",
       "598464       RUB  \n",
       "349934       RUB  \n",
       "421693       RUB  \n",
       "38734        RUB  \n",
       "848168       RUB  \n",
       "419347       RUB  \n",
       "794143       RUB  "
      ]
     },
     "execution_count": 138,
     "metadata": {},
     "output_type": "execute_result"
    }
   ],
   "source": [
    "df.rename(columns={'Alphabetic Code': 'curr_code'}, inplace=True)\n",
    "df.sample(10)"
   ]
  },
  {
   "cell_type": "code",
   "execution_count": 139,
   "metadata": {
    "ExecuteTime": {
     "end_time": "2018-05-27T18:53:19.582389Z",
     "start_time": "2018-05-27T18:53:19.556815Z"
    }
   },
   "outputs": [
    {
     "data": {
      "text/html": [
       "<div>\n",
       "<style scoped>\n",
       "    .dataframe tbody tr th:only-of-type {\n",
       "        vertical-align: middle;\n",
       "    }\n",
       "\n",
       "    .dataframe tbody tr th {\n",
       "        vertical-align: top;\n",
       "    }\n",
       "\n",
       "    .dataframe thead th {\n",
       "        text-align: right;\n",
       "    }\n",
       "</style>\n",
       "<table border=\"1\" class=\"dataframe\">\n",
       "  <thead>\n",
       "    <tr style=\"text-align: right;\">\n",
       "      <th></th>\n",
       "      <th>curr_code</th>\n",
       "      <th>TRDATETIME</th>\n",
       "      <th>exch_rate</th>\n",
       "      <th>exch_nominal</th>\n",
       "    </tr>\n",
       "  </thead>\n",
       "  <tbody>\n",
       "    <tr>\n",
       "      <th>0</th>\n",
       "      <td>AMD</td>\n",
       "      <td>2016-10-07</td>\n",
       "      <td>13.1624</td>\n",
       "      <td>100</td>\n",
       "    </tr>\n",
       "    <tr>\n",
       "      <th>1</th>\n",
       "      <td>AUD</td>\n",
       "      <td>2016-10-07</td>\n",
       "      <td>47.3852</td>\n",
       "      <td>1</td>\n",
       "    </tr>\n",
       "    <tr>\n",
       "      <th>2</th>\n",
       "      <td>AZN</td>\n",
       "      <td>2016-10-07</td>\n",
       "      <td>38.6172</td>\n",
       "      <td>1</td>\n",
       "    </tr>\n",
       "    <tr>\n",
       "      <th>3</th>\n",
       "      <td>BGN</td>\n",
       "      <td>2016-10-07</td>\n",
       "      <td>35.7208</td>\n",
       "      <td>1</td>\n",
       "    </tr>\n",
       "    <tr>\n",
       "      <th>4</th>\n",
       "      <td>BRL</td>\n",
       "      <td>2016-10-07</td>\n",
       "      <td>19.3728</td>\n",
       "      <td>1</td>\n",
       "    </tr>\n",
       "  </tbody>\n",
       "</table>\n",
       "</div>"
      ],
      "text/plain": [
       "  curr_code TRDATETIME  exch_rate  exch_nominal\n",
       "0       AMD 2016-10-07    13.1624           100\n",
       "1       AUD 2016-10-07    47.3852             1\n",
       "2       AZN 2016-10-07    38.6172             1\n",
       "3       BGN 2016-10-07    35.7208             1\n",
       "4       BRL 2016-10-07    19.3728             1"
      ]
     },
     "execution_count": 139,
     "metadata": {},
     "output_type": "execute_result"
    }
   ],
   "source": [
    "curr_rates.rename(columns={'TICKER': 'curr_code', 'DATE': 'TRDATETIME', 'CLOSE': 'exch_rate', 'NOMINAL': 'exch_nominal'}, inplace=True)\n",
    "curr_rates.head()"
   ]
  },
  {
   "cell_type": "code",
   "execution_count": 140,
   "metadata": {
    "ExecuteTime": {
     "end_time": "2018-05-27T18:53:22.384906Z",
     "start_time": "2018-05-27T18:53:19.586103Z"
    }
   },
   "outputs": [],
   "source": [
    "df = pd.merge_asof(df.sort_values(by=['TRDATETIME']), curr_rates.sort_values(by=['TRDATETIME']), on='TRDATETIME', by='curr_code', tolerance=pd.Timedelta('10d'))\n",
    "df.loc[df['currency'] == '810', 'exch_rate'] = 1\n",
    "df.loc[df['currency'] == '810', 'exch_nominal'] = 1\n"
   ]
  },
  {
   "cell_type": "code",
   "execution_count": 141,
   "metadata": {
    "ExecuteTime": {
     "end_time": "2018-05-27T18:53:23.371185Z",
     "start_time": "2018-05-27T18:53:22.388911Z"
    }
   },
   "outputs": [
    {
     "name": "stdout",
     "output_type": "stream",
     "text": [
      "<class 'pandas.core.frame.DataFrame'>\n",
      "Int64Index: 1008889 entries, 0 to 1008888\n",
      "Data columns (total 13 columns):\n",
      "PERIOD          1008889 non-null object\n",
      "cl_id           1008889 non-null int64\n",
      "MCC             1008889 non-null object\n",
      "channel_type    1008889 non-null object\n",
      "currency        1008889 non-null object\n",
      "TRDATETIME      1008889 non-null datetime64[ns]\n",
      "amount          1008889 non-null float64\n",
      "trx_category    1008889 non-null object\n",
      "is_test         1008889 non-null int64\n",
      "MCC_group       1008889 non-null object\n",
      "curr_code       1008836 non-null object\n",
      "exch_rate       1005519 non-null float64\n",
      "exch_nominal    1005519 non-null float64\n",
      "dtypes: datetime64[ns](1), float64(3), int64(2), object(7)\n",
      "memory usage: 107.8+ MB\n"
     ]
    }
   ],
   "source": [
    "df.info()"
   ]
  },
  {
   "cell_type": "markdown",
   "metadata": {},
   "source": [
    "Для валюты у трех тысяч операций не нашлось курса. При агрегировании в рублях будем считать эти операции нулевыми. Можно было бы заморочиться дальше и использовать дополнительные кросс курсы в евро или долларах."
   ]
  },
  {
   "cell_type": "code",
   "execution_count": 142,
   "metadata": {
    "ExecuteTime": {
     "end_time": "2018-05-27T18:53:23.387512Z",
     "start_time": "2018-05-27T18:53:23.375153Z"
    }
   },
   "outputs": [],
   "source": [
    "df['exch_rate'].fillna(0, inplace=True)\n",
    "df['exch_nominal'].fillna(1, inplace=True)"
   ]
  },
  {
   "cell_type": "code",
   "execution_count": 143,
   "metadata": {
    "ExecuteTime": {
     "end_time": "2018-05-27T18:53:23.408023Z",
     "start_time": "2018-05-27T18:53:23.390831Z"
    }
   },
   "outputs": [],
   "source": [
    "df['amount_rub'] = df['amount'] / df['exch_nominal'] * df['exch_rate']"
   ]
  },
  {
   "cell_type": "code",
   "execution_count": 144,
   "metadata": {
    "ExecuteTime": {
     "end_time": "2018-05-27T18:53:23.598321Z",
     "start_time": "2018-05-27T18:53:23.413779Z"
    }
   },
   "outputs": [
    {
     "data": {
      "text/html": [
       "<div>\n",
       "<style scoped>\n",
       "    .dataframe tbody tr th:only-of-type {\n",
       "        vertical-align: middle;\n",
       "    }\n",
       "\n",
       "    .dataframe tbody tr th {\n",
       "        vertical-align: top;\n",
       "    }\n",
       "\n",
       "    .dataframe thead th {\n",
       "        text-align: right;\n",
       "    }\n",
       "</style>\n",
       "<table border=\"1\" class=\"dataframe\">\n",
       "  <thead>\n",
       "    <tr style=\"text-align: right;\">\n",
       "      <th></th>\n",
       "      <th>PERIOD</th>\n",
       "      <th>cl_id</th>\n",
       "      <th>MCC</th>\n",
       "      <th>channel_type</th>\n",
       "      <th>currency</th>\n",
       "      <th>TRDATETIME</th>\n",
       "      <th>amount</th>\n",
       "      <th>trx_category</th>\n",
       "      <th>is_test</th>\n",
       "      <th>MCC_group</th>\n",
       "      <th>curr_code</th>\n",
       "      <th>exch_rate</th>\n",
       "      <th>exch_nominal</th>\n",
       "      <th>amount_rub</th>\n",
       "    </tr>\n",
       "  </thead>\n",
       "  <tbody>\n",
       "    <tr>\n",
       "      <th>975917</th>\n",
       "      <td>2017-11</td>\n",
       "      <td>2761</td>\n",
       "      <td>6011</td>\n",
       "      <td>type2</td>\n",
       "      <td>156</td>\n",
       "      <td>2017-11-07</td>\n",
       "      <td>1000.00</td>\n",
       "      <td>WD_ATM_OTHER</td>\n",
       "      <td>1</td>\n",
       "      <td>Поставщик услуг</td>\n",
       "      <td>CNY</td>\n",
       "      <td>88.1451</td>\n",
       "      <td>10.0</td>\n",
       "      <td>8814.51000</td>\n",
       "    </tr>\n",
       "    <tr>\n",
       "      <th>106828</th>\n",
       "      <td>2016-12</td>\n",
       "      <td>10113</td>\n",
       "      <td>5999</td>\n",
       "      <td>type1</td>\n",
       "      <td>840</td>\n",
       "      <td>2016-12-21</td>\n",
       "      <td>65.00</td>\n",
       "      <td>POS</td>\n",
       "      <td>0</td>\n",
       "      <td>Различныемагазины</td>\n",
       "      <td>USD</td>\n",
       "      <td>61.7967</td>\n",
       "      <td>1.0</td>\n",
       "      <td>4016.78550</td>\n",
       "    </tr>\n",
       "    <tr>\n",
       "      <th>660920</th>\n",
       "      <td>2017-06</td>\n",
       "      <td>4734</td>\n",
       "      <td>5722</td>\n",
       "      <td>type1</td>\n",
       "      <td>978</td>\n",
       "      <td>2017-06-24</td>\n",
       "      <td>21.97</td>\n",
       "      <td>POS</td>\n",
       "      <td>1</td>\n",
       "      <td>Различныемагазины</td>\n",
       "      <td>EUR</td>\n",
       "      <td>66.6780</td>\n",
       "      <td>1.0</td>\n",
       "      <td>1464.91566</td>\n",
       "    </tr>\n",
       "    <tr>\n",
       "      <th>779397</th>\n",
       "      <td>2017-07</td>\n",
       "      <td>9082</td>\n",
       "      <td>5411</td>\n",
       "      <td>type1</td>\n",
       "      <td>404</td>\n",
       "      <td>2017-07-26</td>\n",
       "      <td>2008.00</td>\n",
       "      <td>POS</td>\n",
       "      <td>1</td>\n",
       "      <td>Розничныемагазины</td>\n",
       "      <td>KES</td>\n",
       "      <td>0.0000</td>\n",
       "      <td>1.0</td>\n",
       "      <td>0.00000</td>\n",
       "    </tr>\n",
       "    <tr>\n",
       "      <th>817515</th>\n",
       "      <td>2017-08</td>\n",
       "      <td>3426</td>\n",
       "      <td>6011</td>\n",
       "      <td>type1</td>\n",
       "      <td>978</td>\n",
       "      <td>2017-08-05</td>\n",
       "      <td>200.00</td>\n",
       "      <td>WD_ATM_OTHER</td>\n",
       "      <td>1</td>\n",
       "      <td>Поставщик услуг</td>\n",
       "      <td>EUR</td>\n",
       "      <td>71.6879</td>\n",
       "      <td>1.0</td>\n",
       "      <td>14337.58000</td>\n",
       "    </tr>\n",
       "    <tr>\n",
       "      <th>894709</th>\n",
       "      <td>2017-09</td>\n",
       "      <td>425</td>\n",
       "      <td>5812</td>\n",
       "      <td>type2</td>\n",
       "      <td>949</td>\n",
       "      <td>2017-09-01</td>\n",
       "      <td>6.00</td>\n",
       "      <td>POS</td>\n",
       "      <td>1</td>\n",
       "      <td>Различныемагазины</td>\n",
       "      <td>TRY</td>\n",
       "      <td>16.9128</td>\n",
       "      <td>1.0</td>\n",
       "      <td>101.47680</td>\n",
       "    </tr>\n",
       "    <tr>\n",
       "      <th>229796</th>\n",
       "      <td>2017-01</td>\n",
       "      <td>9499</td>\n",
       "      <td>5691</td>\n",
       "      <td>type1</td>\n",
       "      <td>348</td>\n",
       "      <td>2017-01-27</td>\n",
       "      <td>17800.00</td>\n",
       "      <td>POS</td>\n",
       "      <td>1</td>\n",
       "      <td>Магазины одежды</td>\n",
       "      <td>HUF</td>\n",
       "      <td>20.6377</td>\n",
       "      <td>100.0</td>\n",
       "      <td>3673.51060</td>\n",
       "    </tr>\n",
       "    <tr>\n",
       "      <th>670573</th>\n",
       "      <td>2017-06</td>\n",
       "      <td>6198</td>\n",
       "      <td>7996</td>\n",
       "      <td>type1</td>\n",
       "      <td>978</td>\n",
       "      <td>2017-06-26</td>\n",
       "      <td>24.89</td>\n",
       "      <td>POS</td>\n",
       "      <td>0</td>\n",
       "      <td>Развлечения</td>\n",
       "      <td>EUR</td>\n",
       "      <td>66.6780</td>\n",
       "      <td>1.0</td>\n",
       "      <td>1659.61542</td>\n",
       "    </tr>\n",
       "    <tr>\n",
       "      <th>880770</th>\n",
       "      <td>2017-08</td>\n",
       "      <td>5070</td>\n",
       "      <td>5311</td>\n",
       "      <td>type1</td>\n",
       "      <td>978</td>\n",
       "      <td>2017-08-26</td>\n",
       "      <td>301.00</td>\n",
       "      <td>POS</td>\n",
       "      <td>0</td>\n",
       "      <td>Розничныемагазины</td>\n",
       "      <td>EUR</td>\n",
       "      <td>69.6995</td>\n",
       "      <td>1.0</td>\n",
       "      <td>20979.54950</td>\n",
       "    </tr>\n",
       "    <tr>\n",
       "      <th>293363</th>\n",
       "      <td>2017-02</td>\n",
       "      <td>8787</td>\n",
       "      <td>4814</td>\n",
       "      <td>type1</td>\n",
       "      <td>484</td>\n",
       "      <td>2017-02-19</td>\n",
       "      <td>58.00</td>\n",
       "      <td>POS</td>\n",
       "      <td>0</td>\n",
       "      <td>Коммунальные икабельные услуги</td>\n",
       "      <td>MXN</td>\n",
       "      <td>0.0000</td>\n",
       "      <td>1.0</td>\n",
       "      <td>0.00000</td>\n",
       "    </tr>\n",
       "  </tbody>\n",
       "</table>\n",
       "</div>"
      ],
      "text/plain": [
       "        PERIOD  cl_id   MCC channel_type currency TRDATETIME    amount  \\\n",
       "975917 2017-11   2761  6011        type2      156 2017-11-07   1000.00   \n",
       "106828 2016-12  10113  5999        type1      840 2016-12-21     65.00   \n",
       "660920 2017-06   4734  5722        type1      978 2017-06-24     21.97   \n",
       "779397 2017-07   9082  5411        type1      404 2017-07-26   2008.00   \n",
       "817515 2017-08   3426  6011        type1      978 2017-08-05    200.00   \n",
       "894709 2017-09    425  5812        type2      949 2017-09-01      6.00   \n",
       "229796 2017-01   9499  5691        type1      348 2017-01-27  17800.00   \n",
       "670573 2017-06   6198  7996        type1      978 2017-06-26     24.89   \n",
       "880770 2017-08   5070  5311        type1      978 2017-08-26    301.00   \n",
       "293363 2017-02   8787  4814        type1      484 2017-02-19     58.00   \n",
       "\n",
       "        trx_category  is_test                       MCC_group curr_code  \\\n",
       "975917  WD_ATM_OTHER        1                 Поставщик услуг       CNY   \n",
       "106828           POS        0               Различныемагазины       USD   \n",
       "660920           POS        1               Различныемагазины       EUR   \n",
       "779397           POS        1               Розничныемагазины       KES   \n",
       "817515  WD_ATM_OTHER        1                 Поставщик услуг       EUR   \n",
       "894709           POS        1               Различныемагазины       TRY   \n",
       "229796           POS        1                 Магазины одежды       HUF   \n",
       "670573           POS        0                     Развлечения       EUR   \n",
       "880770           POS        0               Розничныемагазины       EUR   \n",
       "293363           POS        0  Коммунальные икабельные услуги       MXN   \n",
       "\n",
       "        exch_rate  exch_nominal   amount_rub  \n",
       "975917    88.1451          10.0   8814.51000  \n",
       "106828    61.7967           1.0   4016.78550  \n",
       "660920    66.6780           1.0   1464.91566  \n",
       "779397     0.0000           1.0      0.00000  \n",
       "817515    71.6879           1.0  14337.58000  \n",
       "894709    16.9128           1.0    101.47680  \n",
       "229796    20.6377         100.0   3673.51060  \n",
       "670573    66.6780           1.0   1659.61542  \n",
       "880770    69.6995           1.0  20979.54950  \n",
       "293363     0.0000           1.0      0.00000  "
      ]
     },
     "execution_count": 144,
     "metadata": {},
     "output_type": "execute_result"
    }
   ],
   "source": [
    "df[df['currency'] != '810'].sample(10)"
   ]
  },
  {
   "cell_type": "markdown",
   "metadata": {},
   "source": [
    "### Дни недели и выходные"
   ]
  },
  {
   "cell_type": "markdown",
   "metadata": {},
   "source": [
    "По времени транзакции вычисляем и добавляем день недели и признак того, что это выходной день"
   ]
  },
  {
   "cell_type": "code",
   "execution_count": 145,
   "metadata": {
    "ExecuteTime": {
     "end_time": "2018-05-27T18:53:23.938545Z",
     "start_time": "2018-05-27T18:53:23.603602Z"
    }
   },
   "outputs": [],
   "source": [
    "df['dayofweek'] = df['TRDATETIME'].dt.dayofweek.astype('object')\n",
    "df['is_weekend'] = (df['dayofweek'] >= 5).astype('int64')"
   ]
  },
  {
   "cell_type": "code",
   "execution_count": 146,
   "metadata": {
    "ExecuteTime": {
     "end_time": "2018-05-27T18:53:24.859438Z",
     "start_time": "2018-05-27T18:53:23.942892Z"
    }
   },
   "outputs": [
    {
     "data": {
      "text/html": [
       "<div>\n",
       "<style scoped>\n",
       "    .dataframe tbody tr th:only-of-type {\n",
       "        vertical-align: middle;\n",
       "    }\n",
       "\n",
       "    .dataframe tbody tr th {\n",
       "        vertical-align: top;\n",
       "    }\n",
       "\n",
       "    .dataframe thead th {\n",
       "        text-align: right;\n",
       "    }\n",
       "</style>\n",
       "<table border=\"1\" class=\"dataframe\">\n",
       "  <thead>\n",
       "    <tr style=\"text-align: right;\">\n",
       "      <th></th>\n",
       "      <th>PERIOD</th>\n",
       "      <th>cl_id</th>\n",
       "      <th>MCC</th>\n",
       "      <th>channel_type</th>\n",
       "      <th>currency</th>\n",
       "      <th>TRDATETIME</th>\n",
       "      <th>amount</th>\n",
       "      <th>trx_category</th>\n",
       "      <th>is_test</th>\n",
       "      <th>MCC_group</th>\n",
       "      <th>curr_code</th>\n",
       "      <th>exch_rate</th>\n",
       "      <th>exch_nominal</th>\n",
       "      <th>amount_rub</th>\n",
       "      <th>dayofweek</th>\n",
       "      <th>is_weekend</th>\n",
       "    </tr>\n",
       "  </thead>\n",
       "  <tbody>\n",
       "    <tr>\n",
       "      <th>432411</th>\n",
       "      <td>2017-04</td>\n",
       "      <td>4940</td>\n",
       "      <td>5541</td>\n",
       "      <td>type1</td>\n",
       "      <td>810</td>\n",
       "      <td>2017-04-15 00:00:00</td>\n",
       "      <td>1534.00</td>\n",
       "      <td>POS</td>\n",
       "      <td>0</td>\n",
       "      <td>Автомобили итранспортныесредства</td>\n",
       "      <td>RUB</td>\n",
       "      <td>1.0</td>\n",
       "      <td>1.0</td>\n",
       "      <td>1534.00</td>\n",
       "      <td>5</td>\n",
       "      <td>1</td>\n",
       "    </tr>\n",
       "    <tr>\n",
       "      <th>971460</th>\n",
       "      <td>2017-10</td>\n",
       "      <td>158</td>\n",
       "      <td>5411</td>\n",
       "      <td>type4</td>\n",
       "      <td>810</td>\n",
       "      <td>2017-10-27 00:00:00</td>\n",
       "      <td>6498.00</td>\n",
       "      <td>POS</td>\n",
       "      <td>1</td>\n",
       "      <td>Розничныемагазины</td>\n",
       "      <td>RUB</td>\n",
       "      <td>1.0</td>\n",
       "      <td>1.0</td>\n",
       "      <td>6498.00</td>\n",
       "      <td>4</td>\n",
       "      <td>0</td>\n",
       "    </tr>\n",
       "    <tr>\n",
       "      <th>591716</th>\n",
       "      <td>2017-06</td>\n",
       "      <td>4980</td>\n",
       "      <td>5999</td>\n",
       "      <td>type1</td>\n",
       "      <td>810</td>\n",
       "      <td>2017-06-04 23:00:39</td>\n",
       "      <td>800.00</td>\n",
       "      <td>POS</td>\n",
       "      <td>0</td>\n",
       "      <td>Различныемагазины</td>\n",
       "      <td>RUB</td>\n",
       "      <td>1.0</td>\n",
       "      <td>1.0</td>\n",
       "      <td>800.00</td>\n",
       "      <td>6</td>\n",
       "      <td>1</td>\n",
       "    </tr>\n",
       "    <tr>\n",
       "      <th>214936</th>\n",
       "      <td>2017-01</td>\n",
       "      <td>3281</td>\n",
       "      <td>5499</td>\n",
       "      <td>type2</td>\n",
       "      <td>810</td>\n",
       "      <td>2017-01-22 00:00:00</td>\n",
       "      <td>977.87</td>\n",
       "      <td>POS</td>\n",
       "      <td>0</td>\n",
       "      <td>Розничныемагазины</td>\n",
       "      <td>RUB</td>\n",
       "      <td>1.0</td>\n",
       "      <td>1.0</td>\n",
       "      <td>977.87</td>\n",
       "      <td>6</td>\n",
       "      <td>1</td>\n",
       "    </tr>\n",
       "    <tr>\n",
       "      <th>213301</th>\n",
       "      <td>2017-01</td>\n",
       "      <td>4459</td>\n",
       "      <td>5541</td>\n",
       "      <td>type1</td>\n",
       "      <td>810</td>\n",
       "      <td>2017-01-21 00:00:00</td>\n",
       "      <td>969.00</td>\n",
       "      <td>POS</td>\n",
       "      <td>1</td>\n",
       "      <td>Автомобили итранспортныесредства</td>\n",
       "      <td>RUB</td>\n",
       "      <td>1.0</td>\n",
       "      <td>1.0</td>\n",
       "      <td>969.00</td>\n",
       "      <td>5</td>\n",
       "      <td>1</td>\n",
       "    </tr>\n",
       "  </tbody>\n",
       "</table>\n",
       "</div>"
      ],
      "text/plain": [
       "        PERIOD  cl_id   MCC channel_type currency          TRDATETIME  \\\n",
       "432411 2017-04   4940  5541        type1      810 2017-04-15 00:00:00   \n",
       "971460 2017-10    158  5411        type4      810 2017-10-27 00:00:00   \n",
       "591716 2017-06   4980  5999        type1      810 2017-06-04 23:00:39   \n",
       "214936 2017-01   3281  5499        type2      810 2017-01-22 00:00:00   \n",
       "213301 2017-01   4459  5541        type1      810 2017-01-21 00:00:00   \n",
       "\n",
       "         amount trx_category  is_test                         MCC_group  \\\n",
       "432411  1534.00          POS        0  Автомобили итранспортныесредства   \n",
       "971460  6498.00          POS        1                 Розничныемагазины   \n",
       "591716   800.00          POS        0                 Различныемагазины   \n",
       "214936   977.87          POS        0                 Розничныемагазины   \n",
       "213301   969.00          POS        1  Автомобили итранспортныесредства   \n",
       "\n",
       "       curr_code  exch_rate  exch_nominal  amount_rub dayofweek  is_weekend  \n",
       "432411       RUB        1.0           1.0     1534.00         5           1  \n",
       "971460       RUB        1.0           1.0     6498.00         4           0  \n",
       "591716       RUB        1.0           1.0      800.00         6           1  \n",
       "214936       RUB        1.0           1.0      977.87         6           1  \n",
       "213301       RUB        1.0           1.0      969.00         5           1  "
      ]
     },
     "execution_count": 146,
     "metadata": {},
     "output_type": "execute_result"
    }
   ],
   "source": [
    "df.sample(5)"
   ]
  },
  {
   "cell_type": "markdown",
   "metadata": {},
   "source": [
    "### Пополнение баланса"
   ]
  },
  {
   "cell_type": "markdown",
   "metadata": {},
   "source": [
    "Далее, по категориям транзакций добавляем признак пополнения баланса"
   ]
  },
  {
   "cell_type": "code",
   "execution_count": 147,
   "metadata": {
    "ExecuteTime": {
     "end_time": "2018-05-27T18:53:24.867161Z",
     "start_time": "2018-05-27T18:53:24.862245Z"
    }
   },
   "outputs": [],
   "source": [
    "in_category = ['C2C_IN', 'DEPOSIT']\n",
    "out_category = ['POS', ' C2C_OUT', 'WD_ATM_PARTNER']"
   ]
  },
  {
   "cell_type": "code",
   "execution_count": 148,
   "metadata": {
    "ExecuteTime": {
     "end_time": "2018-05-27T18:53:25.006211Z",
     "start_time": "2018-05-27T18:53:24.870020Z"
    }
   },
   "outputs": [],
   "source": [
    "#df['in'] = df['trx_category'].isin(in_category).astype('object')\n",
    "df['is_withdrawal'] = df['trx_category'].isin(out_category).astype('object')"
   ]
  },
  {
   "cell_type": "code",
   "execution_count": 149,
   "metadata": {
    "ExecuteTime": {
     "end_time": "2018-05-27T18:53:25.871222Z",
     "start_time": "2018-05-27T18:53:25.010593Z"
    }
   },
   "outputs": [
    {
     "data": {
      "text/html": [
       "<div>\n",
       "<style scoped>\n",
       "    .dataframe tbody tr th:only-of-type {\n",
       "        vertical-align: middle;\n",
       "    }\n",
       "\n",
       "    .dataframe tbody tr th {\n",
       "        vertical-align: top;\n",
       "    }\n",
       "\n",
       "    .dataframe thead th {\n",
       "        text-align: right;\n",
       "    }\n",
       "</style>\n",
       "<table border=\"1\" class=\"dataframe\">\n",
       "  <thead>\n",
       "    <tr style=\"text-align: right;\">\n",
       "      <th></th>\n",
       "      <th>PERIOD</th>\n",
       "      <th>cl_id</th>\n",
       "      <th>MCC</th>\n",
       "      <th>channel_type</th>\n",
       "      <th>currency</th>\n",
       "      <th>TRDATETIME</th>\n",
       "      <th>amount</th>\n",
       "      <th>trx_category</th>\n",
       "      <th>is_test</th>\n",
       "      <th>MCC_group</th>\n",
       "      <th>curr_code</th>\n",
       "      <th>exch_rate</th>\n",
       "      <th>exch_nominal</th>\n",
       "      <th>amount_rub</th>\n",
       "      <th>dayofweek</th>\n",
       "      <th>is_weekend</th>\n",
       "      <th>is_withdrawal</th>\n",
       "    </tr>\n",
       "  </thead>\n",
       "  <tbody>\n",
       "    <tr>\n",
       "      <th>535980</th>\n",
       "      <td>2017-05</td>\n",
       "      <td>1959</td>\n",
       "      <td>5411</td>\n",
       "      <td>type2</td>\n",
       "      <td>810</td>\n",
       "      <td>2017-05-19</td>\n",
       "      <td>157.00</td>\n",
       "      <td>POS</td>\n",
       "      <td>0</td>\n",
       "      <td>Розничныемагазины</td>\n",
       "      <td>RUB</td>\n",
       "      <td>1.0</td>\n",
       "      <td>1.0</td>\n",
       "      <td>157.00</td>\n",
       "      <td>4</td>\n",
       "      <td>0</td>\n",
       "      <td>True</td>\n",
       "    </tr>\n",
       "    <tr>\n",
       "      <th>477595</th>\n",
       "      <td>2017-04</td>\n",
       "      <td>8396</td>\n",
       "      <td>5921</td>\n",
       "      <td>type1</td>\n",
       "      <td>810</td>\n",
       "      <td>2017-04-30</td>\n",
       "      <td>992.00</td>\n",
       "      <td>POS</td>\n",
       "      <td>0</td>\n",
       "      <td>Различныемагазины</td>\n",
       "      <td>RUB</td>\n",
       "      <td>1.0</td>\n",
       "      <td>1.0</td>\n",
       "      <td>992.00</td>\n",
       "      <td>6</td>\n",
       "      <td>1</td>\n",
       "      <td>True</td>\n",
       "    </tr>\n",
       "    <tr>\n",
       "      <th>300430</th>\n",
       "      <td>2017-02</td>\n",
       "      <td>3330</td>\n",
       "      <td>5541</td>\n",
       "      <td>type3</td>\n",
       "      <td>810</td>\n",
       "      <td>2017-02-21</td>\n",
       "      <td>1604.17</td>\n",
       "      <td>POS</td>\n",
       "      <td>1</td>\n",
       "      <td>Автомобили итранспортныесредства</td>\n",
       "      <td>RUB</td>\n",
       "      <td>1.0</td>\n",
       "      <td>1.0</td>\n",
       "      <td>1604.17</td>\n",
       "      <td>1</td>\n",
       "      <td>0</td>\n",
       "      <td>True</td>\n",
       "    </tr>\n",
       "    <tr>\n",
       "      <th>384386</th>\n",
       "      <td>2017-03</td>\n",
       "      <td>3797</td>\n",
       "      <td>5499</td>\n",
       "      <td>type1</td>\n",
       "      <td>810</td>\n",
       "      <td>2017-03-28</td>\n",
       "      <td>234.66</td>\n",
       "      <td>POS</td>\n",
       "      <td>1</td>\n",
       "      <td>Розничныемагазины</td>\n",
       "      <td>RUB</td>\n",
       "      <td>1.0</td>\n",
       "      <td>1.0</td>\n",
       "      <td>234.66</td>\n",
       "      <td>1</td>\n",
       "      <td>0</td>\n",
       "      <td>True</td>\n",
       "    </tr>\n",
       "    <tr>\n",
       "      <th>435461</th>\n",
       "      <td>2017-04</td>\n",
       "      <td>7938</td>\n",
       "      <td>5641</td>\n",
       "      <td>type1</td>\n",
       "      <td>810</td>\n",
       "      <td>2017-04-16</td>\n",
       "      <td>3272.80</td>\n",
       "      <td>POS</td>\n",
       "      <td>0</td>\n",
       "      <td>Магазины одежды</td>\n",
       "      <td>RUB</td>\n",
       "      <td>1.0</td>\n",
       "      <td>1.0</td>\n",
       "      <td>3272.80</td>\n",
       "      <td>6</td>\n",
       "      <td>1</td>\n",
       "      <td>True</td>\n",
       "    </tr>\n",
       "  </tbody>\n",
       "</table>\n",
       "</div>"
      ],
      "text/plain": [
       "        PERIOD  cl_id   MCC channel_type currency TRDATETIME   amount  \\\n",
       "535980 2017-05   1959  5411        type2      810 2017-05-19   157.00   \n",
       "477595 2017-04   8396  5921        type1      810 2017-04-30   992.00   \n",
       "300430 2017-02   3330  5541        type3      810 2017-02-21  1604.17   \n",
       "384386 2017-03   3797  5499        type1      810 2017-03-28   234.66   \n",
       "435461 2017-04   7938  5641        type1      810 2017-04-16  3272.80   \n",
       "\n",
       "       trx_category  is_test                         MCC_group curr_code  \\\n",
       "535980          POS        0                 Розничныемагазины       RUB   \n",
       "477595          POS        0                 Различныемагазины       RUB   \n",
       "300430          POS        1  Автомобили итранспортныесредства       RUB   \n",
       "384386          POS        1                 Розничныемагазины       RUB   \n",
       "435461          POS        0                   Магазины одежды       RUB   \n",
       "\n",
       "        exch_rate  exch_nominal  amount_rub dayofweek  is_weekend  \\\n",
       "535980        1.0           1.0      157.00         4           0   \n",
       "477595        1.0           1.0      992.00         6           1   \n",
       "300430        1.0           1.0     1604.17         1           0   \n",
       "384386        1.0           1.0      234.66         1           0   \n",
       "435461        1.0           1.0     3272.80         6           1   \n",
       "\n",
       "       is_withdrawal  \n",
       "535980          True  \n",
       "477595          True  \n",
       "300430          True  \n",
       "384386          True  \n",
       "435461          True  "
      ]
     },
     "execution_count": 149,
     "metadata": {},
     "output_type": "execute_result"
    }
   ],
   "source": [
    "df.sample(5)"
   ]
  },
  {
   "cell_type": "markdown",
   "metadata": {},
   "source": [
    "## Анализ данных"
   ]
  },
  {
   "cell_type": "markdown",
   "metadata": {},
   "source": [
    "Рассмотрим данные в обучающем наборе"
   ]
  },
  {
   "cell_type": "code",
   "execution_count": 150,
   "metadata": {
    "ExecuteTime": {
     "end_time": "2018-05-27T18:53:25.878970Z",
     "start_time": "2018-05-27T18:53:25.874814Z"
    }
   },
   "outputs": [],
   "source": [
    "#df.describe(include='all').T"
   ]
  },
  {
   "cell_type": "code",
   "execution_count": 151,
   "metadata": {
    "ExecuteTime": {
     "end_time": "2018-05-27T18:53:26.025621Z",
     "start_time": "2018-05-27T18:53:25.883930Z"
    }
   },
   "outputs": [
    {
     "data": {
      "text/plain": [
       "(490513, 17)"
      ]
     },
     "execution_count": 151,
     "metadata": {},
     "output_type": "execute_result"
    }
   ],
   "source": [
    "df_train = df[df['is_test']==0]\n",
    "df_train.shape"
   ]
  },
  {
   "cell_type": "code",
   "execution_count": 152,
   "metadata": {
    "ExecuteTime": {
     "end_time": "2018-05-27T18:53:26.268848Z",
     "start_time": "2018-05-27T18:53:26.030787Z"
    }
   },
   "outputs": [
    {
     "data": {
      "text/plain": [
       "(490513, 18)"
      ]
     },
     "execution_count": 152,
     "metadata": {},
     "output_type": "execute_result"
    }
   ],
   "source": [
    "df_train = df_train.join(y, how='left', on='cl_id')\n",
    "df_train.shape"
   ]
  },
  {
   "cell_type": "code",
   "execution_count": 153,
   "metadata": {
    "ExecuteTime": {
     "end_time": "2018-05-27T18:53:26.806747Z",
     "start_time": "2018-05-27T18:53:26.272750Z"
    }
   },
   "outputs": [
    {
     "data": {
      "text/plain": [
       "((320103, 18), (170410, 18))"
      ]
     },
     "execution_count": 153,
     "metadata": {},
     "output_type": "execute_result"
    }
   ],
   "source": [
    "df_train1 = df_train[df_train['target_flag']==1]\n",
    "df_train0 = df_train[df_train['target_flag']==0]\n",
    "df_train1.shape, df_train0.shape"
   ]
  },
  {
   "cell_type": "markdown",
   "metadata": {},
   "source": [
    "Общее количество операций у клиентов, которые продолжили пользоваться продуктом, в два раза больше"
   ]
  },
  {
   "cell_type": "markdown",
   "metadata": {},
   "source": [
    "### Данные по клиентам"
   ]
  },
  {
   "cell_type": "code",
   "execution_count": 154,
   "metadata": {
    "ExecuteTime": {
     "end_time": "2018-05-27T18:53:26.891162Z",
     "start_time": "2018-05-27T18:53:26.810385Z"
    }
   },
   "outputs": [],
   "source": [
    "df1 = df_train1.groupby(['cl_id'])['amount_rub'].agg(['mean', 'sum', 'count'])\n",
    "df0 = df_train0.groupby(['cl_id'])['amount_rub'].agg(['mean', 'sum', 'count'])"
   ]
  },
  {
   "cell_type": "code",
   "execution_count": 155,
   "metadata": {
    "ExecuteTime": {
     "end_time": "2018-05-27T18:53:28.861011Z",
     "start_time": "2018-05-27T18:53:26.896559Z"
    }
   },
   "outputs": [
    {
     "data": {
      "text/plain": [
       "<matplotlib.legend.Legend at 0x7fed8488c4e0>"
      ]
     },
     "execution_count": 155,
     "metadata": {},
     "output_type": "execute_result"
    },
    {
     "data": {
      "image/png": "[encoded data removed]",
      "text/plain": [
       "<Figure size 1296x288 with 3 Axes>"
      ]
     },
     "metadata": {},
     "output_type": "display_data"
    }
   ],
   "source": [
    "fig, (ax1, ax2, ax3) = plt.subplots(nrows=1, ncols=3, figsize=(18,4))\n",
    "df1['sum'].plot.hist(bins=50, alpha=0.4, label='target_flag = 1', color='r', ax=ax1)\n",
    "df0['sum'].plot.hist(bins=50, alpha=0.4, label='target_flag = 0', color='b', ax=ax1)\n",
    "ax1.set_xlim(0,df0['sum'].max()/3)\n",
    "ax1.legend(title='Распределение общей суммы по клиентам')\n",
    "\n",
    "df1['count'].plot.hist(bins=50, alpha=0.4, label='target_flag = 1', color='r', ax=ax2)\n",
    "df0['count'].plot.hist(bins=50, alpha=0.4, label='target_flag = 0', color='b', ax=ax2)\n",
    "ax2.set_xlim(0,df0['count'].max()/2)\n",
    "ax2.legend(title='Распределение количества операций по клиентам')\n",
    "\n",
    "df1['mean'].plot.hist(bins=50, alpha=0.4, label='target_flag = 1', color='r', ax=ax3)\n",
    "df0['mean'].plot.hist(bins=50, alpha=0.4, label='target_flag = 0', color='b', ax=ax3)\n",
    "ax3.set_xlim(0,df0['mean'].max()/3)\n",
    "ax3.legend(title='Распределение средней суммы по клиентам')"
   ]
  },
  {
   "cell_type": "markdown",
   "metadata": {},
   "source": [
    "Клиенты, которые ушли, были менее активны по количеству операций и с меньшей средней суммой"
   ]
  },
  {
   "cell_type": "markdown",
   "metadata": {},
   "source": [
    "### Канал привлечения"
   ]
  },
  {
   "cell_type": "code",
   "execution_count": 156,
   "metadata": {
    "ExecuteTime": {
     "end_time": "2018-05-27T18:53:29.130793Z",
     "start_time": "2018-05-27T18:53:28.864717Z"
    }
   },
   "outputs": [],
   "source": [
    "df1 = df_train1.groupby(['channel_type'])['amount_rub'].agg(['mean','sum', 'count'])\n",
    "df0 = df_train0.groupby(['channel_type'])['amount_rub'].agg(['mean','sum', 'count'])\n",
    "df1_cli = df_train1.groupby(['channel_type'])['cl_id'].agg(['nunique'])\n",
    "df0_cli = df_train0.groupby(['channel_type'])['cl_id'].agg(['nunique'])\n",
    "df1['sum'] = df1['sum'] / df1_cli['nunique']\n",
    "df0['sum'] = df0['sum'] / df0_cli['nunique']\n",
    "df1['count'] = df1['count'] / df1_cli['nunique']\n",
    "df0['count'] = df0['count'] / df0_cli['nunique']\n",
    "#df1 = df1.divide(df1_cli['nunique'], axis=0)\n",
    "#df0 = df0.divide(df0_cli['nunique'], axis=0)"
   ]
  },
  {
   "cell_type": "code",
   "execution_count": 157,
   "metadata": {
    "ExecuteTime": {
     "end_time": "2018-05-27T18:53:30.038434Z",
     "start_time": "2018-05-27T18:53:29.133385Z"
    }
   },
   "outputs": [
    {
     "data": {
      "text/plain": [
       "<matplotlib.legend.Legend at 0x7fed8463ac18>"
      ]
     },
     "execution_count": 157,
     "metadata": {},
     "output_type": "execute_result"
    },
    {
     "data": {
      "image/png": "[encoded data removed]",
      "text/plain": [
       "<Figure size 1296x288 with 3 Axes>"
      ]
     },
     "metadata": {},
     "output_type": "display_data"
    }
   ],
   "source": [
    "fig, (ax1, ax2, ax3) = plt.subplots(nrows=1, ncols=3, figsize=(18,4))\n",
    "\n",
    "df1['sum'].plot.bar(alpha=0.4, label='target_flag = 1', color='r', ax=ax1)\n",
    "df0['sum'].plot.bar(alpha=0.4, label='target_flag = 0', color='b', ax=ax1)\n",
    "ax1.legend(title='Сумма операций по channel_type на одного клиента')\n",
    "\n",
    "df1['count'].plot.bar(alpha=0.4, label='target_flag = 1', color='r', ax=ax2)\n",
    "df0['count'].plot.bar(alpha=0.4, label='target_flag = 0', color='b', ax=ax2)\n",
    "ax2.legend(title='Количество операций по channel_type на одного клиента')\n",
    "\n",
    "df1['mean'].plot.bar(alpha=0.4, label='target_flag = 1', color='r', ax=ax3)\n",
    "df0['mean'].plot.bar(alpha=0.4, label='target_flag = 0', color='b', ax=ax3)\n",
    "ax3.legend(title='Средняя сумма одной по channel_type')"
   ]
  },
  {
   "cell_type": "markdown",
   "metadata": {},
   "source": [
    "### MCC коды"
   ]
  },
  {
   "cell_type": "code",
   "execution_count": 158,
   "metadata": {
    "ExecuteTime": {
     "end_time": "2018-05-27T18:53:30.352382Z",
     "start_time": "2018-05-27T18:53:30.042033Z"
    }
   },
   "outputs": [],
   "source": [
    "df1 = df_train1.groupby(['MCC'])['amount_rub'].agg(['mean','sum', 'count'])\n",
    "df0 = df_train0.groupby(['MCC'])['amount_rub'].agg(['mean','sum', 'count'])\n",
    "df1_cli = df_train1.groupby(['MCC'])['cl_id'].agg(['nunique'])\n",
    "df0_cli = df_train0.groupby(['MCC'])['cl_id'].agg(['nunique'])\n",
    "df1['sum'] = df1['sum'] / df1_cli['nunique']\n",
    "df0['sum'] = df0['sum'] / df0_cli['nunique']\n",
    "df1['count'] = df1['count'] / df1_cli['nunique']\n",
    "df0['count'] = df0['count'] / df0_cli['nunique']"
   ]
  },
  {
   "cell_type": "code",
   "execution_count": 159,
   "metadata": {
    "ExecuteTime": {
     "end_time": "2018-05-27T18:53:31.990173Z",
     "start_time": "2018-05-27T18:53:30.357000Z"
    }
   },
   "outputs": [
    {
     "data": {
      "text/plain": [
       "<matplotlib.legend.Legend at 0x7fed843f3dd8>"
      ]
     },
     "execution_count": 159,
     "metadata": {},
     "output_type": "execute_result"
    },
    {
     "data": {
      "image/png": "[encoded data removed]",
      "text/plain": [
       "<Figure size 1296x288 with 3 Axes>"
      ]
     },
     "metadata": {},
     "output_type": "display_data"
    }
   ],
   "source": [
    "fig, (ax1, ax2, ax3) = plt.subplots(nrows=1, ncols=3, figsize=(18,4))\n",
    "\n",
    "df1.nlargest(20, 'sum')['sum'].plot.bar(alpha=0.4, label='target_flag = 1', color='r', ax=ax1)\n",
    "df0.nlargest(20, 'sum')['sum'].plot.bar(alpha=0.4, label='target_flag = 0', color='b', ax=ax1)\n",
    "ax1.legend(title='Суммы операций по MCC (top 20) на одного клиента')\n",
    "\n",
    "df1.nlargest(20, 'count')['count'].plot.bar(alpha=0.4, label='target_flag = 1', color='r', ax=ax2)\n",
    "df0.nlargest(20, 'count')['count'].plot.bar(alpha=0.4, label='target_flag = 0', color='b', ax=ax2)\n",
    "ax2.legend(title='Количество операций по MCC (top 20) на одного клиента')\n",
    "\n",
    "df1.nlargest(20, 'mean')['mean'].plot.bar(alpha=0.4, label='target_flag = 1', color='r', ax=ax3)\n",
    "df0.nlargest(20, 'mean')['mean'].plot.bar(alpha=0.4, label='target_flag = 0', color='b', ax=ax3)\n",
    "ax3.legend(title='Средняя сумма одной операции по MCC (top 20)')"
   ]
  },
  {
   "cell_type": "markdown",
   "metadata": {},
   "source": [
    "По суммам операций клиенты больше всего просто снимали наличные (6011), по количеству операций больше всего платили в супермаркетах (5411)"
   ]
  },
  {
   "cell_type": "markdown",
   "metadata": {},
   "source": [
    "### Группы MCC кодов"
   ]
  },
  {
   "cell_type": "code",
   "execution_count": 160,
   "metadata": {
    "ExecuteTime": {
     "end_time": "2018-05-27T18:53:32.339472Z",
     "start_time": "2018-05-27T18:53:31.993701Z"
    }
   },
   "outputs": [],
   "source": [
    "df1 = df_train1.groupby(['MCC_group'])['amount_rub'].agg(['mean','sum', 'count'])\n",
    "df0 = df_train0.groupby(['MCC_group'])['amount_rub'].agg(['mean','sum', 'count'])\n",
    "df1_cli = df_train1.groupby(['MCC_group'])['cl_id'].agg(['nunique'])\n",
    "df0_cli = df_train0.groupby(['MCC_group'])['cl_id'].agg(['nunique'])\n",
    "df1['sum'] = df1['sum'] / df1_cli['nunique']\n",
    "df0['sum'] = df0['sum'] / df0_cli['nunique']\n",
    "df1['count'] = df1['count'] / df1_cli['nunique']\n",
    "df0['count'] = df0['count'] / df0_cli['nunique']"
   ]
  },
  {
   "cell_type": "code",
   "execution_count": 161,
   "metadata": {
    "ExecuteTime": {
     "end_time": "2018-05-27T18:53:33.879881Z",
     "start_time": "2018-05-27T18:53:32.346184Z"
    }
   },
   "outputs": [
    {
     "data": {
      "text/plain": [
       "<matplotlib.legend.Legend at 0x7fed84195f60>"
      ]
     },
     "execution_count": 161,
     "metadata": {},
     "output_type": "execute_result"
    },
    {
     "data": {
      "image/png": "[encoded data removed]",
      "text/plain": [
       "<Figure size 1296x288 with 3 Axes>"
      ]
     },
     "metadata": {},
     "output_type": "display_data"
    }
   ],
   "source": [
    "fig, (ax1, ax2, ax3) = plt.subplots(nrows=1, ncols=3, figsize=(18,4))\n",
    "\n",
    "df1['sum'].plot.bar(alpha=0.4, label='target_flag = 1', color='r', ax=ax1)\n",
    "df0['sum'].plot.bar(alpha=0.4, label='target_flag = 0', color='b', ax=ax1)\n",
    "ax1.legend(title='Суммы операций по MCC_group на одного клиента')\n",
    "\n",
    "df1['count'].plot.bar(alpha=0.4, label='target_flag = 1', color='r', ax=ax2)\n",
    "df0['count'].plot.bar(alpha=0.4, label='target_flag = 0', color='b', ax=ax2)\n",
    "ax2.legend(title='Количество операций по MCC_group на одного клиента')\n",
    "\n",
    "df1['mean'].plot.bar(alpha=0.4, label='target_flag = 1', color='r', ax=ax3)\n",
    "df0['mean'].plot.bar(alpha=0.4, label='target_flag = 0', color='b', ax=ax3)\n",
    "ax3.legend(title='Средняя сумма одной операции по MCC_group')"
   ]
  },
  {
   "cell_type": "markdown",
   "metadata": {},
   "source": [
    "### Категории транзакций"
   ]
  },
  {
   "cell_type": "code",
   "execution_count": 162,
   "metadata": {
    "ExecuteTime": {
     "end_time": "2018-05-27T18:53:34.146021Z",
     "start_time": "2018-05-27T18:53:33.882871Z"
    }
   },
   "outputs": [],
   "source": [
    "df1 = df_train1.groupby(['trx_category'])['amount_rub'].agg(['mean','sum', 'count'])\n",
    "df0 = df_train0.groupby(['trx_category'])['amount_rub'].agg(['mean','sum', 'count'])\n",
    "df1_cli = df_train1.groupby(['trx_category'])['cl_id'].agg(['nunique'])\n",
    "df0_cli = df_train0.groupby(['trx_category'])['cl_id'].agg(['nunique'])\n",
    "df1['sum'] = df1['sum'] / df1_cli['nunique']\n",
    "df0['sum'] = df0['sum'] / df0_cli['nunique']\n",
    "df1['count'] = df1['count'] / df1_cli['nunique']\n",
    "df0['count'] = df0['count'] / df0_cli['nunique']"
   ]
  },
  {
   "cell_type": "code",
   "execution_count": 163,
   "metadata": {
    "ExecuteTime": {
     "end_time": "2018-05-27T18:53:35.267392Z",
     "start_time": "2018-05-27T18:53:34.149896Z"
    }
   },
   "outputs": [
    {
     "data": {
      "text/plain": [
       "<matplotlib.legend.Legend at 0x7fed83f276a0>"
      ]
     },
     "execution_count": 163,
     "metadata": {},
     "output_type": "execute_result"
    },
    {
     "data": {
      "image/png": "[encoded data removed]",
      "text/plain": [
       "<Figure size 1296x288 with 3 Axes>"
      ]
     },
     "metadata": {},
     "output_type": "display_data"
    }
   ],
   "source": [
    "fig, (ax1, ax2, ax3) = plt.subplots(nrows=1, ncols=3, figsize=(18,4))\n",
    "\n",
    "df1['sum'].plot.bar(alpha=0.4, label='target_flag = 1', color='r', ax=ax1)\n",
    "df0['sum'].plot.bar(alpha=0.4, label='target_flag = 0', color='b', ax=ax1)\n",
    "ax1.legend(title='Суммы операций по trx_category на одного клиента')\n",
    "\n",
    "df1['count'].plot.bar(alpha=0.4, label='target_flag = 1', color='r', ax=ax2)\n",
    "df0['count'].plot.bar(alpha=0.4, label='target_flag = 0', color='b', ax=ax2)\n",
    "ax2.legend(title='Количество операций по trx_category на одного клиента')\n",
    "\n",
    "df1['mean'].plot.bar(alpha=0.4, label='target_flag = 1', color='r', ax=ax3)\n",
    "df0['mean'].plot.bar(alpha=0.4, label='target_flag = 0', color='b', ax=ax3)\n",
    "ax3.legend(title='Средняя сумма одной операции по trx_category')"
   ]
  },
  {
   "cell_type": "markdown",
   "metadata": {},
   "source": [
    "Ожидаемо, клиенты, которые ушли, по средней сумме больше выводили денежные средства"
   ]
  },
  {
   "cell_type": "markdown",
   "metadata": {},
   "source": [
    "### Дни недели"
   ]
  },
  {
   "cell_type": "code",
   "execution_count": 164,
   "metadata": {
    "ExecuteTime": {
     "end_time": "2018-05-27T18:53:35.586176Z",
     "start_time": "2018-05-27T18:53:35.270983Z"
    }
   },
   "outputs": [],
   "source": [
    "df1 = df_train1.groupby(['dayofweek'])['amount_rub'].agg(['mean','sum', 'count'])\n",
    "df0 = df_train0.groupby(['dayofweek'])['amount_rub'].agg(['mean','sum', 'count'])\n",
    "df1_cli = df_train1.groupby(['dayofweek'])['cl_id'].agg(['nunique'])\n",
    "df0_cli = df_train0.groupby(['dayofweek'])['cl_id'].agg(['nunique'])\n",
    "df1['sum'] = df1['sum'] / df1_cli['nunique']\n",
    "df0['sum'] = df0['sum'] / df0_cli['nunique']\n",
    "df1['count'] = df1['count'] / df1_cli['nunique']\n",
    "df0['count'] = df0['count'] / df0_cli['nunique']\n"
   ]
  },
  {
   "cell_type": "code",
   "execution_count": 165,
   "metadata": {
    "ExecuteTime": {
     "end_time": "2018-05-27T18:53:36.625013Z",
     "start_time": "2018-05-27T18:53:35.589391Z"
    }
   },
   "outputs": [
    {
     "data": {
      "text/plain": [
       "<matplotlib.legend.Legend at 0x7fed83ddac18>"
      ]
     },
     "execution_count": 165,
     "metadata": {},
     "output_type": "execute_result"
    },
    {
     "data": {
      "image/png": "[encoded data removed]",
      "text/plain": [
       "<Figure size 1296x288 with 3 Axes>"
      ]
     },
     "metadata": {},
     "output_type": "display_data"
    }
   ],
   "source": [
    "fig, (ax1, ax2, ax3) = plt.subplots(nrows=1, ncols=3, figsize=(18,4))\n",
    "\n",
    "df1['sum'].plot.bar(alpha=0.4, label='target_flag = 1', color='r', ax=ax1)\n",
    "df0['sum'].plot.bar(alpha=0.4, label='target_flag = 0', color='b', ax=ax1)\n",
    "ax1.legend(title='Суммы операций по дням недели на одного клиента')\n",
    "\n",
    "df1['count'].plot.bar(alpha=0.4, label='target_flag = 1', color='r', ax=ax2)\n",
    "df0['count'].plot.bar(alpha=0.4, label='target_flag = 0', color='b', ax=ax2)\n",
    "ax2.legend(title='Количество операций по дням недели на одного клиента')\n",
    "\n",
    "df1['mean'].plot.bar(alpha=0.4, label='target_flag = 1', color='r', ax=ax3)\n",
    "df0['mean'].plot.bar(alpha=0.4, label='target_flag = 0', color='b', ax=ax3)\n",
    "ax3.legend(title='Средняя сумма операций по дням недели')"
   ]
  },
  {
   "cell_type": "markdown",
   "metadata": {},
   "source": [
    "Количество и сумма по операциям в пятницу больше, чем в остальные дни. Но странно, что средний размер суммы у клиентов, которые ушли, почему-то выше.."
   ]
  },
  {
   "cell_type": "markdown",
   "metadata": {},
   "source": [
    "### Данные по периодам"
   ]
  },
  {
   "cell_type": "code",
   "execution_count": 166,
   "metadata": {
    "ExecuteTime": {
     "end_time": "2018-05-27T18:54:09.369358Z",
     "start_time": "2018-05-27T18:53:36.630071Z"
    }
   },
   "outputs": [],
   "source": [
    "df1 = df_train1.groupby(['PERIOD'])['amount_rub'].agg(['mean', 'sum', 'count'])\n",
    "df0 = df_train0.groupby(['PERIOD'])['amount_rub'].agg(['mean', 'sum', 'count'])\n",
    "df1_cli = df_train1.groupby(['PERIOD'])['cl_id'].agg(['nunique'])\n",
    "df0_cli = df_train0.groupby(['PERIOD'])['cl_id'].agg(['nunique'])\n",
    "df1['sum'] = df1['sum'] / df1_cli['nunique']\n",
    "df0['sum'] = df0['sum'] / df0_cli['nunique']\n",
    "df1['count'] = df1['count'] / df1_cli['nunique']\n",
    "df0['count'] = df0['count'] / df0_cli['nunique']"
   ]
  },
  {
   "cell_type": "code",
   "execution_count": 167,
   "metadata": {
    "ExecuteTime": {
     "end_time": "2018-05-27T18:54:10.781928Z",
     "start_time": "2018-05-27T18:54:09.373629Z"
    }
   },
   "outputs": [
    {
     "data": {
      "text/plain": [
       "<matplotlib.legend.Legend at 0x7fed83bc3438>"
      ]
     },
     "execution_count": 167,
     "metadata": {},
     "output_type": "execute_result"
    },
    {
     "data": {
      "image/png": "[encoded data removed]",
      "text/plain": [
       "<Figure size 1296x288 with 3 Axes>"
      ]
     },
     "metadata": {},
     "output_type": "display_data"
    }
   ],
   "source": [
    "fig, (ax1, ax2, ax3) = plt.subplots(nrows=1, ncols=3, figsize=(18,4))\n",
    "\n",
    "df1['sum'].plot.bar(alpha=0.4, label='target_flag = 1', color='r', ax=ax1)\n",
    "df0['sum'].plot.bar(alpha=0.4, label='target_flag = 0', color='b', ax=ax1)\n",
    "ax1.legend(title='Сумма операций за период на одного клиента')\n",
    "\n",
    "df1['count'].plot.bar(alpha=0.4, label='target_flag = 1', color='r', ax=ax2)\n",
    "df0['count'].plot.bar(alpha=0.4, label='target_flag = 0', color='b', ax=ax2)\n",
    "ax2.legend(title='Количество операций за период на одного клиента')\n",
    "\n",
    "df1['mean'].plot.bar(alpha=0.4, label='target_flag = 1', color='r', ax=ax3)\n",
    "df0['mean'].plot.bar(alpha=0.4, label='target_flag = 0', color='b', ax=ax3)\n",
    "ax3.legend(title='Средняя сумма одной операции за период')"
   ]
  },
  {
   "cell_type": "markdown",
   "metadata": {},
   "source": [
    "В первых начальных периодах активность клиентов обеих категорий примерно одинакова. Дальше, клиенты, которые ушли, былии меннее активны. Но средяя сумма операции у этих клиентов все равно выше. Видимо, к этой категории относятся более состоятельные клиенты"
   ]
  },
  {
   "cell_type": "code",
   "execution_count": 168,
   "metadata": {
    "ExecuteTime": {
     "end_time": "2018-05-27T18:54:38.595119Z",
     "start_time": "2018-05-27T18:54:10.784884Z"
    }
   },
   "outputs": [],
   "source": [
    "df1 = df_train1[df_train1['is_withdrawal']==True].groupby(['PERIOD'])['amount_rub'].agg(['mean', 'sum', 'count'])\n",
    "df0 = df_train0[df_train0['is_withdrawal']==True].groupby(['PERIOD'])['amount_rub'].agg(['mean', 'sum', 'count'])\n",
    "df1_cli = df_train1[df_train1['is_withdrawal']==True].groupby(['PERIOD'])['cl_id'].agg(['nunique'])\n",
    "df0_cli = df_train0[df_train0['is_withdrawal']==True].groupby(['PERIOD'])['cl_id'].agg(['nunique'])\n",
    "df1['sum'] = df1['sum'] / df1_cli['nunique']\n",
    "df0['sum'] = df0['sum'] / df0_cli['nunique']\n",
    "df1['count'] = df1['count'] / df1_cli['nunique']\n",
    "df0['count'] = df0['count'] / df0_cli['nunique']"
   ]
  },
  {
   "cell_type": "code",
   "execution_count": 169,
   "metadata": {
    "ExecuteTime": {
     "end_time": "2018-05-27T18:54:40.049262Z",
     "start_time": "2018-05-27T18:54:38.598287Z"
    }
   },
   "outputs": [
    {
     "data": {
      "text/plain": [
       "<matplotlib.legend.Legend at 0x7fed839526a0>"
      ]
     },
     "execution_count": 169,
     "metadata": {},
     "output_type": "execute_result"
    },
    {
     "data": {
      "image/png": "[encoded data removed]",
      "text/plain": [
       "<Figure size 1296x288 with 3 Axes>"
      ]
     },
     "metadata": {},
     "output_type": "display_data"
    }
   ],
   "source": [
    "fig, (ax1, ax2, ax3) = plt.subplots(nrows=1, ncols=3, figsize=(18,4))\n",
    "\n",
    "df1['sum'].plot.bar(alpha=0.4, label='target_flag = 1', color='r', ax=ax1)\n",
    "df0['sum'].plot.bar(alpha=0.4, label='target_flag = 0', color='b', ax=ax1)\n",
    "ax1.legend(title='Сумма покупок/снятий за период на одного клиента')\n",
    "\n",
    "df1['count'].plot.bar(alpha=0.4, label='target_flag = 1', color='r', ax=ax2)\n",
    "df0['count'].plot.bar(alpha=0.4, label='target_flag = 0', color='b', ax=ax2)\n",
    "ax2.legend(title='Количество покупок/снятий за период на одного клиента')\n",
    "\n",
    "df1['mean'].plot.bar(alpha=0.4, label='target_flag = 1', color='r', ax=ax3)\n",
    "df0['mean'].plot.bar(alpha=0.4, label='target_flag = 0', color='b', ax=ax3)\n",
    "ax3.legend(title='Средняя сумма одной операции покупки/снятий за период')"
   ]
  },
  {
   "cell_type": "code",
   "execution_count": 170,
   "metadata": {
    "ExecuteTime": {
     "end_time": "2018-05-27T18:54:44.590606Z",
     "start_time": "2018-05-27T18:54:40.053214Z"
    }
   },
   "outputs": [],
   "source": [
    "df1 = df_train1[df_train1['is_withdrawal']==False].groupby(['PERIOD'])['amount_rub'].agg(['mean', 'sum', 'count'])\n",
    "df0 = df_train0[df_train0['is_withdrawal']==False].groupby(['PERIOD'])['amount_rub'].agg(['mean', 'sum', 'count'])\n",
    "df1_cli = df_train1[df_train1['is_withdrawal']==False].groupby(['PERIOD'])['cl_id'].agg(['nunique'])\n",
    "df0_cli = df_train0[df_train0['is_withdrawal']==False].groupby(['PERIOD'])['cl_id'].agg(['nunique'])\n",
    "df1['sum'] = df1['sum'] / df1_cli['nunique']\n",
    "df0['sum'] = df0['sum'] / df0_cli['nunique']\n",
    "df1['count'] = df1['count'] / df1_cli['nunique']\n",
    "df0['count'] = df0['count'] / df0_cli['nunique']"
   ]
  },
  {
   "cell_type": "code",
   "execution_count": 171,
   "metadata": {
    "ExecuteTime": {
     "end_time": "2018-05-27T18:54:46.000568Z",
     "start_time": "2018-05-27T18:54:44.594123Z"
    }
   },
   "outputs": [
    {
     "data": {
      "text/plain": [
       "<matplotlib.legend.Legend at 0x7fed836e0f98>"
      ]
     },
     "execution_count": 171,
     "metadata": {},
     "output_type": "execute_result"
    },
    {
     "data": {
      "image/png": "[encoded data removed]",
      "text/plain": [
       "<Figure size 1296x288 with 3 Axes>"
      ]
     },
     "metadata": {},
     "output_type": "display_data"
    }
   ],
   "source": [
    "fig, (ax1, ax2, ax3) = plt.subplots(nrows=1, ncols=3, figsize=(18,4))\n",
    "\n",
    "df1['sum'].plot.bar(alpha=0.4, label='target_flag = 1', color='r', ax=ax1)\n",
    "df0['sum'].plot.bar(alpha=0.4, label='target_flag = 0', color='b', ax=ax1)\n",
    "ax1.legend(title='Сумма пополнений за период на одного клиента')\n",
    "\n",
    "df1['count'].plot.bar(alpha=0.4, label='target_flag = 1', color='r', ax=ax2)\n",
    "df0['count'].plot.bar(alpha=0.4, label='target_flag = 0', color='b', ax=ax2)\n",
    "ax2.legend(title='Количество пополнений за период на одного клиента')\n",
    "\n",
    "df1['mean'].plot.bar(alpha=0.4, label='target_flag = 1', color='r', ax=ax3)\n",
    "df0['mean'].plot.bar(alpha=0.4, label='target_flag = 0', color='b', ax=ax3)\n",
    "ax3.legend(title='Средняя сумма одной операции пополнения за период')"
   ]
  },
  {
   "cell_type": "markdown",
   "metadata": {
    "ExecuteTime": {
     "end_time": "2018-05-27T14:50:27.469145Z",
     "start_time": "2018-05-27T14:50:27.463019Z"
    }
   },
   "source": [
    "Активность пополнений всех клиентов во второй половине периодов снизилась. Средний размер пополнений у ушедших клиентов был выше. Скорее всего продукт был кредитной картой, эти клиенты делали пополнения перед закрытием"
   ]
  },
  {
   "cell_type": "markdown",
   "metadata": {},
   "source": [
    "## Признаки"
   ]
  },
  {
   "cell_type": "code",
   "execution_count": 254,
   "metadata": {
    "ExecuteTime": {
     "end_time": "2018-05-27T19:16:51.539127Z",
     "start_time": "2018-05-27T19:16:51.506997Z"
    }
   },
   "outputs": [
    {
     "data": {
      "text/html": [
       "<div>\n",
       "<style scoped>\n",
       "    .dataframe tbody tr th:only-of-type {\n",
       "        vertical-align: middle;\n",
       "    }\n",
       "\n",
       "    .dataframe tbody tr th {\n",
       "        vertical-align: top;\n",
       "    }\n",
       "\n",
       "    .dataframe thead th {\n",
       "        text-align: right;\n",
       "    }\n",
       "</style>\n",
       "<table border=\"1\" class=\"dataframe\">\n",
       "  <thead>\n",
       "    <tr style=\"text-align: right;\">\n",
       "      <th></th>\n",
       "      <th>PERIOD</th>\n",
       "      <th>cl_id</th>\n",
       "      <th>MCC</th>\n",
       "      <th>channel_type</th>\n",
       "      <th>currency</th>\n",
       "      <th>TRDATETIME</th>\n",
       "      <th>amount</th>\n",
       "      <th>trx_category</th>\n",
       "      <th>is_test</th>\n",
       "      <th>MCC_group</th>\n",
       "      <th>curr_code</th>\n",
       "      <th>exch_rate</th>\n",
       "      <th>exch_nominal</th>\n",
       "      <th>amount_rub</th>\n",
       "      <th>dayofweek</th>\n",
       "      <th>is_weekend</th>\n",
       "      <th>is_withdrawal</th>\n",
       "    </tr>\n",
       "  </thead>\n",
       "  <tbody>\n",
       "    <tr>\n",
       "      <th>0</th>\n",
       "      <td>2016-10</td>\n",
       "      <td>1290</td>\n",
       "      <td>5411</td>\n",
       "      <td>type2</td>\n",
       "      <td>810</td>\n",
       "      <td>2016-10-07</td>\n",
       "      <td>2465.00</td>\n",
       "      <td>POS</td>\n",
       "      <td>0</td>\n",
       "      <td>Розничныемагазины</td>\n",
       "      <td>RUB</td>\n",
       "      <td>1.0</td>\n",
       "      <td>1.0</td>\n",
       "      <td>2465.00</td>\n",
       "      <td>4</td>\n",
       "      <td>0</td>\n",
       "      <td>True</td>\n",
       "    </tr>\n",
       "    <tr>\n",
       "      <th>1</th>\n",
       "      <td>2016-10</td>\n",
       "      <td>7689</td>\n",
       "      <td>5921</td>\n",
       "      <td>type1</td>\n",
       "      <td>810</td>\n",
       "      <td>2016-10-07</td>\n",
       "      <td>119.78</td>\n",
       "      <td>POS</td>\n",
       "      <td>1</td>\n",
       "      <td>Различныемагазины</td>\n",
       "      <td>RUB</td>\n",
       "      <td>1.0</td>\n",
       "      <td>1.0</td>\n",
       "      <td>119.78</td>\n",
       "      <td>4</td>\n",
       "      <td>0</td>\n",
       "      <td>True</td>\n",
       "    </tr>\n",
       "    <tr>\n",
       "      <th>2</th>\n",
       "      <td>2016-10</td>\n",
       "      <td>7689</td>\n",
       "      <td>5411</td>\n",
       "      <td>type1</td>\n",
       "      <td>810</td>\n",
       "      <td>2016-10-07</td>\n",
       "      <td>2678.00</td>\n",
       "      <td>POS</td>\n",
       "      <td>1</td>\n",
       "      <td>Розничныемагазины</td>\n",
       "      <td>RUB</td>\n",
       "      <td>1.0</td>\n",
       "      <td>1.0</td>\n",
       "      <td>2678.00</td>\n",
       "      <td>4</td>\n",
       "      <td>0</td>\n",
       "      <td>True</td>\n",
       "    </tr>\n",
       "    <tr>\n",
       "      <th>3</th>\n",
       "      <td>2016-10</td>\n",
       "      <td>485</td>\n",
       "      <td>6011</td>\n",
       "      <td>type2</td>\n",
       "      <td>810</td>\n",
       "      <td>2016-10-07</td>\n",
       "      <td>3600.00</td>\n",
       "      <td>WD_ATM_PARTNER</td>\n",
       "      <td>0</td>\n",
       "      <td>Поставщик услуг</td>\n",
       "      <td>RUB</td>\n",
       "      <td>1.0</td>\n",
       "      <td>1.0</td>\n",
       "      <td>3600.00</td>\n",
       "      <td>4</td>\n",
       "      <td>0</td>\n",
       "      <td>True</td>\n",
       "    </tr>\n",
       "    <tr>\n",
       "      <th>4</th>\n",
       "      <td>2016-10</td>\n",
       "      <td>485</td>\n",
       "      <td>4121</td>\n",
       "      <td>type2</td>\n",
       "      <td>810</td>\n",
       "      <td>2016-10-07</td>\n",
       "      <td>242.00</td>\n",
       "      <td>POS</td>\n",
       "      <td>0</td>\n",
       "      <td>Транспорт</td>\n",
       "      <td>RUB</td>\n",
       "      <td>1.0</td>\n",
       "      <td>1.0</td>\n",
       "      <td>242.00</td>\n",
       "      <td>4</td>\n",
       "      <td>0</td>\n",
       "      <td>True</td>\n",
       "    </tr>\n",
       "  </tbody>\n",
       "</table>\n",
       "</div>"
      ],
      "text/plain": [
       "   PERIOD  cl_id   MCC channel_type currency TRDATETIME   amount  \\\n",
       "0 2016-10   1290  5411        type2      810 2016-10-07  2465.00   \n",
       "1 2016-10   7689  5921        type1      810 2016-10-07   119.78   \n",
       "2 2016-10   7689  5411        type1      810 2016-10-07  2678.00   \n",
       "3 2016-10    485  6011        type2      810 2016-10-07  3600.00   \n",
       "4 2016-10    485  4121        type2      810 2016-10-07   242.00   \n",
       "\n",
       "     trx_category  is_test          MCC_group curr_code  exch_rate  \\\n",
       "0             POS        0  Розничныемагазины       RUB        1.0   \n",
       "1             POS        1  Различныемагазины       RUB        1.0   \n",
       "2             POS        1  Розничныемагазины       RUB        1.0   \n",
       "3  WD_ATM_PARTNER        0    Поставщик услуг       RUB        1.0   \n",
       "4             POS        0          Транспорт       RUB        1.0   \n",
       "\n",
       "   exch_nominal  amount_rub dayofweek  is_weekend is_withdrawal  \n",
       "0           1.0     2465.00         4           0          True  \n",
       "1           1.0      119.78         4           0          True  \n",
       "2           1.0     2678.00         4           0          True  \n",
       "3           1.0     3600.00         4           0          True  \n",
       "4           1.0      242.00         4           0          True  "
      ]
     },
     "execution_count": 254,
     "metadata": {},
     "output_type": "execute_result"
    }
   ],
   "source": [
    "df.head()"
   ]
  },
  {
   "cell_type": "code",
   "execution_count": 255,
   "metadata": {
    "ExecuteTime": {
     "end_time": "2018-05-27T19:16:58.415177Z",
     "start_time": "2018-05-27T19:16:58.407784Z"
    }
   },
   "outputs": [
    {
     "data": {
      "text/plain": [
       "(1008889, 17)"
      ]
     },
     "execution_count": 255,
     "metadata": {},
     "output_type": "execute_result"
    }
   ],
   "source": [
    "df.shape"
   ]
  },
  {
   "cell_type": "code",
   "execution_count": 256,
   "metadata": {
    "ExecuteTime": {
     "end_time": "2018-05-27T19:17:05.127509Z",
     "start_time": "2018-05-27T19:17:04.900123Z"
    }
   },
   "outputs": [],
   "source": [
    "X_full = df.groupby(['cl_id', 'channel_type', 'is_test'])['amount_rub'].agg(['sum','count','mean']).sort_index()"
   ]
  },
  {
   "cell_type": "code",
   "execution_count": 257,
   "metadata": {
    "ExecuteTime": {
     "end_time": "2018-05-27T19:17:11.147431Z",
     "start_time": "2018-05-27T19:17:11.125564Z"
    }
   },
   "outputs": [],
   "source": [
    "X_full = X_full.reset_index().set_index('cl_id')"
   ]
  },
  {
   "cell_type": "code",
   "execution_count": 258,
   "metadata": {
    "ExecuteTime": {
     "end_time": "2018-05-27T19:17:17.528384Z",
     "start_time": "2018-05-27T19:17:17.521402Z"
    }
   },
   "outputs": [
    {
     "data": {
      "text/plain": [
       "(10217, 5)"
      ]
     },
     "execution_count": 258,
     "metadata": {},
     "output_type": "execute_result"
    }
   ],
   "source": [
    "X_full.shape"
   ]
  },
  {
   "cell_type": "code",
   "execution_count": 260,
   "metadata": {
    "ExecuteTime": {
     "end_time": "2018-05-27T19:18:27.229680Z",
     "start_time": "2018-05-27T19:18:27.083513Z"
    }
   },
   "outputs": [
    {
     "data": {
      "text/html": [
       "<div>\n",
       "<style scoped>\n",
       "    .dataframe tbody tr th:only-of-type {\n",
       "        vertical-align: middle;\n",
       "    }\n",
       "\n",
       "    .dataframe tbody tr th {\n",
       "        vertical-align: top;\n",
       "    }\n",
       "\n",
       "    .dataframe thead th {\n",
       "        text-align: right;\n",
       "    }\n",
       "</style>\n",
       "<table border=\"1\" class=\"dataframe\">\n",
       "  <thead>\n",
       "    <tr style=\"text-align: right;\">\n",
       "      <th></th>\n",
       "      <th>is_test</th>\n",
       "      <th>sum</th>\n",
       "      <th>count</th>\n",
       "      <th>mean</th>\n",
       "      <th>channel_type_NaN</th>\n",
       "      <th>channel_type_type1</th>\n",
       "      <th>channel_type_type2</th>\n",
       "      <th>channel_type_type3</th>\n",
       "      <th>channel_type_type4</th>\n",
       "      <th>channel_type_type5</th>\n",
       "    </tr>\n",
       "    <tr>\n",
       "      <th>cl_id</th>\n",
       "      <th></th>\n",
       "      <th></th>\n",
       "      <th></th>\n",
       "      <th></th>\n",
       "      <th></th>\n",
       "      <th></th>\n",
       "      <th></th>\n",
       "      <th></th>\n",
       "      <th></th>\n",
       "      <th></th>\n",
       "    </tr>\n",
       "  </thead>\n",
       "  <tbody>\n",
       "    <tr>\n",
       "      <th>0</th>\n",
       "      <td>0</td>\n",
       "      <td>64383.000000</td>\n",
       "      <td>5</td>\n",
       "      <td>12876.600000</td>\n",
       "      <td>1</td>\n",
       "      <td>0</td>\n",
       "      <td>0</td>\n",
       "      <td>0</td>\n",
       "      <td>0</td>\n",
       "      <td>0</td>\n",
       "    </tr>\n",
       "    <tr>\n",
       "      <th>1</th>\n",
       "      <td>0</td>\n",
       "      <td>327185.976007</td>\n",
       "      <td>104</td>\n",
       "      <td>3146.019000</td>\n",
       "      <td>1</td>\n",
       "      <td>0</td>\n",
       "      <td>0</td>\n",
       "      <td>0</td>\n",
       "      <td>0</td>\n",
       "      <td>0</td>\n",
       "    </tr>\n",
       "    <tr>\n",
       "      <th>2</th>\n",
       "      <td>1</td>\n",
       "      <td>328717.720000</td>\n",
       "      <td>199</td>\n",
       "      <td>1651.847839</td>\n",
       "      <td>1</td>\n",
       "      <td>0</td>\n",
       "      <td>0</td>\n",
       "      <td>0</td>\n",
       "      <td>0</td>\n",
       "      <td>0</td>\n",
       "    </tr>\n",
       "    <tr>\n",
       "      <th>3</th>\n",
       "      <td>1</td>\n",
       "      <td>270046.090000</td>\n",
       "      <td>96</td>\n",
       "      <td>2812.980104</td>\n",
       "      <td>1</td>\n",
       "      <td>0</td>\n",
       "      <td>0</td>\n",
       "      <td>0</td>\n",
       "      <td>0</td>\n",
       "      <td>0</td>\n",
       "    </tr>\n",
       "    <tr>\n",
       "      <th>4</th>\n",
       "      <td>1</td>\n",
       "      <td>351133.982477</td>\n",
       "      <td>158</td>\n",
       "      <td>2222.366978</td>\n",
       "      <td>1</td>\n",
       "      <td>0</td>\n",
       "      <td>0</td>\n",
       "      <td>0</td>\n",
       "      <td>0</td>\n",
       "      <td>0</td>\n",
       "    </tr>\n",
       "  </tbody>\n",
       "</table>\n",
       "</div>"
      ],
      "text/plain": [
       "       is_test            sum  count          mean  channel_type_NaN  \\\n",
       "cl_id                                                                  \n",
       "0            0   64383.000000      5  12876.600000                 1   \n",
       "1            0  327185.976007    104   3146.019000                 1   \n",
       "2            1  328717.720000    199   1651.847839                 1   \n",
       "3            1  270046.090000     96   2812.980104                 1   \n",
       "4            1  351133.982477    158   2222.366978                 1   \n",
       "\n",
       "       channel_type_type1  channel_type_type2  channel_type_type3  \\\n",
       "cl_id                                                               \n",
       "0                       0                   0                   0   \n",
       "1                       0                   0                   0   \n",
       "2                       0                   0                   0   \n",
       "3                       0                   0                   0   \n",
       "4                       0                   0                   0   \n",
       "\n",
       "       channel_type_type4  channel_type_type5  \n",
       "cl_id                                          \n",
       "0                       0                   0  \n",
       "1                       0                   0  \n",
       "2                       0                   0  \n",
       "3                       0                   0  \n",
       "4                       0                   0  "
      ]
     },
     "execution_count": 260,
     "metadata": {},
     "output_type": "execute_result"
    }
   ],
   "source": [
    "X_full = pd.get_dummies(X_full)\n",
    "X_full.head()"
   ]
  },
  {
   "cell_type": "code",
   "execution_count": 261,
   "metadata": {
    "ExecuteTime": {
     "end_time": "2018-05-27T19:19:08.467157Z",
     "start_time": "2018-05-27T19:19:08.144812Z"
    }
   },
   "outputs": [
    {
     "data": {
      "text/plain": [
       "(10217, 384)"
      ]
     },
     "execution_count": 261,
     "metadata": {},
     "output_type": "execute_result"
    }
   ],
   "source": [
    "df_temp = df.groupby(['cl_id', 'MCC'])['amount_rub'].agg(['sum']).unstack(fill_value=0)\n",
    "df_temp.columns = pd.Index(['_'.join([str(_) for _ in v]) for v in df_temp.columns.values])\n",
    "df_temp.shape"
   ]
  },
  {
   "cell_type": "code",
   "execution_count": 262,
   "metadata": {
    "ExecuteTime": {
     "end_time": "2018-05-27T19:19:08.525288Z",
     "start_time": "2018-05-27T19:19:08.470736Z"
    }
   },
   "outputs": [
    {
     "data": {
      "text/html": [
       "<div>\n",
       "<style scoped>\n",
       "    .dataframe tbody tr th:only-of-type {\n",
       "        vertical-align: middle;\n",
       "    }\n",
       "\n",
       "    .dataframe tbody tr th {\n",
       "        vertical-align: top;\n",
       "    }\n",
       "\n",
       "    .dataframe thead th {\n",
       "        text-align: right;\n",
       "    }\n",
       "</style>\n",
       "<table border=\"1\" class=\"dataframe\">\n",
       "  <thead>\n",
       "    <tr style=\"text-align: right;\">\n",
       "      <th></th>\n",
       "      <th>sum_0742</th>\n",
       "      <th>sum_0763</th>\n",
       "      <th>sum_0780</th>\n",
       "      <th>sum_1520</th>\n",
       "      <th>sum_1711</th>\n",
       "      <th>sum_1731</th>\n",
       "      <th>sum_1740</th>\n",
       "      <th>sum_1750</th>\n",
       "      <th>sum_1761</th>\n",
       "      <th>sum_1799</th>\n",
       "      <th>...</th>\n",
       "      <th>sum_8699</th>\n",
       "      <th>sum_8911</th>\n",
       "      <th>sum_8931</th>\n",
       "      <th>sum_8999</th>\n",
       "      <th>sum_9211</th>\n",
       "      <th>sum_9222</th>\n",
       "      <th>sum_9311</th>\n",
       "      <th>sum_9399</th>\n",
       "      <th>sum_9402</th>\n",
       "      <th>sum_9405</th>\n",
       "    </tr>\n",
       "    <tr>\n",
       "      <th>cl_id</th>\n",
       "      <th></th>\n",
       "      <th></th>\n",
       "      <th></th>\n",
       "      <th></th>\n",
       "      <th></th>\n",
       "      <th></th>\n",
       "      <th></th>\n",
       "      <th></th>\n",
       "      <th></th>\n",
       "      <th></th>\n",
       "      <th></th>\n",
       "      <th></th>\n",
       "      <th></th>\n",
       "      <th></th>\n",
       "      <th></th>\n",
       "      <th></th>\n",
       "      <th></th>\n",
       "      <th></th>\n",
       "      <th></th>\n",
       "      <th></th>\n",
       "      <th></th>\n",
       "    </tr>\n",
       "  </thead>\n",
       "  <tbody>\n",
       "    <tr>\n",
       "      <th>0</th>\n",
       "      <td>0.0</td>\n",
       "      <td>0.0</td>\n",
       "      <td>0.0</td>\n",
       "      <td>0.0</td>\n",
       "      <td>0.0</td>\n",
       "      <td>0.0</td>\n",
       "      <td>0.0</td>\n",
       "      <td>0.0</td>\n",
       "      <td>0.0</td>\n",
       "      <td>0.0</td>\n",
       "      <td>...</td>\n",
       "      <td>0.0</td>\n",
       "      <td>0.0</td>\n",
       "      <td>0.0</td>\n",
       "      <td>0.0</td>\n",
       "      <td>0.0</td>\n",
       "      <td>0.0</td>\n",
       "      <td>0.0</td>\n",
       "      <td>0.0</td>\n",
       "      <td>0.0</td>\n",
       "      <td>0.0</td>\n",
       "    </tr>\n",
       "    <tr>\n",
       "      <th>1</th>\n",
       "      <td>0.0</td>\n",
       "      <td>0.0</td>\n",
       "      <td>0.0</td>\n",
       "      <td>0.0</td>\n",
       "      <td>0.0</td>\n",
       "      <td>0.0</td>\n",
       "      <td>0.0</td>\n",
       "      <td>0.0</td>\n",
       "      <td>0.0</td>\n",
       "      <td>0.0</td>\n",
       "      <td>...</td>\n",
       "      <td>0.0</td>\n",
       "      <td>0.0</td>\n",
       "      <td>0.0</td>\n",
       "      <td>0.0</td>\n",
       "      <td>0.0</td>\n",
       "      <td>0.0</td>\n",
       "      <td>210.0</td>\n",
       "      <td>0.0</td>\n",
       "      <td>0.0</td>\n",
       "      <td>0.0</td>\n",
       "    </tr>\n",
       "    <tr>\n",
       "      <th>2</th>\n",
       "      <td>0.0</td>\n",
       "      <td>0.0</td>\n",
       "      <td>0.0</td>\n",
       "      <td>0.0</td>\n",
       "      <td>0.0</td>\n",
       "      <td>0.0</td>\n",
       "      <td>0.0</td>\n",
       "      <td>0.0</td>\n",
       "      <td>0.0</td>\n",
       "      <td>0.0</td>\n",
       "      <td>...</td>\n",
       "      <td>0.0</td>\n",
       "      <td>0.0</td>\n",
       "      <td>0.0</td>\n",
       "      <td>7844.0</td>\n",
       "      <td>0.0</td>\n",
       "      <td>0.0</td>\n",
       "      <td>0.0</td>\n",
       "      <td>0.0</td>\n",
       "      <td>0.0</td>\n",
       "      <td>0.0</td>\n",
       "    </tr>\n",
       "    <tr>\n",
       "      <th>3</th>\n",
       "      <td>0.0</td>\n",
       "      <td>0.0</td>\n",
       "      <td>0.0</td>\n",
       "      <td>0.0</td>\n",
       "      <td>0.0</td>\n",
       "      <td>0.0</td>\n",
       "      <td>0.0</td>\n",
       "      <td>0.0</td>\n",
       "      <td>0.0</td>\n",
       "      <td>0.0</td>\n",
       "      <td>...</td>\n",
       "      <td>0.0</td>\n",
       "      <td>0.0</td>\n",
       "      <td>0.0</td>\n",
       "      <td>0.0</td>\n",
       "      <td>0.0</td>\n",
       "      <td>0.0</td>\n",
       "      <td>0.0</td>\n",
       "      <td>0.0</td>\n",
       "      <td>0.0</td>\n",
       "      <td>0.0</td>\n",
       "    </tr>\n",
       "    <tr>\n",
       "      <th>4</th>\n",
       "      <td>0.0</td>\n",
       "      <td>0.0</td>\n",
       "      <td>0.0</td>\n",
       "      <td>0.0</td>\n",
       "      <td>0.0</td>\n",
       "      <td>0.0</td>\n",
       "      <td>0.0</td>\n",
       "      <td>0.0</td>\n",
       "      <td>0.0</td>\n",
       "      <td>0.0</td>\n",
       "      <td>...</td>\n",
       "      <td>0.0</td>\n",
       "      <td>0.0</td>\n",
       "      <td>0.0</td>\n",
       "      <td>7811.0</td>\n",
       "      <td>0.0</td>\n",
       "      <td>0.0</td>\n",
       "      <td>0.0</td>\n",
       "      <td>0.0</td>\n",
       "      <td>0.0</td>\n",
       "      <td>0.0</td>\n",
       "    </tr>\n",
       "  </tbody>\n",
       "</table>\n",
       "<p>5 rows × 384 columns</p>\n",
       "</div>"
      ],
      "text/plain": [
       "       sum_0742  sum_0763  sum_0780  sum_1520  sum_1711  sum_1731  sum_1740  \\\n",
       "cl_id                                                                         \n",
       "0           0.0       0.0       0.0       0.0       0.0       0.0       0.0   \n",
       "1           0.0       0.0       0.0       0.0       0.0       0.0       0.0   \n",
       "2           0.0       0.0       0.0       0.0       0.0       0.0       0.0   \n",
       "3           0.0       0.0       0.0       0.0       0.0       0.0       0.0   \n",
       "4           0.0       0.0       0.0       0.0       0.0       0.0       0.0   \n",
       "\n",
       "       sum_1750  sum_1761  sum_1799    ...     sum_8699  sum_8911  sum_8931  \\\n",
       "cl_id                                  ...                                    \n",
       "0           0.0       0.0       0.0    ...          0.0       0.0       0.0   \n",
       "1           0.0       0.0       0.0    ...          0.0       0.0       0.0   \n",
       "2           0.0       0.0       0.0    ...          0.0       0.0       0.0   \n",
       "3           0.0       0.0       0.0    ...          0.0       0.0       0.0   \n",
       "4           0.0       0.0       0.0    ...          0.0       0.0       0.0   \n",
       "\n",
       "       sum_8999  sum_9211  sum_9222  sum_9311  sum_9399  sum_9402  sum_9405  \n",
       "cl_id                                                                        \n",
       "0           0.0       0.0       0.0       0.0       0.0       0.0       0.0  \n",
       "1           0.0       0.0       0.0     210.0       0.0       0.0       0.0  \n",
       "2        7844.0       0.0       0.0       0.0       0.0       0.0       0.0  \n",
       "3           0.0       0.0       0.0       0.0       0.0       0.0       0.0  \n",
       "4        7811.0       0.0       0.0       0.0       0.0       0.0       0.0  \n",
       "\n",
       "[5 rows x 384 columns]"
      ]
     },
     "execution_count": 262,
     "metadata": {},
     "output_type": "execute_result"
    }
   ],
   "source": [
    "df_temp.head()"
   ]
  },
  {
   "cell_type": "code",
   "execution_count": 263,
   "metadata": {
    "ExecuteTime": {
     "end_time": "2018-05-27T19:19:08.627340Z",
     "start_time": "2018-05-27T19:19:08.529105Z"
    }
   },
   "outputs": [
    {
     "data": {
      "text/plain": [
       "(10217, 394)"
      ]
     },
     "execution_count": 263,
     "metadata": {},
     "output_type": "execute_result"
    }
   ],
   "source": [
    "X_full = X_full.join(df_temp, how='left', on='cl_id', rsuffix='mcc')\n",
    "X_full.shape"
   ]
  },
  {
   "cell_type": "code",
   "execution_count": 264,
   "metadata": {
    "ExecuteTime": {
     "end_time": "2018-05-27T19:19:08.635450Z",
     "start_time": "2018-05-27T19:19:08.631702Z"
    }
   },
   "outputs": [],
   "source": [
    "#X_full.isnull().values.any()"
   ]
  },
  {
   "cell_type": "code",
   "execution_count": 265,
   "metadata": {
    "ExecuteTime": {
     "end_time": "2018-05-27T19:19:08.840992Z",
     "start_time": "2018-05-27T19:19:08.638983Z"
    }
   },
   "outputs": [
    {
     "data": {
      "text/html": [
       "<div>\n",
       "<style scoped>\n",
       "    .dataframe tbody tr th:only-of-type {\n",
       "        vertical-align: middle;\n",
       "    }\n",
       "\n",
       "    .dataframe tbody tr th {\n",
       "        vertical-align: top;\n",
       "    }\n",
       "\n",
       "    .dataframe thead th {\n",
       "        text-align: right;\n",
       "    }\n",
       "</style>\n",
       "<table border=\"1\" class=\"dataframe\">\n",
       "  <thead>\n",
       "    <tr style=\"text-align: right;\">\n",
       "      <th></th>\n",
       "      <th>sum_032</th>\n",
       "      <th>sum_036</th>\n",
       "      <th>sum_044</th>\n",
       "      <th>sum_048</th>\n",
       "      <th>sum_051</th>\n",
       "      <th>sum_124</th>\n",
       "      <th>sum_144</th>\n",
       "      <th>sum_156</th>\n",
       "      <th>sum_170</th>\n",
       "      <th>sum_188</th>\n",
       "      <th>...</th>\n",
       "      <th>sum_944</th>\n",
       "      <th>sum_946</th>\n",
       "      <th>sum_949</th>\n",
       "      <th>sum_975</th>\n",
       "      <th>sum_977</th>\n",
       "      <th>sum_978</th>\n",
       "      <th>sum_980</th>\n",
       "      <th>sum_981</th>\n",
       "      <th>sum_985</th>\n",
       "      <th>sum_986</th>\n",
       "    </tr>\n",
       "    <tr>\n",
       "      <th>cl_id</th>\n",
       "      <th></th>\n",
       "      <th></th>\n",
       "      <th></th>\n",
       "      <th></th>\n",
       "      <th></th>\n",
       "      <th></th>\n",
       "      <th></th>\n",
       "      <th></th>\n",
       "      <th></th>\n",
       "      <th></th>\n",
       "      <th></th>\n",
       "      <th></th>\n",
       "      <th></th>\n",
       "      <th></th>\n",
       "      <th></th>\n",
       "      <th></th>\n",
       "      <th></th>\n",
       "      <th></th>\n",
       "      <th></th>\n",
       "      <th></th>\n",
       "      <th></th>\n",
       "    </tr>\n",
       "  </thead>\n",
       "  <tbody>\n",
       "    <tr>\n",
       "      <th>0</th>\n",
       "      <td>0.0</td>\n",
       "      <td>0.0</td>\n",
       "      <td>0.0</td>\n",
       "      <td>0.0</td>\n",
       "      <td>0.0</td>\n",
       "      <td>0.0</td>\n",
       "      <td>0.0</td>\n",
       "      <td>0.0</td>\n",
       "      <td>0.0</td>\n",
       "      <td>0.0</td>\n",
       "      <td>...</td>\n",
       "      <td>0.0</td>\n",
       "      <td>0.0</td>\n",
       "      <td>0.0</td>\n",
       "      <td>0.0</td>\n",
       "      <td>0.0</td>\n",
       "      <td>0.00</td>\n",
       "      <td>0.0</td>\n",
       "      <td>0.00</td>\n",
       "      <td>0.0</td>\n",
       "      <td>0.0</td>\n",
       "    </tr>\n",
       "    <tr>\n",
       "      <th>1</th>\n",
       "      <td>0.0</td>\n",
       "      <td>0.0</td>\n",
       "      <td>0.0</td>\n",
       "      <td>0.0</td>\n",
       "      <td>0.0</td>\n",
       "      <td>0.0</td>\n",
       "      <td>0.0</td>\n",
       "      <td>0.0</td>\n",
       "      <td>0.0</td>\n",
       "      <td>0.0</td>\n",
       "      <td>...</td>\n",
       "      <td>0.0</td>\n",
       "      <td>0.0</td>\n",
       "      <td>0.0</td>\n",
       "      <td>0.0</td>\n",
       "      <td>0.0</td>\n",
       "      <td>884.91</td>\n",
       "      <td>0.0</td>\n",
       "      <td>0.00</td>\n",
       "      <td>0.0</td>\n",
       "      <td>0.0</td>\n",
       "    </tr>\n",
       "    <tr>\n",
       "      <th>2</th>\n",
       "      <td>0.0</td>\n",
       "      <td>0.0</td>\n",
       "      <td>0.0</td>\n",
       "      <td>0.0</td>\n",
       "      <td>0.0</td>\n",
       "      <td>0.0</td>\n",
       "      <td>0.0</td>\n",
       "      <td>0.0</td>\n",
       "      <td>0.0</td>\n",
       "      <td>0.0</td>\n",
       "      <td>...</td>\n",
       "      <td>0.0</td>\n",
       "      <td>0.0</td>\n",
       "      <td>0.0</td>\n",
       "      <td>0.0</td>\n",
       "      <td>0.0</td>\n",
       "      <td>0.00</td>\n",
       "      <td>0.0</td>\n",
       "      <td>0.00</td>\n",
       "      <td>0.0</td>\n",
       "      <td>0.0</td>\n",
       "    </tr>\n",
       "    <tr>\n",
       "      <th>3</th>\n",
       "      <td>0.0</td>\n",
       "      <td>0.0</td>\n",
       "      <td>0.0</td>\n",
       "      <td>0.0</td>\n",
       "      <td>0.0</td>\n",
       "      <td>0.0</td>\n",
       "      <td>0.0</td>\n",
       "      <td>0.0</td>\n",
       "      <td>0.0</td>\n",
       "      <td>0.0</td>\n",
       "      <td>...</td>\n",
       "      <td>0.0</td>\n",
       "      <td>0.0</td>\n",
       "      <td>0.0</td>\n",
       "      <td>0.0</td>\n",
       "      <td>0.0</td>\n",
       "      <td>0.00</td>\n",
       "      <td>0.0</td>\n",
       "      <td>802.68</td>\n",
       "      <td>0.0</td>\n",
       "      <td>0.0</td>\n",
       "    </tr>\n",
       "    <tr>\n",
       "      <th>4</th>\n",
       "      <td>0.0</td>\n",
       "      <td>0.0</td>\n",
       "      <td>0.0</td>\n",
       "      <td>0.0</td>\n",
       "      <td>0.0</td>\n",
       "      <td>0.0</td>\n",
       "      <td>0.0</td>\n",
       "      <td>0.0</td>\n",
       "      <td>0.0</td>\n",
       "      <td>0.0</td>\n",
       "      <td>...</td>\n",
       "      <td>0.0</td>\n",
       "      <td>0.0</td>\n",
       "      <td>0.0</td>\n",
       "      <td>0.0</td>\n",
       "      <td>0.0</td>\n",
       "      <td>186.23</td>\n",
       "      <td>0.0</td>\n",
       "      <td>0.00</td>\n",
       "      <td>0.0</td>\n",
       "      <td>0.0</td>\n",
       "    </tr>\n",
       "  </tbody>\n",
       "</table>\n",
       "<p>5 rows × 67 columns</p>\n",
       "</div>"
      ],
      "text/plain": [
       "       sum_032  sum_036  sum_044  sum_048  sum_051  sum_124  sum_144  sum_156  \\\n",
       "cl_id                                                                           \n",
       "0          0.0      0.0      0.0      0.0      0.0      0.0      0.0      0.0   \n",
       "1          0.0      0.0      0.0      0.0      0.0      0.0      0.0      0.0   \n",
       "2          0.0      0.0      0.0      0.0      0.0      0.0      0.0      0.0   \n",
       "3          0.0      0.0      0.0      0.0      0.0      0.0      0.0      0.0   \n",
       "4          0.0      0.0      0.0      0.0      0.0      0.0      0.0      0.0   \n",
       "\n",
       "       sum_170  sum_188   ...     sum_944  sum_946  sum_949  sum_975  sum_977  \\\n",
       "cl_id                     ...                                                   \n",
       "0          0.0      0.0   ...         0.0      0.0      0.0      0.0      0.0   \n",
       "1          0.0      0.0   ...         0.0      0.0      0.0      0.0      0.0   \n",
       "2          0.0      0.0   ...         0.0      0.0      0.0      0.0      0.0   \n",
       "3          0.0      0.0   ...         0.0      0.0      0.0      0.0      0.0   \n",
       "4          0.0      0.0   ...         0.0      0.0      0.0      0.0      0.0   \n",
       "\n",
       "       sum_978  sum_980  sum_981  sum_985  sum_986  \n",
       "cl_id                                               \n",
       "0         0.00      0.0     0.00      0.0      0.0  \n",
       "1       884.91      0.0     0.00      0.0      0.0  \n",
       "2         0.00      0.0     0.00      0.0      0.0  \n",
       "3         0.00      0.0   802.68      0.0      0.0  \n",
       "4       186.23      0.0     0.00      0.0      0.0  \n",
       "\n",
       "[5 rows x 67 columns]"
      ]
     },
     "execution_count": 265,
     "metadata": {},
     "output_type": "execute_result"
    }
   ],
   "source": [
    "df_temp = df.groupby(['cl_id', 'currency'])['amount'].agg(['sum']).unstack(fill_value=0)\n",
    "df_temp.columns = pd.Index(['_'.join([str(_) for _ in v]) for v in df_temp.columns.values])\n",
    "df_temp.head()"
   ]
  },
  {
   "cell_type": "code",
   "execution_count": 266,
   "metadata": {
    "ExecuteTime": {
     "end_time": "2018-05-27T19:19:08.874942Z",
     "start_time": "2018-05-27T19:19:08.846448Z"
    }
   },
   "outputs": [
    {
     "data": {
      "text/plain": [
       "(10217, 461)"
      ]
     },
     "execution_count": 266,
     "metadata": {},
     "output_type": "execute_result"
    }
   ],
   "source": [
    "X_full = X_full.join(df_temp, how='left', on='cl_id', rsuffix='curr')\n",
    "X_full.shape"
   ]
  },
  {
   "cell_type": "code",
   "execution_count": 267,
   "metadata": {
    "ExecuteTime": {
     "end_time": "2018-05-27T19:19:08.883985Z",
     "start_time": "2018-05-27T19:19:08.878634Z"
    }
   },
   "outputs": [],
   "source": [
    "#X_full.isnull().values.any()"
   ]
  },
  {
   "cell_type": "code",
   "execution_count": 268,
   "metadata": {
    "ExecuteTime": {
     "end_time": "2018-05-27T19:19:09.165935Z",
     "start_time": "2018-05-27T19:19:08.890045Z"
    }
   },
   "outputs": [
    {
     "data": {
      "text/html": [
       "<div>\n",
       "<style scoped>\n",
       "    .dataframe tbody tr th:only-of-type {\n",
       "        vertical-align: middle;\n",
       "    }\n",
       "\n",
       "    .dataframe tbody tr th {\n",
       "        vertical-align: top;\n",
       "    }\n",
       "\n",
       "    .dataframe thead th {\n",
       "        text-align: right;\n",
       "    }\n",
       "</style>\n",
       "<table border=\"1\" class=\"dataframe\">\n",
       "  <thead>\n",
       "    <tr style=\"text-align: right;\">\n",
       "      <th></th>\n",
       "      <th>sum_BACK_TRX</th>\n",
       "      <th>sum_C2C_IN</th>\n",
       "      <th>sum_C2C_OUT</th>\n",
       "      <th>sum_CASH_ADV</th>\n",
       "      <th>sum_CAT</th>\n",
       "      <th>sum_DEPOSIT</th>\n",
       "      <th>sum_POS</th>\n",
       "      <th>sum_WD_ATM_OTHER</th>\n",
       "      <th>sum_WD_ATM_PARTNER</th>\n",
       "      <th>sum_WD_ATM_ROS</th>\n",
       "      <th>...</th>\n",
       "      <th>mean_BACK_TRX</th>\n",
       "      <th>mean_C2C_IN</th>\n",
       "      <th>mean_C2C_OUT</th>\n",
       "      <th>mean_CASH_ADV</th>\n",
       "      <th>mean_CAT</th>\n",
       "      <th>mean_DEPOSIT</th>\n",
       "      <th>mean_POS</th>\n",
       "      <th>mean_WD_ATM_OTHER</th>\n",
       "      <th>mean_WD_ATM_PARTNER</th>\n",
       "      <th>mean_WD_ATM_ROS</th>\n",
       "    </tr>\n",
       "    <tr>\n",
       "      <th>cl_id</th>\n",
       "      <th></th>\n",
       "      <th></th>\n",
       "      <th></th>\n",
       "      <th></th>\n",
       "      <th></th>\n",
       "      <th></th>\n",
       "      <th></th>\n",
       "      <th></th>\n",
       "      <th></th>\n",
       "      <th></th>\n",
       "      <th></th>\n",
       "      <th></th>\n",
       "      <th></th>\n",
       "      <th></th>\n",
       "      <th></th>\n",
       "      <th></th>\n",
       "      <th></th>\n",
       "      <th></th>\n",
       "      <th></th>\n",
       "      <th></th>\n",
       "      <th></th>\n",
       "    </tr>\n",
       "  </thead>\n",
       "  <tbody>\n",
       "    <tr>\n",
       "      <th>0</th>\n",
       "      <td>0.0</td>\n",
       "      <td>0.0</td>\n",
       "      <td>36562.0</td>\n",
       "      <td>0.0</td>\n",
       "      <td>0.0</td>\n",
       "      <td>20000.0</td>\n",
       "      <td>7821.000000</td>\n",
       "      <td>0.0</td>\n",
       "      <td>0.0</td>\n",
       "      <td>0.0</td>\n",
       "      <td>...</td>\n",
       "      <td>0.0</td>\n",
       "      <td>0.0</td>\n",
       "      <td>36562.0</td>\n",
       "      <td>0.0</td>\n",
       "      <td>0.0</td>\n",
       "      <td>20000.0</td>\n",
       "      <td>2607.000000</td>\n",
       "      <td>0.0</td>\n",
       "      <td>0.000000</td>\n",
       "      <td>0.000000</td>\n",
       "    </tr>\n",
       "    <tr>\n",
       "      <th>1</th>\n",
       "      <td>0.0</td>\n",
       "      <td>0.0</td>\n",
       "      <td>0.0</td>\n",
       "      <td>0.0</td>\n",
       "      <td>0.0</td>\n",
       "      <td>95000.0</td>\n",
       "      <td>182185.976007</td>\n",
       "      <td>0.0</td>\n",
       "      <td>0.0</td>\n",
       "      <td>50000.0</td>\n",
       "      <td>...</td>\n",
       "      <td>0.0</td>\n",
       "      <td>0.0</td>\n",
       "      <td>0.0</td>\n",
       "      <td>0.0</td>\n",
       "      <td>0.0</td>\n",
       "      <td>47500.0</td>\n",
       "      <td>1803.821545</td>\n",
       "      <td>0.0</td>\n",
       "      <td>0.000000</td>\n",
       "      <td>50000.000000</td>\n",
       "    </tr>\n",
       "    <tr>\n",
       "      <th>2</th>\n",
       "      <td>4440.0</td>\n",
       "      <td>300.0</td>\n",
       "      <td>1000.0</td>\n",
       "      <td>0.0</td>\n",
       "      <td>0.0</td>\n",
       "      <td>0.0</td>\n",
       "      <td>189077.720000</td>\n",
       "      <td>0.0</td>\n",
       "      <td>78500.0</td>\n",
       "      <td>55400.0</td>\n",
       "      <td>...</td>\n",
       "      <td>2220.0</td>\n",
       "      <td>300.0</td>\n",
       "      <td>1000.0</td>\n",
       "      <td>0.0</td>\n",
       "      <td>0.0</td>\n",
       "      <td>0.0</td>\n",
       "      <td>1080.444114</td>\n",
       "      <td>0.0</td>\n",
       "      <td>7136.363636</td>\n",
       "      <td>6155.555556</td>\n",
       "    </tr>\n",
       "    <tr>\n",
       "      <th>3</th>\n",
       "      <td>0.0</td>\n",
       "      <td>75000.0</td>\n",
       "      <td>35000.0</td>\n",
       "      <td>0.0</td>\n",
       "      <td>0.0</td>\n",
       "      <td>0.0</td>\n",
       "      <td>115646.090000</td>\n",
       "      <td>9500.0</td>\n",
       "      <td>0.0</td>\n",
       "      <td>34900.0</td>\n",
       "      <td>...</td>\n",
       "      <td>0.0</td>\n",
       "      <td>37500.0</td>\n",
       "      <td>17500.0</td>\n",
       "      <td>0.0</td>\n",
       "      <td>0.0</td>\n",
       "      <td>0.0</td>\n",
       "      <td>1482.642179</td>\n",
       "      <td>2375.0</td>\n",
       "      <td>0.000000</td>\n",
       "      <td>3490.000000</td>\n",
       "    </tr>\n",
       "    <tr>\n",
       "      <th>4</th>\n",
       "      <td>0.0</td>\n",
       "      <td>0.0</td>\n",
       "      <td>1150.0</td>\n",
       "      <td>0.0</td>\n",
       "      <td>0.0</td>\n",
       "      <td>0.0</td>\n",
       "      <td>298183.982477</td>\n",
       "      <td>0.0</td>\n",
       "      <td>30500.0</td>\n",
       "      <td>21300.0</td>\n",
       "      <td>...</td>\n",
       "      <td>0.0</td>\n",
       "      <td>0.0</td>\n",
       "      <td>575.0</td>\n",
       "      <td>0.0</td>\n",
       "      <td>0.0</td>\n",
       "      <td>0.0</td>\n",
       "      <td>2042.356044</td>\n",
       "      <td>0.0</td>\n",
       "      <td>5083.333333</td>\n",
       "      <td>5325.000000</td>\n",
       "    </tr>\n",
       "  </tbody>\n",
       "</table>\n",
       "<p>5 rows × 30 columns</p>\n",
       "</div>"
      ],
      "text/plain": [
       "       sum_BACK_TRX  sum_C2C_IN  sum_C2C_OUT  sum_CASH_ADV  sum_CAT  \\\n",
       "cl_id                                                                 \n",
       "0               0.0         0.0      36562.0           0.0      0.0   \n",
       "1               0.0         0.0          0.0           0.0      0.0   \n",
       "2            4440.0       300.0       1000.0           0.0      0.0   \n",
       "3               0.0     75000.0      35000.0           0.0      0.0   \n",
       "4               0.0         0.0       1150.0           0.0      0.0   \n",
       "\n",
       "       sum_DEPOSIT        sum_POS  sum_WD_ATM_OTHER  sum_WD_ATM_PARTNER  \\\n",
       "cl_id                                                                     \n",
       "0          20000.0    7821.000000               0.0                 0.0   \n",
       "1          95000.0  182185.976007               0.0                 0.0   \n",
       "2              0.0  189077.720000               0.0             78500.0   \n",
       "3              0.0  115646.090000            9500.0                 0.0   \n",
       "4              0.0  298183.982477               0.0             30500.0   \n",
       "\n",
       "       sum_WD_ATM_ROS       ...         mean_BACK_TRX  mean_C2C_IN  \\\n",
       "cl_id                       ...                                      \n",
       "0                 0.0       ...                   0.0          0.0   \n",
       "1             50000.0       ...                   0.0          0.0   \n",
       "2             55400.0       ...                2220.0        300.0   \n",
       "3             34900.0       ...                   0.0      37500.0   \n",
       "4             21300.0       ...                   0.0          0.0   \n",
       "\n",
       "       mean_C2C_OUT  mean_CASH_ADV  mean_CAT  mean_DEPOSIT     mean_POS  \\\n",
       "cl_id                                                                     \n",
       "0           36562.0            0.0       0.0       20000.0  2607.000000   \n",
       "1               0.0            0.0       0.0       47500.0  1803.821545   \n",
       "2            1000.0            0.0       0.0           0.0  1080.444114   \n",
       "3           17500.0            0.0       0.0           0.0  1482.642179   \n",
       "4             575.0            0.0       0.0           0.0  2042.356044   \n",
       "\n",
       "       mean_WD_ATM_OTHER  mean_WD_ATM_PARTNER  mean_WD_ATM_ROS  \n",
       "cl_id                                                           \n",
       "0                    0.0             0.000000         0.000000  \n",
       "1                    0.0             0.000000     50000.000000  \n",
       "2                    0.0          7136.363636      6155.555556  \n",
       "3                 2375.0             0.000000      3490.000000  \n",
       "4                    0.0          5083.333333      5325.000000  \n",
       "\n",
       "[5 rows x 30 columns]"
      ]
     },
     "execution_count": 268,
     "metadata": {},
     "output_type": "execute_result"
    }
   ],
   "source": [
    "df_temp = df.groupby(['cl_id', 'trx_category'])['amount_rub'].agg(['sum','count','mean']).unstack(fill_value=0)\n",
    "df_temp.columns = pd.Index(['_'.join([str(_) for _ in v]) for v in df_temp.columns.values])\n",
    "df_temp.head()"
   ]
  },
  {
   "cell_type": "code",
   "execution_count": 269,
   "metadata": {
    "ExecuteTime": {
     "end_time": "2018-05-27T19:19:09.196898Z",
     "start_time": "2018-05-27T19:19:09.171653Z"
    }
   },
   "outputs": [
    {
     "data": {
      "text/plain": [
       "(10217, 491)"
      ]
     },
     "execution_count": 269,
     "metadata": {},
     "output_type": "execute_result"
    }
   ],
   "source": [
    "X_full = X_full.join(df_temp, how='left', on='cl_id')\n",
    "X_full.shape"
   ]
  },
  {
   "cell_type": "code",
   "execution_count": 270,
   "metadata": {
    "ExecuteTime": {
     "end_time": "2018-05-27T19:19:09.206495Z",
     "start_time": "2018-05-27T19:19:09.202394Z"
    }
   },
   "outputs": [],
   "source": [
    "#X_full.isnull().values.any()"
   ]
  },
  {
   "cell_type": "code",
   "execution_count": 271,
   "metadata": {
    "ExecuteTime": {
     "end_time": "2018-05-27T19:19:09.639585Z",
     "start_time": "2018-05-27T19:19:09.210627Z"
    }
   },
   "outputs": [
    {
     "data": {
      "text/html": [
       "<div>\n",
       "<style scoped>\n",
       "    .dataframe tbody tr th:only-of-type {\n",
       "        vertical-align: middle;\n",
       "    }\n",
       "\n",
       "    .dataframe tbody tr th {\n",
       "        vertical-align: top;\n",
       "    }\n",
       "\n",
       "    .dataframe thead th {\n",
       "        text-align: right;\n",
       "    }\n",
       "</style>\n",
       "<table border=\"1\" class=\"dataframe\">\n",
       "  <thead>\n",
       "    <tr style=\"text-align: right;\">\n",
       "      <th></th>\n",
       "      <th>sum_Nan</th>\n",
       "      <th>sum_Авиалинии_авиакомпании</th>\n",
       "      <th>sum_Автомобили итранспортныесредства</th>\n",
       "      <th>sum_Арендаавтомобилей</th>\n",
       "      <th>sum_Бизнес услуги</th>\n",
       "      <th>sum_Государственныеуслуги</th>\n",
       "      <th>sum_Коммунальные икабельные услуги</th>\n",
       "      <th>sum_Контрактныеуслуги</th>\n",
       "      <th>sum_Личные услуги</th>\n",
       "      <th>sum_Магазины одежды</th>\n",
       "      <th>...</th>\n",
       "      <th>mean_Отели и мотели</th>\n",
       "      <th>mean_Поставщик услуг</th>\n",
       "      <th>mean_Продажи по почте/телефону</th>\n",
       "      <th>mean_Профессиональныеуслуги</th>\n",
       "      <th>mean_Развлечения</th>\n",
       "      <th>mean_Различныемагазины</th>\n",
       "      <th>mean_Ремонтные услуги</th>\n",
       "      <th>mean_Розничныемагазины</th>\n",
       "      <th>mean_Транспорт</th>\n",
       "      <th>mean_Членскиеорганизации</th>\n",
       "    </tr>\n",
       "    <tr>\n",
       "      <th>cl_id</th>\n",
       "      <th></th>\n",
       "      <th></th>\n",
       "      <th></th>\n",
       "      <th></th>\n",
       "      <th></th>\n",
       "      <th></th>\n",
       "      <th></th>\n",
       "      <th></th>\n",
       "      <th></th>\n",
       "      <th></th>\n",
       "      <th></th>\n",
       "      <th></th>\n",
       "      <th></th>\n",
       "      <th></th>\n",
       "      <th></th>\n",
       "      <th></th>\n",
       "      <th></th>\n",
       "      <th></th>\n",
       "      <th></th>\n",
       "      <th></th>\n",
       "      <th></th>\n",
       "    </tr>\n",
       "  </thead>\n",
       "  <tbody>\n",
       "    <tr>\n",
       "      <th>0</th>\n",
       "      <td>0.0</td>\n",
       "      <td>0.0</td>\n",
       "      <td>0.00</td>\n",
       "      <td>0.0</td>\n",
       "      <td>0.000</td>\n",
       "      <td>0.0</td>\n",
       "      <td>0.0</td>\n",
       "      <td>0.0</td>\n",
       "      <td>0.0</td>\n",
       "      <td>0.000000</td>\n",
       "      <td>...</td>\n",
       "      <td>0.0</td>\n",
       "      <td>28281.000000</td>\n",
       "      <td>0.0</td>\n",
       "      <td>0.0</td>\n",
       "      <td>0.000000</td>\n",
       "      <td>767.000000</td>\n",
       "      <td>0.0</td>\n",
       "      <td>3527.000000</td>\n",
       "      <td>0.000000</td>\n",
       "      <td>0.0</td>\n",
       "    </tr>\n",
       "    <tr>\n",
       "      <th>1</th>\n",
       "      <td>0.0</td>\n",
       "      <td>0.0</td>\n",
       "      <td>0.00</td>\n",
       "      <td>0.0</td>\n",
       "      <td>2037.228</td>\n",
       "      <td>210.0</td>\n",
       "      <td>0.0</td>\n",
       "      <td>0.0</td>\n",
       "      <td>0.0</td>\n",
       "      <td>10586.019844</td>\n",
       "      <td>...</td>\n",
       "      <td>0.0</td>\n",
       "      <td>36455.344900</td>\n",
       "      <td>0.0</td>\n",
       "      <td>0.0</td>\n",
       "      <td>2031.613483</td>\n",
       "      <td>1861.809015</td>\n",
       "      <td>0.0</td>\n",
       "      <td>1500.711419</td>\n",
       "      <td>1752.182665</td>\n",
       "      <td>0.0</td>\n",
       "    </tr>\n",
       "    <tr>\n",
       "      <th>2</th>\n",
       "      <td>0.0</td>\n",
       "      <td>6000.0</td>\n",
       "      <td>307.90</td>\n",
       "      <td>0.0</td>\n",
       "      <td>7844.000</td>\n",
       "      <td>0.0</td>\n",
       "      <td>11429.0</td>\n",
       "      <td>0.0</td>\n",
       "      <td>15334.0</td>\n",
       "      <td>35165.000000</td>\n",
       "      <td>...</td>\n",
       "      <td>975.0</td>\n",
       "      <td>6008.695652</td>\n",
       "      <td>0.0</td>\n",
       "      <td>0.0</td>\n",
       "      <td>995.000000</td>\n",
       "      <td>858.360536</td>\n",
       "      <td>0.0</td>\n",
       "      <td>292.648889</td>\n",
       "      <td>695.542857</td>\n",
       "      <td>0.0</td>\n",
       "    </tr>\n",
       "    <tr>\n",
       "      <th>3</th>\n",
       "      <td>0.0</td>\n",
       "      <td>0.0</td>\n",
       "      <td>0.00</td>\n",
       "      <td>0.0</td>\n",
       "      <td>0.000</td>\n",
       "      <td>0.0</td>\n",
       "      <td>0.0</td>\n",
       "      <td>0.0</td>\n",
       "      <td>911.4</td>\n",
       "      <td>45053.730000</td>\n",
       "      <td>...</td>\n",
       "      <td>0.0</td>\n",
       "      <td>8577.777778</td>\n",
       "      <td>0.0</td>\n",
       "      <td>0.0</td>\n",
       "      <td>0.000000</td>\n",
       "      <td>998.258980</td>\n",
       "      <td>0.0</td>\n",
       "      <td>1098.174615</td>\n",
       "      <td>2163.333333</td>\n",
       "      <td>0.0</td>\n",
       "    </tr>\n",
       "    <tr>\n",
       "      <th>4</th>\n",
       "      <td>0.0</td>\n",
       "      <td>0.0</td>\n",
       "      <td>6007.94</td>\n",
       "      <td>0.0</td>\n",
       "      <td>8111.000</td>\n",
       "      <td>0.0</td>\n",
       "      <td>749.0</td>\n",
       "      <td>0.0</td>\n",
       "      <td>0.0</td>\n",
       "      <td>7072.500000</td>\n",
       "      <td>...</td>\n",
       "      <td>0.0</td>\n",
       "      <td>4412.500000</td>\n",
       "      <td>0.0</td>\n",
       "      <td>3000.0</td>\n",
       "      <td>3350.000000</td>\n",
       "      <td>858.079740</td>\n",
       "      <td>0.0</td>\n",
       "      <td>6753.349615</td>\n",
       "      <td>0.000000</td>\n",
       "      <td>0.0</td>\n",
       "    </tr>\n",
       "  </tbody>\n",
       "</table>\n",
       "<p>5 rows × 63 columns</p>\n",
       "</div>"
      ],
      "text/plain": [
       "       sum_Nan  sum_Авиалинии_авиакомпании  \\\n",
       "cl_id                                        \n",
       "0          0.0                         0.0   \n",
       "1          0.0                         0.0   \n",
       "2          0.0                      6000.0   \n",
       "3          0.0                         0.0   \n",
       "4          0.0                         0.0   \n",
       "\n",
       "       sum_Автомобили итранспортныесредства  sum_Арендаавтомобилей  \\\n",
       "cl_id                                                                \n",
       "0                                      0.00                    0.0   \n",
       "1                                      0.00                    0.0   \n",
       "2                                    307.90                    0.0   \n",
       "3                                      0.00                    0.0   \n",
       "4                                   6007.94                    0.0   \n",
       "\n",
       "       sum_Бизнес услуги  sum_Государственныеуслуги  \\\n",
       "cl_id                                                 \n",
       "0                  0.000                        0.0   \n",
       "1               2037.228                      210.0   \n",
       "2               7844.000                        0.0   \n",
       "3                  0.000                        0.0   \n",
       "4               8111.000                        0.0   \n",
       "\n",
       "       sum_Коммунальные икабельные услуги  sum_Контрактныеуслуги  \\\n",
       "cl_id                                                              \n",
       "0                                     0.0                    0.0   \n",
       "1                                     0.0                    0.0   \n",
       "2                                 11429.0                    0.0   \n",
       "3                                     0.0                    0.0   \n",
       "4                                   749.0                    0.0   \n",
       "\n",
       "       sum_Личные услуги  sum_Магазины одежды            ...             \\\n",
       "cl_id                                                    ...              \n",
       "0                    0.0             0.000000            ...              \n",
       "1                    0.0         10586.019844            ...              \n",
       "2                15334.0         35165.000000            ...              \n",
       "3                  911.4         45053.730000            ...              \n",
       "4                    0.0          7072.500000            ...              \n",
       "\n",
       "       mean_Отели и мотели  mean_Поставщик услуг  \\\n",
       "cl_id                                              \n",
       "0                      0.0          28281.000000   \n",
       "1                      0.0          36455.344900   \n",
       "2                    975.0           6008.695652   \n",
       "3                      0.0           8577.777778   \n",
       "4                      0.0           4412.500000   \n",
       "\n",
       "       mean_Продажи по почте/телефону  mean_Профессиональныеуслуги  \\\n",
       "cl_id                                                                \n",
       "0                                 0.0                          0.0   \n",
       "1                                 0.0                          0.0   \n",
       "2                                 0.0                          0.0   \n",
       "3                                 0.0                          0.0   \n",
       "4                                 0.0                       3000.0   \n",
       "\n",
       "       mean_Развлечения  mean_Различныемагазины  mean_Ремонтные услуги  \\\n",
       "cl_id                                                                    \n",
       "0              0.000000              767.000000                    0.0   \n",
       "1           2031.613483             1861.809015                    0.0   \n",
       "2            995.000000              858.360536                    0.0   \n",
       "3              0.000000              998.258980                    0.0   \n",
       "4           3350.000000              858.079740                    0.0   \n",
       "\n",
       "       mean_Розничныемагазины  mean_Транспорт  mean_Членскиеорганизации  \n",
       "cl_id                                                                    \n",
       "0                 3527.000000        0.000000                       0.0  \n",
       "1                 1500.711419     1752.182665                       0.0  \n",
       "2                  292.648889      695.542857                       0.0  \n",
       "3                 1098.174615     2163.333333                       0.0  \n",
       "4                 6753.349615        0.000000                       0.0  \n",
       "\n",
       "[5 rows x 63 columns]"
      ]
     },
     "execution_count": 271,
     "metadata": {},
     "output_type": "execute_result"
    }
   ],
   "source": [
    "df_temp = df.groupby(['cl_id', 'MCC_group'])['amount_rub'].agg(['sum','count','mean']).unstack(fill_value=0)\n",
    "df_temp.columns = pd.Index(['_'.join([str(_) for _ in v]) for v in df_temp.columns.values])\n",
    "df_temp.head()"
   ]
  },
  {
   "cell_type": "code",
   "execution_count": 272,
   "metadata": {
    "ExecuteTime": {
     "end_time": "2018-05-27T19:19:09.676321Z",
     "start_time": "2018-05-27T19:19:09.643221Z"
    }
   },
   "outputs": [
    {
     "data": {
      "text/plain": [
       "(10217, 554)"
      ]
     },
     "execution_count": 272,
     "metadata": {},
     "output_type": "execute_result"
    }
   ],
   "source": [
    "X_full = X_full.join(df_temp, how='left', on='cl_id')\n",
    "X_full.shape"
   ]
  },
  {
   "cell_type": "code",
   "execution_count": 273,
   "metadata": {
    "ExecuteTime": {
     "end_time": "2018-05-27T19:19:09.684102Z",
     "start_time": "2018-05-27T19:19:09.680566Z"
    }
   },
   "outputs": [],
   "source": [
    "#X_full.isnull().values.any()"
   ]
  },
  {
   "cell_type": "code",
   "execution_count": 274,
   "metadata": {
    "ExecuteTime": {
     "end_time": "2018-05-27T19:19:10.061521Z",
     "start_time": "2018-05-27T19:19:09.687768Z"
    }
   },
   "outputs": [
    {
     "data": {
      "text/html": [
       "<div>\n",
       "<style scoped>\n",
       "    .dataframe tbody tr th:only-of-type {\n",
       "        vertical-align: middle;\n",
       "    }\n",
       "\n",
       "    .dataframe tbody tr th {\n",
       "        vertical-align: top;\n",
       "    }\n",
       "\n",
       "    .dataframe thead th {\n",
       "        text-align: right;\n",
       "    }\n",
       "</style>\n",
       "<table border=\"1\" class=\"dataframe\">\n",
       "  <thead>\n",
       "    <tr style=\"text-align: right;\">\n",
       "      <th></th>\n",
       "      <th>sum_0</th>\n",
       "      <th>sum_1</th>\n",
       "      <th>sum_2</th>\n",
       "      <th>sum_3</th>\n",
       "      <th>sum_4</th>\n",
       "      <th>sum_5</th>\n",
       "      <th>sum_6</th>\n",
       "      <th>count_0</th>\n",
       "      <th>count_1</th>\n",
       "      <th>count_2</th>\n",
       "      <th>...</th>\n",
       "      <th>count_4</th>\n",
       "      <th>count_5</th>\n",
       "      <th>count_6</th>\n",
       "      <th>mean_0</th>\n",
       "      <th>mean_1</th>\n",
       "      <th>mean_2</th>\n",
       "      <th>mean_3</th>\n",
       "      <th>mean_4</th>\n",
       "      <th>mean_5</th>\n",
       "      <th>mean_6</th>\n",
       "    </tr>\n",
       "    <tr>\n",
       "      <th>cl_id</th>\n",
       "      <th></th>\n",
       "      <th></th>\n",
       "      <th></th>\n",
       "      <th></th>\n",
       "      <th></th>\n",
       "      <th></th>\n",
       "      <th></th>\n",
       "      <th></th>\n",
       "      <th></th>\n",
       "      <th></th>\n",
       "      <th></th>\n",
       "      <th></th>\n",
       "      <th></th>\n",
       "      <th></th>\n",
       "      <th></th>\n",
       "      <th></th>\n",
       "      <th></th>\n",
       "      <th></th>\n",
       "      <th></th>\n",
       "      <th></th>\n",
       "      <th></th>\n",
       "    </tr>\n",
       "  </thead>\n",
       "  <tbody>\n",
       "    <tr>\n",
       "      <th>0</th>\n",
       "      <td>0.00000</td>\n",
       "      <td>37329.000000</td>\n",
       "      <td>0.00000</td>\n",
       "      <td>20000.000000</td>\n",
       "      <td>0.000000</td>\n",
       "      <td>7054.000000</td>\n",
       "      <td>0.0000</td>\n",
       "      <td>0</td>\n",
       "      <td>2</td>\n",
       "      <td>0</td>\n",
       "      <td>...</td>\n",
       "      <td>0</td>\n",
       "      <td>2</td>\n",
       "      <td>0</td>\n",
       "      <td>0.000000</td>\n",
       "      <td>18664.500000</td>\n",
       "      <td>0.000000</td>\n",
       "      <td>20000.000000</td>\n",
       "      <td>0.000000</td>\n",
       "      <td>3527.000000</td>\n",
       "      <td>0.000000</td>\n",
       "    </tr>\n",
       "    <tr>\n",
       "      <th>1</th>\n",
       "      <td>23183.66944</td>\n",
       "      <td>71007.367213</td>\n",
       "      <td>8965.73065</td>\n",
       "      <td>13704.280704</td>\n",
       "      <td>20570.289743</td>\n",
       "      <td>82352.388557</td>\n",
       "      <td>107402.2497</td>\n",
       "      <td>20</td>\n",
       "      <td>20</td>\n",
       "      <td>16</td>\n",
       "      <td>...</td>\n",
       "      <td>10</td>\n",
       "      <td>15</td>\n",
       "      <td>7</td>\n",
       "      <td>1159.183472</td>\n",
       "      <td>3550.368361</td>\n",
       "      <td>560.358166</td>\n",
       "      <td>856.517544</td>\n",
       "      <td>2057.028974</td>\n",
       "      <td>5490.159237</td>\n",
       "      <td>15343.178529</td>\n",
       "    </tr>\n",
       "    <tr>\n",
       "      <th>2</th>\n",
       "      <td>44580.21000</td>\n",
       "      <td>82033.300000</td>\n",
       "      <td>39448.36000</td>\n",
       "      <td>44534.750000</td>\n",
       "      <td>58713.000000</td>\n",
       "      <td>32823.400000</td>\n",
       "      <td>26584.7000</td>\n",
       "      <td>32</td>\n",
       "      <td>41</td>\n",
       "      <td>29</td>\n",
       "      <td>...</td>\n",
       "      <td>37</td>\n",
       "      <td>15</td>\n",
       "      <td>8</td>\n",
       "      <td>1393.131562</td>\n",
       "      <td>2000.812195</td>\n",
       "      <td>1360.288276</td>\n",
       "      <td>1203.641892</td>\n",
       "      <td>1586.837838</td>\n",
       "      <td>2188.226667</td>\n",
       "      <td>3323.087500</td>\n",
       "    </tr>\n",
       "    <tr>\n",
       "      <th>3</th>\n",
       "      <td>46694.00000</td>\n",
       "      <td>18736.790000</td>\n",
       "      <td>30971.19000</td>\n",
       "      <td>46386.380000</td>\n",
       "      <td>82359.000000</td>\n",
       "      <td>30807.000000</td>\n",
       "      <td>14091.7300</td>\n",
       "      <td>17</td>\n",
       "      <td>14</td>\n",
       "      <td>16</td>\n",
       "      <td>...</td>\n",
       "      <td>15</td>\n",
       "      <td>9</td>\n",
       "      <td>8</td>\n",
       "      <td>2746.705882</td>\n",
       "      <td>1338.342143</td>\n",
       "      <td>1935.699375</td>\n",
       "      <td>2728.610588</td>\n",
       "      <td>5490.600000</td>\n",
       "      <td>3423.000000</td>\n",
       "      <td>1761.466250</td>\n",
       "    </tr>\n",
       "    <tr>\n",
       "      <th>4</th>\n",
       "      <td>21565.00000</td>\n",
       "      <td>28364.580000</td>\n",
       "      <td>6272.98000</td>\n",
       "      <td>27184.602477</td>\n",
       "      <td>151919.500000</td>\n",
       "      <td>84055.110000</td>\n",
       "      <td>31772.2100</td>\n",
       "      <td>17</td>\n",
       "      <td>8</td>\n",
       "      <td>12</td>\n",
       "      <td>...</td>\n",
       "      <td>28</td>\n",
       "      <td>49</td>\n",
       "      <td>22</td>\n",
       "      <td>1268.529412</td>\n",
       "      <td>3545.572500</td>\n",
       "      <td>522.748333</td>\n",
       "      <td>1235.663749</td>\n",
       "      <td>5425.696429</td>\n",
       "      <td>1715.410408</td>\n",
       "      <td>1444.191364</td>\n",
       "    </tr>\n",
       "  </tbody>\n",
       "</table>\n",
       "<p>5 rows × 21 columns</p>\n",
       "</div>"
      ],
      "text/plain": [
       "             sum_0         sum_1        sum_2         sum_3          sum_4  \\\n",
       "cl_id                                                                        \n",
       "0          0.00000  37329.000000      0.00000  20000.000000       0.000000   \n",
       "1      23183.66944  71007.367213   8965.73065  13704.280704   20570.289743   \n",
       "2      44580.21000  82033.300000  39448.36000  44534.750000   58713.000000   \n",
       "3      46694.00000  18736.790000  30971.19000  46386.380000   82359.000000   \n",
       "4      21565.00000  28364.580000   6272.98000  27184.602477  151919.500000   \n",
       "\n",
       "              sum_5        sum_6  count_0  count_1  count_2      ...       \\\n",
       "cl_id                                                            ...        \n",
       "0       7054.000000       0.0000        0        2        0      ...        \n",
       "1      82352.388557  107402.2497       20       20       16      ...        \n",
       "2      32823.400000   26584.7000       32       41       29      ...        \n",
       "3      30807.000000   14091.7300       17       14       16      ...        \n",
       "4      84055.110000   31772.2100       17        8       12      ...        \n",
       "\n",
       "       count_4  count_5  count_6       mean_0        mean_1       mean_2  \\\n",
       "cl_id                                                                      \n",
       "0            0        2        0     0.000000  18664.500000     0.000000   \n",
       "1           10       15        7  1159.183472   3550.368361   560.358166   \n",
       "2           37       15        8  1393.131562   2000.812195  1360.288276   \n",
       "3           15        9        8  2746.705882   1338.342143  1935.699375   \n",
       "4           28       49       22  1268.529412   3545.572500   522.748333   \n",
       "\n",
       "             mean_3       mean_4       mean_5        mean_6  \n",
       "cl_id                                                        \n",
       "0      20000.000000     0.000000  3527.000000      0.000000  \n",
       "1        856.517544  2057.028974  5490.159237  15343.178529  \n",
       "2       1203.641892  1586.837838  2188.226667   3323.087500  \n",
       "3       2728.610588  5490.600000  3423.000000   1761.466250  \n",
       "4       1235.663749  5425.696429  1715.410408   1444.191364  \n",
       "\n",
       "[5 rows x 21 columns]"
      ]
     },
     "execution_count": 274,
     "metadata": {},
     "output_type": "execute_result"
    }
   ],
   "source": [
    "df_temp = df.groupby(['cl_id', 'dayofweek'])['amount_rub'].agg(['sum','count','mean']).unstack(fill_value=0)\n",
    "df_temp.columns = pd.Index(['_'.join([str(_) for _ in v]) for v in df_temp.columns.values])\n",
    "df_temp.head()"
   ]
  },
  {
   "cell_type": "code",
   "execution_count": 275,
   "metadata": {
    "ExecuteTime": {
     "end_time": "2018-05-27T19:19:10.093455Z",
     "start_time": "2018-05-27T19:19:10.066096Z"
    }
   },
   "outputs": [
    {
     "data": {
      "text/plain": [
       "(10217, 575)"
      ]
     },
     "execution_count": 275,
     "metadata": {},
     "output_type": "execute_result"
    }
   ],
   "source": [
    "X_full = X_full.join(df_temp, how='left', on='cl_id', rsuffix='dayofweek')\n",
    "X_full.shape"
   ]
  },
  {
   "cell_type": "code",
   "execution_count": 276,
   "metadata": {
    "ExecuteTime": {
     "end_time": "2018-05-27T19:19:10.100342Z",
     "start_time": "2018-05-27T19:19:10.096659Z"
    }
   },
   "outputs": [],
   "source": [
    "#X_full.isnull().values.any()"
   ]
  },
  {
   "cell_type": "code",
   "execution_count": 277,
   "metadata": {
    "ExecuteTime": {
     "end_time": "2018-05-27T19:19:10.321746Z",
     "start_time": "2018-05-27T19:19:10.103576Z"
    }
   },
   "outputs": [
    {
     "data": {
      "text/html": [
       "<div>\n",
       "<style scoped>\n",
       "    .dataframe tbody tr th:only-of-type {\n",
       "        vertical-align: middle;\n",
       "    }\n",
       "\n",
       "    .dataframe tbody tr th {\n",
       "        vertical-align: top;\n",
       "    }\n",
       "\n",
       "    .dataframe thead th {\n",
       "        text-align: right;\n",
       "    }\n",
       "</style>\n",
       "<table border=\"1\" class=\"dataframe\">\n",
       "  <thead>\n",
       "    <tr style=\"text-align: right;\">\n",
       "      <th></th>\n",
       "      <th>sum_0</th>\n",
       "      <th>sum_1</th>\n",
       "      <th>count_0</th>\n",
       "      <th>count_1</th>\n",
       "      <th>mean_0</th>\n",
       "      <th>mean_1</th>\n",
       "    </tr>\n",
       "    <tr>\n",
       "      <th>cl_id</th>\n",
       "      <th></th>\n",
       "      <th></th>\n",
       "      <th></th>\n",
       "      <th></th>\n",
       "      <th></th>\n",
       "      <th></th>\n",
       "    </tr>\n",
       "  </thead>\n",
       "  <tbody>\n",
       "    <tr>\n",
       "      <th>0</th>\n",
       "      <td>57329.000000</td>\n",
       "      <td>7054.000000</td>\n",
       "      <td>3</td>\n",
       "      <td>2</td>\n",
       "      <td>19109.666667</td>\n",
       "      <td>3527.000000</td>\n",
       "    </tr>\n",
       "    <tr>\n",
       "      <th>1</th>\n",
       "      <td>137431.337750</td>\n",
       "      <td>189754.638257</td>\n",
       "      <td>82</td>\n",
       "      <td>22</td>\n",
       "      <td>1675.991924</td>\n",
       "      <td>8625.210830</td>\n",
       "    </tr>\n",
       "    <tr>\n",
       "      <th>2</th>\n",
       "      <td>269309.620000</td>\n",
       "      <td>59408.100000</td>\n",
       "      <td>176</td>\n",
       "      <td>23</td>\n",
       "      <td>1530.168295</td>\n",
       "      <td>2582.960870</td>\n",
       "    </tr>\n",
       "    <tr>\n",
       "      <th>3</th>\n",
       "      <td>225147.360000</td>\n",
       "      <td>44898.730000</td>\n",
       "      <td>79</td>\n",
       "      <td>17</td>\n",
       "      <td>2849.966582</td>\n",
       "      <td>2641.101765</td>\n",
       "    </tr>\n",
       "    <tr>\n",
       "      <th>4</th>\n",
       "      <td>235306.662477</td>\n",
       "      <td>115827.320000</td>\n",
       "      <td>87</td>\n",
       "      <td>71</td>\n",
       "      <td>2704.674281</td>\n",
       "      <td>1631.370704</td>\n",
       "    </tr>\n",
       "  </tbody>\n",
       "</table>\n",
       "</div>"
      ],
      "text/plain": [
       "               sum_0          sum_1  count_0  count_1        mean_0  \\\n",
       "cl_id                                                                 \n",
       "0       57329.000000    7054.000000        3        2  19109.666667   \n",
       "1      137431.337750  189754.638257       82       22   1675.991924   \n",
       "2      269309.620000   59408.100000      176       23   1530.168295   \n",
       "3      225147.360000   44898.730000       79       17   2849.966582   \n",
       "4      235306.662477  115827.320000       87       71   2704.674281   \n",
       "\n",
       "            mean_1  \n",
       "cl_id               \n",
       "0      3527.000000  \n",
       "1      8625.210830  \n",
       "2      2582.960870  \n",
       "3      2641.101765  \n",
       "4      1631.370704  "
      ]
     },
     "execution_count": 277,
     "metadata": {},
     "output_type": "execute_result"
    }
   ],
   "source": [
    "df_temp = df.groupby(['cl_id', 'is_weekend'])['amount_rub'].agg(['sum','count','mean']).unstack(fill_value=0)\n",
    "df_temp.columns = pd.Index(['_'.join([str(_) for _ in v]) for v in df_temp.columns.values])\n",
    "df_temp.head()"
   ]
  },
  {
   "cell_type": "code",
   "execution_count": 278,
   "metadata": {
    "ExecuteTime": {
     "end_time": "2018-05-27T19:19:10.355420Z",
     "start_time": "2018-05-27T19:19:10.325634Z"
    }
   },
   "outputs": [
    {
     "data": {
      "text/plain": [
       "(10217, 581)"
      ]
     },
     "execution_count": 278,
     "metadata": {},
     "output_type": "execute_result"
    }
   ],
   "source": [
    "X_full = X_full.join(df_temp, how='left', on='cl_id', rsuffix='weekend')\n",
    "X_full.shape"
   ]
  },
  {
   "cell_type": "code",
   "execution_count": 279,
   "metadata": {
    "ExecuteTime": {
     "end_time": "2018-05-27T19:19:10.362339Z",
     "start_time": "2018-05-27T19:19:10.358730Z"
    }
   },
   "outputs": [],
   "source": [
    "#X_full.isnull().values.any()"
   ]
  },
  {
   "cell_type": "code",
   "execution_count": 280,
   "metadata": {
    "ExecuteTime": {
     "end_time": "2018-05-27T19:19:41.604757Z",
     "start_time": "2018-05-27T19:19:10.366270Z"
    }
   },
   "outputs": [
    {
     "data": {
      "text/html": [
       "<div>\n",
       "<style scoped>\n",
       "    .dataframe tbody tr th:only-of-type {\n",
       "        vertical-align: middle;\n",
       "    }\n",
       "\n",
       "    .dataframe tbody tr th {\n",
       "        vertical-align: top;\n",
       "    }\n",
       "\n",
       "    .dataframe thead th {\n",
       "        text-align: right;\n",
       "    }\n",
       "</style>\n",
       "<table border=\"1\" class=\"dataframe\">\n",
       "  <thead>\n",
       "    <tr style=\"text-align: right;\">\n",
       "      <th></th>\n",
       "      <th>sum_2016-10</th>\n",
       "      <th>sum_2016-11</th>\n",
       "      <th>sum_2016-12</th>\n",
       "      <th>sum_2017-01</th>\n",
       "      <th>sum_2017-02</th>\n",
       "      <th>sum_2017-03</th>\n",
       "      <th>sum_2017-04</th>\n",
       "      <th>sum_2017-05</th>\n",
       "      <th>sum_2017-06</th>\n",
       "      <th>sum_2017-07</th>\n",
       "      <th>...</th>\n",
       "      <th>mean_2017-07</th>\n",
       "      <th>mean_2017-08</th>\n",
       "      <th>mean_2017-09</th>\n",
       "      <th>mean_2017-10</th>\n",
       "      <th>mean_2017-11</th>\n",
       "      <th>mean_2017-12</th>\n",
       "      <th>mean_2018-01</th>\n",
       "      <th>mean_2018-02</th>\n",
       "      <th>mean_2018-03</th>\n",
       "      <th>mean_2018-04</th>\n",
       "    </tr>\n",
       "    <tr>\n",
       "      <th>cl_id</th>\n",
       "      <th></th>\n",
       "      <th></th>\n",
       "      <th></th>\n",
       "      <th></th>\n",
       "      <th></th>\n",
       "      <th></th>\n",
       "      <th></th>\n",
       "      <th></th>\n",
       "      <th></th>\n",
       "      <th></th>\n",
       "      <th></th>\n",
       "      <th></th>\n",
       "      <th></th>\n",
       "      <th></th>\n",
       "      <th></th>\n",
       "      <th></th>\n",
       "      <th></th>\n",
       "      <th></th>\n",
       "      <th></th>\n",
       "      <th></th>\n",
       "      <th></th>\n",
       "    </tr>\n",
       "  </thead>\n",
       "  <tbody>\n",
       "    <tr>\n",
       "      <th>0</th>\n",
       "      <td>0.0</td>\n",
       "      <td>0.0</td>\n",
       "      <td>0.0</td>\n",
       "      <td>0.0</td>\n",
       "      <td>0.00</td>\n",
       "      <td>0.00</td>\n",
       "      <td>0.0</td>\n",
       "      <td>0.0</td>\n",
       "      <td>0.00</td>\n",
       "      <td>0.00</td>\n",
       "      <td>...</td>\n",
       "      <td>0.000000</td>\n",
       "      <td>0.000000</td>\n",
       "      <td>0.000000</td>\n",
       "      <td>15904.00000</td>\n",
       "      <td>0.0</td>\n",
       "      <td>767.0</td>\n",
       "      <td>0.00</td>\n",
       "      <td>0.000000</td>\n",
       "      <td>0.000000</td>\n",
       "      <td>0.0</td>\n",
       "    </tr>\n",
       "    <tr>\n",
       "      <th>1</th>\n",
       "      <td>0.0</td>\n",
       "      <td>0.0</td>\n",
       "      <td>0.0</td>\n",
       "      <td>0.0</td>\n",
       "      <td>0.00</td>\n",
       "      <td>0.00</td>\n",
       "      <td>0.0</td>\n",
       "      <td>0.0</td>\n",
       "      <td>0.00</td>\n",
       "      <td>53930.26</td>\n",
       "      <td>...</td>\n",
       "      <td>4902.750909</td>\n",
       "      <td>543.928571</td>\n",
       "      <td>3857.422657</td>\n",
       "      <td>1262.00047</td>\n",
       "      <td>0.0</td>\n",
       "      <td>0.0</td>\n",
       "      <td>0.00</td>\n",
       "      <td>0.000000</td>\n",
       "      <td>0.000000</td>\n",
       "      <td>0.0</td>\n",
       "    </tr>\n",
       "    <tr>\n",
       "      <th>2</th>\n",
       "      <td>0.0</td>\n",
       "      <td>0.0</td>\n",
       "      <td>0.0</td>\n",
       "      <td>0.0</td>\n",
       "      <td>77439.16</td>\n",
       "      <td>95631.96</td>\n",
       "      <td>137492.8</td>\n",
       "      <td>18153.8</td>\n",
       "      <td>0.00</td>\n",
       "      <td>0.00</td>\n",
       "      <td>...</td>\n",
       "      <td>0.000000</td>\n",
       "      <td>0.000000</td>\n",
       "      <td>0.000000</td>\n",
       "      <td>0.00000</td>\n",
       "      <td>0.0</td>\n",
       "      <td>0.0</td>\n",
       "      <td>0.00</td>\n",
       "      <td>0.000000</td>\n",
       "      <td>0.000000</td>\n",
       "      <td>0.0</td>\n",
       "    </tr>\n",
       "    <tr>\n",
       "      <th>3</th>\n",
       "      <td>0.0</td>\n",
       "      <td>0.0</td>\n",
       "      <td>0.0</td>\n",
       "      <td>0.0</td>\n",
       "      <td>0.00</td>\n",
       "      <td>0.00</td>\n",
       "      <td>0.0</td>\n",
       "      <td>1000.0</td>\n",
       "      <td>85964.94</td>\n",
       "      <td>113730.00</td>\n",
       "      <td>...</td>\n",
       "      <td>2369.375000</td>\n",
       "      <td>3650.060526</td>\n",
       "      <td>0.000000</td>\n",
       "      <td>0.00000</td>\n",
       "      <td>0.0</td>\n",
       "      <td>0.0</td>\n",
       "      <td>0.00</td>\n",
       "      <td>0.000000</td>\n",
       "      <td>0.000000</td>\n",
       "      <td>0.0</td>\n",
       "    </tr>\n",
       "    <tr>\n",
       "      <th>4</th>\n",
       "      <td>0.0</td>\n",
       "      <td>0.0</td>\n",
       "      <td>0.0</td>\n",
       "      <td>0.0</td>\n",
       "      <td>0.00</td>\n",
       "      <td>0.00</td>\n",
       "      <td>0.0</td>\n",
       "      <td>0.0</td>\n",
       "      <td>0.00</td>\n",
       "      <td>0.00</td>\n",
       "      <td>...</td>\n",
       "      <td>0.000000</td>\n",
       "      <td>0.000000</td>\n",
       "      <td>0.000000</td>\n",
       "      <td>0.00000</td>\n",
       "      <td>0.0</td>\n",
       "      <td>0.0</td>\n",
       "      <td>104.99</td>\n",
       "      <td>1580.436867</td>\n",
       "      <td>3001.420993</td>\n",
       "      <td>749.0</td>\n",
       "    </tr>\n",
       "  </tbody>\n",
       "</table>\n",
       "<p>5 rows × 57 columns</p>\n",
       "</div>"
      ],
      "text/plain": [
       "       sum_2016-10  sum_2016-11  sum_2016-12  sum_2017-01  sum_2017-02  \\\n",
       "cl_id                                                                    \n",
       "0              0.0          0.0          0.0          0.0         0.00   \n",
       "1              0.0          0.0          0.0          0.0         0.00   \n",
       "2              0.0          0.0          0.0          0.0     77439.16   \n",
       "3              0.0          0.0          0.0          0.0         0.00   \n",
       "4              0.0          0.0          0.0          0.0         0.00   \n",
       "\n",
       "       sum_2017-03  sum_2017-04  sum_2017-05  sum_2017-06  sum_2017-07  \\\n",
       "cl_id                                                                    \n",
       "0             0.00          0.0          0.0         0.00         0.00   \n",
       "1             0.00          0.0          0.0         0.00     53930.26   \n",
       "2         95631.96     137492.8      18153.8         0.00         0.00   \n",
       "3             0.00          0.0       1000.0     85964.94    113730.00   \n",
       "4             0.00          0.0          0.0         0.00         0.00   \n",
       "\n",
       "           ...       mean_2017-07  mean_2017-08  mean_2017-09  mean_2017-10  \\\n",
       "cl_id      ...                                                                \n",
       "0          ...           0.000000      0.000000      0.000000   15904.00000   \n",
       "1          ...        4902.750909    543.928571   3857.422657    1262.00047   \n",
       "2          ...           0.000000      0.000000      0.000000       0.00000   \n",
       "3          ...        2369.375000   3650.060526      0.000000       0.00000   \n",
       "4          ...           0.000000      0.000000      0.000000       0.00000   \n",
       "\n",
       "       mean_2017-11  mean_2017-12  mean_2018-01  mean_2018-02  mean_2018-03  \\\n",
       "cl_id                                                                         \n",
       "0               0.0         767.0          0.00      0.000000      0.000000   \n",
       "1               0.0           0.0          0.00      0.000000      0.000000   \n",
       "2               0.0           0.0          0.00      0.000000      0.000000   \n",
       "3               0.0           0.0          0.00      0.000000      0.000000   \n",
       "4               0.0           0.0        104.99   1580.436867   3001.420993   \n",
       "\n",
       "       mean_2018-04  \n",
       "cl_id                \n",
       "0               0.0  \n",
       "1               0.0  \n",
       "2               0.0  \n",
       "3               0.0  \n",
       "4             749.0  \n",
       "\n",
       "[5 rows x 57 columns]"
      ]
     },
     "execution_count": 280,
     "metadata": {},
     "output_type": "execute_result"
    }
   ],
   "source": [
    "df_temp = df.groupby(['cl_id', 'PERIOD'])['amount_rub'].agg(['sum','count','mean']).unstack(fill_value=0)\n",
    "df_temp.columns = pd.Index(['_'.join([str(_) for _ in v]) for v in df_temp.columns.values])\n",
    "df_temp.head()"
   ]
  },
  {
   "cell_type": "code",
   "execution_count": 281,
   "metadata": {
    "ExecuteTime": {
     "end_time": "2018-05-27T19:19:41.643244Z",
     "start_time": "2018-05-27T19:19:41.607418Z"
    }
   },
   "outputs": [
    {
     "data": {
      "text/plain": [
       "(10217, 638)"
      ]
     },
     "execution_count": 281,
     "metadata": {},
     "output_type": "execute_result"
    }
   ],
   "source": [
    "X_full = X_full.join(df_temp, how='left', on='cl_id', rsuffix='period')\n",
    "X_full.shape"
   ]
  },
  {
   "cell_type": "code",
   "execution_count": 282,
   "metadata": {
    "ExecuteTime": {
     "end_time": "2018-05-27T19:19:41.651832Z",
     "start_time": "2018-05-27T19:19:41.648312Z"
    }
   },
   "outputs": [],
   "source": [
    "#X_full.isnull().values.any()"
   ]
  },
  {
   "cell_type": "code",
   "execution_count": 283,
   "metadata": {
    "ExecuteTime": {
     "end_time": "2018-05-27T19:20:09.252696Z",
     "start_time": "2018-05-27T19:19:41.656036Z"
    }
   },
   "outputs": [
    {
     "data": {
      "text/html": [
       "<div>\n",
       "<style scoped>\n",
       "    .dataframe tbody tr th:only-of-type {\n",
       "        vertical-align: middle;\n",
       "    }\n",
       "\n",
       "    .dataframe tbody tr th {\n",
       "        vertical-align: top;\n",
       "    }\n",
       "\n",
       "    .dataframe thead th {\n",
       "        text-align: right;\n",
       "    }\n",
       "</style>\n",
       "<table border=\"1\" class=\"dataframe\">\n",
       "  <thead>\n",
       "    <tr style=\"text-align: right;\">\n",
       "      <th></th>\n",
       "      <th>sum_2016-10</th>\n",
       "      <th>sum_2016-11</th>\n",
       "      <th>sum_2016-12</th>\n",
       "      <th>sum_2017-01</th>\n",
       "      <th>sum_2017-02</th>\n",
       "      <th>sum_2017-03</th>\n",
       "      <th>sum_2017-04</th>\n",
       "      <th>sum_2017-05</th>\n",
       "      <th>sum_2017-06</th>\n",
       "      <th>sum_2017-07</th>\n",
       "      <th>...</th>\n",
       "      <th>mean_2017-07</th>\n",
       "      <th>mean_2017-08</th>\n",
       "      <th>mean_2017-09</th>\n",
       "      <th>mean_2017-10</th>\n",
       "      <th>mean_2017-11</th>\n",
       "      <th>mean_2017-12</th>\n",
       "      <th>mean_2018-01</th>\n",
       "      <th>mean_2018-02</th>\n",
       "      <th>mean_2018-03</th>\n",
       "      <th>mean_2018-04</th>\n",
       "    </tr>\n",
       "    <tr>\n",
       "      <th>cl_id</th>\n",
       "      <th></th>\n",
       "      <th></th>\n",
       "      <th></th>\n",
       "      <th></th>\n",
       "      <th></th>\n",
       "      <th></th>\n",
       "      <th></th>\n",
       "      <th></th>\n",
       "      <th></th>\n",
       "      <th></th>\n",
       "      <th></th>\n",
       "      <th></th>\n",
       "      <th></th>\n",
       "      <th></th>\n",
       "      <th></th>\n",
       "      <th></th>\n",
       "      <th></th>\n",
       "      <th></th>\n",
       "      <th></th>\n",
       "      <th></th>\n",
       "      <th></th>\n",
       "    </tr>\n",
       "  </thead>\n",
       "  <tbody>\n",
       "    <tr>\n",
       "      <th>0</th>\n",
       "      <td>0.0</td>\n",
       "      <td>0.0</td>\n",
       "      <td>0.0</td>\n",
       "      <td>0.0</td>\n",
       "      <td>0.00</td>\n",
       "      <td>0.00</td>\n",
       "      <td>0.0</td>\n",
       "      <td>0.0</td>\n",
       "      <td>0.00</td>\n",
       "      <td>0.00</td>\n",
       "      <td>...</td>\n",
       "      <td>0.000000</td>\n",
       "      <td>0.000000</td>\n",
       "      <td>0.000000</td>\n",
       "      <td>3527.00000</td>\n",
       "      <td>0.0</td>\n",
       "      <td>767.0</td>\n",
       "      <td>0.00</td>\n",
       "      <td>0.00000</td>\n",
       "      <td>0.000000</td>\n",
       "      <td>0.0</td>\n",
       "    </tr>\n",
       "    <tr>\n",
       "      <th>1</th>\n",
       "      <td>0.0</td>\n",
       "      <td>0.0</td>\n",
       "      <td>0.0</td>\n",
       "      <td>0.0</td>\n",
       "      <td>0.00</td>\n",
       "      <td>0.00</td>\n",
       "      <td>0.0</td>\n",
       "      <td>0.0</td>\n",
       "      <td>0.00</td>\n",
       "      <td>3930.26</td>\n",
       "      <td>...</td>\n",
       "      <td>393.026000</td>\n",
       "      <td>543.928571</td>\n",
       "      <td>2402.670079</td>\n",
       "      <td>1262.00047</td>\n",
       "      <td>0.0</td>\n",
       "      <td>0.0</td>\n",
       "      <td>0.00</td>\n",
       "      <td>0.00000</td>\n",
       "      <td>0.000000</td>\n",
       "      <td>0.0</td>\n",
       "    </tr>\n",
       "    <tr>\n",
       "      <th>2</th>\n",
       "      <td>0.0</td>\n",
       "      <td>0.0</td>\n",
       "      <td>0.0</td>\n",
       "      <td>0.0</td>\n",
       "      <td>47239.16</td>\n",
       "      <td>65691.96</td>\n",
       "      <td>136492.8</td>\n",
       "      <td>18153.8</td>\n",
       "      <td>0.00</td>\n",
       "      <td>0.00</td>\n",
       "      <td>...</td>\n",
       "      <td>0.000000</td>\n",
       "      <td>0.000000</td>\n",
       "      <td>0.000000</td>\n",
       "      <td>0.00000</td>\n",
       "      <td>0.0</td>\n",
       "      <td>0.0</td>\n",
       "      <td>0.00</td>\n",
       "      <td>0.00000</td>\n",
       "      <td>0.000000</td>\n",
       "      <td>0.0</td>\n",
       "    </tr>\n",
       "    <tr>\n",
       "      <th>3</th>\n",
       "      <td>0.0</td>\n",
       "      <td>0.0</td>\n",
       "      <td>0.0</td>\n",
       "      <td>0.0</td>\n",
       "      <td>0.00</td>\n",
       "      <td>0.00</td>\n",
       "      <td>0.0</td>\n",
       "      <td>0.0</td>\n",
       "      <td>49964.94</td>\n",
       "      <td>44330.00</td>\n",
       "      <td>...</td>\n",
       "      <td>1081.219512</td>\n",
       "      <td>1334.446875</td>\n",
       "      <td>0.000000</td>\n",
       "      <td>0.00000</td>\n",
       "      <td>0.0</td>\n",
       "      <td>0.0</td>\n",
       "      <td>0.00</td>\n",
       "      <td>0.00000</td>\n",
       "      <td>0.000000</td>\n",
       "      <td>0.0</td>\n",
       "    </tr>\n",
       "    <tr>\n",
       "      <th>4</th>\n",
       "      <td>0.0</td>\n",
       "      <td>0.0</td>\n",
       "      <td>0.0</td>\n",
       "      <td>0.0</td>\n",
       "      <td>0.00</td>\n",
       "      <td>0.00</td>\n",
       "      <td>0.0</td>\n",
       "      <td>0.0</td>\n",
       "      <td>0.00</td>\n",
       "      <td>0.00</td>\n",
       "      <td>...</td>\n",
       "      <td>0.000000</td>\n",
       "      <td>0.000000</td>\n",
       "      <td>0.000000</td>\n",
       "      <td>0.00000</td>\n",
       "      <td>0.0</td>\n",
       "      <td>0.0</td>\n",
       "      <td>104.99</td>\n",
       "      <td>1508.45325</td>\n",
       "      <td>2959.339035</td>\n",
       "      <td>749.0</td>\n",
       "    </tr>\n",
       "  </tbody>\n",
       "</table>\n",
       "<p>5 rows × 57 columns</p>\n",
       "</div>"
      ],
      "text/plain": [
       "       sum_2016-10  sum_2016-11  sum_2016-12  sum_2017-01  sum_2017-02  \\\n",
       "cl_id                                                                    \n",
       "0              0.0          0.0          0.0          0.0         0.00   \n",
       "1              0.0          0.0          0.0          0.0         0.00   \n",
       "2              0.0          0.0          0.0          0.0     47239.16   \n",
       "3              0.0          0.0          0.0          0.0         0.00   \n",
       "4              0.0          0.0          0.0          0.0         0.00   \n",
       "\n",
       "       sum_2017-03  sum_2017-04  sum_2017-05  sum_2017-06  sum_2017-07  \\\n",
       "cl_id                                                                    \n",
       "0             0.00          0.0          0.0         0.00         0.00   \n",
       "1             0.00          0.0          0.0         0.00      3930.26   \n",
       "2         65691.96     136492.8      18153.8         0.00         0.00   \n",
       "3             0.00          0.0          0.0     49964.94     44330.00   \n",
       "4             0.00          0.0          0.0         0.00         0.00   \n",
       "\n",
       "           ...       mean_2017-07  mean_2017-08  mean_2017-09  mean_2017-10  \\\n",
       "cl_id      ...                                                                \n",
       "0          ...           0.000000      0.000000      0.000000    3527.00000   \n",
       "1          ...         393.026000    543.928571   2402.670079    1262.00047   \n",
       "2          ...           0.000000      0.000000      0.000000       0.00000   \n",
       "3          ...        1081.219512   1334.446875      0.000000       0.00000   \n",
       "4          ...           0.000000      0.000000      0.000000       0.00000   \n",
       "\n",
       "       mean_2017-11  mean_2017-12  mean_2018-01  mean_2018-02  mean_2018-03  \\\n",
       "cl_id                                                                         \n",
       "0               0.0         767.0          0.00       0.00000      0.000000   \n",
       "1               0.0           0.0          0.00       0.00000      0.000000   \n",
       "2               0.0           0.0          0.00       0.00000      0.000000   \n",
       "3               0.0           0.0          0.00       0.00000      0.000000   \n",
       "4               0.0           0.0        104.99    1508.45325   2959.339035   \n",
       "\n",
       "       mean_2018-04  \n",
       "cl_id                \n",
       "0               0.0  \n",
       "1               0.0  \n",
       "2               0.0  \n",
       "3               0.0  \n",
       "4             749.0  \n",
       "\n",
       "[5 rows x 57 columns]"
      ]
     },
     "execution_count": 283,
     "metadata": {},
     "output_type": "execute_result"
    }
   ],
   "source": [
    "df_temp = df[df['is_withdrawal']==True].groupby(['cl_id', 'PERIOD'])['amount_rub'].agg(['sum','count','mean']).unstack(fill_value=0)\n",
    "df_temp.columns = pd.Index(['_'.join([str(_) for _ in v]) for v in df_temp.columns.values])\n",
    "df_temp.head()"
   ]
  },
  {
   "cell_type": "code",
   "execution_count": 284,
   "metadata": {
    "ExecuteTime": {
     "end_time": "2018-05-27T19:20:09.301795Z",
     "start_time": "2018-05-27T19:20:09.263033Z"
    }
   },
   "outputs": [
    {
     "data": {
      "text/plain": [
       "(10217, 695)"
      ]
     },
     "execution_count": 284,
     "metadata": {},
     "output_type": "execute_result"
    }
   ],
   "source": [
    "X_full = X_full.join(df_temp, how='left', on='cl_id', rsuffix='period_out')\n",
    "X_full.shape"
   ]
  },
  {
   "cell_type": "code",
   "execution_count": 285,
   "metadata": {
    "ExecuteTime": {
     "end_time": "2018-05-27T19:20:09.310383Z",
     "start_time": "2018-05-27T19:20:09.306197Z"
    }
   },
   "outputs": [],
   "source": [
    "#X_full.isnull().values.any()"
   ]
  },
  {
   "cell_type": "code",
   "execution_count": 286,
   "metadata": {
    "ExecuteTime": {
     "end_time": "2018-05-27T19:20:13.770349Z",
     "start_time": "2018-05-27T19:20:09.314605Z"
    }
   },
   "outputs": [
    {
     "data": {
      "text/html": [
       "<div>\n",
       "<style scoped>\n",
       "    .dataframe tbody tr th:only-of-type {\n",
       "        vertical-align: middle;\n",
       "    }\n",
       "\n",
       "    .dataframe tbody tr th {\n",
       "        vertical-align: top;\n",
       "    }\n",
       "\n",
       "    .dataframe thead th {\n",
       "        text-align: right;\n",
       "    }\n",
       "</style>\n",
       "<table border=\"1\" class=\"dataframe\">\n",
       "  <thead>\n",
       "    <tr style=\"text-align: right;\">\n",
       "      <th></th>\n",
       "      <th>sum_2016-10</th>\n",
       "      <th>sum_2016-11</th>\n",
       "      <th>sum_2016-12</th>\n",
       "      <th>sum_2017-01</th>\n",
       "      <th>sum_2017-02</th>\n",
       "      <th>sum_2017-03</th>\n",
       "      <th>sum_2017-04</th>\n",
       "      <th>sum_2017-05</th>\n",
       "      <th>sum_2017-06</th>\n",
       "      <th>sum_2017-07</th>\n",
       "      <th>...</th>\n",
       "      <th>mean_2017-07</th>\n",
       "      <th>mean_2017-08</th>\n",
       "      <th>mean_2017-09</th>\n",
       "      <th>mean_2017-10</th>\n",
       "      <th>mean_2017-11</th>\n",
       "      <th>mean_2017-12</th>\n",
       "      <th>mean_2018-01</th>\n",
       "      <th>mean_2018-02</th>\n",
       "      <th>mean_2018-03</th>\n",
       "      <th>mean_2018-04</th>\n",
       "    </tr>\n",
       "    <tr>\n",
       "      <th>cl_id</th>\n",
       "      <th></th>\n",
       "      <th></th>\n",
       "      <th></th>\n",
       "      <th></th>\n",
       "      <th></th>\n",
       "      <th></th>\n",
       "      <th></th>\n",
       "      <th></th>\n",
       "      <th></th>\n",
       "      <th></th>\n",
       "      <th></th>\n",
       "      <th></th>\n",
       "      <th></th>\n",
       "      <th></th>\n",
       "      <th></th>\n",
       "      <th></th>\n",
       "      <th></th>\n",
       "      <th></th>\n",
       "      <th></th>\n",
       "      <th></th>\n",
       "      <th></th>\n",
       "    </tr>\n",
       "  </thead>\n",
       "  <tbody>\n",
       "    <tr>\n",
       "      <th>0</th>\n",
       "      <td>0.0</td>\n",
       "      <td>0.0</td>\n",
       "      <td>0.0</td>\n",
       "      <td>0.0</td>\n",
       "      <td>0.0</td>\n",
       "      <td>0.0</td>\n",
       "      <td>0.0</td>\n",
       "      <td>0.0</td>\n",
       "      <td>0.0</td>\n",
       "      <td>0.0</td>\n",
       "      <td>...</td>\n",
       "      <td>0.000000</td>\n",
       "      <td>0.0</td>\n",
       "      <td>0.0</td>\n",
       "      <td>28281.0</td>\n",
       "      <td>0.0</td>\n",
       "      <td>0.0</td>\n",
       "      <td>0.0</td>\n",
       "      <td>0.0</td>\n",
       "      <td>0.000000</td>\n",
       "      <td>0.0</td>\n",
       "    </tr>\n",
       "    <tr>\n",
       "      <th>1</th>\n",
       "      <td>0.0</td>\n",
       "      <td>0.0</td>\n",
       "      <td>0.0</td>\n",
       "      <td>0.0</td>\n",
       "      <td>0.0</td>\n",
       "      <td>0.0</td>\n",
       "      <td>0.0</td>\n",
       "      <td>0.0</td>\n",
       "      <td>0.0</td>\n",
       "      <td>50000.0</td>\n",
       "      <td>...</td>\n",
       "      <td>50000.000000</td>\n",
       "      <td>0.0</td>\n",
       "      <td>47500.0</td>\n",
       "      <td>0.0</td>\n",
       "      <td>0.0</td>\n",
       "      <td>0.0</td>\n",
       "      <td>0.0</td>\n",
       "      <td>0.0</td>\n",
       "      <td>0.000000</td>\n",
       "      <td>0.0</td>\n",
       "    </tr>\n",
       "    <tr>\n",
       "      <th>2</th>\n",
       "      <td>0.0</td>\n",
       "      <td>0.0</td>\n",
       "      <td>0.0</td>\n",
       "      <td>0.0</td>\n",
       "      <td>30200.0</td>\n",
       "      <td>29940.0</td>\n",
       "      <td>1000.0</td>\n",
       "      <td>0.0</td>\n",
       "      <td>0.0</td>\n",
       "      <td>0.0</td>\n",
       "      <td>...</td>\n",
       "      <td>0.000000</td>\n",
       "      <td>0.0</td>\n",
       "      <td>0.0</td>\n",
       "      <td>0.0</td>\n",
       "      <td>0.0</td>\n",
       "      <td>0.0</td>\n",
       "      <td>0.0</td>\n",
       "      <td>0.0</td>\n",
       "      <td>0.000000</td>\n",
       "      <td>0.0</td>\n",
       "    </tr>\n",
       "    <tr>\n",
       "      <th>3</th>\n",
       "      <td>0.0</td>\n",
       "      <td>0.0</td>\n",
       "      <td>0.0</td>\n",
       "      <td>0.0</td>\n",
       "      <td>0.0</td>\n",
       "      <td>0.0</td>\n",
       "      <td>0.0</td>\n",
       "      <td>1000.0</td>\n",
       "      <td>36000.0</td>\n",
       "      <td>69400.0</td>\n",
       "      <td>...</td>\n",
       "      <td>9914.285714</td>\n",
       "      <td>16000.0</td>\n",
       "      <td>0.0</td>\n",
       "      <td>0.0</td>\n",
       "      <td>0.0</td>\n",
       "      <td>0.0</td>\n",
       "      <td>0.0</td>\n",
       "      <td>0.0</td>\n",
       "      <td>0.000000</td>\n",
       "      <td>0.0</td>\n",
       "    </tr>\n",
       "    <tr>\n",
       "      <th>4</th>\n",
       "      <td>0.0</td>\n",
       "      <td>0.0</td>\n",
       "      <td>0.0</td>\n",
       "      <td>0.0</td>\n",
       "      <td>0.0</td>\n",
       "      <td>0.0</td>\n",
       "      <td>0.0</td>\n",
       "      <td>0.0</td>\n",
       "      <td>0.0</td>\n",
       "      <td>0.0</td>\n",
       "      <td>...</td>\n",
       "      <td>0.000000</td>\n",
       "      <td>0.0</td>\n",
       "      <td>0.0</td>\n",
       "      <td>0.0</td>\n",
       "      <td>0.0</td>\n",
       "      <td>0.0</td>\n",
       "      <td>0.0</td>\n",
       "      <td>3500.0</td>\n",
       "      <td>3983.333333</td>\n",
       "      <td>0.0</td>\n",
       "    </tr>\n",
       "  </tbody>\n",
       "</table>\n",
       "<p>5 rows × 57 columns</p>\n",
       "</div>"
      ],
      "text/plain": [
       "       sum_2016-10  sum_2016-11  sum_2016-12  sum_2017-01  sum_2017-02  \\\n",
       "cl_id                                                                    \n",
       "0              0.0          0.0          0.0          0.0          0.0   \n",
       "1              0.0          0.0          0.0          0.0          0.0   \n",
       "2              0.0          0.0          0.0          0.0      30200.0   \n",
       "3              0.0          0.0          0.0          0.0          0.0   \n",
       "4              0.0          0.0          0.0          0.0          0.0   \n",
       "\n",
       "       sum_2017-03  sum_2017-04  sum_2017-05  sum_2017-06  sum_2017-07  \\\n",
       "cl_id                                                                    \n",
       "0              0.0          0.0          0.0          0.0          0.0   \n",
       "1              0.0          0.0          0.0          0.0      50000.0   \n",
       "2          29940.0       1000.0          0.0          0.0          0.0   \n",
       "3              0.0          0.0       1000.0      36000.0      69400.0   \n",
       "4              0.0          0.0          0.0          0.0          0.0   \n",
       "\n",
       "           ...       mean_2017-07  mean_2017-08  mean_2017-09  mean_2017-10  \\\n",
       "cl_id      ...                                                                \n",
       "0          ...           0.000000           0.0           0.0       28281.0   \n",
       "1          ...       50000.000000           0.0       47500.0           0.0   \n",
       "2          ...           0.000000           0.0           0.0           0.0   \n",
       "3          ...        9914.285714       16000.0           0.0           0.0   \n",
       "4          ...           0.000000           0.0           0.0           0.0   \n",
       "\n",
       "       mean_2017-11  mean_2017-12  mean_2018-01  mean_2018-02  mean_2018-03  \\\n",
       "cl_id                                                                         \n",
       "0               0.0           0.0           0.0           0.0      0.000000   \n",
       "1               0.0           0.0           0.0           0.0      0.000000   \n",
       "2               0.0           0.0           0.0           0.0      0.000000   \n",
       "3               0.0           0.0           0.0           0.0      0.000000   \n",
       "4               0.0           0.0           0.0        3500.0   3983.333333   \n",
       "\n",
       "       mean_2018-04  \n",
       "cl_id                \n",
       "0               0.0  \n",
       "1               0.0  \n",
       "2               0.0  \n",
       "3               0.0  \n",
       "4               0.0  \n",
       "\n",
       "[5 rows x 57 columns]"
      ]
     },
     "execution_count": 286,
     "metadata": {},
     "output_type": "execute_result"
    }
   ],
   "source": [
    "df_temp = df[df['is_withdrawal']==False].groupby(['cl_id', 'PERIOD'])['amount_rub'].agg(['sum','count','mean']).unstack(fill_value=0)\n",
    "df_temp.columns = pd.Index(['_'.join([str(_) for _ in v]) for v in df_temp.columns.values])\n",
    "df_temp.head()"
   ]
  },
  {
   "cell_type": "code",
   "execution_count": 287,
   "metadata": {
    "ExecuteTime": {
     "end_time": "2018-05-27T19:20:13.778165Z",
     "start_time": "2018-05-27T19:20:13.774427Z"
    }
   },
   "outputs": [],
   "source": [
    "#df_temp.isnull().values.any()"
   ]
  },
  {
   "cell_type": "code",
   "execution_count": 288,
   "metadata": {
    "ExecuteTime": {
     "end_time": "2018-05-27T19:20:13.825277Z",
     "start_time": "2018-05-27T19:20:13.781862Z"
    }
   },
   "outputs": [
    {
     "data": {
      "text/plain": [
       "(10217, 752)"
      ]
     },
     "execution_count": 288,
     "metadata": {},
     "output_type": "execute_result"
    }
   ],
   "source": [
    "X_full = X_full.join(df_temp, how='left', on='cl_id', rsuffix='period_in')\n",
    "X_full.shape"
   ]
  },
  {
   "cell_type": "code",
   "execution_count": 289,
   "metadata": {
    "ExecuteTime": {
     "end_time": "2018-05-27T19:20:13.939902Z",
     "start_time": "2018-05-27T19:20:13.828799Z"
    }
   },
   "outputs": [
    {
     "data": {
      "text/plain": [
       "False"
      ]
     },
     "execution_count": 289,
     "metadata": {},
     "output_type": "execute_result"
    }
   ],
   "source": [
    "X_full.fillna(0, inplace=True)\n",
    "X_full.isnull().values.any()"
   ]
  },
  {
   "cell_type": "markdown",
   "metadata": {},
   "source": [
    "## Отбор признаков"
   ]
  },
  {
   "cell_type": "code",
   "execution_count": 297,
   "metadata": {
    "ExecuteTime": {
     "end_time": "2018-05-27T19:25:59.414350Z",
     "start_time": "2018-05-27T19:25:59.405110Z"
    }
   },
   "outputs": [],
   "source": [
    "from sklearn.preprocessing import StandardScaler\n",
    "from sklearn.pipeline import Pipeline\n",
    "from sklearn.model_selection import train_test_split, GridSearchCV, cross_val_score\n",
    "from sklearn.ensemble import RandomForestClassifier\n",
    "from sklearn.linear_model import LogisticRegression\n",
    "from sklearn.decomposition import PCA\n",
    "from sklearn.feature_selection import SelectFromModel\n",
    "from sklearn.svm import LinearSVC, SVC"
   ]
  },
  {
   "cell_type": "code",
   "execution_count": 295,
   "metadata": {
    "ExecuteTime": {
     "end_time": "2018-05-27T19:24:22.478648Z",
     "start_time": "2018-05-27T19:24:21.583494Z"
    }
   },
   "outputs": [
    {
     "name": "stderr",
     "output_type": "stream",
     "text": [
      "/home/max/anaconda3/lib/python3.6/site-packages/pandas/core/frame.py:3694: SettingWithCopyWarning: \n",
      "A value is trying to be set on a copy of a slice from a DataFrame\n",
      "\n",
      "See the caveats in the documentation: http://pandas.pydata.org/pandas-docs/stable/indexing.html#indexing-view-versus-copy\n",
      "  errors=errors)\n"
     ]
    },
    {
     "data": {
      "text/plain": [
       "((5000, 751), (5217, 751), (5000, 1))"
      ]
     },
     "execution_count": 295,
     "metadata": {},
     "output_type": "execute_result"
    }
   ],
   "source": [
    "X_train = X_full[X_full['is_test']==0].copy()\n",
    "X_pred = X_full[X_full['is_test']==1].copy()\n",
    "y = pd.Series(y['target_flag'])\n",
    "X_train.drop(columns=['is_test'], inplace=True)\n",
    "X_pred.drop(columns=['is_test'], inplace=True)\n",
    "X_full.drop(columns=['is_test'], inplace=True)\n",
    "X_train.shape, X_pred.shape, y.shape"
   ]
  },
  {
   "cell_type": "code",
   "execution_count": 346,
   "metadata": {
    "ExecuteTime": {
     "end_time": "2018-05-27T20:01:11.570932Z",
     "start_time": "2018-05-27T20:01:11.430735Z"
    }
   },
   "outputs": [],
   "source": [
    "X_train_l, X_test_l, y_train_l, y_test_l = train_test_split(X_train, y, test_size=0.30, stratify=y, random_state=42)"
   ]
  },
  {
   "cell_type": "markdown",
   "metadata": {},
   "source": [
    "### PCA"
   ]
  },
  {
   "cell_type": "markdown",
   "metadata": {},
   "source": [
    "Посмотрим, сколько признаков из 752 останется после применения PCA трансформации с сохранением 99% дисперсии"
   ]
  },
  {
   "cell_type": "code",
   "execution_count": 300,
   "metadata": {
    "ExecuteTime": {
     "end_time": "2018-05-27T19:26:56.605048Z",
     "start_time": "2018-05-27T19:26:55.179982Z"
    }
   },
   "outputs": [
    {
     "data": {
      "text/plain": [
       "(5000, 525)"
      ]
     },
     "execution_count": 300,
     "metadata": {},
     "output_type": "execute_result"
    }
   ],
   "source": [
    "pca_pipe = Pipeline([\n",
    "    ('scaler', StandardScaler()),\n",
    "    ('select', PCA(0.99))\n",
    "])\n",
    "\n",
    "X_pca = pca_pipe.fit_transform(X_train)\n",
    "X_pca.shape"
   ]
  },
  {
   "cell_type": "markdown",
   "metadata": {},
   "source": [
    "Посмотрим, сколько признаков из 752 останется после применения PCA трансформации с сохранением 95% дисперсии"
   ]
  },
  {
   "cell_type": "code",
   "execution_count": 301,
   "metadata": {
    "ExecuteTime": {
     "end_time": "2018-05-27T19:27:57.364954Z",
     "start_time": "2018-05-27T19:27:55.985147Z"
    }
   },
   "outputs": [
    {
     "data": {
      "text/plain": [
       "(5000, 429)"
      ]
     },
     "execution_count": 301,
     "metadata": {},
     "output_type": "execute_result"
    }
   ],
   "source": [
    "pca_pipe = Pipeline([\n",
    "    ('scaler', StandardScaler()),\n",
    "    ('select', PCA(0.95))\n",
    "])\n",
    "\n",
    "X_pca = pca_pipe.fit_transform(X_train)\n",
    "X_pca.shape"
   ]
  },
  {
   "cell_type": "code",
   "execution_count": 308,
   "metadata": {
    "ExecuteTime": {
     "end_time": "2018-05-27T19:32:23.204388Z",
     "start_time": "2018-05-27T19:32:23.195592Z"
    }
   },
   "outputs": [
    {
     "data": {
      "text/plain": [
       "array([0.03106767, 0.02714321, 0.02096744, 0.01857548, 0.0161585 ,\n",
       "       0.01532126, 0.01227019, 0.01049945, 0.00968344, 0.00848629,\n",
       "       0.00781074, 0.00747184, 0.00705063, 0.00683954, 0.00633236,\n",
       "       0.0061198 , 0.0059776 , 0.00589871, 0.00567418, 0.00558193,\n",
       "       0.00539845, 0.00531877, 0.00522807, 0.00512912, 0.00504531,\n",
       "       0.00495138, 0.00485467, 0.00479135, 0.00469986, 0.00465006,\n",
       "       0.00460989, 0.00450797, 0.00443834, 0.004376  , 0.00436327,\n",
       "       0.00435261, 0.00424861, 0.00415951, 0.00412735, 0.00403375,\n",
       "       0.00402435, 0.00393693, 0.00387901, 0.00386813, 0.00379897,\n",
       "       0.00376544, 0.00373798, 0.00366701, 0.00362941, 0.00358195])"
      ]
     },
     "execution_count": 308,
     "metadata": {},
     "output_type": "execute_result"
    }
   ],
   "source": [
    "pca_pipe.named_steps['select'].explained_variance_ratio_[:50]"
   ]
  },
  {
   "cell_type": "code",
   "execution_count": 312,
   "metadata": {
    "ExecuteTime": {
     "end_time": "2018-05-27T19:33:21.439274Z",
     "start_time": "2018-05-27T19:33:21.431232Z"
    }
   },
   "outputs": [
    {
     "data": {
      "text/plain": [
       "array([[ 0.16137904,  0.15603434,  0.01544947, ...,  0.0054129 ,\n",
       "         0.00754894,  0.00095296],\n",
       "       [ 0.13921807, -0.13417366,  0.1653222 , ...,  0.00982128,\n",
       "         0.02668028,  0.00470128],\n",
       "       [-0.03397044, -0.06395249,  0.01327496, ...,  0.05083218,\n",
       "         0.04110668,  0.02326379],\n",
       "       ...,\n",
       "       [ 0.00249217, -0.00042115, -0.02329982, ..., -0.02955205,\n",
       "        -0.04388672, -0.03435163],\n",
       "       [-0.0076897 ,  0.00379237,  0.0022943 , ...,  0.00341033,\n",
       "        -0.00406829,  0.01257775],\n",
       "       [-0.00802442, -0.00453334,  0.00289126, ...,  0.03945802,\n",
       "         0.01882356,  0.04905355]])"
      ]
     },
     "execution_count": 312,
     "metadata": {},
     "output_type": "execute_result"
    }
   ],
   "source": [
    "pca_pipe.named_steps['select'].components_[:50, :]"
   ]
  },
  {
   "cell_type": "markdown",
   "metadata": {},
   "source": [
    "### SelectFomModel"
   ]
  },
  {
   "cell_type": "code",
   "execution_count": 317,
   "metadata": {
    "ExecuteTime": {
     "end_time": "2018-05-27T19:36:57.473228Z",
     "start_time": "2018-05-27T19:36:57.430128Z"
    }
   },
   "outputs": [
    {
     "data": {
      "text/html": [
       "<div>\n",
       "<style scoped>\n",
       "    .dataframe tbody tr th:only-of-type {\n",
       "        vertical-align: middle;\n",
       "    }\n",
       "\n",
       "    .dataframe tbody tr th {\n",
       "        vertical-align: top;\n",
       "    }\n",
       "\n",
       "    .dataframe thead th {\n",
       "        text-align: right;\n",
       "    }\n",
       "</style>\n",
       "<table border=\"1\" class=\"dataframe\">\n",
       "  <thead>\n",
       "    <tr style=\"text-align: right;\">\n",
       "      <th></th>\n",
       "      <th>sum</th>\n",
       "      <th>count</th>\n",
       "      <th>mean</th>\n",
       "      <th>channel_type_NaN</th>\n",
       "      <th>channel_type_type1</th>\n",
       "      <th>channel_type_type2</th>\n",
       "      <th>channel_type_type3</th>\n",
       "      <th>channel_type_type4</th>\n",
       "      <th>channel_type_type5</th>\n",
       "      <th>sum_0742</th>\n",
       "      <th>...</th>\n",
       "      <th>mean_2017-07period_in</th>\n",
       "      <th>mean_2017-08period_in</th>\n",
       "      <th>mean_2017-09period_in</th>\n",
       "      <th>mean_2017-10period_in</th>\n",
       "      <th>mean_2017-11period_in</th>\n",
       "      <th>mean_2017-12period_in</th>\n",
       "      <th>mean_2018-01period_in</th>\n",
       "      <th>mean_2018-02period_in</th>\n",
       "      <th>mean_2018-03period_in</th>\n",
       "      <th>mean_2018-04period_in</th>\n",
       "    </tr>\n",
       "    <tr>\n",
       "      <th>cl_id</th>\n",
       "      <th></th>\n",
       "      <th></th>\n",
       "      <th></th>\n",
       "      <th></th>\n",
       "      <th></th>\n",
       "      <th></th>\n",
       "      <th></th>\n",
       "      <th></th>\n",
       "      <th></th>\n",
       "      <th></th>\n",
       "      <th></th>\n",
       "      <th></th>\n",
       "      <th></th>\n",
       "      <th></th>\n",
       "      <th></th>\n",
       "      <th></th>\n",
       "      <th></th>\n",
       "      <th></th>\n",
       "      <th></th>\n",
       "      <th></th>\n",
       "      <th></th>\n",
       "    </tr>\n",
       "  </thead>\n",
       "  <tbody>\n",
       "    <tr>\n",
       "      <th>0</th>\n",
       "      <td>6.438300e+04</td>\n",
       "      <td>5</td>\n",
       "      <td>12876.600000</td>\n",
       "      <td>1</td>\n",
       "      <td>0</td>\n",
       "      <td>0</td>\n",
       "      <td>0</td>\n",
       "      <td>0</td>\n",
       "      <td>0</td>\n",
       "      <td>0.0</td>\n",
       "      <td>...</td>\n",
       "      <td>0.000000</td>\n",
       "      <td>0.000000</td>\n",
       "      <td>0.0</td>\n",
       "      <td>28281.0</td>\n",
       "      <td>0.0</td>\n",
       "      <td>0.0</td>\n",
       "      <td>0.0</td>\n",
       "      <td>0.0</td>\n",
       "      <td>0.0</td>\n",
       "      <td>0.0</td>\n",
       "    </tr>\n",
       "    <tr>\n",
       "      <th>1</th>\n",
       "      <td>3.271860e+05</td>\n",
       "      <td>104</td>\n",
       "      <td>3146.019000</td>\n",
       "      <td>1</td>\n",
       "      <td>0</td>\n",
       "      <td>0</td>\n",
       "      <td>0</td>\n",
       "      <td>0</td>\n",
       "      <td>0</td>\n",
       "      <td>0.0</td>\n",
       "      <td>...</td>\n",
       "      <td>50000.000000</td>\n",
       "      <td>0.000000</td>\n",
       "      <td>47500.0</td>\n",
       "      <td>0.0</td>\n",
       "      <td>0.0</td>\n",
       "      <td>0.0</td>\n",
       "      <td>0.0</td>\n",
       "      <td>0.0</td>\n",
       "      <td>0.0</td>\n",
       "      <td>0.0</td>\n",
       "    </tr>\n",
       "    <tr>\n",
       "      <th>5</th>\n",
       "      <td>5.482042e+05</td>\n",
       "      <td>142</td>\n",
       "      <td>3860.592809</td>\n",
       "      <td>1</td>\n",
       "      <td>0</td>\n",
       "      <td>0</td>\n",
       "      <td>0</td>\n",
       "      <td>0</td>\n",
       "      <td>0</td>\n",
       "      <td>0.0</td>\n",
       "      <td>...</td>\n",
       "      <td>0.000000</td>\n",
       "      <td>0.000000</td>\n",
       "      <td>0.0</td>\n",
       "      <td>0.0</td>\n",
       "      <td>0.0</td>\n",
       "      <td>0.0</td>\n",
       "      <td>0.0</td>\n",
       "      <td>0.0</td>\n",
       "      <td>0.0</td>\n",
       "      <td>0.0</td>\n",
       "    </tr>\n",
       "    <tr>\n",
       "      <th>9</th>\n",
       "      <td>8.493151e+05</td>\n",
       "      <td>39</td>\n",
       "      <td>21777.310000</td>\n",
       "      <td>1</td>\n",
       "      <td>0</td>\n",
       "      <td>0</td>\n",
       "      <td>0</td>\n",
       "      <td>0</td>\n",
       "      <td>0</td>\n",
       "      <td>0.0</td>\n",
       "      <td>...</td>\n",
       "      <td>75000.000000</td>\n",
       "      <td>0.000000</td>\n",
       "      <td>0.0</td>\n",
       "      <td>0.0</td>\n",
       "      <td>0.0</td>\n",
       "      <td>0.0</td>\n",
       "      <td>0.0</td>\n",
       "      <td>0.0</td>\n",
       "      <td>0.0</td>\n",
       "      <td>0.0</td>\n",
       "    </tr>\n",
       "    <tr>\n",
       "      <th>10</th>\n",
       "      <td>1.124344e+06</td>\n",
       "      <td>463</td>\n",
       "      <td>2428.388747</td>\n",
       "      <td>1</td>\n",
       "      <td>0</td>\n",
       "      <td>0</td>\n",
       "      <td>0</td>\n",
       "      <td>0</td>\n",
       "      <td>0</td>\n",
       "      <td>0.0</td>\n",
       "      <td>...</td>\n",
       "      <td>1766.071429</td>\n",
       "      <td>17286.414167</td>\n",
       "      <td>3879.0</td>\n",
       "      <td>0.0</td>\n",
       "      <td>0.0</td>\n",
       "      <td>0.0</td>\n",
       "      <td>0.0</td>\n",
       "      <td>0.0</td>\n",
       "      <td>0.0</td>\n",
       "      <td>0.0</td>\n",
       "    </tr>\n",
       "  </tbody>\n",
       "</table>\n",
       "<p>5 rows × 751 columns</p>\n",
       "</div>"
      ],
      "text/plain": [
       "                sum  count          mean  channel_type_NaN  \\\n",
       "cl_id                                                        \n",
       "0      6.438300e+04      5  12876.600000                 1   \n",
       "1      3.271860e+05    104   3146.019000                 1   \n",
       "5      5.482042e+05    142   3860.592809                 1   \n",
       "9      8.493151e+05     39  21777.310000                 1   \n",
       "10     1.124344e+06    463   2428.388747                 1   \n",
       "\n",
       "       channel_type_type1  channel_type_type2  channel_type_type3  \\\n",
       "cl_id                                                               \n",
       "0                       0                   0                   0   \n",
       "1                       0                   0                   0   \n",
       "5                       0                   0                   0   \n",
       "9                       0                   0                   0   \n",
       "10                      0                   0                   0   \n",
       "\n",
       "       channel_type_type4  channel_type_type5  sum_0742  \\\n",
       "cl_id                                                     \n",
       "0                       0                   0       0.0   \n",
       "1                       0                   0       0.0   \n",
       "5                       0                   0       0.0   \n",
       "9                       0                   0       0.0   \n",
       "10                      0                   0       0.0   \n",
       "\n",
       "               ...            mean_2017-07period_in  mean_2017-08period_in  \\\n",
       "cl_id          ...                                                           \n",
       "0              ...                         0.000000               0.000000   \n",
       "1              ...                     50000.000000               0.000000   \n",
       "5              ...                         0.000000               0.000000   \n",
       "9              ...                     75000.000000               0.000000   \n",
       "10             ...                      1766.071429           17286.414167   \n",
       "\n",
       "       mean_2017-09period_in  mean_2017-10period_in  mean_2017-11period_in  \\\n",
       "cl_id                                                                        \n",
       "0                        0.0                28281.0                    0.0   \n",
       "1                    47500.0                    0.0                    0.0   \n",
       "5                        0.0                    0.0                    0.0   \n",
       "9                        0.0                    0.0                    0.0   \n",
       "10                    3879.0                    0.0                    0.0   \n",
       "\n",
       "       mean_2017-12period_in  mean_2018-01period_in  mean_2018-02period_in  \\\n",
       "cl_id                                                                        \n",
       "0                        0.0                    0.0                    0.0   \n",
       "1                        0.0                    0.0                    0.0   \n",
       "5                        0.0                    0.0                    0.0   \n",
       "9                        0.0                    0.0                    0.0   \n",
       "10                       0.0                    0.0                    0.0   \n",
       "\n",
       "       mean_2018-03period_in  mean_2018-04period_in  \n",
       "cl_id                                                \n",
       "0                        0.0                    0.0  \n",
       "1                        0.0                    0.0  \n",
       "5                        0.0                    0.0  \n",
       "9                        0.0                    0.0  \n",
       "10                       0.0                    0.0  \n",
       "\n",
       "[5 rows x 751 columns]"
      ]
     },
     "execution_count": 317,
     "metadata": {},
     "output_type": "execute_result"
    }
   ],
   "source": [
    "X_train.head()"
   ]
  },
  {
   "cell_type": "code",
   "execution_count": 323,
   "metadata": {
    "ExecuteTime": {
     "end_time": "2018-05-27T19:41:45.486045Z",
     "start_time": "2018-05-27T19:41:45.479870Z"
    }
   },
   "outputs": [],
   "source": []
  },
  {
   "cell_type": "code",
   "execution_count": 324,
   "metadata": {
    "ExecuteTime": {
     "end_time": "2018-05-27T19:41:52.552266Z",
     "start_time": "2018-05-27T19:41:52.548270Z"
    }
   },
   "outputs": [
    {
     "data": {
      "text/plain": [
       "(5000,)"
      ]
     },
     "execution_count": 324,
     "metadata": {},
     "output_type": "execute_result"
    }
   ],
   "source": [
    "y.shape"
   ]
  },
  {
   "cell_type": "code",
   "execution_count": 325,
   "metadata": {
    "ExecuteTime": {
     "end_time": "2018-05-27T19:42:03.238197Z",
     "start_time": "2018-05-27T19:42:02.698876Z"
    }
   },
   "outputs": [
    {
     "data": {
      "text/plain": [
       "(5000, 217)"
      ]
     },
     "execution_count": 325,
     "metadata": {},
     "output_type": "execute_result"
    }
   ],
   "source": [
    "select_rf_pipe = Pipeline([\n",
    "    ('scaler', StandardScaler()),\n",
    "    ('select', SelectFromModel(estimator=RandomForestClassifier()))\n",
    "])\n",
    "\n",
    "X_from_rf = select_rf_pipe.fit(X_train, y).transform(X_train)\n",
    "X_from_rf.shape"
   ]
  },
  {
   "cell_type": "markdown",
   "metadata": {},
   "source": [
    "Важность признаков (top 40 из 217), отобранных с помощью модели RandomForestClassifier"
   ]
  },
  {
   "cell_type": "code",
   "execution_count": 332,
   "metadata": {
    "ExecuteTime": {
     "end_time": "2018-05-27T19:46:59.133526Z",
     "start_time": "2018-05-27T19:46:58.643661Z"
    }
   },
   "outputs": [
    {
     "data": {
      "text/plain": [
       "<matplotlib.axes._subplots.AxesSubplot at 0x7fed61550fd0>"
      ]
     },
     "execution_count": 332,
     "metadata": {},
     "output_type": "execute_result"
    },
    {
     "data": {
      "image/png": "[encoded data removed]",
      "text/plain": [
       "<Figure size 576x576 with 1 Axes>"
      ]
     },
     "metadata": {},
     "output_type": "display_data"
    }
   ],
   "source": [
    "imp = pd.Series(select_rf_pipe.named_steps['select'].estimator_.feature_importances_, index=X_train.columns)\n",
    "imp.sort_values(ascending=False).head(40)[::-1].plot(kind='barh', title='Важность признаков RandomForest',  figsize=(8,8))"
   ]
  },
  {
   "cell_type": "code",
   "execution_count": 336,
   "metadata": {
    "ExecuteTime": {
     "end_time": "2018-05-27T19:51:27.426461Z",
     "start_time": "2018-05-27T19:51:21.043238Z"
    }
   },
   "outputs": [
    {
     "data": {
      "text/plain": [
       "Pipeline(memory=None,\n",
       "     steps=[('scaler', StandardScaler(copy=True, with_mean=True, with_std=True)), ('select', SelectFromModel(estimator=LogisticRegression(C=1.0, class_weight=None, dual=False, fit_intercept=True,\n",
       "          intercept_scaling=1, max_iter=100, multi_class='ovr', n_jobs=1,\n",
       "          penalty='l1', random_state=None, solver='liblinear', tol=0.0001,\n",
       "          verbose=0, warm_start=False),\n",
       "        norm_order=1, prefit=False, threshold=None))])"
      ]
     },
     "execution_count": 336,
     "metadata": {},
     "output_type": "execute_result"
    }
   ],
   "source": [
    "lasso_pipe = Pipeline([\n",
    "    ('scaler', StandardScaler()),\n",
    "    ('select', SelectFromModel(LogisticRegression(penalty='l1')))\n",
    "])\n",
    "\n",
    "\n",
    "lasso_pipe.fit(X_train, y)"
   ]
  },
  {
   "cell_type": "code",
   "execution_count": 343,
   "metadata": {
    "ExecuteTime": {
     "end_time": "2018-05-27T19:53:04.932293Z",
     "start_time": "2018-05-27T19:53:04.376673Z"
    }
   },
   "outputs": [
    {
     "data": {
      "text/plain": [
       "<matplotlib.axes._subplots.AxesSubplot at 0x7fed613c1d68>"
      ]
     },
     "execution_count": 343,
     "metadata": {},
     "output_type": "execute_result"
    },
    {
     "data": {
      "image/png": "[encoded data removed]",
      "text/plain": [
       "<Figure size 576x576 with 1 Axes>"
      ]
     },
     "metadata": {},
     "output_type": "display_data"
    }
   ],
   "source": [
    "imp_lasso = pd.Series(lasso_pipe.named_steps['select'].estimator_.coef_[0], index=X_train.columns)\n",
    "imp_lasso = imp_lasso.reindex(imp_lasso.abs().sort_values(ascending=False).index)\n",
    "imp_lasso.head(40)[::-1].plot(kind='barh', title='Важность признаков Lasso',  figsize=(8,8))"
   ]
  },
  {
   "cell_type": "markdown",
   "metadata": {},
   "source": [
    "## Модели"
   ]
  },
  {
   "cell_type": "code",
   "execution_count": 348,
   "metadata": {
    "ExecuteTime": {
     "end_time": "2018-05-27T20:10:17.394316Z",
     "start_time": "2018-05-27T20:10:17.386999Z"
    }
   },
   "outputs": [],
   "source": [
    "clf_line1 = Pipeline([\n",
    "    ('scaler', StandardScaler()),\n",
    "    ('clf', LogisticRegression())\n",
    "])\n",
    "\n",
    "\n",
    "clf_line2 = Pipeline([\n",
    "    ('scaler', StandardScaler()),\n",
    "    ('select', PCA(0.99)),\n",
    "    ('clf', LogisticRegression())\n",
    "])\n",
    "\n",
    "clf_line3 = Pipeline([\n",
    "    ('scaler', StandardScaler()),\n",
    "    ('select1', PCA(0.99)),\n",
    "    ('select2', SelectFromModel(estimator=RandomForestClassifier())),\n",
    "    ('clf', LogisticRegression())\n",
    "])\n",
    "\n",
    "\n",
    "\n",
    "\n",
    "#cross_val_score(clf_line1, X_train_l, y_train_l, cv=5, scoring='roc_auc')\n"
   ]
  },
  {
   "cell_type": "code",
   "execution_count": 350,
   "metadata": {
    "ExecuteTime": {
     "end_time": "2018-05-27T20:11:01.991342Z",
     "start_time": "2018-05-27T20:10:43.582878Z"
    }
   },
   "outputs": [
    {
     "name": "stdout",
     "output_type": "stream",
     "text": [
      "Линейная модель:\n",
      "roc_auc на cv: 0.7140102940745436\n"
     ]
    }
   ],
   "source": [
    "print('Линейная модель:')\n",
    "print('roc_auc на cv: {}'.format(cross_val_score(clf_line1, X_train, y, cv=5, scoring='roc_auc').mean()))"
   ]
  },
  {
   "cell_type": "code",
   "execution_count": 351,
   "metadata": {
    "ExecuteTime": {
     "end_time": "2018-05-27T20:11:27.167241Z",
     "start_time": "2018-05-27T20:11:08.298747Z"
    }
   },
   "outputs": [
    {
     "name": "stdout",
     "output_type": "stream",
     "text": [
      "Линейная модель c PCA:\n",
      "roc_auc на cv: 0.7156536443452733\n"
     ]
    }
   ],
   "source": [
    "print('Линейная модель c PCA:')\n",
    "print('roc_auc на cv: {}'.format(cross_val_score(clf_line2, X_train, y, cv=5, scoring='roc_auc').mean()))"
   ]
  },
  {
   "cell_type": "code",
   "execution_count": 352,
   "metadata": {
    "ExecuteTime": {
     "end_time": "2018-05-27T20:11:44.105687Z",
     "start_time": "2018-05-27T20:11:33.614447Z"
    }
   },
   "outputs": [
    {
     "name": "stdout",
     "output_type": "stream",
     "text": [
      "Линейная модель c PCA и отбором признаков:\n",
      "roc_auc на cv: 0.7314246750278033\n"
     ]
    }
   ],
   "source": [
    "print('Линейная модель c PCA и отбором признаков:')\n",
    "print('roc_auc на cv: {}'.format(cross_val_score(clf_line3, X_train, y, cv=5, scoring='roc_auc').mean()))"
   ]
  },
  {
   "cell_type": "code",
   "execution_count": 353,
   "metadata": {
    "ExecuteTime": {
     "end_time": "2018-05-27T20:13:02.552404Z",
     "start_time": "2018-05-27T20:13:02.540255Z"
    }
   },
   "outputs": [],
   "source": [
    "clf_svc1 = Pipeline([\n",
    "    ('scaler', StandardScaler()),\n",
    "    ('select1', PCA(0.99)),\n",
    "    ('select2', SelectFromModel(estimator=RandomForestClassifier())),\n",
    "    ('clf', LinearSVC())\n",
    "])\n",
    "\n",
    "clf_svc2 = Pipeline([\n",
    "    ('scaler', StandardScaler()),\n",
    "    ('select1', PCA(0.99)),\n",
    "    ('select2', SelectFromModel(estimator=RandomForestClassifier())),\n",
    "    ('clf', SVC(kernel='rbf'))\n",
    "])"
   ]
  },
  {
   "cell_type": "code",
   "execution_count": 354,
   "metadata": {
    "ExecuteTime": {
     "end_time": "2018-05-27T20:14:23.333662Z",
     "start_time": "2018-05-27T20:13:59.205350Z"
    }
   },
   "outputs": [
    {
     "name": "stdout",
     "output_type": "stream",
     "text": [
      "Линейный SVC:\n",
      "roc_auc на cv: 0.7246439588537296\n"
     ]
    }
   ],
   "source": [
    "print('Линейный SVC:')\n",
    "print('roc_auc на cv: {}'.format(cross_val_score(clf_svc1, X_train, y, cv=5, scoring='roc_auc').mean()))"
   ]
  },
  {
   "cell_type": "code",
   "execution_count": 355,
   "metadata": {
    "ExecuteTime": {
     "end_time": "2018-05-27T20:14:54.507334Z",
     "start_time": "2018-05-27T20:14:29.805149Z"
    }
   },
   "outputs": [
    {
     "name": "stdout",
     "output_type": "stream",
     "text": [
      "Нелинейный SVC:\n",
      "roc_auc на cv: 0.7351460601219957\n"
     ]
    }
   ],
   "source": [
    "print('Нелинейный SVC:')\n",
    "print('roc_auc на cv: {}'.format(cross_val_score(clf_svc1, X_train, y, cv=5, scoring='roc_auc').mean()))"
   ]
  },
  {
   "cell_type": "markdown",
   "metadata": {},
   "source": [
    "## Предсказание"
   ]
  },
  {
   "cell_type": "markdown",
   "metadata": {},
   "source": [
    "Лучшей моделью с параметрами по умолчанию оказался нелинейный SVM с ядром RBF. Точность можно было бы улучшить настройкой параметров на GridSearch. Времени на это не осталось. Делаем предсказание, как есть."
   ]
  },
  {
   "cell_type": "code",
   "execution_count": 356,
   "metadata": {
    "ExecuteTime": {
     "end_time": "2018-05-27T20:17:23.696856Z",
     "start_time": "2018-05-27T20:17:14.237430Z"
    }
   },
   "outputs": [
    {
     "data": {
      "text/plain": [
       "Pipeline(memory=None,\n",
       "     steps=[('scaler', StandardScaler(copy=True, with_mean=True, with_std=True)), ('select1', PCA(copy=True, iterated_power='auto', n_components=0.99, random_state=None,\n",
       "  svd_solver='auto', tol=0.0, whiten=False)), ('select2', SelectFromModel(estimator=RandomForestClassifier(bootstrap=True, class_weight...,\n",
       "  max_iter=-1, probability=False, random_state=None, shrinking=True,\n",
       "  tol=0.001, verbose=False))])"
      ]
     },
     "execution_count": 356,
     "metadata": {},
     "output_type": "execute_result"
    }
   ],
   "source": [
    "clf_svc2.fit(X_train, y)"
   ]
  },
  {
   "cell_type": "code",
   "execution_count": 357,
   "metadata": {
    "ExecuteTime": {
     "end_time": "2018-05-27T20:18:25.456240Z",
     "start_time": "2018-05-27T20:18:19.133281Z"
    }
   },
   "outputs": [],
   "source": [
    "y_pred = clf_svc2.predict(X_pred)"
   ]
  },
  {
   "cell_type": "code",
   "execution_count": 360,
   "metadata": {
    "ExecuteTime": {
     "end_time": "2018-05-27T20:19:46.385146Z",
     "start_time": "2018-05-27T20:19:46.381179Z"
    }
   },
   "outputs": [],
   "source": [
    "y_pred = pd.Series(y_pred, index=X_pred.index)"
   ]
  },
  {
   "cell_type": "code",
   "execution_count": 363,
   "metadata": {
    "ExecuteTime": {
     "end_time": "2018-05-27T20:20:47.477360Z",
     "start_time": "2018-05-27T20:20:47.466967Z"
    }
   },
   "outputs": [
    {
     "data": {
      "text/plain": [
       "1    2761\n",
       "0    2456\n",
       "dtype: int64"
      ]
     },
     "execution_count": 363,
     "metadata": {},
     "output_type": "execute_result"
    }
   ],
   "source": [
    "y_pred.value_counts()"
   ]
  },
  {
   "cell_type": "code",
   "execution_count": 367,
   "metadata": {
    "ExecuteTime": {
     "end_time": "2018-05-27T20:26:58.398910Z",
     "start_time": "2018-05-27T20:26:58.375505Z"
    }
   },
   "outputs": [],
   "source": [
    "y_pred.to_csv('predictions.csv', sep=',', header=True, index_label=['_ID_', '_VAL_'])"
   ]
  },
  {
   "cell_type": "code",
   "execution_count": null,
   "metadata": {},
   "outputs": [],
   "source": []
  }
 ],
 "metadata": {
  "hide_input": false,
  "kernelspec": {
   "display_name": "Python 3",
   "language": "python",
   "name": "python3"
  },
  "language_info": {
   "codemirror_mode": {
    "name": "ipython",
    "version": 3
   },
   "file_extension": ".py",
   "mimetype": "text/x-python",
   "name": "python",
   "nbconvert_exporter": "python",
   "pygments_lexer": "ipython3",
   "version": "3.6.5"
  },
  "toc": {
   "base_numbering": 1,
   "nav_menu": {},
   "number_sections": true,
   "sideBar": true,
   "skip_h1_title": false,
   "title_cell": "Table of Contents",
   "title_sidebar": "Contents",
   "toc_cell": false,
   "toc_position": {
    "height": "calc(100% - 180px)",
    "left": "10px",
    "top": "150px",
    "width": "320px"
   },
   "toc_section_display": true,
   "toc_window_display": true
  },
  "varInspector": {
   "cols": {
    "lenName": 16,
    "lenType": 16,
    "lenVar": 40
   },
   "kernels_config": {
    "python": {
     "delete_cmd_postfix": "",
     "delete_cmd_prefix": "del ",
     "library": "var_list.py",
     "varRefreshCmd": "print(var_dic_list())"
    },
    "r": {
     "delete_cmd_postfix": ") ",
     "delete_cmd_prefix": "rm(",
     "library": "var_list.r",
     "varRefreshCmd": "cat(var_dic_list()) "
    }
   },
   "types_to_exclude": [
    "module",
    "function",
    "builtin_function_or_method",
    "instance",
    "_Feature"
   ],
   "window_display": false
  }
 },
 "nbformat": 4,
 "nbformat_minor": 2
}
