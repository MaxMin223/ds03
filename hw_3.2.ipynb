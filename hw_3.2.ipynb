{
 "cells": [
  {
   "cell_type": "markdown",
   "metadata": {},
   "source": [
    "# Задание к занятию «Методы декомпозиции»\n",
    "\n",
    "Преподаватель: Егор Сачко\n",
    "Описание задания:\n",
    "\n",
    "Что сделать\n",
    "\n",
    "Обязательные\n",
    "\n",
    "1. Провести первичный анализ данных\n",
    "\n",
    "Посмотреть распределения признаков, выделить самые популярные MCC, помотреть активность клиентов по дням недели/времени, какие категории транзакции (trx_category) наиболее популярны и т.д. Получить инсайты, которые в дальнейшем помогут вам правильно подготовить фичи.\n",
    "\n",
    "2. На большом количестве фичей применить Lasso регрессию и посмотреть, какие переменные получают 0 в качестве коэффициентов.\n",
    "\n",
    "3. На фичах из MCC кодов применить PCA и посмотреть, какие фичи получаются и что они могут объяснять (для этого посмотреть на коэффициенты в sklearn.decomposition.pca.components_ после построения главных компонент).\n",
    "\n",
    "4. С отобранными фичами и полученными компонентами обучить модель (тип алгоритма на свой вкус, можно начать с линейной) и померить качество на локальном тестовом наборе данных (локальная валидация), который создается в этом ноутбуке. Сравнить качество модели до добавления компонент/после добавления/только на главных компонентах. \n",
    "\n",
    "Метрика оценки качества — ROC AUC.\n",
    "\n",
    " \n",
    "\n",
    "Дополнительные\n",
    "\n",
    "Поучаствовать в соревновании - загрузить предсказания на https://boosters.pro/champ_15. Для этого используйте все данные из файла rosbank_train.csv, на них делать feature engineering и обучениеб затем делать предсказания для клиентов из файла rosbank_test.csv, предварительно создав фичи по аналогии с train.\n",
    "\n",
    " \n",
    "\n",
    "Формат сдачи\n",
    "\n",
    "Ноутбук с кодом/картинками выполненной обязательной части + указание места в leaderboard при решении дополнительной.\n",
    "\n",
    " \n",
    "\n",
    "Дополнительная информация по заданию\n",
    "\n",
    "Ноубук на Гитхабе."
   ]
  },
  {
   "cell_type": "markdown",
   "metadata": {},
   "source": [
    "## Обработка данных"
   ]
  },
  {
   "cell_type": "markdown",
   "metadata": {},
   "source": [
    "При подготовке признаков будем использовать дополнительные данные:\n",
    "- справочник MMC кодов https://mcc-codes.ru/ , который позволит получить категории\n",
    "- курсы валют http://export.rbc.ru/expdocs/free.cb.0.shtml, что позволит перевести валютные операции в рубли, для дальнейшего агрегирования\n",
    "- ISO справочник валют нужен для объединения исходных данных и курсов валют (https://www.currency-iso.org/en/home/tables/table-a1.html)"
   ]
  },
  {
   "cell_type": "code",
   "execution_count": 1,
   "metadata": {
    "ExecuteTime": {
     "end_time": "2018-07-08T21:00:31.245254Z",
     "start_time": "2018-07-08T21:00:30.286366Z"
    }
   },
   "outputs": [],
   "source": [
    "import pandas as pd\n",
    "import numpy as np\n",
    "import matplotlib.pyplot as plt\n",
    "import seaborn as sns; sns.set()\n",
    "%matplotlib inline"
   ]
  },
  {
   "cell_type": "code",
   "execution_count": 2,
   "metadata": {
    "ExecuteTime": {
     "end_time": "2018-07-08T21:00:32.744744Z",
     "start_time": "2018-07-08T21:00:31.247532Z"
    }
   },
   "outputs": [],
   "source": [
    "df_train = pd.read_csv('train.csv', dtype={'currency': object, 'MCC': object})\n",
    "df_test = pd.read_csv('test.csv', dtype={'currency': object, 'MCC': object})\n",
    "mcc_codes = pd.read_csv('mcc-codes.csv', dtype={'MCC': object })\n",
    "iso_codes = pd.read_csv('iso_codes.csv', dtype={'Numeric Code': object })\n",
    "curr_rates = pd.read_csv('curr_rates.csv', dtype={'Numeric Code': object })"
   ]
  },
  {
   "cell_type": "code",
   "execution_count": 3,
   "metadata": {
    "ExecuteTime": {
     "end_time": "2018-07-08T21:00:32.826313Z",
     "start_time": "2018-07-08T21:00:32.746872Z"
    }
   },
   "outputs": [
    {
     "data": {
      "text/html": [
       "<div>\n",
       "<style scoped>\n",
       "    .dataframe tbody tr th:only-of-type {\n",
       "        vertical-align: middle;\n",
       "    }\n",
       "\n",
       "    .dataframe tbody tr th {\n",
       "        vertical-align: top;\n",
       "    }\n",
       "\n",
       "    .dataframe thead th {\n",
       "        text-align: right;\n",
       "    }\n",
       "</style>\n",
       "<table border=\"1\" class=\"dataframe\">\n",
       "  <thead>\n",
       "    <tr style=\"text-align: right;\">\n",
       "      <th></th>\n",
       "      <th>target_flag</th>\n",
       "    </tr>\n",
       "    <tr>\n",
       "      <th>cl_id</th>\n",
       "      <th></th>\n",
       "    </tr>\n",
       "  </thead>\n",
       "  <tbody>\n",
       "    <tr>\n",
       "      <th>0</th>\n",
       "      <td>0</td>\n",
       "    </tr>\n",
       "    <tr>\n",
       "      <th>1</th>\n",
       "      <td>0</td>\n",
       "    </tr>\n",
       "    <tr>\n",
       "      <th>5</th>\n",
       "      <td>1</td>\n",
       "    </tr>\n",
       "    <tr>\n",
       "      <th>9</th>\n",
       "      <td>0</td>\n",
       "    </tr>\n",
       "    <tr>\n",
       "      <th>10</th>\n",
       "      <td>0</td>\n",
       "    </tr>\n",
       "  </tbody>\n",
       "</table>\n",
       "</div>"
      ],
      "text/plain": [
       "       target_flag\n",
       "cl_id             \n",
       "0                0\n",
       "1                0\n",
       "5                1\n",
       "9                0\n",
       "10               0"
      ]
     },
     "execution_count": 3,
     "metadata": {},
     "output_type": "execute_result"
    }
   ],
   "source": [
    "y = df_train[['cl_id','target_flag']]\n",
    "df_train.drop(['target_flag', 'target_sum'], axis=1, inplace=True)\n",
    "y = y.drop_duplicates()\n",
    "y = y.set_index('cl_id')\n",
    "y.head()"
   ]
  },
  {
   "cell_type": "code",
   "execution_count": 4,
   "metadata": {
    "ExecuteTime": {
     "end_time": "2018-07-08T21:00:32.837748Z",
     "start_time": "2018-07-08T21:00:32.829196Z"
    }
   },
   "outputs": [
    {
     "data": {
      "text/plain": [
       "1    2767\n",
       "0    2233\n",
       "Name: target_flag, dtype: int64"
      ]
     },
     "execution_count": 4,
     "metadata": {},
     "output_type": "execute_result"
    }
   ],
   "source": [
    "y['target_flag'].value_counts()"
   ]
  },
  {
   "cell_type": "markdown",
   "metadata": {},
   "source": [
    "Категории более менее сбалансированы, но на кросс валидации будем делать стратифицированное разбиение обучающего набора"
   ]
  },
  {
   "cell_type": "code",
   "execution_count": 5,
   "metadata": {
    "ExecuteTime": {
     "end_time": "2018-07-08T21:00:32.851271Z",
     "start_time": "2018-07-08T21:00:32.840674Z"
    }
   },
   "outputs": [
    {
     "data": {
      "text/plain": [
       "((490513, 9), (518376, 9), (5000, 1))"
      ]
     },
     "execution_count": 5,
     "metadata": {},
     "output_type": "execute_result"
    }
   ],
   "source": [
    "df_train['is_test'] = 0\n",
    "df_test['is_test'] = 1\n",
    "df_train.shape, df_test.shape, y.shape"
   ]
  },
  {
   "cell_type": "markdown",
   "metadata": {},
   "source": [
    "Готовить новые признаки и агреггировать будем сразу для обоих наборов данных"
   ]
  },
  {
   "cell_type": "code",
   "execution_count": 6,
   "metadata": {
    "ExecuteTime": {
     "end_time": "2018-07-08T21:00:33.207167Z",
     "start_time": "2018-07-08T21:00:32.854405Z"
    }
   },
   "outputs": [
    {
     "data": {
      "text/plain": [
       "(1008889, 9)"
      ]
     },
     "execution_count": 6,
     "metadata": {},
     "output_type": "execute_result"
    }
   ],
   "source": [
    "df = pd.concat([df_train, df_test])\n",
    "df.shape"
   ]
  },
  {
   "cell_type": "code",
   "execution_count": 7,
   "metadata": {
    "ExecuteTime": {
     "end_time": "2018-07-08T21:00:34.031347Z",
     "start_time": "2018-07-08T21:00:33.210128Z"
    }
   },
   "outputs": [
    {
     "name": "stdout",
     "output_type": "stream",
     "text": [
      "<class 'pandas.core.frame.DataFrame'>\n",
      "Int64Index: 1008889 entries, 0 to 518375\n",
      "Data columns (total 9 columns):\n",
      "PERIOD          1008889 non-null object\n",
      "cl_id           1008889 non-null int64\n",
      "MCC             1008889 non-null object\n",
      "channel_type    1003825 non-null object\n",
      "currency        1008889 non-null object\n",
      "TRDATETIME      1008889 non-null object\n",
      "amount          1008889 non-null float64\n",
      "trx_category    1008889 non-null object\n",
      "is_test         1008889 non-null int64\n",
      "dtypes: float64(1), int64(2), object(6)\n",
      "memory usage: 77.0+ MB\n"
     ]
    }
   ],
   "source": [
    "df.info()"
   ]
  },
  {
   "cell_type": "markdown",
   "metadata": {},
   "source": [
    "В channel_type есть пустые значения. Возможно, один из видов каналов привлечения клиентов просто не заполнен. Заполним пустые значения channel_type константой, которую модель будет трактовать как отдельный канал привлечения"
   ]
  },
  {
   "cell_type": "code",
   "execution_count": 8,
   "metadata": {
    "ExecuteTime": {
     "end_time": "2018-07-08T21:00:34.193492Z",
     "start_time": "2018-07-08T21:00:34.033847Z"
    }
   },
   "outputs": [
    {
     "data": {
      "text/plain": [
       "type1    619756\n",
       "type2    357071\n",
       "type5      9668\n",
       "type4      9485\n",
       "type3      7845\n",
       "Name: channel_type, dtype: int64"
      ]
     },
     "execution_count": 8,
     "metadata": {},
     "output_type": "execute_result"
    }
   ],
   "source": [
    "df['channel_type'].value_counts()"
   ]
  },
  {
   "cell_type": "code",
   "execution_count": 9,
   "metadata": {
    "ExecuteTime": {
     "end_time": "2018-07-08T21:00:34.288912Z",
     "start_time": "2018-07-08T21:00:34.196581Z"
    }
   },
   "outputs": [],
   "source": [
    "df['channel_type'].fillna('NaN', inplace=True)"
   ]
  },
  {
   "cell_type": "code",
   "execution_count": 10,
   "metadata": {
    "ExecuteTime": {
     "end_time": "2018-07-08T21:00:34.765245Z",
     "start_time": "2018-07-08T21:00:34.291870Z"
    }
   },
   "outputs": [
    {
     "name": "stdout",
     "output_type": "stream",
     "text": [
      "<class 'pandas.core.frame.DataFrame'>\n",
      "Int64Index: 1008889 entries, 0 to 518375\n",
      "Data columns (total 9 columns):\n",
      "PERIOD          1008889 non-null object\n",
      "cl_id           1008889 non-null int64\n",
      "MCC             1008889 non-null object\n",
      "channel_type    1008889 non-null object\n",
      "currency        1008889 non-null object\n",
      "TRDATETIME      1008889 non-null object\n",
      "amount          1008889 non-null float64\n",
      "trx_category    1008889 non-null object\n",
      "is_test         1008889 non-null int64\n",
      "dtypes: float64(1), int64(2), object(6)\n",
      "memory usage: 77.0+ MB\n"
     ]
    }
   ],
   "source": [
    "df.info()"
   ]
  },
  {
   "cell_type": "code",
   "execution_count": 11,
   "metadata": {
    "ExecuteTime": {
     "end_time": "2018-07-08T21:00:34.789781Z",
     "start_time": "2018-07-08T21:00:34.767564Z"
    }
   },
   "outputs": [
    {
     "data": {
      "text/html": [
       "<div>\n",
       "<style scoped>\n",
       "    .dataframe tbody tr th:only-of-type {\n",
       "        vertical-align: middle;\n",
       "    }\n",
       "\n",
       "    .dataframe tbody tr th {\n",
       "        vertical-align: top;\n",
       "    }\n",
       "\n",
       "    .dataframe thead th {\n",
       "        text-align: right;\n",
       "    }\n",
       "</style>\n",
       "<table border=\"1\" class=\"dataframe\">\n",
       "  <thead>\n",
       "    <tr style=\"text-align: right;\">\n",
       "      <th></th>\n",
       "      <th>PERIOD</th>\n",
       "      <th>cl_id</th>\n",
       "      <th>MCC</th>\n",
       "      <th>channel_type</th>\n",
       "      <th>currency</th>\n",
       "      <th>TRDATETIME</th>\n",
       "      <th>amount</th>\n",
       "      <th>trx_category</th>\n",
       "      <th>is_test</th>\n",
       "    </tr>\n",
       "  </thead>\n",
       "  <tbody>\n",
       "    <tr>\n",
       "      <th>0</th>\n",
       "      <td>01/10/2017</td>\n",
       "      <td>0</td>\n",
       "      <td>5200</td>\n",
       "      <td>NaN</td>\n",
       "      <td>810</td>\n",
       "      <td>21OCT17:00:00:00</td>\n",
       "      <td>5023.0</td>\n",
       "      <td>POS</td>\n",
       "      <td>0</td>\n",
       "    </tr>\n",
       "    <tr>\n",
       "      <th>1</th>\n",
       "      <td>01/10/2017</td>\n",
       "      <td>0</td>\n",
       "      <td>6011</td>\n",
       "      <td>NaN</td>\n",
       "      <td>810</td>\n",
       "      <td>12OCT17:12:24:07</td>\n",
       "      <td>20000.0</td>\n",
       "      <td>DEPOSIT</td>\n",
       "      <td>0</td>\n",
       "    </tr>\n",
       "    <tr>\n",
       "      <th>2</th>\n",
       "      <td>01/12/2017</td>\n",
       "      <td>0</td>\n",
       "      <td>5921</td>\n",
       "      <td>NaN</td>\n",
       "      <td>810</td>\n",
       "      <td>05DEC17:00:00:00</td>\n",
       "      <td>767.0</td>\n",
       "      <td>POS</td>\n",
       "      <td>0</td>\n",
       "    </tr>\n",
       "    <tr>\n",
       "      <th>3</th>\n",
       "      <td>01/10/2017</td>\n",
       "      <td>0</td>\n",
       "      <td>5411</td>\n",
       "      <td>NaN</td>\n",
       "      <td>810</td>\n",
       "      <td>21OCT17:00:00:00</td>\n",
       "      <td>2031.0</td>\n",
       "      <td>POS</td>\n",
       "      <td>0</td>\n",
       "    </tr>\n",
       "    <tr>\n",
       "      <th>4</th>\n",
       "      <td>01/10/2017</td>\n",
       "      <td>0</td>\n",
       "      <td>6012</td>\n",
       "      <td>NaN</td>\n",
       "      <td>810</td>\n",
       "      <td>24OCT17:13:14:24</td>\n",
       "      <td>36562.0</td>\n",
       "      <td>C2C_OUT</td>\n",
       "      <td>0</td>\n",
       "    </tr>\n",
       "  </tbody>\n",
       "</table>\n",
       "</div>"
      ],
      "text/plain": [
       "       PERIOD  cl_id   MCC channel_type currency        TRDATETIME   amount  \\\n",
       "0  01/10/2017      0  5200          NaN      810  21OCT17:00:00:00   5023.0   \n",
       "1  01/10/2017      0  6011          NaN      810  12OCT17:12:24:07  20000.0   \n",
       "2  01/12/2017      0  5921          NaN      810  05DEC17:00:00:00    767.0   \n",
       "3  01/10/2017      0  5411          NaN      810  21OCT17:00:00:00   2031.0   \n",
       "4  01/10/2017      0  6012          NaN      810  24OCT17:13:14:24  36562.0   \n",
       "\n",
       "  trx_category  is_test  \n",
       "0          POS        0  \n",
       "1      DEPOSIT        0  \n",
       "2          POS        0  \n",
       "3          POS        0  \n",
       "4      C2C_OUT        0  "
      ]
     },
     "execution_count": 11,
     "metadata": {},
     "output_type": "execute_result"
    }
   ],
   "source": [
    "df.head()"
   ]
  },
  {
   "cell_type": "markdown",
   "metadata": {},
   "source": [
    "### Категории MMC"
   ]
  },
  {
   "cell_type": "markdown",
   "metadata": {},
   "source": [
    "Добавим категории MCC кодов"
   ]
  },
  {
   "cell_type": "code",
   "execution_count": 12,
   "metadata": {
    "ExecuteTime": {
     "end_time": "2018-07-08T21:00:34.803471Z",
     "start_time": "2018-07-08T21:00:34.792453Z"
    }
   },
   "outputs": [
    {
     "data": {
      "text/plain": [
       "Отели и мотели                      304\n",
       "Авиалинии_авиакомпании              289\n",
       "Арендаавтомобилей                    92\n",
       "Различныемагазины                    53\n",
       "Поставщик услуг                      33\n",
       "Оптовыепоставщики ипроизводители     31\n",
       "Бизнес услуги                        25\n",
       "Развлечения                          22\n",
       "Розничныемагазины                    21\n",
       "Профессиональныеуслуги               20\n",
       "Транспорт                            18\n",
       "Личные услуги                        17\n",
       "Ремонтные услуги                     13\n",
       "Автомобили итранспортныесредства     13\n",
       "Магазины одежды                      12\n",
       "Контрактныеуслуги                    11\n",
       "Государственныеуслуги                11\n",
       "Продажи по почте/телефону             9\n",
       "Коммунальные икабельные услуги        8\n",
       "Членскиеорганизации                   6\n",
       "Name: MCC_group, dtype: int64"
      ]
     },
     "execution_count": 12,
     "metadata": {},
     "output_type": "execute_result"
    }
   ],
   "source": [
    "mcc_codes = mcc_codes[['MCC', 'MCC_group']]\n",
    "mcc_codes['MCC_group'].value_counts()"
   ]
  },
  {
   "cell_type": "code",
   "execution_count": 13,
   "metadata": {
    "ExecuteTime": {
     "end_time": "2018-07-08T21:00:35.199522Z",
     "start_time": "2018-07-08T21:00:34.806269Z"
    }
   },
   "outputs": [
    {
     "data": {
      "text/plain": [
       "4    1008682\n",
       "3        207\n",
       "Name: MCC, dtype: int64"
      ]
     },
     "execution_count": 13,
     "metadata": {},
     "output_type": "execute_result"
    }
   ],
   "source": [
    "df['MCC'].str.len().value_counts()"
   ]
  },
  {
   "cell_type": "code",
   "execution_count": 14,
   "metadata": {
    "ExecuteTime": {
     "end_time": "2018-07-08T21:00:35.212090Z",
     "start_time": "2018-07-08T21:00:35.202095Z"
    }
   },
   "outputs": [
    {
     "data": {
      "text/plain": [
       "4    1019\n",
       "Name: MCC, dtype: int64"
      ]
     },
     "execution_count": 14,
     "metadata": {},
     "output_type": "execute_result"
    }
   ],
   "source": [
    "mcc_codes['MCC'].str.len().value_counts()"
   ]
  },
  {
   "cell_type": "markdown",
   "metadata": {},
   "source": [
    "Перед объединением, трехзначные MCC коды дополним нулем до четырех знаков"
   ]
  },
  {
   "cell_type": "code",
   "execution_count": 15,
   "metadata": {
    "ExecuteTime": {
     "end_time": "2018-07-08T21:00:35.674397Z",
     "start_time": "2018-07-08T21:00:35.215857Z"
    }
   },
   "outputs": [],
   "source": [
    "df['MCC'] = df['MCC'].str.pad(4, side='left', fillchar='0')"
   ]
  },
  {
   "cell_type": "code",
   "execution_count": 16,
   "metadata": {
    "ExecuteTime": {
     "end_time": "2018-07-08T21:00:36.008777Z",
     "start_time": "2018-07-08T21:00:35.676286Z"
    }
   },
   "outputs": [
    {
     "data": {
      "text/plain": [
       "4    1008889\n",
       "Name: MCC, dtype: int64"
      ]
     },
     "execution_count": 16,
     "metadata": {},
     "output_type": "execute_result"
    }
   ],
   "source": [
    "df['MCC'].str.len().value_counts()"
   ]
  },
  {
   "cell_type": "code",
   "execution_count": 17,
   "metadata": {
    "ExecuteTime": {
     "end_time": "2018-07-08T21:00:36.471679Z",
     "start_time": "2018-07-08T21:00:36.011294Z"
    }
   },
   "outputs": [],
   "source": [
    "df = pd.merge(df, mcc_codes, how='left', on='MCC')"
   ]
  },
  {
   "cell_type": "code",
   "execution_count": 18,
   "metadata": {
    "ExecuteTime": {
     "end_time": "2018-07-08T21:00:36.974034Z",
     "start_time": "2018-07-08T21:00:36.473753Z"
    }
   },
   "outputs": [
    {
     "data": {
      "text/html": [
       "<div>\n",
       "<style scoped>\n",
       "    .dataframe tbody tr th:only-of-type {\n",
       "        vertical-align: middle;\n",
       "    }\n",
       "\n",
       "    .dataframe tbody tr th {\n",
       "        vertical-align: top;\n",
       "    }\n",
       "\n",
       "    .dataframe thead th {\n",
       "        text-align: right;\n",
       "    }\n",
       "</style>\n",
       "<table border=\"1\" class=\"dataframe\">\n",
       "  <thead>\n",
       "    <tr style=\"text-align: right;\">\n",
       "      <th></th>\n",
       "      <th>PERIOD</th>\n",
       "      <th>cl_id</th>\n",
       "      <th>MCC</th>\n",
       "      <th>channel_type</th>\n",
       "      <th>currency</th>\n",
       "      <th>TRDATETIME</th>\n",
       "      <th>amount</th>\n",
       "      <th>trx_category</th>\n",
       "      <th>is_test</th>\n",
       "      <th>MCC_group</th>\n",
       "    </tr>\n",
       "  </thead>\n",
       "  <tbody>\n",
       "    <tr>\n",
       "      <th>11560</th>\n",
       "      <td>01/02/2018</td>\n",
       "      <td>228</td>\n",
       "      <td>5814</td>\n",
       "      <td>type4</td>\n",
       "      <td>810</td>\n",
       "      <td>11FEB18:00:00:00</td>\n",
       "      <td>276.00</td>\n",
       "      <td>POS</td>\n",
       "      <td>0</td>\n",
       "      <td>Различныемагазины</td>\n",
       "    </tr>\n",
       "    <tr>\n",
       "      <th>163507</th>\n",
       "      <td>01/08/2017</td>\n",
       "      <td>2855</td>\n",
       "      <td>5983</td>\n",
       "      <td>type2</td>\n",
       "      <td>810</td>\n",
       "      <td>05AUG17:00:00:00</td>\n",
       "      <td>2295.75</td>\n",
       "      <td>POS</td>\n",
       "      <td>0</td>\n",
       "      <td>Различныемагазины</td>\n",
       "    </tr>\n",
       "    <tr>\n",
       "      <th>867007</th>\n",
       "      <td>01/07/2017</td>\n",
       "      <td>7039</td>\n",
       "      <td>5814</td>\n",
       "      <td>type1</td>\n",
       "      <td>810</td>\n",
       "      <td>30JUL17:00:00:00</td>\n",
       "      <td>626.00</td>\n",
       "      <td>POS</td>\n",
       "      <td>1</td>\n",
       "      <td>Различныемагазины</td>\n",
       "    </tr>\n",
       "    <tr>\n",
       "      <th>543202</th>\n",
       "      <td>01/02/2017</td>\n",
       "      <td>974</td>\n",
       "      <td>6011</td>\n",
       "      <td>type2</td>\n",
       "      <td>810</td>\n",
       "      <td>27FEB17:00:00:00</td>\n",
       "      <td>35000.00</td>\n",
       "      <td>WD_ATM_OTHER</td>\n",
       "      <td>1</td>\n",
       "      <td>Поставщик услуг</td>\n",
       "    </tr>\n",
       "    <tr>\n",
       "      <th>458625</th>\n",
       "      <td>01/12/2016</td>\n",
       "      <td>9489</td>\n",
       "      <td>4112</td>\n",
       "      <td>type1</td>\n",
       "      <td>810</td>\n",
       "      <td>12DEC16:00:00:00</td>\n",
       "      <td>40.00</td>\n",
       "      <td>POS</td>\n",
       "      <td>0</td>\n",
       "      <td>Транспорт</td>\n",
       "    </tr>\n",
       "    <tr>\n",
       "      <th>921520</th>\n",
       "      <td>01/12/2016</td>\n",
       "      <td>8189</td>\n",
       "      <td>5611</td>\n",
       "      <td>type1</td>\n",
       "      <td>810</td>\n",
       "      <td>31DEC16:00:00:00</td>\n",
       "      <td>7785.00</td>\n",
       "      <td>BACK_TRX</td>\n",
       "      <td>1</td>\n",
       "      <td>Магазины одежды</td>\n",
       "    </tr>\n",
       "    <tr>\n",
       "      <th>529365</th>\n",
       "      <td>01/06/2017</td>\n",
       "      <td>766</td>\n",
       "      <td>5411</td>\n",
       "      <td>type2</td>\n",
       "      <td>810</td>\n",
       "      <td>18JUN17:00:00:00</td>\n",
       "      <td>878.00</td>\n",
       "      <td>POS</td>\n",
       "      <td>1</td>\n",
       "      <td>Розничныемагазины</td>\n",
       "    </tr>\n",
       "    <tr>\n",
       "      <th>857955</th>\n",
       "      <td>01/08/2017</td>\n",
       "      <td>6880</td>\n",
       "      <td>5499</td>\n",
       "      <td>type1</td>\n",
       "      <td>810</td>\n",
       "      <td>21AUG17:00:00:00</td>\n",
       "      <td>331.00</td>\n",
       "      <td>POS</td>\n",
       "      <td>1</td>\n",
       "      <td>Розничныемагазины</td>\n",
       "    </tr>\n",
       "    <tr>\n",
       "      <th>815346</th>\n",
       "      <td>01/02/2017</td>\n",
       "      <td>5971</td>\n",
       "      <td>5945</td>\n",
       "      <td>type1</td>\n",
       "      <td>810</td>\n",
       "      <td>19FEB17:00:00:00</td>\n",
       "      <td>299.00</td>\n",
       "      <td>POS</td>\n",
       "      <td>1</td>\n",
       "      <td>Различныемагазины</td>\n",
       "    </tr>\n",
       "    <tr>\n",
       "      <th>273798</th>\n",
       "      <td>01/02/2017</td>\n",
       "      <td>5286</td>\n",
       "      <td>5912</td>\n",
       "      <td>type1</td>\n",
       "      <td>810</td>\n",
       "      <td>04FEB17:00:00:00</td>\n",
       "      <td>879.10</td>\n",
       "      <td>POS</td>\n",
       "      <td>0</td>\n",
       "      <td>Различныемагазины</td>\n",
       "    </tr>\n",
       "  </tbody>\n",
       "</table>\n",
       "</div>"
      ],
      "text/plain": [
       "            PERIOD  cl_id   MCC channel_type currency        TRDATETIME  \\\n",
       "11560   01/02/2018    228  5814        type4      810  11FEB18:00:00:00   \n",
       "163507  01/08/2017   2855  5983        type2      810  05AUG17:00:00:00   \n",
       "867007  01/07/2017   7039  5814        type1      810  30JUL17:00:00:00   \n",
       "543202  01/02/2017    974  6011        type2      810  27FEB17:00:00:00   \n",
       "458625  01/12/2016   9489  4112        type1      810  12DEC16:00:00:00   \n",
       "921520  01/12/2016   8189  5611        type1      810  31DEC16:00:00:00   \n",
       "529365  01/06/2017    766  5411        type2      810  18JUN17:00:00:00   \n",
       "857955  01/08/2017   6880  5499        type1      810  21AUG17:00:00:00   \n",
       "815346  01/02/2017   5971  5945        type1      810  19FEB17:00:00:00   \n",
       "273798  01/02/2017   5286  5912        type1      810  04FEB17:00:00:00   \n",
       "\n",
       "          amount  trx_category  is_test          MCC_group  \n",
       "11560     276.00           POS        0  Различныемагазины  \n",
       "163507   2295.75           POS        0  Различныемагазины  \n",
       "867007    626.00           POS        1  Различныемагазины  \n",
       "543202  35000.00  WD_ATM_OTHER        1    Поставщик услуг  \n",
       "458625     40.00           POS        0          Транспорт  \n",
       "921520   7785.00      BACK_TRX        1    Магазины одежды  \n",
       "529365    878.00           POS        1  Розничныемагазины  \n",
       "857955    331.00           POS        1  Розничныемагазины  \n",
       "815346    299.00           POS        1  Различныемагазины  \n",
       "273798    879.10           POS        0  Различныемагазины  "
      ]
     },
     "execution_count": 18,
     "metadata": {},
     "output_type": "execute_result"
    }
   ],
   "source": [
    "df.sample(10)"
   ]
  },
  {
   "cell_type": "code",
   "execution_count": 19,
   "metadata": {
    "ExecuteTime": {
     "end_time": "2018-07-08T21:00:37.509872Z",
     "start_time": "2018-07-08T21:00:36.976946Z"
    }
   },
   "outputs": [
    {
     "name": "stdout",
     "output_type": "stream",
     "text": [
      "<class 'pandas.core.frame.DataFrame'>\n",
      "Int64Index: 1008889 entries, 0 to 1008888\n",
      "Data columns (total 10 columns):\n",
      "PERIOD          1008889 non-null object\n",
      "cl_id           1008889 non-null int64\n",
      "MCC             1008889 non-null object\n",
      "channel_type    1008889 non-null object\n",
      "currency        1008889 non-null object\n",
      "TRDATETIME      1008889 non-null object\n",
      "amount          1008889 non-null float64\n",
      "trx_category    1008889 non-null object\n",
      "is_test         1008889 non-null int64\n",
      "MCC_group       1008887 non-null object\n",
      "dtypes: float64(1), int64(2), object(7)\n",
      "memory usage: 84.7+ MB\n"
     ]
    }
   ],
   "source": [
    "df.info()"
   ]
  },
  {
   "cell_type": "markdown",
   "metadata": {},
   "source": [
    "Пустые значения MCC_group заполним константой"
   ]
  },
  {
   "cell_type": "code",
   "execution_count": 20,
   "metadata": {
    "ExecuteTime": {
     "end_time": "2018-07-08T21:00:37.596862Z",
     "start_time": "2018-07-08T21:00:37.512109Z"
    }
   },
   "outputs": [],
   "source": [
    "df['MCC_group'].fillna('Nan', inplace=True)"
   ]
  },
  {
   "cell_type": "code",
   "execution_count": 21,
   "metadata": {
    "ExecuteTime": {
     "end_time": "2018-07-08T21:00:38.139174Z",
     "start_time": "2018-07-08T21:00:37.599316Z"
    }
   },
   "outputs": [
    {
     "name": "stdout",
     "output_type": "stream",
     "text": [
      "<class 'pandas.core.frame.DataFrame'>\n",
      "Int64Index: 1008889 entries, 0 to 1008888\n",
      "Data columns (total 10 columns):\n",
      "PERIOD          1008889 non-null object\n",
      "cl_id           1008889 non-null int64\n",
      "MCC             1008889 non-null object\n",
      "channel_type    1008889 non-null object\n",
      "currency        1008889 non-null object\n",
      "TRDATETIME      1008889 non-null object\n",
      "amount          1008889 non-null float64\n",
      "trx_category    1008889 non-null object\n",
      "is_test         1008889 non-null int64\n",
      "MCC_group       1008889 non-null object\n",
      "dtypes: float64(1), int64(2), object(7)\n",
      "memory usage: 84.7+ MB\n"
     ]
    }
   ],
   "source": [
    "df.info()"
   ]
  },
  {
   "cell_type": "markdown",
   "metadata": {},
   "source": [
    "### Курсы валют"
   ]
  },
  {
   "cell_type": "markdown",
   "metadata": {},
   "source": [
    "Видно, что большинство транзакций не содержат данных о времени проведения операции. Поэтому нет смысла добавлять признаки, связанные с времененем операции. А жаль, можно было бы агрегировать транзакции по времени суток.."
   ]
  },
  {
   "cell_type": "code",
   "execution_count": 22,
   "metadata": {
    "ExecuteTime": {
     "end_time": "2018-07-08T21:00:39.072774Z",
     "start_time": "2018-07-08T21:00:38.141195Z"
    }
   },
   "outputs": [
    {
     "data": {
      "text/plain": [
       "(890639, 10)"
      ]
     },
     "execution_count": 22,
     "metadata": {},
     "output_type": "execute_result"
    }
   ],
   "source": [
    "df[df['TRDATETIME'].str.contains(':00:00:00') ].shape"
   ]
  },
  {
   "cell_type": "code",
   "execution_count": 23,
   "metadata": {
    "ExecuteTime": {
     "end_time": "2018-07-08T21:00:52.975994Z",
     "start_time": "2018-07-08T21:00:39.075470Z"
    }
   },
   "outputs": [],
   "source": [
    "df['TRDATETIME'] =  pd.to_datetime(df['TRDATETIME'], format='%d%b%y:%H:%M:%S')\n",
    "df['PERIOD'] =  pd.to_datetime(df['PERIOD'], format='%d/%m/%Y')\n",
    "df['PERIOD'] = df['PERIOD'].dt.to_period('M')\n",
    "#df['TRDATETIME'] = df['TRDATETIME'].dt.date"
   ]
  },
  {
   "cell_type": "code",
   "execution_count": 24,
   "metadata": {
    "ExecuteTime": {
     "end_time": "2018-07-08T21:00:53.008285Z",
     "start_time": "2018-07-08T21:00:52.978212Z"
    }
   },
   "outputs": [
    {
     "data": {
      "text/html": [
       "<div>\n",
       "<style scoped>\n",
       "    .dataframe tbody tr th:only-of-type {\n",
       "        vertical-align: middle;\n",
       "    }\n",
       "\n",
       "    .dataframe tbody tr th {\n",
       "        vertical-align: top;\n",
       "    }\n",
       "\n",
       "    .dataframe thead th {\n",
       "        text-align: right;\n",
       "    }\n",
       "</style>\n",
       "<table border=\"1\" class=\"dataframe\">\n",
       "  <thead>\n",
       "    <tr style=\"text-align: right;\">\n",
       "      <th></th>\n",
       "      <th>PERIOD</th>\n",
       "      <th>cl_id</th>\n",
       "      <th>MCC</th>\n",
       "      <th>channel_type</th>\n",
       "      <th>currency</th>\n",
       "      <th>TRDATETIME</th>\n",
       "      <th>amount</th>\n",
       "      <th>trx_category</th>\n",
       "      <th>is_test</th>\n",
       "      <th>MCC_group</th>\n",
       "    </tr>\n",
       "  </thead>\n",
       "  <tbody>\n",
       "    <tr>\n",
       "      <th>0</th>\n",
       "      <td>2017-10</td>\n",
       "      <td>0</td>\n",
       "      <td>5200</td>\n",
       "      <td>NaN</td>\n",
       "      <td>810</td>\n",
       "      <td>2017-10-21 00:00:00</td>\n",
       "      <td>5023.0</td>\n",
       "      <td>POS</td>\n",
       "      <td>0</td>\n",
       "      <td>Розничныемагазины</td>\n",
       "    </tr>\n",
       "    <tr>\n",
       "      <th>1</th>\n",
       "      <td>2017-10</td>\n",
       "      <td>0</td>\n",
       "      <td>6011</td>\n",
       "      <td>NaN</td>\n",
       "      <td>810</td>\n",
       "      <td>2017-10-12 12:24:07</td>\n",
       "      <td>20000.0</td>\n",
       "      <td>DEPOSIT</td>\n",
       "      <td>0</td>\n",
       "      <td>Поставщик услуг</td>\n",
       "    </tr>\n",
       "    <tr>\n",
       "      <th>2</th>\n",
       "      <td>2017-12</td>\n",
       "      <td>0</td>\n",
       "      <td>5921</td>\n",
       "      <td>NaN</td>\n",
       "      <td>810</td>\n",
       "      <td>2017-12-05 00:00:00</td>\n",
       "      <td>767.0</td>\n",
       "      <td>POS</td>\n",
       "      <td>0</td>\n",
       "      <td>Различныемагазины</td>\n",
       "    </tr>\n",
       "    <tr>\n",
       "      <th>3</th>\n",
       "      <td>2017-10</td>\n",
       "      <td>0</td>\n",
       "      <td>5411</td>\n",
       "      <td>NaN</td>\n",
       "      <td>810</td>\n",
       "      <td>2017-10-21 00:00:00</td>\n",
       "      <td>2031.0</td>\n",
       "      <td>POS</td>\n",
       "      <td>0</td>\n",
       "      <td>Розничныемагазины</td>\n",
       "    </tr>\n",
       "    <tr>\n",
       "      <th>4</th>\n",
       "      <td>2017-10</td>\n",
       "      <td>0</td>\n",
       "      <td>6012</td>\n",
       "      <td>NaN</td>\n",
       "      <td>810</td>\n",
       "      <td>2017-10-24 13:14:24</td>\n",
       "      <td>36562.0</td>\n",
       "      <td>C2C_OUT</td>\n",
       "      <td>0</td>\n",
       "      <td>Поставщик услуг</td>\n",
       "    </tr>\n",
       "  </tbody>\n",
       "</table>\n",
       "</div>"
      ],
      "text/plain": [
       "   PERIOD  cl_id   MCC channel_type currency          TRDATETIME   amount  \\\n",
       "0 2017-10      0  5200          NaN      810 2017-10-21 00:00:00   5023.0   \n",
       "1 2017-10      0  6011          NaN      810 2017-10-12 12:24:07  20000.0   \n",
       "2 2017-12      0  5921          NaN      810 2017-12-05 00:00:00    767.0   \n",
       "3 2017-10      0  5411          NaN      810 2017-10-21 00:00:00   2031.0   \n",
       "4 2017-10      0  6012          NaN      810 2017-10-24 13:14:24  36562.0   \n",
       "\n",
       "  trx_category  is_test          MCC_group  \n",
       "0          POS        0  Розничныемагазины  \n",
       "1      DEPOSIT        0    Поставщик услуг  \n",
       "2          POS        0  Различныемагазины  \n",
       "3          POS        0  Розничныемагазины  \n",
       "4      C2C_OUT        0    Поставщик услуг  "
      ]
     },
     "execution_count": 24,
     "metadata": {},
     "output_type": "execute_result"
    }
   ],
   "source": [
    "df.head()"
   ]
  },
  {
   "cell_type": "code",
   "execution_count": 25,
   "metadata": {
    "ExecuteTime": {
     "end_time": "2018-07-08T21:00:53.747956Z",
     "start_time": "2018-07-08T21:00:53.010444Z"
    }
   },
   "outputs": [
    {
     "name": "stdout",
     "output_type": "stream",
     "text": [
      "<class 'pandas.core.frame.DataFrame'>\n",
      "Int64Index: 1008889 entries, 0 to 1008888\n",
      "Data columns (total 10 columns):\n",
      "PERIOD          1008889 non-null object\n",
      "cl_id           1008889 non-null int64\n",
      "MCC             1008889 non-null object\n",
      "channel_type    1008889 non-null object\n",
      "currency        1008889 non-null object\n",
      "TRDATETIME      1008889 non-null datetime64[ns]\n",
      "amount          1008889 non-null float64\n",
      "trx_category    1008889 non-null object\n",
      "is_test         1008889 non-null int64\n",
      "MCC_group       1008889 non-null object\n",
      "dtypes: datetime64[ns](1), float64(1), int64(2), object(6)\n",
      "memory usage: 84.7+ MB\n"
     ]
    }
   ],
   "source": [
    "df.info()"
   ]
  },
  {
   "cell_type": "markdown",
   "metadata": {},
   "source": [
    "Большинство операций в рублях. Для дальнейшего агреггирования по суммам операций добавим курс валюты на день операции (или ближайшего рабочего дня) и добавим новую колонку с суммой валютной операции в рублях."
   ]
  },
  {
   "cell_type": "code",
   "execution_count": 26,
   "metadata": {
    "ExecuteTime": {
     "end_time": "2018-07-08T21:00:53.913368Z",
     "start_time": "2018-07-08T21:00:53.750658Z"
    }
   },
   "outputs": [
    {
     "data": {
      "text/plain": [
       "810    981731\n",
       "978     11573\n",
       "840      3808\n",
       "933      1460\n",
       "764       941\n",
       "203       924\n",
       "949       902\n",
       "985       749\n",
       "826       705\n",
       "975       596\n",
       "Name: currency, dtype: int64"
      ]
     },
     "execution_count": 26,
     "metadata": {},
     "output_type": "execute_result"
    }
   ],
   "source": [
    "df['currency'].value_counts().head(10)"
   ]
  },
  {
   "cell_type": "code",
   "execution_count": 27,
   "metadata": {
    "ExecuteTime": {
     "end_time": "2018-07-08T21:00:54.304935Z",
     "start_time": "2018-07-08T21:00:53.916377Z"
    }
   },
   "outputs": [],
   "source": [
    "df['currency'] = df['currency'].str.pad(3, side='left', fillchar='0')"
   ]
  },
  {
   "cell_type": "code",
   "execution_count": 28,
   "metadata": {
    "ExecuteTime": {
     "end_time": "2018-07-08T21:00:54.324192Z",
     "start_time": "2018-07-08T21:00:54.309744Z"
    }
   },
   "outputs": [
    {
     "data": {
      "text/html": [
       "<div>\n",
       "<style scoped>\n",
       "    .dataframe tbody tr th:only-of-type {\n",
       "        vertical-align: middle;\n",
       "    }\n",
       "\n",
       "    .dataframe tbody tr th {\n",
       "        vertical-align: top;\n",
       "    }\n",
       "\n",
       "    .dataframe thead th {\n",
       "        text-align: right;\n",
       "    }\n",
       "</style>\n",
       "<table border=\"1\" class=\"dataframe\">\n",
       "  <thead>\n",
       "    <tr style=\"text-align: right;\">\n",
       "      <th></th>\n",
       "      <th>Alphabetic Code</th>\n",
       "      <th>Numeric Code</th>\n",
       "    </tr>\n",
       "  </thead>\n",
       "  <tbody>\n",
       "    <tr>\n",
       "      <th>0</th>\n",
       "      <td>AFN</td>\n",
       "      <td>971</td>\n",
       "    </tr>\n",
       "    <tr>\n",
       "      <th>1</th>\n",
       "      <td>EUR</td>\n",
       "      <td>978</td>\n",
       "    </tr>\n",
       "    <tr>\n",
       "      <th>2</th>\n",
       "      <td>ALL</td>\n",
       "      <td>008</td>\n",
       "    </tr>\n",
       "    <tr>\n",
       "      <th>3</th>\n",
       "      <td>DZD</td>\n",
       "      <td>012</td>\n",
       "    </tr>\n",
       "    <tr>\n",
       "      <th>4</th>\n",
       "      <td>USD</td>\n",
       "      <td>840</td>\n",
       "    </tr>\n",
       "  </tbody>\n",
       "</table>\n",
       "</div>"
      ],
      "text/plain": [
       "  Alphabetic Code Numeric Code\n",
       "0             AFN          971\n",
       "1             EUR          978\n",
       "2             ALL          008\n",
       "3             DZD          012\n",
       "4             USD          840"
      ]
     },
     "execution_count": 28,
     "metadata": {},
     "output_type": "execute_result"
    }
   ],
   "source": [
    "iso_codes = iso_codes.drop_duplicates()\n",
    "iso_codes.head()"
   ]
  },
  {
   "cell_type": "code",
   "execution_count": 29,
   "metadata": {
    "ExecuteTime": {
     "end_time": "2018-07-08T21:00:54.463956Z",
     "start_time": "2018-07-08T21:00:54.326457Z"
    }
   },
   "outputs": [
    {
     "data": {
      "text/html": [
       "<div>\n",
       "<style scoped>\n",
       "    .dataframe tbody tr th:only-of-type {\n",
       "        vertical-align: middle;\n",
       "    }\n",
       "\n",
       "    .dataframe tbody tr th {\n",
       "        vertical-align: top;\n",
       "    }\n",
       "\n",
       "    .dataframe thead th {\n",
       "        text-align: right;\n",
       "    }\n",
       "</style>\n",
       "<table border=\"1\" class=\"dataframe\">\n",
       "  <thead>\n",
       "    <tr style=\"text-align: right;\">\n",
       "      <th></th>\n",
       "      <th>TICKER</th>\n",
       "      <th>DATE</th>\n",
       "      <th>CLOSE</th>\n",
       "      <th>NOMINAL</th>\n",
       "    </tr>\n",
       "  </thead>\n",
       "  <tbody>\n",
       "    <tr>\n",
       "      <th>0</th>\n",
       "      <td>AMD</td>\n",
       "      <td>2016-10-07</td>\n",
       "      <td>13.1624</td>\n",
       "      <td>100</td>\n",
       "    </tr>\n",
       "    <tr>\n",
       "      <th>1</th>\n",
       "      <td>AUD</td>\n",
       "      <td>2016-10-07</td>\n",
       "      <td>47.3852</td>\n",
       "      <td>1</td>\n",
       "    </tr>\n",
       "    <tr>\n",
       "      <th>2</th>\n",
       "      <td>AZN</td>\n",
       "      <td>2016-10-07</td>\n",
       "      <td>38.6172</td>\n",
       "      <td>1</td>\n",
       "    </tr>\n",
       "    <tr>\n",
       "      <th>3</th>\n",
       "      <td>BGN</td>\n",
       "      <td>2016-10-07</td>\n",
       "      <td>35.7208</td>\n",
       "      <td>1</td>\n",
       "    </tr>\n",
       "    <tr>\n",
       "      <th>4</th>\n",
       "      <td>BRL</td>\n",
       "      <td>2016-10-07</td>\n",
       "      <td>19.3728</td>\n",
       "      <td>1</td>\n",
       "    </tr>\n",
       "  </tbody>\n",
       "</table>\n",
       "</div>"
      ],
      "text/plain": [
       "  TICKER       DATE    CLOSE  NOMINAL\n",
       "0    AMD 2016-10-07  13.1624      100\n",
       "1    AUD 2016-10-07  47.3852        1\n",
       "2    AZN 2016-10-07  38.6172        1\n",
       "3    BGN 2016-10-07  35.7208        1\n",
       "4    BRL 2016-10-07  19.3728        1"
      ]
     },
     "execution_count": 29,
     "metadata": {},
     "output_type": "execute_result"
    }
   ],
   "source": [
    "curr_rates = curr_rates[['TICKER','DATE','CLOSE','NOMINAL']]\n",
    "curr_rates['DATE'] = pd.to_datetime(curr_rates['DATE'])\n",
    "#curr_rates['DATE'] = curr_rates['DATE'].dt.date\n",
    "curr_rates.head()"
   ]
  },
  {
   "cell_type": "code",
   "execution_count": 30,
   "metadata": {
    "ExecuteTime": {
     "end_time": "2018-07-08T21:00:55.604688Z",
     "start_time": "2018-07-08T21:00:54.467175Z"
    }
   },
   "outputs": [],
   "source": [
    "df = pd.merge(df, iso_codes, how='left', left_on='currency', right_on='Numeric Code')\n",
    "df.drop('Numeric Code', axis=1, inplace=True)"
   ]
  },
  {
   "cell_type": "code",
   "execution_count": 31,
   "metadata": {
    "ExecuteTime": {
     "end_time": "2018-07-08T21:00:56.090280Z",
     "start_time": "2018-07-08T21:00:55.606984Z"
    }
   },
   "outputs": [
    {
     "name": "stdout",
     "output_type": "stream",
     "text": [
      "<class 'pandas.core.frame.DataFrame'>\n",
      "Int64Index: 1008889 entries, 0 to 1008888\n",
      "Data columns (total 11 columns):\n",
      "PERIOD             1008889 non-null object\n",
      "cl_id              1008889 non-null int64\n",
      "MCC                1008889 non-null object\n",
      "channel_type       1008889 non-null object\n",
      "currency           1008889 non-null object\n",
      "TRDATETIME         1008889 non-null datetime64[ns]\n",
      "amount             1008889 non-null float64\n",
      "trx_category       1008889 non-null object\n",
      "is_test            1008889 non-null int64\n",
      "MCC_group          1008889 non-null object\n",
      "Alphabetic Code    1008836 non-null object\n",
      "dtypes: datetime64[ns](1), float64(1), int64(2), object(7)\n",
      "memory usage: 92.4+ MB\n"
     ]
    }
   ],
   "source": [
    "df.info()"
   ]
  },
  {
   "cell_type": "code",
   "execution_count": 32,
   "metadata": {
    "ExecuteTime": {
     "end_time": "2018-07-08T21:00:56.331317Z",
     "start_time": "2018-07-08T21:00:56.093145Z"
    }
   },
   "outputs": [
    {
     "data": {
      "text/html": [
       "<div>\n",
       "<style scoped>\n",
       "    .dataframe tbody tr th:only-of-type {\n",
       "        vertical-align: middle;\n",
       "    }\n",
       "\n",
       "    .dataframe tbody tr th {\n",
       "        vertical-align: top;\n",
       "    }\n",
       "\n",
       "    .dataframe thead th {\n",
       "        text-align: right;\n",
       "    }\n",
       "</style>\n",
       "<table border=\"1\" class=\"dataframe\">\n",
       "  <thead>\n",
       "    <tr style=\"text-align: right;\">\n",
       "      <th></th>\n",
       "      <th>PERIOD</th>\n",
       "      <th>cl_id</th>\n",
       "      <th>MCC</th>\n",
       "      <th>channel_type</th>\n",
       "      <th>currency</th>\n",
       "      <th>TRDATETIME</th>\n",
       "      <th>amount</th>\n",
       "      <th>trx_category</th>\n",
       "      <th>is_test</th>\n",
       "      <th>MCC_group</th>\n",
       "      <th>curr_code</th>\n",
       "    </tr>\n",
       "  </thead>\n",
       "  <tbody>\n",
       "    <tr>\n",
       "      <th>136205</th>\n",
       "      <td>2016-12</td>\n",
       "      <td>2430</td>\n",
       "      <td>5541</td>\n",
       "      <td>type2</td>\n",
       "      <td>810</td>\n",
       "      <td>2016-12-31 00:00:00</td>\n",
       "      <td>1476.0</td>\n",
       "      <td>POS</td>\n",
       "      <td>0</td>\n",
       "      <td>Автомобили итранспортныесредства</td>\n",
       "      <td>RUB</td>\n",
       "    </tr>\n",
       "    <tr>\n",
       "      <th>734811</th>\n",
       "      <td>2017-06</td>\n",
       "      <td>4278</td>\n",
       "      <td>6011</td>\n",
       "      <td>type1</td>\n",
       "      <td>810</td>\n",
       "      <td>2017-06-02 09:39:11</td>\n",
       "      <td>50000.0</td>\n",
       "      <td>WD_ATM_ROS</td>\n",
       "      <td>1</td>\n",
       "      <td>Поставщик услуг</td>\n",
       "      <td>RUB</td>\n",
       "    </tr>\n",
       "    <tr>\n",
       "      <th>212710</th>\n",
       "      <td>2017-03</td>\n",
       "      <td>3816</td>\n",
       "      <td>5411</td>\n",
       "      <td>type1</td>\n",
       "      <td>810</td>\n",
       "      <td>2017-03-25 00:00:00</td>\n",
       "      <td>499.0</td>\n",
       "      <td>POS</td>\n",
       "      <td>0</td>\n",
       "      <td>Розничныемагазины</td>\n",
       "      <td>RUB</td>\n",
       "    </tr>\n",
       "    <tr>\n",
       "      <th>567916</th>\n",
       "      <td>2017-08</td>\n",
       "      <td>1358</td>\n",
       "      <td>4814</td>\n",
       "      <td>type2</td>\n",
       "      <td>810</td>\n",
       "      <td>2017-08-28 13:32:05</td>\n",
       "      <td>500.0</td>\n",
       "      <td>CAT</td>\n",
       "      <td>1</td>\n",
       "      <td>Коммунальные икабельные услуги</td>\n",
       "      <td>RUB</td>\n",
       "    </tr>\n",
       "    <tr>\n",
       "      <th>286200</th>\n",
       "      <td>2017-05</td>\n",
       "      <td>5518</td>\n",
       "      <td>5309</td>\n",
       "      <td>type1</td>\n",
       "      <td>810</td>\n",
       "      <td>2017-05-14 00:00:00</td>\n",
       "      <td>2350.0</td>\n",
       "      <td>POS</td>\n",
       "      <td>0</td>\n",
       "      <td>Розничныемагазины</td>\n",
       "      <td>RUB</td>\n",
       "    </tr>\n",
       "    <tr>\n",
       "      <th>292239</th>\n",
       "      <td>2016-10</td>\n",
       "      <td>5644</td>\n",
       "      <td>5722</td>\n",
       "      <td>type1</td>\n",
       "      <td>810</td>\n",
       "      <td>2016-10-22 00:00:00</td>\n",
       "      <td>5180.0</td>\n",
       "      <td>POS</td>\n",
       "      <td>0</td>\n",
       "      <td>Различныемагазины</td>\n",
       "      <td>RUB</td>\n",
       "    </tr>\n",
       "    <tr>\n",
       "      <th>139049</th>\n",
       "      <td>2017-09</td>\n",
       "      <td>2474</td>\n",
       "      <td>4121</td>\n",
       "      <td>type2</td>\n",
       "      <td>810</td>\n",
       "      <td>2017-09-04 00:00:00</td>\n",
       "      <td>361.0</td>\n",
       "      <td>POS</td>\n",
       "      <td>0</td>\n",
       "      <td>Транспорт</td>\n",
       "      <td>RUB</td>\n",
       "    </tr>\n",
       "    <tr>\n",
       "      <th>454266</th>\n",
       "      <td>2016-12</td>\n",
       "      <td>9387</td>\n",
       "      <td>5411</td>\n",
       "      <td>type1</td>\n",
       "      <td>810</td>\n",
       "      <td>2016-12-23 00:00:00</td>\n",
       "      <td>153.8</td>\n",
       "      <td>POS</td>\n",
       "      <td>0</td>\n",
       "      <td>Розничныемагазины</td>\n",
       "      <td>RUB</td>\n",
       "    </tr>\n",
       "    <tr>\n",
       "      <th>696900</th>\n",
       "      <td>2017-04</td>\n",
       "      <td>3547</td>\n",
       "      <td>5411</td>\n",
       "      <td>type1</td>\n",
       "      <td>810</td>\n",
       "      <td>2017-04-03 00:00:00</td>\n",
       "      <td>1136.0</td>\n",
       "      <td>POS</td>\n",
       "      <td>1</td>\n",
       "      <td>Розничныемагазины</td>\n",
       "      <td>RUB</td>\n",
       "    </tr>\n",
       "    <tr>\n",
       "      <th>304382</th>\n",
       "      <td>2017-04</td>\n",
       "      <td>5916</td>\n",
       "      <td>5411</td>\n",
       "      <td>type1</td>\n",
       "      <td>810</td>\n",
       "      <td>2017-04-28 00:00:00</td>\n",
       "      <td>84.0</td>\n",
       "      <td>POS</td>\n",
       "      <td>0</td>\n",
       "      <td>Розничныемагазины</td>\n",
       "      <td>RUB</td>\n",
       "    </tr>\n",
       "  </tbody>\n",
       "</table>\n",
       "</div>"
      ],
      "text/plain": [
       "        PERIOD  cl_id   MCC channel_type currency          TRDATETIME  \\\n",
       "136205 2016-12   2430  5541        type2      810 2016-12-31 00:00:00   \n",
       "734811 2017-06   4278  6011        type1      810 2017-06-02 09:39:11   \n",
       "212710 2017-03   3816  5411        type1      810 2017-03-25 00:00:00   \n",
       "567916 2017-08   1358  4814        type2      810 2017-08-28 13:32:05   \n",
       "286200 2017-05   5518  5309        type1      810 2017-05-14 00:00:00   \n",
       "292239 2016-10   5644  5722        type1      810 2016-10-22 00:00:00   \n",
       "139049 2017-09   2474  4121        type2      810 2017-09-04 00:00:00   \n",
       "454266 2016-12   9387  5411        type1      810 2016-12-23 00:00:00   \n",
       "696900 2017-04   3547  5411        type1      810 2017-04-03 00:00:00   \n",
       "304382 2017-04   5916  5411        type1      810 2017-04-28 00:00:00   \n",
       "\n",
       "         amount trx_category  is_test                         MCC_group  \\\n",
       "136205   1476.0          POS        0  Автомобили итранспортныесредства   \n",
       "734811  50000.0   WD_ATM_ROS        1                   Поставщик услуг   \n",
       "212710    499.0          POS        0                 Розничныемагазины   \n",
       "567916    500.0          CAT        1    Коммунальные икабельные услуги   \n",
       "286200   2350.0          POS        0                 Розничныемагазины   \n",
       "292239   5180.0          POS        0                 Различныемагазины   \n",
       "139049    361.0          POS        0                         Транспорт   \n",
       "454266    153.8          POS        0                 Розничныемагазины   \n",
       "696900   1136.0          POS        1                 Розничныемагазины   \n",
       "304382     84.0          POS        0                 Розничныемагазины   \n",
       "\n",
       "       curr_code  \n",
       "136205       RUB  \n",
       "734811       RUB  \n",
       "212710       RUB  \n",
       "567916       RUB  \n",
       "286200       RUB  \n",
       "292239       RUB  \n",
       "139049       RUB  \n",
       "454266       RUB  \n",
       "696900       RUB  \n",
       "304382       RUB  "
      ]
     },
     "execution_count": 32,
     "metadata": {},
     "output_type": "execute_result"
    }
   ],
   "source": [
    "df.rename(columns={'Alphabetic Code': 'curr_code'}, inplace=True)\n",
    "df.sample(10)"
   ]
  },
  {
   "cell_type": "code",
   "execution_count": 33,
   "metadata": {
    "ExecuteTime": {
     "end_time": "2018-07-08T21:00:56.348418Z",
     "start_time": "2018-07-08T21:00:56.333401Z"
    }
   },
   "outputs": [
    {
     "data": {
      "text/html": [
       "<div>\n",
       "<style scoped>\n",
       "    .dataframe tbody tr th:only-of-type {\n",
       "        vertical-align: middle;\n",
       "    }\n",
       "\n",
       "    .dataframe tbody tr th {\n",
       "        vertical-align: top;\n",
       "    }\n",
       "\n",
       "    .dataframe thead th {\n",
       "        text-align: right;\n",
       "    }\n",
       "</style>\n",
       "<table border=\"1\" class=\"dataframe\">\n",
       "  <thead>\n",
       "    <tr style=\"text-align: right;\">\n",
       "      <th></th>\n",
       "      <th>curr_code</th>\n",
       "      <th>TRDATETIME</th>\n",
       "      <th>exch_rate</th>\n",
       "      <th>exch_nominal</th>\n",
       "    </tr>\n",
       "  </thead>\n",
       "  <tbody>\n",
       "    <tr>\n",
       "      <th>0</th>\n",
       "      <td>AMD</td>\n",
       "      <td>2016-10-07</td>\n",
       "      <td>13.1624</td>\n",
       "      <td>100</td>\n",
       "    </tr>\n",
       "    <tr>\n",
       "      <th>1</th>\n",
       "      <td>AUD</td>\n",
       "      <td>2016-10-07</td>\n",
       "      <td>47.3852</td>\n",
       "      <td>1</td>\n",
       "    </tr>\n",
       "    <tr>\n",
       "      <th>2</th>\n",
       "      <td>AZN</td>\n",
       "      <td>2016-10-07</td>\n",
       "      <td>38.6172</td>\n",
       "      <td>1</td>\n",
       "    </tr>\n",
       "    <tr>\n",
       "      <th>3</th>\n",
       "      <td>BGN</td>\n",
       "      <td>2016-10-07</td>\n",
       "      <td>35.7208</td>\n",
       "      <td>1</td>\n",
       "    </tr>\n",
       "    <tr>\n",
       "      <th>4</th>\n",
       "      <td>BRL</td>\n",
       "      <td>2016-10-07</td>\n",
       "      <td>19.3728</td>\n",
       "      <td>1</td>\n",
       "    </tr>\n",
       "  </tbody>\n",
       "</table>\n",
       "</div>"
      ],
      "text/plain": [
       "  curr_code TRDATETIME  exch_rate  exch_nominal\n",
       "0       AMD 2016-10-07    13.1624           100\n",
       "1       AUD 2016-10-07    47.3852             1\n",
       "2       AZN 2016-10-07    38.6172             1\n",
       "3       BGN 2016-10-07    35.7208             1\n",
       "4       BRL 2016-10-07    19.3728             1"
      ]
     },
     "execution_count": 33,
     "metadata": {},
     "output_type": "execute_result"
    }
   ],
   "source": [
    "curr_rates.rename(columns={'TICKER': 'curr_code', 'DATE': 'TRDATETIME', 'CLOSE': 'exch_rate', 'NOMINAL': 'exch_nominal'}, inplace=True)\n",
    "curr_rates.head()"
   ]
  },
  {
   "cell_type": "code",
   "execution_count": 34,
   "metadata": {
    "ExecuteTime": {
     "end_time": "2018-07-08T21:00:58.295203Z",
     "start_time": "2018-07-08T21:00:56.351230Z"
    }
   },
   "outputs": [],
   "source": [
    "df = pd.merge_asof(df.sort_values(by=['TRDATETIME']), curr_rates.sort_values(by=['TRDATETIME']), on='TRDATETIME', by='curr_code', tolerance=pd.Timedelta('10d'))\n",
    "df.loc[df['currency'] == '810', 'exch_rate'] = 1\n",
    "df.loc[df['currency'] == '810', 'exch_nominal'] = 1\n"
   ]
  },
  {
   "cell_type": "code",
   "execution_count": 35,
   "metadata": {
    "ExecuteTime": {
     "end_time": "2018-07-08T21:00:58.906194Z",
     "start_time": "2018-07-08T21:00:58.299047Z"
    }
   },
   "outputs": [
    {
     "name": "stdout",
     "output_type": "stream",
     "text": [
      "<class 'pandas.core.frame.DataFrame'>\n",
      "Int64Index: 1008889 entries, 0 to 1008888\n",
      "Data columns (total 13 columns):\n",
      "PERIOD          1008889 non-null object\n",
      "cl_id           1008889 non-null int64\n",
      "MCC             1008889 non-null object\n",
      "channel_type    1008889 non-null object\n",
      "currency        1008889 non-null object\n",
      "TRDATETIME      1008889 non-null datetime64[ns]\n",
      "amount          1008889 non-null float64\n",
      "trx_category    1008889 non-null object\n",
      "is_test         1008889 non-null int64\n",
      "MCC_group       1008889 non-null object\n",
      "curr_code       1008836 non-null object\n",
      "exch_rate       1005519 non-null float64\n",
      "exch_nominal    1005519 non-null float64\n",
      "dtypes: datetime64[ns](1), float64(3), int64(2), object(7)\n",
      "memory usage: 107.8+ MB\n"
     ]
    }
   ],
   "source": [
    "df.info()"
   ]
  },
  {
   "cell_type": "markdown",
   "metadata": {},
   "source": [
    "Для валюты у трех тысяч операций не нашлось курса. При агрегировании в рублях будем считать эти операции нулевыми. Можно было бы заморочиться дальше и использовать дополнительные кросс курсы в евро или долларах."
   ]
  },
  {
   "cell_type": "code",
   "execution_count": 36,
   "metadata": {
    "ExecuteTime": {
     "end_time": "2018-07-08T21:00:58.917682Z",
     "start_time": "2018-07-08T21:00:58.909252Z"
    }
   },
   "outputs": [],
   "source": [
    "df['exch_rate'].fillna(0, inplace=True)\n",
    "df['exch_nominal'].fillna(1, inplace=True)"
   ]
  },
  {
   "cell_type": "code",
   "execution_count": 37,
   "metadata": {
    "ExecuteTime": {
     "end_time": "2018-07-08T21:00:58.946237Z",
     "start_time": "2018-07-08T21:00:58.920325Z"
    }
   },
   "outputs": [],
   "source": [
    "df['amount_rub'] = df['amount'] / df['exch_nominal'] * df['exch_rate']"
   ]
  },
  {
   "cell_type": "code",
   "execution_count": 38,
   "metadata": {
    "ExecuteTime": {
     "end_time": "2018-07-08T21:00:59.134018Z",
     "start_time": "2018-07-08T21:00:58.949092Z"
    }
   },
   "outputs": [
    {
     "data": {
      "text/html": [
       "<div>\n",
       "<style scoped>\n",
       "    .dataframe tbody tr th:only-of-type {\n",
       "        vertical-align: middle;\n",
       "    }\n",
       "\n",
       "    .dataframe tbody tr th {\n",
       "        vertical-align: top;\n",
       "    }\n",
       "\n",
       "    .dataframe thead th {\n",
       "        text-align: right;\n",
       "    }\n",
       "</style>\n",
       "<table border=\"1\" class=\"dataframe\">\n",
       "  <thead>\n",
       "    <tr style=\"text-align: right;\">\n",
       "      <th></th>\n",
       "      <th>PERIOD</th>\n",
       "      <th>cl_id</th>\n",
       "      <th>MCC</th>\n",
       "      <th>channel_type</th>\n",
       "      <th>currency</th>\n",
       "      <th>TRDATETIME</th>\n",
       "      <th>amount</th>\n",
       "      <th>trx_category</th>\n",
       "      <th>is_test</th>\n",
       "      <th>MCC_group</th>\n",
       "      <th>curr_code</th>\n",
       "      <th>exch_rate</th>\n",
       "      <th>exch_nominal</th>\n",
       "      <th>amount_rub</th>\n",
       "    </tr>\n",
       "  </thead>\n",
       "  <tbody>\n",
       "    <tr>\n",
       "      <th>823627</th>\n",
       "      <td>2017-08</td>\n",
       "      <td>928</td>\n",
       "      <td>5411</td>\n",
       "      <td>type2</td>\n",
       "      <td>978</td>\n",
       "      <td>2017-08-07</td>\n",
       "      <td>12.9</td>\n",
       "      <td>POS</td>\n",
       "      <td>1</td>\n",
       "      <td>Розничныемагазины</td>\n",
       "      <td>EUR</td>\n",
       "      <td>71.6879</td>\n",
       "      <td>1.0</td>\n",
       "      <td>924.77391</td>\n",
       "    </tr>\n",
       "    <tr>\n",
       "      <th>515449</th>\n",
       "      <td>2017-05</td>\n",
       "      <td>4570</td>\n",
       "      <td>7230</td>\n",
       "      <td>type1</td>\n",
       "      <td>203</td>\n",
       "      <td>2017-05-12</td>\n",
       "      <td>726.0</td>\n",
       "      <td>POS</td>\n",
       "      <td>0</td>\n",
       "      <td>Личные услуги</td>\n",
       "      <td>CZK</td>\n",
       "      <td>23.3948</td>\n",
       "      <td>10.0</td>\n",
       "      <td>1698.46248</td>\n",
       "    </tr>\n",
       "    <tr>\n",
       "      <th>946794</th>\n",
       "      <td>2017-09</td>\n",
       "      <td>1933</td>\n",
       "      <td>5812</td>\n",
       "      <td>type2</td>\n",
       "      <td>949</td>\n",
       "      <td>2017-09-28</td>\n",
       "      <td>20.0</td>\n",
       "      <td>POS</td>\n",
       "      <td>0</td>\n",
       "      <td>Различныемагазины</td>\n",
       "      <td>TRY</td>\n",
       "      <td>16.2662</td>\n",
       "      <td>1.0</td>\n",
       "      <td>325.32400</td>\n",
       "    </tr>\n",
       "    <tr>\n",
       "      <th>681368</th>\n",
       "      <td>2017-06</td>\n",
       "      <td>1139</td>\n",
       "      <td>5977</td>\n",
       "      <td>type2</td>\n",
       "      <td>978</td>\n",
       "      <td>2017-06-29</td>\n",
       "      <td>47.1</td>\n",
       "      <td>POS</td>\n",
       "      <td>0</td>\n",
       "      <td>Различныемагазины</td>\n",
       "      <td>EUR</td>\n",
       "      <td>67.6868</td>\n",
       "      <td>1.0</td>\n",
       "      <td>3188.04828</td>\n",
       "    </tr>\n",
       "    <tr>\n",
       "      <th>129332</th>\n",
       "      <td>2016-12</td>\n",
       "      <td>1124</td>\n",
       "      <td>5699</td>\n",
       "      <td>type2</td>\n",
       "      <td>203</td>\n",
       "      <td>2016-12-27</td>\n",
       "      <td>897.0</td>\n",
       "      <td>POS</td>\n",
       "      <td>1</td>\n",
       "      <td>Магазины одежды</td>\n",
       "      <td>CZK</td>\n",
       "      <td>23.5550</td>\n",
       "      <td>10.0</td>\n",
       "      <td>2112.88350</td>\n",
       "    </tr>\n",
       "    <tr>\n",
       "      <th>978829</th>\n",
       "      <td>2017-11</td>\n",
       "      <td>6065</td>\n",
       "      <td>5993</td>\n",
       "      <td>type1</td>\n",
       "      <td>978</td>\n",
       "      <td>2017-11-16</td>\n",
       "      <td>4.6</td>\n",
       "      <td>POS</td>\n",
       "      <td>0</td>\n",
       "      <td>Различныемагазины</td>\n",
       "      <td>EUR</td>\n",
       "      <td>71.1721</td>\n",
       "      <td>1.0</td>\n",
       "      <td>327.39166</td>\n",
       "    </tr>\n",
       "    <tr>\n",
       "      <th>842825</th>\n",
       "      <td>2017-08</td>\n",
       "      <td>2752</td>\n",
       "      <td>5411</td>\n",
       "      <td>type2</td>\n",
       "      <td>978</td>\n",
       "      <td>2017-08-13</td>\n",
       "      <td>10.4</td>\n",
       "      <td>POS</td>\n",
       "      <td>0</td>\n",
       "      <td>Розничныемагазины</td>\n",
       "      <td>EUR</td>\n",
       "      <td>70.7502</td>\n",
       "      <td>1.0</td>\n",
       "      <td>735.80208</td>\n",
       "    </tr>\n",
       "    <tr>\n",
       "      <th>155625</th>\n",
       "      <td>2017-01</td>\n",
       "      <td>5413</td>\n",
       "      <td>6011</td>\n",
       "      <td>type1</td>\n",
       "      <td>978</td>\n",
       "      <td>2017-01-04</td>\n",
       "      <td>150.0</td>\n",
       "      <td>WD_ATM_OTHER</td>\n",
       "      <td>1</td>\n",
       "      <td>Поставщик услуг</td>\n",
       "      <td>EUR</td>\n",
       "      <td>63.8111</td>\n",
       "      <td>1.0</td>\n",
       "      <td>9571.66500</td>\n",
       "    </tr>\n",
       "    <tr>\n",
       "      <th>13875</th>\n",
       "      <td>2016-11</td>\n",
       "      <td>9686</td>\n",
       "      <td>5945</td>\n",
       "      <td>type1</td>\n",
       "      <td>203</td>\n",
       "      <td>2016-11-07</td>\n",
       "      <td>966.0</td>\n",
       "      <td>POS</td>\n",
       "      <td>1</td>\n",
       "      <td>Различныемагазины</td>\n",
       "      <td>CZK</td>\n",
       "      <td>26.0948</td>\n",
       "      <td>10.0</td>\n",
       "      <td>2520.75768</td>\n",
       "    </tr>\n",
       "    <tr>\n",
       "      <th>654349</th>\n",
       "      <td>2017-06</td>\n",
       "      <td>10026</td>\n",
       "      <td>5814</td>\n",
       "      <td>type1</td>\n",
       "      <td>840</td>\n",
       "      <td>2017-06-22</td>\n",
       "      <td>27.7</td>\n",
       "      <td>POS</td>\n",
       "      <td>1</td>\n",
       "      <td>Различныемагазины</td>\n",
       "      <td>USD</td>\n",
       "      <td>60.0000</td>\n",
       "      <td>1.0</td>\n",
       "      <td>1662.00000</td>\n",
       "    </tr>\n",
       "  </tbody>\n",
       "</table>\n",
       "</div>"
      ],
      "text/plain": [
       "        PERIOD  cl_id   MCC channel_type currency TRDATETIME  amount  \\\n",
       "823627 2017-08    928  5411        type2      978 2017-08-07    12.9   \n",
       "515449 2017-05   4570  7230        type1      203 2017-05-12   726.0   \n",
       "946794 2017-09   1933  5812        type2      949 2017-09-28    20.0   \n",
       "681368 2017-06   1139  5977        type2      978 2017-06-29    47.1   \n",
       "129332 2016-12   1124  5699        type2      203 2016-12-27   897.0   \n",
       "978829 2017-11   6065  5993        type1      978 2017-11-16     4.6   \n",
       "842825 2017-08   2752  5411        type2      978 2017-08-13    10.4   \n",
       "155625 2017-01   5413  6011        type1      978 2017-01-04   150.0   \n",
       "13875  2016-11   9686  5945        type1      203 2016-11-07   966.0   \n",
       "654349 2017-06  10026  5814        type1      840 2017-06-22    27.7   \n",
       "\n",
       "        trx_category  is_test          MCC_group curr_code  exch_rate  \\\n",
       "823627           POS        1  Розничныемагазины       EUR    71.6879   \n",
       "515449           POS        0      Личные услуги       CZK    23.3948   \n",
       "946794           POS        0  Различныемагазины       TRY    16.2662   \n",
       "681368           POS        0  Различныемагазины       EUR    67.6868   \n",
       "129332           POS        1    Магазины одежды       CZK    23.5550   \n",
       "978829           POS        0  Различныемагазины       EUR    71.1721   \n",
       "842825           POS        0  Розничныемагазины       EUR    70.7502   \n",
       "155625  WD_ATM_OTHER        1    Поставщик услуг       EUR    63.8111   \n",
       "13875            POS        1  Различныемагазины       CZK    26.0948   \n",
       "654349           POS        1  Различныемагазины       USD    60.0000   \n",
       "\n",
       "        exch_nominal  amount_rub  \n",
       "823627           1.0   924.77391  \n",
       "515449          10.0  1698.46248  \n",
       "946794           1.0   325.32400  \n",
       "681368           1.0  3188.04828  \n",
       "129332          10.0  2112.88350  \n",
       "978829           1.0   327.39166  \n",
       "842825           1.0   735.80208  \n",
       "155625           1.0  9571.66500  \n",
       "13875           10.0  2520.75768  \n",
       "654349           1.0  1662.00000  "
      ]
     },
     "execution_count": 38,
     "metadata": {},
     "output_type": "execute_result"
    }
   ],
   "source": [
    "df[df['currency'] != '810'].sample(10)"
   ]
  },
  {
   "cell_type": "markdown",
   "metadata": {},
   "source": [
    "### Дни недели и выходные"
   ]
  },
  {
   "cell_type": "markdown",
   "metadata": {},
   "source": [
    "По времени транзакции вычисляем и добавляем день недели и признак того, что это выходной день"
   ]
  },
  {
   "cell_type": "code",
   "execution_count": 39,
   "metadata": {
    "ExecuteTime": {
     "end_time": "2018-07-08T21:00:59.359372Z",
     "start_time": "2018-07-08T21:00:59.136722Z"
    }
   },
   "outputs": [],
   "source": [
    "df['dayofweek'] = df['TRDATETIME'].dt.dayofweek.astype('object')\n",
    "df['is_weekend'] = (df['dayofweek'] >= 5).astype('int64')"
   ]
  },
  {
   "cell_type": "code",
   "execution_count": 40,
   "metadata": {
    "ExecuteTime": {
     "end_time": "2018-07-08T21:00:59.945685Z",
     "start_time": "2018-07-08T21:00:59.361420Z"
    }
   },
   "outputs": [
    {
     "data": {
      "text/html": [
       "<div>\n",
       "<style scoped>\n",
       "    .dataframe tbody tr th:only-of-type {\n",
       "        vertical-align: middle;\n",
       "    }\n",
       "\n",
       "    .dataframe tbody tr th {\n",
       "        vertical-align: top;\n",
       "    }\n",
       "\n",
       "    .dataframe thead th {\n",
       "        text-align: right;\n",
       "    }\n",
       "</style>\n",
       "<table border=\"1\" class=\"dataframe\">\n",
       "  <thead>\n",
       "    <tr style=\"text-align: right;\">\n",
       "      <th></th>\n",
       "      <th>PERIOD</th>\n",
       "      <th>cl_id</th>\n",
       "      <th>MCC</th>\n",
       "      <th>channel_type</th>\n",
       "      <th>currency</th>\n",
       "      <th>TRDATETIME</th>\n",
       "      <th>amount</th>\n",
       "      <th>trx_category</th>\n",
       "      <th>is_test</th>\n",
       "      <th>MCC_group</th>\n",
       "      <th>curr_code</th>\n",
       "      <th>exch_rate</th>\n",
       "      <th>exch_nominal</th>\n",
       "      <th>amount_rub</th>\n",
       "      <th>dayofweek</th>\n",
       "      <th>is_weekend</th>\n",
       "    </tr>\n",
       "  </thead>\n",
       "  <tbody>\n",
       "    <tr>\n",
       "      <th>562300</th>\n",
       "      <td>2017-05</td>\n",
       "      <td>4404</td>\n",
       "      <td>5411</td>\n",
       "      <td>type1</td>\n",
       "      <td>810</td>\n",
       "      <td>2017-05-27 00:00:00</td>\n",
       "      <td>1751.00</td>\n",
       "      <td>POS</td>\n",
       "      <td>1</td>\n",
       "      <td>Розничныемагазины</td>\n",
       "      <td>RUB</td>\n",
       "      <td>1.0</td>\n",
       "      <td>1.0</td>\n",
       "      <td>1751.00</td>\n",
       "      <td>5</td>\n",
       "      <td>1</td>\n",
       "    </tr>\n",
       "    <tr>\n",
       "      <th>105362</th>\n",
       "      <td>2016-12</td>\n",
       "      <td>6505</td>\n",
       "      <td>5912</td>\n",
       "      <td>type1</td>\n",
       "      <td>810</td>\n",
       "      <td>2016-12-20 00:00:00</td>\n",
       "      <td>3719.83</td>\n",
       "      <td>POS</td>\n",
       "      <td>1</td>\n",
       "      <td>Различныемагазины</td>\n",
       "      <td>RUB</td>\n",
       "      <td>1.0</td>\n",
       "      <td>1.0</td>\n",
       "      <td>3719.83</td>\n",
       "      <td>1</td>\n",
       "      <td>0</td>\n",
       "    </tr>\n",
       "    <tr>\n",
       "      <th>977345</th>\n",
       "      <td>2017-11</td>\n",
       "      <td>574</td>\n",
       "      <td>6011</td>\n",
       "      <td>type2</td>\n",
       "      <td>810</td>\n",
       "      <td>2017-11-11 12:44:13</td>\n",
       "      <td>12000.00</td>\n",
       "      <td>WD_ATM_ROS</td>\n",
       "      <td>0</td>\n",
       "      <td>Поставщик услуг</td>\n",
       "      <td>RUB</td>\n",
       "      <td>1.0</td>\n",
       "      <td>1.0</td>\n",
       "      <td>12000.00</td>\n",
       "      <td>5</td>\n",
       "      <td>1</td>\n",
       "    </tr>\n",
       "    <tr>\n",
       "      <th>48833</th>\n",
       "      <td>2016-11</td>\n",
       "      <td>6285</td>\n",
       "      <td>5261</td>\n",
       "      <td>type1</td>\n",
       "      <td>810</td>\n",
       "      <td>2016-11-29 00:00:00</td>\n",
       "      <td>912.00</td>\n",
       "      <td>POS</td>\n",
       "      <td>0</td>\n",
       "      <td>Розничныемагазины</td>\n",
       "      <td>RUB</td>\n",
       "      <td>1.0</td>\n",
       "      <td>1.0</td>\n",
       "      <td>912.00</td>\n",
       "      <td>1</td>\n",
       "      <td>0</td>\n",
       "    </tr>\n",
       "    <tr>\n",
       "      <th>691713</th>\n",
       "      <td>2017-07</td>\n",
       "      <td>8913</td>\n",
       "      <td>5641</td>\n",
       "      <td>type1</td>\n",
       "      <td>810</td>\n",
       "      <td>2017-07-02 00:00:00</td>\n",
       "      <td>1305.83</td>\n",
       "      <td>POS</td>\n",
       "      <td>0</td>\n",
       "      <td>Магазины одежды</td>\n",
       "      <td>RUB</td>\n",
       "      <td>1.0</td>\n",
       "      <td>1.0</td>\n",
       "      <td>1305.83</td>\n",
       "      <td>6</td>\n",
       "      <td>1</td>\n",
       "    </tr>\n",
       "  </tbody>\n",
       "</table>\n",
       "</div>"
      ],
      "text/plain": [
       "        PERIOD  cl_id   MCC channel_type currency          TRDATETIME  \\\n",
       "562300 2017-05   4404  5411        type1      810 2017-05-27 00:00:00   \n",
       "105362 2016-12   6505  5912        type1      810 2016-12-20 00:00:00   \n",
       "977345 2017-11    574  6011        type2      810 2017-11-11 12:44:13   \n",
       "48833  2016-11   6285  5261        type1      810 2016-11-29 00:00:00   \n",
       "691713 2017-07   8913  5641        type1      810 2017-07-02 00:00:00   \n",
       "\n",
       "          amount trx_category  is_test          MCC_group curr_code  \\\n",
       "562300   1751.00          POS        1  Розничныемагазины       RUB   \n",
       "105362   3719.83          POS        1  Различныемагазины       RUB   \n",
       "977345  12000.00   WD_ATM_ROS        0    Поставщик услуг       RUB   \n",
       "48833     912.00          POS        0  Розничныемагазины       RUB   \n",
       "691713   1305.83          POS        0    Магазины одежды       RUB   \n",
       "\n",
       "        exch_rate  exch_nominal  amount_rub dayofweek  is_weekend  \n",
       "562300        1.0           1.0     1751.00         5           1  \n",
       "105362        1.0           1.0     3719.83         1           0  \n",
       "977345        1.0           1.0    12000.00         5           1  \n",
       "48833         1.0           1.0      912.00         1           0  \n",
       "691713        1.0           1.0     1305.83         6           1  "
      ]
     },
     "execution_count": 40,
     "metadata": {},
     "output_type": "execute_result"
    }
   ],
   "source": [
    "df.sample(5)"
   ]
  },
  {
   "cell_type": "markdown",
   "metadata": {},
   "source": [
    "### Пополнение баланса"
   ]
  },
  {
   "cell_type": "markdown",
   "metadata": {},
   "source": [
    "Далее, по категориям транзакций добавляем признак пополнения баланса"
   ]
  },
  {
   "cell_type": "code",
   "execution_count": 41,
   "metadata": {
    "ExecuteTime": {
     "end_time": "2018-07-08T21:00:59.952489Z",
     "start_time": "2018-07-08T21:00:59.948482Z"
    }
   },
   "outputs": [],
   "source": [
    "in_category = ['C2C_IN', 'DEPOSIT']\n",
    "out_category = ['POS', ' C2C_OUT', 'WD_ATM_PARTNER']"
   ]
  },
  {
   "cell_type": "code",
   "execution_count": 42,
   "metadata": {
    "ExecuteTime": {
     "end_time": "2018-07-08T21:01:00.088345Z",
     "start_time": "2018-07-08T21:00:59.956159Z"
    }
   },
   "outputs": [],
   "source": [
    "#df['in'] = df['trx_category'].isin(in_category).astype('object')\n",
    "df['is_withdrawal'] = df['trx_category'].isin(out_category).astype('object')"
   ]
  },
  {
   "cell_type": "code",
   "execution_count": 43,
   "metadata": {
    "ExecuteTime": {
     "end_time": "2018-07-08T21:01:00.729064Z",
     "start_time": "2018-07-08T21:01:00.090751Z"
    }
   },
   "outputs": [
    {
     "data": {
      "text/html": [
       "<div>\n",
       "<style scoped>\n",
       "    .dataframe tbody tr th:only-of-type {\n",
       "        vertical-align: middle;\n",
       "    }\n",
       "\n",
       "    .dataframe tbody tr th {\n",
       "        vertical-align: top;\n",
       "    }\n",
       "\n",
       "    .dataframe thead th {\n",
       "        text-align: right;\n",
       "    }\n",
       "</style>\n",
       "<table border=\"1\" class=\"dataframe\">\n",
       "  <thead>\n",
       "    <tr style=\"text-align: right;\">\n",
       "      <th></th>\n",
       "      <th>PERIOD</th>\n",
       "      <th>cl_id</th>\n",
       "      <th>MCC</th>\n",
       "      <th>channel_type</th>\n",
       "      <th>currency</th>\n",
       "      <th>TRDATETIME</th>\n",
       "      <th>amount</th>\n",
       "      <th>trx_category</th>\n",
       "      <th>is_test</th>\n",
       "      <th>MCC_group</th>\n",
       "      <th>curr_code</th>\n",
       "      <th>exch_rate</th>\n",
       "      <th>exch_nominal</th>\n",
       "      <th>amount_rub</th>\n",
       "      <th>dayofweek</th>\n",
       "      <th>is_weekend</th>\n",
       "      <th>is_withdrawal</th>\n",
       "    </tr>\n",
       "  </thead>\n",
       "  <tbody>\n",
       "    <tr>\n",
       "      <th>889047</th>\n",
       "      <td>2017-08</td>\n",
       "      <td>9973</td>\n",
       "      <td>5814</td>\n",
       "      <td>type1</td>\n",
       "      <td>810</td>\n",
       "      <td>2017-08-29 00:00:00</td>\n",
       "      <td>78.0</td>\n",
       "      <td>POS</td>\n",
       "      <td>0</td>\n",
       "      <td>Различныемагазины</td>\n",
       "      <td>RUB</td>\n",
       "      <td>1.0</td>\n",
       "      <td>1.0</td>\n",
       "      <td>78.0</td>\n",
       "      <td>1</td>\n",
       "      <td>0</td>\n",
       "      <td>True</td>\n",
       "    </tr>\n",
       "    <tr>\n",
       "      <th>735626</th>\n",
       "      <td>2017-07</td>\n",
       "      <td>8407</td>\n",
       "      <td>5814</td>\n",
       "      <td>type1</td>\n",
       "      <td>810</td>\n",
       "      <td>2017-07-14 00:00:00</td>\n",
       "      <td>105.0</td>\n",
       "      <td>POS</td>\n",
       "      <td>0</td>\n",
       "      <td>Различныемагазины</td>\n",
       "      <td>RUB</td>\n",
       "      <td>1.0</td>\n",
       "      <td>1.0</td>\n",
       "      <td>105.0</td>\n",
       "      <td>4</td>\n",
       "      <td>0</td>\n",
       "      <td>True</td>\n",
       "    </tr>\n",
       "    <tr>\n",
       "      <th>450409</th>\n",
       "      <td>2017-04</td>\n",
       "      <td>1482</td>\n",
       "      <td>6011</td>\n",
       "      <td>type2</td>\n",
       "      <td>810</td>\n",
       "      <td>2017-04-21 11:12:12</td>\n",
       "      <td>5000.0</td>\n",
       "      <td>DEPOSIT</td>\n",
       "      <td>0</td>\n",
       "      <td>Поставщик услуг</td>\n",
       "      <td>RUB</td>\n",
       "      <td>1.0</td>\n",
       "      <td>1.0</td>\n",
       "      <td>5000.0</td>\n",
       "      <td>4</td>\n",
       "      <td>0</td>\n",
       "      <td>False</td>\n",
       "    </tr>\n",
       "    <tr>\n",
       "      <th>846059</th>\n",
       "      <td>2017-08</td>\n",
       "      <td>4893</td>\n",
       "      <td>5814</td>\n",
       "      <td>type1</td>\n",
       "      <td>810</td>\n",
       "      <td>2017-08-14 00:00:00</td>\n",
       "      <td>69.0</td>\n",
       "      <td>POS</td>\n",
       "      <td>1</td>\n",
       "      <td>Различныемагазины</td>\n",
       "      <td>RUB</td>\n",
       "      <td>1.0</td>\n",
       "      <td>1.0</td>\n",
       "      <td>69.0</td>\n",
       "      <td>0</td>\n",
       "      <td>0</td>\n",
       "      <td>True</td>\n",
       "    </tr>\n",
       "    <tr>\n",
       "      <th>499299</th>\n",
       "      <td>2017-05</td>\n",
       "      <td>5558</td>\n",
       "      <td>5814</td>\n",
       "      <td>type1</td>\n",
       "      <td>810</td>\n",
       "      <td>2017-05-07 00:00:00</td>\n",
       "      <td>563.0</td>\n",
       "      <td>POS</td>\n",
       "      <td>0</td>\n",
       "      <td>Различныемагазины</td>\n",
       "      <td>RUB</td>\n",
       "      <td>1.0</td>\n",
       "      <td>1.0</td>\n",
       "      <td>563.0</td>\n",
       "      <td>6</td>\n",
       "      <td>1</td>\n",
       "      <td>True</td>\n",
       "    </tr>\n",
       "  </tbody>\n",
       "</table>\n",
       "</div>"
      ],
      "text/plain": [
       "        PERIOD  cl_id   MCC channel_type currency          TRDATETIME  amount  \\\n",
       "889047 2017-08   9973  5814        type1      810 2017-08-29 00:00:00    78.0   \n",
       "735626 2017-07   8407  5814        type1      810 2017-07-14 00:00:00   105.0   \n",
       "450409 2017-04   1482  6011        type2      810 2017-04-21 11:12:12  5000.0   \n",
       "846059 2017-08   4893  5814        type1      810 2017-08-14 00:00:00    69.0   \n",
       "499299 2017-05   5558  5814        type1      810 2017-05-07 00:00:00   563.0   \n",
       "\n",
       "       trx_category  is_test          MCC_group curr_code  exch_rate  \\\n",
       "889047          POS        0  Различныемагазины       RUB        1.0   \n",
       "735626          POS        0  Различныемагазины       RUB        1.0   \n",
       "450409      DEPOSIT        0    Поставщик услуг       RUB        1.0   \n",
       "846059          POS        1  Различныемагазины       RUB        1.0   \n",
       "499299          POS        0  Различныемагазины       RUB        1.0   \n",
       "\n",
       "        exch_nominal  amount_rub dayofweek  is_weekend is_withdrawal  \n",
       "889047           1.0        78.0         1           0          True  \n",
       "735626           1.0       105.0         4           0          True  \n",
       "450409           1.0      5000.0         4           0         False  \n",
       "846059           1.0        69.0         0           0          True  \n",
       "499299           1.0       563.0         6           1          True  "
      ]
     },
     "execution_count": 43,
     "metadata": {},
     "output_type": "execute_result"
    }
   ],
   "source": [
    "df.sample(5)"
   ]
  },
  {
   "cell_type": "markdown",
   "metadata": {},
   "source": [
    "## Анализ данных"
   ]
  },
  {
   "cell_type": "markdown",
   "metadata": {},
   "source": [
    "Рассмотрим данные в обучающем наборе"
   ]
  },
  {
   "cell_type": "code",
   "execution_count": 164,
   "metadata": {
    "ExecuteTime": {
     "end_time": "2018-05-28T00:40:35.545419Z",
     "start_time": "2018-05-28T00:40:35.542203Z"
    }
   },
   "outputs": [],
   "source": [
    "#df.describe(include='all').T"
   ]
  },
  {
   "cell_type": "code",
   "execution_count": 165,
   "metadata": {
    "ExecuteTime": {
     "end_time": "2018-05-28T00:40:35.656661Z",
     "start_time": "2018-05-28T00:40:35.548174Z"
    }
   },
   "outputs": [
    {
     "data": {
      "text/plain": [
       "(490513, 17)"
      ]
     },
     "execution_count": 165,
     "metadata": {},
     "output_type": "execute_result"
    }
   ],
   "source": [
    "df_train = df[df['is_test']==0]\n",
    "df_train.shape"
   ]
  },
  {
   "cell_type": "code",
   "execution_count": 166,
   "metadata": {
    "ExecuteTime": {
     "end_time": "2018-05-28T00:40:35.874853Z",
     "start_time": "2018-05-28T00:40:35.659503Z"
    }
   },
   "outputs": [
    {
     "data": {
      "text/plain": [
       "(490513, 18)"
      ]
     },
     "execution_count": 166,
     "metadata": {},
     "output_type": "execute_result"
    }
   ],
   "source": [
    "df_train = df_train.join(y, how='left', on='cl_id')\n",
    "df_train.shape"
   ]
  },
  {
   "cell_type": "code",
   "execution_count": 167,
   "metadata": {
    "ExecuteTime": {
     "end_time": "2018-05-28T00:40:36.302098Z",
     "start_time": "2018-05-28T00:40:35.877688Z"
    }
   },
   "outputs": [
    {
     "data": {
      "text/plain": [
       "((320103, 18), (170410, 18))"
      ]
     },
     "execution_count": 167,
     "metadata": {},
     "output_type": "execute_result"
    }
   ],
   "source": [
    "df_train1 = df_train[df_train['target_flag']==1]\n",
    "df_train0 = df_train[df_train['target_flag']==0]\n",
    "df_train1.shape, df_train0.shape"
   ]
  },
  {
   "cell_type": "markdown",
   "metadata": {},
   "source": [
    "Общее количество операций у клиентов, которые продолжили пользоваться продуктом, в два раза больше"
   ]
  },
  {
   "cell_type": "markdown",
   "metadata": {},
   "source": [
    "### Данные по клиентам"
   ]
  },
  {
   "cell_type": "code",
   "execution_count": 168,
   "metadata": {
    "ExecuteTime": {
     "end_time": "2018-05-28T00:40:36.360093Z",
     "start_time": "2018-05-28T00:40:36.305884Z"
    }
   },
   "outputs": [],
   "source": [
    "df1 = df_train1.groupby(['cl_id'])['amount_rub'].agg(['mean', 'sum', 'count'])\n",
    "df0 = df_train0.groupby(['cl_id'])['amount_rub'].agg(['mean', 'sum', 'count'])"
   ]
  },
  {
   "cell_type": "code",
   "execution_count": 169,
   "metadata": {
    "ExecuteTime": {
     "end_time": "2018-05-28T00:40:38.132737Z",
     "start_time": "2018-05-28T00:40:36.362982Z"
    }
   },
   "outputs": [
    {
     "data": {
      "text/plain": [
       "<matplotlib.legend.Legend at 0x7fae0f83cd68>"
      ]
     },
     "execution_count": 169,
     "metadata": {},
     "output_type": "execute_result"
    },
    {
     "data": {
      "image/png": "[encoded data removed]",
      "text/plain": [
       "<Figure size 1296x288 with 3 Axes>"
      ]
     },
     "metadata": {},
     "output_type": "display_data"
    }
   ],
   "source": [
    "fig, (ax1, ax2, ax3) = plt.subplots(nrows=1, ncols=3, figsize=(18,4))\n",
    "df1['sum'].plot.hist(bins=50, alpha=0.4, label='target_flag = 1', color='r', ax=ax1)\n",
    "df0['sum'].plot.hist(bins=50, alpha=0.4, label='target_flag = 0', color='b', ax=ax1)\n",
    "ax1.set_xlim(0,df0['sum'].max()/3)\n",
    "ax1.legend(title='Распределение общей суммы по клиентам')\n",
    "\n",
    "df1['count'].plot.hist(bins=50, alpha=0.4, label='target_flag = 1', color='r', ax=ax2)\n",
    "df0['count'].plot.hist(bins=50, alpha=0.4, label='target_flag = 0', color='b', ax=ax2)\n",
    "ax2.set_xlim(0,df0['count'].max()/2)\n",
    "ax2.legend(title='Распределение количества операций по клиентам')\n",
    "\n",
    "df1['mean'].plot.hist(bins=50, alpha=0.4, label='target_flag = 1', color='r', ax=ax3)\n",
    "df0['mean'].plot.hist(bins=50, alpha=0.4, label='target_flag = 0', color='b', ax=ax3)\n",
    "ax3.set_xlim(0,df0['mean'].max()/3)\n",
    "ax3.legend(title='Распределение средней суммы по клиентам')"
   ]
  },
  {
   "cell_type": "markdown",
   "metadata": {},
   "source": [
    "Клиенты, которые ушли, были менее активны по количеству операций и с меньшей средней суммой"
   ]
  },
  {
   "cell_type": "markdown",
   "metadata": {},
   "source": [
    "### Канал привлечения"
   ]
  },
  {
   "cell_type": "code",
   "execution_count": 170,
   "metadata": {
    "ExecuteTime": {
     "end_time": "2018-05-28T00:40:38.348976Z",
     "start_time": "2018-05-28T00:40:38.136053Z"
    }
   },
   "outputs": [],
   "source": [
    "df1 = df_train1.groupby(['channel_type'])['amount_rub'].agg(['mean','sum', 'count'])\n",
    "df0 = df_train0.groupby(['channel_type'])['amount_rub'].agg(['mean','sum', 'count'])\n",
    "df1_cli = df_train1.groupby(['channel_type'])['cl_id'].agg(['nunique'])\n",
    "df0_cli = df_train0.groupby(['channel_type'])['cl_id'].agg(['nunique'])\n",
    "df1['sum'] = df1['sum'] / df1_cli['nunique']\n",
    "df0['sum'] = df0['sum'] / df0_cli['nunique']\n",
    "df1['count'] = df1['count'] / df1_cli['nunique']\n",
    "df0['count'] = df0['count'] / df0_cli['nunique']\n",
    "#df1 = df1.divide(df1_cli['nunique'], axis=0)\n",
    "#df0 = df0.divide(df0_cli['nunique'], axis=0)"
   ]
  },
  {
   "cell_type": "code",
   "execution_count": 171,
   "metadata": {
    "ExecuteTime": {
     "end_time": "2018-05-28T00:40:39.227048Z",
     "start_time": "2018-05-28T00:40:38.351977Z"
    }
   },
   "outputs": [
    {
     "data": {
      "text/plain": [
       "<matplotlib.legend.Legend at 0x7fae0f5fae48>"
      ]
     },
     "execution_count": 171,
     "metadata": {},
     "output_type": "execute_result"
    },
    {
     "data": {
      "image/png": "[encoded data removed]",
      "text/plain": [
       "<Figure size 1296x288 with 3 Axes>"
      ]
     },
     "metadata": {},
     "output_type": "display_data"
    }
   ],
   "source": [
    "fig, (ax1, ax2, ax3) = plt.subplots(nrows=1, ncols=3, figsize=(18,4))\n",
    "\n",
    "df1['sum'].plot.bar(alpha=0.4, label='target_flag = 1', color='r', ax=ax1)\n",
    "df0['sum'].plot.bar(alpha=0.4, label='target_flag = 0', color='b', ax=ax1)\n",
    "ax1.legend(title='Сумма операций по channel_type на одного клиента')\n",
    "\n",
    "df1['count'].plot.bar(alpha=0.4, label='target_flag = 1', color='r', ax=ax2)\n",
    "df0['count'].plot.bar(alpha=0.4, label='target_flag = 0', color='b', ax=ax2)\n",
    "ax2.legend(title='Количество операций по channel_type на одного клиента')\n",
    "\n",
    "df1['mean'].plot.bar(alpha=0.4, label='target_flag = 1', color='r', ax=ax3)\n",
    "df0['mean'].plot.bar(alpha=0.4, label='target_flag = 0', color='b', ax=ax3)\n",
    "ax3.legend(title='Средняя сумма одной по channel_type')"
   ]
  },
  {
   "cell_type": "markdown",
   "metadata": {},
   "source": [
    "### MCC коды"
   ]
  },
  {
   "cell_type": "code",
   "execution_count": 172,
   "metadata": {
    "ExecuteTime": {
     "end_time": "2018-05-28T00:40:39.471160Z",
     "start_time": "2018-05-28T00:40:39.230475Z"
    }
   },
   "outputs": [],
   "source": [
    "df1 = df_train1.groupby(['MCC'])['amount_rub'].agg(['mean','sum', 'count'])\n",
    "df0 = df_train0.groupby(['MCC'])['amount_rub'].agg(['mean','sum', 'count'])\n",
    "df1_cli = df_train1.groupby(['MCC'])['cl_id'].agg(['nunique'])\n",
    "df0_cli = df_train0.groupby(['MCC'])['cl_id'].agg(['nunique'])\n",
    "df1['sum'] = df1['sum'] / df1_cli['nunique']\n",
    "df0['sum'] = df0['sum'] / df0_cli['nunique']\n",
    "df1['count'] = df1['count'] / df1_cli['nunique']\n",
    "df0['count'] = df0['count'] / df0_cli['nunique']"
   ]
  },
  {
   "cell_type": "code",
   "execution_count": 173,
   "metadata": {
    "ExecuteTime": {
     "end_time": "2018-05-28T00:40:41.041274Z",
     "start_time": "2018-05-28T00:40:39.478739Z"
    }
   },
   "outputs": [
    {
     "data": {
      "text/plain": [
       "<matplotlib.legend.Legend at 0x7fae0f476a20>"
      ]
     },
     "execution_count": 173,
     "metadata": {},
     "output_type": "execute_result"
    },
    {
     "data": {
      "image/png": "[encoded data removed]",
      "text/plain": [
       "<Figure size 1296x288 with 3 Axes>"
      ]
     },
     "metadata": {},
     "output_type": "display_data"
    }
   ],
   "source": [
    "fig, (ax1, ax2, ax3) = plt.subplots(nrows=1, ncols=3, figsize=(18,4))\n",
    "\n",
    "df1.nlargest(20, 'sum')['sum'].plot.bar(alpha=0.4, label='target_flag = 1', color='r', ax=ax1)\n",
    "df0.nlargest(20, 'sum')['sum'].plot.bar(alpha=0.4, label='target_flag = 0', color='b', ax=ax1)\n",
    "ax1.legend(title='Суммы операций по MCC (top 20) на одного клиента')\n",
    "\n",
    "df1.nlargest(20, 'count')['count'].plot.bar(alpha=0.4, label='target_flag = 1', color='r', ax=ax2)\n",
    "df0.nlargest(20, 'count')['count'].plot.bar(alpha=0.4, label='target_flag = 0', color='b', ax=ax2)\n",
    "ax2.legend(title='Количество операций по MCC (top 20) на одного клиента')\n",
    "\n",
    "df1.nlargest(20, 'mean')['mean'].plot.bar(alpha=0.4, label='target_flag = 1', color='r', ax=ax3)\n",
    "df0.nlargest(20, 'mean')['mean'].plot.bar(alpha=0.4, label='target_flag = 0', color='b', ax=ax3)\n",
    "ax3.legend(title='Средняя сумма одной операции по MCC (top 20)')"
   ]
  },
  {
   "cell_type": "markdown",
   "metadata": {},
   "source": [
    "По суммам операций клиенты больше всего просто снимали наличные (6011), по количеству операций больше всего платили в супермаркетах (5411)"
   ]
  },
  {
   "cell_type": "markdown",
   "metadata": {},
   "source": [
    "### Группы MCC кодов"
   ]
  },
  {
   "cell_type": "code",
   "execution_count": 174,
   "metadata": {
    "ExecuteTime": {
     "end_time": "2018-05-28T00:40:41.333789Z",
     "start_time": "2018-05-28T00:40:41.044636Z"
    }
   },
   "outputs": [],
   "source": [
    "df1 = df_train1.groupby(['MCC_group'])['amount_rub'].agg(['mean','sum', 'count'])\n",
    "df0 = df_train0.groupby(['MCC_group'])['amount_rub'].agg(['mean','sum', 'count'])\n",
    "df1_cli = df_train1.groupby(['MCC_group'])['cl_id'].agg(['nunique'])\n",
    "df0_cli = df_train0.groupby(['MCC_group'])['cl_id'].agg(['nunique'])\n",
    "df1['sum'] = df1['sum'] / df1_cli['nunique']\n",
    "df0['sum'] = df0['sum'] / df0_cli['nunique']\n",
    "df1['count'] = df1['count'] / df1_cli['nunique']\n",
    "df0['count'] = df0['count'] / df0_cli['nunique']"
   ]
  },
  {
   "cell_type": "code",
   "execution_count": 175,
   "metadata": {
    "ExecuteTime": {
     "end_time": "2018-05-28T00:40:42.963956Z",
     "start_time": "2018-05-28T00:40:41.337200Z"
    }
   },
   "outputs": [
    {
     "data": {
      "text/plain": [
       "<matplotlib.legend.Legend at 0x7fae0f147f60>"
      ]
     },
     "execution_count": 175,
     "metadata": {},
     "output_type": "execute_result"
    },
    {
     "data": {
      "image/png": "[encoded data removed]",
      "text/plain": [
       "<Figure size 1296x288 with 3 Axes>"
      ]
     },
     "metadata": {},
     "output_type": "display_data"
    }
   ],
   "source": [
    "fig, (ax1, ax2, ax3) = plt.subplots(nrows=1, ncols=3, figsize=(18,4))\n",
    "\n",
    "df1['sum'].plot.bar(alpha=0.4, label='target_flag = 1', color='r', ax=ax1)\n",
    "df0['sum'].plot.bar(alpha=0.4, label='target_flag = 0', color='b', ax=ax1)\n",
    "ax1.legend(title='Суммы операций по MCC_group на одного клиента')\n",
    "\n",
    "df1['count'].plot.bar(alpha=0.4, label='target_flag = 1', color='r', ax=ax2)\n",
    "df0['count'].plot.bar(alpha=0.4, label='target_flag = 0', color='b', ax=ax2)\n",
    "ax2.legend(title='Количество операций по MCC_group на одного клиента')\n",
    "\n",
    "df1['mean'].plot.bar(alpha=0.4, label='target_flag = 1', color='r', ax=ax3)\n",
    "df0['mean'].plot.bar(alpha=0.4, label='target_flag = 0', color='b', ax=ax3)\n",
    "ax3.legend(title='Средняя сумма одной операции по MCC_group')"
   ]
  },
  {
   "cell_type": "markdown",
   "metadata": {},
   "source": [
    "### Категории транзакций"
   ]
  },
  {
   "cell_type": "code",
   "execution_count": 176,
   "metadata": {
    "ExecuteTime": {
     "end_time": "2018-05-28T00:40:43.197964Z",
     "start_time": "2018-05-28T00:40:42.967242Z"
    }
   },
   "outputs": [],
   "source": [
    "df1 = df_train1.groupby(['trx_category'])['amount_rub'].agg(['mean','sum', 'count'])\n",
    "df0 = df_train0.groupby(['trx_category'])['amount_rub'].agg(['mean','sum', 'count'])\n",
    "df1_cli = df_train1.groupby(['trx_category'])['cl_id'].agg(['nunique'])\n",
    "df0_cli = df_train0.groupby(['trx_category'])['cl_id'].agg(['nunique'])\n",
    "df1['sum'] = df1['sum'] / df1_cli['nunique']\n",
    "df0['sum'] = df0['sum'] / df0_cli['nunique']\n",
    "df1['count'] = df1['count'] / df1_cli['nunique']\n",
    "df0['count'] = df0['count'] / df0_cli['nunique']"
   ]
  },
  {
   "cell_type": "code",
   "execution_count": 177,
   "metadata": {
    "ExecuteTime": {
     "end_time": "2018-05-28T00:40:44.132826Z",
     "start_time": "2018-05-28T00:40:43.201113Z"
    }
   },
   "outputs": [
    {
     "data": {
      "text/plain": [
       "<matplotlib.legend.Legend at 0x7fae0ef4eb70>"
      ]
     },
     "execution_count": 177,
     "metadata": {},
     "output_type": "execute_result"
    },
    {
     "data": {
      "image/png": "[encoded data removed]",
      "text/plain": [
       "<Figure size 1296x288 with 3 Axes>"
      ]
     },
     "metadata": {},
     "output_type": "display_data"
    }
   ],
   "source": [
    "fig, (ax1, ax2, ax3) = plt.subplots(nrows=1, ncols=3, figsize=(18,4))\n",
    "\n",
    "df1['sum'].plot.bar(alpha=0.4, label='target_flag = 1', color='r', ax=ax1)\n",
    "df0['sum'].plot.bar(alpha=0.4, label='target_flag = 0', color='b', ax=ax1)\n",
    "ax1.legend(title='Суммы операций по trx_category на одного клиента')\n",
    "\n",
    "df1['count'].plot.bar(alpha=0.4, label='target_flag = 1', color='r', ax=ax2)\n",
    "df0['count'].plot.bar(alpha=0.4, label='target_flag = 0', color='b', ax=ax2)\n",
    "ax2.legend(title='Количество операций по trx_category на одного клиента')\n",
    "\n",
    "df1['mean'].plot.bar(alpha=0.4, label='target_flag = 1', color='r', ax=ax3)\n",
    "df0['mean'].plot.bar(alpha=0.4, label='target_flag = 0', color='b', ax=ax3)\n",
    "ax3.legend(title='Средняя сумма одной операции по trx_category')"
   ]
  },
  {
   "cell_type": "markdown",
   "metadata": {},
   "source": [
    "Ожидаемо, клиенты, которые ушли, по средней сумме больше выводили денежные средства"
   ]
  },
  {
   "cell_type": "markdown",
   "metadata": {},
   "source": [
    "### Дни недели"
   ]
  },
  {
   "cell_type": "code",
   "execution_count": 178,
   "metadata": {
    "ExecuteTime": {
     "end_time": "2018-05-28T00:40:44.372756Z",
     "start_time": "2018-05-28T00:40:44.135275Z"
    }
   },
   "outputs": [],
   "source": [
    "df1 = df_train1.groupby(['dayofweek'])['amount_rub'].agg(['mean','sum', 'count'])\n",
    "df0 = df_train0.groupby(['dayofweek'])['amount_rub'].agg(['mean','sum', 'count'])\n",
    "df1_cli = df_train1.groupby(['dayofweek'])['cl_id'].agg(['nunique'])\n",
    "df0_cli = df_train0.groupby(['dayofweek'])['cl_id'].agg(['nunique'])\n",
    "df1['sum'] = df1['sum'] / df1_cli['nunique']\n",
    "df0['sum'] = df0['sum'] / df0_cli['nunique']\n",
    "df1['count'] = df1['count'] / df1_cli['nunique']\n",
    "df0['count'] = df0['count'] / df0_cli['nunique']\n"
   ]
  },
  {
   "cell_type": "code",
   "execution_count": 179,
   "metadata": {
    "ExecuteTime": {
     "end_time": "2018-05-28T00:40:45.273571Z",
     "start_time": "2018-05-28T00:40:44.375931Z"
    }
   },
   "outputs": [
    {
     "data": {
      "text/plain": [
       "<matplotlib.legend.Legend at 0x7fae0ed8b7b8>"
      ]
     },
     "execution_count": 179,
     "metadata": {},
     "output_type": "execute_result"
    },
    {
     "data": {
      "image/png": "[encoded data removed]",
      "text/plain": [
       "<Figure size 1296x288 with 3 Axes>"
      ]
     },
     "metadata": {},
     "output_type": "display_data"
    }
   ],
   "source": [
    "fig, (ax1, ax2, ax3) = plt.subplots(nrows=1, ncols=3, figsize=(18,4))\n",
    "\n",
    "df1['sum'].plot.bar(alpha=0.4, label='target_flag = 1', color='r', ax=ax1)\n",
    "df0['sum'].plot.bar(alpha=0.4, label='target_flag = 0', color='b', ax=ax1)\n",
    "ax1.legend(title='Суммы операций по дням недели на одного клиента')\n",
    "\n",
    "df1['count'].plot.bar(alpha=0.4, label='target_flag = 1', color='r', ax=ax2)\n",
    "df0['count'].plot.bar(alpha=0.4, label='target_flag = 0', color='b', ax=ax2)\n",
    "ax2.legend(title='Количество операций по дням недели на одного клиента')\n",
    "\n",
    "df1['mean'].plot.bar(alpha=0.4, label='target_flag = 1', color='r', ax=ax3)\n",
    "df0['mean'].plot.bar(alpha=0.4, label='target_flag = 0', color='b', ax=ax3)\n",
    "ax3.legend(title='Средняя сумма операций по дням недели')"
   ]
  },
  {
   "cell_type": "markdown",
   "metadata": {},
   "source": [
    "Количество и сумма по операциям в пятницу больше, чем в остальные дни. Но странно, что средний размер суммы у клиентов, которые ушли, почему-то выше.."
   ]
  },
  {
   "cell_type": "markdown",
   "metadata": {},
   "source": [
    "### Данные по периодам"
   ]
  },
  {
   "cell_type": "code",
   "execution_count": 180,
   "metadata": {
    "ExecuteTime": {
     "end_time": "2018-05-28T00:41:16.315669Z",
     "start_time": "2018-05-28T00:40:45.277208Z"
    }
   },
   "outputs": [],
   "source": [
    "df1 = df_train1.groupby(['PERIOD'])['amount_rub'].agg(['mean', 'sum', 'count'])\n",
    "df0 = df_train0.groupby(['PERIOD'])['amount_rub'].agg(['mean', 'sum', 'count'])\n",
    "df1_cli = df_train1.groupby(['PERIOD'])['cl_id'].agg(['nunique'])\n",
    "df0_cli = df_train0.groupby(['PERIOD'])['cl_id'].agg(['nunique'])\n",
    "df1['sum'] = df1['sum'] / df1_cli['nunique']\n",
    "df0['sum'] = df0['sum'] / df0_cli['nunique']\n",
    "df1['count'] = df1['count'] / df1_cli['nunique']\n",
    "df0['count'] = df0['count'] / df0_cli['nunique']"
   ]
  },
  {
   "cell_type": "code",
   "execution_count": 181,
   "metadata": {
    "ExecuteTime": {
     "end_time": "2018-05-28T00:41:17.629401Z",
     "start_time": "2018-05-28T00:41:16.318698Z"
    }
   },
   "outputs": [
    {
     "data": {
      "text/plain": [
       "<matplotlib.legend.Legend at 0x7fae0ebebf98>"
      ]
     },
     "execution_count": 181,
     "metadata": {},
     "output_type": "execute_result"
    },
    {
     "data": {
      "image/png": "[encoded data removed]",
      "text/plain": [
       "<Figure size 1296x288 with 3 Axes>"
      ]
     },
     "metadata": {},
     "output_type": "display_data"
    }
   ],
   "source": [
    "fig, (ax1, ax2, ax3) = plt.subplots(nrows=1, ncols=3, figsize=(18,4))\n",
    "\n",
    "df1['sum'].plot.bar(alpha=0.4, label='target_flag = 1', color='r', ax=ax1)\n",
    "df0['sum'].plot.bar(alpha=0.4, label='target_flag = 0', color='b', ax=ax1)\n",
    "ax1.legend(title='Сумма операций за период на одного клиента')\n",
    "\n",
    "df1['count'].plot.bar(alpha=0.4, label='target_flag = 1', color='r', ax=ax2)\n",
    "df0['count'].plot.bar(alpha=0.4, label='target_flag = 0', color='b', ax=ax2)\n",
    "ax2.legend(title='Количество операций за период на одного клиента')\n",
    "\n",
    "df1['mean'].plot.bar(alpha=0.4, label='target_flag = 1', color='r', ax=ax3)\n",
    "df0['mean'].plot.bar(alpha=0.4, label='target_flag = 0', color='b', ax=ax3)\n",
    "ax3.legend(title='Средняя сумма одной операции за период')"
   ]
  },
  {
   "cell_type": "markdown",
   "metadata": {},
   "source": [
    "В первых начальных периодах активность клиентов обеих категорий примерно одинакова. Дальше, клиенты, которые ушли, былии меннее активны. Но средяя сумма операции у этих клиентов все равно выше. Видимо, к этой категории относятся более состоятельные клиенты"
   ]
  },
  {
   "cell_type": "code",
   "execution_count": 182,
   "metadata": {
    "ExecuteTime": {
     "end_time": "2018-05-28T00:41:43.252613Z",
     "start_time": "2018-05-28T00:41:17.632119Z"
    }
   },
   "outputs": [],
   "source": [
    "df1 = df_train1[df_train1['is_withdrawal']==True].groupby(['PERIOD'])['amount_rub'].agg(['mean', 'sum', 'count'])\n",
    "df0 = df_train0[df_train0['is_withdrawal']==True].groupby(['PERIOD'])['amount_rub'].agg(['mean', 'sum', 'count'])\n",
    "df1_cli = df_train1[df_train1['is_withdrawal']==True].groupby(['PERIOD'])['cl_id'].agg(['nunique'])\n",
    "df0_cli = df_train0[df_train0['is_withdrawal']==True].groupby(['PERIOD'])['cl_id'].agg(['nunique'])\n",
    "df1['sum'] = df1['sum'] / df1_cli['nunique']\n",
    "df0['sum'] = df0['sum'] / df0_cli['nunique']\n",
    "df1['count'] = df1['count'] / df1_cli['nunique']\n",
    "df0['count'] = df0['count'] / df0_cli['nunique']"
   ]
  },
  {
   "cell_type": "code",
   "execution_count": 183,
   "metadata": {
    "ExecuteTime": {
     "end_time": "2018-05-28T00:41:44.492635Z",
     "start_time": "2018-05-28T00:41:43.256469Z"
    }
   },
   "outputs": [
    {
     "data": {
      "text/plain": [
       "<matplotlib.legend.Legend at 0x7fae0e913b70>"
      ]
     },
     "execution_count": 183,
     "metadata": {},
     "output_type": "execute_result"
    },
    {
     "data": {
      "image/png": "[encoded data removed]",
      "text/plain": [
       "<Figure size 1296x288 with 3 Axes>"
      ]
     },
     "metadata": {},
     "output_type": "display_data"
    }
   ],
   "source": [
    "fig, (ax1, ax2, ax3) = plt.subplots(nrows=1, ncols=3, figsize=(18,4))\n",
    "\n",
    "df1['sum'].plot.bar(alpha=0.4, label='target_flag = 1', color='r', ax=ax1)\n",
    "df0['sum'].plot.bar(alpha=0.4, label='target_flag = 0', color='b', ax=ax1)\n",
    "ax1.legend(title='Сумма покупок/снятий за период на одного клиента')\n",
    "\n",
    "df1['count'].plot.bar(alpha=0.4, label='target_flag = 1', color='r', ax=ax2)\n",
    "df0['count'].plot.bar(alpha=0.4, label='target_flag = 0', color='b', ax=ax2)\n",
    "ax2.legend(title='Количество покупок/снятий за период на одного клиента')\n",
    "\n",
    "df1['mean'].plot.bar(alpha=0.4, label='target_flag = 1', color='r', ax=ax3)\n",
    "df0['mean'].plot.bar(alpha=0.4, label='target_flag = 0', color='b', ax=ax3)\n",
    "ax3.legend(title='Средняя сумма одной операции покупки/снятий за период')"
   ]
  },
  {
   "cell_type": "code",
   "execution_count": 184,
   "metadata": {
    "ExecuteTime": {
     "end_time": "2018-05-28T00:41:48.533235Z",
     "start_time": "2018-05-28T00:41:44.495392Z"
    }
   },
   "outputs": [],
   "source": [
    "df1 = df_train1[df_train1['is_withdrawal']==False].groupby(['PERIOD'])['amount_rub'].agg(['mean', 'sum', 'count'])\n",
    "df0 = df_train0[df_train0['is_withdrawal']==False].groupby(['PERIOD'])['amount_rub'].agg(['mean', 'sum', 'count'])\n",
    "df1_cli = df_train1[df_train1['is_withdrawal']==False].groupby(['PERIOD'])['cl_id'].agg(['nunique'])\n",
    "df0_cli = df_train0[df_train0['is_withdrawal']==False].groupby(['PERIOD'])['cl_id'].agg(['nunique'])\n",
    "df1['sum'] = df1['sum'] / df1_cli['nunique']\n",
    "df0['sum'] = df0['sum'] / df0_cli['nunique']\n",
    "df1['count'] = df1['count'] / df1_cli['nunique']\n",
    "df0['count'] = df0['count'] / df0_cli['nunique']"
   ]
  },
  {
   "cell_type": "code",
   "execution_count": 185,
   "metadata": {
    "ExecuteTime": {
     "end_time": "2018-05-28T00:41:49.789279Z",
     "start_time": "2018-05-28T00:41:48.536183Z"
    }
   },
   "outputs": [
    {
     "data": {
      "text/plain": [
       "<matplotlib.legend.Legend at 0x7fae0e692ba8>"
      ]
     },
     "execution_count": 185,
     "metadata": {},
     "output_type": "execute_result"
    },
    {
     "data": {
      "image/png": "[encoded data removed]",
      "text/plain": [
       "<Figure size 1296x288 with 3 Axes>"
      ]
     },
     "metadata": {},
     "output_type": "display_data"
    }
   ],
   "source": [
    "fig, (ax1, ax2, ax3) = plt.subplots(nrows=1, ncols=3, figsize=(18,4))\n",
    "\n",
    "df1['sum'].plot.bar(alpha=0.4, label='target_flag = 1', color='r', ax=ax1)\n",
    "df0['sum'].plot.bar(alpha=0.4, label='target_flag = 0', color='b', ax=ax1)\n",
    "ax1.legend(title='Сумма пополнений за период на одного клиента')\n",
    "\n",
    "df1['count'].plot.bar(alpha=0.4, label='target_flag = 1', color='r', ax=ax2)\n",
    "df0['count'].plot.bar(alpha=0.4, label='target_flag = 0', color='b', ax=ax2)\n",
    "ax2.legend(title='Количество пополнений за период на одного клиента')\n",
    "\n",
    "df1['mean'].plot.bar(alpha=0.4, label='target_flag = 1', color='r', ax=ax3)\n",
    "df0['mean'].plot.bar(alpha=0.4, label='target_flag = 0', color='b', ax=ax3)\n",
    "ax3.legend(title='Средняя сумма одной операции пополнения за период')"
   ]
  },
  {
   "cell_type": "markdown",
   "metadata": {
    "ExecuteTime": {
     "end_time": "2018-05-27T14:50:27.469145Z",
     "start_time": "2018-05-27T14:50:27.463019Z"
    }
   },
   "source": [
    "Активность пополнений всех клиентов во второй половине периодов снизилась. Средний размер пополнений у ушедших клиентов был выше. Скорее всего продукт был кредитной картой, эти клиенты делали пополнения перед закрытием"
   ]
  },
  {
   "cell_type": "markdown",
   "metadata": {},
   "source": [
    "## Признаки"
   ]
  },
  {
   "cell_type": "code",
   "execution_count": 186,
   "metadata": {
    "ExecuteTime": {
     "end_time": "2018-05-28T00:41:49.822982Z",
     "start_time": "2018-05-28T00:41:49.792404Z"
    }
   },
   "outputs": [
    {
     "data": {
      "text/html": [
       "<div>\n",
       "<style scoped>\n",
       "    .dataframe tbody tr th:only-of-type {\n",
       "        vertical-align: middle;\n",
       "    }\n",
       "\n",
       "    .dataframe tbody tr th {\n",
       "        vertical-align: top;\n",
       "    }\n",
       "\n",
       "    .dataframe thead th {\n",
       "        text-align: right;\n",
       "    }\n",
       "</style>\n",
       "<table border=\"1\" class=\"dataframe\">\n",
       "  <thead>\n",
       "    <tr style=\"text-align: right;\">\n",
       "      <th></th>\n",
       "      <th>PERIOD</th>\n",
       "      <th>cl_id</th>\n",
       "      <th>MCC</th>\n",
       "      <th>channel_type</th>\n",
       "      <th>currency</th>\n",
       "      <th>TRDATETIME</th>\n",
       "      <th>amount</th>\n",
       "      <th>trx_category</th>\n",
       "      <th>is_test</th>\n",
       "      <th>MCC_group</th>\n",
       "      <th>curr_code</th>\n",
       "      <th>exch_rate</th>\n",
       "      <th>exch_nominal</th>\n",
       "      <th>amount_rub</th>\n",
       "      <th>dayofweek</th>\n",
       "      <th>is_weekend</th>\n",
       "      <th>is_withdrawal</th>\n",
       "    </tr>\n",
       "  </thead>\n",
       "  <tbody>\n",
       "    <tr>\n",
       "      <th>0</th>\n",
       "      <td>2016-10</td>\n",
       "      <td>1290</td>\n",
       "      <td>5411</td>\n",
       "      <td>type2</td>\n",
       "      <td>810</td>\n",
       "      <td>2016-10-07</td>\n",
       "      <td>2465.00</td>\n",
       "      <td>POS</td>\n",
       "      <td>0</td>\n",
       "      <td>Розничныемагазины</td>\n",
       "      <td>RUB</td>\n",
       "      <td>1.0</td>\n",
       "      <td>1.0</td>\n",
       "      <td>2465.00</td>\n",
       "      <td>4</td>\n",
       "      <td>0</td>\n",
       "      <td>True</td>\n",
       "    </tr>\n",
       "    <tr>\n",
       "      <th>1</th>\n",
       "      <td>2016-10</td>\n",
       "      <td>7689</td>\n",
       "      <td>5921</td>\n",
       "      <td>type1</td>\n",
       "      <td>810</td>\n",
       "      <td>2016-10-07</td>\n",
       "      <td>119.78</td>\n",
       "      <td>POS</td>\n",
       "      <td>1</td>\n",
       "      <td>Различныемагазины</td>\n",
       "      <td>RUB</td>\n",
       "      <td>1.0</td>\n",
       "      <td>1.0</td>\n",
       "      <td>119.78</td>\n",
       "      <td>4</td>\n",
       "      <td>0</td>\n",
       "      <td>True</td>\n",
       "    </tr>\n",
       "    <tr>\n",
       "      <th>2</th>\n",
       "      <td>2016-10</td>\n",
       "      <td>7689</td>\n",
       "      <td>5411</td>\n",
       "      <td>type1</td>\n",
       "      <td>810</td>\n",
       "      <td>2016-10-07</td>\n",
       "      <td>2678.00</td>\n",
       "      <td>POS</td>\n",
       "      <td>1</td>\n",
       "      <td>Розничныемагазины</td>\n",
       "      <td>RUB</td>\n",
       "      <td>1.0</td>\n",
       "      <td>1.0</td>\n",
       "      <td>2678.00</td>\n",
       "      <td>4</td>\n",
       "      <td>0</td>\n",
       "      <td>True</td>\n",
       "    </tr>\n",
       "    <tr>\n",
       "      <th>3</th>\n",
       "      <td>2016-10</td>\n",
       "      <td>485</td>\n",
       "      <td>6011</td>\n",
       "      <td>type2</td>\n",
       "      <td>810</td>\n",
       "      <td>2016-10-07</td>\n",
       "      <td>3600.00</td>\n",
       "      <td>WD_ATM_PARTNER</td>\n",
       "      <td>0</td>\n",
       "      <td>Поставщик услуг</td>\n",
       "      <td>RUB</td>\n",
       "      <td>1.0</td>\n",
       "      <td>1.0</td>\n",
       "      <td>3600.00</td>\n",
       "      <td>4</td>\n",
       "      <td>0</td>\n",
       "      <td>True</td>\n",
       "    </tr>\n",
       "    <tr>\n",
       "      <th>4</th>\n",
       "      <td>2016-10</td>\n",
       "      <td>485</td>\n",
       "      <td>4121</td>\n",
       "      <td>type2</td>\n",
       "      <td>810</td>\n",
       "      <td>2016-10-07</td>\n",
       "      <td>242.00</td>\n",
       "      <td>POS</td>\n",
       "      <td>0</td>\n",
       "      <td>Транспорт</td>\n",
       "      <td>RUB</td>\n",
       "      <td>1.0</td>\n",
       "      <td>1.0</td>\n",
       "      <td>242.00</td>\n",
       "      <td>4</td>\n",
       "      <td>0</td>\n",
       "      <td>True</td>\n",
       "    </tr>\n",
       "  </tbody>\n",
       "</table>\n",
       "</div>"
      ],
      "text/plain": [
       "   PERIOD  cl_id   MCC channel_type currency TRDATETIME   amount  \\\n",
       "0 2016-10   1290  5411        type2      810 2016-10-07  2465.00   \n",
       "1 2016-10   7689  5921        type1      810 2016-10-07   119.78   \n",
       "2 2016-10   7689  5411        type1      810 2016-10-07  2678.00   \n",
       "3 2016-10    485  6011        type2      810 2016-10-07  3600.00   \n",
       "4 2016-10    485  4121        type2      810 2016-10-07   242.00   \n",
       "\n",
       "     trx_category  is_test          MCC_group curr_code  exch_rate  \\\n",
       "0             POS        0  Розничныемагазины       RUB        1.0   \n",
       "1             POS        1  Различныемагазины       RUB        1.0   \n",
       "2             POS        1  Розничныемагазины       RUB        1.0   \n",
       "3  WD_ATM_PARTNER        0    Поставщик услуг       RUB        1.0   \n",
       "4             POS        0          Транспорт       RUB        1.0   \n",
       "\n",
       "   exch_nominal  amount_rub dayofweek  is_weekend is_withdrawal  \n",
       "0           1.0     2465.00         4           0          True  \n",
       "1           1.0      119.78         4           0          True  \n",
       "2           1.0     2678.00         4           0          True  \n",
       "3           1.0     3600.00         4           0          True  \n",
       "4           1.0      242.00         4           0          True  "
      ]
     },
     "execution_count": 186,
     "metadata": {},
     "output_type": "execute_result"
    }
   ],
   "source": [
    "df.head()"
   ]
  },
  {
   "cell_type": "code",
   "execution_count": 187,
   "metadata": {
    "ExecuteTime": {
     "end_time": "2018-05-28T00:41:49.843159Z",
     "start_time": "2018-05-28T00:41:49.832970Z"
    }
   },
   "outputs": [
    {
     "data": {
      "text/plain": [
       "(1008889, 17)"
      ]
     },
     "execution_count": 187,
     "metadata": {},
     "output_type": "execute_result"
    }
   ],
   "source": [
    "df.shape"
   ]
  },
  {
   "cell_type": "code",
   "execution_count": 188,
   "metadata": {
    "ExecuteTime": {
     "end_time": "2018-05-28T00:41:50.081687Z",
     "start_time": "2018-05-28T00:41:49.846734Z"
    }
   },
   "outputs": [],
   "source": [
    "X_full = df.groupby(['cl_id', 'channel_type', 'is_test'])['amount_rub'].agg(['sum','count','mean']).sort_index()"
   ]
  },
  {
   "cell_type": "code",
   "execution_count": 189,
   "metadata": {
    "ExecuteTime": {
     "end_time": "2018-05-28T00:41:50.093911Z",
     "start_time": "2018-05-28T00:41:50.084207Z"
    }
   },
   "outputs": [],
   "source": [
    "X_full = X_full.reset_index().set_index('cl_id')"
   ]
  },
  {
   "cell_type": "code",
   "execution_count": 190,
   "metadata": {
    "ExecuteTime": {
     "end_time": "2018-05-28T00:41:50.103546Z",
     "start_time": "2018-05-28T00:41:50.096509Z"
    }
   },
   "outputs": [
    {
     "data": {
      "text/plain": [
       "(10217, 5)"
      ]
     },
     "execution_count": 190,
     "metadata": {},
     "output_type": "execute_result"
    }
   ],
   "source": [
    "X_full.shape"
   ]
  },
  {
   "cell_type": "code",
   "execution_count": 191,
   "metadata": {
    "ExecuteTime": {
     "end_time": "2018-05-28T00:41:50.141465Z",
     "start_time": "2018-05-28T00:41:50.106297Z"
    }
   },
   "outputs": [
    {
     "data": {
      "text/html": [
       "<div>\n",
       "<style scoped>\n",
       "    .dataframe tbody tr th:only-of-type {\n",
       "        vertical-align: middle;\n",
       "    }\n",
       "\n",
       "    .dataframe tbody tr th {\n",
       "        vertical-align: top;\n",
       "    }\n",
       "\n",
       "    .dataframe thead th {\n",
       "        text-align: right;\n",
       "    }\n",
       "</style>\n",
       "<table border=\"1\" class=\"dataframe\">\n",
       "  <thead>\n",
       "    <tr style=\"text-align: right;\">\n",
       "      <th></th>\n",
       "      <th>is_test</th>\n",
       "      <th>sum</th>\n",
       "      <th>count</th>\n",
       "      <th>mean</th>\n",
       "      <th>channel_type_NaN</th>\n",
       "      <th>channel_type_type1</th>\n",
       "      <th>channel_type_type2</th>\n",
       "      <th>channel_type_type3</th>\n",
       "      <th>channel_type_type4</th>\n",
       "      <th>channel_type_type5</th>\n",
       "    </tr>\n",
       "    <tr>\n",
       "      <th>cl_id</th>\n",
       "      <th></th>\n",
       "      <th></th>\n",
       "      <th></th>\n",
       "      <th></th>\n",
       "      <th></th>\n",
       "      <th></th>\n",
       "      <th></th>\n",
       "      <th></th>\n",
       "      <th></th>\n",
       "      <th></th>\n",
       "    </tr>\n",
       "  </thead>\n",
       "  <tbody>\n",
       "    <tr>\n",
       "      <th>0</th>\n",
       "      <td>0</td>\n",
       "      <td>64383.000000</td>\n",
       "      <td>5</td>\n",
       "      <td>12876.600000</td>\n",
       "      <td>1</td>\n",
       "      <td>0</td>\n",
       "      <td>0</td>\n",
       "      <td>0</td>\n",
       "      <td>0</td>\n",
       "      <td>0</td>\n",
       "    </tr>\n",
       "    <tr>\n",
       "      <th>1</th>\n",
       "      <td>0</td>\n",
       "      <td>327185.976007</td>\n",
       "      <td>104</td>\n",
       "      <td>3146.019000</td>\n",
       "      <td>1</td>\n",
       "      <td>0</td>\n",
       "      <td>0</td>\n",
       "      <td>0</td>\n",
       "      <td>0</td>\n",
       "      <td>0</td>\n",
       "    </tr>\n",
       "    <tr>\n",
       "      <th>2</th>\n",
       "      <td>1</td>\n",
       "      <td>328717.720000</td>\n",
       "      <td>199</td>\n",
       "      <td>1651.847839</td>\n",
       "      <td>1</td>\n",
       "      <td>0</td>\n",
       "      <td>0</td>\n",
       "      <td>0</td>\n",
       "      <td>0</td>\n",
       "      <td>0</td>\n",
       "    </tr>\n",
       "    <tr>\n",
       "      <th>3</th>\n",
       "      <td>1</td>\n",
       "      <td>270046.090000</td>\n",
       "      <td>96</td>\n",
       "      <td>2812.980104</td>\n",
       "      <td>1</td>\n",
       "      <td>0</td>\n",
       "      <td>0</td>\n",
       "      <td>0</td>\n",
       "      <td>0</td>\n",
       "      <td>0</td>\n",
       "    </tr>\n",
       "    <tr>\n",
       "      <th>4</th>\n",
       "      <td>1</td>\n",
       "      <td>351133.982477</td>\n",
       "      <td>158</td>\n",
       "      <td>2222.366978</td>\n",
       "      <td>1</td>\n",
       "      <td>0</td>\n",
       "      <td>0</td>\n",
       "      <td>0</td>\n",
       "      <td>0</td>\n",
       "      <td>0</td>\n",
       "    </tr>\n",
       "  </tbody>\n",
       "</table>\n",
       "</div>"
      ],
      "text/plain": [
       "       is_test            sum  count          mean  channel_type_NaN  \\\n",
       "cl_id                                                                  \n",
       "0            0   64383.000000      5  12876.600000                 1   \n",
       "1            0  327185.976007    104   3146.019000                 1   \n",
       "2            1  328717.720000    199   1651.847839                 1   \n",
       "3            1  270046.090000     96   2812.980104                 1   \n",
       "4            1  351133.982477    158   2222.366978                 1   \n",
       "\n",
       "       channel_type_type1  channel_type_type2  channel_type_type3  \\\n",
       "cl_id                                                               \n",
       "0                       0                   0                   0   \n",
       "1                       0                   0                   0   \n",
       "2                       0                   0                   0   \n",
       "3                       0                   0                   0   \n",
       "4                       0                   0                   0   \n",
       "\n",
       "       channel_type_type4  channel_type_type5  \n",
       "cl_id                                          \n",
       "0                       0                   0  \n",
       "1                       0                   0  \n",
       "2                       0                   0  \n",
       "3                       0                   0  \n",
       "4                       0                   0  "
      ]
     },
     "execution_count": 191,
     "metadata": {},
     "output_type": "execute_result"
    }
   ],
   "source": [
    "X_full = pd.get_dummies(X_full)\n",
    "X_full.head()"
   ]
  },
  {
   "cell_type": "code",
   "execution_count": 192,
   "metadata": {
    "ExecuteTime": {
     "end_time": "2018-05-28T00:41:50.439072Z",
     "start_time": "2018-05-28T00:41:50.144089Z"
    }
   },
   "outputs": [
    {
     "data": {
      "text/plain": [
       "(10217, 384)"
      ]
     },
     "execution_count": 192,
     "metadata": {},
     "output_type": "execute_result"
    }
   ],
   "source": [
    "df_temp = df.groupby(['cl_id', 'MCC'])['amount_rub'].agg(['sum']).unstack(fill_value=0)\n",
    "df_temp.columns = pd.Index(['_'.join([str(_) for _ in v]) for v in df_temp.columns.values])\n",
    "df_temp.shape"
   ]
  },
  {
   "cell_type": "code",
   "execution_count": 193,
   "metadata": {
    "ExecuteTime": {
     "end_time": "2018-05-28T00:41:50.492877Z",
     "start_time": "2018-05-28T00:41:50.441812Z"
    }
   },
   "outputs": [
    {
     "data": {
      "text/html": [
       "<div>\n",
       "<style scoped>\n",
       "    .dataframe tbody tr th:only-of-type {\n",
       "        vertical-align: middle;\n",
       "    }\n",
       "\n",
       "    .dataframe tbody tr th {\n",
       "        vertical-align: top;\n",
       "    }\n",
       "\n",
       "    .dataframe thead th {\n",
       "        text-align: right;\n",
       "    }\n",
       "</style>\n",
       "<table border=\"1\" class=\"dataframe\">\n",
       "  <thead>\n",
       "    <tr style=\"text-align: right;\">\n",
       "      <th></th>\n",
       "      <th>sum_0742</th>\n",
       "      <th>sum_0763</th>\n",
       "      <th>sum_0780</th>\n",
       "      <th>sum_1520</th>\n",
       "      <th>sum_1711</th>\n",
       "      <th>sum_1731</th>\n",
       "      <th>sum_1740</th>\n",
       "      <th>sum_1750</th>\n",
       "      <th>sum_1761</th>\n",
       "      <th>sum_1799</th>\n",
       "      <th>...</th>\n",
       "      <th>sum_8699</th>\n",
       "      <th>sum_8911</th>\n",
       "      <th>sum_8931</th>\n",
       "      <th>sum_8999</th>\n",
       "      <th>sum_9211</th>\n",
       "      <th>sum_9222</th>\n",
       "      <th>sum_9311</th>\n",
       "      <th>sum_9399</th>\n",
       "      <th>sum_9402</th>\n",
       "      <th>sum_9405</th>\n",
       "    </tr>\n",
       "    <tr>\n",
       "      <th>cl_id</th>\n",
       "      <th></th>\n",
       "      <th></th>\n",
       "      <th></th>\n",
       "      <th></th>\n",
       "      <th></th>\n",
       "      <th></th>\n",
       "      <th></th>\n",
       "      <th></th>\n",
       "      <th></th>\n",
       "      <th></th>\n",
       "      <th></th>\n",
       "      <th></th>\n",
       "      <th></th>\n",
       "      <th></th>\n",
       "      <th></th>\n",
       "      <th></th>\n",
       "      <th></th>\n",
       "      <th></th>\n",
       "      <th></th>\n",
       "      <th></th>\n",
       "      <th></th>\n",
       "    </tr>\n",
       "  </thead>\n",
       "  <tbody>\n",
       "    <tr>\n",
       "      <th>0</th>\n",
       "      <td>0.0</td>\n",
       "      <td>0.0</td>\n",
       "      <td>0.0</td>\n",
       "      <td>0.0</td>\n",
       "      <td>0.0</td>\n",
       "      <td>0.0</td>\n",
       "      <td>0.0</td>\n",
       "      <td>0.0</td>\n",
       "      <td>0.0</td>\n",
       "      <td>0.0</td>\n",
       "      <td>...</td>\n",
       "      <td>0.0</td>\n",
       "      <td>0.0</td>\n",
       "      <td>0.0</td>\n",
       "      <td>0.0</td>\n",
       "      <td>0.0</td>\n",
       "      <td>0.0</td>\n",
       "      <td>0.0</td>\n",
       "      <td>0.0</td>\n",
       "      <td>0.0</td>\n",
       "      <td>0.0</td>\n",
       "    </tr>\n",
       "    <tr>\n",
       "      <th>1</th>\n",
       "      <td>0.0</td>\n",
       "      <td>0.0</td>\n",
       "      <td>0.0</td>\n",
       "      <td>0.0</td>\n",
       "      <td>0.0</td>\n",
       "      <td>0.0</td>\n",
       "      <td>0.0</td>\n",
       "      <td>0.0</td>\n",
       "      <td>0.0</td>\n",
       "      <td>0.0</td>\n",
       "      <td>...</td>\n",
       "      <td>0.0</td>\n",
       "      <td>0.0</td>\n",
       "      <td>0.0</td>\n",
       "      <td>0.0</td>\n",
       "      <td>0.0</td>\n",
       "      <td>0.0</td>\n",
       "      <td>210.0</td>\n",
       "      <td>0.0</td>\n",
       "      <td>0.0</td>\n",
       "      <td>0.0</td>\n",
       "    </tr>\n",
       "    <tr>\n",
       "      <th>2</th>\n",
       "      <td>0.0</td>\n",
       "      <td>0.0</td>\n",
       "      <td>0.0</td>\n",
       "      <td>0.0</td>\n",
       "      <td>0.0</td>\n",
       "      <td>0.0</td>\n",
       "      <td>0.0</td>\n",
       "      <td>0.0</td>\n",
       "      <td>0.0</td>\n",
       "      <td>0.0</td>\n",
       "      <td>...</td>\n",
       "      <td>0.0</td>\n",
       "      <td>0.0</td>\n",
       "      <td>0.0</td>\n",
       "      <td>7844.0</td>\n",
       "      <td>0.0</td>\n",
       "      <td>0.0</td>\n",
       "      <td>0.0</td>\n",
       "      <td>0.0</td>\n",
       "      <td>0.0</td>\n",
       "      <td>0.0</td>\n",
       "    </tr>\n",
       "    <tr>\n",
       "      <th>3</th>\n",
       "      <td>0.0</td>\n",
       "      <td>0.0</td>\n",
       "      <td>0.0</td>\n",
       "      <td>0.0</td>\n",
       "      <td>0.0</td>\n",
       "      <td>0.0</td>\n",
       "      <td>0.0</td>\n",
       "      <td>0.0</td>\n",
       "      <td>0.0</td>\n",
       "      <td>0.0</td>\n",
       "      <td>...</td>\n",
       "      <td>0.0</td>\n",
       "      <td>0.0</td>\n",
       "      <td>0.0</td>\n",
       "      <td>0.0</td>\n",
       "      <td>0.0</td>\n",
       "      <td>0.0</td>\n",
       "      <td>0.0</td>\n",
       "      <td>0.0</td>\n",
       "      <td>0.0</td>\n",
       "      <td>0.0</td>\n",
       "    </tr>\n",
       "    <tr>\n",
       "      <th>4</th>\n",
       "      <td>0.0</td>\n",
       "      <td>0.0</td>\n",
       "      <td>0.0</td>\n",
       "      <td>0.0</td>\n",
       "      <td>0.0</td>\n",
       "      <td>0.0</td>\n",
       "      <td>0.0</td>\n",
       "      <td>0.0</td>\n",
       "      <td>0.0</td>\n",
       "      <td>0.0</td>\n",
       "      <td>...</td>\n",
       "      <td>0.0</td>\n",
       "      <td>0.0</td>\n",
       "      <td>0.0</td>\n",
       "      <td>7811.0</td>\n",
       "      <td>0.0</td>\n",
       "      <td>0.0</td>\n",
       "      <td>0.0</td>\n",
       "      <td>0.0</td>\n",
       "      <td>0.0</td>\n",
       "      <td>0.0</td>\n",
       "    </tr>\n",
       "  </tbody>\n",
       "</table>\n",
       "<p>5 rows × 384 columns</p>\n",
       "</div>"
      ],
      "text/plain": [
       "       sum_0742  sum_0763  sum_0780  sum_1520  sum_1711  sum_1731  sum_1740  \\\n",
       "cl_id                                                                         \n",
       "0           0.0       0.0       0.0       0.0       0.0       0.0       0.0   \n",
       "1           0.0       0.0       0.0       0.0       0.0       0.0       0.0   \n",
       "2           0.0       0.0       0.0       0.0       0.0       0.0       0.0   \n",
       "3           0.0       0.0       0.0       0.0       0.0       0.0       0.0   \n",
       "4           0.0       0.0       0.0       0.0       0.0       0.0       0.0   \n",
       "\n",
       "       sum_1750  sum_1761  sum_1799    ...     sum_8699  sum_8911  sum_8931  \\\n",
       "cl_id                                  ...                                    \n",
       "0           0.0       0.0       0.0    ...          0.0       0.0       0.0   \n",
       "1           0.0       0.0       0.0    ...          0.0       0.0       0.0   \n",
       "2           0.0       0.0       0.0    ...          0.0       0.0       0.0   \n",
       "3           0.0       0.0       0.0    ...          0.0       0.0       0.0   \n",
       "4           0.0       0.0       0.0    ...          0.0       0.0       0.0   \n",
       "\n",
       "       sum_8999  sum_9211  sum_9222  sum_9311  sum_9399  sum_9402  sum_9405  \n",
       "cl_id                                                                        \n",
       "0           0.0       0.0       0.0       0.0       0.0       0.0       0.0  \n",
       "1           0.0       0.0       0.0     210.0       0.0       0.0       0.0  \n",
       "2        7844.0       0.0       0.0       0.0       0.0       0.0       0.0  \n",
       "3           0.0       0.0       0.0       0.0       0.0       0.0       0.0  \n",
       "4        7811.0       0.0       0.0       0.0       0.0       0.0       0.0  \n",
       "\n",
       "[5 rows x 384 columns]"
      ]
     },
     "execution_count": 193,
     "metadata": {},
     "output_type": "execute_result"
    }
   ],
   "source": [
    "df_temp.head()"
   ]
  },
  {
   "cell_type": "code",
   "execution_count": 194,
   "metadata": {
    "ExecuteTime": {
     "end_time": "2018-05-28T00:41:50.582942Z",
     "start_time": "2018-05-28T00:41:50.496377Z"
    }
   },
   "outputs": [
    {
     "data": {
      "text/plain": [
       "(10217, 394)"
      ]
     },
     "execution_count": 194,
     "metadata": {},
     "output_type": "execute_result"
    }
   ],
   "source": [
    "X_full = X_full.join(df_temp, how='left', on='cl_id', rsuffix='mcc')\n",
    "X_full.shape"
   ]
  },
  {
   "cell_type": "code",
   "execution_count": 195,
   "metadata": {
    "ExecuteTime": {
     "end_time": "2018-05-28T00:41:50.588914Z",
     "start_time": "2018-05-28T00:41:50.585475Z"
    }
   },
   "outputs": [],
   "source": [
    "#X_full.isnull().values.any()"
   ]
  },
  {
   "cell_type": "code",
   "execution_count": 196,
   "metadata": {
    "ExecuteTime": {
     "end_time": "2018-05-28T00:41:50.780718Z",
     "start_time": "2018-05-28T00:41:50.593316Z"
    }
   },
   "outputs": [
    {
     "data": {
      "text/html": [
       "<div>\n",
       "<style scoped>\n",
       "    .dataframe tbody tr th:only-of-type {\n",
       "        vertical-align: middle;\n",
       "    }\n",
       "\n",
       "    .dataframe tbody tr th {\n",
       "        vertical-align: top;\n",
       "    }\n",
       "\n",
       "    .dataframe thead th {\n",
       "        text-align: right;\n",
       "    }\n",
       "</style>\n",
       "<table border=\"1\" class=\"dataframe\">\n",
       "  <thead>\n",
       "    <tr style=\"text-align: right;\">\n",
       "      <th></th>\n",
       "      <th>sum_032</th>\n",
       "      <th>sum_036</th>\n",
       "      <th>sum_044</th>\n",
       "      <th>sum_048</th>\n",
       "      <th>sum_051</th>\n",
       "      <th>sum_124</th>\n",
       "      <th>sum_144</th>\n",
       "      <th>sum_156</th>\n",
       "      <th>sum_170</th>\n",
       "      <th>sum_188</th>\n",
       "      <th>...</th>\n",
       "      <th>sum_944</th>\n",
       "      <th>sum_946</th>\n",
       "      <th>sum_949</th>\n",
       "      <th>sum_975</th>\n",
       "      <th>sum_977</th>\n",
       "      <th>sum_978</th>\n",
       "      <th>sum_980</th>\n",
       "      <th>sum_981</th>\n",
       "      <th>sum_985</th>\n",
       "      <th>sum_986</th>\n",
       "    </tr>\n",
       "    <tr>\n",
       "      <th>cl_id</th>\n",
       "      <th></th>\n",
       "      <th></th>\n",
       "      <th></th>\n",
       "      <th></th>\n",
       "      <th></th>\n",
       "      <th></th>\n",
       "      <th></th>\n",
       "      <th></th>\n",
       "      <th></th>\n",
       "      <th></th>\n",
       "      <th></th>\n",
       "      <th></th>\n",
       "      <th></th>\n",
       "      <th></th>\n",
       "      <th></th>\n",
       "      <th></th>\n",
       "      <th></th>\n",
       "      <th></th>\n",
       "      <th></th>\n",
       "      <th></th>\n",
       "      <th></th>\n",
       "    </tr>\n",
       "  </thead>\n",
       "  <tbody>\n",
       "    <tr>\n",
       "      <th>0</th>\n",
       "      <td>0.0</td>\n",
       "      <td>0.0</td>\n",
       "      <td>0.0</td>\n",
       "      <td>0.0</td>\n",
       "      <td>0.0</td>\n",
       "      <td>0.0</td>\n",
       "      <td>0.0</td>\n",
       "      <td>0.0</td>\n",
       "      <td>0.0</td>\n",
       "      <td>0.0</td>\n",
       "      <td>...</td>\n",
       "      <td>0.0</td>\n",
       "      <td>0.0</td>\n",
       "      <td>0.0</td>\n",
       "      <td>0.0</td>\n",
       "      <td>0.0</td>\n",
       "      <td>0.00</td>\n",
       "      <td>0.0</td>\n",
       "      <td>0.00</td>\n",
       "      <td>0.0</td>\n",
       "      <td>0.0</td>\n",
       "    </tr>\n",
       "    <tr>\n",
       "      <th>1</th>\n",
       "      <td>0.0</td>\n",
       "      <td>0.0</td>\n",
       "      <td>0.0</td>\n",
       "      <td>0.0</td>\n",
       "      <td>0.0</td>\n",
       "      <td>0.0</td>\n",
       "      <td>0.0</td>\n",
       "      <td>0.0</td>\n",
       "      <td>0.0</td>\n",
       "      <td>0.0</td>\n",
       "      <td>...</td>\n",
       "      <td>0.0</td>\n",
       "      <td>0.0</td>\n",
       "      <td>0.0</td>\n",
       "      <td>0.0</td>\n",
       "      <td>0.0</td>\n",
       "      <td>884.91</td>\n",
       "      <td>0.0</td>\n",
       "      <td>0.00</td>\n",
       "      <td>0.0</td>\n",
       "      <td>0.0</td>\n",
       "    </tr>\n",
       "    <tr>\n",
       "      <th>2</th>\n",
       "      <td>0.0</td>\n",
       "      <td>0.0</td>\n",
       "      <td>0.0</td>\n",
       "      <td>0.0</td>\n",
       "      <td>0.0</td>\n",
       "      <td>0.0</td>\n",
       "      <td>0.0</td>\n",
       "      <td>0.0</td>\n",
       "      <td>0.0</td>\n",
       "      <td>0.0</td>\n",
       "      <td>...</td>\n",
       "      <td>0.0</td>\n",
       "      <td>0.0</td>\n",
       "      <td>0.0</td>\n",
       "      <td>0.0</td>\n",
       "      <td>0.0</td>\n",
       "      <td>0.00</td>\n",
       "      <td>0.0</td>\n",
       "      <td>0.00</td>\n",
       "      <td>0.0</td>\n",
       "      <td>0.0</td>\n",
       "    </tr>\n",
       "    <tr>\n",
       "      <th>3</th>\n",
       "      <td>0.0</td>\n",
       "      <td>0.0</td>\n",
       "      <td>0.0</td>\n",
       "      <td>0.0</td>\n",
       "      <td>0.0</td>\n",
       "      <td>0.0</td>\n",
       "      <td>0.0</td>\n",
       "      <td>0.0</td>\n",
       "      <td>0.0</td>\n",
       "      <td>0.0</td>\n",
       "      <td>...</td>\n",
       "      <td>0.0</td>\n",
       "      <td>0.0</td>\n",
       "      <td>0.0</td>\n",
       "      <td>0.0</td>\n",
       "      <td>0.0</td>\n",
       "      <td>0.00</td>\n",
       "      <td>0.0</td>\n",
       "      <td>802.68</td>\n",
       "      <td>0.0</td>\n",
       "      <td>0.0</td>\n",
       "    </tr>\n",
       "    <tr>\n",
       "      <th>4</th>\n",
       "      <td>0.0</td>\n",
       "      <td>0.0</td>\n",
       "      <td>0.0</td>\n",
       "      <td>0.0</td>\n",
       "      <td>0.0</td>\n",
       "      <td>0.0</td>\n",
       "      <td>0.0</td>\n",
       "      <td>0.0</td>\n",
       "      <td>0.0</td>\n",
       "      <td>0.0</td>\n",
       "      <td>...</td>\n",
       "      <td>0.0</td>\n",
       "      <td>0.0</td>\n",
       "      <td>0.0</td>\n",
       "      <td>0.0</td>\n",
       "      <td>0.0</td>\n",
       "      <td>186.23</td>\n",
       "      <td>0.0</td>\n",
       "      <td>0.00</td>\n",
       "      <td>0.0</td>\n",
       "      <td>0.0</td>\n",
       "    </tr>\n",
       "  </tbody>\n",
       "</table>\n",
       "<p>5 rows × 67 columns</p>\n",
       "</div>"
      ],
      "text/plain": [
       "       sum_032  sum_036  sum_044  sum_048  sum_051  sum_124  sum_144  sum_156  \\\n",
       "cl_id                                                                           \n",
       "0          0.0      0.0      0.0      0.0      0.0      0.0      0.0      0.0   \n",
       "1          0.0      0.0      0.0      0.0      0.0      0.0      0.0      0.0   \n",
       "2          0.0      0.0      0.0      0.0      0.0      0.0      0.0      0.0   \n",
       "3          0.0      0.0      0.0      0.0      0.0      0.0      0.0      0.0   \n",
       "4          0.0      0.0      0.0      0.0      0.0      0.0      0.0      0.0   \n",
       "\n",
       "       sum_170  sum_188   ...     sum_944  sum_946  sum_949  sum_975  sum_977  \\\n",
       "cl_id                     ...                                                   \n",
       "0          0.0      0.0   ...         0.0      0.0      0.0      0.0      0.0   \n",
       "1          0.0      0.0   ...         0.0      0.0      0.0      0.0      0.0   \n",
       "2          0.0      0.0   ...         0.0      0.0      0.0      0.0      0.0   \n",
       "3          0.0      0.0   ...         0.0      0.0      0.0      0.0      0.0   \n",
       "4          0.0      0.0   ...         0.0      0.0      0.0      0.0      0.0   \n",
       "\n",
       "       sum_978  sum_980  sum_981  sum_985  sum_986  \n",
       "cl_id                                               \n",
       "0         0.00      0.0     0.00      0.0      0.0  \n",
       "1       884.91      0.0     0.00      0.0      0.0  \n",
       "2         0.00      0.0     0.00      0.0      0.0  \n",
       "3         0.00      0.0   802.68      0.0      0.0  \n",
       "4       186.23      0.0     0.00      0.0      0.0  \n",
       "\n",
       "[5 rows x 67 columns]"
      ]
     },
     "execution_count": 196,
     "metadata": {},
     "output_type": "execute_result"
    }
   ],
   "source": [
    "df_temp = df.groupby(['cl_id', 'currency'])['amount'].agg(['sum']).unstack(fill_value=0)\n",
    "df_temp.columns = pd.Index(['_'.join([str(_) for _ in v]) for v in df_temp.columns.values])\n",
    "df_temp.head()"
   ]
  },
  {
   "cell_type": "code",
   "execution_count": 197,
   "metadata": {
    "ExecuteTime": {
     "end_time": "2018-05-28T00:41:50.809545Z",
     "start_time": "2018-05-28T00:41:50.783453Z"
    }
   },
   "outputs": [
    {
     "data": {
      "text/plain": [
       "(10217, 461)"
      ]
     },
     "execution_count": 197,
     "metadata": {},
     "output_type": "execute_result"
    }
   ],
   "source": [
    "X_full = X_full.join(df_temp, how='left', on='cl_id', rsuffix='curr')\n",
    "X_full.shape"
   ]
  },
  {
   "cell_type": "code",
   "execution_count": 198,
   "metadata": {
    "ExecuteTime": {
     "end_time": "2018-05-28T00:41:50.815212Z",
     "start_time": "2018-05-28T00:41:50.812001Z"
    }
   },
   "outputs": [],
   "source": [
    "#X_full.isnull().values.any()"
   ]
  },
  {
   "cell_type": "code",
   "execution_count": 199,
   "metadata": {
    "ExecuteTime": {
     "end_time": "2018-05-28T00:41:51.094154Z",
     "start_time": "2018-05-28T00:41:50.817593Z"
    }
   },
   "outputs": [
    {
     "data": {
      "text/html": [
       "<div>\n",
       "<style scoped>\n",
       "    .dataframe tbody tr th:only-of-type {\n",
       "        vertical-align: middle;\n",
       "    }\n",
       "\n",
       "    .dataframe tbody tr th {\n",
       "        vertical-align: top;\n",
       "    }\n",
       "\n",
       "    .dataframe thead th {\n",
       "        text-align: right;\n",
       "    }\n",
       "</style>\n",
       "<table border=\"1\" class=\"dataframe\">\n",
       "  <thead>\n",
       "    <tr style=\"text-align: right;\">\n",
       "      <th></th>\n",
       "      <th>sum_BACK_TRX</th>\n",
       "      <th>sum_C2C_IN</th>\n",
       "      <th>sum_C2C_OUT</th>\n",
       "      <th>sum_CASH_ADV</th>\n",
       "      <th>sum_CAT</th>\n",
       "      <th>sum_DEPOSIT</th>\n",
       "      <th>sum_POS</th>\n",
       "      <th>sum_WD_ATM_OTHER</th>\n",
       "      <th>sum_WD_ATM_PARTNER</th>\n",
       "      <th>sum_WD_ATM_ROS</th>\n",
       "      <th>...</th>\n",
       "      <th>mean_BACK_TRX</th>\n",
       "      <th>mean_C2C_IN</th>\n",
       "      <th>mean_C2C_OUT</th>\n",
       "      <th>mean_CASH_ADV</th>\n",
       "      <th>mean_CAT</th>\n",
       "      <th>mean_DEPOSIT</th>\n",
       "      <th>mean_POS</th>\n",
       "      <th>mean_WD_ATM_OTHER</th>\n",
       "      <th>mean_WD_ATM_PARTNER</th>\n",
       "      <th>mean_WD_ATM_ROS</th>\n",
       "    </tr>\n",
       "    <tr>\n",
       "      <th>cl_id</th>\n",
       "      <th></th>\n",
       "      <th></th>\n",
       "      <th></th>\n",
       "      <th></th>\n",
       "      <th></th>\n",
       "      <th></th>\n",
       "      <th></th>\n",
       "      <th></th>\n",
       "      <th></th>\n",
       "      <th></th>\n",
       "      <th></th>\n",
       "      <th></th>\n",
       "      <th></th>\n",
       "      <th></th>\n",
       "      <th></th>\n",
       "      <th></th>\n",
       "      <th></th>\n",
       "      <th></th>\n",
       "      <th></th>\n",
       "      <th></th>\n",
       "      <th></th>\n",
       "    </tr>\n",
       "  </thead>\n",
       "  <tbody>\n",
       "    <tr>\n",
       "      <th>0</th>\n",
       "      <td>0.0</td>\n",
       "      <td>0.0</td>\n",
       "      <td>36562.0</td>\n",
       "      <td>0.0</td>\n",
       "      <td>0.0</td>\n",
       "      <td>20000.0</td>\n",
       "      <td>7821.000000</td>\n",
       "      <td>0.0</td>\n",
       "      <td>0.0</td>\n",
       "      <td>0.0</td>\n",
       "      <td>...</td>\n",
       "      <td>0.0</td>\n",
       "      <td>0.0</td>\n",
       "      <td>36562.0</td>\n",
       "      <td>0.0</td>\n",
       "      <td>0.0</td>\n",
       "      <td>20000.0</td>\n",
       "      <td>2607.000000</td>\n",
       "      <td>0.0</td>\n",
       "      <td>0.000000</td>\n",
       "      <td>0.000000</td>\n",
       "    </tr>\n",
       "    <tr>\n",
       "      <th>1</th>\n",
       "      <td>0.0</td>\n",
       "      <td>0.0</td>\n",
       "      <td>0.0</td>\n",
       "      <td>0.0</td>\n",
       "      <td>0.0</td>\n",
       "      <td>95000.0</td>\n",
       "      <td>182185.976007</td>\n",
       "      <td>0.0</td>\n",
       "      <td>0.0</td>\n",
       "      <td>50000.0</td>\n",
       "      <td>...</td>\n",
       "      <td>0.0</td>\n",
       "      <td>0.0</td>\n",
       "      <td>0.0</td>\n",
       "      <td>0.0</td>\n",
       "      <td>0.0</td>\n",
       "      <td>47500.0</td>\n",
       "      <td>1803.821545</td>\n",
       "      <td>0.0</td>\n",
       "      <td>0.000000</td>\n",
       "      <td>50000.000000</td>\n",
       "    </tr>\n",
       "    <tr>\n",
       "      <th>2</th>\n",
       "      <td>4440.0</td>\n",
       "      <td>300.0</td>\n",
       "      <td>1000.0</td>\n",
       "      <td>0.0</td>\n",
       "      <td>0.0</td>\n",
       "      <td>0.0</td>\n",
       "      <td>189077.720000</td>\n",
       "      <td>0.0</td>\n",
       "      <td>78500.0</td>\n",
       "      <td>55400.0</td>\n",
       "      <td>...</td>\n",
       "      <td>2220.0</td>\n",
       "      <td>300.0</td>\n",
       "      <td>1000.0</td>\n",
       "      <td>0.0</td>\n",
       "      <td>0.0</td>\n",
       "      <td>0.0</td>\n",
       "      <td>1080.444114</td>\n",
       "      <td>0.0</td>\n",
       "      <td>7136.363636</td>\n",
       "      <td>6155.555556</td>\n",
       "    </tr>\n",
       "    <tr>\n",
       "      <th>3</th>\n",
       "      <td>0.0</td>\n",
       "      <td>75000.0</td>\n",
       "      <td>35000.0</td>\n",
       "      <td>0.0</td>\n",
       "      <td>0.0</td>\n",
       "      <td>0.0</td>\n",
       "      <td>115646.090000</td>\n",
       "      <td>9500.0</td>\n",
       "      <td>0.0</td>\n",
       "      <td>34900.0</td>\n",
       "      <td>...</td>\n",
       "      <td>0.0</td>\n",
       "      <td>37500.0</td>\n",
       "      <td>17500.0</td>\n",
       "      <td>0.0</td>\n",
       "      <td>0.0</td>\n",
       "      <td>0.0</td>\n",
       "      <td>1482.642179</td>\n",
       "      <td>2375.0</td>\n",
       "      <td>0.000000</td>\n",
       "      <td>3490.000000</td>\n",
       "    </tr>\n",
       "    <tr>\n",
       "      <th>4</th>\n",
       "      <td>0.0</td>\n",
       "      <td>0.0</td>\n",
       "      <td>1150.0</td>\n",
       "      <td>0.0</td>\n",
       "      <td>0.0</td>\n",
       "      <td>0.0</td>\n",
       "      <td>298183.982477</td>\n",
       "      <td>0.0</td>\n",
       "      <td>30500.0</td>\n",
       "      <td>21300.0</td>\n",
       "      <td>...</td>\n",
       "      <td>0.0</td>\n",
       "      <td>0.0</td>\n",
       "      <td>575.0</td>\n",
       "      <td>0.0</td>\n",
       "      <td>0.0</td>\n",
       "      <td>0.0</td>\n",
       "      <td>2042.356044</td>\n",
       "      <td>0.0</td>\n",
       "      <td>5083.333333</td>\n",
       "      <td>5325.000000</td>\n",
       "    </tr>\n",
       "  </tbody>\n",
       "</table>\n",
       "<p>5 rows × 30 columns</p>\n",
       "</div>"
      ],
      "text/plain": [
       "       sum_BACK_TRX  sum_C2C_IN  sum_C2C_OUT  sum_CASH_ADV  sum_CAT  \\\n",
       "cl_id                                                                 \n",
       "0               0.0         0.0      36562.0           0.0      0.0   \n",
       "1               0.0         0.0          0.0           0.0      0.0   \n",
       "2            4440.0       300.0       1000.0           0.0      0.0   \n",
       "3               0.0     75000.0      35000.0           0.0      0.0   \n",
       "4               0.0         0.0       1150.0           0.0      0.0   \n",
       "\n",
       "       sum_DEPOSIT        sum_POS  sum_WD_ATM_OTHER  sum_WD_ATM_PARTNER  \\\n",
       "cl_id                                                                     \n",
       "0          20000.0    7821.000000               0.0                 0.0   \n",
       "1          95000.0  182185.976007               0.0                 0.0   \n",
       "2              0.0  189077.720000               0.0             78500.0   \n",
       "3              0.0  115646.090000            9500.0                 0.0   \n",
       "4              0.0  298183.982477               0.0             30500.0   \n",
       "\n",
       "       sum_WD_ATM_ROS       ...         mean_BACK_TRX  mean_C2C_IN  \\\n",
       "cl_id                       ...                                      \n",
       "0                 0.0       ...                   0.0          0.0   \n",
       "1             50000.0       ...                   0.0          0.0   \n",
       "2             55400.0       ...                2220.0        300.0   \n",
       "3             34900.0       ...                   0.0      37500.0   \n",
       "4             21300.0       ...                   0.0          0.0   \n",
       "\n",
       "       mean_C2C_OUT  mean_CASH_ADV  mean_CAT  mean_DEPOSIT     mean_POS  \\\n",
       "cl_id                                                                     \n",
       "0           36562.0            0.0       0.0       20000.0  2607.000000   \n",
       "1               0.0            0.0       0.0       47500.0  1803.821545   \n",
       "2            1000.0            0.0       0.0           0.0  1080.444114   \n",
       "3           17500.0            0.0       0.0           0.0  1482.642179   \n",
       "4             575.0            0.0       0.0           0.0  2042.356044   \n",
       "\n",
       "       mean_WD_ATM_OTHER  mean_WD_ATM_PARTNER  mean_WD_ATM_ROS  \n",
       "cl_id                                                           \n",
       "0                    0.0             0.000000         0.000000  \n",
       "1                    0.0             0.000000     50000.000000  \n",
       "2                    0.0          7136.363636      6155.555556  \n",
       "3                 2375.0             0.000000      3490.000000  \n",
       "4                    0.0          5083.333333      5325.000000  \n",
       "\n",
       "[5 rows x 30 columns]"
      ]
     },
     "execution_count": 199,
     "metadata": {},
     "output_type": "execute_result"
    }
   ],
   "source": [
    "df_temp = df.groupby(['cl_id', 'trx_category'])['amount_rub'].agg(['sum','count','mean']).unstack(fill_value=0)\n",
    "df_temp.columns = pd.Index(['_'.join([str(_) for _ in v]) for v in df_temp.columns.values])\n",
    "df_temp.head()"
   ]
  },
  {
   "cell_type": "code",
   "execution_count": 200,
   "metadata": {
    "ExecuteTime": {
     "end_time": "2018-05-28T00:41:51.130842Z",
     "start_time": "2018-05-28T00:41:51.096939Z"
    }
   },
   "outputs": [
    {
     "data": {
      "text/plain": [
       "(10217, 491)"
      ]
     },
     "execution_count": 200,
     "metadata": {},
     "output_type": "execute_result"
    }
   ],
   "source": [
    "X_full = X_full.join(df_temp, how='left', on='cl_id')\n",
    "X_full.shape"
   ]
  },
  {
   "cell_type": "code",
   "execution_count": 201,
   "metadata": {
    "ExecuteTime": {
     "end_time": "2018-05-28T00:41:51.143246Z",
     "start_time": "2018-05-28T00:41:51.134556Z"
    }
   },
   "outputs": [],
   "source": [
    "#X_full.isnull().values.any()"
   ]
  },
  {
   "cell_type": "code",
   "execution_count": 202,
   "metadata": {
    "ExecuteTime": {
     "end_time": "2018-05-28T00:41:51.553617Z",
     "start_time": "2018-05-28T00:41:51.146794Z"
    }
   },
   "outputs": [
    {
     "data": {
      "text/html": [
       "<div>\n",
       "<style scoped>\n",
       "    .dataframe tbody tr th:only-of-type {\n",
       "        vertical-align: middle;\n",
       "    }\n",
       "\n",
       "    .dataframe tbody tr th {\n",
       "        vertical-align: top;\n",
       "    }\n",
       "\n",
       "    .dataframe thead th {\n",
       "        text-align: right;\n",
       "    }\n",
       "</style>\n",
       "<table border=\"1\" class=\"dataframe\">\n",
       "  <thead>\n",
       "    <tr style=\"text-align: right;\">\n",
       "      <th></th>\n",
       "      <th>sum_Nan</th>\n",
       "      <th>sum_Авиалинии_авиакомпании</th>\n",
       "      <th>sum_Автомобили итранспортныесредства</th>\n",
       "      <th>sum_Арендаавтомобилей</th>\n",
       "      <th>sum_Бизнес услуги</th>\n",
       "      <th>sum_Государственныеуслуги</th>\n",
       "      <th>sum_Коммунальные икабельные услуги</th>\n",
       "      <th>sum_Контрактныеуслуги</th>\n",
       "      <th>sum_Личные услуги</th>\n",
       "      <th>sum_Магазины одежды</th>\n",
       "      <th>...</th>\n",
       "      <th>mean_Отели и мотели</th>\n",
       "      <th>mean_Поставщик услуг</th>\n",
       "      <th>mean_Продажи по почте/телефону</th>\n",
       "      <th>mean_Профессиональныеуслуги</th>\n",
       "      <th>mean_Развлечения</th>\n",
       "      <th>mean_Различныемагазины</th>\n",
       "      <th>mean_Ремонтные услуги</th>\n",
       "      <th>mean_Розничныемагазины</th>\n",
       "      <th>mean_Транспорт</th>\n",
       "      <th>mean_Членскиеорганизации</th>\n",
       "    </tr>\n",
       "    <tr>\n",
       "      <th>cl_id</th>\n",
       "      <th></th>\n",
       "      <th></th>\n",
       "      <th></th>\n",
       "      <th></th>\n",
       "      <th></th>\n",
       "      <th></th>\n",
       "      <th></th>\n",
       "      <th></th>\n",
       "      <th></th>\n",
       "      <th></th>\n",
       "      <th></th>\n",
       "      <th></th>\n",
       "      <th></th>\n",
       "      <th></th>\n",
       "      <th></th>\n",
       "      <th></th>\n",
       "      <th></th>\n",
       "      <th></th>\n",
       "      <th></th>\n",
       "      <th></th>\n",
       "      <th></th>\n",
       "    </tr>\n",
       "  </thead>\n",
       "  <tbody>\n",
       "    <tr>\n",
       "      <th>0</th>\n",
       "      <td>0.0</td>\n",
       "      <td>0.0</td>\n",
       "      <td>0.00</td>\n",
       "      <td>0.0</td>\n",
       "      <td>0.000</td>\n",
       "      <td>0.0</td>\n",
       "      <td>0.0</td>\n",
       "      <td>0.0</td>\n",
       "      <td>0.0</td>\n",
       "      <td>0.000000</td>\n",
       "      <td>...</td>\n",
       "      <td>0.0</td>\n",
       "      <td>28281.000000</td>\n",
       "      <td>0.0</td>\n",
       "      <td>0.0</td>\n",
       "      <td>0.000000</td>\n",
       "      <td>767.000000</td>\n",
       "      <td>0.0</td>\n",
       "      <td>3527.000000</td>\n",
       "      <td>0.000000</td>\n",
       "      <td>0.0</td>\n",
       "    </tr>\n",
       "    <tr>\n",
       "      <th>1</th>\n",
       "      <td>0.0</td>\n",
       "      <td>0.0</td>\n",
       "      <td>0.00</td>\n",
       "      <td>0.0</td>\n",
       "      <td>2037.228</td>\n",
       "      <td>210.0</td>\n",
       "      <td>0.0</td>\n",
       "      <td>0.0</td>\n",
       "      <td>0.0</td>\n",
       "      <td>10586.019844</td>\n",
       "      <td>...</td>\n",
       "      <td>0.0</td>\n",
       "      <td>36455.344900</td>\n",
       "      <td>0.0</td>\n",
       "      <td>0.0</td>\n",
       "      <td>2031.613483</td>\n",
       "      <td>1861.809015</td>\n",
       "      <td>0.0</td>\n",
       "      <td>1500.711419</td>\n",
       "      <td>1752.182665</td>\n",
       "      <td>0.0</td>\n",
       "    </tr>\n",
       "    <tr>\n",
       "      <th>2</th>\n",
       "      <td>0.0</td>\n",
       "      <td>6000.0</td>\n",
       "      <td>307.90</td>\n",
       "      <td>0.0</td>\n",
       "      <td>7844.000</td>\n",
       "      <td>0.0</td>\n",
       "      <td>11429.0</td>\n",
       "      <td>0.0</td>\n",
       "      <td>15334.0</td>\n",
       "      <td>35165.000000</td>\n",
       "      <td>...</td>\n",
       "      <td>975.0</td>\n",
       "      <td>6008.695652</td>\n",
       "      <td>0.0</td>\n",
       "      <td>0.0</td>\n",
       "      <td>995.000000</td>\n",
       "      <td>858.360536</td>\n",
       "      <td>0.0</td>\n",
       "      <td>292.648889</td>\n",
       "      <td>695.542857</td>\n",
       "      <td>0.0</td>\n",
       "    </tr>\n",
       "    <tr>\n",
       "      <th>3</th>\n",
       "      <td>0.0</td>\n",
       "      <td>0.0</td>\n",
       "      <td>0.00</td>\n",
       "      <td>0.0</td>\n",
       "      <td>0.000</td>\n",
       "      <td>0.0</td>\n",
       "      <td>0.0</td>\n",
       "      <td>0.0</td>\n",
       "      <td>911.4</td>\n",
       "      <td>45053.730000</td>\n",
       "      <td>...</td>\n",
       "      <td>0.0</td>\n",
       "      <td>8577.777778</td>\n",
       "      <td>0.0</td>\n",
       "      <td>0.0</td>\n",
       "      <td>0.000000</td>\n",
       "      <td>998.258980</td>\n",
       "      <td>0.0</td>\n",
       "      <td>1098.174615</td>\n",
       "      <td>2163.333333</td>\n",
       "      <td>0.0</td>\n",
       "    </tr>\n",
       "    <tr>\n",
       "      <th>4</th>\n",
       "      <td>0.0</td>\n",
       "      <td>0.0</td>\n",
       "      <td>6007.94</td>\n",
       "      <td>0.0</td>\n",
       "      <td>8111.000</td>\n",
       "      <td>0.0</td>\n",
       "      <td>749.0</td>\n",
       "      <td>0.0</td>\n",
       "      <td>0.0</td>\n",
       "      <td>7072.500000</td>\n",
       "      <td>...</td>\n",
       "      <td>0.0</td>\n",
       "      <td>4412.500000</td>\n",
       "      <td>0.0</td>\n",
       "      <td>3000.0</td>\n",
       "      <td>3350.000000</td>\n",
       "      <td>858.079740</td>\n",
       "      <td>0.0</td>\n",
       "      <td>6753.349615</td>\n",
       "      <td>0.000000</td>\n",
       "      <td>0.0</td>\n",
       "    </tr>\n",
       "  </tbody>\n",
       "</table>\n",
       "<p>5 rows × 63 columns</p>\n",
       "</div>"
      ],
      "text/plain": [
       "       sum_Nan  sum_Авиалинии_авиакомпании  \\\n",
       "cl_id                                        \n",
       "0          0.0                         0.0   \n",
       "1          0.0                         0.0   \n",
       "2          0.0                      6000.0   \n",
       "3          0.0                         0.0   \n",
       "4          0.0                         0.0   \n",
       "\n",
       "       sum_Автомобили итранспортныесредства  sum_Арендаавтомобилей  \\\n",
       "cl_id                                                                \n",
       "0                                      0.00                    0.0   \n",
       "1                                      0.00                    0.0   \n",
       "2                                    307.90                    0.0   \n",
       "3                                      0.00                    0.0   \n",
       "4                                   6007.94                    0.0   \n",
       "\n",
       "       sum_Бизнес услуги  sum_Государственныеуслуги  \\\n",
       "cl_id                                                 \n",
       "0                  0.000                        0.0   \n",
       "1               2037.228                      210.0   \n",
       "2               7844.000                        0.0   \n",
       "3                  0.000                        0.0   \n",
       "4               8111.000                        0.0   \n",
       "\n",
       "       sum_Коммунальные икабельные услуги  sum_Контрактныеуслуги  \\\n",
       "cl_id                                                              \n",
       "0                                     0.0                    0.0   \n",
       "1                                     0.0                    0.0   \n",
       "2                                 11429.0                    0.0   \n",
       "3                                     0.0                    0.0   \n",
       "4                                   749.0                    0.0   \n",
       "\n",
       "       sum_Личные услуги  sum_Магазины одежды            ...             \\\n",
       "cl_id                                                    ...              \n",
       "0                    0.0             0.000000            ...              \n",
       "1                    0.0         10586.019844            ...              \n",
       "2                15334.0         35165.000000            ...              \n",
       "3                  911.4         45053.730000            ...              \n",
       "4                    0.0          7072.500000            ...              \n",
       "\n",
       "       mean_Отели и мотели  mean_Поставщик услуг  \\\n",
       "cl_id                                              \n",
       "0                      0.0          28281.000000   \n",
       "1                      0.0          36455.344900   \n",
       "2                    975.0           6008.695652   \n",
       "3                      0.0           8577.777778   \n",
       "4                      0.0           4412.500000   \n",
       "\n",
       "       mean_Продажи по почте/телефону  mean_Профессиональныеуслуги  \\\n",
       "cl_id                                                                \n",
       "0                                 0.0                          0.0   \n",
       "1                                 0.0                          0.0   \n",
       "2                                 0.0                          0.0   \n",
       "3                                 0.0                          0.0   \n",
       "4                                 0.0                       3000.0   \n",
       "\n",
       "       mean_Развлечения  mean_Различныемагазины  mean_Ремонтные услуги  \\\n",
       "cl_id                                                                    \n",
       "0              0.000000              767.000000                    0.0   \n",
       "1           2031.613483             1861.809015                    0.0   \n",
       "2            995.000000              858.360536                    0.0   \n",
       "3              0.000000              998.258980                    0.0   \n",
       "4           3350.000000              858.079740                    0.0   \n",
       "\n",
       "       mean_Розничныемагазины  mean_Транспорт  mean_Членскиеорганизации  \n",
       "cl_id                                                                    \n",
       "0                 3527.000000        0.000000                       0.0  \n",
       "1                 1500.711419     1752.182665                       0.0  \n",
       "2                  292.648889      695.542857                       0.0  \n",
       "3                 1098.174615     2163.333333                       0.0  \n",
       "4                 6753.349615        0.000000                       0.0  \n",
       "\n",
       "[5 rows x 63 columns]"
      ]
     },
     "execution_count": 202,
     "metadata": {},
     "output_type": "execute_result"
    }
   ],
   "source": [
    "df_temp = df.groupby(['cl_id', 'MCC_group'])['amount_rub'].agg(['sum','count','mean']).unstack(fill_value=0)\n",
    "df_temp.columns = pd.Index(['_'.join([str(_) for _ in v]) for v in df_temp.columns.values])\n",
    "df_temp.head()"
   ]
  },
  {
   "cell_type": "code",
   "execution_count": 203,
   "metadata": {
    "ExecuteTime": {
     "end_time": "2018-05-28T00:41:51.583943Z",
     "start_time": "2018-05-28T00:41:51.557375Z"
    }
   },
   "outputs": [
    {
     "data": {
      "text/plain": [
       "(10217, 554)"
      ]
     },
     "execution_count": 203,
     "metadata": {},
     "output_type": "execute_result"
    }
   ],
   "source": [
    "X_full = X_full.join(df_temp, how='left', on='cl_id')\n",
    "X_full.shape"
   ]
  },
  {
   "cell_type": "code",
   "execution_count": 204,
   "metadata": {
    "ExecuteTime": {
     "end_time": "2018-05-28T00:41:51.591858Z",
     "start_time": "2018-05-28T00:41:51.587608Z"
    }
   },
   "outputs": [],
   "source": [
    "#X_full.isnull().values.any()"
   ]
  },
  {
   "cell_type": "code",
   "execution_count": 205,
   "metadata": {
    "ExecuteTime": {
     "end_time": "2018-05-28T00:41:51.879788Z",
     "start_time": "2018-05-28T00:41:51.595921Z"
    }
   },
   "outputs": [
    {
     "data": {
      "text/html": [
       "<div>\n",
       "<style scoped>\n",
       "    .dataframe tbody tr th:only-of-type {\n",
       "        vertical-align: middle;\n",
       "    }\n",
       "\n",
       "    .dataframe tbody tr th {\n",
       "        vertical-align: top;\n",
       "    }\n",
       "\n",
       "    .dataframe thead th {\n",
       "        text-align: right;\n",
       "    }\n",
       "</style>\n",
       "<table border=\"1\" class=\"dataframe\">\n",
       "  <thead>\n",
       "    <tr style=\"text-align: right;\">\n",
       "      <th></th>\n",
       "      <th>sum_0</th>\n",
       "      <th>sum_1</th>\n",
       "      <th>sum_2</th>\n",
       "      <th>sum_3</th>\n",
       "      <th>sum_4</th>\n",
       "      <th>sum_5</th>\n",
       "      <th>sum_6</th>\n",
       "      <th>count_0</th>\n",
       "      <th>count_1</th>\n",
       "      <th>count_2</th>\n",
       "      <th>...</th>\n",
       "      <th>count_4</th>\n",
       "      <th>count_5</th>\n",
       "      <th>count_6</th>\n",
       "      <th>mean_0</th>\n",
       "      <th>mean_1</th>\n",
       "      <th>mean_2</th>\n",
       "      <th>mean_3</th>\n",
       "      <th>mean_4</th>\n",
       "      <th>mean_5</th>\n",
       "      <th>mean_6</th>\n",
       "    </tr>\n",
       "    <tr>\n",
       "      <th>cl_id</th>\n",
       "      <th></th>\n",
       "      <th></th>\n",
       "      <th></th>\n",
       "      <th></th>\n",
       "      <th></th>\n",
       "      <th></th>\n",
       "      <th></th>\n",
       "      <th></th>\n",
       "      <th></th>\n",
       "      <th></th>\n",
       "      <th></th>\n",
       "      <th></th>\n",
       "      <th></th>\n",
       "      <th></th>\n",
       "      <th></th>\n",
       "      <th></th>\n",
       "      <th></th>\n",
       "      <th></th>\n",
       "      <th></th>\n",
       "      <th></th>\n",
       "      <th></th>\n",
       "    </tr>\n",
       "  </thead>\n",
       "  <tbody>\n",
       "    <tr>\n",
       "      <th>0</th>\n",
       "      <td>0.00000</td>\n",
       "      <td>37329.000000</td>\n",
       "      <td>0.00000</td>\n",
       "      <td>20000.000000</td>\n",
       "      <td>0.000000</td>\n",
       "      <td>7054.000000</td>\n",
       "      <td>0.0000</td>\n",
       "      <td>0</td>\n",
       "      <td>2</td>\n",
       "      <td>0</td>\n",
       "      <td>...</td>\n",
       "      <td>0</td>\n",
       "      <td>2</td>\n",
       "      <td>0</td>\n",
       "      <td>0.000000</td>\n",
       "      <td>18664.500000</td>\n",
       "      <td>0.000000</td>\n",
       "      <td>20000.000000</td>\n",
       "      <td>0.000000</td>\n",
       "      <td>3527.000000</td>\n",
       "      <td>0.000000</td>\n",
       "    </tr>\n",
       "    <tr>\n",
       "      <th>1</th>\n",
       "      <td>23183.66944</td>\n",
       "      <td>71007.367213</td>\n",
       "      <td>8965.73065</td>\n",
       "      <td>13704.280704</td>\n",
       "      <td>20570.289743</td>\n",
       "      <td>82352.388557</td>\n",
       "      <td>107402.2497</td>\n",
       "      <td>20</td>\n",
       "      <td>20</td>\n",
       "      <td>16</td>\n",
       "      <td>...</td>\n",
       "      <td>10</td>\n",
       "      <td>15</td>\n",
       "      <td>7</td>\n",
       "      <td>1159.183472</td>\n",
       "      <td>3550.368361</td>\n",
       "      <td>560.358166</td>\n",
       "      <td>856.517544</td>\n",
       "      <td>2057.028974</td>\n",
       "      <td>5490.159237</td>\n",
       "      <td>15343.178529</td>\n",
       "    </tr>\n",
       "    <tr>\n",
       "      <th>2</th>\n",
       "      <td>44580.21000</td>\n",
       "      <td>82033.300000</td>\n",
       "      <td>39448.36000</td>\n",
       "      <td>44534.750000</td>\n",
       "      <td>58713.000000</td>\n",
       "      <td>32823.400000</td>\n",
       "      <td>26584.7000</td>\n",
       "      <td>32</td>\n",
       "      <td>41</td>\n",
       "      <td>29</td>\n",
       "      <td>...</td>\n",
       "      <td>37</td>\n",
       "      <td>15</td>\n",
       "      <td>8</td>\n",
       "      <td>1393.131562</td>\n",
       "      <td>2000.812195</td>\n",
       "      <td>1360.288276</td>\n",
       "      <td>1203.641892</td>\n",
       "      <td>1586.837838</td>\n",
       "      <td>2188.226667</td>\n",
       "      <td>3323.087500</td>\n",
       "    </tr>\n",
       "    <tr>\n",
       "      <th>3</th>\n",
       "      <td>46694.00000</td>\n",
       "      <td>18736.790000</td>\n",
       "      <td>30971.19000</td>\n",
       "      <td>46386.380000</td>\n",
       "      <td>82359.000000</td>\n",
       "      <td>30807.000000</td>\n",
       "      <td>14091.7300</td>\n",
       "      <td>17</td>\n",
       "      <td>14</td>\n",
       "      <td>16</td>\n",
       "      <td>...</td>\n",
       "      <td>15</td>\n",
       "      <td>9</td>\n",
       "      <td>8</td>\n",
       "      <td>2746.705882</td>\n",
       "      <td>1338.342143</td>\n",
       "      <td>1935.699375</td>\n",
       "      <td>2728.610588</td>\n",
       "      <td>5490.600000</td>\n",
       "      <td>3423.000000</td>\n",
       "      <td>1761.466250</td>\n",
       "    </tr>\n",
       "    <tr>\n",
       "      <th>4</th>\n",
       "      <td>21565.00000</td>\n",
       "      <td>28364.580000</td>\n",
       "      <td>6272.98000</td>\n",
       "      <td>27184.602477</td>\n",
       "      <td>151919.500000</td>\n",
       "      <td>84055.110000</td>\n",
       "      <td>31772.2100</td>\n",
       "      <td>17</td>\n",
       "      <td>8</td>\n",
       "      <td>12</td>\n",
       "      <td>...</td>\n",
       "      <td>28</td>\n",
       "      <td>49</td>\n",
       "      <td>22</td>\n",
       "      <td>1268.529412</td>\n",
       "      <td>3545.572500</td>\n",
       "      <td>522.748333</td>\n",
       "      <td>1235.663749</td>\n",
       "      <td>5425.696429</td>\n",
       "      <td>1715.410408</td>\n",
       "      <td>1444.191364</td>\n",
       "    </tr>\n",
       "  </tbody>\n",
       "</table>\n",
       "<p>5 rows × 21 columns</p>\n",
       "</div>"
      ],
      "text/plain": [
       "             sum_0         sum_1        sum_2         sum_3          sum_4  \\\n",
       "cl_id                                                                        \n",
       "0          0.00000  37329.000000      0.00000  20000.000000       0.000000   \n",
       "1      23183.66944  71007.367213   8965.73065  13704.280704   20570.289743   \n",
       "2      44580.21000  82033.300000  39448.36000  44534.750000   58713.000000   \n",
       "3      46694.00000  18736.790000  30971.19000  46386.380000   82359.000000   \n",
       "4      21565.00000  28364.580000   6272.98000  27184.602477  151919.500000   \n",
       "\n",
       "              sum_5        sum_6  count_0  count_1  count_2      ...       \\\n",
       "cl_id                                                            ...        \n",
       "0       7054.000000       0.0000        0        2        0      ...        \n",
       "1      82352.388557  107402.2497       20       20       16      ...        \n",
       "2      32823.400000   26584.7000       32       41       29      ...        \n",
       "3      30807.000000   14091.7300       17       14       16      ...        \n",
       "4      84055.110000   31772.2100       17        8       12      ...        \n",
       "\n",
       "       count_4  count_5  count_6       mean_0        mean_1       mean_2  \\\n",
       "cl_id                                                                      \n",
       "0            0        2        0     0.000000  18664.500000     0.000000   \n",
       "1           10       15        7  1159.183472   3550.368361   560.358166   \n",
       "2           37       15        8  1393.131562   2000.812195  1360.288276   \n",
       "3           15        9        8  2746.705882   1338.342143  1935.699375   \n",
       "4           28       49       22  1268.529412   3545.572500   522.748333   \n",
       "\n",
       "             mean_3       mean_4       mean_5        mean_6  \n",
       "cl_id                                                        \n",
       "0      20000.000000     0.000000  3527.000000      0.000000  \n",
       "1        856.517544  2057.028974  5490.159237  15343.178529  \n",
       "2       1203.641892  1586.837838  2188.226667   3323.087500  \n",
       "3       2728.610588  5490.600000  3423.000000   1761.466250  \n",
       "4       1235.663749  5425.696429  1715.410408   1444.191364  \n",
       "\n",
       "[5 rows x 21 columns]"
      ]
     },
     "execution_count": 205,
     "metadata": {},
     "output_type": "execute_result"
    }
   ],
   "source": [
    "df_temp = df.groupby(['cl_id', 'dayofweek'])['amount_rub'].agg(['sum','count','mean']).unstack(fill_value=0)\n",
    "df_temp.columns = pd.Index(['_'.join([str(_) for _ in v]) for v in df_temp.columns.values])\n",
    "df_temp.head()"
   ]
  },
  {
   "cell_type": "code",
   "execution_count": 206,
   "metadata": {
    "ExecuteTime": {
     "end_time": "2018-05-28T00:41:51.913830Z",
     "start_time": "2018-05-28T00:41:51.883399Z"
    }
   },
   "outputs": [
    {
     "data": {
      "text/plain": [
       "(10217, 575)"
      ]
     },
     "execution_count": 206,
     "metadata": {},
     "output_type": "execute_result"
    }
   ],
   "source": [
    "X_full = X_full.join(df_temp, how='left', on='cl_id', rsuffix='dayofweek')\n",
    "X_full.shape"
   ]
  },
  {
   "cell_type": "code",
   "execution_count": 207,
   "metadata": {
    "ExecuteTime": {
     "end_time": "2018-05-28T00:41:51.920055Z",
     "start_time": "2018-05-28T00:41:51.916903Z"
    }
   },
   "outputs": [],
   "source": [
    "#X_full.isnull().values.any()"
   ]
  },
  {
   "cell_type": "code",
   "execution_count": 208,
   "metadata": {
    "ExecuteTime": {
     "end_time": "2018-05-28T00:41:52.072800Z",
     "start_time": "2018-05-28T00:41:51.922632Z"
    }
   },
   "outputs": [
    {
     "data": {
      "text/html": [
       "<div>\n",
       "<style scoped>\n",
       "    .dataframe tbody tr th:only-of-type {\n",
       "        vertical-align: middle;\n",
       "    }\n",
       "\n",
       "    .dataframe tbody tr th {\n",
       "        vertical-align: top;\n",
       "    }\n",
       "\n",
       "    .dataframe thead th {\n",
       "        text-align: right;\n",
       "    }\n",
       "</style>\n",
       "<table border=\"1\" class=\"dataframe\">\n",
       "  <thead>\n",
       "    <tr style=\"text-align: right;\">\n",
       "      <th></th>\n",
       "      <th>sum_0</th>\n",
       "      <th>sum_1</th>\n",
       "      <th>count_0</th>\n",
       "      <th>count_1</th>\n",
       "      <th>mean_0</th>\n",
       "      <th>mean_1</th>\n",
       "    </tr>\n",
       "    <tr>\n",
       "      <th>cl_id</th>\n",
       "      <th></th>\n",
       "      <th></th>\n",
       "      <th></th>\n",
       "      <th></th>\n",
       "      <th></th>\n",
       "      <th></th>\n",
       "    </tr>\n",
       "  </thead>\n",
       "  <tbody>\n",
       "    <tr>\n",
       "      <th>0</th>\n",
       "      <td>57329.000000</td>\n",
       "      <td>7054.000000</td>\n",
       "      <td>3</td>\n",
       "      <td>2</td>\n",
       "      <td>19109.666667</td>\n",
       "      <td>3527.000000</td>\n",
       "    </tr>\n",
       "    <tr>\n",
       "      <th>1</th>\n",
       "      <td>137431.337750</td>\n",
       "      <td>189754.638257</td>\n",
       "      <td>82</td>\n",
       "      <td>22</td>\n",
       "      <td>1675.991924</td>\n",
       "      <td>8625.210830</td>\n",
       "    </tr>\n",
       "    <tr>\n",
       "      <th>2</th>\n",
       "      <td>269309.620000</td>\n",
       "      <td>59408.100000</td>\n",
       "      <td>176</td>\n",
       "      <td>23</td>\n",
       "      <td>1530.168295</td>\n",
       "      <td>2582.960870</td>\n",
       "    </tr>\n",
       "    <tr>\n",
       "      <th>3</th>\n",
       "      <td>225147.360000</td>\n",
       "      <td>44898.730000</td>\n",
       "      <td>79</td>\n",
       "      <td>17</td>\n",
       "      <td>2849.966582</td>\n",
       "      <td>2641.101765</td>\n",
       "    </tr>\n",
       "    <tr>\n",
       "      <th>4</th>\n",
       "      <td>235306.662477</td>\n",
       "      <td>115827.320000</td>\n",
       "      <td>87</td>\n",
       "      <td>71</td>\n",
       "      <td>2704.674281</td>\n",
       "      <td>1631.370704</td>\n",
       "    </tr>\n",
       "  </tbody>\n",
       "</table>\n",
       "</div>"
      ],
      "text/plain": [
       "               sum_0          sum_1  count_0  count_1        mean_0  \\\n",
       "cl_id                                                                 \n",
       "0       57329.000000    7054.000000        3        2  19109.666667   \n",
       "1      137431.337750  189754.638257       82       22   1675.991924   \n",
       "2      269309.620000   59408.100000      176       23   1530.168295   \n",
       "3      225147.360000   44898.730000       79       17   2849.966582   \n",
       "4      235306.662477  115827.320000       87       71   2704.674281   \n",
       "\n",
       "            mean_1  \n",
       "cl_id               \n",
       "0      3527.000000  \n",
       "1      8625.210830  \n",
       "2      2582.960870  \n",
       "3      2641.101765  \n",
       "4      1631.370704  "
      ]
     },
     "execution_count": 208,
     "metadata": {},
     "output_type": "execute_result"
    }
   ],
   "source": [
    "df_temp = df.groupby(['cl_id', 'is_weekend'])['amount_rub'].agg(['sum','count','mean']).unstack(fill_value=0)\n",
    "df_temp.columns = pd.Index(['_'.join([str(_) for _ in v]) for v in df_temp.columns.values])\n",
    "df_temp.head()"
   ]
  },
  {
   "cell_type": "code",
   "execution_count": 209,
   "metadata": {
    "ExecuteTime": {
     "end_time": "2018-05-28T00:41:52.103607Z",
     "start_time": "2018-05-28T00:41:52.076191Z"
    }
   },
   "outputs": [
    {
     "data": {
      "text/plain": [
       "(10217, 581)"
      ]
     },
     "execution_count": 209,
     "metadata": {},
     "output_type": "execute_result"
    }
   ],
   "source": [
    "X_full = X_full.join(df_temp, how='left', on='cl_id', rsuffix='weekend')\n",
    "X_full.shape"
   ]
  },
  {
   "cell_type": "code",
   "execution_count": 210,
   "metadata": {
    "ExecuteTime": {
     "end_time": "2018-05-28T00:41:52.111247Z",
     "start_time": "2018-05-28T00:41:52.107666Z"
    }
   },
   "outputs": [],
   "source": [
    "#X_full.isnull().values.any()"
   ]
  },
  {
   "cell_type": "code",
   "execution_count": 211,
   "metadata": {
    "ExecuteTime": {
     "end_time": "2018-05-28T00:42:22.345814Z",
     "start_time": "2018-05-28T00:41:52.114969Z"
    }
   },
   "outputs": [
    {
     "data": {
      "text/html": [
       "<div>\n",
       "<style scoped>\n",
       "    .dataframe tbody tr th:only-of-type {\n",
       "        vertical-align: middle;\n",
       "    }\n",
       "\n",
       "    .dataframe tbody tr th {\n",
       "        vertical-align: top;\n",
       "    }\n",
       "\n",
       "    .dataframe thead th {\n",
       "        text-align: right;\n",
       "    }\n",
       "</style>\n",
       "<table border=\"1\" class=\"dataframe\">\n",
       "  <thead>\n",
       "    <tr style=\"text-align: right;\">\n",
       "      <th></th>\n",
       "      <th>sum_2016-10</th>\n",
       "      <th>sum_2016-11</th>\n",
       "      <th>sum_2016-12</th>\n",
       "      <th>sum_2017-01</th>\n",
       "      <th>sum_2017-02</th>\n",
       "      <th>sum_2017-03</th>\n",
       "      <th>sum_2017-04</th>\n",
       "      <th>sum_2017-05</th>\n",
       "      <th>sum_2017-06</th>\n",
       "      <th>sum_2017-07</th>\n",
       "      <th>...</th>\n",
       "      <th>mean_2017-07</th>\n",
       "      <th>mean_2017-08</th>\n",
       "      <th>mean_2017-09</th>\n",
       "      <th>mean_2017-10</th>\n",
       "      <th>mean_2017-11</th>\n",
       "      <th>mean_2017-12</th>\n",
       "      <th>mean_2018-01</th>\n",
       "      <th>mean_2018-02</th>\n",
       "      <th>mean_2018-03</th>\n",
       "      <th>mean_2018-04</th>\n",
       "    </tr>\n",
       "    <tr>\n",
       "      <th>cl_id</th>\n",
       "      <th></th>\n",
       "      <th></th>\n",
       "      <th></th>\n",
       "      <th></th>\n",
       "      <th></th>\n",
       "      <th></th>\n",
       "      <th></th>\n",
       "      <th></th>\n",
       "      <th></th>\n",
       "      <th></th>\n",
       "      <th></th>\n",
       "      <th></th>\n",
       "      <th></th>\n",
       "      <th></th>\n",
       "      <th></th>\n",
       "      <th></th>\n",
       "      <th></th>\n",
       "      <th></th>\n",
       "      <th></th>\n",
       "      <th></th>\n",
       "      <th></th>\n",
       "    </tr>\n",
       "  </thead>\n",
       "  <tbody>\n",
       "    <tr>\n",
       "      <th>0</th>\n",
       "      <td>0.0</td>\n",
       "      <td>0.0</td>\n",
       "      <td>0.0</td>\n",
       "      <td>0.0</td>\n",
       "      <td>0.00</td>\n",
       "      <td>0.00</td>\n",
       "      <td>0.0</td>\n",
       "      <td>0.0</td>\n",
       "      <td>0.00</td>\n",
       "      <td>0.00</td>\n",
       "      <td>...</td>\n",
       "      <td>0.000000</td>\n",
       "      <td>0.000000</td>\n",
       "      <td>0.000000</td>\n",
       "      <td>15904.00000</td>\n",
       "      <td>0.0</td>\n",
       "      <td>767.0</td>\n",
       "      <td>0.00</td>\n",
       "      <td>0.000000</td>\n",
       "      <td>0.000000</td>\n",
       "      <td>0.0</td>\n",
       "    </tr>\n",
       "    <tr>\n",
       "      <th>1</th>\n",
       "      <td>0.0</td>\n",
       "      <td>0.0</td>\n",
       "      <td>0.0</td>\n",
       "      <td>0.0</td>\n",
       "      <td>0.00</td>\n",
       "      <td>0.00</td>\n",
       "      <td>0.0</td>\n",
       "      <td>0.0</td>\n",
       "      <td>0.00</td>\n",
       "      <td>53930.26</td>\n",
       "      <td>...</td>\n",
       "      <td>4902.750909</td>\n",
       "      <td>543.928571</td>\n",
       "      <td>3857.422657</td>\n",
       "      <td>1262.00047</td>\n",
       "      <td>0.0</td>\n",
       "      <td>0.0</td>\n",
       "      <td>0.00</td>\n",
       "      <td>0.000000</td>\n",
       "      <td>0.000000</td>\n",
       "      <td>0.0</td>\n",
       "    </tr>\n",
       "    <tr>\n",
       "      <th>2</th>\n",
       "      <td>0.0</td>\n",
       "      <td>0.0</td>\n",
       "      <td>0.0</td>\n",
       "      <td>0.0</td>\n",
       "      <td>77439.16</td>\n",
       "      <td>95631.96</td>\n",
       "      <td>137492.8</td>\n",
       "      <td>18153.8</td>\n",
       "      <td>0.00</td>\n",
       "      <td>0.00</td>\n",
       "      <td>...</td>\n",
       "      <td>0.000000</td>\n",
       "      <td>0.000000</td>\n",
       "      <td>0.000000</td>\n",
       "      <td>0.00000</td>\n",
       "      <td>0.0</td>\n",
       "      <td>0.0</td>\n",
       "      <td>0.00</td>\n",
       "      <td>0.000000</td>\n",
       "      <td>0.000000</td>\n",
       "      <td>0.0</td>\n",
       "    </tr>\n",
       "    <tr>\n",
       "      <th>3</th>\n",
       "      <td>0.0</td>\n",
       "      <td>0.0</td>\n",
       "      <td>0.0</td>\n",
       "      <td>0.0</td>\n",
       "      <td>0.00</td>\n",
       "      <td>0.00</td>\n",
       "      <td>0.0</td>\n",
       "      <td>1000.0</td>\n",
       "      <td>85964.94</td>\n",
       "      <td>113730.00</td>\n",
       "      <td>...</td>\n",
       "      <td>2369.375000</td>\n",
       "      <td>3650.060526</td>\n",
       "      <td>0.000000</td>\n",
       "      <td>0.00000</td>\n",
       "      <td>0.0</td>\n",
       "      <td>0.0</td>\n",
       "      <td>0.00</td>\n",
       "      <td>0.000000</td>\n",
       "      <td>0.000000</td>\n",
       "      <td>0.0</td>\n",
       "    </tr>\n",
       "    <tr>\n",
       "      <th>4</th>\n",
       "      <td>0.0</td>\n",
       "      <td>0.0</td>\n",
       "      <td>0.0</td>\n",
       "      <td>0.0</td>\n",
       "      <td>0.00</td>\n",
       "      <td>0.00</td>\n",
       "      <td>0.0</td>\n",
       "      <td>0.0</td>\n",
       "      <td>0.00</td>\n",
       "      <td>0.00</td>\n",
       "      <td>...</td>\n",
       "      <td>0.000000</td>\n",
       "      <td>0.000000</td>\n",
       "      <td>0.000000</td>\n",
       "      <td>0.00000</td>\n",
       "      <td>0.0</td>\n",
       "      <td>0.0</td>\n",
       "      <td>104.99</td>\n",
       "      <td>1580.436867</td>\n",
       "      <td>3001.420993</td>\n",
       "      <td>749.0</td>\n",
       "    </tr>\n",
       "  </tbody>\n",
       "</table>\n",
       "<p>5 rows × 57 columns</p>\n",
       "</div>"
      ],
      "text/plain": [
       "       sum_2016-10  sum_2016-11  sum_2016-12  sum_2017-01  sum_2017-02  \\\n",
       "cl_id                                                                    \n",
       "0              0.0          0.0          0.0          0.0         0.00   \n",
       "1              0.0          0.0          0.0          0.0         0.00   \n",
       "2              0.0          0.0          0.0          0.0     77439.16   \n",
       "3              0.0          0.0          0.0          0.0         0.00   \n",
       "4              0.0          0.0          0.0          0.0         0.00   \n",
       "\n",
       "       sum_2017-03  sum_2017-04  sum_2017-05  sum_2017-06  sum_2017-07  \\\n",
       "cl_id                                                                    \n",
       "0             0.00          0.0          0.0         0.00         0.00   \n",
       "1             0.00          0.0          0.0         0.00     53930.26   \n",
       "2         95631.96     137492.8      18153.8         0.00         0.00   \n",
       "3             0.00          0.0       1000.0     85964.94    113730.00   \n",
       "4             0.00          0.0          0.0         0.00         0.00   \n",
       "\n",
       "           ...       mean_2017-07  mean_2017-08  mean_2017-09  mean_2017-10  \\\n",
       "cl_id      ...                                                                \n",
       "0          ...           0.000000      0.000000      0.000000   15904.00000   \n",
       "1          ...        4902.750909    543.928571   3857.422657    1262.00047   \n",
       "2          ...           0.000000      0.000000      0.000000       0.00000   \n",
       "3          ...        2369.375000   3650.060526      0.000000       0.00000   \n",
       "4          ...           0.000000      0.000000      0.000000       0.00000   \n",
       "\n",
       "       mean_2017-11  mean_2017-12  mean_2018-01  mean_2018-02  mean_2018-03  \\\n",
       "cl_id                                                                         \n",
       "0               0.0         767.0          0.00      0.000000      0.000000   \n",
       "1               0.0           0.0          0.00      0.000000      0.000000   \n",
       "2               0.0           0.0          0.00      0.000000      0.000000   \n",
       "3               0.0           0.0          0.00      0.000000      0.000000   \n",
       "4               0.0           0.0        104.99   1580.436867   3001.420993   \n",
       "\n",
       "       mean_2018-04  \n",
       "cl_id                \n",
       "0               0.0  \n",
       "1               0.0  \n",
       "2               0.0  \n",
       "3               0.0  \n",
       "4             749.0  \n",
       "\n",
       "[5 rows x 57 columns]"
      ]
     },
     "execution_count": 211,
     "metadata": {},
     "output_type": "execute_result"
    }
   ],
   "source": [
    "df_temp = df.groupby(['cl_id', 'PERIOD'])['amount_rub'].agg(['sum','count','mean']).unstack(fill_value=0)\n",
    "df_temp.columns = pd.Index(['_'.join([str(_) for _ in v]) for v in df_temp.columns.values])\n",
    "df_temp.head()"
   ]
  },
  {
   "cell_type": "code",
   "execution_count": 212,
   "metadata": {
    "ExecuteTime": {
     "end_time": "2018-05-28T00:42:22.377318Z",
     "start_time": "2018-05-28T00:42:22.350287Z"
    }
   },
   "outputs": [
    {
     "data": {
      "text/plain": [
       "(10217, 638)"
      ]
     },
     "execution_count": 212,
     "metadata": {},
     "output_type": "execute_result"
    }
   ],
   "source": [
    "X_full = X_full.join(df_temp, how='left', on='cl_id', rsuffix='period')\n",
    "X_full.shape"
   ]
  },
  {
   "cell_type": "code",
   "execution_count": 213,
   "metadata": {
    "ExecuteTime": {
     "end_time": "2018-05-28T00:42:22.397743Z",
     "start_time": "2018-05-28T00:42:22.390324Z"
    }
   },
   "outputs": [],
   "source": [
    "#X_full.isnull().values.any()"
   ]
  },
  {
   "cell_type": "code",
   "execution_count": 214,
   "metadata": {
    "ExecuteTime": {
     "end_time": "2018-05-28T00:42:50.005701Z",
     "start_time": "2018-05-28T00:42:22.402195Z"
    }
   },
   "outputs": [
    {
     "data": {
      "text/html": [
       "<div>\n",
       "<style scoped>\n",
       "    .dataframe tbody tr th:only-of-type {\n",
       "        vertical-align: middle;\n",
       "    }\n",
       "\n",
       "    .dataframe tbody tr th {\n",
       "        vertical-align: top;\n",
       "    }\n",
       "\n",
       "    .dataframe thead th {\n",
       "        text-align: right;\n",
       "    }\n",
       "</style>\n",
       "<table border=\"1\" class=\"dataframe\">\n",
       "  <thead>\n",
       "    <tr style=\"text-align: right;\">\n",
       "      <th></th>\n",
       "      <th>sum_2016-10</th>\n",
       "      <th>sum_2016-11</th>\n",
       "      <th>sum_2016-12</th>\n",
       "      <th>sum_2017-01</th>\n",
       "      <th>sum_2017-02</th>\n",
       "      <th>sum_2017-03</th>\n",
       "      <th>sum_2017-04</th>\n",
       "      <th>sum_2017-05</th>\n",
       "      <th>sum_2017-06</th>\n",
       "      <th>sum_2017-07</th>\n",
       "      <th>...</th>\n",
       "      <th>mean_2017-07</th>\n",
       "      <th>mean_2017-08</th>\n",
       "      <th>mean_2017-09</th>\n",
       "      <th>mean_2017-10</th>\n",
       "      <th>mean_2017-11</th>\n",
       "      <th>mean_2017-12</th>\n",
       "      <th>mean_2018-01</th>\n",
       "      <th>mean_2018-02</th>\n",
       "      <th>mean_2018-03</th>\n",
       "      <th>mean_2018-04</th>\n",
       "    </tr>\n",
       "    <tr>\n",
       "      <th>cl_id</th>\n",
       "      <th></th>\n",
       "      <th></th>\n",
       "      <th></th>\n",
       "      <th></th>\n",
       "      <th></th>\n",
       "      <th></th>\n",
       "      <th></th>\n",
       "      <th></th>\n",
       "      <th></th>\n",
       "      <th></th>\n",
       "      <th></th>\n",
       "      <th></th>\n",
       "      <th></th>\n",
       "      <th></th>\n",
       "      <th></th>\n",
       "      <th></th>\n",
       "      <th></th>\n",
       "      <th></th>\n",
       "      <th></th>\n",
       "      <th></th>\n",
       "      <th></th>\n",
       "    </tr>\n",
       "  </thead>\n",
       "  <tbody>\n",
       "    <tr>\n",
       "      <th>0</th>\n",
       "      <td>0.0</td>\n",
       "      <td>0.0</td>\n",
       "      <td>0.0</td>\n",
       "      <td>0.0</td>\n",
       "      <td>0.00</td>\n",
       "      <td>0.00</td>\n",
       "      <td>0.0</td>\n",
       "      <td>0.0</td>\n",
       "      <td>0.00</td>\n",
       "      <td>0.00</td>\n",
       "      <td>...</td>\n",
       "      <td>0.000000</td>\n",
       "      <td>0.000000</td>\n",
       "      <td>0.000000</td>\n",
       "      <td>3527.00000</td>\n",
       "      <td>0.0</td>\n",
       "      <td>767.0</td>\n",
       "      <td>0.00</td>\n",
       "      <td>0.00000</td>\n",
       "      <td>0.000000</td>\n",
       "      <td>0.0</td>\n",
       "    </tr>\n",
       "    <tr>\n",
       "      <th>1</th>\n",
       "      <td>0.0</td>\n",
       "      <td>0.0</td>\n",
       "      <td>0.0</td>\n",
       "      <td>0.0</td>\n",
       "      <td>0.00</td>\n",
       "      <td>0.00</td>\n",
       "      <td>0.0</td>\n",
       "      <td>0.0</td>\n",
       "      <td>0.00</td>\n",
       "      <td>3930.26</td>\n",
       "      <td>...</td>\n",
       "      <td>393.026000</td>\n",
       "      <td>543.928571</td>\n",
       "      <td>2402.670079</td>\n",
       "      <td>1262.00047</td>\n",
       "      <td>0.0</td>\n",
       "      <td>0.0</td>\n",
       "      <td>0.00</td>\n",
       "      <td>0.00000</td>\n",
       "      <td>0.000000</td>\n",
       "      <td>0.0</td>\n",
       "    </tr>\n",
       "    <tr>\n",
       "      <th>2</th>\n",
       "      <td>0.0</td>\n",
       "      <td>0.0</td>\n",
       "      <td>0.0</td>\n",
       "      <td>0.0</td>\n",
       "      <td>47239.16</td>\n",
       "      <td>65691.96</td>\n",
       "      <td>136492.8</td>\n",
       "      <td>18153.8</td>\n",
       "      <td>0.00</td>\n",
       "      <td>0.00</td>\n",
       "      <td>...</td>\n",
       "      <td>0.000000</td>\n",
       "      <td>0.000000</td>\n",
       "      <td>0.000000</td>\n",
       "      <td>0.00000</td>\n",
       "      <td>0.0</td>\n",
       "      <td>0.0</td>\n",
       "      <td>0.00</td>\n",
       "      <td>0.00000</td>\n",
       "      <td>0.000000</td>\n",
       "      <td>0.0</td>\n",
       "    </tr>\n",
       "    <tr>\n",
       "      <th>3</th>\n",
       "      <td>0.0</td>\n",
       "      <td>0.0</td>\n",
       "      <td>0.0</td>\n",
       "      <td>0.0</td>\n",
       "      <td>0.00</td>\n",
       "      <td>0.00</td>\n",
       "      <td>0.0</td>\n",
       "      <td>0.0</td>\n",
       "      <td>49964.94</td>\n",
       "      <td>44330.00</td>\n",
       "      <td>...</td>\n",
       "      <td>1081.219512</td>\n",
       "      <td>1334.446875</td>\n",
       "      <td>0.000000</td>\n",
       "      <td>0.00000</td>\n",
       "      <td>0.0</td>\n",
       "      <td>0.0</td>\n",
       "      <td>0.00</td>\n",
       "      <td>0.00000</td>\n",
       "      <td>0.000000</td>\n",
       "      <td>0.0</td>\n",
       "    </tr>\n",
       "    <tr>\n",
       "      <th>4</th>\n",
       "      <td>0.0</td>\n",
       "      <td>0.0</td>\n",
       "      <td>0.0</td>\n",
       "      <td>0.0</td>\n",
       "      <td>0.00</td>\n",
       "      <td>0.00</td>\n",
       "      <td>0.0</td>\n",
       "      <td>0.0</td>\n",
       "      <td>0.00</td>\n",
       "      <td>0.00</td>\n",
       "      <td>...</td>\n",
       "      <td>0.000000</td>\n",
       "      <td>0.000000</td>\n",
       "      <td>0.000000</td>\n",
       "      <td>0.00000</td>\n",
       "      <td>0.0</td>\n",
       "      <td>0.0</td>\n",
       "      <td>104.99</td>\n",
       "      <td>1508.45325</td>\n",
       "      <td>2959.339035</td>\n",
       "      <td>749.0</td>\n",
       "    </tr>\n",
       "  </tbody>\n",
       "</table>\n",
       "<p>5 rows × 38 columns</p>\n",
       "</div>"
      ],
      "text/plain": [
       "       sum_2016-10  sum_2016-11  sum_2016-12  sum_2017-01  sum_2017-02  \\\n",
       "cl_id                                                                    \n",
       "0              0.0          0.0          0.0          0.0         0.00   \n",
       "1              0.0          0.0          0.0          0.0         0.00   \n",
       "2              0.0          0.0          0.0          0.0     47239.16   \n",
       "3              0.0          0.0          0.0          0.0         0.00   \n",
       "4              0.0          0.0          0.0          0.0         0.00   \n",
       "\n",
       "       sum_2017-03  sum_2017-04  sum_2017-05  sum_2017-06  sum_2017-07  \\\n",
       "cl_id                                                                    \n",
       "0             0.00          0.0          0.0         0.00         0.00   \n",
       "1             0.00          0.0          0.0         0.00      3930.26   \n",
       "2         65691.96     136492.8      18153.8         0.00         0.00   \n",
       "3             0.00          0.0          0.0     49964.94     44330.00   \n",
       "4             0.00          0.0          0.0         0.00         0.00   \n",
       "\n",
       "           ...       mean_2017-07  mean_2017-08  mean_2017-09  mean_2017-10  \\\n",
       "cl_id      ...                                                                \n",
       "0          ...           0.000000      0.000000      0.000000    3527.00000   \n",
       "1          ...         393.026000    543.928571   2402.670079    1262.00047   \n",
       "2          ...           0.000000      0.000000      0.000000       0.00000   \n",
       "3          ...        1081.219512   1334.446875      0.000000       0.00000   \n",
       "4          ...           0.000000      0.000000      0.000000       0.00000   \n",
       "\n",
       "       mean_2017-11  mean_2017-12  mean_2018-01  mean_2018-02  mean_2018-03  \\\n",
       "cl_id                                                                         \n",
       "0               0.0         767.0          0.00       0.00000      0.000000   \n",
       "1               0.0           0.0          0.00       0.00000      0.000000   \n",
       "2               0.0           0.0          0.00       0.00000      0.000000   \n",
       "3               0.0           0.0          0.00       0.00000      0.000000   \n",
       "4               0.0           0.0        104.99    1508.45325   2959.339035   \n",
       "\n",
       "       mean_2018-04  \n",
       "cl_id                \n",
       "0               0.0  \n",
       "1               0.0  \n",
       "2               0.0  \n",
       "3               0.0  \n",
       "4             749.0  \n",
       "\n",
       "[5 rows x 38 columns]"
      ]
     },
     "execution_count": 214,
     "metadata": {},
     "output_type": "execute_result"
    }
   ],
   "source": [
    "df_temp = df[df['is_withdrawal']==True].groupby(['cl_id', 'PERIOD'])['amount_rub'].agg(['sum','mean']).unstack(fill_value=0)\n",
    "df_temp.columns = pd.Index(['_'.join([str(_) for _ in v]) for v in df_temp.columns.values])\n",
    "df_temp.head()"
   ]
  },
  {
   "cell_type": "code",
   "execution_count": 215,
   "metadata": {
    "ExecuteTime": {
     "end_time": "2018-05-28T00:42:50.038288Z",
     "start_time": "2018-05-28T00:42:50.008763Z"
    }
   },
   "outputs": [
    {
     "data": {
      "text/plain": [
       "(10217, 676)"
      ]
     },
     "execution_count": 215,
     "metadata": {},
     "output_type": "execute_result"
    }
   ],
   "source": [
    "X_full = X_full.join(df_temp, how='left', on='cl_id', rsuffix='period_out')\n",
    "X_full.shape"
   ]
  },
  {
   "cell_type": "code",
   "execution_count": 216,
   "metadata": {
    "ExecuteTime": {
     "end_time": "2018-05-28T00:42:50.052820Z",
     "start_time": "2018-05-28T00:42:50.041499Z"
    }
   },
   "outputs": [],
   "source": [
    "#X_full.isnull().values.any()"
   ]
  },
  {
   "cell_type": "code",
   "execution_count": 217,
   "metadata": {
    "ExecuteTime": {
     "end_time": "2018-05-28T00:42:54.483970Z",
     "start_time": "2018-05-28T00:42:50.059916Z"
    }
   },
   "outputs": [
    {
     "data": {
      "text/html": [
       "<div>\n",
       "<style scoped>\n",
       "    .dataframe tbody tr th:only-of-type {\n",
       "        vertical-align: middle;\n",
       "    }\n",
       "\n",
       "    .dataframe tbody tr th {\n",
       "        vertical-align: top;\n",
       "    }\n",
       "\n",
       "    .dataframe thead th {\n",
       "        text-align: right;\n",
       "    }\n",
       "</style>\n",
       "<table border=\"1\" class=\"dataframe\">\n",
       "  <thead>\n",
       "    <tr style=\"text-align: right;\">\n",
       "      <th></th>\n",
       "      <th>sum_2016-10</th>\n",
       "      <th>sum_2016-11</th>\n",
       "      <th>sum_2016-12</th>\n",
       "      <th>sum_2017-01</th>\n",
       "      <th>sum_2017-02</th>\n",
       "      <th>sum_2017-03</th>\n",
       "      <th>sum_2017-04</th>\n",
       "      <th>sum_2017-05</th>\n",
       "      <th>sum_2017-06</th>\n",
       "      <th>sum_2017-07</th>\n",
       "      <th>...</th>\n",
       "      <th>mean_2017-07</th>\n",
       "      <th>mean_2017-08</th>\n",
       "      <th>mean_2017-09</th>\n",
       "      <th>mean_2017-10</th>\n",
       "      <th>mean_2017-11</th>\n",
       "      <th>mean_2017-12</th>\n",
       "      <th>mean_2018-01</th>\n",
       "      <th>mean_2018-02</th>\n",
       "      <th>mean_2018-03</th>\n",
       "      <th>mean_2018-04</th>\n",
       "    </tr>\n",
       "    <tr>\n",
       "      <th>cl_id</th>\n",
       "      <th></th>\n",
       "      <th></th>\n",
       "      <th></th>\n",
       "      <th></th>\n",
       "      <th></th>\n",
       "      <th></th>\n",
       "      <th></th>\n",
       "      <th></th>\n",
       "      <th></th>\n",
       "      <th></th>\n",
       "      <th></th>\n",
       "      <th></th>\n",
       "      <th></th>\n",
       "      <th></th>\n",
       "      <th></th>\n",
       "      <th></th>\n",
       "      <th></th>\n",
       "      <th></th>\n",
       "      <th></th>\n",
       "      <th></th>\n",
       "      <th></th>\n",
       "    </tr>\n",
       "  </thead>\n",
       "  <tbody>\n",
       "    <tr>\n",
       "      <th>0</th>\n",
       "      <td>0.0</td>\n",
       "      <td>0.0</td>\n",
       "      <td>0.0</td>\n",
       "      <td>0.0</td>\n",
       "      <td>0.0</td>\n",
       "      <td>0.0</td>\n",
       "      <td>0.0</td>\n",
       "      <td>0.0</td>\n",
       "      <td>0.0</td>\n",
       "      <td>0.0</td>\n",
       "      <td>...</td>\n",
       "      <td>0.000000</td>\n",
       "      <td>0.0</td>\n",
       "      <td>0.0</td>\n",
       "      <td>28281.0</td>\n",
       "      <td>0.0</td>\n",
       "      <td>0.0</td>\n",
       "      <td>0.0</td>\n",
       "      <td>0.0</td>\n",
       "      <td>0.000000</td>\n",
       "      <td>0.0</td>\n",
       "    </tr>\n",
       "    <tr>\n",
       "      <th>1</th>\n",
       "      <td>0.0</td>\n",
       "      <td>0.0</td>\n",
       "      <td>0.0</td>\n",
       "      <td>0.0</td>\n",
       "      <td>0.0</td>\n",
       "      <td>0.0</td>\n",
       "      <td>0.0</td>\n",
       "      <td>0.0</td>\n",
       "      <td>0.0</td>\n",
       "      <td>50000.0</td>\n",
       "      <td>...</td>\n",
       "      <td>50000.000000</td>\n",
       "      <td>0.0</td>\n",
       "      <td>47500.0</td>\n",
       "      <td>0.0</td>\n",
       "      <td>0.0</td>\n",
       "      <td>0.0</td>\n",
       "      <td>0.0</td>\n",
       "      <td>0.0</td>\n",
       "      <td>0.000000</td>\n",
       "      <td>0.0</td>\n",
       "    </tr>\n",
       "    <tr>\n",
       "      <th>2</th>\n",
       "      <td>0.0</td>\n",
       "      <td>0.0</td>\n",
       "      <td>0.0</td>\n",
       "      <td>0.0</td>\n",
       "      <td>30200.0</td>\n",
       "      <td>29940.0</td>\n",
       "      <td>1000.0</td>\n",
       "      <td>0.0</td>\n",
       "      <td>0.0</td>\n",
       "      <td>0.0</td>\n",
       "      <td>...</td>\n",
       "      <td>0.000000</td>\n",
       "      <td>0.0</td>\n",
       "      <td>0.0</td>\n",
       "      <td>0.0</td>\n",
       "      <td>0.0</td>\n",
       "      <td>0.0</td>\n",
       "      <td>0.0</td>\n",
       "      <td>0.0</td>\n",
       "      <td>0.000000</td>\n",
       "      <td>0.0</td>\n",
       "    </tr>\n",
       "    <tr>\n",
       "      <th>3</th>\n",
       "      <td>0.0</td>\n",
       "      <td>0.0</td>\n",
       "      <td>0.0</td>\n",
       "      <td>0.0</td>\n",
       "      <td>0.0</td>\n",
       "      <td>0.0</td>\n",
       "      <td>0.0</td>\n",
       "      <td>1000.0</td>\n",
       "      <td>36000.0</td>\n",
       "      <td>69400.0</td>\n",
       "      <td>...</td>\n",
       "      <td>9914.285714</td>\n",
       "      <td>16000.0</td>\n",
       "      <td>0.0</td>\n",
       "      <td>0.0</td>\n",
       "      <td>0.0</td>\n",
       "      <td>0.0</td>\n",
       "      <td>0.0</td>\n",
       "      <td>0.0</td>\n",
       "      <td>0.000000</td>\n",
       "      <td>0.0</td>\n",
       "    </tr>\n",
       "    <tr>\n",
       "      <th>4</th>\n",
       "      <td>0.0</td>\n",
       "      <td>0.0</td>\n",
       "      <td>0.0</td>\n",
       "      <td>0.0</td>\n",
       "      <td>0.0</td>\n",
       "      <td>0.0</td>\n",
       "      <td>0.0</td>\n",
       "      <td>0.0</td>\n",
       "      <td>0.0</td>\n",
       "      <td>0.0</td>\n",
       "      <td>...</td>\n",
       "      <td>0.000000</td>\n",
       "      <td>0.0</td>\n",
       "      <td>0.0</td>\n",
       "      <td>0.0</td>\n",
       "      <td>0.0</td>\n",
       "      <td>0.0</td>\n",
       "      <td>0.0</td>\n",
       "      <td>3500.0</td>\n",
       "      <td>3983.333333</td>\n",
       "      <td>0.0</td>\n",
       "    </tr>\n",
       "  </tbody>\n",
       "</table>\n",
       "<p>5 rows × 38 columns</p>\n",
       "</div>"
      ],
      "text/plain": [
       "       sum_2016-10  sum_2016-11  sum_2016-12  sum_2017-01  sum_2017-02  \\\n",
       "cl_id                                                                    \n",
       "0              0.0          0.0          0.0          0.0          0.0   \n",
       "1              0.0          0.0          0.0          0.0          0.0   \n",
       "2              0.0          0.0          0.0          0.0      30200.0   \n",
       "3              0.0          0.0          0.0          0.0          0.0   \n",
       "4              0.0          0.0          0.0          0.0          0.0   \n",
       "\n",
       "       sum_2017-03  sum_2017-04  sum_2017-05  sum_2017-06  sum_2017-07  \\\n",
       "cl_id                                                                    \n",
       "0              0.0          0.0          0.0          0.0          0.0   \n",
       "1              0.0          0.0          0.0          0.0      50000.0   \n",
       "2          29940.0       1000.0          0.0          0.0          0.0   \n",
       "3              0.0          0.0       1000.0      36000.0      69400.0   \n",
       "4              0.0          0.0          0.0          0.0          0.0   \n",
       "\n",
       "           ...       mean_2017-07  mean_2017-08  mean_2017-09  mean_2017-10  \\\n",
       "cl_id      ...                                                                \n",
       "0          ...           0.000000           0.0           0.0       28281.0   \n",
       "1          ...       50000.000000           0.0       47500.0           0.0   \n",
       "2          ...           0.000000           0.0           0.0           0.0   \n",
       "3          ...        9914.285714       16000.0           0.0           0.0   \n",
       "4          ...           0.000000           0.0           0.0           0.0   \n",
       "\n",
       "       mean_2017-11  mean_2017-12  mean_2018-01  mean_2018-02  mean_2018-03  \\\n",
       "cl_id                                                                         \n",
       "0               0.0           0.0           0.0           0.0      0.000000   \n",
       "1               0.0           0.0           0.0           0.0      0.000000   \n",
       "2               0.0           0.0           0.0           0.0      0.000000   \n",
       "3               0.0           0.0           0.0           0.0      0.000000   \n",
       "4               0.0           0.0           0.0        3500.0   3983.333333   \n",
       "\n",
       "       mean_2018-04  \n",
       "cl_id                \n",
       "0               0.0  \n",
       "1               0.0  \n",
       "2               0.0  \n",
       "3               0.0  \n",
       "4               0.0  \n",
       "\n",
       "[5 rows x 38 columns]"
      ]
     },
     "execution_count": 217,
     "metadata": {},
     "output_type": "execute_result"
    }
   ],
   "source": [
    "df_temp = df[df['is_withdrawal']==False].groupby(['cl_id', 'PERIOD'])['amount_rub'].agg(['sum','mean']).unstack(fill_value=0)\n",
    "df_temp.columns = pd.Index(['_'.join([str(_) for _ in v]) for v in df_temp.columns.values])\n",
    "df_temp.head()"
   ]
  },
  {
   "cell_type": "code",
   "execution_count": 218,
   "metadata": {
    "ExecuteTime": {
     "end_time": "2018-05-28T00:42:54.490009Z",
     "start_time": "2018-05-28T00:42:54.486573Z"
    }
   },
   "outputs": [],
   "source": [
    "#df_temp.isnull().values.any()"
   ]
  },
  {
   "cell_type": "code",
   "execution_count": 219,
   "metadata": {
    "ExecuteTime": {
     "end_time": "2018-05-28T00:42:54.537138Z",
     "start_time": "2018-05-28T00:42:54.494539Z"
    }
   },
   "outputs": [
    {
     "data": {
      "text/plain": [
       "(10217, 714)"
      ]
     },
     "execution_count": 219,
     "metadata": {},
     "output_type": "execute_result"
    }
   ],
   "source": [
    "X_full = X_full.join(df_temp, how='left', on='cl_id', rsuffix='period_in')\n",
    "X_full.shape"
   ]
  },
  {
   "cell_type": "code",
   "execution_count": 220,
   "metadata": {
    "ExecuteTime": {
     "end_time": "2018-05-28T00:43:23.959425Z",
     "start_time": "2018-05-28T00:42:54.540452Z"
    }
   },
   "outputs": [
    {
     "data": {
      "text/html": [
       "<div>\n",
       "<style scoped>\n",
       "    .dataframe tbody tr th:only-of-type {\n",
       "        vertical-align: middle;\n",
       "    }\n",
       "\n",
       "    .dataframe tbody tr th {\n",
       "        vertical-align: top;\n",
       "    }\n",
       "\n",
       "    .dataframe thead th {\n",
       "        text-align: right;\n",
       "    }\n",
       "</style>\n",
       "<table border=\"1\" class=\"dataframe\">\n",
       "  <thead>\n",
       "    <tr style=\"text-align: right;\">\n",
       "      <th></th>\n",
       "      <th></th>\n",
       "      <th>sum_BACK_TRX</th>\n",
       "      <th>sum_C2C_IN</th>\n",
       "      <th>sum_C2C_OUT</th>\n",
       "      <th>sum_CASH_ADV</th>\n",
       "      <th>sum_CAT</th>\n",
       "      <th>sum_DEPOSIT</th>\n",
       "      <th>sum_POS</th>\n",
       "      <th>sum_WD_ATM_OTHER</th>\n",
       "      <th>sum_WD_ATM_PARTNER</th>\n",
       "      <th>sum_WD_ATM_ROS</th>\n",
       "      <th>mean_BACK_TRX</th>\n",
       "      <th>mean_C2C_IN</th>\n",
       "      <th>mean_C2C_OUT</th>\n",
       "      <th>mean_CASH_ADV</th>\n",
       "      <th>mean_CAT</th>\n",
       "      <th>mean_DEPOSIT</th>\n",
       "      <th>mean_POS</th>\n",
       "      <th>mean_WD_ATM_OTHER</th>\n",
       "      <th>mean_WD_ATM_PARTNER</th>\n",
       "      <th>mean_WD_ATM_ROS</th>\n",
       "    </tr>\n",
       "    <tr>\n",
       "      <th>cl_id</th>\n",
       "      <th>PERIOD</th>\n",
       "      <th></th>\n",
       "      <th></th>\n",
       "      <th></th>\n",
       "      <th></th>\n",
       "      <th></th>\n",
       "      <th></th>\n",
       "      <th></th>\n",
       "      <th></th>\n",
       "      <th></th>\n",
       "      <th></th>\n",
       "      <th></th>\n",
       "      <th></th>\n",
       "      <th></th>\n",
       "      <th></th>\n",
       "      <th></th>\n",
       "      <th></th>\n",
       "      <th></th>\n",
       "      <th></th>\n",
       "      <th></th>\n",
       "      <th></th>\n",
       "    </tr>\n",
       "  </thead>\n",
       "  <tbody>\n",
       "    <tr>\n",
       "      <th rowspan=\"2\" valign=\"top\">0</th>\n",
       "      <th>2017-10</th>\n",
       "      <td>0.0</td>\n",
       "      <td>0.0</td>\n",
       "      <td>36562.0</td>\n",
       "      <td>0.0</td>\n",
       "      <td>0.0</td>\n",
       "      <td>20000.0</td>\n",
       "      <td>7054.000000</td>\n",
       "      <td>0.0</td>\n",
       "      <td>0.0</td>\n",
       "      <td>0.0</td>\n",
       "      <td>0.0</td>\n",
       "      <td>0.0</td>\n",
       "      <td>36562.0</td>\n",
       "      <td>0.0</td>\n",
       "      <td>0.0</td>\n",
       "      <td>20000.0</td>\n",
       "      <td>3527.000000</td>\n",
       "      <td>0.0</td>\n",
       "      <td>0.0</td>\n",
       "      <td>0.0</td>\n",
       "    </tr>\n",
       "    <tr>\n",
       "      <th>2017-12</th>\n",
       "      <td>0.0</td>\n",
       "      <td>0.0</td>\n",
       "      <td>0.0</td>\n",
       "      <td>0.0</td>\n",
       "      <td>0.0</td>\n",
       "      <td>0.0</td>\n",
       "      <td>767.000000</td>\n",
       "      <td>0.0</td>\n",
       "      <td>0.0</td>\n",
       "      <td>0.0</td>\n",
       "      <td>0.0</td>\n",
       "      <td>0.0</td>\n",
       "      <td>0.0</td>\n",
       "      <td>0.0</td>\n",
       "      <td>0.0</td>\n",
       "      <td>0.0</td>\n",
       "      <td>767.000000</td>\n",
       "      <td>0.0</td>\n",
       "      <td>0.0</td>\n",
       "      <td>0.0</td>\n",
       "    </tr>\n",
       "    <tr>\n",
       "      <th rowspan=\"3\" valign=\"top\">1</th>\n",
       "      <th>2017-07</th>\n",
       "      <td>0.0</td>\n",
       "      <td>0.0</td>\n",
       "      <td>0.0</td>\n",
       "      <td>0.0</td>\n",
       "      <td>0.0</td>\n",
       "      <td>0.0</td>\n",
       "      <td>3930.260000</td>\n",
       "      <td>0.0</td>\n",
       "      <td>0.0</td>\n",
       "      <td>50000.0</td>\n",
       "      <td>0.0</td>\n",
       "      <td>0.0</td>\n",
       "      <td>0.0</td>\n",
       "      <td>0.0</td>\n",
       "      <td>0.0</td>\n",
       "      <td>0.0</td>\n",
       "      <td>393.026000</td>\n",
       "      <td>0.0</td>\n",
       "      <td>0.0</td>\n",
       "      <td>50000.0</td>\n",
       "    </tr>\n",
       "    <tr>\n",
       "      <th>2017-08</th>\n",
       "      <td>0.0</td>\n",
       "      <td>0.0</td>\n",
       "      <td>0.0</td>\n",
       "      <td>0.0</td>\n",
       "      <td>0.0</td>\n",
       "      <td>0.0</td>\n",
       "      <td>3807.500000</td>\n",
       "      <td>0.0</td>\n",
       "      <td>0.0</td>\n",
       "      <td>0.0</td>\n",
       "      <td>0.0</td>\n",
       "      <td>0.0</td>\n",
       "      <td>0.0</td>\n",
       "      <td>0.0</td>\n",
       "      <td>0.0</td>\n",
       "      <td>0.0</td>\n",
       "      <td>543.928571</td>\n",
       "      <td>0.0</td>\n",
       "      <td>0.0</td>\n",
       "      <td>0.0</td>\n",
       "    </tr>\n",
       "    <tr>\n",
       "      <th>2017-09</th>\n",
       "      <td>0.0</td>\n",
       "      <td>0.0</td>\n",
       "      <td>0.0</td>\n",
       "      <td>0.0</td>\n",
       "      <td>0.0</td>\n",
       "      <td>95000.0</td>\n",
       "      <td>144160.204727</td>\n",
       "      <td>0.0</td>\n",
       "      <td>0.0</td>\n",
       "      <td>0.0</td>\n",
       "      <td>0.0</td>\n",
       "      <td>0.0</td>\n",
       "      <td>0.0</td>\n",
       "      <td>0.0</td>\n",
       "      <td>0.0</td>\n",
       "      <td>47500.0</td>\n",
       "      <td>2402.670079</td>\n",
       "      <td>0.0</td>\n",
       "      <td>0.0</td>\n",
       "      <td>0.0</td>\n",
       "    </tr>\n",
       "  </tbody>\n",
       "</table>\n",
       "</div>"
      ],
      "text/plain": [
       "               sum_BACK_TRX  sum_C2C_IN  sum_C2C_OUT  sum_CASH_ADV  sum_CAT  \\\n",
       "cl_id PERIOD                                                                  \n",
       "0     2017-10           0.0         0.0      36562.0           0.0      0.0   \n",
       "      2017-12           0.0         0.0          0.0           0.0      0.0   \n",
       "1     2017-07           0.0         0.0          0.0           0.0      0.0   \n",
       "      2017-08           0.0         0.0          0.0           0.0      0.0   \n",
       "      2017-09           0.0         0.0          0.0           0.0      0.0   \n",
       "\n",
       "               sum_DEPOSIT        sum_POS  sum_WD_ATM_OTHER  \\\n",
       "cl_id PERIOD                                                  \n",
       "0     2017-10      20000.0    7054.000000               0.0   \n",
       "      2017-12          0.0     767.000000               0.0   \n",
       "1     2017-07          0.0    3930.260000               0.0   \n",
       "      2017-08          0.0    3807.500000               0.0   \n",
       "      2017-09      95000.0  144160.204727               0.0   \n",
       "\n",
       "               sum_WD_ATM_PARTNER  sum_WD_ATM_ROS  mean_BACK_TRX  mean_C2C_IN  \\\n",
       "cl_id PERIOD                                                                    \n",
       "0     2017-10                 0.0             0.0            0.0          0.0   \n",
       "      2017-12                 0.0             0.0            0.0          0.0   \n",
       "1     2017-07                 0.0         50000.0            0.0          0.0   \n",
       "      2017-08                 0.0             0.0            0.0          0.0   \n",
       "      2017-09                 0.0             0.0            0.0          0.0   \n",
       "\n",
       "               mean_C2C_OUT  mean_CASH_ADV  mean_CAT  mean_DEPOSIT  \\\n",
       "cl_id PERIOD                                                         \n",
       "0     2017-10       36562.0            0.0       0.0       20000.0   \n",
       "      2017-12           0.0            0.0       0.0           0.0   \n",
       "1     2017-07           0.0            0.0       0.0           0.0   \n",
       "      2017-08           0.0            0.0       0.0           0.0   \n",
       "      2017-09           0.0            0.0       0.0       47500.0   \n",
       "\n",
       "                  mean_POS  mean_WD_ATM_OTHER  mean_WD_ATM_PARTNER  \\\n",
       "cl_id PERIOD                                                         \n",
       "0     2017-10  3527.000000                0.0                  0.0   \n",
       "      2017-12   767.000000                0.0                  0.0   \n",
       "1     2017-07   393.026000                0.0                  0.0   \n",
       "      2017-08   543.928571                0.0                  0.0   \n",
       "      2017-09  2402.670079                0.0                  0.0   \n",
       "\n",
       "               mean_WD_ATM_ROS  \n",
       "cl_id PERIOD                    \n",
       "0     2017-10              0.0  \n",
       "      2017-12              0.0  \n",
       "1     2017-07          50000.0  \n",
       "      2017-08              0.0  \n",
       "      2017-09              0.0  "
      ]
     },
     "execution_count": 220,
     "metadata": {},
     "output_type": "execute_result"
    }
   ],
   "source": [
    "df_temp = df.groupby(['cl_id', 'PERIOD','trx_category'])['amount_rub'].agg(['sum','mean']).unstack(fill_value=0)\n",
    "df_temp.columns = pd.Index(['_'.join([str(_) for _ in v]) for v in df_temp.columns.values])\n",
    "df_temp.head()"
   ]
  },
  {
   "cell_type": "code",
   "execution_count": 221,
   "metadata": {
    "ExecuteTime": {
     "end_time": "2018-05-28T00:43:23.970149Z",
     "start_time": "2018-05-28T00:43:23.963252Z"
    }
   },
   "outputs": [
    {
     "data": {
      "text/plain": [
       "(35889, 20)"
      ]
     },
     "execution_count": 221,
     "metadata": {},
     "output_type": "execute_result"
    }
   ],
   "source": [
    "df_temp.shape"
   ]
  },
  {
   "cell_type": "code",
   "execution_count": 222,
   "metadata": {
    "ExecuteTime": {
     "end_time": "2018-05-28T00:43:24.070669Z",
     "start_time": "2018-05-28T00:43:23.974027Z"
    }
   },
   "outputs": [
    {
     "data": {
      "text/html": [
       "<div>\n",
       "<style scoped>\n",
       "    .dataframe tbody tr th:only-of-type {\n",
       "        vertical-align: middle;\n",
       "    }\n",
       "\n",
       "    .dataframe tbody tr th {\n",
       "        vertical-align: top;\n",
       "    }\n",
       "\n",
       "    .dataframe thead th {\n",
       "        text-align: right;\n",
       "    }\n",
       "</style>\n",
       "<table border=\"1\" class=\"dataframe\">\n",
       "  <thead>\n",
       "    <tr style=\"text-align: right;\">\n",
       "      <th></th>\n",
       "      <th>sum_BACK_TRX_2016-10</th>\n",
       "      <th>sum_BACK_TRX_2016-11</th>\n",
       "      <th>sum_BACK_TRX_2016-12</th>\n",
       "      <th>sum_BACK_TRX_2017-01</th>\n",
       "      <th>sum_BACK_TRX_2017-02</th>\n",
       "      <th>sum_BACK_TRX_2017-03</th>\n",
       "      <th>sum_BACK_TRX_2017-04</th>\n",
       "      <th>sum_BACK_TRX_2017-05</th>\n",
       "      <th>sum_BACK_TRX_2017-06</th>\n",
       "      <th>sum_BACK_TRX_2017-07</th>\n",
       "      <th>...</th>\n",
       "      <th>mean_WD_ATM_ROS_2017-07</th>\n",
       "      <th>mean_WD_ATM_ROS_2017-08</th>\n",
       "      <th>mean_WD_ATM_ROS_2017-09</th>\n",
       "      <th>mean_WD_ATM_ROS_2017-10</th>\n",
       "      <th>mean_WD_ATM_ROS_2017-11</th>\n",
       "      <th>mean_WD_ATM_ROS_2017-12</th>\n",
       "      <th>mean_WD_ATM_ROS_2018-01</th>\n",
       "      <th>mean_WD_ATM_ROS_2018-02</th>\n",
       "      <th>mean_WD_ATM_ROS_2018-03</th>\n",
       "      <th>mean_WD_ATM_ROS_2018-04</th>\n",
       "    </tr>\n",
       "    <tr>\n",
       "      <th>cl_id</th>\n",
       "      <th></th>\n",
       "      <th></th>\n",
       "      <th></th>\n",
       "      <th></th>\n",
       "      <th></th>\n",
       "      <th></th>\n",
       "      <th></th>\n",
       "      <th></th>\n",
       "      <th></th>\n",
       "      <th></th>\n",
       "      <th></th>\n",
       "      <th></th>\n",
       "      <th></th>\n",
       "      <th></th>\n",
       "      <th></th>\n",
       "      <th></th>\n",
       "      <th></th>\n",
       "      <th></th>\n",
       "      <th></th>\n",
       "      <th></th>\n",
       "      <th></th>\n",
       "    </tr>\n",
       "  </thead>\n",
       "  <tbody>\n",
       "    <tr>\n",
       "      <th>0</th>\n",
       "      <td>0.0</td>\n",
       "      <td>0.0</td>\n",
       "      <td>0.0</td>\n",
       "      <td>0.0</td>\n",
       "      <td>0.0</td>\n",
       "      <td>0.0</td>\n",
       "      <td>0.0</td>\n",
       "      <td>0.0</td>\n",
       "      <td>0.0</td>\n",
       "      <td>0.0</td>\n",
       "      <td>...</td>\n",
       "      <td>0.0</td>\n",
       "      <td>0.0</td>\n",
       "      <td>0.0</td>\n",
       "      <td>0.0</td>\n",
       "      <td>0.0</td>\n",
       "      <td>0.0</td>\n",
       "      <td>0.0</td>\n",
       "      <td>0.0</td>\n",
       "      <td>0.0</td>\n",
       "      <td>0.0</td>\n",
       "    </tr>\n",
       "    <tr>\n",
       "      <th>1</th>\n",
       "      <td>0.0</td>\n",
       "      <td>0.0</td>\n",
       "      <td>0.0</td>\n",
       "      <td>0.0</td>\n",
       "      <td>0.0</td>\n",
       "      <td>0.0</td>\n",
       "      <td>0.0</td>\n",
       "      <td>0.0</td>\n",
       "      <td>0.0</td>\n",
       "      <td>0.0</td>\n",
       "      <td>...</td>\n",
       "      <td>50000.0</td>\n",
       "      <td>0.0</td>\n",
       "      <td>0.0</td>\n",
       "      <td>0.0</td>\n",
       "      <td>0.0</td>\n",
       "      <td>0.0</td>\n",
       "      <td>0.0</td>\n",
       "      <td>0.0</td>\n",
       "      <td>0.0</td>\n",
       "      <td>0.0</td>\n",
       "    </tr>\n",
       "    <tr>\n",
       "      <th>2</th>\n",
       "      <td>0.0</td>\n",
       "      <td>0.0</td>\n",
       "      <td>0.0</td>\n",
       "      <td>0.0</td>\n",
       "      <td>0.0</td>\n",
       "      <td>4440.0</td>\n",
       "      <td>0.0</td>\n",
       "      <td>0.0</td>\n",
       "      <td>0.0</td>\n",
       "      <td>0.0</td>\n",
       "      <td>...</td>\n",
       "      <td>0.0</td>\n",
       "      <td>0.0</td>\n",
       "      <td>0.0</td>\n",
       "      <td>0.0</td>\n",
       "      <td>0.0</td>\n",
       "      <td>0.0</td>\n",
       "      <td>0.0</td>\n",
       "      <td>0.0</td>\n",
       "      <td>0.0</td>\n",
       "      <td>0.0</td>\n",
       "    </tr>\n",
       "    <tr>\n",
       "      <th>3</th>\n",
       "      <td>0.0</td>\n",
       "      <td>0.0</td>\n",
       "      <td>0.0</td>\n",
       "      <td>0.0</td>\n",
       "      <td>0.0</td>\n",
       "      <td>0.0</td>\n",
       "      <td>0.0</td>\n",
       "      <td>0.0</td>\n",
       "      <td>0.0</td>\n",
       "      <td>0.0</td>\n",
       "      <td>...</td>\n",
       "      <td>5300.0</td>\n",
       "      <td>2000.0</td>\n",
       "      <td>0.0</td>\n",
       "      <td>0.0</td>\n",
       "      <td>0.0</td>\n",
       "      <td>0.0</td>\n",
       "      <td>0.0</td>\n",
       "      <td>0.0</td>\n",
       "      <td>0.0</td>\n",
       "      <td>0.0</td>\n",
       "    </tr>\n",
       "    <tr>\n",
       "      <th>4</th>\n",
       "      <td>0.0</td>\n",
       "      <td>0.0</td>\n",
       "      <td>0.0</td>\n",
       "      <td>0.0</td>\n",
       "      <td>0.0</td>\n",
       "      <td>0.0</td>\n",
       "      <td>0.0</td>\n",
       "      <td>0.0</td>\n",
       "      <td>0.0</td>\n",
       "      <td>0.0</td>\n",
       "      <td>...</td>\n",
       "      <td>0.0</td>\n",
       "      <td>0.0</td>\n",
       "      <td>0.0</td>\n",
       "      <td>0.0</td>\n",
       "      <td>0.0</td>\n",
       "      <td>0.0</td>\n",
       "      <td>0.0</td>\n",
       "      <td>4900.0</td>\n",
       "      <td>5750.0</td>\n",
       "      <td>0.0</td>\n",
       "    </tr>\n",
       "  </tbody>\n",
       "</table>\n",
       "<p>5 rows × 380 columns</p>\n",
       "</div>"
      ],
      "text/plain": [
       "       sum_BACK_TRX_2016-10  sum_BACK_TRX_2016-11  sum_BACK_TRX_2016-12  \\\n",
       "cl_id                                                                     \n",
       "0                       0.0                   0.0                   0.0   \n",
       "1                       0.0                   0.0                   0.0   \n",
       "2                       0.0                   0.0                   0.0   \n",
       "3                       0.0                   0.0                   0.0   \n",
       "4                       0.0                   0.0                   0.0   \n",
       "\n",
       "       sum_BACK_TRX_2017-01  sum_BACK_TRX_2017-02  sum_BACK_TRX_2017-03  \\\n",
       "cl_id                                                                     \n",
       "0                       0.0                   0.0                   0.0   \n",
       "1                       0.0                   0.0                   0.0   \n",
       "2                       0.0                   0.0                4440.0   \n",
       "3                       0.0                   0.0                   0.0   \n",
       "4                       0.0                   0.0                   0.0   \n",
       "\n",
       "       sum_BACK_TRX_2017-04  sum_BACK_TRX_2017-05  sum_BACK_TRX_2017-06  \\\n",
       "cl_id                                                                     \n",
       "0                       0.0                   0.0                   0.0   \n",
       "1                       0.0                   0.0                   0.0   \n",
       "2                       0.0                   0.0                   0.0   \n",
       "3                       0.0                   0.0                   0.0   \n",
       "4                       0.0                   0.0                   0.0   \n",
       "\n",
       "       sum_BACK_TRX_2017-07           ...             mean_WD_ATM_ROS_2017-07  \\\n",
       "cl_id                                 ...                                       \n",
       "0                       0.0           ...                                 0.0   \n",
       "1                       0.0           ...                             50000.0   \n",
       "2                       0.0           ...                                 0.0   \n",
       "3                       0.0           ...                              5300.0   \n",
       "4                       0.0           ...                                 0.0   \n",
       "\n",
       "       mean_WD_ATM_ROS_2017-08  mean_WD_ATM_ROS_2017-09  \\\n",
       "cl_id                                                     \n",
       "0                          0.0                      0.0   \n",
       "1                          0.0                      0.0   \n",
       "2                          0.0                      0.0   \n",
       "3                       2000.0                      0.0   \n",
       "4                          0.0                      0.0   \n",
       "\n",
       "       mean_WD_ATM_ROS_2017-10  mean_WD_ATM_ROS_2017-11  \\\n",
       "cl_id                                                     \n",
       "0                          0.0                      0.0   \n",
       "1                          0.0                      0.0   \n",
       "2                          0.0                      0.0   \n",
       "3                          0.0                      0.0   \n",
       "4                          0.0                      0.0   \n",
       "\n",
       "       mean_WD_ATM_ROS_2017-12  mean_WD_ATM_ROS_2018-01  \\\n",
       "cl_id                                                     \n",
       "0                          0.0                      0.0   \n",
       "1                          0.0                      0.0   \n",
       "2                          0.0                      0.0   \n",
       "3                          0.0                      0.0   \n",
       "4                          0.0                      0.0   \n",
       "\n",
       "       mean_WD_ATM_ROS_2018-02  mean_WD_ATM_ROS_2018-03  \\\n",
       "cl_id                                                     \n",
       "0                          0.0                      0.0   \n",
       "1                          0.0                      0.0   \n",
       "2                          0.0                      0.0   \n",
       "3                          0.0                      0.0   \n",
       "4                       4900.0                   5750.0   \n",
       "\n",
       "       mean_WD_ATM_ROS_2018-04  \n",
       "cl_id                           \n",
       "0                          0.0  \n",
       "1                          0.0  \n",
       "2                          0.0  \n",
       "3                          0.0  \n",
       "4                          0.0  \n",
       "\n",
       "[5 rows x 380 columns]"
      ]
     },
     "execution_count": 222,
     "metadata": {},
     "output_type": "execute_result"
    }
   ],
   "source": [
    "df_temp = df_temp.unstack(fill_value=0)\n",
    "df_temp.columns = pd.Index(['_'.join([str(_) for _ in v]) for v in df_temp.columns.values])\n",
    "df_temp.head()"
   ]
  },
  {
   "cell_type": "code",
   "execution_count": 223,
   "metadata": {
    "ExecuteTime": {
     "end_time": "2018-05-28T00:43:24.089448Z",
     "start_time": "2018-05-28T00:43:24.075389Z"
    }
   },
   "outputs": [
    {
     "data": {
      "text/plain": [
       "False"
      ]
     },
     "execution_count": 223,
     "metadata": {},
     "output_type": "execute_result"
    }
   ],
   "source": [
    "df_temp.isnull().values.any()"
   ]
  },
  {
   "cell_type": "code",
   "execution_count": 224,
   "metadata": {
    "ExecuteTime": {
     "end_time": "2018-05-28T00:43:24.197197Z",
     "start_time": "2018-05-28T00:43:24.092981Z"
    }
   },
   "outputs": [
    {
     "data": {
      "text/plain": [
       "(10217, 1094)"
      ]
     },
     "execution_count": 224,
     "metadata": {},
     "output_type": "execute_result"
    }
   ],
   "source": [
    "X_full = X_full.join(df_temp, how='left', on='cl_id', rsuffix='period_trx')\n",
    "X_full.shape"
   ]
  },
  {
   "cell_type": "code",
   "execution_count": 225,
   "metadata": {
    "ExecuteTime": {
     "end_time": "2018-05-28T00:43:24.396089Z",
     "start_time": "2018-05-28T00:43:24.200350Z"
    }
   },
   "outputs": [
    {
     "data": {
      "text/plain": [
       "True"
      ]
     },
     "execution_count": 225,
     "metadata": {},
     "output_type": "execute_result"
    }
   ],
   "source": [
    "X_full.isnull().values.any()"
   ]
  },
  {
   "cell_type": "code",
   "execution_count": 226,
   "metadata": {
    "ExecuteTime": {
     "end_time": "2018-05-28T00:43:24.454282Z",
     "start_time": "2018-05-28T00:43:24.403606Z"
    }
   },
   "outputs": [
    {
     "data": {
      "text/plain": [
       "False"
      ]
     },
     "execution_count": 226,
     "metadata": {},
     "output_type": "execute_result"
    }
   ],
   "source": [
    "X_full.fillna(0, inplace=True)\n",
    "X_full.isnull().values.any()"
   ]
  },
  {
   "cell_type": "markdown",
   "metadata": {},
   "source": [
    "## Отбор признаков"
   ]
  },
  {
   "cell_type": "code",
   "execution_count": 299,
   "metadata": {
    "ExecuteTime": {
     "end_time": "2018-05-28T01:43:04.739468Z",
     "start_time": "2018-05-28T01:43:04.631871Z"
    }
   },
   "outputs": [],
   "source": [
    "from sklearn.preprocessing import StandardScaler\n",
    "from sklearn.pipeline import Pipeline\n",
    "from sklearn.model_selection import train_test_split, GridSearchCV, cross_val_score, RandomizedSearchCV\n",
    "from sklearn.ensemble import RandomForestClassifier\n",
    "from sklearn.linear_model import LogisticRegression\n",
    "from sklearn.decomposition import PCA\n",
    "from sklearn.feature_selection import SelectFromModel\n",
    "from sklearn.svm import LinearSVC, SVC\n",
    "\n",
    "from xgboost.sklearn import XGBClassifier\n",
    "from sklearn import model_selection\n",
    "from sklearn.neighbors import KNeighborsClassifier\n",
    "from mlxtend.classifier import StackingCVClassifier\n",
    "from scipy.stats import randint, uniform\n",
    "RANDOM_SEED = 42"
   ]
  },
  {
   "cell_type": "code",
   "execution_count": 228,
   "metadata": {
    "ExecuteTime": {
     "end_time": "2018-05-28T00:44:44.364539Z",
     "start_time": "2018-05-28T00:44:44.178463Z"
    }
   },
   "outputs": [
    {
     "data": {
      "text/plain": [
       "((5000, 1093), (5217, 1093), (5000,))"
      ]
     },
     "execution_count": 228,
     "metadata": {},
     "output_type": "execute_result"
    }
   ],
   "source": [
    "X_train = X_full[X_full['is_test']==0].copy()\n",
    "X_pred = X_full[X_full['is_test']==1].copy()\n",
    "y = pd.Series(y['target_flag'])\n",
    "X_train.drop(columns=['is_test'], inplace=True)\n",
    "X_pred.drop(columns=['is_test'], inplace=True)\n",
    "X_full.drop(columns=['is_test'], inplace=True)\n",
    "X_train.shape, X_pred.shape, y.shape"
   ]
  },
  {
   "cell_type": "code",
   "execution_count": 103,
   "metadata": {
    "ExecuteTime": {
     "end_time": "2018-05-27T21:30:38.498533Z",
     "start_time": "2018-05-27T21:30:38.494900Z"
    }
   },
   "outputs": [],
   "source": [
    "#X_train_l, X_test_l, y_train_l, y_test_l = train_test_split(X_train, y, test_size=0.30, stratify=y, random_state=42)"
   ]
  },
  {
   "cell_type": "markdown",
   "metadata": {},
   "source": [
    "### PCA"
   ]
  },
  {
   "cell_type": "markdown",
   "metadata": {},
   "source": [
    "Посмотрим, сколько признаков из 1093 останется после применения PCA трансформации с сохранением 99% дисперсии"
   ]
  },
  {
   "cell_type": "code",
   "execution_count": 229,
   "metadata": {
    "ExecuteTime": {
     "end_time": "2018-05-28T00:45:13.291912Z",
     "start_time": "2018-05-28T00:45:08.608590Z"
    }
   },
   "outputs": [
    {
     "data": {
      "text/plain": [
       "(5000, 692)"
      ]
     },
     "execution_count": 229,
     "metadata": {},
     "output_type": "execute_result"
    }
   ],
   "source": [
    "pca_pipe = Pipeline([\n",
    "    ('scaler', StandardScaler()),\n",
    "    ('select', PCA(0.99))\n",
    "])\n",
    "\n",
    "X_pca = pca_pipe.fit_transform(X_train)\n",
    "X_pca.shape"
   ]
  },
  {
   "cell_type": "markdown",
   "metadata": {},
   "source": [
    "Посмотрим, сколько признаков из 752 останется после применения PCA трансформации с сохранением 95% дисперсии"
   ]
  },
  {
   "cell_type": "code",
   "execution_count": 230,
   "metadata": {
    "ExecuteTime": {
     "end_time": "2018-05-28T00:45:27.528483Z",
     "start_time": "2018-05-28T00:45:22.793765Z"
    }
   },
   "outputs": [
    {
     "data": {
      "text/plain": [
       "(5000, 538)"
      ]
     },
     "execution_count": 230,
     "metadata": {},
     "output_type": "execute_result"
    }
   ],
   "source": [
    "pca_pipe = Pipeline([\n",
    "    ('scaler', StandardScaler()),\n",
    "    ('select', PCA(0.95))\n",
    "])\n",
    "\n",
    "X_pca = pca_pipe.fit_transform(X_train)\n",
    "X_pca.shape"
   ]
  },
  {
   "cell_type": "code",
   "execution_count": 106,
   "metadata": {
    "ExecuteTime": {
     "end_time": "2018-05-27T21:30:41.236808Z",
     "start_time": "2018-05-27T21:30:41.227482Z"
    }
   },
   "outputs": [
    {
     "data": {
      "text/plain": [
       "array([0.03106767, 0.02714321, 0.02096744, 0.01857548, 0.0161585 ,\n",
       "       0.01532126, 0.01227019, 0.01049945, 0.00968344, 0.00848629,\n",
       "       0.00781074, 0.00747184, 0.00705063, 0.00683954, 0.00633236,\n",
       "       0.0061198 , 0.0059776 , 0.00589871, 0.00567418, 0.00558193,\n",
       "       0.00539845, 0.00531877, 0.00522807, 0.00512912, 0.00504531,\n",
       "       0.00495138, 0.00485467, 0.00479135, 0.00469986, 0.00465006,\n",
       "       0.00460989, 0.00450797, 0.00443834, 0.004376  , 0.00436327,\n",
       "       0.00435261, 0.00424861, 0.00415951, 0.00412735, 0.00403375,\n",
       "       0.00402435, 0.00393693, 0.00387901, 0.00386813, 0.00379897,\n",
       "       0.00376544, 0.00373798, 0.00366701, 0.00362941, 0.00358195])"
      ]
     },
     "execution_count": 106,
     "metadata": {},
     "output_type": "execute_result"
    }
   ],
   "source": [
    "pca_pipe.named_steps['select'].explained_variance_ratio_[:50]"
   ]
  },
  {
   "cell_type": "code",
   "execution_count": 107,
   "metadata": {
    "ExecuteTime": {
     "end_time": "2018-05-27T21:30:41.254644Z",
     "start_time": "2018-05-27T21:30:41.240535Z"
    }
   },
   "outputs": [
    {
     "data": {
      "text/plain": [
       "array([[ 0.16137904,  0.15603434,  0.01544947, ...,  0.0054129 ,\n",
       "         0.00754894,  0.00095296],\n",
       "       [ 0.13921807, -0.13417366,  0.1653222 , ...,  0.00982128,\n",
       "         0.02668028,  0.00470128],\n",
       "       [-0.03397044, -0.06395249,  0.01327496, ...,  0.05083218,\n",
       "         0.04110668,  0.02326379],\n",
       "       ...,\n",
       "       [ 0.00249217, -0.00042115, -0.02329982, ..., -0.02955205,\n",
       "        -0.04388672, -0.03435163],\n",
       "       [-0.0076897 ,  0.00379237,  0.0022943 , ...,  0.00341033,\n",
       "        -0.00406829,  0.01257775],\n",
       "       [-0.00802442, -0.00453334,  0.00289126, ...,  0.03945802,\n",
       "         0.01882356,  0.04905355]])"
      ]
     },
     "execution_count": 107,
     "metadata": {},
     "output_type": "execute_result"
    }
   ],
   "source": [
    "pca_pipe.named_steps['select'].components_[:50, :]"
   ]
  },
  {
   "cell_type": "markdown",
   "metadata": {},
   "source": [
    "### SelectFomModel"
   ]
  },
  {
   "cell_type": "code",
   "execution_count": 231,
   "metadata": {
    "ExecuteTime": {
     "end_time": "2018-05-28T00:45:37.086814Z",
     "start_time": "2018-05-28T00:45:37.044336Z"
    }
   },
   "outputs": [
    {
     "data": {
      "text/html": [
       "<div>\n",
       "<style scoped>\n",
       "    .dataframe tbody tr th:only-of-type {\n",
       "        vertical-align: middle;\n",
       "    }\n",
       "\n",
       "    .dataframe tbody tr th {\n",
       "        vertical-align: top;\n",
       "    }\n",
       "\n",
       "    .dataframe thead th {\n",
       "        text-align: right;\n",
       "    }\n",
       "</style>\n",
       "<table border=\"1\" class=\"dataframe\">\n",
       "  <thead>\n",
       "    <tr style=\"text-align: right;\">\n",
       "      <th></th>\n",
       "      <th>sum</th>\n",
       "      <th>count</th>\n",
       "      <th>mean</th>\n",
       "      <th>channel_type_NaN</th>\n",
       "      <th>channel_type_type1</th>\n",
       "      <th>channel_type_type2</th>\n",
       "      <th>channel_type_type3</th>\n",
       "      <th>channel_type_type4</th>\n",
       "      <th>channel_type_type5</th>\n",
       "      <th>sum_0742</th>\n",
       "      <th>...</th>\n",
       "      <th>mean_WD_ATM_ROS_2017-07</th>\n",
       "      <th>mean_WD_ATM_ROS_2017-08</th>\n",
       "      <th>mean_WD_ATM_ROS_2017-09</th>\n",
       "      <th>mean_WD_ATM_ROS_2017-10</th>\n",
       "      <th>mean_WD_ATM_ROS_2017-11</th>\n",
       "      <th>mean_WD_ATM_ROS_2017-12</th>\n",
       "      <th>mean_WD_ATM_ROS_2018-01</th>\n",
       "      <th>mean_WD_ATM_ROS_2018-02</th>\n",
       "      <th>mean_WD_ATM_ROS_2018-03</th>\n",
       "      <th>mean_WD_ATM_ROS_2018-04</th>\n",
       "    </tr>\n",
       "    <tr>\n",
       "      <th>cl_id</th>\n",
       "      <th></th>\n",
       "      <th></th>\n",
       "      <th></th>\n",
       "      <th></th>\n",
       "      <th></th>\n",
       "      <th></th>\n",
       "      <th></th>\n",
       "      <th></th>\n",
       "      <th></th>\n",
       "      <th></th>\n",
       "      <th></th>\n",
       "      <th></th>\n",
       "      <th></th>\n",
       "      <th></th>\n",
       "      <th></th>\n",
       "      <th></th>\n",
       "      <th></th>\n",
       "      <th></th>\n",
       "      <th></th>\n",
       "      <th></th>\n",
       "      <th></th>\n",
       "    </tr>\n",
       "  </thead>\n",
       "  <tbody>\n",
       "    <tr>\n",
       "      <th>0</th>\n",
       "      <td>6.438300e+04</td>\n",
       "      <td>5</td>\n",
       "      <td>12876.600000</td>\n",
       "      <td>1</td>\n",
       "      <td>0</td>\n",
       "      <td>0</td>\n",
       "      <td>0</td>\n",
       "      <td>0</td>\n",
       "      <td>0</td>\n",
       "      <td>0.0</td>\n",
       "      <td>...</td>\n",
       "      <td>0.000000</td>\n",
       "      <td>0.0</td>\n",
       "      <td>0.0</td>\n",
       "      <td>0.0</td>\n",
       "      <td>0.0</td>\n",
       "      <td>0.0</td>\n",
       "      <td>0.0</td>\n",
       "      <td>0.0</td>\n",
       "      <td>0.0</td>\n",
       "      <td>0.0</td>\n",
       "    </tr>\n",
       "    <tr>\n",
       "      <th>1</th>\n",
       "      <td>3.271860e+05</td>\n",
       "      <td>104</td>\n",
       "      <td>3146.019000</td>\n",
       "      <td>1</td>\n",
       "      <td>0</td>\n",
       "      <td>0</td>\n",
       "      <td>0</td>\n",
       "      <td>0</td>\n",
       "      <td>0</td>\n",
       "      <td>0.0</td>\n",
       "      <td>...</td>\n",
       "      <td>50000.000000</td>\n",
       "      <td>0.0</td>\n",
       "      <td>0.0</td>\n",
       "      <td>0.0</td>\n",
       "      <td>0.0</td>\n",
       "      <td>0.0</td>\n",
       "      <td>0.0</td>\n",
       "      <td>0.0</td>\n",
       "      <td>0.0</td>\n",
       "      <td>0.0</td>\n",
       "    </tr>\n",
       "    <tr>\n",
       "      <th>5</th>\n",
       "      <td>5.482042e+05</td>\n",
       "      <td>142</td>\n",
       "      <td>3860.592809</td>\n",
       "      <td>1</td>\n",
       "      <td>0</td>\n",
       "      <td>0</td>\n",
       "      <td>0</td>\n",
       "      <td>0</td>\n",
       "      <td>0</td>\n",
       "      <td>0.0</td>\n",
       "      <td>...</td>\n",
       "      <td>0.000000</td>\n",
       "      <td>0.0</td>\n",
       "      <td>0.0</td>\n",
       "      <td>0.0</td>\n",
       "      <td>0.0</td>\n",
       "      <td>0.0</td>\n",
       "      <td>0.0</td>\n",
       "      <td>0.0</td>\n",
       "      <td>0.0</td>\n",
       "      <td>0.0</td>\n",
       "    </tr>\n",
       "    <tr>\n",
       "      <th>9</th>\n",
       "      <td>8.493151e+05</td>\n",
       "      <td>39</td>\n",
       "      <td>21777.310000</td>\n",
       "      <td>1</td>\n",
       "      <td>0</td>\n",
       "      <td>0</td>\n",
       "      <td>0</td>\n",
       "      <td>0</td>\n",
       "      <td>0</td>\n",
       "      <td>0.0</td>\n",
       "      <td>...</td>\n",
       "      <td>75000.000000</td>\n",
       "      <td>0.0</td>\n",
       "      <td>0.0</td>\n",
       "      <td>0.0</td>\n",
       "      <td>0.0</td>\n",
       "      <td>0.0</td>\n",
       "      <td>0.0</td>\n",
       "      <td>0.0</td>\n",
       "      <td>0.0</td>\n",
       "      <td>0.0</td>\n",
       "    </tr>\n",
       "    <tr>\n",
       "      <th>10</th>\n",
       "      <td>1.124344e+06</td>\n",
       "      <td>463</td>\n",
       "      <td>2428.388747</td>\n",
       "      <td>1</td>\n",
       "      <td>0</td>\n",
       "      <td>0</td>\n",
       "      <td>0</td>\n",
       "      <td>0</td>\n",
       "      <td>0</td>\n",
       "      <td>0.0</td>\n",
       "      <td>...</td>\n",
       "      <td>1069.230769</td>\n",
       "      <td>21550.0</td>\n",
       "      <td>2562.5</td>\n",
       "      <td>0.0</td>\n",
       "      <td>0.0</td>\n",
       "      <td>0.0</td>\n",
       "      <td>0.0</td>\n",
       "      <td>0.0</td>\n",
       "      <td>0.0</td>\n",
       "      <td>0.0</td>\n",
       "    </tr>\n",
       "  </tbody>\n",
       "</table>\n",
       "<p>5 rows × 1093 columns</p>\n",
       "</div>"
      ],
      "text/plain": [
       "                sum  count          mean  channel_type_NaN  \\\n",
       "cl_id                                                        \n",
       "0      6.438300e+04      5  12876.600000                 1   \n",
       "1      3.271860e+05    104   3146.019000                 1   \n",
       "5      5.482042e+05    142   3860.592809                 1   \n",
       "9      8.493151e+05     39  21777.310000                 1   \n",
       "10     1.124344e+06    463   2428.388747                 1   \n",
       "\n",
       "       channel_type_type1  channel_type_type2  channel_type_type3  \\\n",
       "cl_id                                                               \n",
       "0                       0                   0                   0   \n",
       "1                       0                   0                   0   \n",
       "5                       0                   0                   0   \n",
       "9                       0                   0                   0   \n",
       "10                      0                   0                   0   \n",
       "\n",
       "       channel_type_type4  channel_type_type5  sum_0742  \\\n",
       "cl_id                                                     \n",
       "0                       0                   0       0.0   \n",
       "1                       0                   0       0.0   \n",
       "5                       0                   0       0.0   \n",
       "9                       0                   0       0.0   \n",
       "10                      0                   0       0.0   \n",
       "\n",
       "                ...             mean_WD_ATM_ROS_2017-07  \\\n",
       "cl_id           ...                                       \n",
       "0               ...                            0.000000   \n",
       "1               ...                        50000.000000   \n",
       "5               ...                            0.000000   \n",
       "9               ...                        75000.000000   \n",
       "10              ...                         1069.230769   \n",
       "\n",
       "       mean_WD_ATM_ROS_2017-08  mean_WD_ATM_ROS_2017-09  \\\n",
       "cl_id                                                     \n",
       "0                          0.0                      0.0   \n",
       "1                          0.0                      0.0   \n",
       "5                          0.0                      0.0   \n",
       "9                          0.0                      0.0   \n",
       "10                     21550.0                   2562.5   \n",
       "\n",
       "       mean_WD_ATM_ROS_2017-10  mean_WD_ATM_ROS_2017-11  \\\n",
       "cl_id                                                     \n",
       "0                          0.0                      0.0   \n",
       "1                          0.0                      0.0   \n",
       "5                          0.0                      0.0   \n",
       "9                          0.0                      0.0   \n",
       "10                         0.0                      0.0   \n",
       "\n",
       "       mean_WD_ATM_ROS_2017-12  mean_WD_ATM_ROS_2018-01  \\\n",
       "cl_id                                                     \n",
       "0                          0.0                      0.0   \n",
       "1                          0.0                      0.0   \n",
       "5                          0.0                      0.0   \n",
       "9                          0.0                      0.0   \n",
       "10                         0.0                      0.0   \n",
       "\n",
       "       mean_WD_ATM_ROS_2018-02  mean_WD_ATM_ROS_2018-03  \\\n",
       "cl_id                                                     \n",
       "0                          0.0                      0.0   \n",
       "1                          0.0                      0.0   \n",
       "5                          0.0                      0.0   \n",
       "9                          0.0                      0.0   \n",
       "10                         0.0                      0.0   \n",
       "\n",
       "       mean_WD_ATM_ROS_2018-04  \n",
       "cl_id                           \n",
       "0                          0.0  \n",
       "1                          0.0  \n",
       "5                          0.0  \n",
       "9                          0.0  \n",
       "10                         0.0  \n",
       "\n",
       "[5 rows x 1093 columns]"
      ]
     },
     "execution_count": 231,
     "metadata": {},
     "output_type": "execute_result"
    }
   ],
   "source": [
    "X_train.head()"
   ]
  },
  {
   "cell_type": "code",
   "execution_count": null,
   "metadata": {
    "ExecuteTime": {
     "end_time": "2018-05-27T19:41:45.486045Z",
     "start_time": "2018-05-27T19:41:45.479870Z"
    }
   },
   "outputs": [],
   "source": []
  },
  {
   "cell_type": "code",
   "execution_count": 109,
   "metadata": {
    "ExecuteTime": {
     "end_time": "2018-05-27T21:30:41.315210Z",
     "start_time": "2018-05-27T21:30:41.308945Z"
    }
   },
   "outputs": [
    {
     "data": {
      "text/plain": [
       "(5000,)"
      ]
     },
     "execution_count": 109,
     "metadata": {},
     "output_type": "execute_result"
    }
   ],
   "source": [
    "y.shape"
   ]
  },
  {
   "cell_type": "code",
   "execution_count": 232,
   "metadata": {
    "ExecuteTime": {
     "end_time": "2018-05-28T00:45:48.446559Z",
     "start_time": "2018-05-28T00:45:47.700872Z"
    }
   },
   "outputs": [
    {
     "data": {
      "text/plain": [
       "(5000, 282)"
      ]
     },
     "execution_count": 232,
     "metadata": {},
     "output_type": "execute_result"
    }
   ],
   "source": [
    "select_rf_pipe = Pipeline([\n",
    "    ('scaler', StandardScaler()),\n",
    "    ('select', SelectFromModel(estimator=RandomForestClassifier()))\n",
    "])\n",
    "\n",
    "X_from_rf = select_rf_pipe.fit(X_train, y).transform(X_train)\n",
    "X_from_rf.shape"
   ]
  },
  {
   "cell_type": "markdown",
   "metadata": {},
   "source": [
    "Важность признаков (top 40 из 217), отобранных с помощью модели RandomForestClassifier"
   ]
  },
  {
   "cell_type": "code",
   "execution_count": 233,
   "metadata": {
    "ExecuteTime": {
     "end_time": "2018-05-28T00:46:00.635420Z",
     "start_time": "2018-05-28T00:46:00.081658Z"
    }
   },
   "outputs": [
    {
     "data": {
      "text/plain": [
       "<matplotlib.axes._subplots.AxesSubplot at 0x7fae0e3f3908>"
      ]
     },
     "execution_count": 233,
     "metadata": {},
     "output_type": "execute_result"
    },
    {
     "data": {
      "image/png": "[encoded data removed]",
      "text/plain": [
       "<Figure size 576x576 with 1 Axes>"
      ]
     },
     "metadata": {},
     "output_type": "display_data"
    }
   ],
   "source": [
    "imp = pd.Series(select_rf_pipe.named_steps['select'].estimator_.feature_importances_, index=X_train.columns)\n",
    "imp.sort_values(ascending=False).head(40)[::-1].plot(kind='barh', title='Важность признаков RandomForest',  figsize=(8,8))"
   ]
  },
  {
   "cell_type": "code",
   "execution_count": 234,
   "metadata": {
    "ExecuteTime": {
     "end_time": "2018-05-28T00:46:53.907679Z",
     "start_time": "2018-05-28T00:46:41.802605Z"
    }
   },
   "outputs": [
    {
     "data": {
      "text/plain": [
       "Pipeline(memory=None,\n",
       "     steps=[('scaler', StandardScaler(copy=True, with_mean=True, with_std=True)), ('select', SelectFromModel(estimator=LogisticRegression(C=1.0, class_weight=None, dual=False, fit_intercept=True,\n",
       "          intercept_scaling=1, max_iter=100, multi_class='ovr', n_jobs=1,\n",
       "          penalty='l1', random_state=None, solver='liblinear', tol=0.0001,\n",
       "          verbose=0, warm_start=False),\n",
       "        norm_order=1, prefit=False, threshold=None))])"
      ]
     },
     "execution_count": 234,
     "metadata": {},
     "output_type": "execute_result"
    }
   ],
   "source": [
    "lasso_pipe = Pipeline([\n",
    "    ('scaler', StandardScaler()),\n",
    "    ('select', SelectFromModel(LogisticRegression(penalty='l1')))\n",
    "])\n",
    "\n",
    "\n",
    "lasso_pipe.fit(X_train, y)"
   ]
  },
  {
   "cell_type": "code",
   "execution_count": 235,
   "metadata": {
    "ExecuteTime": {
     "end_time": "2018-05-28T00:46:57.748885Z",
     "start_time": "2018-05-28T00:46:57.188167Z"
    }
   },
   "outputs": [
    {
     "data": {
      "text/plain": [
       "<matplotlib.axes._subplots.AxesSubplot at 0x7fae0e1cefd0>"
      ]
     },
     "execution_count": 235,
     "metadata": {},
     "output_type": "execute_result"
    },
    {
     "data": {
      "image/png": "[encoded data removed]",
      "text/plain": [
       "<Figure size 576x576 with 1 Axes>"
      ]
     },
     "metadata": {},
     "output_type": "display_data"
    }
   ],
   "source": [
    "imp_lasso = pd.Series(lasso_pipe.named_steps['select'].estimator_.coef_[0], index=X_train.columns)\n",
    "imp_lasso = imp_lasso.reindex(imp_lasso.abs().sort_values(ascending=False).index)\n",
    "imp_lasso.head(40)[::-1].plot(kind='barh', title='Важность признаков Lasso',  figsize=(8,8))"
   ]
  },
  {
   "cell_type": "markdown",
   "metadata": {},
   "source": [
    "## Модели"
   ]
  },
  {
   "cell_type": "code",
   "execution_count": 236,
   "metadata": {
    "ExecuteTime": {
     "end_time": "2018-05-28T00:47:42.709440Z",
     "start_time": "2018-05-28T00:47:42.700881Z"
    }
   },
   "outputs": [],
   "source": [
    "clf_line1 = Pipeline([\n",
    "    ('scaler', StandardScaler()),\n",
    "    ('clf', LogisticRegression())\n",
    "])\n",
    "\n",
    "\n",
    "clf_line2 = Pipeline([\n",
    "    ('scaler', StandardScaler()),\n",
    "    ('select', PCA(0.99)),\n",
    "    ('clf', LogisticRegression())\n",
    "])\n",
    "\n",
    "clf_line3 = Pipeline([\n",
    "    ('scaler', StandardScaler()),\n",
    "#    ('select1', PCA(0.99)),\n",
    "    ('select2', SelectFromModel(estimator=RandomForestClassifier())),\n",
    "    ('clf', LogisticRegression())\n",
    "])\n",
    "\n",
    "clf_line4 = Pipeline([\n",
    "    ('scaler', StandardScaler()),\n",
    "#    ('select1', PCA(0.99)),\n",
    "    ('select2', SelectFromModel(LogisticRegression(penalty='l1'))),\n",
    "    ('clf', LogisticRegression())\n",
    "])\n",
    "\n",
    "\n",
    "\n",
    "\n",
    "#cross_val_score(clf_line1, X_train_l, y_train_l, cv=5, scoring='roc_auc')\n"
   ]
  },
  {
   "cell_type": "code",
   "execution_count": 237,
   "metadata": {
    "ExecuteTime": {
     "end_time": "2018-05-28T00:48:18.205129Z",
     "start_time": "2018-05-28T00:47:47.501836Z"
    }
   },
   "outputs": [
    {
     "name": "stdout",
     "output_type": "stream",
     "text": [
      "Линейная модель:\n",
      "roc_auc на cv: 0.7033574264148604\n"
     ]
    }
   ],
   "source": [
    "print('Линейная модель:')\n",
    "print('roc_auc на cv: {}'.format(cross_val_score(clf_line1, X_train, y, cv=5, scoring='roc_auc').mean()))"
   ]
  },
  {
   "cell_type": "code",
   "execution_count": 238,
   "metadata": {
    "ExecuteTime": {
     "end_time": "2018-05-28T00:49:15.602089Z",
     "start_time": "2018-05-28T00:48:35.447253Z"
    }
   },
   "outputs": [
    {
     "name": "stdout",
     "output_type": "stream",
     "text": [
      "Линейная модель c PCA:\n",
      "roc_auc на cv: 0.7083419766034608\n"
     ]
    }
   ],
   "source": [
    "print('Линейная модель c PCA:')\n",
    "print('roc_auc на cv: {}'.format(cross_val_score(clf_line2, X_train, y, cv=5, scoring='roc_auc').mean()))"
   ]
  },
  {
   "cell_type": "code",
   "execution_count": 239,
   "metadata": {
    "ExecuteTime": {
     "end_time": "2018-05-28T00:49:29.127268Z",
     "start_time": "2018-05-28T00:49:22.238650Z"
    }
   },
   "outputs": [
    {
     "name": "stdout",
     "output_type": "stream",
     "text": [
      "Линейная модель c PCA и отбором признаков:\n",
      "roc_auc на cv: 0.7593784937426278\n"
     ]
    }
   ],
   "source": [
    "print('Линейная модель c PCA и отбором признаков:')\n",
    "print('roc_auc на cv: {}'.format(cross_val_score(clf_line3, X_train, y, cv=5, scoring='roc_auc').mean()))"
   ]
  },
  {
   "cell_type": "code",
   "execution_count": 240,
   "metadata": {
    "ExecuteTime": {
     "end_time": "2018-05-28T00:50:14.553175Z",
     "start_time": "2018-05-28T00:49:32.194573Z"
    }
   },
   "outputs": [
    {
     "name": "stdout",
     "output_type": "stream",
     "text": [
      "Линейная модель c PCA и отбором признаков:\n",
      "roc_auc на cv: 0.7069782270021179\n"
     ]
    }
   ],
   "source": [
    "print('Линейная модель c PCA и отбором признаков:')\n",
    "print('roc_auc на cv: {}'.format(cross_val_score(clf_line4, X_train, y, cv=5, scoring='roc_auc').mean()))"
   ]
  },
  {
   "cell_type": "code",
   "execution_count": 242,
   "metadata": {
    "ExecuteTime": {
     "end_time": "2018-05-28T00:50:35.754189Z",
     "start_time": "2018-05-28T00:50:35.744910Z"
    }
   },
   "outputs": [],
   "source": [
    "clf_svc1 = Pipeline([\n",
    "    ('scaler', StandardScaler()),\n",
    "#    ('select1', PCA(0.99)),\n",
    "    ('select2', SelectFromModel(estimator=RandomForestClassifier())),\n",
    "    ('clf', LinearSVC())\n",
    "])\n",
    "\n",
    "clf_svc2 = Pipeline([\n",
    "    ('scaler', StandardScaler()),\n",
    "#    ('select1', PCA(0.99)),\n",
    "    ('select2', SelectFromModel(estimator=RandomForestClassifier())),\n",
    "    ('clf', SVC(kernel='rbf'))\n",
    "])\n",
    "\n",
    "clf_svc3 = Pipeline([\n",
    "    ('scaler', StandardScaler()),\n",
    "#    ('select1', PCA(0.99)),\n",
    "    ('select2', SelectFromModel(estimator=RandomForestClassifier())),\n",
    "    ('clf', SVC(kernel='poly'))\n",
    "])\n",
    "\n",
    "\n",
    "clf_svc4 = Pipeline([\n",
    "    ('scaler', StandardScaler()),\n",
    "#    ('select1', PCA(0.99)),\n",
    "    ('select2', SelectFromModel(LogisticRegression(penalty='l1'))),\n",
    "    ('clf', LinearSVC())\n",
    "])\n"
   ]
  },
  {
   "cell_type": "code",
   "execution_count": 243,
   "metadata": {
    "ExecuteTime": {
     "end_time": "2018-05-28T00:51:00.364513Z",
     "start_time": "2018-05-28T00:50:39.604839Z"
    }
   },
   "outputs": [
    {
     "name": "stdout",
     "output_type": "stream",
     "text": [
      "Линейный SVC:\n",
      "roc_auc на cv: 0.7557782956868412\n"
     ]
    }
   ],
   "source": [
    "print('Линейный SVC:')\n",
    "print('roc_auc на cv: {}'.format(cross_val_score(clf_svc1, X_train, y, cv=5, scoring='roc_auc').mean()))"
   ]
  },
  {
   "cell_type": "code",
   "execution_count": 244,
   "metadata": {
    "ExecuteTime": {
     "end_time": "2018-05-28T00:51:49.011467Z",
     "start_time": "2018-05-28T00:51:11.780720Z"
    }
   },
   "outputs": [
    {
     "name": "stdout",
     "output_type": "stream",
     "text": [
      "Нелинейный SVC:\n",
      "roc_auc на cv: 0.7652815162522237\n"
     ]
    }
   ],
   "source": [
    "print('Нелинейный SVC:')\n",
    "print('roc_auc на cv: {}'.format(cross_val_score(clf_svc2, X_train, y, cv=5, scoring='roc_auc').mean()))"
   ]
  },
  {
   "cell_type": "code",
   "execution_count": 189,
   "metadata": {
    "ExecuteTime": {
     "end_time": "2018-05-27T22:09:03.555845Z",
     "start_time": "2018-05-27T22:08:31.943623Z"
    }
   },
   "outputs": [
    {
     "name": "stdout",
     "output_type": "stream",
     "text": [
      "Нелинейный SVC:\n",
      "roc_auc на cv: 0.7277766298279056\n"
     ]
    }
   ],
   "source": [
    "print('Нелинейный SVC:')\n",
    "print('roc_auc на cv: {}'.format(cross_val_score(clf_svc3, X_train, y, cv=5, scoring='roc_auc').mean()))"
   ]
  },
  {
   "cell_type": "code",
   "execution_count": 245,
   "metadata": {
    "ExecuteTime": {
     "end_time": "2018-05-28T00:53:18.418616Z",
     "start_time": "2018-05-28T00:52:09.071291Z"
    }
   },
   "outputs": [
    {
     "name": "stdout",
     "output_type": "stream",
     "text": [
      "Нелинейный SVC:\n",
      "roc_auc на cv: 0.7028787326377943\n"
     ]
    }
   ],
   "source": [
    "print('Нелинейный SVC:')\n",
    "print('roc_auc на cv: {}'.format(cross_val_score(clf_svc4, X_train, y, cv=5, scoring='roc_auc').mean()))"
   ]
  },
  {
   "cell_type": "code",
   "execution_count": 249,
   "metadata": {
    "ExecuteTime": {
     "end_time": "2018-05-28T00:54:21.151815Z",
     "start_time": "2018-05-28T00:54:21.144689Z"
    }
   },
   "outputs": [],
   "source": [
    "clf_rf1 = Pipeline([\n",
    "    ('scaler', StandardScaler()),\n",
    "    ('clf', RandomForestClassifier())\n",
    "])\n",
    "\n",
    "\n",
    "clf_rf2 = Pipeline([\n",
    "    ('scaler', StandardScaler()),\n",
    "    ('select', PCA(0.99)),\n",
    "    ('clf', RandomForestClassifier())\n",
    "])\n",
    "\n",
    "clf_rf3 = Pipeline([\n",
    "    ('scaler', StandardScaler()),\n",
    "    ('select1', PCA(0.99)),\n",
    "    ('select2', SelectFromModel(LogisticRegression(penalty='l1'))),\n",
    "    ('clf', RandomForestClassifier())\n",
    "])"
   ]
  },
  {
   "cell_type": "code",
   "execution_count": 247,
   "metadata": {
    "ExecuteTime": {
     "end_time": "2018-05-28T00:53:35.052220Z",
     "start_time": "2018-05-28T00:53:32.658954Z"
    }
   },
   "outputs": [
    {
     "name": "stdout",
     "output_type": "stream",
     "text": [
      "Случайный лес:\n",
      "roc_auc на cv: 0.748750923918324\n"
     ]
    }
   ],
   "source": [
    "print('Случайный лес:')\n",
    "print('roc_auc на cv: {}'.format(cross_val_score(clf_rf1, X_train, y, cv=5, scoring='roc_auc').mean()))"
   ]
  },
  {
   "cell_type": "code",
   "execution_count": 124,
   "metadata": {
    "ExecuteTime": {
     "end_time": "2018-05-27T21:33:35.536320Z",
     "start_time": "2018-05-27T21:33:26.341273Z"
    }
   },
   "outputs": [
    {
     "name": "stdout",
     "output_type": "stream",
     "text": [
      "Случайный лес с PCA:\n",
      "roc_auc на cv: 0.6216510860792349\n"
     ]
    }
   ],
   "source": [
    "print('Случайный лес с PCA:')\n",
    "print('roc_auc на cv: {}'.format(cross_val_score(clf_rf2, X_train, y, cv=5, scoring='roc_auc').mean()))"
   ]
  },
  {
   "cell_type": "code",
   "execution_count": 250,
   "metadata": {
    "ExecuteTime": {
     "end_time": "2018-05-28T00:55:05.677225Z",
     "start_time": "2018-05-28T00:54:25.814768Z"
    }
   },
   "outputs": [
    {
     "name": "stdout",
     "output_type": "stream",
     "text": [
      "Случайный лес с PCA и отбором признаков:\n",
      "roc_auc на cv: 0.6242366663768177\n"
     ]
    }
   ],
   "source": [
    "print('Случайный лес с PCA и отбором признаков:')\n",
    "print('roc_auc на cv: {}'.format(cross_val_score(clf_rf3, X_train, y, cv=5, scoring='roc_auc').mean()))"
   ]
  },
  {
   "cell_type": "code",
   "execution_count": 107,
   "metadata": {
    "ExecuteTime": {
     "end_time": "2018-05-28T00:23:59.325643Z",
     "start_time": "2018-05-28T00:23:59.321667Z"
    }
   },
   "outputs": [],
   "source": []
  },
  {
   "cell_type": "code",
   "execution_count": 203,
   "metadata": {
    "ExecuteTime": {
     "end_time": "2018-05-27T22:31:32.169441Z",
     "start_time": "2018-05-27T22:30:02.366011Z"
    },
    "scrolled": true
   },
   "outputs": [
    {
     "name": "stdout",
     "output_type": "stream",
     "text": [
      "5-fold cross validation:\n",
      "\n",
      "Accuracy: 0.66 (+/- 0.06) [KNN]\n",
      "Accuracy: 0.75 (+/- 0.07) [Random Forest]\n",
      "Accuracy: 0.77 (+/- 0.09) [SVC]\n",
      "Accuracy: 0.72 (+/- 0.08) [StackingClassifier]\n"
     ]
    }
   ],
   "source": [
    "\n",
    "clf_knn = Pipeline([\n",
    "    ('scaler', StandardScaler()),\n",
    "#    ('select', PCA(0.80)),\n",
    "    ('select2', SelectFromModel(estimator=RandomForestClassifier())),\n",
    "    ('clf', KNeighborsClassifier(n_neighbors=4))\n",
    "])\n",
    "\n",
    "clf_rf = Pipeline([\n",
    "    ('scaler', StandardScaler()),\n",
    "#    ('select', PCA(0.99)),\n",
    "    ('select2', SelectFromModel(LogisticRegression(penalty='l1'))),\n",
    "    ('clf', RandomForestClassifier(random_state=RANDOM_SEED))\n",
    "])\n",
    "\n",
    "clf_svc = Pipeline([\n",
    "    ('scaler', StandardScaler()),\n",
    "#    ('select', PCA(0.99)),\n",
    "    ('select2', SelectFromModel(estimator=RandomForestClassifier())),\n",
    "    ('clf', LinearSVC())\n",
    "])\n",
    "\n",
    "\n",
    "\n",
    "lr = LogisticRegression(penalty='l1')\n",
    "\n",
    "np.random.seed(RANDOM_SEED)\n",
    "sclf = StackingCVClassifier(classifiers=[clf_knn, clf_rf, clf_svc], meta_classifier=lr)\n",
    "\n",
    "print('5-fold cross validation:\\n')\n",
    "\n",
    "for clf, label in zip([clf_knn, clf_rf, clf_svc, sclf], \n",
    "                      ['KNN', \n",
    "                       'Random Forest', \n",
    "                       'SVC',\n",
    "                       'StackingClassifier']):\n",
    "\n",
    "    scores = cross_val_score(clf, X_train.values, y.values, cv=3, scoring='roc_auc')\n",
    "    print(\"Accuracy: %0.2f (+/- %0.2f) [%s]\" \n",
    "          % (scores.mean(), scores.std(), label))\n"
   ]
  },
  {
   "cell_type": "code",
   "execution_count": 128,
   "metadata": {
    "ExecuteTime": {
     "end_time": "2018-05-27T21:39:03.207609Z",
     "start_time": "2018-05-27T21:39:03.203132Z"
    }
   },
   "outputs": [],
   "source": [
    "from sklearn.ensemble import GradientBoostingClassifier"
   ]
  },
  {
   "cell_type": "code",
   "execution_count": 212,
   "metadata": {
    "ExecuteTime": {
     "end_time": "2018-05-27T22:35:55.145952Z",
     "start_time": "2018-05-27T22:35:55.140556Z"
    }
   },
   "outputs": [],
   "source": [
    "clf_gb1 = Pipeline([\n",
    "    ('scaler', StandardScaler()),\n",
    "#    ('select', PCA(0.99)),\n",
    "#    ('select2', SelectFromModel(LogisticRegression(penalty='l1'))),\n",
    "    ('clf', GradientBoostingClassifier(n_estimators=1000, random_state=RANDOM_SEED ))\n",
    "])\n",
    "\n"
   ]
  },
  {
   "cell_type": "code",
   "execution_count": 213,
   "metadata": {
    "ExecuteTime": {
     "end_time": "2018-05-27T22:36:17.208961Z",
     "start_time": "2018-05-27T22:35:57.852907Z"
    }
   },
   "outputs": [
    {
     "name": "stdout",
     "output_type": "stream",
     "text": [
      "GB с PCA :\n",
      "roc_auc на cv: 0.793508996375068\n"
     ]
    }
   ],
   "source": [
    "print('GB с PCA :')\n",
    "print('roc_auc на cv: {}'.format(cross_val_score(clf_gb1, X_train, y, cv=3, scoring='roc_auc', n_jobs=-1).mean()))"
   ]
  },
  {
   "cell_type": "code",
   "execution_count": 104,
   "metadata": {
    "ExecuteTime": {
     "end_time": "2018-05-28T00:23:22.107551Z",
     "start_time": "2018-05-28T00:23:22.061771Z"
    }
   },
   "outputs": [],
   "source": []
  },
  {
   "cell_type": "code",
   "execution_count": 295,
   "metadata": {
    "ExecuteTime": {
     "end_time": "2018-05-28T01:35:30.059634Z",
     "start_time": "2018-05-28T01:35:30.052181Z"
    }
   },
   "outputs": [],
   "source": [
    "clf_xgb1 = Pipeline([\n",
    "#    ('scaler', StandardScaler()),\n",
    "#    ('select', PCA(0.99)),\n",
    "#    ('select2', SelectFromModel(LogisticRegression(penalty='l1'))),\n",
    "    ('clf', XGBClassifier(n_estimators=100, reg_alpha=0.001, min_child_weight=10, random_state=RANDOM_SEED, max_depth=3, learning_rate=0.06, subsample=0.8, colsample_bytree=0.8))\n",
    "])"
   ]
  },
  {
   "cell_type": "code",
   "execution_count": 296,
   "metadata": {
    "ExecuteTime": {
     "end_time": "2018-05-28T01:36:23.813999Z",
     "start_time": "2018-05-28T01:35:31.202141Z"
    }
   },
   "outputs": [
    {
     "name": "stdout",
     "output_type": "stream",
     "text": [
      "XGB:\n",
      "roc_auc на cv: 0.8244194144895293\n",
      "CPU times: user 1.47 s, sys: 204 ms, total: 1.67 s\n",
      "Wall time: 52.6 s\n"
     ]
    }
   ],
   "source": [
    "%%time\n",
    "print('XGB:')\n",
    "print('roc_auc на cv: {}'.format(cross_val_score(clf_xgb1, X_train, y, cv=10, scoring='roc_auc', n_jobs=-1).mean()))"
   ]
  },
  {
   "cell_type": "markdown",
   "metadata": {},
   "source": [
    "### XGBOOST"
   ]
  },
  {
   "cell_type": "code",
   "execution_count": 301,
   "metadata": {
    "ExecuteTime": {
     "end_time": "2018-05-28T01:45:57.806621Z",
     "start_time": "2018-05-28T01:45:57.798779Z"
    }
   },
   "outputs": [],
   "source": [
    "def find_params(clf, param_grid, scoring='roc_auc', n_iter=50, fit_params={}):\n",
    "    clf_grid = RandomizedSearchCV(\n",
    "        clf, \n",
    "        param_distributions=param_grid, \n",
    "        cv=10, \n",
    "        n_jobs=-1, \n",
    "        scoring=scoring, \n",
    "        random_state=42, \n",
    "        n_iter=n_iter, \n",
    "#        fit_params = fit_params\n",
    "#        verbose=3\n",
    "    )\n",
    "    clf_grid.fit(X_train, y, **fit_params)\n",
    "#    best_prep_params = clf_grid.best_estimator_.named_steps['prep'].get_params()\n",
    "    best_params = clf_grid.best_estimator_.named_steps['clf'].get_params()\n",
    "    best_score = clf_grid.best_score_\n",
    "#    msle_scores[clf_grid.best_estimator_.named_steps['reg'].__class__.__name__] = -clf_grid.score(X_test, y_test)\n",
    "    print(clf_grid.best_estimator_.named_steps['clf'].__class__.__name__)\n",
    "#    print('Best prep params: {}'.format(best_prep_params))\n",
    "    print('Best params: {}'.format(best_params))\n",
    "    print('roc_auc на cv: {}'.format(best_score))\n",
    "    return clf_grid.best_estimator_.named_steps['clf'], best_params"
   ]
  },
  {
   "cell_type": "code",
   "execution_count": 302,
   "metadata": {
    "ExecuteTime": {
     "end_time": "2018-05-28T02:23:02.604035Z",
     "start_time": "2018-05-28T01:46:58.703642Z"
    }
   },
   "outputs": [
    {
     "name": "stdout",
     "output_type": "stream",
     "text": [
      "XGBClassifier\n",
      "Best params: {'base_score': 0.5, 'booster': 'gbtree', 'colsample_bylevel': 1, 'colsample_bytree': 0.22554447458683766, 'gamma': 0, 'learning_rate': 0.19607232426760907, 'max_delta_step': 0, 'max_depth': 3, 'min_child_weight': 16, 'missing': None, 'n_estimators': 100, 'n_jobs': 1, 'nthread': None, 'objective': 'binary:logistic', 'random_state': 42, 'reg_alpha': 0, 'reg_lambda': 1, 'scale_pos_weight': 1, 'seed': None, 'silent': True, 'subsample': 0.5628109945722505}\n",
      "roc_auc на cv: 0.8330438612625699\n"
     ]
    }
   ],
   "source": [
    "xgb_pipe = Pipeline([\n",
    "#    ('prep', Imputer()),\n",
    "    ('clf', XGBClassifier(random_state=42))\n",
    "])\n",
    "xgb_params = {    \n",
    "#    'prep__strategy': ['mean', 'median', 'most_frequent'],\n",
    "    'clf__n_estimators': [100],\n",
    "    'clf__learning_rate': uniform(loc=0.05, scale=0.5),\n",
    "    'clf__colsample_bytree': uniform(loc=0.1, scale=0.9),\n",
    "    'clf__max_depth': randint(low=1, high=10),\n",
    "    'clf__min_child_weight': randint(low=5, high=20),\n",
    "    'clf__subsample': uniform(loc=0.1, scale=0.9),\n",
    "}\n",
    "best_estimator, best_params = find_params(xgb_pipe, xgb_params, 'roc_auc', 50)"
   ]
  },
  {
   "cell_type": "markdown",
   "metadata": {},
   "source": [
    "## Предсказание"
   ]
  },
  {
   "cell_type": "markdown",
   "metadata": {},
   "source": [
    "Лучшей моделью с параметрами по умолчанию оказался нелинейный SVM с ядром RBF. Точность можно было бы улучшить настройкой параметров на GridSearch. Времени на это не осталось. Делаем предсказание, как есть."
   ]
  },
  {
   "cell_type": "code",
   "execution_count": 262,
   "metadata": {
    "ExecuteTime": {
     "end_time": "2018-05-28T01:03:34.830387Z",
     "start_time": "2018-05-28T01:01:58.943899Z"
    }
   },
   "outputs": [
    {
     "data": {
      "text/plain": [
       "Pipeline(memory=None,\n",
       "     steps=[('clf', XGBClassifier(base_score=0.5, booster='gbtree', colsample_bylevel=1,\n",
       "       colsample_bytree=0.8, gamma=0, learning_rate=0.04, max_delta_step=0,\n",
       "       max_depth=2, min_child_weight=10, missing=None, n_estimators=1200,\n",
       "       n_jobs=1, nthread=None, objective='binary:logistic',\n",
       "       random_state=42, reg_alpha=0.001, reg_lambda=1, scale_pos_weight=1,\n",
       "       seed=None, silent=True, subsample=0.8))])"
      ]
     },
     "execution_count": 262,
     "metadata": {},
     "output_type": "execute_result"
    }
   ],
   "source": [
    "clf_xgb1.fit(X_train, y)"
   ]
  },
  {
   "cell_type": "code",
   "execution_count": 263,
   "metadata": {
    "ExecuteTime": {
     "end_time": "2018-05-28T01:03:35.735952Z",
     "start_time": "2018-05-28T01:03:35.726064Z"
    }
   },
   "outputs": [
    {
     "data": {
      "text/plain": [
       "[]"
      ]
     },
     "execution_count": 263,
     "metadata": {},
     "output_type": "execute_result"
    }
   ],
   "source": [
    "y_pred = []\n",
    "y_pred"
   ]
  },
  {
   "cell_type": "code",
   "execution_count": 264,
   "metadata": {
    "ExecuteTime": {
     "end_time": "2018-05-28T01:03:37.035094Z",
     "start_time": "2018-05-28T01:03:36.648446Z"
    }
   },
   "outputs": [
    {
     "name": "stderr",
     "output_type": "stream",
     "text": [
      "/home/max/anaconda3/lib/python3.6/site-packages/sklearn/preprocessing/label.py:151: DeprecationWarning: The truth value of an empty array is ambiguous. Returning False, but in future this will result in an error. Use `array.size > 0` to check that an array is not empty.\n",
      "  if diff:\n"
     ]
    }
   ],
   "source": [
    "y_pred = clf_xgb1.predict(X_pred)"
   ]
  },
  {
   "cell_type": "code",
   "execution_count": 265,
   "metadata": {
    "ExecuteTime": {
     "end_time": "2018-05-28T01:03:37.924023Z",
     "start_time": "2018-05-28T01:03:37.918147Z"
    }
   },
   "outputs": [
    {
     "data": {
      "text/plain": [
       "array([1, 1, 1, ..., 1, 1, 1])"
      ]
     },
     "execution_count": 265,
     "metadata": {},
     "output_type": "execute_result"
    }
   ],
   "source": [
    "y_pred"
   ]
  },
  {
   "cell_type": "code",
   "execution_count": 266,
   "metadata": {
    "ExecuteTime": {
     "end_time": "2018-05-28T01:03:38.809123Z",
     "start_time": "2018-05-28T01:03:38.804791Z"
    }
   },
   "outputs": [],
   "source": [
    "y_pred = pd.Series(y_pred, index=X_pred.index)"
   ]
  },
  {
   "cell_type": "code",
   "execution_count": 267,
   "metadata": {
    "ExecuteTime": {
     "end_time": "2018-05-28T01:07:10.526711Z",
     "start_time": "2018-05-28T01:07:10.517653Z"
    }
   },
   "outputs": [
    {
     "data": {
      "text/plain": [
       "1    2741\n",
       "0    2476\n",
       "dtype: int64"
      ]
     },
     "execution_count": 267,
     "metadata": {},
     "output_type": "execute_result"
    }
   ],
   "source": [
    "y_pred.value_counts()"
   ]
  },
  {
   "cell_type": "code",
   "execution_count": 268,
   "metadata": {
    "ExecuteTime": {
     "end_time": "2018-05-28T01:07:13.091762Z",
     "start_time": "2018-05-28T01:07:13.047551Z"
    }
   },
   "outputs": [],
   "source": [
    "y_pred.to_csv('predictions.csv', sep=',', header=True, index_label=['_ID_', '_VAL_'])"
   ]
  },
  {
   "cell_type": "markdown",
   "metadata": {},
   "source": [
    "# WOE признак для MCC"
   ]
  },
  {
   "cell_type": "code",
   "execution_count": 44,
   "metadata": {
    "ExecuteTime": {
     "end_time": "2018-07-08T21:01:22.868600Z",
     "start_time": "2018-07-08T21:01:22.794829Z"
    }
   },
   "outputs": [
    {
     "data": {
      "text/html": [
       "<div>\n",
       "<style scoped>\n",
       "    .dataframe tbody tr th:only-of-type {\n",
       "        vertical-align: middle;\n",
       "    }\n",
       "\n",
       "    .dataframe tbody tr th {\n",
       "        vertical-align: top;\n",
       "    }\n",
       "\n",
       "    .dataframe thead th {\n",
       "        text-align: right;\n",
       "    }\n",
       "</style>\n",
       "<table border=\"1\" class=\"dataframe\">\n",
       "  <thead>\n",
       "    <tr style=\"text-align: right;\">\n",
       "      <th></th>\n",
       "      <th>PERIOD</th>\n",
       "      <th>cl_id</th>\n",
       "      <th>MCC</th>\n",
       "      <th>channel_type</th>\n",
       "      <th>currency</th>\n",
       "      <th>TRDATETIME</th>\n",
       "      <th>amount</th>\n",
       "      <th>trx_category</th>\n",
       "      <th>is_test</th>\n",
       "      <th>MCC_group</th>\n",
       "      <th>curr_code</th>\n",
       "      <th>exch_rate</th>\n",
       "      <th>exch_nominal</th>\n",
       "      <th>amount_rub</th>\n",
       "      <th>dayofweek</th>\n",
       "      <th>is_weekend</th>\n",
       "      <th>is_withdrawal</th>\n",
       "    </tr>\n",
       "  </thead>\n",
       "  <tbody>\n",
       "    <tr>\n",
       "      <th>497040</th>\n",
       "      <td>2017-05</td>\n",
       "      <td>817</td>\n",
       "      <td>6011</td>\n",
       "      <td>type2</td>\n",
       "      <td>810</td>\n",
       "      <td>2017-05-06</td>\n",
       "      <td>5000.00</td>\n",
       "      <td>WD_ATM_OTHER</td>\n",
       "      <td>0</td>\n",
       "      <td>Поставщик услуг</td>\n",
       "      <td>RUB</td>\n",
       "      <td>1.0</td>\n",
       "      <td>1.0</td>\n",
       "      <td>5000.00</td>\n",
       "      <td>5</td>\n",
       "      <td>1</td>\n",
       "      <td>False</td>\n",
       "    </tr>\n",
       "    <tr>\n",
       "      <th>70306</th>\n",
       "      <td>2016-12</td>\n",
       "      <td>5274</td>\n",
       "      <td>5732</td>\n",
       "      <td>type1</td>\n",
       "      <td>810</td>\n",
       "      <td>2016-12-08</td>\n",
       "      <td>190.00</td>\n",
       "      <td>POS</td>\n",
       "      <td>1</td>\n",
       "      <td>Различныемагазины</td>\n",
       "      <td>RUB</td>\n",
       "      <td>1.0</td>\n",
       "      <td>1.0</td>\n",
       "      <td>190.00</td>\n",
       "      <td>3</td>\n",
       "      <td>0</td>\n",
       "      <td>True</td>\n",
       "    </tr>\n",
       "    <tr>\n",
       "      <th>13152</th>\n",
       "      <td>2016-11</td>\n",
       "      <td>5761</td>\n",
       "      <td>5499</td>\n",
       "      <td>type1</td>\n",
       "      <td>810</td>\n",
       "      <td>2016-11-06</td>\n",
       "      <td>258.00</td>\n",
       "      <td>POS</td>\n",
       "      <td>0</td>\n",
       "      <td>Розничныемагазины</td>\n",
       "      <td>RUB</td>\n",
       "      <td>1.0</td>\n",
       "      <td>1.0</td>\n",
       "      <td>258.00</td>\n",
       "      <td>6</td>\n",
       "      <td>1</td>\n",
       "      <td>True</td>\n",
       "    </tr>\n",
       "    <tr>\n",
       "      <th>479698</th>\n",
       "      <td>2017-05</td>\n",
       "      <td>1790</td>\n",
       "      <td>5814</td>\n",
       "      <td>type2</td>\n",
       "      <td>810</td>\n",
       "      <td>2017-05-01</td>\n",
       "      <td>346.00</td>\n",
       "      <td>POS</td>\n",
       "      <td>1</td>\n",
       "      <td>Различныемагазины</td>\n",
       "      <td>RUB</td>\n",
       "      <td>1.0</td>\n",
       "      <td>1.0</td>\n",
       "      <td>346.00</td>\n",
       "      <td>0</td>\n",
       "      <td>0</td>\n",
       "      <td>True</td>\n",
       "    </tr>\n",
       "    <tr>\n",
       "      <th>836600</th>\n",
       "      <td>2017-08</td>\n",
       "      <td>3733</td>\n",
       "      <td>5411</td>\n",
       "      <td>type1</td>\n",
       "      <td>810</td>\n",
       "      <td>2017-08-11</td>\n",
       "      <td>513.62</td>\n",
       "      <td>POS</td>\n",
       "      <td>1</td>\n",
       "      <td>Розничныемагазины</td>\n",
       "      <td>RUB</td>\n",
       "      <td>1.0</td>\n",
       "      <td>1.0</td>\n",
       "      <td>513.62</td>\n",
       "      <td>4</td>\n",
       "      <td>0</td>\n",
       "      <td>True</td>\n",
       "    </tr>\n",
       "  </tbody>\n",
       "</table>\n",
       "</div>"
      ],
      "text/plain": [
       "        PERIOD  cl_id   MCC channel_type currency TRDATETIME   amount  \\\n",
       "497040 2017-05    817  6011        type2      810 2017-05-06  5000.00   \n",
       "70306  2016-12   5274  5732        type1      810 2016-12-08   190.00   \n",
       "13152  2016-11   5761  5499        type1      810 2016-11-06   258.00   \n",
       "479698 2017-05   1790  5814        type2      810 2017-05-01   346.00   \n",
       "836600 2017-08   3733  5411        type1      810 2017-08-11   513.62   \n",
       "\n",
       "        trx_category  is_test          MCC_group curr_code  exch_rate  \\\n",
       "497040  WD_ATM_OTHER        0    Поставщик услуг       RUB        1.0   \n",
       "70306            POS        1  Различныемагазины       RUB        1.0   \n",
       "13152            POS        0  Розничныемагазины       RUB        1.0   \n",
       "479698           POS        1  Различныемагазины       RUB        1.0   \n",
       "836600           POS        1  Розничныемагазины       RUB        1.0   \n",
       "\n",
       "        exch_nominal  amount_rub dayofweek  is_weekend is_withdrawal  \n",
       "497040           1.0     5000.00         5           1         False  \n",
       "70306            1.0      190.00         3           0          True  \n",
       "13152            1.0      258.00         6           1          True  \n",
       "479698           1.0      346.00         0           0          True  \n",
       "836600           1.0      513.62         4           0          True  "
      ]
     },
     "execution_count": 44,
     "metadata": {},
     "output_type": "execute_result"
    }
   ],
   "source": [
    "df.sample(5)"
   ]
  },
  {
   "cell_type": "code",
   "execution_count": 45,
   "metadata": {
    "ExecuteTime": {
     "end_time": "2018-07-08T21:01:31.973212Z",
     "start_time": "2018-07-08T21:01:31.629592Z"
    }
   },
   "outputs": [
    {
     "name": "stdout",
     "output_type": "stream",
     "text": [
      "(490513, 18)\n",
      "(518376, 17)\n"
     ]
    }
   ],
   "source": [
    "df_train = df[df['is_test']==0]\n",
    "df_test = df[df['is_test']==1]\n",
    "df_train = df_train.join(y, how='left', on='cl_id')\n",
    "print(df_train.shape)\n",
    "print(df_test.shape)"
   ]
  },
  {
   "cell_type": "code",
   "execution_count": 46,
   "metadata": {
    "ExecuteTime": {
     "end_time": "2018-07-08T21:01:47.101520Z",
     "start_time": "2018-07-08T21:01:40.207610Z"
    }
   },
   "outputs": [
    {
     "data": {
      "text/html": [
       "<div>\n",
       "<style scoped>\n",
       "    .dataframe tbody tr th:only-of-type {\n",
       "        vertical-align: middle;\n",
       "    }\n",
       "\n",
       "    .dataframe tbody tr th {\n",
       "        vertical-align: top;\n",
       "    }\n",
       "\n",
       "    .dataframe thead th {\n",
       "        text-align: right;\n",
       "    }\n",
       "</style>\n",
       "<table border=\"1\" class=\"dataframe\">\n",
       "  <thead>\n",
       "    <tr style=\"text-align: right;\">\n",
       "      <th></th>\n",
       "      <th>count</th>\n",
       "      <th>unique</th>\n",
       "      <th>top</th>\n",
       "      <th>freq</th>\n",
       "      <th>first</th>\n",
       "      <th>last</th>\n",
       "      <th>mean</th>\n",
       "      <th>std</th>\n",
       "      <th>min</th>\n",
       "      <th>25%</th>\n",
       "      <th>50%</th>\n",
       "      <th>75%</th>\n",
       "      <th>max</th>\n",
       "    </tr>\n",
       "  </thead>\n",
       "  <tbody>\n",
       "    <tr>\n",
       "      <th>PERIOD</th>\n",
       "      <td>490513</td>\n",
       "      <td>19</td>\n",
       "      <td>2017-07</td>\n",
       "      <td>55757</td>\n",
       "      <td>NaN</td>\n",
       "      <td>NaN</td>\n",
       "      <td>NaN</td>\n",
       "      <td>NaN</td>\n",
       "      <td>NaN</td>\n",
       "      <td>NaN</td>\n",
       "      <td>NaN</td>\n",
       "      <td>NaN</td>\n",
       "      <td>NaN</td>\n",
       "    </tr>\n",
       "    <tr>\n",
       "      <th>cl_id</th>\n",
       "      <td>490513</td>\n",
       "      <td>NaN</td>\n",
       "      <td>NaN</td>\n",
       "      <td>NaN</td>\n",
       "      <td>NaN</td>\n",
       "      <td>NaN</td>\n",
       "      <td>4802.13</td>\n",
       "      <td>2986.49</td>\n",
       "      <td>0</td>\n",
       "      <td>2193</td>\n",
       "      <td>4576</td>\n",
       "      <td>7390</td>\n",
       "      <td>10215</td>\n",
       "    </tr>\n",
       "    <tr>\n",
       "      <th>MCC</th>\n",
       "      <td>490513</td>\n",
       "      <td>344</td>\n",
       "      <td>5411</td>\n",
       "      <td>121640</td>\n",
       "      <td>NaN</td>\n",
       "      <td>NaN</td>\n",
       "      <td>NaN</td>\n",
       "      <td>NaN</td>\n",
       "      <td>NaN</td>\n",
       "      <td>NaN</td>\n",
       "      <td>NaN</td>\n",
       "      <td>NaN</td>\n",
       "      <td>NaN</td>\n",
       "    </tr>\n",
       "    <tr>\n",
       "      <th>channel_type</th>\n",
       "      <td>490513</td>\n",
       "      <td>6</td>\n",
       "      <td>type1</td>\n",
       "      <td>299247</td>\n",
       "      <td>NaN</td>\n",
       "      <td>NaN</td>\n",
       "      <td>NaN</td>\n",
       "      <td>NaN</td>\n",
       "      <td>NaN</td>\n",
       "      <td>NaN</td>\n",
       "      <td>NaN</td>\n",
       "      <td>NaN</td>\n",
       "      <td>NaN</td>\n",
       "    </tr>\n",
       "    <tr>\n",
       "      <th>currency</th>\n",
       "      <td>490513</td>\n",
       "      <td>59</td>\n",
       "      <td>810</td>\n",
       "      <td>477644</td>\n",
       "      <td>NaN</td>\n",
       "      <td>NaN</td>\n",
       "      <td>NaN</td>\n",
       "      <td>NaN</td>\n",
       "      <td>NaN</td>\n",
       "      <td>NaN</td>\n",
       "      <td>NaN</td>\n",
       "      <td>NaN</td>\n",
       "      <td>NaN</td>\n",
       "    </tr>\n",
       "    <tr>\n",
       "      <th>TRDATETIME</th>\n",
       "      <td>490513</td>\n",
       "      <td>58113</td>\n",
       "      <td>2017-06-23 00:00:00</td>\n",
       "      <td>1971</td>\n",
       "      <td>2016-10-07 00:00:00</td>\n",
       "      <td>2018-04-02 23:20:35</td>\n",
       "      <td>NaN</td>\n",
       "      <td>NaN</td>\n",
       "      <td>NaN</td>\n",
       "      <td>NaN</td>\n",
       "      <td>NaN</td>\n",
       "      <td>NaN</td>\n",
       "      <td>NaN</td>\n",
       "    </tr>\n",
       "    <tr>\n",
       "      <th>amount</th>\n",
       "      <td>490513</td>\n",
       "      <td>NaN</td>\n",
       "      <td>NaN</td>\n",
       "      <td>NaN</td>\n",
       "      <td>NaN</td>\n",
       "      <td>NaN</td>\n",
       "      <td>5723.59</td>\n",
       "      <td>77037.6</td>\n",
       "      <td>0.04</td>\n",
       "      <td>224</td>\n",
       "      <td>624</td>\n",
       "      <td>2176</td>\n",
       "      <td>3.5835e+07</td>\n",
       "    </tr>\n",
       "    <tr>\n",
       "      <th>trx_category</th>\n",
       "      <td>490513</td>\n",
       "      <td>10</td>\n",
       "      <td>POS</td>\n",
       "      <td>416425</td>\n",
       "      <td>NaN</td>\n",
       "      <td>NaN</td>\n",
       "      <td>NaN</td>\n",
       "      <td>NaN</td>\n",
       "      <td>NaN</td>\n",
       "      <td>NaN</td>\n",
       "      <td>NaN</td>\n",
       "      <td>NaN</td>\n",
       "      <td>NaN</td>\n",
       "    </tr>\n",
       "    <tr>\n",
       "      <th>is_test</th>\n",
       "      <td>490513</td>\n",
       "      <td>NaN</td>\n",
       "      <td>NaN</td>\n",
       "      <td>NaN</td>\n",
       "      <td>NaN</td>\n",
       "      <td>NaN</td>\n",
       "      <td>0</td>\n",
       "      <td>0</td>\n",
       "      <td>0</td>\n",
       "      <td>0</td>\n",
       "      <td>0</td>\n",
       "      <td>0</td>\n",
       "      <td>0</td>\n",
       "    </tr>\n",
       "    <tr>\n",
       "      <th>MCC_group</th>\n",
       "      <td>490513</td>\n",
       "      <td>21</td>\n",
       "      <td>Розничныемагазины</td>\n",
       "      <td>178436</td>\n",
       "      <td>NaN</td>\n",
       "      <td>NaN</td>\n",
       "      <td>NaN</td>\n",
       "      <td>NaN</td>\n",
       "      <td>NaN</td>\n",
       "      <td>NaN</td>\n",
       "      <td>NaN</td>\n",
       "      <td>NaN</td>\n",
       "      <td>NaN</td>\n",
       "    </tr>\n",
       "    <tr>\n",
       "      <th>curr_code</th>\n",
       "      <td>490481</td>\n",
       "      <td>58</td>\n",
       "      <td>RUB</td>\n",
       "      <td>477644</td>\n",
       "      <td>NaN</td>\n",
       "      <td>NaN</td>\n",
       "      <td>NaN</td>\n",
       "      <td>NaN</td>\n",
       "      <td>NaN</td>\n",
       "      <td>NaN</td>\n",
       "      <td>NaN</td>\n",
       "      <td>NaN</td>\n",
       "      <td>NaN</td>\n",
       "    </tr>\n",
       "    <tr>\n",
       "      <th>exch_rate</th>\n",
       "      <td>490513</td>\n",
       "      <td>NaN</td>\n",
       "      <td>NaN</td>\n",
       "      <td>NaN</td>\n",
       "      <td>NaN</td>\n",
       "      <td>NaN</td>\n",
       "      <td>2.23676</td>\n",
       "      <td>8.52256</td>\n",
       "      <td>0</td>\n",
       "      <td>1</td>\n",
       "      <td>1</td>\n",
       "      <td>1</td>\n",
       "      <td>94.7321</td>\n",
       "    </tr>\n",
       "    <tr>\n",
       "      <th>exch_nominal</th>\n",
       "      <td>490513</td>\n",
       "      <td>NaN</td>\n",
       "      <td>NaN</td>\n",
       "      <td>NaN</td>\n",
       "      <td>NaN</td>\n",
       "      <td>NaN</td>\n",
       "      <td>1.35898</td>\n",
       "      <td>15.3449</td>\n",
       "      <td>1</td>\n",
       "      <td>1</td>\n",
       "      <td>1</td>\n",
       "      <td>1</td>\n",
       "      <td>1000</td>\n",
       "    </tr>\n",
       "    <tr>\n",
       "      <th>amount_rub</th>\n",
       "      <td>490513</td>\n",
       "      <td>NaN</td>\n",
       "      <td>NaN</td>\n",
       "      <td>NaN</td>\n",
       "      <td>NaN</td>\n",
       "      <td>NaN</td>\n",
       "      <td>5385.69</td>\n",
       "      <td>19297.5</td>\n",
       "      <td>0</td>\n",
       "      <td>240</td>\n",
       "      <td>664.39</td>\n",
       "      <td>2300</td>\n",
       "      <td>1.3e+06</td>\n",
       "    </tr>\n",
       "    <tr>\n",
       "      <th>dayofweek</th>\n",
       "      <td>490513</td>\n",
       "      <td>7</td>\n",
       "      <td>4</td>\n",
       "      <td>78993</td>\n",
       "      <td>NaN</td>\n",
       "      <td>NaN</td>\n",
       "      <td>NaN</td>\n",
       "      <td>NaN</td>\n",
       "      <td>NaN</td>\n",
       "      <td>NaN</td>\n",
       "      <td>NaN</td>\n",
       "      <td>NaN</td>\n",
       "      <td>NaN</td>\n",
       "    </tr>\n",
       "    <tr>\n",
       "      <th>is_weekend</th>\n",
       "      <td>490513</td>\n",
       "      <td>NaN</td>\n",
       "      <td>NaN</td>\n",
       "      <td>NaN</td>\n",
       "      <td>NaN</td>\n",
       "      <td>NaN</td>\n",
       "      <td>0.277548</td>\n",
       "      <td>0.44779</td>\n",
       "      <td>0</td>\n",
       "      <td>0</td>\n",
       "      <td>0</td>\n",
       "      <td>1</td>\n",
       "      <td>1</td>\n",
       "    </tr>\n",
       "    <tr>\n",
       "      <th>is_withdrawal</th>\n",
       "      <td>490513</td>\n",
       "      <td>2</td>\n",
       "      <td>True</td>\n",
       "      <td>426373</td>\n",
       "      <td>NaN</td>\n",
       "      <td>NaN</td>\n",
       "      <td>NaN</td>\n",
       "      <td>NaN</td>\n",
       "      <td>NaN</td>\n",
       "      <td>NaN</td>\n",
       "      <td>NaN</td>\n",
       "      <td>NaN</td>\n",
       "      <td>NaN</td>\n",
       "    </tr>\n",
       "    <tr>\n",
       "      <th>target_flag</th>\n",
       "      <td>490513</td>\n",
       "      <td>NaN</td>\n",
       "      <td>NaN</td>\n",
       "      <td>NaN</td>\n",
       "      <td>NaN</td>\n",
       "      <td>NaN</td>\n",
       "      <td>0.652588</td>\n",
       "      <td>0.476148</td>\n",
       "      <td>0</td>\n",
       "      <td>0</td>\n",
       "      <td>1</td>\n",
       "      <td>1</td>\n",
       "      <td>1</td>\n",
       "    </tr>\n",
       "  </tbody>\n",
       "</table>\n",
       "</div>"
      ],
      "text/plain": [
       "                count unique                  top    freq  \\\n",
       "PERIOD         490513     19              2017-07   55757   \n",
       "cl_id          490513    NaN                  NaN     NaN   \n",
       "MCC            490513    344                 5411  121640   \n",
       "channel_type   490513      6                type1  299247   \n",
       "currency       490513     59                  810  477644   \n",
       "TRDATETIME     490513  58113  2017-06-23 00:00:00    1971   \n",
       "amount         490513    NaN                  NaN     NaN   \n",
       "trx_category   490513     10                  POS  416425   \n",
       "is_test        490513    NaN                  NaN     NaN   \n",
       "MCC_group      490513     21    Розничныемагазины  178436   \n",
       "curr_code      490481     58                  RUB  477644   \n",
       "exch_rate      490513    NaN                  NaN     NaN   \n",
       "exch_nominal   490513    NaN                  NaN     NaN   \n",
       "amount_rub     490513    NaN                  NaN     NaN   \n",
       "dayofweek      490513      7                    4   78993   \n",
       "is_weekend     490513    NaN                  NaN     NaN   \n",
       "is_withdrawal  490513      2                 True  426373   \n",
       "target_flag    490513    NaN                  NaN     NaN   \n",
       "\n",
       "                             first                 last      mean       std  \\\n",
       "PERIOD                         NaN                  NaN       NaN       NaN   \n",
       "cl_id                          NaN                  NaN   4802.13   2986.49   \n",
       "MCC                            NaN                  NaN       NaN       NaN   \n",
       "channel_type                   NaN                  NaN       NaN       NaN   \n",
       "currency                       NaN                  NaN       NaN       NaN   \n",
       "TRDATETIME     2016-10-07 00:00:00  2018-04-02 23:20:35       NaN       NaN   \n",
       "amount                         NaN                  NaN   5723.59   77037.6   \n",
       "trx_category                   NaN                  NaN       NaN       NaN   \n",
       "is_test                        NaN                  NaN         0         0   \n",
       "MCC_group                      NaN                  NaN       NaN       NaN   \n",
       "curr_code                      NaN                  NaN       NaN       NaN   \n",
       "exch_rate                      NaN                  NaN   2.23676   8.52256   \n",
       "exch_nominal                   NaN                  NaN   1.35898   15.3449   \n",
       "amount_rub                     NaN                  NaN   5385.69   19297.5   \n",
       "dayofweek                      NaN                  NaN       NaN       NaN   \n",
       "is_weekend                     NaN                  NaN  0.277548   0.44779   \n",
       "is_withdrawal                  NaN                  NaN       NaN       NaN   \n",
       "target_flag                    NaN                  NaN  0.652588  0.476148   \n",
       "\n",
       "                min   25%     50%   75%         max  \n",
       "PERIOD          NaN   NaN     NaN   NaN         NaN  \n",
       "cl_id             0  2193    4576  7390       10215  \n",
       "MCC             NaN   NaN     NaN   NaN         NaN  \n",
       "channel_type    NaN   NaN     NaN   NaN         NaN  \n",
       "currency        NaN   NaN     NaN   NaN         NaN  \n",
       "TRDATETIME      NaN   NaN     NaN   NaN         NaN  \n",
       "amount         0.04   224     624  2176  3.5835e+07  \n",
       "trx_category    NaN   NaN     NaN   NaN         NaN  \n",
       "is_test           0     0       0     0           0  \n",
       "MCC_group       NaN   NaN     NaN   NaN         NaN  \n",
       "curr_code       NaN   NaN     NaN   NaN         NaN  \n",
       "exch_rate         0     1       1     1     94.7321  \n",
       "exch_nominal      1     1       1     1        1000  \n",
       "amount_rub        0   240  664.39  2300     1.3e+06  \n",
       "dayofweek       NaN   NaN     NaN   NaN         NaN  \n",
       "is_weekend        0     0       0     1           1  \n",
       "is_withdrawal   NaN   NaN     NaN   NaN         NaN  \n",
       "target_flag       0     0       1     1           1  "
      ]
     },
     "execution_count": 46,
     "metadata": {},
     "output_type": "execute_result"
    }
   ],
   "source": [
    "df_train.describe(include='all').T"
   ]
  },
  {
   "cell_type": "markdown",
   "metadata": {},
   "source": [
    "построим WOE для категориального признака MCC, у которого 344 уникальных значений"
   ]
  },
  {
   "cell_type": "code",
   "execution_count": 47,
   "metadata": {
    "ExecuteTime": {
     "end_time": "2018-07-08T21:01:47.757322Z",
     "start_time": "2018-07-08T21:01:47.417067Z"
    }
   },
   "outputs": [
    {
     "data": {
      "text/html": [
       "<div>\n",
       "<style scoped>\n",
       "    .dataframe tbody tr th:only-of-type {\n",
       "        vertical-align: middle;\n",
       "    }\n",
       "\n",
       "    .dataframe tbody tr th {\n",
       "        vertical-align: top;\n",
       "    }\n",
       "\n",
       "    .dataframe thead th {\n",
       "        text-align: right;\n",
       "    }\n",
       "</style>\n",
       "<table border=\"1\" class=\"dataframe\">\n",
       "  <thead>\n",
       "    <tr style=\"text-align: right;\">\n",
       "      <th></th>\n",
       "      <th>MCC</th>\n",
       "      <th>target_flag</th>\n",
       "    </tr>\n",
       "  </thead>\n",
       "  <tbody>\n",
       "    <tr>\n",
       "      <th>211806</th>\n",
       "      <td>5541</td>\n",
       "      <td>1</td>\n",
       "    </tr>\n",
       "    <tr>\n",
       "      <th>263928</th>\n",
       "      <td>6011</td>\n",
       "      <td>0</td>\n",
       "    </tr>\n",
       "    <tr>\n",
       "      <th>728122</th>\n",
       "      <td>5814</td>\n",
       "      <td>1</td>\n",
       "    </tr>\n",
       "    <tr>\n",
       "      <th>126487</th>\n",
       "      <td>8999</td>\n",
       "      <td>0</td>\n",
       "    </tr>\n",
       "    <tr>\n",
       "      <th>318292</th>\n",
       "      <td>5411</td>\n",
       "      <td>1</td>\n",
       "    </tr>\n",
       "  </tbody>\n",
       "</table>\n",
       "</div>"
      ],
      "text/plain": [
       "         MCC  target_flag\n",
       "211806  5541            1\n",
       "263928  6011            0\n",
       "728122  5814            1\n",
       "126487  8999            0\n",
       "318292  5411            1"
      ]
     },
     "execution_count": 47,
     "metadata": {},
     "output_type": "execute_result"
    }
   ],
   "source": [
    "df_train[['MCC','target_flag']].sample(5)"
   ]
  },
  {
   "cell_type": "code",
   "execution_count": 74,
   "metadata": {
    "ExecuteTime": {
     "end_time": "2018-07-08T21:23:02.190096Z",
     "start_time": "2018-07-08T21:23:02.161612Z"
    }
   },
   "outputs": [],
   "source": [
    "df_woe = pd.DataFrame(index=df_train['MCC'].unique())"
   ]
  },
  {
   "cell_type": "code",
   "execution_count": 75,
   "metadata": {
    "ExecuteTime": {
     "end_time": "2018-07-08T21:23:02.934289Z",
     "start_time": "2018-07-08T21:23:02.797838Z"
    }
   },
   "outputs": [],
   "source": [
    "df_woe['number_good'] = df_train[df_train['target_flag']==1].groupby(['MCC'])['MCC'].agg('count')\n",
    "df_woe['number_bad'] = df_train[df_train['target_flag']==0].groupby(['MCC'])['MCC'].agg('count')"
   ]
  },
  {
   "cell_type": "code",
   "execution_count": 76,
   "metadata": {
    "ExecuteTime": {
     "end_time": "2018-07-08T21:23:03.352768Z",
     "start_time": "2018-07-08T21:23:03.341947Z"
    }
   },
   "outputs": [
    {
     "data": {
      "text/html": [
       "<div>\n",
       "<style scoped>\n",
       "    .dataframe tbody tr th:only-of-type {\n",
       "        vertical-align: middle;\n",
       "    }\n",
       "\n",
       "    .dataframe tbody tr th {\n",
       "        vertical-align: top;\n",
       "    }\n",
       "\n",
       "    .dataframe thead th {\n",
       "        text-align: right;\n",
       "    }\n",
       "</style>\n",
       "<table border=\"1\" class=\"dataframe\">\n",
       "  <thead>\n",
       "    <tr style=\"text-align: right;\">\n",
       "      <th></th>\n",
       "      <th>number_good</th>\n",
       "      <th>number_bad</th>\n",
       "    </tr>\n",
       "  </thead>\n",
       "  <tbody>\n",
       "    <tr>\n",
       "      <th>5411</th>\n",
       "      <td>75343.0</td>\n",
       "      <td>46297.0</td>\n",
       "    </tr>\n",
       "    <tr>\n",
       "      <th>6011</th>\n",
       "      <td>35524.0</td>\n",
       "      <td>18858.0</td>\n",
       "    </tr>\n",
       "    <tr>\n",
       "      <th>4121</th>\n",
       "      <td>4876.0</td>\n",
       "      <td>1390.0</td>\n",
       "    </tr>\n",
       "    <tr>\n",
       "      <th>6012</th>\n",
       "      <td>5709.0</td>\n",
       "      <td>4347.0</td>\n",
       "    </tr>\n",
       "    <tr>\n",
       "      <th>8999</th>\n",
       "      <td>1522.0</td>\n",
       "      <td>1077.0</td>\n",
       "    </tr>\n",
       "  </tbody>\n",
       "</table>\n",
       "</div>"
      ],
      "text/plain": [
       "      number_good  number_bad\n",
       "5411      75343.0     46297.0\n",
       "6011      35524.0     18858.0\n",
       "4121       4876.0      1390.0\n",
       "6012       5709.0      4347.0\n",
       "8999       1522.0      1077.0"
      ]
     },
     "execution_count": 76,
     "metadata": {},
     "output_type": "execute_result"
    }
   ],
   "source": [
    "df_woe.head()"
   ]
  },
  {
   "cell_type": "code",
   "execution_count": 77,
   "metadata": {
    "ExecuteTime": {
     "end_time": "2018-07-08T21:23:06.286274Z",
     "start_time": "2018-07-08T21:23:06.274851Z"
    }
   },
   "outputs": [],
   "source": [
    "df_woe['dist_good'] = df_woe['number_good'] / df_woe['number_good'].sum(axis=0)\n",
    "df_woe['dist_bad'] = df_woe['number_bad'] / df_woe['number_bad'].sum(axis=0)"
   ]
  },
  {
   "cell_type": "code",
   "execution_count": 78,
   "metadata": {
    "ExecuteTime": {
     "end_time": "2018-07-08T21:23:07.312537Z",
     "start_time": "2018-07-08T21:23:07.298186Z"
    }
   },
   "outputs": [
    {
     "data": {
      "text/html": [
       "<div>\n",
       "<style scoped>\n",
       "    .dataframe tbody tr th:only-of-type {\n",
       "        vertical-align: middle;\n",
       "    }\n",
       "\n",
       "    .dataframe tbody tr th {\n",
       "        vertical-align: top;\n",
       "    }\n",
       "\n",
       "    .dataframe thead th {\n",
       "        text-align: right;\n",
       "    }\n",
       "</style>\n",
       "<table border=\"1\" class=\"dataframe\">\n",
       "  <thead>\n",
       "    <tr style=\"text-align: right;\">\n",
       "      <th></th>\n",
       "      <th>number_good</th>\n",
       "      <th>number_bad</th>\n",
       "      <th>dist_good</th>\n",
       "      <th>dist_bad</th>\n",
       "    </tr>\n",
       "  </thead>\n",
       "  <tbody>\n",
       "    <tr>\n",
       "      <th>5411</th>\n",
       "      <td>75343.0</td>\n",
       "      <td>46297.0</td>\n",
       "      <td>0.235371</td>\n",
       "      <td>0.271680</td>\n",
       "    </tr>\n",
       "    <tr>\n",
       "      <th>6011</th>\n",
       "      <td>35524.0</td>\n",
       "      <td>18858.0</td>\n",
       "      <td>0.110977</td>\n",
       "      <td>0.110663</td>\n",
       "    </tr>\n",
       "    <tr>\n",
       "      <th>4121</th>\n",
       "      <td>4876.0</td>\n",
       "      <td>1390.0</td>\n",
       "      <td>0.015233</td>\n",
       "      <td>0.008157</td>\n",
       "    </tr>\n",
       "    <tr>\n",
       "      <th>6012</th>\n",
       "      <td>5709.0</td>\n",
       "      <td>4347.0</td>\n",
       "      <td>0.017835</td>\n",
       "      <td>0.025509</td>\n",
       "    </tr>\n",
       "    <tr>\n",
       "      <th>8999</th>\n",
       "      <td>1522.0</td>\n",
       "      <td>1077.0</td>\n",
       "      <td>0.004755</td>\n",
       "      <td>0.006320</td>\n",
       "    </tr>\n",
       "  </tbody>\n",
       "</table>\n",
       "</div>"
      ],
      "text/plain": [
       "      number_good  number_bad  dist_good  dist_bad\n",
       "5411      75343.0     46297.0   0.235371  0.271680\n",
       "6011      35524.0     18858.0   0.110977  0.110663\n",
       "4121       4876.0      1390.0   0.015233  0.008157\n",
       "6012       5709.0      4347.0   0.017835  0.025509\n",
       "8999       1522.0      1077.0   0.004755  0.006320"
      ]
     },
     "execution_count": 78,
     "metadata": {},
     "output_type": "execute_result"
    }
   ],
   "source": [
    "df_woe.head()"
   ]
  },
  {
   "cell_type": "code",
   "execution_count": 79,
   "metadata": {
    "ExecuteTime": {
     "end_time": "2018-07-08T21:23:08.428345Z",
     "start_time": "2018-07-08T21:23:08.424129Z"
    }
   },
   "outputs": [],
   "source": [
    "df_woe['WoE'] = np.log(df_woe['dist_good'] / df_woe['dist_bad'])"
   ]
  },
  {
   "cell_type": "code",
   "execution_count": 80,
   "metadata": {
    "ExecuteTime": {
     "end_time": "2018-07-08T21:23:09.905122Z",
     "start_time": "2018-07-08T21:23:09.887908Z"
    }
   },
   "outputs": [
    {
     "data": {
      "text/html": [
       "<div>\n",
       "<style scoped>\n",
       "    .dataframe tbody tr th:only-of-type {\n",
       "        vertical-align: middle;\n",
       "    }\n",
       "\n",
       "    .dataframe tbody tr th {\n",
       "        vertical-align: top;\n",
       "    }\n",
       "\n",
       "    .dataframe thead th {\n",
       "        text-align: right;\n",
       "    }\n",
       "</style>\n",
       "<table border=\"1\" class=\"dataframe\">\n",
       "  <thead>\n",
       "    <tr style=\"text-align: right;\">\n",
       "      <th></th>\n",
       "      <th>number_good</th>\n",
       "      <th>number_bad</th>\n",
       "      <th>dist_good</th>\n",
       "      <th>dist_bad</th>\n",
       "      <th>WoE</th>\n",
       "    </tr>\n",
       "  </thead>\n",
       "  <tbody>\n",
       "    <tr>\n",
       "      <th>5411</th>\n",
       "      <td>75343.0</td>\n",
       "      <td>46297.0</td>\n",
       "      <td>0.235371</td>\n",
       "      <td>0.271680</td>\n",
       "      <td>-0.143462</td>\n",
       "    </tr>\n",
       "    <tr>\n",
       "      <th>6011</th>\n",
       "      <td>35524.0</td>\n",
       "      <td>18858.0</td>\n",
       "      <td>0.110977</td>\n",
       "      <td>0.110663</td>\n",
       "      <td>0.002836</td>\n",
       "    </tr>\n",
       "    <tr>\n",
       "      <th>4121</th>\n",
       "      <td>4876.0</td>\n",
       "      <td>1390.0</td>\n",
       "      <td>0.015233</td>\n",
       "      <td>0.008157</td>\n",
       "      <td>0.624586</td>\n",
       "    </tr>\n",
       "    <tr>\n",
       "      <th>6012</th>\n",
       "      <td>5709.0</td>\n",
       "      <td>4347.0</td>\n",
       "      <td>0.017835</td>\n",
       "      <td>0.025509</td>\n",
       "      <td>-0.357878</td>\n",
       "    </tr>\n",
       "    <tr>\n",
       "      <th>8999</th>\n",
       "      <td>1522.0</td>\n",
       "      <td>1077.0</td>\n",
       "      <td>0.004755</td>\n",
       "      <td>0.006320</td>\n",
       "      <td>-0.284590</td>\n",
       "    </tr>\n",
       "  </tbody>\n",
       "</table>\n",
       "</div>"
      ],
      "text/plain": [
       "      number_good  number_bad  dist_good  dist_bad       WoE\n",
       "5411      75343.0     46297.0   0.235371  0.271680 -0.143462\n",
       "6011      35524.0     18858.0   0.110977  0.110663  0.002836\n",
       "4121       4876.0      1390.0   0.015233  0.008157  0.624586\n",
       "6012       5709.0      4347.0   0.017835  0.025509 -0.357878\n",
       "8999       1522.0      1077.0   0.004755  0.006320 -0.284590"
      ]
     },
     "execution_count": 80,
     "metadata": {},
     "output_type": "execute_result"
    }
   ],
   "source": [
    "df_woe.head()"
   ]
  },
  {
   "cell_type": "code",
   "execution_count": 81,
   "metadata": {
    "ExecuteTime": {
     "end_time": "2018-07-08T21:23:11.094434Z",
     "start_time": "2018-07-08T21:23:11.089379Z"
    }
   },
   "outputs": [],
   "source": [
    "df_woe['IV'] = (df_woe['dist_good'] - df_woe['dist_bad']) * df_woe['WoE']"
   ]
  },
  {
   "cell_type": "code",
   "execution_count": 82,
   "metadata": {
    "ExecuteTime": {
     "end_time": "2018-07-08T21:23:12.112053Z",
     "start_time": "2018-07-08T21:23:12.094287Z"
    }
   },
   "outputs": [
    {
     "data": {
      "text/html": [
       "<div>\n",
       "<style scoped>\n",
       "    .dataframe tbody tr th:only-of-type {\n",
       "        vertical-align: middle;\n",
       "    }\n",
       "\n",
       "    .dataframe tbody tr th {\n",
       "        vertical-align: top;\n",
       "    }\n",
       "\n",
       "    .dataframe thead th {\n",
       "        text-align: right;\n",
       "    }\n",
       "</style>\n",
       "<table border=\"1\" class=\"dataframe\">\n",
       "  <thead>\n",
       "    <tr style=\"text-align: right;\">\n",
       "      <th></th>\n",
       "      <th>number_good</th>\n",
       "      <th>number_bad</th>\n",
       "      <th>dist_good</th>\n",
       "      <th>dist_bad</th>\n",
       "      <th>WoE</th>\n",
       "      <th>IV</th>\n",
       "    </tr>\n",
       "  </thead>\n",
       "  <tbody>\n",
       "    <tr>\n",
       "      <th>5411</th>\n",
       "      <td>75343.0</td>\n",
       "      <td>46297.0</td>\n",
       "      <td>0.235371</td>\n",
       "      <td>0.271680</td>\n",
       "      <td>-0.143462</td>\n",
       "      <td>5.208943e-03</td>\n",
       "    </tr>\n",
       "    <tr>\n",
       "      <th>6011</th>\n",
       "      <td>35524.0</td>\n",
       "      <td>18858.0</td>\n",
       "      <td>0.110977</td>\n",
       "      <td>0.110663</td>\n",
       "      <td>0.002836</td>\n",
       "      <td>8.911698e-07</td>\n",
       "    </tr>\n",
       "    <tr>\n",
       "      <th>4121</th>\n",
       "      <td>4876.0</td>\n",
       "      <td>1390.0</td>\n",
       "      <td>0.015233</td>\n",
       "      <td>0.008157</td>\n",
       "      <td>0.624586</td>\n",
       "      <td>4.419444e-03</td>\n",
       "    </tr>\n",
       "    <tr>\n",
       "      <th>6012</th>\n",
       "      <td>5709.0</td>\n",
       "      <td>4347.0</td>\n",
       "      <td>0.017835</td>\n",
       "      <td>0.025509</td>\n",
       "      <td>-0.357878</td>\n",
       "      <td>2.746418e-03</td>\n",
       "    </tr>\n",
       "    <tr>\n",
       "      <th>8999</th>\n",
       "      <td>1522.0</td>\n",
       "      <td>1077.0</td>\n",
       "      <td>0.004755</td>\n",
       "      <td>0.006320</td>\n",
       "      <td>-0.284590</td>\n",
       "      <td>4.454773e-04</td>\n",
       "    </tr>\n",
       "  </tbody>\n",
       "</table>\n",
       "</div>"
      ],
      "text/plain": [
       "      number_good  number_bad  dist_good  dist_bad       WoE            IV\n",
       "5411      75343.0     46297.0   0.235371  0.271680 -0.143462  5.208943e-03\n",
       "6011      35524.0     18858.0   0.110977  0.110663  0.002836  8.911698e-07\n",
       "4121       4876.0      1390.0   0.015233  0.008157  0.624586  4.419444e-03\n",
       "6012       5709.0      4347.0   0.017835  0.025509 -0.357878  2.746418e-03\n",
       "8999       1522.0      1077.0   0.004755  0.006320 -0.284590  4.454773e-04"
      ]
     },
     "execution_count": 82,
     "metadata": {},
     "output_type": "execute_result"
    }
   ],
   "source": [
    "df_woe.head()"
   ]
  },
  {
   "cell_type": "code",
   "execution_count": 83,
   "metadata": {
    "ExecuteTime": {
     "end_time": "2018-07-08T21:23:14.789286Z",
     "start_time": "2018-07-08T21:23:14.783635Z"
    }
   },
   "outputs": [
    {
     "data": {
      "text/plain": [
       "0.07218063242722546"
      ]
     },
     "execution_count": 83,
     "metadata": {},
     "output_type": "execute_result"
    }
   ],
   "source": [
    "df_woe['IV'].sum()"
   ]
  },
  {
   "cell_type": "markdown",
   "metadata": {},
   "source": [
    "С таким значением IV признак MCC является слабым предиктором и можно вообще исключить из рассмотрения..\n",
    "\n",
    "Если признак являлся бы предиктором выше среднего, то вместо категорий можно использовать значения WoE"
   ]
  },
  {
   "cell_type": "code",
   "execution_count": 86,
   "metadata": {
    "ExecuteTime": {
     "end_time": "2018-07-08T21:28:27.938713Z",
     "start_time": "2018-07-08T21:28:27.713950Z"
    }
   },
   "outputs": [],
   "source": [
    "df_train = df_train.join(df_woe['WoE'] , how='left', on='MCC')\n",
    "df_test = df_test.join(df_woe['WoE'] , how='left', on='MCC')"
   ]
  },
  {
   "cell_type": "code",
   "execution_count": 85,
   "metadata": {
    "ExecuteTime": {
     "end_time": "2018-07-08T21:27:51.339973Z",
     "start_time": "2018-07-08T21:27:51.313084Z"
    }
   },
   "outputs": [
    {
     "data": {
      "text/html": [
       "<div>\n",
       "<style scoped>\n",
       "    .dataframe tbody tr th:only-of-type {\n",
       "        vertical-align: middle;\n",
       "    }\n",
       "\n",
       "    .dataframe tbody tr th {\n",
       "        vertical-align: top;\n",
       "    }\n",
       "\n",
       "    .dataframe thead th {\n",
       "        text-align: right;\n",
       "    }\n",
       "</style>\n",
       "<table border=\"1\" class=\"dataframe\">\n",
       "  <thead>\n",
       "    <tr style=\"text-align: right;\">\n",
       "      <th></th>\n",
       "      <th>PERIOD</th>\n",
       "      <th>cl_id</th>\n",
       "      <th>MCC</th>\n",
       "      <th>channel_type</th>\n",
       "      <th>currency</th>\n",
       "      <th>TRDATETIME</th>\n",
       "      <th>amount</th>\n",
       "      <th>trx_category</th>\n",
       "      <th>is_test</th>\n",
       "      <th>MCC_group</th>\n",
       "      <th>curr_code</th>\n",
       "      <th>exch_rate</th>\n",
       "      <th>exch_nominal</th>\n",
       "      <th>amount_rub</th>\n",
       "      <th>dayofweek</th>\n",
       "      <th>is_weekend</th>\n",
       "      <th>is_withdrawal</th>\n",
       "      <th>target_flag</th>\n",
       "      <th>WoE</th>\n",
       "    </tr>\n",
       "  </thead>\n",
       "  <tbody>\n",
       "    <tr>\n",
       "      <th>0</th>\n",
       "      <td>2016-10</td>\n",
       "      <td>1290</td>\n",
       "      <td>5411</td>\n",
       "      <td>type2</td>\n",
       "      <td>810</td>\n",
       "      <td>2016-10-07 00:00:00</td>\n",
       "      <td>2465.0</td>\n",
       "      <td>POS</td>\n",
       "      <td>0</td>\n",
       "      <td>Розничныемагазины</td>\n",
       "      <td>RUB</td>\n",
       "      <td>1.0</td>\n",
       "      <td>1.0</td>\n",
       "      <td>2465.0</td>\n",
       "      <td>4</td>\n",
       "      <td>0</td>\n",
       "      <td>True</td>\n",
       "      <td>1</td>\n",
       "      <td>-0.143462</td>\n",
       "    </tr>\n",
       "    <tr>\n",
       "      <th>3</th>\n",
       "      <td>2016-10</td>\n",
       "      <td>485</td>\n",
       "      <td>6011</td>\n",
       "      <td>type2</td>\n",
       "      <td>810</td>\n",
       "      <td>2016-10-07 00:00:00</td>\n",
       "      <td>3600.0</td>\n",
       "      <td>WD_ATM_PARTNER</td>\n",
       "      <td>0</td>\n",
       "      <td>Поставщик услуг</td>\n",
       "      <td>RUB</td>\n",
       "      <td>1.0</td>\n",
       "      <td>1.0</td>\n",
       "      <td>3600.0</td>\n",
       "      <td>4</td>\n",
       "      <td>0</td>\n",
       "      <td>True</td>\n",
       "      <td>1</td>\n",
       "      <td>0.002836</td>\n",
       "    </tr>\n",
       "    <tr>\n",
       "      <th>4</th>\n",
       "      <td>2016-10</td>\n",
       "      <td>485</td>\n",
       "      <td>4121</td>\n",
       "      <td>type2</td>\n",
       "      <td>810</td>\n",
       "      <td>2016-10-07 00:00:00</td>\n",
       "      <td>242.0</td>\n",
       "      <td>POS</td>\n",
       "      <td>0</td>\n",
       "      <td>Транспорт</td>\n",
       "      <td>RUB</td>\n",
       "      <td>1.0</td>\n",
       "      <td>1.0</td>\n",
       "      <td>242.0</td>\n",
       "      <td>4</td>\n",
       "      <td>0</td>\n",
       "      <td>True</td>\n",
       "      <td>1</td>\n",
       "      <td>0.624586</td>\n",
       "    </tr>\n",
       "    <tr>\n",
       "      <th>10</th>\n",
       "      <td>2016-10</td>\n",
       "      <td>1290</td>\n",
       "      <td>6011</td>\n",
       "      <td>type2</td>\n",
       "      <td>810</td>\n",
       "      <td>2016-10-07 18:57:17</td>\n",
       "      <td>10000.0</td>\n",
       "      <td>WD_ATM_ROS</td>\n",
       "      <td>0</td>\n",
       "      <td>Поставщик услуг</td>\n",
       "      <td>RUB</td>\n",
       "      <td>1.0</td>\n",
       "      <td>1.0</td>\n",
       "      <td>10000.0</td>\n",
       "      <td>4</td>\n",
       "      <td>0</td>\n",
       "      <td>False</td>\n",
       "      <td>1</td>\n",
       "      <td>0.002836</td>\n",
       "    </tr>\n",
       "    <tr>\n",
       "      <th>11</th>\n",
       "      <td>2016-10</td>\n",
       "      <td>8119</td>\n",
       "      <td>5411</td>\n",
       "      <td>type1</td>\n",
       "      <td>810</td>\n",
       "      <td>2016-10-08 00:00:00</td>\n",
       "      <td>597.0</td>\n",
       "      <td>POS</td>\n",
       "      <td>0</td>\n",
       "      <td>Розничныемагазины</td>\n",
       "      <td>RUB</td>\n",
       "      <td>1.0</td>\n",
       "      <td>1.0</td>\n",
       "      <td>597.0</td>\n",
       "      <td>5</td>\n",
       "      <td>1</td>\n",
       "      <td>True</td>\n",
       "      <td>1</td>\n",
       "      <td>-0.143462</td>\n",
       "    </tr>\n",
       "  </tbody>\n",
       "</table>\n",
       "</div>"
      ],
      "text/plain": [
       "    PERIOD  cl_id   MCC channel_type currency          TRDATETIME   amount  \\\n",
       "0  2016-10   1290  5411        type2      810 2016-10-07 00:00:00   2465.0   \n",
       "3  2016-10    485  6011        type2      810 2016-10-07 00:00:00   3600.0   \n",
       "4  2016-10    485  4121        type2      810 2016-10-07 00:00:00    242.0   \n",
       "10 2016-10   1290  6011        type2      810 2016-10-07 18:57:17  10000.0   \n",
       "11 2016-10   8119  5411        type1      810 2016-10-08 00:00:00    597.0   \n",
       "\n",
       "      trx_category  is_test          MCC_group curr_code  exch_rate  \\\n",
       "0              POS        0  Розничныемагазины       RUB        1.0   \n",
       "3   WD_ATM_PARTNER        0    Поставщик услуг       RUB        1.0   \n",
       "4              POS        0          Транспорт       RUB        1.0   \n",
       "10      WD_ATM_ROS        0    Поставщик услуг       RUB        1.0   \n",
       "11             POS        0  Розничныемагазины       RUB        1.0   \n",
       "\n",
       "    exch_nominal  amount_rub dayofweek  is_weekend is_withdrawal  target_flag  \\\n",
       "0            1.0      2465.0         4           0          True            1   \n",
       "3            1.0      3600.0         4           0          True            1   \n",
       "4            1.0       242.0         4           0          True            1   \n",
       "10           1.0     10000.0         4           0         False            1   \n",
       "11           1.0       597.0         5           1          True            1   \n",
       "\n",
       "         WoE  \n",
       "0  -0.143462  \n",
       "3   0.002836  \n",
       "4   0.624586  \n",
       "10  0.002836  \n",
       "11 -0.143462  "
      ]
     },
     "execution_count": 85,
     "metadata": {},
     "output_type": "execute_result"
    }
   ],
   "source": [
    "df_train.head()"
   ]
  },
  {
   "cell_type": "code",
   "execution_count": null,
   "metadata": {},
   "outputs": [],
   "source": []
  }
 ],
 "metadata": {
  "hide_input": false,
  "kernelspec": {
   "display_name": "Python 3",
   "language": "python",
   "name": "python3"
  },
  "language_info": {
   "codemirror_mode": {
    "name": "ipython",
    "version": 3
   },
   "file_extension": ".py",
   "mimetype": "text/x-python",
   "name": "python",
   "nbconvert_exporter": "python",
   "pygments_lexer": "ipython3",
   "version": "3.6.6"
  },
  "toc": {
   "base_numbering": 1,
   "nav_menu": {},
   "number_sections": true,
   "sideBar": true,
   "skip_h1_title": false,
   "title_cell": "Table of Contents",
   "title_sidebar": "Contents",
   "toc_cell": false,
   "toc_position": {
    "height": "calc(100% - 180px)",
    "left": "10px",
    "top": "150px",
    "width": "320px"
   },
   "toc_section_display": true,
   "toc_window_display": true
  },
  "varInspector": {
   "cols": {
    "lenName": 16,
    "lenType": 16,
    "lenVar": 40
   },
   "kernels_config": {
    "python": {
     "delete_cmd_postfix": "",
     "delete_cmd_prefix": "del ",
     "library": "var_list.py",
     "varRefreshCmd": "print(var_dic_list())"
    },
    "r": {
     "delete_cmd_postfix": ") ",
     "delete_cmd_prefix": "rm(",
     "library": "var_list.r",
     "varRefreshCmd": "cat(var_dic_list()) "
    }
   },
   "types_to_exclude": [
    "module",
    "function",
    "builtin_function_or_method",
    "instance",
    "_Feature"
   ],
   "window_display": false
  }
 },
 "nbformat": 4,
 "nbformat_minor": 2
}
