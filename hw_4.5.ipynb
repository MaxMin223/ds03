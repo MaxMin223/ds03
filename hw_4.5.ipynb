{
 "cells": [
  {
   "cell_type": "markdown",
   "metadata": {},
   "source": [
    "# Задание к занятию «Гибридные рекомендатльные системы»\n"
   ]
  },
  {
   "cell_type": "markdown",
   "metadata": {},
   "source": [
    "Описание задания:\n",
    "\n",
    "Что делать\n",
    "\n",
    "1. Возьмите ml-latest, предсказывайте оценку не ниже 4\n",
    "\n",
    "2. Постройте lightFM: коллаборативные фичи + теги\n",
    "\n",
    "3. Сравните время работы и качество (со случаем без тегов)."
   ]
  },
  {
   "cell_type": "markdown",
   "metadata": {},
   "source": [
    "## lightFM: коллаборативные фичи"
   ]
  },
  {
   "cell_type": "code",
   "execution_count": 1,
   "metadata": {
    "ExecuteTime": {
     "end_time": "2018-06-13T06:29:39.688021Z",
     "start_time": "2018-06-13T06:29:28.220475Z"
    }
   },
   "outputs": [],
   "source": [
    "import pandas as pd\n",
    "ratings = pd.read_csv(\"../ml-latest/ratings.csv\")\n",
    "movies = pd.read_csv(\"../ml-latest/movies.csv\")\n",
    "tags = pd.read_csv(\"../ml-latest/tags.csv\",usecols=['movieId','tag'])"
   ]
  },
  {
   "cell_type": "code",
   "execution_count": 2,
   "metadata": {
    "ExecuteTime": {
     "end_time": "2018-06-13T06:29:39.747660Z",
     "start_time": "2018-06-13T06:29:39.690551Z"
    }
   },
   "outputs": [],
   "source": [
    "tags.fillna(value='nan', inplace=True)"
   ]
  },
  {
   "cell_type": "code",
   "execution_count": 3,
   "metadata": {
    "ExecuteTime": {
     "end_time": "2018-06-13T06:29:39.863997Z",
     "start_time": "2018-06-13T06:29:39.750890Z"
    }
   },
   "outputs": [
    {
     "name": "stdout",
     "output_type": "stream",
     "text": [
      "<class 'pandas.core.frame.DataFrame'>\n",
      "RangeIndex: 753170 entries, 0 to 753169\n",
      "Data columns (total 2 columns):\n",
      "movieId    753170 non-null int64\n",
      "tag        753170 non-null object\n",
      "dtypes: int64(1), object(1)\n",
      "memory usage: 11.5+ MB\n"
     ]
    }
   ],
   "source": [
    "tags.info()"
   ]
  },
  {
   "cell_type": "code",
   "execution_count": 4,
   "metadata": {
    "ExecuteTime": {
     "end_time": "2018-06-13T06:29:40.437170Z",
     "start_time": "2018-06-13T06:29:39.867621Z"
    }
   },
   "outputs": [],
   "source": [
    "tags['tag'] = tags['tag'].str.upper()\n",
    "tags['tag_id'] = tags['tag'].astype('category').cat.codes.copy()\n"
   ]
  },
  {
   "cell_type": "code",
   "execution_count": 5,
   "metadata": {
    "ExecuteTime": {
     "end_time": "2018-06-13T06:29:40.471544Z",
     "start_time": "2018-06-13T06:29:40.440690Z"
    }
   },
   "outputs": [
    {
     "data": {
      "text/html": [
       "<div>\n",
       "<style scoped>\n",
       "    .dataframe tbody tr th:only-of-type {\n",
       "        vertical-align: middle;\n",
       "    }\n",
       "\n",
       "    .dataframe tbody tr th {\n",
       "        vertical-align: top;\n",
       "    }\n",
       "\n",
       "    .dataframe thead th {\n",
       "        text-align: right;\n",
       "    }\n",
       "</style>\n",
       "<table border=\"1\" class=\"dataframe\">\n",
       "  <thead>\n",
       "    <tr style=\"text-align: right;\">\n",
       "      <th></th>\n",
       "      <th>userId</th>\n",
       "      <th>movieId</th>\n",
       "      <th>rating</th>\n",
       "      <th>timestamp</th>\n",
       "    </tr>\n",
       "  </thead>\n",
       "  <tbody>\n",
       "    <tr>\n",
       "      <th>0</th>\n",
       "      <td>1</td>\n",
       "      <td>110</td>\n",
       "      <td>1.0</td>\n",
       "      <td>1425941529</td>\n",
       "    </tr>\n",
       "    <tr>\n",
       "      <th>1</th>\n",
       "      <td>1</td>\n",
       "      <td>147</td>\n",
       "      <td>4.5</td>\n",
       "      <td>1425942435</td>\n",
       "    </tr>\n",
       "    <tr>\n",
       "      <th>2</th>\n",
       "      <td>1</td>\n",
       "      <td>858</td>\n",
       "      <td>5.0</td>\n",
       "      <td>1425941523</td>\n",
       "    </tr>\n",
       "    <tr>\n",
       "      <th>3</th>\n",
       "      <td>1</td>\n",
       "      <td>1221</td>\n",
       "      <td>5.0</td>\n",
       "      <td>1425941546</td>\n",
       "    </tr>\n",
       "    <tr>\n",
       "      <th>4</th>\n",
       "      <td>1</td>\n",
       "      <td>1246</td>\n",
       "      <td>5.0</td>\n",
       "      <td>1425941556</td>\n",
       "    </tr>\n",
       "  </tbody>\n",
       "</table>\n",
       "</div>"
      ],
      "text/plain": [
       "   userId  movieId  rating   timestamp\n",
       "0       1      110     1.0  1425941529\n",
       "1       1      147     4.5  1425942435\n",
       "2       1      858     5.0  1425941523\n",
       "3       1     1221     5.0  1425941546\n",
       "4       1     1246     5.0  1425941556"
      ]
     },
     "execution_count": 5,
     "metadata": {},
     "output_type": "execute_result"
    }
   ],
   "source": [
    "ratings.head()"
   ]
  },
  {
   "cell_type": "code",
   "execution_count": 6,
   "metadata": {
    "ExecuteTime": {
     "end_time": "2018-06-13T06:29:41.471157Z",
     "start_time": "2018-06-13T06:29:40.474316Z"
    }
   },
   "outputs": [],
   "source": [
    "from scipy.sparse import coo_matrix\n",
    "import numpy as np\n",
    "\n",
    "user_item_matrix = coo_matrix(\n",
    "    ((ratings[\"rating\"] >= 4).astype(np.float32),\n",
    "    (ratings[\"userId\"], ratings[\"movieId\"])),\n",
    "    shape=(\n",
    "        ratings[\"userId\"].unique().max() + 1,\n",
    "        movies[\"movieId\"].unique().max() + 1\n",
    "    )\n",
    ")\n",
    "user_item_matrix.eliminate_zeros()"
   ]
  },
  {
   "cell_type": "code",
   "execution_count": 7,
   "metadata": {
    "ExecuteTime": {
     "end_time": "2018-06-13T06:29:41.478036Z",
     "start_time": "2018-06-13T06:29:41.473537Z"
    }
   },
   "outputs": [
    {
     "data": {
      "text/plain": [
       "<270897x176280 sparse matrix of type '<class 'numpy.float32'>'\n",
       "\twith 12981742 stored elements in COOrdinate format>"
      ]
     },
     "execution_count": 7,
     "metadata": {},
     "output_type": "execute_result"
    }
   ],
   "source": [
    "user_item_matrix"
   ]
  },
  {
   "cell_type": "code",
   "execution_count": 8,
   "metadata": {
    "ExecuteTime": {
     "end_time": "2018-06-13T06:29:45.575920Z",
     "start_time": "2018-06-13T06:29:41.480185Z"
    }
   },
   "outputs": [],
   "source": [
    "import numpy as np\n",
    "\n",
    "# делим разреженную матрицу на обучающую и тестовую\n",
    "total_len = user_item_matrix.data.size\n",
    "train_len = int(total_len * 0.8)\n",
    "all_indices = np.arange(total_len)\n",
    "np.random.seed(42)\n",
    "train_indices = np.random.choice(all_indices, train_len, replace=False)\n",
    "train_mask = np.in1d(all_indices, train_indices)"
   ]
  },
  {
   "cell_type": "code",
   "execution_count": 9,
   "metadata": {
    "ExecuteTime": {
     "end_time": "2018-06-13T06:29:45.584198Z",
     "start_time": "2018-06-13T06:29:45.578321Z"
    }
   },
   "outputs": [],
   "source": [
    "from scipy.sparse import coo_matrix\n",
    "\n",
    "def get_masked(arr, mask):\n",
    "    return coo_matrix(\n",
    "        (\n",
    "            [np.float32(item) for item in arr.data[mask]],\n",
    "            (arr.row[mask], arr.col[mask])\n",
    "        ),\n",
    "        arr.shape\n",
    "    )"
   ]
  },
  {
   "cell_type": "code",
   "execution_count": 10,
   "metadata": {
    "ExecuteTime": {
     "end_time": "2018-06-13T06:29:56.334228Z",
     "start_time": "2018-06-13T06:29:45.586726Z"
    }
   },
   "outputs": [],
   "source": [
    "train = get_masked(user_item_matrix, train_mask)\n",
    "test = get_masked(user_item_matrix, ~train_mask)"
   ]
  },
  {
   "cell_type": "code",
   "execution_count": 11,
   "metadata": {
    "ExecuteTime": {
     "end_time": "2018-06-13T06:29:56.345285Z",
     "start_time": "2018-06-13T06:29:56.338740Z"
    }
   },
   "outputs": [],
   "source": [
    "from lightfm import LightFM\n",
    "\n",
    "fm = LightFM()"
   ]
  },
  {
   "cell_type": "code",
   "execution_count": 12,
   "metadata": {
    "ExecuteTime": {
     "end_time": "2018-06-13T06:38:12.833677Z",
     "start_time": "2018-06-13T06:29:56.348102Z"
    }
   },
   "outputs": [
    {
     "name": "stdout",
     "output_type": "stream",
     "text": [
      "Epoch 0\n",
      "Epoch 1\n",
      "Epoch 2\n",
      "Epoch 3\n",
      "Epoch 4\n",
      "Epoch 5\n",
      "Epoch 6\n",
      "Epoch 7\n",
      "Epoch 8\n",
      "Epoch 9\n",
      "Epoch 10\n",
      "Epoch 11\n",
      "Epoch 12\n",
      "Epoch 13\n",
      "Epoch 14\n",
      "Epoch 15\n",
      "Epoch 16\n",
      "Epoch 17\n",
      "Epoch 18\n",
      "Epoch 19\n",
      "Epoch 20\n",
      "Epoch 21\n",
      "Epoch 22\n",
      "Epoch 23\n",
      "Epoch 24\n",
      "Epoch 25\n",
      "Epoch 26\n",
      "Epoch 27\n",
      "Epoch 28\n",
      "Epoch 29\n",
      "Epoch 30\n",
      "Epoch 31\n",
      "Epoch 32\n",
      "Epoch 33\n",
      "Epoch 34\n",
      "Epoch 35\n",
      "Epoch 36\n",
      "Epoch 37\n",
      "Epoch 38\n",
      "Epoch 39\n",
      "Epoch 40\n",
      "Epoch 41\n",
      "Epoch 42\n",
      "Epoch 43\n",
      "Epoch 44\n",
      "Epoch 45\n",
      "Epoch 46\n",
      "Epoch 47\n",
      "Epoch 48\n",
      "Epoch 49\n",
      "Epoch 50\n",
      "Epoch 51\n",
      "Epoch 52\n",
      "Epoch 53\n",
      "Epoch 54\n",
      "Epoch 55\n",
      "Epoch 56\n",
      "Epoch 57\n",
      "Epoch 58\n",
      "Epoch 59\n",
      "Epoch 60\n",
      "Epoch 61\n",
      "Epoch 62\n",
      "Epoch 63\n",
      "Epoch 64\n",
      "Epoch 65\n",
      "Epoch 66\n",
      "Epoch 67\n",
      "Epoch 68\n",
      "Epoch 69\n",
      "Epoch 70\n",
      "Epoch 71\n",
      "Epoch 72\n",
      "Epoch 73\n",
      "Epoch 74\n",
      "Epoch 75\n",
      "Epoch 76\n",
      "Epoch 77\n",
      "Epoch 78\n",
      "Epoch 79\n",
      "Epoch 80\n",
      "Epoch 81\n",
      "Epoch 82\n",
      "Epoch 83\n",
      "Epoch 84\n",
      "Epoch 85\n",
      "Epoch 86\n",
      "Epoch 87\n",
      "Epoch 88\n",
      "Epoch 89\n",
      "Epoch 90\n",
      "Epoch 91\n",
      "Epoch 92\n",
      "Epoch 93\n",
      "Epoch 94\n",
      "Epoch 95\n",
      "Epoch 96\n",
      "Epoch 97\n",
      "Epoch 98\n",
      "Epoch 99\n",
      "CPU times: user 28min 33s, sys: 2.33 s, total: 28min 36s\n",
      "Wall time: 8min 16s\n"
     ]
    },
    {
     "data": {
      "text/plain": [
       "<lightfm.lightfm.LightFM at 0x7fde9ed37898>"
      ]
     },
     "execution_count": 12,
     "metadata": {},
     "output_type": "execute_result"
    }
   ],
   "source": [
    "%%time\n",
    "fm.fit(\n",
    "    interactions=train,\n",
    "    epochs=100,\n",
    "    num_threads=4,\n",
    "    verbose=True\n",
    ")"
   ]
  },
  {
   "cell_type": "code",
   "execution_count": 13,
   "metadata": {
    "ExecuteTime": {
     "end_time": "2018-06-13T06:38:12.842356Z",
     "start_time": "2018-06-13T06:38:12.838000Z"
    }
   },
   "outputs": [
    {
     "data": {
      "text/plain": [
       "{'loss': 'logistic',\n",
       " 'learning_schedule': 'adagrad',\n",
       " 'no_components': 10,\n",
       " 'learning_rate': 0.05,\n",
       " 'k': 5,\n",
       " 'n': 10,\n",
       " 'rho': 0.95,\n",
       " 'epsilon': 1e-06,\n",
       " 'max_sampled': 10,\n",
       " 'item_alpha': 0.0,\n",
       " 'user_alpha': 0.0,\n",
       " 'random_state': <mtrand.RandomState at 0x7fdea14fa480>}"
      ]
     },
     "execution_count": 13,
     "metadata": {},
     "output_type": "execute_result"
    }
   ],
   "source": [
    "fm.get_params()"
   ]
  },
  {
   "cell_type": "code",
   "execution_count": 14,
   "metadata": {
    "ExecuteTime": {
     "end_time": "2018-06-13T06:57:46.240066Z",
     "start_time": "2018-06-13T06:38:12.844569Z"
    }
   },
   "outputs": [
    {
     "name": "stdout",
     "output_type": "stream",
     "text": [
      "CPU times: user 1h 16min 37s, sys: 2.07 s, total: 1h 16min 39s\n",
      "Wall time: 19min 33s\n"
     ]
    }
   ],
   "source": [
    "%%time\n",
    "from lightfm.evaluation import reciprocal_rank\n",
    "\n",
    "rr = reciprocal_rank(\n",
    "    model=fm,\n",
    "    test_interactions=test,\n",
    "    train_interactions=train,\n",
    "    num_threads=4\n",
    ")"
   ]
  },
  {
   "cell_type": "code",
   "execution_count": 15,
   "metadata": {
    "ExecuteTime": {
     "end_time": "2018-06-13T06:57:46.246648Z",
     "start_time": "2018-06-13T06:57:46.242523Z"
    }
   },
   "outputs": [
    {
     "data": {
      "text/plain": [
       "0.22469811"
      ]
     },
     "execution_count": 15,
     "metadata": {},
     "output_type": "execute_result"
    }
   ],
   "source": [
    "rr.mean()"
   ]
  },
  {
   "cell_type": "code",
   "execution_count": 16,
   "metadata": {
    "ExecuteTime": {
     "end_time": "2018-06-13T06:57:46.261819Z",
     "start_time": "2018-06-13T06:57:46.248690Z"
    }
   },
   "outputs": [
    {
     "name": "stdout",
     "output_type": "stream",
     "text": [
      "(array([ 0.        ,  0.40534738,  0.21969379, ...,  0.59263498,\n",
      "        0.07978027,  0.97354531], dtype=float32), array([[ 0.04183123, -0.0217846 ,  0.02738476, ..., -0.0416659 ,\n",
      "         0.04672469,  0.00624839],\n",
      "       [-0.03302612, -0.10198953, -0.07643329, ..., -0.06150615,\n",
      "        -0.02338957, -0.12917863],\n",
      "       [ 0.02100091, -0.06511462, -0.02798225, ...,  0.04232505,\n",
      "         0.00254494, -0.06460346],\n",
      "       ..., \n",
      "       [-0.17308868, -0.13930814, -0.21077126, ..., -0.01122911,\n",
      "        -0.00934649, -0.18670601],\n",
      "       [ 0.04174485,  0.01459875,  0.01734498, ..., -0.01305523,\n",
      "         0.0275433 ,  0.02772813],\n",
      "       [-0.04968318, -0.01804409, -0.11948996, ...,  0.02698112,\n",
      "         0.01468431, -0.05958324]], dtype=float32))\n"
     ]
    }
   ],
   "source": [
    "user_factors = fm.get_user_representations()\n",
    "print(user_factors)"
   ]
  },
  {
   "cell_type": "code",
   "execution_count": 17,
   "metadata": {
    "ExecuteTime": {
     "end_time": "2018-06-13T06:57:46.275574Z",
     "start_time": "2018-06-13T06:57:46.266084Z"
    }
   },
   "outputs": [
    {
     "name": "stdout",
     "output_type": "stream",
     "text": [
      "(array([ 0.        ,  9.31035233,  7.69351721, ...,  0.        ,\n",
      "        0.        ,  0.        ], dtype=float32), array([[ 0.03760988,  0.0270666 ,  0.00455319, ...,  0.01898395,\n",
      "         0.04481839, -0.00725883],\n",
      "       [-0.24212019, -0.4651542 , -0.36825463, ..., -0.00238148,\n",
      "        -0.01485588, -0.68477839],\n",
      "       [-0.20801087, -0.45415413, -0.44284818, ..., -0.06824353,\n",
      "        -0.02801028, -0.69064969],\n",
      "       ..., \n",
      "       [-0.02904287,  0.02026233,  0.00994778, ..., -0.03073787,\n",
      "        -0.04166988,  0.01597854],\n",
      "       [-0.04065033,  0.01923469, -0.0044485 , ..., -0.03325109,\n",
      "        -0.02751566,  0.00147619],\n",
      "       [ 0.0138132 , -0.00676864, -0.00542541, ..., -0.00936656,\n",
      "         0.00853478,  0.04592822]], dtype=float32))\n"
     ]
    }
   ],
   "source": [
    "item_factors = fm.get_item_representations()\n",
    "print(item_factors)"
   ]
  },
  {
   "cell_type": "code",
   "execution_count": 18,
   "metadata": {
    "ExecuteTime": {
     "end_time": "2018-06-13T06:57:46.292600Z",
     "start_time": "2018-06-13T06:57:46.278181Z"
    }
   },
   "outputs": [
    {
     "name": "stdout",
     "output_type": "stream",
     "text": [
      "270897\n",
      "(270897, 10)\n"
     ]
    }
   ],
   "source": [
    "print(len(user_factors[0]))\n",
    "print(user_factors[1].shape)"
   ]
  },
  {
   "cell_type": "code",
   "execution_count": 19,
   "metadata": {
    "ExecuteTime": {
     "end_time": "2018-06-13T06:57:46.307370Z",
     "start_time": "2018-06-13T06:57:46.295769Z"
    }
   },
   "outputs": [
    {
     "name": "stdout",
     "output_type": "stream",
     "text": [
      "176280\n",
      "(176280, 10)\n"
     ]
    }
   ],
   "source": [
    "print(len(item_factors[0]))\n",
    "print(item_factors[1].shape)"
   ]
  },
  {
   "cell_type": "markdown",
   "metadata": {},
   "source": [
    "## lightFM: коллаборативные фичи + теги"
   ]
  },
  {
   "cell_type": "markdown",
   "metadata": {},
   "source": [
    "Теги добавим в item_features.\n",
    "Теоретически, их можно было бы добавить и как фичи пользователя"
   ]
  },
  {
   "cell_type": "code",
   "execution_count": 20,
   "metadata": {
    "ExecuteTime": {
     "end_time": "2018-06-13T06:57:46.326980Z",
     "start_time": "2018-06-13T06:57:46.310108Z"
    }
   },
   "outputs": [
    {
     "data": {
      "text/html": [
       "<div>\n",
       "<style scoped>\n",
       "    .dataframe tbody tr th:only-of-type {\n",
       "        vertical-align: middle;\n",
       "    }\n",
       "\n",
       "    .dataframe tbody tr th {\n",
       "        vertical-align: top;\n",
       "    }\n",
       "\n",
       "    .dataframe thead th {\n",
       "        text-align: right;\n",
       "    }\n",
       "</style>\n",
       "<table border=\"1\" class=\"dataframe\">\n",
       "  <thead>\n",
       "    <tr style=\"text-align: right;\">\n",
       "      <th></th>\n",
       "      <th>movieId</th>\n",
       "      <th>tag</th>\n",
       "      <th>tag_id</th>\n",
       "    </tr>\n",
       "  </thead>\n",
       "  <tbody>\n",
       "    <tr>\n",
       "      <th>0</th>\n",
       "      <td>318</td>\n",
       "      <td>NARRATED</td>\n",
       "      <td>28984</td>\n",
       "    </tr>\n",
       "    <tr>\n",
       "      <th>1</th>\n",
       "      <td>4306</td>\n",
       "      <td>DREAMWORKS</td>\n",
       "      <td>12796</td>\n",
       "    </tr>\n",
       "    <tr>\n",
       "      <th>2</th>\n",
       "      <td>89302</td>\n",
       "      <td>ENGLAND</td>\n",
       "      <td>13798</td>\n",
       "    </tr>\n",
       "    <tr>\n",
       "      <th>3</th>\n",
       "      <td>89302</td>\n",
       "      <td>ESPIONAGE</td>\n",
       "      <td>14113</td>\n",
       "    </tr>\n",
       "    <tr>\n",
       "      <th>4</th>\n",
       "      <td>89302</td>\n",
       "      <td>JAZZ</td>\n",
       "      <td>21895</td>\n",
       "    </tr>\n",
       "  </tbody>\n",
       "</table>\n",
       "</div>"
      ],
      "text/plain": [
       "   movieId         tag  tag_id\n",
       "0      318    NARRATED   28984\n",
       "1     4306  DREAMWORKS   12796\n",
       "2    89302     ENGLAND   13798\n",
       "3    89302   ESPIONAGE   14113\n",
       "4    89302        JAZZ   21895"
      ]
     },
     "execution_count": 20,
     "metadata": {},
     "output_type": "execute_result"
    }
   ],
   "source": [
    "tags.head()"
   ]
  },
  {
   "cell_type": "code",
   "execution_count": 21,
   "metadata": {
    "ExecuteTime": {
     "end_time": "2018-06-13T06:57:46.342659Z",
     "start_time": "2018-06-13T06:57:46.329012Z"
    }
   },
   "outputs": [
    {
     "data": {
      "text/plain": [
       "(270897, 176280)"
      ]
     },
     "execution_count": 21,
     "metadata": {},
     "output_type": "execute_result"
    }
   ],
   "source": [
    "user_item_matrix.shape"
   ]
  },
  {
   "cell_type": "code",
   "execution_count": 22,
   "metadata": {
    "ExecuteTime": {
     "end_time": "2018-06-13T06:57:46.496267Z",
     "start_time": "2018-06-13T06:57:46.346078Z"
    }
   },
   "outputs": [
    {
     "data": {
      "text/plain": [
       "(176280, 224233)"
      ]
     },
     "execution_count": 22,
     "metadata": {},
     "output_type": "execute_result"
    }
   ],
   "source": [
    "from scipy.sparse import identity, hstack\n",
    "\n",
    "item_feature_matrix = hstack([\n",
    "    coo_matrix(\n",
    "        (np.ones(tags.count()[0], dtype=np.float32),\n",
    "        (tags[\"movieId\"], tags[\"tag_id\"])),\n",
    "        shape=(user_item_matrix.shape[1], tags[\"tag_id\"].unique().size)\n",
    "    ),\n",
    "    identity(user_item_matrix.shape[1])\n",
    "])\n",
    "item_feature_matrix.shape"
   ]
  },
  {
   "cell_type": "code",
   "execution_count": 23,
   "metadata": {
    "ExecuteTime": {
     "end_time": "2018-06-13T09:10:23.594711Z",
     "start_time": "2018-06-13T06:57:46.498364Z"
    }
   },
   "outputs": [
    {
     "name": "stdout",
     "output_type": "stream",
     "text": [
      "Epoch 0\n",
      "Epoch 1\n",
      "Epoch 2\n",
      "Epoch 3\n",
      "Epoch 4\n",
      "Epoch 5\n",
      "Epoch 6\n",
      "Epoch 7\n",
      "Epoch 8\n",
      "Epoch 9\n",
      "Epoch 10\n",
      "Epoch 11\n",
      "Epoch 12\n",
      "Epoch 13\n",
      "Epoch 14\n",
      "Epoch 15\n",
      "Epoch 16\n",
      "Epoch 17\n",
      "Epoch 18\n",
      "Epoch 19\n",
      "Epoch 20\n",
      "Epoch 21\n",
      "Epoch 22\n",
      "Epoch 23\n",
      "Epoch 24\n",
      "Epoch 25\n",
      "Epoch 26\n",
      "Epoch 27\n",
      "Epoch 28\n",
      "Epoch 29\n",
      "Epoch 30\n",
      "Epoch 31\n",
      "Epoch 32\n",
      "Epoch 33\n",
      "Epoch 34\n",
      "Epoch 35\n",
      "Epoch 36\n",
      "Epoch 37\n",
      "Epoch 38\n",
      "Epoch 39\n",
      "Epoch 40\n",
      "Epoch 41\n",
      "Epoch 42\n",
      "Epoch 43\n",
      "Epoch 44\n",
      "Epoch 45\n",
      "Epoch 46\n",
      "Epoch 47\n",
      "Epoch 48\n",
      "Epoch 49\n",
      "Epoch 50\n",
      "Epoch 51\n",
      "Epoch 52\n",
      "Epoch 53\n",
      "Epoch 54\n",
      "Epoch 55\n",
      "Epoch 56\n",
      "Epoch 57\n",
      "Epoch 58\n",
      "Epoch 59\n",
      "Epoch 60\n",
      "Epoch 61\n",
      "Epoch 62\n",
      "Epoch 63\n",
      "Epoch 64\n",
      "Epoch 65\n",
      "Epoch 66\n",
      "Epoch 67\n",
      "Epoch 68\n",
      "Epoch 69\n",
      "Epoch 70\n",
      "Epoch 71\n",
      "Epoch 72\n",
      "Epoch 73\n",
      "Epoch 74\n",
      "Epoch 75\n",
      "Epoch 76\n",
      "Epoch 77\n",
      "Epoch 78\n",
      "Epoch 79\n",
      "Epoch 80\n",
      "Epoch 81\n",
      "Epoch 82\n",
      "Epoch 83\n",
      "Epoch 84\n",
      "Epoch 85\n",
      "Epoch 86\n",
      "Epoch 87\n",
      "Epoch 88\n",
      "Epoch 89\n",
      "Epoch 90\n",
      "Epoch 91\n",
      "Epoch 92\n",
      "Epoch 93\n",
      "Epoch 94\n",
      "Epoch 95\n",
      "Epoch 96\n",
      "Epoch 97\n",
      "Epoch 98\n",
      "Epoch 99\n",
      "CPU times: user 8h 34min 36s, sys: 20.1 s, total: 8h 34min 56s\n",
      "Wall time: 2h 12min 37s\n"
     ]
    },
    {
     "data": {
      "text/plain": [
       "<lightfm.lightfm.LightFM at 0x7fde9ed37898>"
      ]
     },
     "execution_count": 23,
     "metadata": {},
     "output_type": "execute_result"
    }
   ],
   "source": [
    "%%time\n",
    "fm.fit(\n",
    "    interactions=train,\n",
    "    epochs=100,\n",
    "    item_features=item_feature_matrix,\n",
    "    num_threads=4,\n",
    "    verbose=True\n",
    ")"
   ]
  },
  {
   "cell_type": "code",
   "execution_count": 24,
   "metadata": {
    "ExecuteTime": {
     "end_time": "2018-06-13T09:10:23.602850Z",
     "start_time": "2018-06-13T09:10:23.597468Z"
    }
   },
   "outputs": [
    {
     "name": "stdout",
     "output_type": "stream",
     "text": [
      "(array([  1.79897659e-02,   3.90410435e-07,   3.90410435e-07, ...,\n",
      "         0.00000000e+00,   0.00000000e+00,   0.00000000e+00], dtype=float32), array([[ 0.01948255,  0.03034267,  0.02950883, ...,  0.04659824,\n",
      "         0.0317934 , -0.01827358],\n",
      "       [-0.02675867, -0.02772346,  0.02540882, ..., -0.02590871,\n",
      "        -0.03519502, -0.00696808],\n",
      "       [-0.03636106,  0.01241641, -0.00843739, ...,  0.00909514,\n",
      "         0.01788808, -0.02646129],\n",
      "       ..., \n",
      "       [-0.02371242, -0.00462511,  0.04717118, ..., -0.00732731,\n",
      "        -0.0491414 ,  0.01826487],\n",
      "       [ 0.01801646,  0.02623988, -0.04440532, ...,  0.00337404,\n",
      "         0.02599613,  0.04141225],\n",
      "       [-0.0187111 ,  0.0378853 ,  0.01825489, ...,  0.04437953,\n",
      "        -0.00762609, -0.0404805 ]], dtype=float32))\n"
     ]
    }
   ],
   "source": [
    "new_item_factors = fm.get_item_representations()\n",
    "print(new_item_factors)"
   ]
  },
  {
   "cell_type": "code",
   "execution_count": 25,
   "metadata": {
    "ExecuteTime": {
     "end_time": "2018-06-13T09:39:53.198252Z",
     "start_time": "2018-06-13T09:10:23.604595Z"
    }
   },
   "outputs": [
    {
     "name": "stdout",
     "output_type": "stream",
     "text": [
      "CPU times: user 1h 54min 55s, sys: 3.76 s, total: 1h 54min 59s\n",
      "Wall time: 29min 29s\n"
     ]
    }
   ],
   "source": [
    "%%time\n",
    "from lightfm.evaluation import reciprocal_rank\n",
    "\n",
    "rr = reciprocal_rank(\n",
    "    model=fm,\n",
    "    test_interactions=test,\n",
    "    train_interactions=train,\n",
    "    item_features=item_feature_matrix,\n",
    "    num_threads=4\n",
    ")"
   ]
  },
  {
   "cell_type": "code",
   "execution_count": 26,
   "metadata": {
    "ExecuteTime": {
     "end_time": "2018-06-13T09:39:53.209738Z",
     "start_time": "2018-06-13T09:39:53.203206Z"
    }
   },
   "outputs": [
    {
     "data": {
      "text/plain": [
       "0.17495015"
      ]
     },
     "execution_count": 26,
     "metadata": {},
     "output_type": "execute_result"
    }
   ],
   "source": [
    "rr.mean()"
   ]
  },
  {
   "cell_type": "markdown",
   "metadata": {},
   "source": [
    "## Вывод:"
   ]
  },
  {
   "cell_type": "code",
   "execution_count": 27,
   "metadata": {
    "ExecuteTime": {
     "end_time": "2018-06-13T10:23:28.086090Z",
     "start_time": "2018-06-13T10:23:28.072201Z"
    }
   },
   "outputs": [
    {
     "data": {
      "text/plain": [
       "47953"
      ]
     },
     "execution_count": 27,
     "metadata": {},
     "output_type": "execute_result"
    }
   ],
   "source": [
    "tags[\"tag_id\"].unique().size"
   ]
  },
  {
   "cell_type": "markdown",
   "metadata": {},
   "source": [
    "Добавление тегов в качестве контентных фичей не улучшило качество модели - reciprocal_rank уменьшился.\n",
    "Добавление 48к признаков очень сильно увеличило время работы "
   ]
  },
  {
   "cell_type": "code",
   "execution_count": null,
   "metadata": {},
   "outputs": [],
   "source": []
  }
 ],
 "metadata": {
  "hide_input": false,
  "kernelspec": {
   "display_name": "Python 3",
   "language": "python",
   "name": "python3"
  },
  "language_info": {
   "codemirror_mode": {
    "name": "ipython",
    "version": 3
   },
   "file_extension": ".py",
   "mimetype": "text/x-python",
   "name": "python",
   "nbconvert_exporter": "python",
   "pygments_lexer": "ipython3",
   "version": "3.6.5"
  },
  "toc": {
   "base_numbering": 1,
   "nav_menu": {},
   "number_sections": true,
   "sideBar": true,
   "skip_h1_title": false,
   "title_cell": "Table of Contents",
   "title_sidebar": "Contents",
   "toc_cell": false,
   "toc_position": {},
   "toc_section_display": true,
   "toc_window_display": true
  },
  "varInspector": {
   "cols": {
    "lenName": 16,
    "lenType": 16,
    "lenVar": 40
   },
   "kernels_config": {
    "python": {
     "delete_cmd_postfix": "",
     "delete_cmd_prefix": "del ",
     "library": "var_list.py",
     "varRefreshCmd": "print(var_dic_list())"
    },
    "r": {
     "delete_cmd_postfix": ") ",
     "delete_cmd_prefix": "rm(",
     "library": "var_list.r",
     "varRefreshCmd": "cat(var_dic_list()) "
    }
   },
   "types_to_exclude": [
    "module",
    "function",
    "builtin_function_or_method",
    "instance",
    "_Feature"
   ],
   "window_display": false
  }
 },
 "nbformat": 4,
 "nbformat_minor": 2
}
