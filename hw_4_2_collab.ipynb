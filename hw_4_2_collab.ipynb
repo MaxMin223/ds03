{
  "nbformat": 4,
  "nbformat_minor": 0,
  "metadata": {
    "colab": {
      "name": "hw_4.2_collab.ipynb",
      "version": "0.3.2",
      "views": {},
      "default_view": {},
      "provenance": [],
      "toc_visible": true
    },
    "kernelspec": {
      "name": "python3",
      "display_name": "Python 3"
    }
  },
  "cells": [
    {
      "metadata": {
        "id": "oonbFjFdKAlL",
        "colab_type": "text"
      },
      "cell_type": "markdown",
      "source": [
        "# Задание к занятию «Рекомендации на основе содержания»"
      ]
    },
    {
      "metadata": {
        "id": "MDoWGqueJ5HH",
        "colab_type": "text"
      },
      "cell_type": "markdown",
      "source": [
        "Описание задания:\n",
        "\n",
        "Что делать\n",
        "\n",
        "Построить рекомендации (регрессия, предсказываем оценку) на фичах:\n",
        "\n",
        "   - TF-IDF на тегах и жанрах\n",
        "   - средние оценки пользователя и фильма\n",
        "\n",
        "Оценить RMSE на тестовой выборка\n",
        "\n",
        " \n",
        "\n",
        "Какие данные\n",
        "\n",
        "Датасет MovieLens (ml_latest)"
      ]
    },
    {
      "metadata": {
        "id": "EekCn4PcJOS9",
        "colab_type": "text"
      },
      "cell_type": "markdown",
      "source": [
        "## Установка пакетов и загрузка данных"
      ]
    },
    {
      "metadata": {
        "id": "ccshJYm3aT3h",
        "colab_type": "code",
        "colab": {
          "autoexec": {
            "startup": false,
            "wait_interval": 0
          }
        }
      },
      "cell_type": "code",
      "source": [
        "# когда хочется обнулить текущее состояние контейнера\n",
        "#!kill -9 -1"
      ],
      "execution_count": 0,
      "outputs": []
    },
    {
      "metadata": {
        "id": "_PYRU5SP5Sh7",
        "colab_type": "code",
        "colab": {
          "autoexec": {
            "startup": false,
            "wait_interval": 0
          },
          "base_uri": "https://localhost:8080/",
          "height": 86
        },
        "outputId": "e1b30db0-2866-4234-f939-cb452d37af49",
        "executionInfo": {
          "status": "ok",
          "timestamp": 1527978507676,
          "user_tz": -180,
          "elapsed": 2070,
          "user": {
            "displayName": "Max Minenko",
            "photoUrl": "https://lh3.googleusercontent.com/a/default-user=s128",
            "userId": "109736211463040468281"
          }
        }
      },
      "cell_type": "code",
      "source": [
        "!cat /etc/lsb-release"
      ],
      "execution_count": 2,
      "outputs": [
        {
          "output_type": "stream",
          "text": [
            "DISTRIB_ID=Ubuntu\r\n",
            "DISTRIB_RELEASE=17.10\r\n",
            "DISTRIB_CODENAME=artful\r\n",
            "DISTRIB_DESCRIPTION=\"Ubuntu 17.10\"\r\n"
          ],
          "name": "stdout"
        }
      ]
    },
    {
      "metadata": {
        "id": "A4ki6-zn5bPA",
        "colab_type": "code",
        "colab": {
          "autoexec": {
            "startup": false,
            "wait_interval": 0
          },
          "base_uri": "https://localhost:8080/",
          "height": 208
        },
        "outputId": "6ece5ceb-4b65-4105-a0a4-722004b17000",
        "executionInfo": {
          "status": "ok",
          "timestamp": 1527978513573,
          "user_tz": -180,
          "elapsed": 5546,
          "user": {
            "displayName": "Max Minenko",
            "photoUrl": "https://lh3.googleusercontent.com/a/default-user=s128",
            "userId": "109736211463040468281"
          }
        }
      },
      "cell_type": "code",
      "source": [
        "!wget http://files.grouplens.org/datasets/movielens/ml-latest.zip"
      ],
      "execution_count": 3,
      "outputs": [
        {
          "output_type": "stream",
          "text": [
            "--2018-06-02 22:28:29--  http://files.grouplens.org/datasets/movielens/ml-latest.zip\n",
            "Resolving files.grouplens.org (files.grouplens.org)... 128.101.34.235\n",
            "Connecting to files.grouplens.org (files.grouplens.org)|128.101.34.235|:80... connected.\n",
            "HTTP request sent, awaiting response... 200 OK\n",
            "Length: 248434223 (237M) [application/zip]\n",
            "Saving to: ‘ml-latest.zip’\n",
            "\n",
            "ml-latest.zip       100%[===================>] 236.92M  69.3MB/s    in 3.7s    \n",
            "\n",
            "2018-06-02 22:28:33 (64.8 MB/s) - ‘ml-latest.zip’ saved [248434223/248434223]\n",
            "\n"
          ],
          "name": "stdout"
        }
      ]
    },
    {
      "metadata": {
        "id": "NHDsa9ZD6BRk",
        "colab_type": "code",
        "colab": {
          "autoexec": {
            "startup": false,
            "wait_interval": 0
          },
          "base_uri": "https://localhost:8080/",
          "height": 34
        },
        "outputId": "6a84c7ba-4b00-4711-c4f1-a7e3ea757af8",
        "executionInfo": {
          "status": "ok",
          "timestamp": 1527978516041,
          "user_tz": -180,
          "elapsed": 2027,
          "user": {
            "displayName": "Max Minenko",
            "photoUrl": "https://lh3.googleusercontent.com/a/default-user=s128",
            "userId": "109736211463040468281"
          }
        }
      },
      "cell_type": "code",
      "source": [
        "!ls"
      ],
      "execution_count": 4,
      "outputs": [
        {
          "output_type": "stream",
          "text": [
            "datalab  ml-latest.zip\r\n"
          ],
          "name": "stdout"
        }
      ]
    },
    {
      "metadata": {
        "id": "c3skfczZ6LvG",
        "colab_type": "code",
        "colab": {
          "autoexec": {
            "startup": false,
            "wait_interval": 0
          },
          "base_uri": "https://localhost:8080/",
          "height": 173
        },
        "outputId": "edf7fdbc-6427-43b7-dc4c-f837b850e2c8",
        "executionInfo": {
          "status": "ok",
          "timestamp": 1527978528460,
          "user_tz": -180,
          "elapsed": 11996,
          "user": {
            "displayName": "Max Minenko",
            "photoUrl": "https://lh3.googleusercontent.com/a/default-user=s128",
            "userId": "109736211463040468281"
          }
        }
      },
      "cell_type": "code",
      "source": [
        "!unzip ml-latest.zip"
      ],
      "execution_count": 5,
      "outputs": [
        {
          "output_type": "stream",
          "text": [
            "Archive:  ml-latest.zip\r\n",
            "   creating: ml-latest/\n",
            "  inflating: ml-latest/genome-scores.csv  \n",
            "  inflating: ml-latest/genome-tags.csv  \n",
            "  inflating: ml-latest/links.csv     \n",
            "  inflating: ml-latest/movies.csv    \n",
            "  inflating: ml-latest/ratings.csv   \n",
            "  inflating: ml-latest/README.txt    \n",
            "  inflating: ml-latest/tags.csv      \n"
          ],
          "name": "stdout"
        }
      ]
    },
    {
      "metadata": {
        "id": "bg59QBVB6QUA",
        "colab_type": "code",
        "colab": {
          "autoexec": {
            "startup": false,
            "wait_interval": 0
          },
          "base_uri": "https://localhost:8080/",
          "height": 52
        },
        "outputId": "41e772a1-17f1-42fa-a52f-f4f9461c0b9d",
        "executionInfo": {
          "status": "ok",
          "timestamp": 1527978531173,
          "user_tz": -180,
          "elapsed": 2310,
          "user": {
            "displayName": "Max Minenko",
            "photoUrl": "https://lh3.googleusercontent.com/a/default-user=s128",
            "userId": "109736211463040468281"
          }
        }
      },
      "cell_type": "code",
      "source": [
        "DATA_DIR = \"ml-latest\"\n",
        "!ls {DATA_DIR}"
      ],
      "execution_count": 6,
      "outputs": [
        {
          "output_type": "stream",
          "text": [
            "genome-scores.csv  links.csv   ratings.csv  tags.csv\r\n",
            "genome-tags.csv    movies.csv  README.txt\r\n"
          ],
          "name": "stdout"
        }
      ]
    },
    {
      "metadata": {
        "id": "kx_tg0uO6tUN",
        "colab_type": "code",
        "colab": {
          "autoexec": {
            "startup": false,
            "wait_interval": 0
          },
          "base_uri": "https://localhost:8080/",
          "height": 245
        },
        "outputId": "a7fcb0be-88a3-456e-caf9-2fbc93ee672f",
        "executionInfo": {
          "status": "ok",
          "timestamp": 1527978593439,
          "user_tz": -180,
          "elapsed": 61373,
          "user": {
            "displayName": "Max Minenko",
            "photoUrl": "https://lh3.googleusercontent.com/a/default-user=s128",
            "userId": "109736211463040468281"
          }
        }
      },
      "cell_type": "code",
      "source": [
        "!pip install pyspark"
      ],
      "execution_count": 7,
      "outputs": [
        {
          "output_type": "stream",
          "text": [
            "Collecting pyspark\n",
            "\u001b[?25l  Downloading https://files.pythonhosted.org/packages/58/49/45370cc153a6adcf2c304a3c06e801ed3c9650d0f852e7fde04bd8ffb534/pyspark-2.3.0.tar.gz (211.9MB)\n",
            "\u001b[K    100% |████████████████████████████████| 211.9MB 78kB/s \n",
            "\u001b[?25hCollecting py4j==0.10.6 (from pyspark)\n",
            "\u001b[?25l  Downloading https://files.pythonhosted.org/packages/4a/08/162710786239aa72bd72bb46c64f2b02f54250412ba928cb373b30699139/py4j-0.10.6-py2.py3-none-any.whl (189kB)\n",
            "\u001b[K    100% |████████████████████████████████| 194kB 19.0MB/s \n",
            "\u001b[?25hBuilding wheels for collected packages: pyspark\n",
            "  Running setup.py bdist_wheel for pyspark ... \u001b[?25l-\b \b\\\b \b|\b \b/\b \b-\b \b\\\b \b|\b \b/\b \b-\b \b\\\b \b|\b \b/\b \b-\b \b\\\b \b|\b \b/\b \b-\b \b\\\b \b|\b \b/\b \b-\b \b\\\b \b|\b \b/\b \b-\b \b\\\b \b|\b \b/\b \b-\b \b\\\b \b|\b \b/\b \b-\b \b\\\b \b|\b \b/\b \b-\b \b\\\b \b|\b \b/\b \b-\b \b\\\b \b|\b \b/\b \b-\b \b\\\b \b|\b \b/\b \b-\b \b\\\b \b|\b \b/\b \b-\b \b\\\b \b|\b \b/\b \b-\b \b\\\b \b|\b \b/\b \b-\b \b\\\b \b|\b \b/\b \b-\b \b\\\b \b|\b \b/\b \b-\b \b\\\b \b|\b \b/\b \b-\b \b\\\b \b|\b \b/\b \b-\b \b\\\b \b|\b \b/\b \b-\b \b\\\b \b|\b \b/"
          ],
          "name": "stdout"
        },
        {
          "output_type": "stream",
          "text": [
            "\b \b-\b \b\\\b \b|\b \b/\b \b-\b \b\\\b \bdone\n",
            "\u001b[?25h  Stored in directory: /content/.cache/pip/wheels/d9/db/ff/e6f3a8a564163ea64bc2072357e77b3404d10f91be48352796\n",
            "Successfully built pyspark\n",
            "Installing collected packages: py4j, pyspark\n",
            "Successfully installed py4j-0.10.6 pyspark-2.3.0\n"
          ],
          "name": "stdout"
        }
      ]
    },
    {
      "metadata": {
        "id": "PBso9RdU7X1S",
        "colab_type": "code",
        "colab": {
          "autoexec": {
            "startup": false,
            "wait_interval": 0
          },
          "base_uri": "https://localhost:8080/",
          "height": 69
        },
        "outputId": "64a2be45-4f26-4402-eca5-5a024e3bf91e",
        "executionInfo": {
          "status": "ok",
          "timestamp": 1527978595880,
          "user_tz": -180,
          "elapsed": 2045,
          "user": {
            "displayName": "Max Minenko",
            "photoUrl": "https://lh3.googleusercontent.com/a/default-user=s128",
            "userId": "109736211463040468281"
          }
        }
      },
      "cell_type": "code",
      "source": [
        "!free -g"
      ],
      "execution_count": 8,
      "outputs": [
        {
          "output_type": "stream",
          "text": [
            "              total        used        free      shared  buff/cache   available\r\n",
            "Mem:             12           0           4           0           8          12\r\n",
            "Swap:             0           0           0\r\n"
          ],
          "name": "stdout"
        }
      ]
    },
    {
      "metadata": {
        "id": "FXzn_4D59AY4",
        "colab_type": "code",
        "colab": {
          "autoexec": {
            "startup": false,
            "wait_interval": 0
          },
          "base_uri": "https://localhost:8080/",
          "height": 6793
        },
        "outputId": "80542b65-222c-4928-ffcc-1eedc97bf533",
        "executionInfo": {
          "status": "ok",
          "timestamp": 1527978650127,
          "user_tz": -180,
          "elapsed": 53248,
          "user": {
            "displayName": "Max Minenko",
            "photoUrl": "https://lh3.googleusercontent.com/a/default-user=s128",
            "userId": "109736211463040468281"
          }
        }
      },
      "cell_type": "code",
      "source": [
        "!apt-get install software-properties-common python-software-properties\n",
        "!add-apt-repository -y ppa:webupd8team/java\n",
        "!echo debconf shared/accepted-oracle-license-v1-1 select true | debconf-set-selections\n",
        "!echo debconf shared/accepted-oracle-license-v1-1 seen true | debconf-set-selections\n",
        "!apt-get update\n",
        "!apt-get -y install oracle-java8-installer"
      ],
      "execution_count": 9,
      "outputs": [
        {
          "output_type": "stream",
          "text": [
            "Reading package lists... Done\n",
            "Building dependency tree       \n",
            "Reading state information... Done\n",
            "The following additional packages will be installed:\n",
            "  cron dbus dirmngr distro-info-data gir1.2-glib-2.0 iso-codes libapparmor1\n",
            "  libdbus-1-3 libdbus-glib-1-2 libgirepository-1.0-1 lsb-release python-apt\n",
            "  python-apt-common python-pycurl python3-apt python3-dbus python3-gi\n",
            "  python3-software-properties unattended-upgrades\n",
            "Suggested packages:\n",
            "  anacron logrotate checksecurity exim4 | postfix | mail-transport-agent\n",
            "  default-dbus-session-bus | dbus-session-bus tor isoquery lsb python-apt-dbg\n",
            "  python-apt-doc libcurl4-gnutls-dev python-pycurl-dbg python-pycurl-doc\n",
            "  python3-apt-dbg python-dbus-doc python3-dbus-dbg bsd-mailx\n",
            "  mail-transport-agent needrestart\n",
            "The following NEW packages will be installed:\n",
            "  cron dbus dirmngr distro-info-data gir1.2-glib-2.0 iso-codes libapparmor1\n",
            "  libdbus-1-3 libdbus-glib-1-2 libgirepository-1.0-1 lsb-release python-apt\n",
            "  python-apt-common python-pycurl python-software-properties python3-apt\n",
            "  python3-dbus python3-gi python3-software-properties\n",
            "  software-properties-common unattended-upgrades\n",
            "0 upgraded, 21 newly installed, 0 to remove and 0 not upgraded.\n",
            "Need to get 3,954 kB of archives.\n",
            "After this operation, 24.7 MB of additional disk space will be used.\n",
            "Get:1 http://archive.ubuntu.com/ubuntu artful/main amd64 cron amd64 3.0pl1-128ubuntu5 [69.6 kB]\n",
            "Get:2 http://archive.ubuntu.com/ubuntu artful-updates/main amd64 libapparmor1 amd64 2.11.0-2ubuntu17.1 [28.9 kB]\n",
            "Get:3 http://archive.ubuntu.com/ubuntu artful/main amd64 libdbus-1-3 amd64 1.10.22-1ubuntu1 [165 kB]\n",
            "Get:4 http://archive.ubuntu.com/ubuntu artful/main amd64 dbus amd64 1.10.22-1ubuntu1 [144 kB]\n",
            "Get:5 http://archive.ubuntu.com/ubuntu artful/main amd64 dirmngr amd64 2.1.15-1ubuntu8 [244 kB]\n",
            "Get:6 http://archive.ubuntu.com/ubuntu artful-updates/main amd64 distro-info-data all 0.36ubuntu0.2 [4,418 B]\n",
            "Get:7 http://archive.ubuntu.com/ubuntu artful/main amd64 lsb-release all 9.20160110ubuntu5 [11.1 kB]\n",
            "Get:8 http://archive.ubuntu.com/ubuntu artful/main amd64 libgirepository-1.0-1 amd64 1.54.1-1 [82.1 kB]\n",
            "Get:9 http://archive.ubuntu.com/ubuntu artful/main amd64 gir1.2-glib-2.0 amd64 1.54.1-1 [131 kB]\n",
            "Get:10 http://archive.ubuntu.com/ubuntu artful/main amd64 iso-codes all 3.75-1 [2,339 kB]\n",
            "Get:11 http://archive.ubuntu.com/ubuntu artful/main amd64 libdbus-glib-1-2 amd64 0.108-2 [67.1 kB]\n",
            "Get:12 http://archive.ubuntu.com/ubuntu artful/main amd64 python-apt-common all 1.4.0~beta3build2 [17.1 kB]\n",
            "Get:13 http://archive.ubuntu.com/ubuntu artful/main amd64 python3-apt amd64 1.4.0~beta3build2 [141 kB]\n",
            "Get:14 http://archive.ubuntu.com/ubuntu artful/main amd64 python3-dbus amd64 1.2.4-1build3 [84.1 kB]\n",
            "Get:15 http://archive.ubuntu.com/ubuntu artful/main amd64 python3-gi amd64 3.24.1-2build1 [153 kB]\n",
            "Get:16 http://archive.ubuntu.com/ubuntu artful/main amd64 python-apt amd64 1.4.0~beta3build2 [143 kB]\n",
            "Get:17 http://archive.ubuntu.com/ubuntu artful/main amd64 python-pycurl amd64 7.43.0-2build2 [42.4 kB]\n",
            "Get:18 http://archive.ubuntu.com/ubuntu artful/universe amd64 python-software-properties all 0.96.24.17 [20.7 kB]\n",
            "Get:19 http://archive.ubuntu.com/ubuntu artful/main amd64 python3-software-properties all 0.96.24.17 [20.3 kB]\n",
            "Get:20 http://archive.ubuntu.com/ubuntu artful/main amd64 software-properties-common all 0.96.24.17 [9,514 B]\n",
            "Get:21 http://archive.ubuntu.com/ubuntu artful-updates/main amd64 unattended-upgrades all 0.98ubuntu1.1 [37.4 kB]\n",
            "Fetched 3,954 kB in 1s (3,310 kB/s)\n",
            "Preconfiguring packages ...\n",
            "Selecting previously unselected package cron.\n",
            "(Reading database ... 18298 files and directories currently installed.)\n",
            "Preparing to unpack .../00-cron_3.0pl1-128ubuntu5_amd64.deb ...\n",
            "Unpacking cron (3.0pl1-128ubuntu5) ...\n",
            "Selecting previously unselected package libapparmor1:amd64.\n",
            "Preparing to unpack .../01-libapparmor1_2.11.0-2ubuntu17.1_amd64.deb ...\n",
            "Unpacking libapparmor1:amd64 (2.11.0-2ubuntu17.1) ...\n",
            "Selecting previously unselected package libdbus-1-3:amd64.\n",
            "Preparing to unpack .../02-libdbus-1-3_1.10.22-1ubuntu1_amd64.deb ...\n",
            "Unpacking libdbus-1-3:amd64 (1.10.22-1ubuntu1) ...\n",
            "Selecting previously unselected package dbus.\n",
            "Preparing to unpack .../03-dbus_1.10.22-1ubuntu1_amd64.deb ...\n",
            "Unpacking dbus (1.10.22-1ubuntu1) ...\n",
            "Selecting previously unselected package dirmngr.\n",
            "Preparing to unpack .../04-dirmngr_2.1.15-1ubuntu8_amd64.deb ...\n",
            "Unpacking dirmngr (2.1.15-1ubuntu8) ...\n",
            "Selecting previously unselected package distro-info-data.\n",
            "Preparing to unpack .../05-distro-info-data_0.36ubuntu0.2_all.deb ...\n",
            "Unpacking distro-info-data (0.36ubuntu0.2) ...\n",
            "Selecting previously unselected package lsb-release.\n",
            "Preparing to unpack .../06-lsb-release_9.20160110ubuntu5_all.deb ...\n",
            "Unpacking lsb-release (9.20160110ubuntu5) ...\n",
            "Selecting previously unselected package libgirepository-1.0-1:amd64.\n",
            "Preparing to unpack .../07-libgirepository-1.0-1_1.54.1-1_amd64.deb ...\n",
            "Unpacking libgirepository-1.0-1:amd64 (1.54.1-1) ...\n",
            "Selecting previously unselected package gir1.2-glib-2.0:amd64.\n",
            "Preparing to unpack .../08-gir1.2-glib-2.0_1.54.1-1_amd64.deb ...\n",
            "Unpacking gir1.2-glib-2.0:amd64 (1.54.1-1) ...\n"
          ],
          "name": "stdout"
        },
        {
          "output_type": "stream",
          "text": [
            "Selecting previously unselected package iso-codes.\r\n",
            "Preparing to unpack .../09-iso-codes_3.75-1_all.deb ...\r\n",
            "Unpacking iso-codes (3.75-1) ...\n",
            "Selecting previously unselected package libdbus-glib-1-2:amd64.\n",
            "Preparing to unpack .../10-libdbus-glib-1-2_0.108-2_amd64.deb ...\n",
            "Unpacking libdbus-glib-1-2:amd64 (0.108-2) ...\n",
            "Selecting previously unselected package python-apt-common.\n",
            "Preparing to unpack .../11-python-apt-common_1.4.0~beta3build2_all.deb ...\n",
            "Unpacking python-apt-common (1.4.0~beta3build2) ...\n",
            "Selecting previously unselected package python3-apt.\n",
            "Preparing to unpack .../12-python3-apt_1.4.0~beta3build2_amd64.deb ...\n",
            "Unpacking python3-apt (1.4.0~beta3build2) ...\n",
            "Selecting previously unselected package python3-dbus.\n",
            "Preparing to unpack .../13-python3-dbus_1.2.4-1build3_amd64.deb ...\n",
            "Unpacking python3-dbus (1.2.4-1build3) ...\n",
            "Selecting previously unselected package python3-gi.\n",
            "Preparing to unpack .../14-python3-gi_3.24.1-2build1_amd64.deb ...\n",
            "Unpacking python3-gi (3.24.1-2build1) ...\n",
            "Selecting previously unselected package python-apt.\n",
            "Preparing to unpack .../15-python-apt_1.4.0~beta3build2_amd64.deb ...\n",
            "Unpacking python-apt (1.4.0~beta3build2) ...\n",
            "Selecting previously unselected package python-pycurl.\n",
            "Preparing to unpack .../16-python-pycurl_7.43.0-2build2_amd64.deb ...\n",
            "Unpacking python-pycurl (7.43.0-2build2) ...\n",
            "Selecting previously unselected package python-software-properties.\n",
            "Preparing to unpack .../17-python-software-properties_0.96.24.17_all.deb ...\n",
            "Unpacking python-software-properties (0.96.24.17) ...\n",
            "Selecting previously unselected package python3-software-properties.\n",
            "Preparing to unpack .../18-python3-software-properties_0.96.24.17_all.deb ...\n",
            "Unpacking python3-software-properties (0.96.24.17) ...\n",
            "Selecting previously unselected package software-properties-common.\n",
            "Preparing to unpack .../19-software-properties-common_0.96.24.17_all.deb ...\n",
            "Unpacking software-properties-common (0.96.24.17) ...\n",
            "Selecting previously unselected package unattended-upgrades.\n",
            "Preparing to unpack .../20-unattended-upgrades_0.98ubuntu1.1_all.deb ...\n",
            "Unpacking unattended-upgrades (0.98ubuntu1.1) ...\n",
            "Setting up python-apt-common (1.4.0~beta3build2) ...\n",
            "Setting up python3-apt (1.4.0~beta3build2) ...\n",
            "Setting up iso-codes (3.75-1) ...\n",
            "Setting up distro-info-data (0.36ubuntu0.2) ...\n",
            "Setting up python-pycurl (7.43.0-2build2) ...\n",
            "Setting up lsb-release (9.20160110ubuntu5) ...\n",
            "Setting up libgirepository-1.0-1:amd64 (1.54.1-1) ...\n",
            "Setting up gir1.2-glib-2.0:amd64 (1.54.1-1) ...\n",
            "Processing triggers for libc-bin (2.26-0ubuntu2.1) ...\n",
            "Setting up libapparmor1:amd64 (2.11.0-2ubuntu17.1) ...\n",
            "Setting up unattended-upgrades (0.98ubuntu1.1) ...\n",
            "\n",
            "Creating config file /etc/apt/apt.conf.d/20auto-upgrades with new version\n",
            "\n",
            "Creating config file /etc/apt/apt.conf.d/50unattended-upgrades with new version\n",
            "invoke-rc.d: could not determine current runlevel\n",
            "invoke-rc.d: policy-rc.d denied execution of start.\n",
            "Setting up dirmngr (2.1.15-1ubuntu8) ...\n",
            "Setting up cron (3.0pl1-128ubuntu5) ...\n",
            "Adding group `crontab' (GID 102) ...\n",
            "Done.\n",
            "update-rc.d: warning: start and stop actions are no longer supported; falling back to defaults\n",
            "update-rc.d: warning: stop runlevel arguments (1) do not match cron Default-Stop values (none)\n",
            "invoke-rc.d: could not determine current runlevel\n",
            "invoke-rc.d: policy-rc.d denied execution of start.\n",
            "Setting up libdbus-1-3:amd64 (1.10.22-1ubuntu1) ...\n",
            "Setting up libdbus-glib-1-2:amd64 (0.108-2) ...\n",
            "Setting up python3-gi (3.24.1-2build1) ...\n",
            "Setting up python3-software-properties (0.96.24.17) ...\n",
            "Setting up dbus (1.10.22-1ubuntu1) ...\n",
            "Setting up python-apt (1.4.0~beta3build2) ...\n",
            "Setting up python3-dbus (1.2.4-1build3) ...\n",
            "Setting up python-software-properties (0.96.24.17) ...\n",
            "Setting up software-properties-common (0.96.24.17) ...\n",
            "Processing triggers for libc-bin (2.26-0ubuntu2.1) ...\n",
            "Processing triggers for dbus (1.10.22-1ubuntu1) ...\n"
          ],
          "name": "stdout"
        },
        {
          "output_type": "stream",
          "text": [
            "gpg: keybox '/tmp/tmpldetf5mg/pubring.gpg' created\n",
            "gpg: /tmp/tmpldetf5mg/trustdb.gpg: trustdb created\n",
            "gpg: key C2518248EEA14886: public key \"Launchpad VLC\" imported\n",
            "gpg: no ultimately trusted keys found\n",
            "gpg: Total number processed: 1\n",
            "gpg:               imported: 1\n",
            "OK\n",
            "Hit:1 http://archive.ubuntu.com/ubuntu artful InRelease\n",
            "Get:2 http://security.ubuntu.com/ubuntu artful-security InRelease [83.2 kB]\n",
            "Get:3 http://ppa.launchpad.net/webupd8team/java/ubuntu artful InRelease [15.4 kB]\n",
            "Get:4 http://archive.ubuntu.com/ubuntu artful-updates InRelease [88.7 kB]\n",
            "Get:5 http://archive.ubuntu.com/ubuntu artful-backports InRelease [74.6 kB]\n",
            "Get:6 http://ppa.launchpad.net/webupd8team/java/ubuntu artful/main amd64 Packages [1,549 B]\n",
            "Get:7 http://security.ubuntu.com/ubuntu artful-security/universe Sources [20.5 kB]\n",
            "Get:8 http://security.ubuntu.com/ubuntu artful-security/main amd64 Packages [222 kB]\n",
            "Get:9 http://archive.ubuntu.com/ubuntu artful-updates/universe Sources [43.2 kB]\n",
            "Get:10 http://security.ubuntu.com/ubuntu artful-security/restricted amd64 Packages [2,933 B]\n",
            "Get:11 http://security.ubuntu.com/ubuntu artful-security/universe amd64 Packages [78.1 kB]\n",
            "Get:12 http://security.ubuntu.com/ubuntu artful-security/multiverse amd64 Packages [1,815 B]\n",
            "Get:13 http://archive.ubuntu.com/ubuntu artful-updates/main amd64 Packages [348 kB]\n",
            "Get:14 http://archive.ubuntu.com/ubuntu artful-updates/universe amd64 Packages [141 kB]\n",
            "Get:15 http://archive.ubuntu.com/ubuntu artful-updates/multiverse amd64 Packages [4,371 B]\n",
            "Get:16 http://archive.ubuntu.com/ubuntu artful-updates/restricted amd64 Packages [2,933 B]\n",
            "Fetched 1,129 kB in 1s (711 kB/s)\n",
            "Reading package lists... Done\n",
            "Reading package lists... Done\n",
            "Building dependency tree       \n",
            "Reading state information... Done\n",
            "The following additional packages will be installed:\n",
            "  gsfonts gsfonts-x11 java-common libfontenc1 libxfont1\n",
            "  oracle-java8-set-default xfonts-encodings xfonts-utils\n",
            "Suggested packages:\n",
            "  binfmt-support visualvm ttf-baekmuk | ttf-unfonts | ttf-unfonts-core\n",
            "  ttf-kochi-gothic | ttf-sazanami-gothic ttf-kochi-mincho\n",
            "  | ttf-sazanami-mincho ttf-arphic-uming firefox | firefox-2 | iceweasel\n",
            "  | mozilla-firefox | iceape-browser | mozilla-browser | epiphany-gecko\n",
            "  | epiphany-webkit | epiphany-browser | galeon | midbrowser\n",
            "  | moblin-web-browser | xulrunner | xulrunner-1.9 | konqueror\n",
            "  | chromium-browser | midori | google-chrome\n",
            "The following NEW packages will be installed:\n",
            "  gsfonts gsfonts-x11 java-common libfontenc1 libxfont1 oracle-java8-installer\n",
            "  oracle-java8-set-default xfonts-encodings xfonts-utils\n",
            "0 upgraded, 9 newly installed, 0 to remove and 12 not upgraded.\n",
            "Need to get 3,932 kB of archives.\n",
            "After this operation, 6,170 kB of additional disk space will be used.\n",
            "Get:1 http://ppa.launchpad.net/webupd8team/java/ubuntu artful/main amd64 oracle-java8-installer all 8u171-1~webupd8~0 [33.3 kB]\n",
            "Get:2 http://archive.ubuntu.com/ubuntu artful/main amd64 java-common all 0.59ubuntu1 [7,232 B]\n",
            "Get:3 http://archive.ubuntu.com/ubuntu artful/main amd64 gsfonts all 1:8.11+urwcyr1.0.7~pre44-4.3 [3,121 kB]\n",
            "Get:4 http://ppa.launchpad.net/webupd8team/java/ubuntu artful/main amd64 oracle-java8-set-default all 8u171-1~webupd8~0 [6,846 B]\n",
            "Get:5 http://archive.ubuntu.com/ubuntu artful/main amd64 libfontenc1 amd64 1:1.1.3-1 [13.9 kB]\n",
            "Get:6 http://archive.ubuntu.com/ubuntu artful-updates/main amd64 libxfont1 amd64 1:1.5.2-4ubuntu1.1 [94.6 kB]\n",
            "Get:7 http://archive.ubuntu.com/ubuntu artful/main amd64 xfonts-encodings all 1:1.0.4-2 [573 kB]\n",
            "Get:8 http://archive.ubuntu.com/ubuntu artful/main amd64 xfonts-utils amd64 1:7.7+4 [75.4 kB]\n",
            "Get:9 http://archive.ubuntu.com/ubuntu artful/universe amd64 gsfonts-x11 all 0.24 [7,314 B]\n",
            "Fetched 3,932 kB in 0s (4,098 kB/s)\n",
            "Preconfiguring packages ...\n",
            "Selecting previously unselected package java-common.\n",
            "(Reading database ... 19658 files and directories currently installed.)\n",
            "Preparing to unpack .../java-common_0.59ubuntu1_all.deb ...\n",
            "Unpacking java-common (0.59ubuntu1) ...\n",
            "Selecting previously unselected package oracle-java8-installer.\n",
            "Preparing to unpack .../oracle-java8-installer_8u171-1~webupd8~0_all.deb ...\n",
            "oracle-license-v1-1 license has already been accepted\n",
            "Unpacking oracle-java8-installer (8u171-1~webupd8~0) ...\n"
          ],
          "name": "stdout"
        },
        {
          "output_type": "stream",
          "text": [
            "Setting up java-common (0.59ubuntu1) ...\n",
            "Setting up oracle-java8-installer (8u171-1~webupd8~0) ...\n",
            "No /var/cache/oracle-jdk8-installer/wgetrc file found.\n",
            "Creating /var/cache/oracle-jdk8-installer/wgetrc and\n",
            "using default oracle-java8-installer wgetrc settings for it.\n",
            "Downloading Oracle Java 8...\n",
            "--2018-06-02 22:30:35--  http://download.oracle.com/otn-pub/java/jdk/8u171-b11/512cd62ec5174c3487ac17c61aaa89e8/jdk-8u171-linux-x64.tar.gz\n",
            "Resolving download.oracle.com (download.oracle.com)... 23.195.252.119\n",
            "Connecting to download.oracle.com (download.oracle.com)|23.195.252.119|:80... connected.\n",
            "HTTP request sent, awaiting response... 302 Moved Temporarily\n",
            "Location: https://edelivery.oracle.com/otn-pub/java/jdk/8u171-b11/512cd62ec5174c3487ac17c61aaa89e8/jdk-8u171-linux-x64.tar.gz [following]\n",
            "--2018-06-02 22:30:35--  https://edelivery.oracle.com/otn-pub/java/jdk/8u171-b11/512cd62ec5174c3487ac17c61aaa89e8/jdk-8u171-linux-x64.tar.gz\n",
            "Resolving edelivery.oracle.com (edelivery.oracle.com)... 23.7.36.127, 2610:18:1300:18f::2d3e, 2610:18:1300:194::2d3e\n",
            "Connecting to edelivery.oracle.com (edelivery.oracle.com)|23.7.36.127|:443... connected.\n",
            "HTTP request sent, awaiting response... 302 Moved Temporarily\n",
            "Location: http://download.oracle.com/otn-pub/java/jdk/8u171-b11/512cd62ec5174c3487ac17c61aaa89e8/jdk-8u171-linux-x64.tar.gz?AuthParam=1527978755_d382586ba805158de616a1b23b7a0a93 [following]\n",
            "--2018-06-02 22:30:35--  http://download.oracle.com/otn-pub/java/jdk/8u171-b11/512cd62ec5174c3487ac17c61aaa89e8/jdk-8u171-linux-x64.tar.gz?AuthParam=1527978755_d382586ba805158de616a1b23b7a0a93\n",
            "Connecting to download.oracle.com (download.oracle.com)|23.195.252.119|:80... connected.\n",
            "HTTP request sent, awaiting response... 200 OK\n",
            "Length: 190890122 (182M) [application/x-gzip]\n",
            "Saving to: ‘jdk-8u171-linux-x64.tar.gz’\n",
            "\n",
            "     0K ........ ........ ........ ........ ........ ........  1% 20.1M 9s\n",
            "  3072K ........ ........ ........ ........ ........ ........  3%  129M 5s\n",
            "  6144K ........ ........ ........ ........ ........ ........  4%  114M 4s\n",
            "  9216K ........ ........ ........ ........ ........ ........  6%  143M 3s\n",
            " 12288K ........ ........ ........ ........ ........ ........  8%  111M 3s\n",
            " 15360K ........ ........ ........ ........ ........ ........  9%  167M 2s\n",
            " 18432K ........ ........ ........ ........ ........ ........ 11%  140M 2s\n",
            " 21504K ........ ........ ........ ........ ........ ........ 13%  110M 2s\n",
            " 24576K ........ ........ ........ ........ ........ ........ 14%  138M 2s\n",
            " 27648K ........ ........ ........ ........ ........ ........ 16%  114M 2s\n",
            " 30720K ........ ........ ........ ........ ........ ........ 18%  140M 2s\n",
            " 33792K ........ ........ ........ ........ ........ ........ 19%  112M 2s\n",
            " 36864K ........ ........ ........ ........ ........ ........ 21%  121M 2s\n",
            " 39936K ........ ........ ........ ........ ........ ........ 23%  111M 2s\n",
            " 43008K ........ ........ ........ ........ ........ ........ 24%  148M 1s\n",
            " 46080K ........ ........ ........ ........ ........ ........ 26% 93.9M 1s\n",
            " 49152K ........ ........ ........ ........ ........ ........ 28%  146M 1s\n",
            " 52224K ........ ........ ........ ........ ........ ........ 29%  135M 1s\n",
            " 55296K ........ ........ ........ ........ ........ ........ 31%  140M 1s\n",
            " 58368K ........ ........ ........ ........ ........ ........ 32%  122M 1s\n",
            " 61440K ........ ........ ........ ........ ........ ........ 34%  133M 1s\n",
            " 64512K ........ ........ ........ ........ ........ ........ 36%  140M 1s\n",
            " 67584K ........ ........ ........ ........ ........ ........ 37%  105M 1s\n",
            " 70656K ........ ........ ........ ........ ........ ........ 39%  139M 1s\n",
            " 73728K ........ ........ ........ ........ ........ ........ 41%  128M 1s\n",
            " 76800K ........ ........ ........ ........ ........ ........ 42%  128M 1s\n",
            " 79872K ........ ........ ........ ........ ........ ........ 44%  122M 1s\n",
            " 82944K ........ ........ ........ ........ ........ ........ 46%  145M 1s\n",
            " 86016K ........ ........ ........ ........ ........ ........ 47%  130M 1s\n",
            " 89088K ........ ........ ........ ........ ........ ........ 49%  135M 1s\n",
            " 92160K ........ ........ ........ ........ ........ ........ 51%  122M 1s\n",
            " 95232K ........ ........ ........ ........ ........ ........ 52%  135M 1s\n",
            " 98304K ........ ........ ........ ........ ........ ........ 54%  122M 1s\n",
            "101376K ........ ........ ........ ........ ........ ........ 56%  134M 1s\n",
            "104448K ........ ........ ........ ........ ........ ........ 57%  128M 1s\n",
            "107520K ........ ........ ........ ........ ........ ........ 59% 94.3M 1s\n",
            "110592K ........ ........ ........ ........ ........ ........ 60%  129M 1s\n",
            "113664K ........ ........ ........ ........ ........ ........ 62%  131M 1s\n",
            "116736K ........ ........ ........ ........ ........ ........ 64%  123M 1s\n",
            "119808K ........ ........ ........ ........ ........ ........ 65%  114M 1s\n",
            "122880K ........ ........ ........ ........ ........ ........ 67%  143M 1s\n",
            "125952K ........ ........ ........ ........ ........ ........ 69%  115M 1s\n",
            "129024K ........ ........ ........ ........ ........ ........ 70%  124M 0s\n",
            "132096K ........ ........ ........ ........ ........ ........ 72%  132M 0s\n",
            "135168K ........ ........ ........ ........ ........ ........ 74%  124M 0s\n",
            "138240K ........ ........ ........ ........ ........ ........ 75%  140M 0s\n",
            "141312K ........ ........ ........ ........ ........ ........ 77%  139M 0s\n",
            "144384K ........ ........ ........ ........ ........ ........ 79%  135M 0s\n",
            "147456K ........ ........ ........ ........ ........ ........ 80%  119M 0s\n",
            "150528K ........ ........ ........ ........ ........ ........ 82%  119M 0s\n",
            "153600K ........ ........ ........ ........ ........ ........ 84%  138M 0s\n",
            "156672K .."
          ],
          "name": "stdout"
        },
        {
          "output_type": "stream",
          "text": [
            "...... ........ ........ ........ ........ ........ 85%  135M 0s\r\n",
            "159744K ........ ........ ........ ........ ........ ........ 87%  135M 0s\n",
            "162816K ........ ........ ........ ........ ........ ........ 88%  110M 0s\n",
            "165888K ........ ........ ........ ........ ........ ........ 90%  125M 0s\n",
            "168960K ........ ........ ........ ........ ........ ........ 92%  134M 0s\n",
            "172032K ........ ........ ........ ........ ........ ........ 93%  135M 0s\n",
            "175104K ........ ........ ........ ........ ........ ........ 95%  117M 0s\n",
            "178176K ........ ........ ........ ........ ........ ........ 97%  118M 0s\n",
            "181248K ........ ........ ........ ........ ........ ........ 98%  119M 0s\n",
            "184320K ........ ........ ........ ........                  100%  178M=1.6s\n",
            "\n",
            "2018-06-02 22:30:37 (116 MB/s) - ‘jdk-8u171-linux-x64.tar.gz’ saved [190890122/190890122]\n",
            "\n",
            "Download done.\n",
            "Removing outdated cached downloads...\n",
            "update-alternatives: error: no alternatives for java\n",
            "update-alternatives: using /usr/lib/jvm/java-8-oracle/jre/bin/ControlPanel to provide /usr/bin/ControlPanel (ControlPanel) in auto mode\n",
            "update-alternatives: using /usr/lib/jvm/java-8-oracle/jre/bin/java to provide /usr/bin/java (java) in auto mode\n",
            "update-alternatives: using /usr/lib/jvm/java-8-oracle/jre/bin/javaws to provide /usr/bin/javaws (javaws) in auto mode\n",
            "update-alternatives: using /usr/lib/jvm/java-8-oracle/jre/bin/jcontrol to provide /usr/bin/jcontrol (jcontrol) in auto mode\n",
            "update-alternatives: using /usr/lib/jvm/java-8-oracle/jre/bin/jjs to provide /usr/bin/jjs (jjs) in auto mode\n",
            "update-alternatives: using /usr/lib/jvm/java-8-oracle/jre/bin/keytool to provide /usr/bin/keytool (keytool) in auto mode\n",
            "update-alternatives: using /usr/lib/jvm/java-8-oracle/jre/bin/orbd to provide /usr/bin/orbd (orbd) in auto mode\n",
            "update-alternatives: using /usr/lib/jvm/java-8-oracle/jre/bin/pack200 to provide /usr/bin/pack200 (pack200) in auto mode\n",
            "update-alternatives: using /usr/lib/jvm/java-8-oracle/jre/bin/policytool to provide /usr/bin/policytool (policytool) in auto mode\n",
            "update-alternatives: using /usr/lib/jvm/java-8-oracle/jre/bin/rmid to provide /usr/bin/rmid (rmid) in auto mode\n",
            "update-alternatives: using /usr/lib/jvm/java-8-oracle/jre/bin/rmiregistry to provide /usr/bin/rmiregistry (rmiregistry) in auto mode\n",
            "update-alternatives: using /usr/lib/jvm/java-8-oracle/jre/bin/servertool to provide /usr/bin/servertool (servertool) in auto mode\n",
            "update-alternatives: using /usr/lib/jvm/java-8-oracle/jre/bin/tnameserv to provide /usr/bin/tnameserv (tnameserv) in auto mode\n",
            "update-alternatives: using /usr/lib/jvm/java-8-oracle/jre/bin/unpack200 to provide /usr/bin/unpack200 (unpack200) in auto mode\n",
            "update-alternatives: using /usr/lib/jvm/java-8-oracle/jre/lib/jexec to provide /usr/bin/jexec (jexec) in auto mode\n",
            "update-alternatives: using /usr/lib/jvm/java-8-oracle/bin/appletviewer to provide /usr/bin/appletviewer (appletviewer) in auto mode\n",
            "update-alternatives: using /usr/lib/jvm/java-8-oracle/bin/extcheck to provide /usr/bin/extcheck (extcheck) in auto mode\n",
            "update-alternatives: using /usr/lib/jvm/java-8-oracle/bin/idlj to provide /usr/bin/idlj (idlj) in auto mode\n",
            "update-alternatives: using /usr/lib/jvm/java-8-oracle/bin/jar to provide /usr/bin/jar (jar) in auto mode\n",
            "update-alternatives: using /usr/lib/jvm/java-8-oracle/bin/jarsigner to provide /usr/bin/jarsigner (jarsigner) in auto mode\n",
            "update-alternatives: using /usr/lib/jvm/java-8-oracle/bin/javac to provide /usr/bin/javac (javac) in auto mode\n",
            "update-alternatives: using /usr/lib/jvm/java-8-oracle/bin/javadoc to provide /usr/bin/javadoc (javadoc) in auto mode\n",
            "update-alternatives: using /usr/lib/jvm/java-8-oracle/bin/javafxpackager to provide /usr/bin/javafxpackager (javafxpackager) in auto mode\n",
            "update-alternatives: using /usr/lib/jvm/java-8-oracle/bin/javah to provide /usr/bin/javah (javah) in auto mode\n",
            "update-alternatives: using /usr/lib/jvm/java-8-oracle/bin/javap to provide /usr/bin/javap (javap) in auto mode\n",
            "update-alternatives: using /usr/lib/jvm/java-8-oracle/bin/javapackager to provide /usr/bin/javapackager (javapackager) in auto mode\n",
            "update-alternatives: using /usr/lib/jvm/java-8-oracle/bin/jcmd to provide /usr/bin/jcmd (jcmd) in auto mode\n",
            "update-alternatives: using /usr/lib/jvm/java-8-oracle/bin/jconsole to provide /usr/bin/jconsole (jconsole) in auto mode\n",
            "update-alternatives: using /usr/lib/jvm/java-8-oracle/bin/jdb to provide /usr/bin/jdb (jdb) in auto mode\n",
            "update-alternatives: using /usr/lib/jvm/java-8-oracle/bin/jdeps to provide /usr/bin/jdeps (jdeps) in auto mode\n",
            "update-alternatives: using /usr/lib/jvm/java-8-oracle/bin/jhat to provide /usr/bin/jhat (jhat) in auto mode\n",
            "update-alternatives: using /usr/lib/jvm/java-8-oracle/bin/jinfo to provide /usr/bin/jinfo (jinfo) in auto mode\n",
            "update-alternatives: using /usr/lib/jvm/java-8-oracle/bin/jmap to provide /usr/bin/jmap (jmap) in auto mode\n",
            "update-alternatives: using /usr/lib/jvm/java-8-oracle/bin/jmc to provide /usr/bin/jmc (jmc) in auto mode\n",
            "update-alternatives: using /usr/lib/jvm/java-8-oracle/bin/jps to provide /usr/bin/jps (jps) in auto mode\n",
            "update-alternatives: using /usr/lib/jvm/java-8-oracle/bin/jrunscript to provide /usr/bin/jrunscript (jrunscript) in auto mode\n",
            "update-alternatives: using /usr/lib/jvm/java-8-oracle/bin/jsadebugd to provide /usr/bin/jsadebugd (jsadebugd) in auto mode\n",
            "update-alternatives: using /usr/lib/jvm/java-8-oracle/bin/jstack to provide /usr/bin/jstack (jstack) in auto mode\n",
            "update-alternatives: using /usr/lib/jvm/java-8-oracle/bin/jstat to provide /usr/bin/jstat (jstat) in auto mode\n",
            "update-alternatives: using /usr/lib/jvm/java-8-oracle/bin/jstatd to provide /usr/bin/jstatd (jstatd) in auto mode\n",
            "update-alternatives: using /usr/lib/jvm/java-8-oracle/bin/jvisualvm to provide /usr/bin/jvisualvm (jvisualvm) in auto mode\n",
            "update-alternatives: using /usr/lib/jvm/java-8-oracle/bin/native2ascii to provide /usr/bin/native2ascii (native2ascii) in auto mode\n",
            "update-alternatives: using /usr/lib/jvm/java-8-oracle/bin/rmic to provide /usr/bin/rmic (rmic) in auto mode\n",
            "update-alternatives: using /usr/lib/jvm/java-8-oracle/bin/schemagen to provide /usr/bin/schemagen (schemagen) in auto mode\n",
            "update-alternatives: using /usr/lib/jvm/java-8-oracle/bin/serialver to provide /usr/bin/serialver (serialver) in auto mode\n",
            "update-alternatives: using /usr/lib/jvm/java-8-oracle/bin/wsgen to provide /usr/bin/wsgen (wsgen) in auto mode\n",
            "update-alternatives: using /usr/lib/jvm/java-8-oracle/bin/wsimport to provide /usr/bin/wsimport (wsimport) in auto mode\n",
            "update-alternatives: using /usr/lib/jvm/java-8-oracle/bin/xjc to provide /usr/bin/xjc (xjc) in auto mode\n",
            "update-alternatives: using /usr/lib/jvm/java-8-oracle/jre/lib/amd64/libnpjp2.so to provide /usr/lib/mozilla/plugins/libjavaplugin.so (mozilla-javaplugin.so) in auto mode\n",
            "Oracle JDK 8 installed\n",
            "\n",
            "#####Important########\n",
            "To set Oracle JDK8 as default, install the \"oracle-java8-set-default\" package.\n",
            "E.g.: sudo apt install oracle-java8-set-default\n",
            "On Ubuntu systems, oracle-java8-set-default is most probably installed\n",
            "automatically with this package.\n",
            "######################\n",
            "\n",
            "Selecting previously unselected package oracle-java8-set-default.\n",
            "(Reading database ... 19713 files and directories currently installed.)\n",
            "Preparing to unpack .../0-oracle-java8-set-default_8u171-1~webupd8~0_all.deb ...\n",
            "Unpacking oracle-java8-set-default (8u171-1~webupd8~0) ...\n",
            "Selecting previously unselected package gsfonts.\n",
            "Preparing to unpack .../1-gsfonts_1%3a8.11+urwcyr1.0.7~pre44-4.3_all.deb ...\n",
            "Unpacking gsfonts (1:8.11+urwcyr1.0.7~pre44-4.3) ...\n",
            "Selecting previously unselected package libfontenc1:amd64.\n",
            "Preparing to unpack .../2-libfontenc1_1%3a1.1.3-1_amd64.deb ...\n",
            "Unpacking libfontenc1:amd64 (1:1.1.3-1) ...\n"
          ],
          "name": "stdout"
        },
        {
          "output_type": "stream",
          "text": [
            "Selecting previously unselected package libxfont1:amd64.\r\n",
            "Preparing to unpack .../3-libxfont1_1%3a1.5.2-4ubuntu1.1_amd64.deb ...\r\n",
            "Unpacking libxfont1:amd64 (1:1.5.2-4ubuntu1.1) ...\n",
            "Selecting previously unselected package xfonts-encodings.\n",
            "Preparing to unpack .../4-xfonts-encodings_1%3a1.0.4-2_all.deb ...\n",
            "Unpacking xfonts-encodings (1:1.0.4-2) ...\n",
            "Selecting previously unselected package xfonts-utils.\n",
            "Preparing to unpack .../5-xfonts-utils_1%3a7.7+4_amd64.deb ...\n",
            "Unpacking xfonts-utils (1:7.7+4) ...\n",
            "Selecting previously unselected package gsfonts-x11.\n",
            "Preparing to unpack .../6-gsfonts-x11_0.24_all.deb ...\n",
            "Unpacking gsfonts-x11 (0.24) ...\n",
            "Processing triggers for mime-support (3.60ubuntu1) ...\n",
            "Setting up gsfonts (1:8.11+urwcyr1.0.7~pre44-4.3) ...\n",
            "Setting up oracle-java8-set-default (8u171-1~webupd8~0) ...\n",
            "Setting up xfonts-encodings (1:1.0.4-2) ...\n",
            "Processing triggers for libc-bin (2.26-0ubuntu2.1) ...\n",
            "Setting up libfontenc1:amd64 (1:1.1.3-1) ...\n",
            "Setting up libxfont1:amd64 (1:1.5.2-4ubuntu1.1) ...\n",
            "Setting up xfonts-utils (1:7.7+4) ...\n",
            "Setting up gsfonts-x11 (0.24) ...\n",
            "Processing triggers for libc-bin (2.26-0ubuntu2.1) ...\n"
          ],
          "name": "stdout"
        }
      ]
    },
    {
      "metadata": {
        "id": "oUSTChZNJh6D",
        "colab_type": "text"
      },
      "cell_type": "markdown",
      "source": [
        "## Подготовка данных"
      ]
    },
    {
      "metadata": {
        "id": "9Hd583ZaKJzh",
        "colab_type": "text"
      },
      "cell_type": "markdown",
      "source": [
        "### Средние оценки"
      ]
    },
    {
      "metadata": {
        "id": "SoJ6_cO06Z5O",
        "colab_type": "code",
        "colab": {
          "autoexec": {
            "startup": false,
            "wait_interval": 0
          }
        }
      },
      "cell_type": "code",
      "source": [
        "from pyspark.sql import SparkSession\n",
        "\n",
        "spark = (\n",
        "    SparkSession\n",
        "    .builder\n",
        "    .config(\"spark.driver.memory\", \"10g\")\n",
        "    .config(\"spark.ui.enabled\", \"false\")\n",
        "    .master(\"local[*]\")\n",
        "    .getOrCreate()\n",
        ")\n",
        "spark.sparkContext.setCheckpointDir(\"/tmp/checkpoints\")"
      ],
      "execution_count": 0,
      "outputs": []
    },
    {
      "metadata": {
        "id": "PcaXWxEbAAzM",
        "colab_type": "code",
        "colab": {
          "autoexec": {
            "startup": false,
            "wait_interval": 0
          }
        }
      },
      "cell_type": "code",
      "source": [
        "import os\n",
        "import pyspark.sql.functions as sql_func\n",
        "\n",
        "ratings = (\n",
        "    spark\n",
        "    .read\n",
        "    .csv(\n",
        "        os.path.join(DATA_DIR, \"ratings.csv\"),\n",
        "        header=True,\n",
        "        inferSchema=True\n",
        "    )\n",
        "    .sample(withReplacement=False, fraction=0.2, seed=0)\n",
        "    .withColumn(\"rating_datetime\", sql_func.from_unixtime(\"timestamp\"))\n",
        "    .drop(\"timestamp\")\n",
        "    .cache()\n",
        ")"
      ],
      "execution_count": 0,
      "outputs": []
    },
    {
      "metadata": {
        "id": "9tR4LOYQASCm",
        "colab_type": "code",
        "colab": {
          "autoexec": {
            "startup": false,
            "wait_interval": 0
          }
        }
      },
      "cell_type": "code",
      "source": [
        "movie_ratings = (\n",
        "    ratings\n",
        "    .groupBy(\"movieId\")\n",
        "    .agg(sql_func.avg(\"rating\").alias(\"avg_movie_rating\"))\n",
        "    .cache()\n",
        ")\n",
        "\n",
        "user_ratings = (\n",
        "    ratings\n",
        "    .groupBy(\"userId\")\n",
        "    .agg(sql_func.avg(\"rating\").alias(\"avg_user_rating\"))\n",
        "    .cache()\n",
        ")"
      ],
      "execution_count": 0,
      "outputs": []
    },
    {
      "metadata": {
        "id": "ry5StYDqKQtb",
        "colab_type": "text"
      },
      "cell_type": "markdown",
      "source": [
        "### TF-IDF признаки"
      ]
    },
    {
      "metadata": {
        "id": "d5aoeG5iLBVG",
        "colab_type": "code",
        "colab": {
          "autoexec": {
            "startup": false,
            "wait_interval": 0
          }
        }
      },
      "cell_type": "code",
      "source": [
        "import os\n",
        "import pyspark.sql.functions as sql_func\n",
        "\n",
        "# будем использовать не только теги, но и информацию о жанрах\n",
        "movies = (\n",
        "    spark\n",
        "    .read\n",
        "    .csv(\n",
        "        os.path.join(DATA_DIR, \"movies.csv\"),\n",
        "        header=True,\n",
        "        inferSchema=True\n",
        "    )\n",
        "    .withColumn(\"genres_list\", sql_func.split(\"genres\", '\\|'))\n",
        "    .select(\"movieId\", \"title\", \"genres_list\")\n",
        "    .cache()\n",
        ")\n",
        "\n",
        "raw_tags = (\n",
        "    spark\n",
        "    .read\n",
        "    .csv(\n",
        "        os.path.join(DATA_DIR, \"tags.csv\"),\n",
        "        header=True,\n",
        "        inferSchema=True\n",
        "    )\n",
        "    .cache()\n",
        ")\n"
      ],
      "execution_count": 0,
      "outputs": []
    },
    {
      "metadata": {
        "id": "oC9zRG77K3Ei",
        "colab_type": "code",
        "colab": {
          "autoexec": {
            "startup": false,
            "wait_interval": 0
          }
        }
      },
      "cell_type": "code",
      "source": [
        "tags = (\n",
        "    raw_tags\n",
        "    # теги могут различаться только регистром,\n",
        "    # поэтому приведём их все к верхнему\n",
        "    .select(\n",
        "        sql_func.col(\"movieId\"),\n",
        "        sql_func.upper(sql_func.col(\"tag\")).alias(\"tag\")\n",
        "    )\n",
        "    .groupBy(\"movieId\")\n",
        "    .agg(sql_func.collect_list(\"tag\").alias(\"tags_list\"))\n",
        "    .join(movies, \"movieId\", \"right\")\n",
        "    .cache()\n",
        ")"
      ],
      "execution_count": 0,
      "outputs": []
    },
    {
      "metadata": {
        "id": "MjT7_vuJKZZE",
        "colab_type": "code",
        "colab": {
          "autoexec": {
            "startup": false,
            "wait_interval": 0
          }
        }
      },
      "cell_type": "code",
      "source": [
        "# объединим теги и жанры в единое пространство текстовых фич\n",
        "from pyspark.sql.types import ArrayType, StringType\n",
        "\n",
        "# в Spark нет некоторых полезных функций, но легко можно создавать свои\n",
        "# в частности, мы хотим привести все жанры также к верхнему регистру\n",
        "list_concat = sql_func.udf(\n",
        "    lambda one_list, another_list:\n",
        "        [str.upper(elem) for elem in one_list] + (another_list if another_list else []),\n",
        "    returnType=ArrayType(StringType())\n",
        ")\n",
        "\n",
        "content_features = (\n",
        "    tags\n",
        "    .select(\n",
        "        \"movieID\",\n",
        "        \"title\",\n",
        "        list_concat(\"genres_list\", \"tags_list\").alias(\"content_features\")\n",
        "    )\n",
        "    .cache()\n",
        ")"
      ],
      "execution_count": 0,
      "outputs": []
    },
    {
      "metadata": {
        "id": "ww4z5HmILg4K",
        "colab_type": "code",
        "colab": {
          "autoexec": {
            "startup": false,
            "wait_interval": 0
          },
          "base_uri": "https://localhost:8080/",
          "height": 156
        },
        "outputId": "2421298d-57c0-4bb7-ec05-404545ffb816",
        "executionInfo": {
          "status": "ok",
          "timestamp": 1527978724328,
          "user_tz": -180,
          "elapsed": 8961,
          "user": {
            "displayName": "Max Minenko",
            "photoUrl": "https://lh3.googleusercontent.com/a/default-user=s128",
            "userId": "109736211463040468281"
          }
        }
      },
      "cell_type": "code",
      "source": [
        "content_features.show(2, truncate=False)"
      ],
      "execution_count": 16,
      "outputs": [
        {
          "output_type": "stream",
          "text": [
            "+-------+--------------------------------+-------------------------------------------------------------+\n",
            "|movieID|title                           |content_features                                             |\n",
            "+-------+--------------------------------+-------------------------------------------------------------+\n",
            "|148    |Awfully Big Adventure, An (1995)|[DRAMA, CATCHY, NUDITY (TOPLESS), NUDITY (TOPLESS - NOTABLE)]|\n",
            "|463    |Guilty as Sin (1993)            |[CRIME, DRAMA, THRILLER]                                     |\n",
            "+-------+--------------------------------+-------------------------------------------------------------+\n",
            "only showing top 2 rows\n",
            "\n"
          ],
          "name": "stdout"
        }
      ]
    },
    {
      "metadata": {
        "id": "dVaIO9m1L3g6",
        "colab_type": "code",
        "colab": {
          "autoexec": {
            "startup": false,
            "wait_interval": 0
          }
        }
      },
      "cell_type": "code",
      "source": [
        "# посчитаем частоты встречаемости для тегов для всех фильмов\n",
        "from pyspark.ml.feature import HashingTF\n",
        "\n",
        "term_frequencies = HashingTF(\n",
        "    # от каждого тега будет вычислен хэш\n",
        "    # и по факту мы будем считать частоты бакетов хэшей, а не самих тегов\n",
        "    numFeatures=1024,\n",
        "    inputCol=\"content_features\",\n",
        "    outputCol=\"term_frequencies\"\n",
        ").transform(content_features).cache()"
      ],
      "execution_count": 0,
      "outputs": []
    },
    {
      "metadata": {
        "id": "ki5xgglML6oS",
        "colab_type": "code",
        "colab": {
          "autoexec": {
            "startup": false,
            "wait_interval": 0
          },
          "base_uri": "https://localhost:8080/",
          "height": 176
        },
        "outputId": "39f68040-c1c0-4d35-db03-9fd2f75d8d79",
        "executionInfo": {
          "status": "ok",
          "timestamp": 1527978727010,
          "user_tz": -180,
          "elapsed": 1066,
          "user": {
            "displayName": "Max Minenko",
            "photoUrl": "https://lh3.googleusercontent.com/a/default-user=s128",
            "userId": "109736211463040468281"
          }
        }
      },
      "cell_type": "code",
      "source": [
        "term_frequencies.show(2, truncate=False)"
      ],
      "execution_count": 18,
      "outputs": [
        {
          "output_type": "stream",
          "text": [
            "+-------+--------------------------------+-------------------------------------------------------------+------------------------------------------+\n",
            "|movieID|title                           |content_features                                             |term_frequencies                          |\n",
            "+-------+--------------------------------+-------------------------------------------------------------+------------------------------------------+\n",
            "|148    |Awfully Big Adventure, An (1995)|[DRAMA, CATCHY, NUDITY (TOPLESS), NUDITY (TOPLESS - NOTABLE)]|(1024,[434,437,572,865],[1.0,1.0,1.0,1.0])|\n",
            "|463    |Guilty as Sin (1993)            |[CRIME, DRAMA, THRILLER]                                     |(1024,[263,434,968],[1.0,1.0,1.0])        |\n",
            "+-------+--------------------------------+-------------------------------------------------------------+------------------------------------------+\n",
            "only showing top 2 rows\n",
            "\n"
          ],
          "name": "stdout"
        }
      ]
    },
    {
      "metadata": {
        "id": "udmdQvFXMA90",
        "colab_type": "code",
        "colab": {
          "autoexec": {
            "startup": false,
            "wait_interval": 0
          }
        }
      },
      "cell_type": "code",
      "source": [
        "from pyspark.ml.feature import IDF\n",
        "\n",
        "idf_model = IDF(\n",
        "    inputCol=\"term_frequencies\",\n",
        "    outputCol=\"tf_idf\",\n",
        "    minDocFreq=2\n",
        ").fit(term_frequencies)\n",
        "tf_idf = (\n",
        "    idf_model\n",
        "    .transform(term_frequencies)\n",
        "    .select(\"movieId\", \"title\", \"tf_idf\")\n",
        "    .cache()\n",
        ")"
      ],
      "execution_count": 0,
      "outputs": []
    },
    {
      "metadata": {
        "id": "E9T41LR5MJdK",
        "colab_type": "code",
        "colab": {
          "autoexec": {
            "startup": false,
            "wait_interval": 0
          },
          "base_uri": "https://localhost:8080/",
          "height": 156
        },
        "outputId": "dc017bbf-c834-4210-9bd1-078eca8b84d9",
        "executionInfo": {
          "status": "ok",
          "timestamp": 1527978743074,
          "user_tz": -180,
          "elapsed": 803,
          "user": {
            "displayName": "Max Minenko",
            "photoUrl": "https://lh3.googleusercontent.com/a/default-user=s128",
            "userId": "109736211463040468281"
          }
        }
      },
      "cell_type": "code",
      "source": [
        "tf_idf.show(2, truncate=False)"
      ],
      "execution_count": 20,
      "outputs": [
        {
          "output_type": "stream",
          "text": [
            "+-------+--------------------------------+-------------------------------------------------------------------------------------------------+\n",
            "|movieId|title                           |tf_idf                                                                                           |\n",
            "+-------+--------------------------------+-------------------------------------------------------------------------------------------------+\n",
            "|148    |Awfully Big Adventure, An (1995)|(1024,[434,437,572,865],[0.8281629655111662,3.3299385165264987,6.137879757482,4.774574914586808])|\n",
            "|463    |Guilty as Sin (1993)            |(1024,[263,434,968],[1.8844903067285101,0.8281629655111662,2.3258445214092895])                  |\n",
            "+-------+--------------------------------+-------------------------------------------------------------------------------------------------+\n",
            "only showing top 2 rows\n",
            "\n"
          ],
          "name": "stdout"
        }
      ]
    },
    {
      "metadata": {
        "id": "kxsnacYYMnJu",
        "colab_type": "text"
      },
      "cell_type": "markdown",
      "source": [
        "## Линейная регрессия"
      ]
    },
    {
      "metadata": {
        "id": "Ji1sSZDdMsjX",
        "colab_type": "text"
      },
      "cell_type": "markdown",
      "source": [
        "### Признаки - средние оценки"
      ]
    },
    {
      "metadata": {
        "id": "KLEQDtzgAlN9",
        "colab_type": "code",
        "colab": {
          "autoexec": {
            "startup": false,
            "wait_interval": 0
          }
        }
      },
      "cell_type": "code",
      "source": [
        "from pyspark.ml.feature import VectorAssembler\n",
        "from pyspark.ml.regression import LinearRegression"
      ],
      "execution_count": 0,
      "outputs": []
    },
    {
      "metadata": {
        "id": "qmTJ0quKBAGD",
        "colab_type": "code",
        "colab": {
          "autoexec": {
            "startup": false,
            "wait_interval": 0
          }
        }
      },
      "cell_type": "code",
      "source": [
        "from pyspark.sql import DataFrame\n",
        "import numpy as np\n",
        "\n",
        "\n",
        "def simple_evaluate(df: DataFrame) -> float:\n",
        "    return np.sqrt(\n",
        "        df\n",
        "        .selectExpr(\"\"\"\n",
        "            CASE\n",
        "                WHEN prediction > 5 THEN 5\n",
        "                WHEN prediction < 0.5 THEN 0.5\n",
        "                ELSE prediction\n",
        "            END AS prediction\n",
        "        \"\"\", \"label\")\n",
        "        .select(\n",
        "            sql_func.pow(sql_func.col(\"label\") - sql_func.col(\"prediction\"), 2)\n",
        "            .alias(\"squared_error\")\n",
        "        )\n",
        "        .agg(sql_func.avg(\"squared_error\"))\n",
        "        .first()[0]\n",
        "    )"
      ],
      "execution_count": 0,
      "outputs": []
    },
    {
      "metadata": {
        "id": "nX-XRTVEAoNF",
        "colab_type": "code",
        "colab": {
          "autoexec": {
            "startup": false,
            "wait_interval": 0
          }
        }
      },
      "cell_type": "code",
      "source": [
        "df_full = (\n",
        "    VectorAssembler(\n",
        "        inputCols = [\"avg_movie_rating\", \"avg_user_rating\"],\n",
        "        outputCol = \"features\"\n",
        "    ).transform(\n",
        "        ratings\n",
        "        .join(movie_ratings, \"movieId\")\n",
        "        .join(user_ratings, \"userId\")\n",
        "    )\n",
        "    .withColumnRenamed(\"rating\", \"label\")\n",
        "    .select(\"movieId\", \"userId\", \"label\", \"features\")\n",
        "    .cache()\n",
        ")"
      ],
      "execution_count": 0,
      "outputs": []
    },
    {
      "metadata": {
        "id": "syg9ZSnuCtZ_",
        "colab_type": "code",
        "colab": {
          "autoexec": {
            "startup": false,
            "wait_interval": 0
          },
          "base_uri": "https://localhost:8080/",
          "height": 34
        },
        "outputId": "c74bfd45-45b3-439d-f17a-4a364cdf48a8",
        "executionInfo": {
          "status": "ok",
          "timestamp": 1527978866333,
          "user_tz": -180,
          "elapsed": 119353,
          "user": {
            "displayName": "Max Minenko",
            "photoUrl": "https://lh3.googleusercontent.com/a/default-user=s128",
            "userId": "109736211463040468281"
          }
        }
      },
      "cell_type": "code",
      "source": [
        "train_data, test_data = df_full.randomSplit([0.7, 0.3], seed=42)\n",
        "train_data.checkpoint()\n",
        "test_data.checkpoint()"
      ],
      "execution_count": 24,
      "outputs": [
        {
          "output_type": "execute_result",
          "data": {
            "text/plain": [
              "DataFrame[movieId: int, userId: int, label: double, features: vector]"
            ]
          },
          "metadata": {
            "tags": []
          },
          "execution_count": 24
        }
      ]
    },
    {
      "metadata": {
        "id": "Xvi93wfHC8F6",
        "colab_type": "code",
        "colab": {
          "autoexec": {
            "startup": false,
            "wait_interval": 0
          },
          "base_uri": "https://localhost:8080/",
          "height": 52
        },
        "outputId": "8b830ee0-65d4-4e01-94d2-7f2c88b8d40a",
        "executionInfo": {
          "status": "ok",
          "timestamp": 1527978878194,
          "user_tz": -180,
          "elapsed": 10318,
          "user": {
            "displayName": "Max Minenko",
            "photoUrl": "https://lh3.googleusercontent.com/a/default-user=s128",
            "userId": "109736211463040468281"
          }
        }
      },
      "cell_type": "code",
      "source": [
        "print((train_data.count(), len(train_data.columns)))\n",
        "print((test_data.count(), len(test_data.columns)))"
      ],
      "execution_count": 25,
      "outputs": [
        {
          "output_type": "stream",
          "text": [
            "(3643107, 4)\n",
            "(1559457, 4)\n"
          ],
          "name": "stdout"
        }
      ]
    },
    {
      "metadata": {
        "id": "vjSOS4saDs68",
        "colab_type": "code",
        "colab": {
          "autoexec": {
            "startup": false,
            "wait_interval": 0
          },
          "base_uri": "https://localhost:8080/",
          "height": 156
        },
        "outputId": "3d7f381b-7d69-417a-cc8e-f81d38641891",
        "executionInfo": {
          "status": "ok",
          "timestamp": 1527978879267,
          "user_tz": -180,
          "elapsed": 742,
          "user": {
            "displayName": "Max Minenko",
            "photoUrl": "https://lh3.googleusercontent.com/a/default-user=s128",
            "userId": "109736211463040468281"
          }
        }
      },
      "cell_type": "code",
      "source": [
        "train_data.show(2, truncate=False)"
      ],
      "execution_count": 26,
      "outputs": [
        {
          "output_type": "stream",
          "text": [
            "+-------+------+-----+--------------------------------------+\n",
            "|movieId|userId|label|features                              |\n",
            "+-------+------+-----+--------------------------------------+\n",
            "|1      |3918  |4.0  |[3.8875322311542546,3.803030303030303]|\n",
            "|1      |34239 |3.0  |[3.8875322311542546,3.642857142857143]|\n",
            "+-------+------+-----+--------------------------------------+\n",
            "only showing top 2 rows\n",
            "\n"
          ],
          "name": "stdout"
        }
      ]
    },
    {
      "metadata": {
        "id": "XjHJSkH2BM6h",
        "colab_type": "code",
        "colab": {
          "autoexec": {
            "startup": false,
            "wait_interval": 0
          },
          "base_uri": "https://localhost:8080/",
          "height": 34
        },
        "outputId": "e81d7d83-49dc-4483-ec90-1d41e985a167",
        "executionInfo": {
          "status": "ok",
          "timestamp": 1527979135855,
          "user_tz": -180,
          "elapsed": 29430,
          "user": {
            "displayName": "Max Minenko",
            "photoUrl": "https://lh3.googleusercontent.com/a/default-user=s128",
            "userId": "109736211463040468281"
          }
        }
      },
      "cell_type": "code",
      "source": [
        "linear_model = LinearRegression().fit(train_data)\n",
        "train_prediction = linear_model.transform(train_data)\n",
        "print(\"ошибка предсказания на train:\", simple_evaluate(train_prediction))\n",
        "\n",
        "#train_prediction.show(2)"
      ],
      "execution_count": 32,
      "outputs": [
        {
          "output_type": "stream",
          "text": [
            "ошибка предсказания на train: 0.8533505869451439\n"
          ],
          "name": "stdout"
        }
      ]
    },
    {
      "metadata": {
        "id": "fz6Aa973BTPs",
        "colab_type": "code",
        "colab": {
          "autoexec": {
            "startup": false,
            "wait_interval": 0
          },
          "base_uri": "https://localhost:8080/",
          "height": 34
        },
        "outputId": "2d2500ac-b0c1-4e4c-cfdc-286ad79ef01b",
        "executionInfo": {
          "status": "ok",
          "timestamp": 1527979142823,
          "user_tz": -180,
          "elapsed": 6477,
          "user": {
            "displayName": "Max Minenko",
            "photoUrl": "https://lh3.googleusercontent.com/a/default-user=s128",
            "userId": "109736211463040468281"
          }
        }
      },
      "cell_type": "code",
      "source": [
        "test_prediction = linear_model.transform(test_data)\n",
        "\n",
        "print(\"ошибка предсказания на test:\", simple_evaluate(test_prediction))"
      ],
      "execution_count": 33,
      "outputs": [
        {
          "output_type": "stream",
          "text": [
            "ошибка предсказания на test: 0.854074488878677\n"
          ],
          "name": "stdout"
        }
      ]
    },
    {
      "metadata": {
        "id": "HWgJzCBIM6IZ",
        "colab_type": "text"
      },
      "cell_type": "markdown",
      "source": [
        "### Признаки - средние оценки + TFIDF"
      ]
    },
    {
      "metadata": {
        "id": "amUBeKp6Fyy-",
        "colab_type": "code",
        "colab": {
          "autoexec": {
            "startup": false,
            "wait_interval": 0
          }
        }
      },
      "cell_type": "code",
      "source": [
        "df_full = (\n",
        "    VectorAssembler(\n",
        "        inputCols = [\"avg_movie_rating\", \"avg_user_rating\", \"tf_idf\"],\n",
        "        outputCol = \"features\"\n",
        "    ).transform(\n",
        "        ratings\n",
        "        .join(movie_ratings, \"movieId\")\n",
        "        .join(user_ratings, \"userId\")\n",
        "        .join(tf_idf, \"movieId\")\n",
        "    )\n",
        "    .withColumnRenamed(\"rating\", \"label\")\n",
        "    .select(\"movieId\", \"userId\", \"label\", \"features\")\n",
        "    .cache()\n",
        ")"
      ],
      "execution_count": 0,
      "outputs": []
    },
    {
      "metadata": {
        "id": "y54BoSopNbVe",
        "colab_type": "code",
        "colab": {
          "autoexec": {
            "startup": false,
            "wait_interval": 0
          },
          "base_uri": "https://localhost:8080/",
          "height": 176
        },
        "outputId": "35572784-787e-468c-ea32-819f44779692",
        "executionInfo": {
          "status": "ok",
          "timestamp": 1527979163131,
          "user_tz": -180,
          "elapsed": 12805,
          "user": {
            "displayName": "Max Minenko",
            "photoUrl": "https://lh3.googleusercontent.com/a/default-user=s128",
            "userId": "109736211463040468281"
          }
        }
      },
      "cell_type": "code",
      "source": [
        "df_full.show(2, truncate=False)"
      ],
      "execution_count": 35,
      "outputs": [
        {
          "output_type": "stream",
          "text": [
            "+-------+------+-----+---------------------------------------------------------------------------------------------------------------------------------------------------------------------------------------------------------------------------------------------------------------------------------------------------------------------------------------------------------------------------------------------------------------------------------------------------------------------------------------------------------------------------------------------------------------------------------------------------------------------------------------------------------------------------------------------------------------------------------------------------------------------------------------------------------------------------------------------------------------------------------------------------------------------------------------------------------------------------------------------------------------------------------------------------------------------------------------------------------------------------------------------------------------------------------------------------------------------------------------------------------------------------------------------------------------------------------------------------------------------------------------------------------------------------------------------------------------------------------------------------------------------------------------------------------------------------------------------------------------------------------------------------------------------------------------------------------------------------------------------------------------------------------------------------------------------------------------------------------------------------------------------------------------------------------------------------------------------------------------------------------------------------------------------------------------------------------------------------------------------------------------------------------------------------------------------------------------------------------------------------------------------------------------------------------------------------------------------------------------------------------------------------------------------------------------------------------------------------------------------------------------------------------------------------------------------------------------------------------------------------------------------------------------------------------------------------------------------------------------------------------------------------------------------------------------------------------------------------------------------------------------------------------------------------------------------------------------------------------------------------------------------------------------------------------------------------------------------------------------------------------------------------------------------------------------------+\n",
            "|movieId|userId|label|features                                                                                                                                                                                                                                                                                                                                                                                                                                                                                                                                                                                                                                                                                                                                                                                                                                                                                                                                                                                                                                                                                                                                                                                                                                                                                                                                                                                                                                                                                                                                                                                                                                                                                                                                                                                                                                                                                                                                                                                                                                                                                                                                                                                                                                                                                                                                                                                                                                                                                                                                                                                                                                                                                                                                                                                                                                                                                                                                                                                                                                                                                                                                                                                     |\n",
            "+-------+------+-----+---------------------------------------------------------------------------------------------------------------------------------------------------------------------------------------------------------------------------------------------------------------------------------------------------------------------------------------------------------------------------------------------------------------------------------------------------------------------------------------------------------------------------------------------------------------------------------------------------------------------------------------------------------------------------------------------------------------------------------------------------------------------------------------------------------------------------------------------------------------------------------------------------------------------------------------------------------------------------------------------------------------------------------------------------------------------------------------------------------------------------------------------------------------------------------------------------------------------------------------------------------------------------------------------------------------------------------------------------------------------------------------------------------------------------------------------------------------------------------------------------------------------------------------------------------------------------------------------------------------------------------------------------------------------------------------------------------------------------------------------------------------------------------------------------------------------------------------------------------------------------------------------------------------------------------------------------------------------------------------------------------------------------------------------------------------------------------------------------------------------------------------------------------------------------------------------------------------------------------------------------------------------------------------------------------------------------------------------------------------------------------------------------------------------------------------------------------------------------------------------------------------------------------------------------------------------------------------------------------------------------------------------------------------------------------------------------------------------------------------------------------------------------------------------------------------------------------------------------------------------------------------------------------------------------------------------------------------------------------------------------------------------------------------------------------------------------------------------------------------------------------------------------------------------------------------------+\n",
            "|54503  |1     |3.5  |(1026,[0,1,18,31,37,42,67,113,114,118,120,123,130,136,166,179,182,215,216,227,233,242,244,270,309,316,317,321,324,356,357,363,371,390,400,402,414,421,449,451,492,520,537,548,595,634,638,643,655,665,678,683,698,721,728,739,743,744,758,790,794,826,847,854,900,918,923,936,961,966,968,989,996],[3.762295081967213,4.0,10.210756987851905,8.466425133921472,5.627054133716009,50.69819861813153,20.553152912059,11.23001159039967,5.585505130803137,5.996801159222095,5.491252592556948,4.138586147866811,5.244061881459904,53.43488155817864,55.22127741760139,5.424731910215385,15.252076108366152,56.51595242632126,4.904053990006383,143.23724743760425,5.460000049052843,20.523523146947557,76.58433186196385,39.000531625065044,160.36121460422683,113.47985992258947,11.418238173540626,11.392094010405922,11.405123372448308,11.113699750085521,4.9218586146398895,4.4194515613394945,6.05086838049237,126.06878877108251,71.24650874423818,5.827724829178161,4.630441013003021,5.2734140934724305,5.72905330167113,4.73158472965544,14.876336531224249,17.77913120273166,4.588813973490944,5.066572919504158,114.83055895193537,6.0056117889042495,5.820344721880538,203.5632635966127,10.99311528957328,5.556849875042761,5.3906653556517785,206.10843824052995,6.179122716016049,64.98365615754449,129.4910766699665,4.617107482133556,58.041576728613464,5.8731872032549175,16.14342442242157,4.621532268113912,4.322824725650423,51.93905676533671,72.14577694282514,5.312464608344304,5.633133179792392,5.603100892693517,5.101787825795224,5.334836906098837,26.765511270380653,90.01364507778771,6.148032128946018,5.953876114505061,55.9133605111393])                                                                                                                                                                                                                                                                                                                                                                                                                                                                                                                                                                                                                                                                                                                                                                                                                                                                                                                                                                                                                                                                                                                                                                                                                                                                                                                                                                                                                                                                                                                   |\n",
            "|68358  |1     |5.0  |(1026,[0,1,5,8,11,12,21,25,35,40,43,44,48,51,69,80,83,90,119,125,149,164,177,178,185,187,188,191,194,195,197,198,209,216,220,225,226,238,251,254,263,273,292,293,303,312,323,339,340,341,358,362,366,384,388,389,402,411,416,418,423,428,438,450,452,454,455,457,458,475,492,497,506,520,523,528,529,532,534,535,559,560,561,566,613,614,623,632,648,664,704,707,711,714,726,731,735,739,740,743,751,754,756,765,768,776,787,799,803,818,826,827,847,854,871,874,881,886,887,895,903,905,908,916,918,925,936,941,942,943,952,967,973,982,993,997,1012,1014,1017],[3.8781144781144783,4.0,8.83528321218851,5.357721199932425,10.168050738910768,10.66064445148862,10.678744122528457,60.85183570299825,22.160171026905516,5.33032222574431,5.049419840277908,88.9372983351513,34.44521698174613,20.86218684460753,73.63324027015265,27.22366288461027,4.514399487924861,4.719284451573788,122.87691602948448,6.032519241824174,199.0437451394326,48.455691062761346,113.8310117815976,32.66824062258989,34.88524635195836,10.74341488381433,10.651655672312941,4.764292047631224,73.30163935252743,4.593115055390334,5.621011819260047,4.4772495658632225,5.676753802268282,475.6932370306191,5.3906653556517785,45.59444331708338,5.534502576350764,249.77138496504796,14.03568078404166,53.83723638290311,70.7815234999867,5.485975535456103,5.842650479394836,15.910961935986448,13.236693940098021,5.621011819260047,5.32135355576155,14.674434893934013,38.74404901438795,9.784715900486383,9.20789879511209,16.215370316481028,52.058157455145796,29.897047082551126,4.023695267358291,124.86856314015594,5.827724829178161,8.842529596927351,16.045513634482504,10.563922308101779,4.518391509194398,5.1570505044702735,5.912718042011553,4.115596629642113,22.295777233608245,10.724723158977854,394.1205058907628,5.244061881459904,11.18267210222786,4.980426968790956,18.59542066403031,149.57241675287744,16.827106884639992,116.83429076080803,87.30517082820808,9.948195667478618,100.74962107019391,9.260882026006042,4.669214398928982,11.047026909550338,62.0317434749081,5.722364313520334,5.244061881459904,15.85878670785084,2.8238774244051785,4.955347284393933,5.485975535456103,10.26915529723643,16.022271531062938,8.966048730714213,4.081427734026863,40.640221457215695,5.070039127480644,4.901117130333073,63.02182808773276,5.06311868463607,17.268797595588047,4.617107482133556,6.707647916881441,1.2349271644385844,205.8184467570936,5.142012627105733,102.39897990717235,25.11460924545233,4.19485978384892,13.451332844768238,5.308049590135187,333.47624539998844,151.76731912002126,4.423081329390073,4.721732433212428,10.859389399115027,5.153269781630367,5.312464608344304,4.8468955761664345,5.928978562883334,11.568479434476844,5.696047005202961,23.25207472715386,14.931772182089034,27.92752565401568,4.4715079232955475,5.835159807665678,2.904563248459005,5.603100892693517,4.88945519058523,42.678695248790696,5.235831382323388,5.429694699557514,5.29927760406235,11.655449658356321,15.158480995798568,26.83511796297369,5.5018909907620035,5.49655764478664,16.721832925206183,5.633133179792392,10.26915529723643,4.996427310137398])|\n",
            "+-------+------+-----+---------------------------------------------------------------------------------------------------------------------------------------------------------------------------------------------------------------------------------------------------------------------------------------------------------------------------------------------------------------------------------------------------------------------------------------------------------------------------------------------------------------------------------------------------------------------------------------------------------------------------------------------------------------------------------------------------------------------------------------------------------------------------------------------------------------------------------------------------------------------------------------------------------------------------------------------------------------------------------------------------------------------------------------------------------------------------------------------------------------------------------------------------------------------------------------------------------------------------------------------------------------------------------------------------------------------------------------------------------------------------------------------------------------------------------------------------------------------------------------------------------------------------------------------------------------------------------------------------------------------------------------------------------------------------------------------------------------------------------------------------------------------------------------------------------------------------------------------------------------------------------------------------------------------------------------------------------------------------------------------------------------------------------------------------------------------------------------------------------------------------------------------------------------------------------------------------------------------------------------------------------------------------------------------------------------------------------------------------------------------------------------------------------------------------------------------------------------------------------------------------------------------------------------------------------------------------------------------------------------------------------------------------------------------------------------------------------------------------------------------------------------------------------------------------------------------------------------------------------------------------------------------------------------------------------------------------------------------------------------------------------------------------------------------------------------------------------------------------------------------------------------------------------------------------------------------+\n",
            "only showing top 2 rows\n",
            "\n"
          ],
          "name": "stdout"
        }
      ]
    },
    {
      "metadata": {
        "id": "9WdtnxZzNj0J",
        "colab_type": "code",
        "colab": {
          "autoexec": {
            "startup": false,
            "wait_interval": 0
          },
          "base_uri": "https://localhost:8080/",
          "height": 34
        },
        "outputId": "e60f4c53-841e-4c20-8894-33506798aaef",
        "executionInfo": {
          "status": "ok",
          "timestamp": 1527979425184,
          "user_tz": -180,
          "elapsed": 260446,
          "user": {
            "displayName": "Max Minenko",
            "photoUrl": "https://lh3.googleusercontent.com/a/default-user=s128",
            "userId": "109736211463040468281"
          }
        }
      },
      "cell_type": "code",
      "source": [
        "train_data, test_data = df_full.randomSplit([0.7, 0.3], seed=42)\n",
        "train_data.checkpoint()\n",
        "test_data.checkpoint()"
      ],
      "execution_count": 36,
      "outputs": [
        {
          "output_type": "execute_result",
          "data": {
            "text/plain": [
              "DataFrame[movieId: int, userId: int, label: double, features: vector]"
            ]
          },
          "metadata": {
            "tags": []
          },
          "execution_count": 36
        }
      ]
    },
    {
      "metadata": {
        "id": "H4JMvCloQ0LK",
        "colab_type": "code",
        "colab": {
          "autoexec": {
            "startup": false,
            "wait_interval": 0
          },
          "base_uri": "https://localhost:8080/",
          "height": 52
        },
        "outputId": "c707e75d-3726-4dcd-f601-d99d033ed638",
        "executionInfo": {
          "status": "ok",
          "timestamp": 1527979472661,
          "user_tz": -180,
          "elapsed": 47005,
          "user": {
            "displayName": "Max Minenko",
            "photoUrl": "https://lh3.googleusercontent.com/a/default-user=s128",
            "userId": "109736211463040468281"
          }
        }
      },
      "cell_type": "code",
      "source": [
        "print((train_data.count(), len(train_data.columns)))\n",
        "print((test_data.count(), len(test_data.columns)))"
      ],
      "execution_count": 37,
      "outputs": [
        {
          "output_type": "stream",
          "text": [
            "(3641644, 4)\n",
            "(1560920, 4)\n"
          ],
          "name": "stdout"
        }
      ]
    },
    {
      "metadata": {
        "id": "hGGQQ6LIN1hg",
        "colab_type": "code",
        "colab": {
          "autoexec": {
            "startup": false,
            "wait_interval": 0
          },
          "base_uri": "https://localhost:8080/",
          "height": 34
        },
        "outputId": "9a8f3ae7-14f1-4cd7-eb81-4275b26abd86",
        "executionInfo": {
          "status": "ok",
          "timestamp": 1527979580616,
          "user_tz": -180,
          "elapsed": 107677,
          "user": {
            "displayName": "Max Minenko",
            "photoUrl": "https://lh3.googleusercontent.com/a/default-user=s128",
            "userId": "109736211463040468281"
          }
        }
      },
      "cell_type": "code",
      "source": [
        "linear_model = LinearRegression().fit(train_data)\n",
        "train_prediction = linear_model.transform(train_data)\n",
        "print(\"ошибка предсказания на train:\", simple_evaluate(train_prediction))"
      ],
      "execution_count": 38,
      "outputs": [
        {
          "output_type": "stream",
          "text": [
            "ошибка предсказания на train: 0.8527723848919534\n"
          ],
          "name": "stdout"
        }
      ]
    },
    {
      "metadata": {
        "id": "tPRwjqE4ODAo",
        "colab_type": "code",
        "colab": {
          "autoexec": {
            "startup": false,
            "wait_interval": 0
          },
          "base_uri": "https://localhost:8080/",
          "height": 34
        },
        "outputId": "78efac17-c7c5-4332-b963-50377406819a",
        "executionInfo": {
          "status": "ok",
          "timestamp": 1527979608083,
          "user_tz": -180,
          "elapsed": 26449,
          "user": {
            "displayName": "Max Minenko",
            "photoUrl": "https://lh3.googleusercontent.com/a/default-user=s128",
            "userId": "109736211463040468281"
          }
        }
      },
      "cell_type": "code",
      "source": [
        "test_prediction = linear_model.transform(test_data)\n",
        "\n",
        "print(\"ошибка предсказания на test:\", simple_evaluate(test_prediction))"
      ],
      "execution_count": 39,
      "outputs": [
        {
          "output_type": "stream",
          "text": [
            "ошибка предсказания на test: 0.8528658070858727\n"
          ],
          "name": "stdout"
        }
      ]
    },
    {
      "metadata": {
        "id": "mURiqLnnde6Y",
        "colab_type": "code",
        "colab": {
          "autoexec": {
            "startup": false,
            "wait_interval": 0
          },
          "base_uri": "https://localhost:8080/",
          "height": 34
        },
        "outputId": "7cbe6a10-7a8c-4e12-d166-b36ca2553c65",
        "executionInfo": {
          "status": "ok",
          "timestamp": 1527979609520,
          "user_tz": -180,
          "elapsed": 898,
          "user": {
            "displayName": "Max Minenko",
            "photoUrl": "https://lh3.googleusercontent.com/a/default-user=s128",
            "userId": "109736211463040468281"
          }
        }
      },
      "cell_type": "code",
      "source": [
        "linear_model.coefficients.shape"
      ],
      "execution_count": 40,
      "outputs": [
        {
          "output_type": "execute_result",
          "data": {
            "text/plain": [
              "(1026,)"
            ]
          },
          "metadata": {
            "tags": []
          },
          "execution_count": 40
        }
      ]
    },
    {
      "metadata": {
        "id": "XJIslT_mR50P",
        "colab_type": "text"
      },
      "cell_type": "markdown",
      "source": [
        "## Выводы"
      ]
    },
    {
      "metadata": {
        "id": "UEQuQOt7SDro",
        "colab_type": "text"
      },
      "cell_type": "markdown",
      "source": [
        "Добавление TFIDF признаков позволило уменьшить RMSE с \n",
        "\n",
        "0.854074488878677\n",
        "\n",
        "до\n",
        "\n",
        "0.8528658070858727"
      ]
    },
    {
      "metadata": {
        "id": "QEHq_UpUOIAI",
        "colab_type": "code",
        "colab": {
          "autoexec": {
            "startup": false,
            "wait_interval": 0
          }
        }
      },
      "cell_type": "code",
      "source": [
        ""
      ],
      "execution_count": 0,
      "outputs": []
    }
  ]
}