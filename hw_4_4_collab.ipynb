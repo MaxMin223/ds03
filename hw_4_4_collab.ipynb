{
  "nbformat": 4,
  "nbformat_minor": 0,
  "metadata": {
    "colab": {
      "name": "hw_4.4_collab.ipynb",
      "version": "0.3.2",
      "views": {},
      "default_view": {},
      "provenance": [],
      "collapsed_sections": [],
      "toc_visible": true
    },
    "kernelspec": {
      "name": "python3",
      "display_name": "Python 3"
    },
    "accelerator": "GPU"
  },
  "cells": [
    {
      "metadata": {
        "id": "ihLggswQdRJi",
        "colab_type": "text"
      },
      "cell_type": "markdown",
      "source": [
        "# Задание к занятию «Рекомендации на основе скрытых факторов»\n"
      ]
    },
    {
      "metadata": {
        "id": "S6hLwOAudadm",
        "colab_type": "text"
      },
      "cell_type": "markdown",
      "source": [
        "\n",
        "Описание задания:\n",
        "\n",
        "Попробовать разные модели из пакета Implicit, чтобы получить на тестовой выборке precision@50 > 0.1\n",
        "\n",
        " \n",
        "\n",
        "Какие данные\n",
        "\n",
        "Датасет lastfm-360K.\n"
      ]
    },
    {
      "metadata": {
        "id": "NLEf8C-jdg0P",
        "colab_type": "text"
      },
      "cell_type": "markdown",
      "source": [
        "## Подготовка виртуальной машины"
      ]
    },
    {
      "metadata": {
        "id": "mv02PPTOdsGF",
        "colab_type": "text"
      },
      "cell_type": "markdown",
      "source": [
        "Устанавливаем CUDA, cобираем implicit с поддержкой gpu"
      ]
    },
    {
      "metadata": {
        "id": "LEYA_ZUZeOXC",
        "colab_type": "code",
        "colab": {
          "autoexec": {
            "startup": false,
            "wait_interval": 0
          }
        }
      },
      "cell_type": "code",
      "source": [
        "#!kill -9 -1"
      ],
      "execution_count": 0,
      "outputs": []
    },
    {
      "metadata": {
        "id": "U_T_QRrdtEjP",
        "colab_type": "code",
        "colab": {
          "autoexec": {
            "startup": false,
            "wait_interval": 0
          }
        }
      },
      "cell_type": "code",
      "source": [
        "#!wget --quiet https://repo.anaconda.com/miniconda/Miniconda3-latest-Linux-x86_64.sh -O ~/miniconda.sh &&  /bin/bash ~/miniconda.sh -b -p ./conda &&  rm ~/miniconda.sh \n",
        "#!echo \". ~/conda/etc/profile.d/conda.sh\" >> ~/.bashrc && echo \"conda activate base\" >> ~/.bashrc  \n",
        "#!conda update conda"
      ],
      "execution_count": 0,
      "outputs": []
    },
    {
      "metadata": {
        "id": "Cyc7U97ubNON",
        "colab_type": "code",
        "colab": {
          "autoexec": {
            "startup": false,
            "wait_interval": 0
          },
          "base_uri": "https://localhost:8080/",
          "height": 86
        },
        "outputId": "30ed819c-52dc-4e4d-c490-382c9f77c177",
        "executionInfo": {
          "status": "ok",
          "timestamp": 1528822790704,
          "user_tz": -180,
          "elapsed": 2005,
          "user": {
            "displayName": "Max Minenko",
            "photoUrl": "https://lh3.googleusercontent.com/a/default-user=s128",
            "userId": "109736211463040468281"
          }
        }
      },
      "cell_type": "code",
      "source": [
        "!cat /etc/lsb-release"
      ],
      "execution_count": 6,
      "outputs": [
        {
          "output_type": "stream",
          "text": [
            "DISTRIB_ID=Ubuntu\r\n",
            "DISTRIB_RELEASE=17.10\r\n",
            "DISTRIB_CODENAME=artful\r\n",
            "DISTRIB_DESCRIPTION=\"Ubuntu 17.10\"\r\n"
          ],
          "name": "stdout"
        }
      ]
    },
    {
      "metadata": {
        "id": "8bQuUOkvbYV0",
        "colab_type": "code",
        "colab": {
          "autoexec": {
            "startup": false,
            "wait_interval": 0
          },
          "base_uri": "https://localhost:8080/",
          "height": 315
        },
        "outputId": "3983b8ba-fdb3-4c84-8ea9-7c7f7f15b371",
        "executionInfo": {
          "status": "ok",
          "timestamp": 1528823416538,
          "user_tz": -180,
          "elapsed": 14499,
          "user": {
            "displayName": "Max Minenko",
            "photoUrl": "https://lh3.googleusercontent.com/a/default-user=s128",
            "userId": "109736211463040468281"
          }
        }
      },
      "cell_type": "code",
      "source": [
        "# нужна восьмая CUDA, потому что в Collaboratory более старый драйвер видеокарт (версии 384, который несовместим с CUDA 9)\n",
        "!wget https://developer.nvidia.com/compute/cuda/8.0/Prod2/local_installers/cuda-repo-ubuntu1604-8-0-local-ga2_8.0.61-1_amd64-deb"
      ],
      "execution_count": 17,
      "outputs": [
        {
          "output_type": "stream",
          "text": [
            "--2018-06-12 17:10:03--  https://developer.nvidia.com/compute/cuda/8.0/Prod2/local_installers/cuda-repo-ubuntu1604-8-0-local-ga2_8.0.61-1_amd64-deb\n",
            "Resolving developer.nvidia.com (developer.nvidia.com)... 192.229.162.216\n",
            "Connecting to developer.nvidia.com (developer.nvidia.com)|192.229.162.216|:443... connected.\n",
            "HTTP request sent, awaiting response... 302 Found\n",
            "Location: https://developer.download.nvidia.com/compute/cuda/8.0/secure/Prod2/local_installers/cuda-repo-ubuntu1604-8-0-local-ga2_8.0.61-1_amd64.deb?qR0axdcf8tlAAyEWHvm66FRPhVxgcvTtuJPblI6oh68xtPOo5mW6QQ5lFLXM1FG7webKNNrp4DkX3bsepg0lBG6atuvKf_1cE2qRUdh2DxdiDKzFQ9rwmeTj4zXbEcsadlxVJD4lTwU7gGzDqacObYIwD2my6fQWRF2A5q_PMTMSCmSczHEYBdu0V-JqjujAb5gcjHTg3eYE6yGu8XiBtygMrw [following]\n",
            "--2018-06-12 17:10:03--  https://developer.download.nvidia.com/compute/cuda/8.0/secure/Prod2/local_installers/cuda-repo-ubuntu1604-8-0-local-ga2_8.0.61-1_amd64.deb?qR0axdcf8tlAAyEWHvm66FRPhVxgcvTtuJPblI6oh68xtPOo5mW6QQ5lFLXM1FG7webKNNrp4DkX3bsepg0lBG6atuvKf_1cE2qRUdh2DxdiDKzFQ9rwmeTj4zXbEcsadlxVJD4lTwU7gGzDqacObYIwD2my6fQWRF2A5q_PMTMSCmSczHEYBdu0V-JqjujAb5gcjHTg3eYE6yGu8XiBtygMrw\n",
            "Resolving developer.download.nvidia.com (developer.download.nvidia.com)... 192.229.211.70, 2606:2800:21f:3aa:dcf:37b:1ed6:1fb\n",
            "Connecting to developer.download.nvidia.com (developer.download.nvidia.com)|192.229.211.70|:443... connected.\n",
            "HTTP request sent, awaiting response... 200 OK\n",
            "Length: 1913589814 (1.8G) [application/x-deb]\n",
            "Saving to: ‘cuda-repo-ubuntu1604-8-0-local-ga2_8.0.61-1_amd64-deb.2’\n",
            "\n",
            "deb.2                98%[==================> ]   1.75G   143MB/s    eta 0s     "
          ],
          "name": "stdout"
        },
        {
          "output_type": "stream",
          "text": [
            "\reb.2                 99%[==================> ]   1.78G   147MB/s    eta 0s     \rcuda-repo-ubuntu160 100%[===================>]   1.78G   147MB/s    in 12s     \r\n",
            "\r\n",
            "2018-06-12 17:10:16 (147 MB/s) - ‘cuda-repo-ubuntu1604-8-0-local-ga2_8.0.61-1_amd64-deb.2’ saved [1913589814/1913589814]\r\n",
            "\r\n"
          ],
          "name": "stdout"
        }
      ]
    },
    {
      "metadata": {
        "id": "c_zy__VWbcuD",
        "colab_type": "code",
        "colab": {
          "autoexec": {
            "startup": false,
            "wait_interval": 0
          },
          "base_uri": "https://localhost:8080/",
          "height": 191
        },
        "outputId": "3b8cf521-64ae-460c-8bd6-307e4046a801",
        "executionInfo": {
          "status": "ok",
          "timestamp": 1528823563571,
          "user_tz": -180,
          "elapsed": 47727,
          "user": {
            "displayName": "Max Minenko",
            "photoUrl": "https://lh3.googleusercontent.com/a/default-user=s128",
            "userId": "109736211463040468281"
          }
        }
      },
      "cell_type": "code",
      "source": [
        "# делаем по инструкции с сайта NVidia\n",
        "!dpkg -i cuda-repo-ubuntu1604-8-0-local-ga2_8.0.61-1_amd64-deb"
      ],
      "execution_count": 18,
      "outputs": [
        {
          "output_type": "stream",
          "text": [
            "(Reading database ... \r(Reading database ... 5%\r(Reading database ... 10%\r(Reading database ... 15%\r(Reading database ... 20%\r(Reading database ... 25%\r(Reading database ... 30%\r(Reading database ... 35%\r(Reading database ... 40%\r(Reading database ... 45%\r(Reading database ... 50%\r(Reading database ... 55%\r(Reading database ... 60%\r(Reading database ... 65%\r(Reading database ... 70%\r(Reading database ... 75%\r(Reading database ... 80%\r(Reading database ... 85%\r(Reading database ... 90%\r(Reading database ... 95%\r(Reading database ... 100%\r(Reading database ... 82771 files and directories currently installed.)\r\n",
            "Preparing to unpack cuda-repo-ubuntu1604-8-0-local-ga2_8.0.61-1_amd64-deb ...\n",
            "Unpacking cuda-repo-ubuntu1604-8-0-local-ga2 (8.0.61-1) over (8.0.61-1) ...\n",
            "Setting up cuda-repo-ubuntu1604-8-0-local-ga2 (8.0.61-1) ...\n",
            "Warning: The postinst maintainerscript of the package cuda-repo-ubuntu1604-8-0-local-ga2\n",
            "Warning: seems to use apt-key (provided by apt) without depending on gnupg or gnupg2.\n",
            "Warning: This will BREAK in the future and should be fixed by the package maintainer(s).\n",
            "Note: Check first if apt-key functionality is needed at all - it probably isn't!\n",
            "Warning: apt-key should not be used in scripts (called from postinst maintainerscript of the package cuda-repo-ubuntu1604-8-0-local-ga2)\n",
            "OK\n"
          ],
          "name": "stdout"
        }
      ]
    },
    {
      "metadata": {
        "id": "NEQPiDfQbhdZ",
        "colab_type": "code",
        "colab": {
          "autoexec": {
            "startup": false,
            "wait_interval": 0
          },
          "base_uri": "https://localhost:8080/",
          "height": 173
        },
        "outputId": "9ed1227d-44ff-4be1-b59f-1304a078ce4f",
        "executionInfo": {
          "status": "ok",
          "timestamp": 1528823341722,
          "user_tz": -180,
          "elapsed": 3385,
          "user": {
            "displayName": "Max Minenko",
            "photoUrl": "https://lh3.googleusercontent.com/a/default-user=s128",
            "userId": "109736211463040468281"
          }
        }
      },
      "cell_type": "code",
      "source": [
        "!apt-get update"
      ],
      "execution_count": 13,
      "outputs": [
        {
          "output_type": "stream",
          "text": [
            "\r0% [Working]\r            \rGet:1 file:/var/cuda-repo-8-0-local-ga2  InRelease\r\n",
            "\r0% [Connecting to archive.ubuntu.com] [Connecting to security.ubuntu.com] [1 In\r                                                                               \rIgn:1 file:/var/cuda-repo-8-0-local-ga2  InRelease\r\n",
            "\r                                                                               \r0% [Connecting to archive.ubuntu.com] [Connecting to security.ubuntu.com]\r                                                                         \rGet:2 file:/var/cuda-repo-8-0-local-ga2  Release [574 B]\r\n",
            "Get:2 file:/var/cuda-repo-8-0-local-ga2  Release [574 B]\n",
            "Hit:4 http://security.ubuntu.com/ubuntu artful-security InRelease\n",
            "Hit:5 http://archive.ubuntu.com/ubuntu artful InRelease\n",
            "Hit:6 http://archive.ubuntu.com/ubuntu artful-updates InRelease\n",
            "Hit:7 http://archive.ubuntu.com/ubuntu artful-backports InRelease\n",
            "Reading package lists... Done\n"
          ],
          "name": "stdout"
        }
      ]
    },
    {
      "metadata": {
        "id": "Aoe4--aR-UMA",
        "colab_type": "code",
        "colab": {
          "autoexec": {
            "startup": false,
            "wait_interval": 0
          }
        }
      },
      "cell_type": "code",
      "source": [
        "#!apt --fix-broken install"
      ],
      "execution_count": 0,
      "outputs": []
    },
    {
      "metadata": {
        "id": "Z56vunTMesEx",
        "colab_type": "code",
        "colab": {
          "autoexec": {
            "startup": false,
            "wait_interval": 0
          },
          "base_uri": "https://localhost:8080/",
          "height": 156
        },
        "outputId": "b3968934-ab79-4c2f-bef7-6437dfa0db96",
        "executionInfo": {
          "status": "ok",
          "timestamp": 1528823357208,
          "user_tz": -180,
          "elapsed": 2632,
          "user": {
            "displayName": "Max Minenko",
            "photoUrl": "https://lh3.googleusercontent.com/a/default-user=s128",
            "userId": "109736211463040468281"
          }
        }
      },
      "cell_type": "code",
      "source": [
        "!apt-get install cuda"
      ],
      "execution_count": 14,
      "outputs": [
        {
          "output_type": "stream",
          "text": [
            "Reading package lists... Done\n",
            "Building dependency tree       \n",
            "Reading state information... Done\n",
            "cuda is already the newest version (8.0.61-1).\n",
            "You might want to run 'apt --fix-broken install' to correct these.\n",
            "The following packages have unmet dependencies:\n",
            " cuda-toolkit-8-0 : Depends: cuda-visual-tools-8-0 (>= 8.0.61) but it is not going to be installed\n",
            "E: Unmet dependencies. Try 'apt --fix-broken install' with no packages (or specify a solution).\n"
          ],
          "name": "stdout"
        }
      ]
    },
    {
      "metadata": {
        "id": "XiqFsOZ0btQt",
        "colab_type": "code",
        "colab": {
          "autoexec": {
            "startup": false,
            "wait_interval": 0
          },
          "base_uri": "https://localhost:8080/",
          "height": 315
        },
        "outputId": "aee6ea4d-816d-4603-fc88-10e545f50df5",
        "executionInfo": {
          "status": "ok",
          "timestamp": 1528823823127,
          "user_tz": -180,
          "elapsed": 3089,
          "user": {
            "displayName": "Max Minenko",
            "photoUrl": "https://lh3.googleusercontent.com/a/default-user=s128",
            "userId": "109736211463040468281"
          }
        }
      },
      "cell_type": "code",
      "source": [
        "# скачиваем патч\n",
        "!wget https://developer.nvidia.com/compute/cuda/8.0/Prod2/patches/2/cuda-repo-ubuntu1604-8-0-local-cublas-performance-update_8.0.61-1_amd64-deb\n"
      ],
      "execution_count": 20,
      "outputs": [
        {
          "output_type": "stream",
          "text": [
            "--2018-06-12 17:17:01--  https://developer.nvidia.com/compute/cuda/8.0/Prod2/patches/2/cuda-repo-ubuntu1604-8-0-local-cublas-performance-update_8.0.61-1_amd64-deb\n",
            "Resolving developer.nvidia.com (developer.nvidia.com)... 192.229.162.216\n",
            "Connecting to developer.nvidia.com (developer.nvidia.com)|192.229.162.216|:443... connected.\n",
            "HTTP request sent, awaiting response... 302 Found\n",
            "Location: https://developer.download.nvidia.com/compute/cuda/8.0/secure/Prod2/patches/2/cuda-repo-ubuntu1604-8-0-local-cublas-performance-update_8.0.61-1_amd64.deb?qLgSRbYYZAcVOgq__bWIolfTr33-DchtNZkM5dlM5LvJgxZ5KuFD5tuXt7llnpzLb7iPJAYzS7iauFt2VOck8Rph9sTQNpwUfAAVAh80B9rDsHx-RbyUIofWdHXm7tyJwmbM-OZ2W4uy5wvCBnpNfTY06gwhHxOugIWyk8u39HHyxMJOGYMWAgNznczLu6gK3gx-2aAZZxCxC_pKTG9u3NzmkRrqv-7YrdomS5RuXE-qZw [following]\n",
            "--2018-06-12 17:17:01--  https://developer.download.nvidia.com/compute/cuda/8.0/secure/Prod2/patches/2/cuda-repo-ubuntu1604-8-0-local-cublas-performance-update_8.0.61-1_amd64.deb?qLgSRbYYZAcVOgq__bWIolfTr33-DchtNZkM5dlM5LvJgxZ5KuFD5tuXt7llnpzLb7iPJAYzS7iauFt2VOck8Rph9sTQNpwUfAAVAh80B9rDsHx-RbyUIofWdHXm7tyJwmbM-OZ2W4uy5wvCBnpNfTY06gwhHxOugIWyk8u39HHyxMJOGYMWAgNznczLu6gK3gx-2aAZZxCxC_pKTG9u3NzmkRrqv-7YrdomS5RuXE-qZw\n",
            "Resolving developer.download.nvidia.com (developer.download.nvidia.com)... 192.229.211.70, 2606:2800:21f:3aa:dcf:37b:1ed6:1fb\n",
            "Connecting to developer.download.nvidia.com (developer.download.nvidia.com)|192.229.211.70|:443... connected.\n",
            "HTTP request sent, awaiting response... 200 OK\n",
            "Length: 124303154 (119M) [application/x-deb]\n",
            "Saving to: ‘cuda-repo-ubuntu1604-8-0-local-cublas-performance-update_8.0.61-1_amd64-deb’\n",
            "\n",
            "cuda-repo-ubuntu160 100%[===================>] 118.54M   180MB/s    in 0.7s    \n",
            "\n",
            "2018-06-12 17:17:02 (180 MB/s) - ‘cuda-repo-ubuntu1604-8-0-local-cublas-performance-update_8.0.61-1_amd64-deb’ saved [124303154/124303154]\n",
            "\n"
          ],
          "name": "stdout"
        }
      ]
    },
    {
      "metadata": {
        "id": "0Gq-M4BGfBnJ",
        "colab_type": "code",
        "colab": {
          "autoexec": {
            "startup": false,
            "wait_interval": 0
          },
          "base_uri": "https://localhost:8080/",
          "height": 228
        },
        "outputId": "c57f57c1-965c-44b2-9fef-6125d56e9f64",
        "executionInfo": {
          "status": "ok",
          "timestamp": 1528823832016,
          "user_tz": -180,
          "elapsed": 5957,
          "user": {
            "displayName": "Max Minenko",
            "photoUrl": "https://lh3.googleusercontent.com/a/default-user=s128",
            "userId": "109736211463040468281"
          }
        }
      },
      "cell_type": "code",
      "source": [
        "  # устанавливаем патч\n",
        "!dpkg -i cuda-repo-ubuntu1604-8-0-local-cublas-performance-update_8.0.61-1_amd64-deb"
      ],
      "execution_count": 21,
      "outputs": [
        {
          "output_type": "stream",
          "text": [
            "Selecting previously unselected package cuda-repo-ubuntu1604-8-0-local-cublas-performance-update.\n",
            "(Reading database ... 85600 files and directories currently installed.)\n",
            "Preparing to unpack cuda-repo-ubuntu1604-8-0-local-cublas-performance-update_8.0.61-1_amd64-deb ...\n",
            "Unpacking cuda-repo-ubuntu1604-8-0-local-cublas-performance-update (8.0.61-1) ...\n",
            "Setting up cuda-repo-ubuntu1604-8-0-local-cublas-performance-update (8.0.61-1) ...\n",
            "Warning: The postinst maintainerscript of the package cuda-repo-ubuntu1604-8-0-local-cublas-performance-update\n",
            "Warning: seems to use apt-key (provided by apt) without depending on gnupg or gnupg2.\n",
            "Warning: This will BREAK in the future and should be fixed by the package maintainer(s).\n",
            "Note: Check first if apt-key functionality is needed at all - it probably isn't!\n",
            "Warning: apt-key should not be used in scripts (called from postinst maintainerscript of the package cuda-repo-ubuntu1604-8-0-local-cublas-performance-update)\n",
            "OK\n"
          ],
          "name": "stdout"
        }
      ]
    },
    {
      "metadata": {
        "id": "6ak_A_d5bzIR",
        "colab_type": "code",
        "colab": {
          "autoexec": {
            "startup": false,
            "wait_interval": 0
          },
          "base_uri": "https://localhost:8080/",
          "height": 312
        },
        "outputId": "0446bdee-7e0e-4f12-aae5-adfce2318ee6",
        "executionInfo": {
          "status": "ok",
          "timestamp": 1528823859017,
          "user_tz": -180,
          "elapsed": 1720,
          "user": {
            "displayName": "Max Minenko",
            "photoUrl": "https://lh3.googleusercontent.com/a/default-user=s128",
            "userId": "109736211463040468281"
          }
        }
      },
      "cell_type": "code",
      "source": [
        "!nvidia-smi"
      ],
      "execution_count": 23,
      "outputs": [
        {
          "output_type": "stream",
          "text": [
            "Tue Jun 12 17:17:38 2018       \r\n",
            "+-----------------------------------------------------------------------------+\r\n",
            "| NVIDIA-SMI 384.130                Driver Version: 384.111                   |\r\n",
            "|-------------------------------+----------------------+----------------------+\r\n",
            "| GPU  Name        Persistence-M| Bus-Id        Disp.A | Volatile Uncorr. ECC |\r\n",
            "| Fan  Temp  Perf  Pwr:Usage/Cap|         Memory-Usage | GPU-Util  Compute M. |\r\n",
            "|===============================+======================+======================|\r\n",
            "|   0  Tesla K80           Off  | 00000000:00:04.0 Off |                    0 |\r\n",
            "| N/A   35C    P8    25W / 149W |      1MiB / 11439MiB |      0%      Default |\r\n",
            "+-------------------------------+----------------------+----------------------+\r\n",
            "                                                                               \r\n",
            "+-----------------------------------------------------------------------------+\r\n",
            "| Processes:                                                       GPU Memory |\r\n",
            "|  GPU       PID   Type   Process name                             Usage      |\r\n",
            "|=============================================================================|\r\n",
            "|  No running processes found                                                 |\r\n",
            "+-----------------------------------------------------------------------------+\r\n"
          ],
          "name": "stdout"
        }
      ]
    },
    {
      "metadata": {
        "id": "dV-qfZ2Nb_Vc",
        "colab_type": "code",
        "colab": {
          "autoexec": {
            "startup": false,
            "wait_interval": 0
          },
          "base_uri": "https://localhost:8080/",
          "height": 1059
        },
        "outputId": "25603176-6b53-4426-8555-db42e73f4555",
        "executionInfo": {
          "status": "ok",
          "timestamp": 1528823902875,
          "user_tz": -180,
          "elapsed": 15066,
          "user": {
            "displayName": "Max Minenko",
            "photoUrl": "https://lh3.googleusercontent.com/a/default-user=s128",
            "userId": "109736211463040468281"
          }
        }
      },
      "cell_type": "code",
      "source": [
        "# нужно для совсемстимости CUDA-8 и implicit; в докере стоит gcc версии 7 - слишком новый\n",
        "!apt-get install gcc-5 g++-5\n",
        "!ln -s /usr/bin/gcc-5 /usr/local/cuda/bin/gcc"
      ],
      "execution_count": 24,
      "outputs": [
        {
          "output_type": "stream",
          "text": [
            "Reading package lists... Done\n",
            "Building dependency tree       \n",
            "Reading state information... Done\n",
            "The following additional packages will be installed:\n",
            "  cpp-5 gcc-5-base libasan2 libgcc-5-dev libmpx0 libstdc++-5-dev\n",
            "Suggested packages:\n",
            "  gcc-5-locales g++-5-multilib gcc-5-doc libstdc++6-5-dbg gcc-5-multilib\n",
            "  libgcc1-dbg libgomp1-dbg libitm1-dbg libatomic1-dbg libasan2-dbg\n",
            "  liblsan0-dbg libtsan0-dbg libubsan0-dbg libcilkrts5-dbg libmpx0-dbg\n",
            "  libquadmath0-dbg libstdc++-5-doc\n",
            "The following NEW packages will be installed:\n",
            "  cpp-5 g++-5 gcc-5 gcc-5-base libasan2 libgcc-5-dev libmpx0 libstdc++-5-dev\n",
            "0 upgraded, 8 newly installed, 0 to remove and 17 not upgraded.\n",
            "Need to get 28.6 MB of archives.\n",
            "After this operation, 98.8 MB of additional disk space will be used.\n",
            "Get:1 http://archive.ubuntu.com/ubuntu artful-updates/main amd64 gcc-5-base amd64 5.5.0-1ubuntu2 [17.2 kB]\n",
            "Get:2 http://archive.ubuntu.com/ubuntu artful-updates/main amd64 cpp-5 amd64 5.5.0-1ubuntu2 [7,798 kB]\n",
            "Get:3 http://archive.ubuntu.com/ubuntu artful-updates/main amd64 libasan2 amd64 5.5.0-1ubuntu2 [265 kB]\n",
            "Get:4 http://archive.ubuntu.com/ubuntu artful-updates/main amd64 libmpx0 amd64 5.5.0-1ubuntu2 [9,820 B]\n",
            "Get:5 http://archive.ubuntu.com/ubuntu artful-updates/main amd64 libgcc-5-dev amd64 5.5.0-1ubuntu2 [2,225 kB]\n",
            "Get:6 http://archive.ubuntu.com/ubuntu artful-updates/main amd64 gcc-5 amd64 5.5.0-1ubuntu2 [8,364 kB]\n",
            "Get:7 http://archive.ubuntu.com/ubuntu artful-updates/main amd64 libstdc++-5-dev amd64 5.5.0-1ubuntu2 [1,435 kB]\n",
            "Get:8 http://archive.ubuntu.com/ubuntu artful-updates/universe amd64 g++-5 amd64 5.5.0-1ubuntu2 [8,462 kB]\n",
            "Fetched 28.6 MB in 2s (10.2 MB/s)\n",
            "Selecting previously unselected package gcc-5-base:amd64.\n",
            "(Reading database ... 85610 files and directories currently installed.)\n",
            "Preparing to unpack .../0-gcc-5-base_5.5.0-1ubuntu2_amd64.deb ...\n",
            "Unpacking gcc-5-base:amd64 (5.5.0-1ubuntu2) ...\n",
            "Selecting previously unselected package cpp-5.\n",
            "Preparing to unpack .../1-cpp-5_5.5.0-1ubuntu2_amd64.deb ...\n",
            "Unpacking cpp-5 (5.5.0-1ubuntu2) ...\n",
            "Selecting previously unselected package libasan2:amd64.\n",
            "Preparing to unpack .../2-libasan2_5.5.0-1ubuntu2_amd64.deb ...\n",
            "Unpacking libasan2:amd64 (5.5.0-1ubuntu2) ...\n",
            "Selecting previously unselected package libmpx0:amd64.\n",
            "Preparing to unpack .../3-libmpx0_5.5.0-1ubuntu2_amd64.deb ...\n",
            "Unpacking libmpx0:amd64 (5.5.0-1ubuntu2) ...\n",
            "Selecting previously unselected package libgcc-5-dev:amd64.\n",
            "Preparing to unpack .../4-libgcc-5-dev_5.5.0-1ubuntu2_amd64.deb ...\n",
            "Unpacking libgcc-5-dev:amd64 (5.5.0-1ubuntu2) ...\n",
            "Selecting previously unselected package gcc-5.\n",
            "Preparing to unpack .../5-gcc-5_5.5.0-1ubuntu2_amd64.deb ...\n",
            "Unpacking gcc-5 (5.5.0-1ubuntu2) ...\n",
            "Selecting previously unselected package libstdc++-5-dev:amd64.\n",
            "Preparing to unpack .../6-libstdc++-5-dev_5.5.0-1ubuntu2_amd64.deb ...\n",
            "Unpacking libstdc++-5-dev:amd64 (5.5.0-1ubuntu2) ...\n",
            "Selecting previously unselected package g++-5.\n",
            "Preparing to unpack .../7-g++-5_5.5.0-1ubuntu2_amd64.deb ...\n",
            "Unpacking g++-5 (5.5.0-1ubuntu2) ...\n",
            "Processing triggers for libc-bin (2.26-0ubuntu2.1) ...\n",
            "Processing triggers for man-db (2.7.6.1-2) ...\n",
            "Setting up gcc-5-base:amd64 (5.5.0-1ubuntu2) ...\n",
            "Setting up libmpx0:amd64 (5.5.0-1ubuntu2) ...\n",
            "Setting up libasan2:amd64 (5.5.0-1ubuntu2) ...\n",
            "Setting up libgcc-5-dev:amd64 (5.5.0-1ubuntu2) ...\n",
            "Setting up cpp-5 (5.5.0-1ubuntu2) ...\n",
            "Setting up libstdc++-5-dev:amd64 (5.5.0-1ubuntu2) ...\n",
            "Setting up gcc-5 (5.5.0-1ubuntu2) ...\n",
            "Setting up g++-5 (5.5.0-1ubuntu2) ...\n",
            "Processing triggers for libc-bin (2.26-0ubuntu2.1) ...\n"
          ],
          "name": "stdout"
        }
      ]
    },
    {
      "metadata": {
        "id": "bEgRzIkqc3IK",
        "colab_type": "code",
        "colab": {
          "autoexec": {
            "startup": false,
            "wait_interval": 0
          },
          "base_uri": "https://localhost:8080/",
          "height": 139
        },
        "outputId": "19c726c3-4821-460a-e9f6-dd32c1215c80",
        "executionInfo": {
          "status": "ok",
          "timestamp": 1528823919186,
          "user_tz": -180,
          "elapsed": 3794,
          "user": {
            "displayName": "Max Minenko",
            "photoUrl": "https://lh3.googleusercontent.com/a/default-user=s128",
            "userId": "109736211463040468281"
          }
        }
      },
      "cell_type": "code",
      "source": [
        "# скачиваем код пакета\n",
        "!git clone https://github.com/benfred/implicit/\n",
        "!cd implicit; git pull"
      ],
      "execution_count": 25,
      "outputs": [
        {
          "output_type": "stream",
          "text": [
            "Cloning into 'implicit'...\n",
            "remote: Counting objects: 874, done.\u001b[K\n",
            "remote: Compressing objects: 100% (26/26), done.\u001b[K\n",
            "remote: Total 874 (delta 14), reused 12 (delta 5), pack-reused 843\u001b[K\n",
            "Receiving objects: 100% (874/874), 1.89 MiB | 21.51 MiB/s, done.\n",
            "Resolving deltas: 100% (545/545), done.\n",
            "Already up-to-date.\n"
          ],
          "name": "stdout"
        }
      ]
    },
    {
      "metadata": {
        "id": "vocGJMuHdBis",
        "colab_type": "code",
        "colab": {
          "autoexec": {
            "startup": false,
            "wait_interval": 0
          },
          "base_uri": "https://localhost:8080/",
          "height": 4222
        },
        "outputId": "88c352f2-1633-45af-d391-c1a906dc8d2b",
        "executionInfo": {
          "status": "ok",
          "timestamp": 1528823984802,
          "user_tz": -180,
          "elapsed": 59856,
          "user": {
            "displayName": "Max Minenko",
            "photoUrl": "https://lh3.googleusercontent.com/a/default-user=s128",
            "userId": "109736211463040468281"
          }
        }
      },
      "cell_type": "code",
      "source": [
        "# собираем implicit с поддержко CUDA\n",
        "!export HOST_COMPILER=gcc-5; export CUDAHOME=/usr/local/cuda; cd implicit; python3 setup.py install"
      ],
      "execution_count": 26,
      "outputs": [
        {
          "output_type": "stream",
          "text": [
            "running install\n",
            "running bdist_egg\n",
            "running egg_info\n",
            "creating implicit.egg-info\n",
            "writing implicit.egg-info/PKG-INFO\n",
            "writing dependency_links to implicit.egg-info/dependency_links.txt\n",
            "writing requirements to implicit.egg-info/requires.txt\n",
            "writing top-level names to implicit.egg-info/top_level.txt\n",
            "writing manifest file 'implicit.egg-info/SOURCES.txt'\n",
            "reading manifest file 'implicit.egg-info/SOURCES.txt'\n",
            "reading manifest template 'MANIFEST.in'\n",
            "warning: no previously-included files matching '*' found under directory 'examples'\n",
            "writing manifest file 'implicit.egg-info/SOURCES.txt'\n",
            "installing library code to build/bdist.linux-x86_64/egg\n",
            "running install_lib\n",
            "running build_py\n",
            "creating build\n",
            "creating build/lib.linux-x86_64-3.6\n",
            "creating build/lib.linux-x86_64-3.6/tests\n",
            "copying tests/als_test.py -> build/lib.linux-x86_64-3.6/tests\n",
            "copying tests/knn_test.py -> build/lib.linux-x86_64-3.6/tests\n",
            "copying tests/bpr_test.py -> build/lib.linux-x86_64-3.6/tests\n",
            "copying tests/recommender_base_test.py -> build/lib.linux-x86_64-3.6/tests\n",
            "copying tests/__init__.py -> build/lib.linux-x86_64-3.6/tests\n",
            "copying tests/approximate_als_test.py -> build/lib.linux-x86_64-3.6/tests\n",
            "creating build/lib.linux-x86_64-3.6/implicit\n",
            "copying implicit/nearest_neighbours.py -> build/lib.linux-x86_64-3.6/implicit\n",
            "copying implicit/utils.py -> build/lib.linux-x86_64-3.6/implicit\n",
            "copying implicit/recommender_base.py -> build/lib.linux-x86_64-3.6/implicit\n",
            "copying implicit/__init__.py -> build/lib.linux-x86_64-3.6/implicit\n",
            "copying implicit/als.py -> build/lib.linux-x86_64-3.6/implicit\n",
            "copying implicit/approximate_als.py -> build/lib.linux-x86_64-3.6/implicit\n",
            "creating build/lib.linux-x86_64-3.6/implicit/cuda\n",
            "copying implicit/cuda/__init__.py -> build/lib.linux-x86_64-3.6/implicit/cuda\n",
            "creating build/lib.linux-x86_64-3.6/implicit/datasets\n",
            "copying implicit/datasets/reddit.py -> build/lib.linux-x86_64-3.6/implicit/datasets\n",
            "copying implicit/datasets/million_song_dataset.py -> build/lib.linux-x86_64-3.6/implicit/datasets\n",
            "copying implicit/datasets/sketchfab.py -> build/lib.linux-x86_64-3.6/implicit/datasets\n",
            "copying implicit/datasets/_download.py -> build/lib.linux-x86_64-3.6/implicit/datasets\n",
            "copying implicit/datasets/movielens.py -> build/lib.linux-x86_64-3.6/implicit/datasets\n",
            "copying implicit/datasets/__init__.py -> build/lib.linux-x86_64-3.6/implicit/datasets\n",
            "copying implicit/datasets/lastfm.py -> build/lib.linux-x86_64-3.6/implicit/datasets\n",
            "running build_ext\n",
            "building 'implicit._als' extension\n",
            "creating build/temp.linux-x86_64-3.6\n",
            "creating build/temp.linux-x86_64-3.6/implicit\n",
            "x86_64-linux-gnu-gcc -pthread -DNDEBUG -g -fwrapv -O2 -Wall -Wstrict-prototypes -g -fdebug-prefix-map=/build/python3.6-sXpGnM/python3.6-3.6.3=. -specs=/usr/share/dpkg/no-pie-compile.specs -fstack-protector-strong -Wformat -Werror=format-security -Wdate-time -D_FORTIFY_SOURCE=2 -fPIC -I/usr/include/python3.6m -c implicit/_als.cpp -o build/temp.linux-x86_64-3.6/implicit/_als.o -Wno-unused-function -Wno-maybe-uninitialized -O3 -ffast-math -fopenmp -std=c++11\n",
            "\u001b[01m\u001b[Kcc1plus:\u001b[m\u001b[K \u001b[01;35m\u001b[Kwarning: \u001b[m\u001b[Kcommand line option ‘\u001b[01m\u001b[K-Wstrict-prototypes\u001b[m\u001b[K’ is valid for C/ObjC but not for C++\n",
            "x86_64-linux-gnu-g++ -pthread -shared -Wl,-O1 -Wl,-Bsymbolic-functions -Wl,-Bsymbolic-functions -specs=/usr/share/dpkg/no-pie-link.specs -Wl,-z,relro -Wl,-Bsymbolic-functions -specs=/usr/share/dpkg/no-pie-link.specs -Wl,-z,relro -g -fdebug-prefix-map=/build/python3.6-sXpGnM/python3.6-3.6.3=. -specs=/usr/share/dpkg/no-pie-compile.specs -fstack-protector-strong -Wformat -Werror=format-security -Wdate-time -D_FORTIFY_SOURCE=2 build/temp.linux-x86_64-3.6/implicit/_als.o -o build/lib.linux-x86_64-3.6/implicit/_als.cpython-36m-x86_64-linux-gnu.so -fopenmp -std=c++11\n",
            "building 'implicit._nearest_neighbours' extension\n",
            "x86_64-linux-gnu-gcc -pthread -DNDEBUG -g -fwrapv -O2 -Wall -Wstrict-prototypes -g -fdebug-prefix-map=/build/python3.6-sXpGnM/python3.6-3.6.3=. -specs=/usr/share/dpkg/no-pie-compile.specs -fstack-protector-strong -Wformat -Werror=format-security -Wdate-time -D_FORTIFY_SOURCE=2 -fPIC -I/usr/include/python3.6m -c implicit/_nearest_neighbours.cpp -o build/temp.linux-x86_64-3.6/implicit/_nearest_neighbours.o -Wno-unused-function -Wno-maybe-uninitialized -O3 -ffast-math -fopenmp -std=c++11\n",
            "\u001b[01m\u001b[Kcc1plus:\u001b[m\u001b[K \u001b[01;35m\u001b[Kwarning: \u001b[m\u001b[Kcommand line option ‘\u001b[01m\u001b[K-Wstrict-prototypes\u001b[m\u001b[K’ is valid for C/ObjC but not for C++\n",
            "x86_64-linux-gnu-g++ -pthread -shared -Wl,-O1 -Wl,-Bsymbolic-functions -Wl,-Bsymbolic-functions -specs=/usr/share/dpkg/no-pie-link.specs -Wl,-z,relro -Wl,-Bsymbolic-functions -specs=/usr/share/dpkg/no-pie-link.specs -Wl,-z,relro -g -fdebug-prefix-map=/build/python3.6-sXpGnM/python3.6-3.6.3=. -specs=/usr/share/dpkg/no-pie-compile.specs -fstack-protector-strong -Wformat -Werror=format-security -Wdate-time -D_FORTIFY_SOURCE=2 build/temp.linux-x86_64-3.6/implicit/_nearest_neighbours.o -o build/lib.linux-x86_64-3.6/implicit/_nearest_neighbours.cpython-36m-x86_64-linux-gnu.so -fopenmp -std=c++11\n",
            "building 'implicit.bpr' extension\n",
            "x86_64-linux-gnu-gcc -pthread -DNDEBUG -g -fwrapv -O2 -Wall -Wstrict-prototypes -g -fdebug-prefix-map=/build/python3.6-sXpGnM/python3.6-3.6.3=. -specs=/usr/share/dpkg/no-pie-compile.specs -fstack-protector-strong -Wformat -Werror=format-security -Wdate-time -D_FORTIFY_SOURCE=2 -fPIC -I/usr/include/python3.6m -c implicit/bpr.cpp -o build/temp.linux-x86_64-3.6/implicit/bpr.o -Wno-unused-function -Wno-maybe-uninitialized -O3 -ffast-math -fopenmp -std=c++11\n",
            "\u001b[01m\u001b[Kcc1plus:\u001b[m\u001b[K \u001b[01;35m\u001b[Kwarning: \u001b[m\u001b[Kcommand line option ‘\u001b[01m\u001b[K-Wstrict-prototypes\u001b[m\u001b[K’ is valid for C/ObjC but not for C++\n",
            "x86_64-linux-gnu-g++ -pthread -shared -Wl,-O1 -Wl,-Bsymbolic-functions -Wl,-Bsymbolic-functions -specs=/usr/share/dpkg/no-pie-link.specs -Wl,-z,relro -Wl,-Bsymbolic-functions -specs=/usr/share/dpkg/no-pie-link.specs -Wl,-z,relro -g -fdebug-prefix-map=/build/python3.6-sXpGnM/python3.6-3.6.3=. -specs=/usr/share/dpkg/no-pie-compile.specs -fstack-protector-strong -Wformat -Werror=format-security -Wdate-time -D_FORTIFY_SOURCE=2 build/temp.linux-x86_64-3.6/implicit/bpr.o -o build/lib.linux-x86_64-3.6/implicit/bpr.cpython-36m-x86_64-linux-gnu.so -fopenmp -std=c++11\n",
            "building 'implicit.evaluation' extension\n",
            "x86_64-linux-gnu-gcc -pthread -DNDEBUG -g -fwrapv -O2 -Wall -Wstrict-prototypes -g -fdebug-prefix-map=/build/python3.6-sXpGnM/python3.6-3.6.3=. -specs=/usr/share/dpkg/no-pie-compile.specs -fstack-protector-strong -Wformat -Werror=format-security -Wdate-time -D_FORTIFY_SOURCE=2 -fPIC -I/usr/include/python3.6m -c implicit/evaluation.cpp -o build/temp.linux-x86_64-3.6/implicit/evaluation.o -Wno-unused-function -Wno-maybe-uninitialized -O3 -ffast-math -fopenmp -std=c++11\n",
            "\u001b[01m\u001b[Kcc1plus:\u001b[m\u001b[K \u001b[01;35m\u001b[Kwarning: \u001b[m\u001b[Kcommand line option ‘\u001b[01m\u001b[K-Wstrict-prototypes\u001b[m\u001b[K’ is valid for C/ObjC but not for C++\n",
            "x86_64-linux-gnu-g++ -pthread -shared -Wl,-O1 -Wl,-Bsymbolic-functions -Wl,-Bsymbolic-functions -specs=/usr/share/dpkg/no-pie-link.specs -Wl,-z,relro -Wl,-Bsymbolic-functions -specs=/usr/share/dpkg/no-pie-link.specs -Wl,-z,relro -g -fdebug-prefix-map=/build/python3.6-sXpGnM/python3.6-3.6.3=. -specs=/usr/share/dpkg/no-pie-compile.specs -fstack-protector-strong -Wformat -Werror=format-security -Wdate-time -D_FORTIFY_SOURCE=2 build/temp.linux-x86_64-3.6/implicit/evaluation.o -o build/lib.linux-x86_64-3.6/implicit/evaluation.cpython-36m-x86_64-linux-gnu.so -fopenmp -std=c++11\n",
            "building 'implicit.cuda._cuda' extension\n",
            "creating build/temp.linux-x86_64-3.6/implicit/cuda\n",
            "x86_64-linux-gnu-gcc -pthread -DNDEBUG -g -fwrapv -O2 -Wall -Wstrict-prototypes -g -fdebug-prefix-map=/build/python3.6-sXpGnM/python3.6-3.6.3=. -specs=/usr/share/dpkg/no-pie-compile.specs -fstack-protector-strong -Wformat -Werror=format-security -Wdate-time -D_FORTIFY_SOURCE=2 -fPIC -I/usr/local/cuda/include -I. -I/usr/include/python3.6m -c implicit/cuda/_cuda.cpp -o build/temp.linux-x86_64-3.6/implicit/cuda/_cuda.o -Wno-unused-function -Wno-maybe-uninitialized -O3 -ffast-math -fopenmp -std=c++11\n",
            "\u001b[01m\u001b[Kcc1plus:\u001b[m\u001b[K \u001b[01;35m\u001b[Kwarning: \u001b[m\u001b[Kcommand line option ‘\u001b[01m\u001b[K-Wstrict-prototypes\u001b[m\u001b[K’ is valid for C/ObjC but not for C++\n",
            "/usr/local/cuda/bin/nvcc -I/usr/local/cuda/include -I. -I/usr/include/python3.6m -c implicit/cuda/als.cu -o build/temp.linux-x86_64-3.6/implicit/cuda/als.o -gencode=arch=compute_30,code=sm_30 -gencode=arch=compute_50,code=sm_50 -gencode=arch=compute_60,code=sm_60 -gencode=arch=compute_60,code=compute_60 --ptxas-options=-v -O2 -c --compiler-options '-fPIC'\n",
            "ptxas info    : 350 bytes gmem\n",
            "ptxas info    : Compiling entry function '_ZN8implicit20l2_regularize_kernelEifPf' for 'sm_30'\n",
            "ptxas info    : Function properties for _ZN8implicit20l2_regularize_kernelEifPf\n",
            "    0 bytes stack frame, 0 bytes spill stores, 0 bytes spill loads\n",
            "ptxas info    : Used 4 registers, 336 bytes cmem[0]\n",
            "ptxas info    : Compiling entry function '_ZN8implicit23least_squares_cg_kernelEiiiPfPKfS2_PKiS4_S2_i' for 'sm_30'\n",
            "ptxas info    : Function properties for _ZN8implicit23least_squares_cg_kernelEiiiPfPKfS2_PKiS4_S2_i\n",
            "    8 bytes stack frame, 0 bytes spill stores, 0 bytes spill loads\n",
            "ptxas info    : Used 33 registers, 128 bytes smem, 388 bytes cmem[0], 16 bytes cmem[2]\n",
            "ptxas info    : Compiling entry function '_ZN8implicit21calculate_loss_kernelEiiiPKfS1_S1_PKiS3_S1_fPf' for 'sm_30'\n",
            "ptxas info    : Function properties for _ZN8implicit21calculate_loss_kernelEiiiPKfS1_S1_PKiS3_S1_fPf\n",
            "    0 bytes stack frame, 0 bytes spill stores, 0 bytes spill loads\n",
            "ptxas info    : Used 30 registers, 128 bytes smem, 400 bytes cmem[0]\n",
            "ptxas info    : 350 bytes gmem\n",
            "ptxas info    : Compiling entry function '_ZN8implicit20l2_regularize_kernelEifPf' for 'sm_50'\n",
            "ptxas info    : Function properties for _ZN8implicit20l2_regularize_kernelEifPf\n",
            "    0 bytes stack frame, 0 bytes spill stores, 0 bytes spill loads\n",
            "ptxas info    : Used 4 registers, 336 bytes cmem[0]\n",
            "ptxas info    : Compiling entry function '_ZN8implicit23least_squares_cg_kernelEiiiPfPKfS2_PKiS4_S2_i' for 'sm_50'\n",
            "ptxas info    : Function properties for _ZN8implicit23least_squares_cg_kernelEiiiPfPKfS2_PKiS4_S2_i\n",
            "    8 bytes stack frame, 0 bytes spill stores, 0 bytes spill loads\n",
            "ptxas info    : Used 38 registers, 128 bytes smem, 388 bytes cmem[0], 20 bytes cmem[2]\n",
            "ptxas info    : Compiling entry function '_ZN8implicit21calculate_loss_kernelEiiiPKfS1_S1_PKiS3_S1_fPf' for 'sm_50'\n",
            "ptxas info    : Function properties for _ZN8implicit21calculate_loss_kernelEiiiPKfS1_S1_PKiS3_S1_fPf\n",
            "    0 bytes stack frame, 0 bytes spill stores, 0 bytes spill loads\n",
            "ptxas info    : Used 31 registers, 128 bytes smem, 400 bytes cmem[0]\n",
            "ptxas info    : 350 bytes gmem\n",
            "ptxas info    : Compiling entry function '_ZN8implicit20l2_regularize_kernelEifPf' for 'sm_60'\n",
            "ptxas info    : Function properties for _ZN8implicit20l2_regularize_kernelEifPf\n",
            "    0 bytes stack frame, 0 bytes spill stores, 0 bytes spill loads\n",
            "ptxas info    : Used 4 registers, 336 bytes cmem[0]\n",
            "ptxas info    : Compiling entry function '_ZN8implicit23least_squares_cg_kernelEiiiPfPKfS2_PKiS4_S2_i' for 'sm_60'\n",
            "ptxas info    : Function properties for _ZN8implicit23least_squares_cg_kernelEiiiPfPKfS2_PKiS4_S2_i\n",
            "    8 bytes stack frame, 0 bytes spill stores, 0 bytes spill loads\n",
            "ptxas info    : Used 28 registers, 128 bytes smem, 388 bytes cmem[0], 20 bytes cmem[2]\n",
            "ptxas info    : Compiling entry function '_ZN8implicit21calculate_loss_kernelEiiiPKfS1_S1_PKiS3_S1_fPf' for 'sm_60'\n",
            "ptxas info    : Function properties for _ZN8implicit21calculate_loss_kernelEiiiPKfS1_S1_PKiS3_S1_fPf\n",
            "    0 bytes stack frame, 0 bytes spill stores, 0 bytes spill loads\n",
            "ptxas info    : Used 25 registers, 128 bytes smem, 400 bytes cmem[0]\n"
          ],
          "name": "stdout"
        },
        {
          "output_type": "stream",
          "text": [
            "/usr/local/cuda/bin/nvcc -I/usr/local/cuda/include -I. -I/usr/include/python3.6m -c implicit/cuda/bpr.cu -o build/temp.linux-x86_64-3.6/implicit/cuda/bpr.o -gencode=arch=compute_30,code=sm_30 -gencode=arch=compute_50,code=sm_50 -gencode=arch=compute_60,code=sm_60 -gencode=arch=compute_60,code=compute_60 --ptxas-options=-v -O2 -c --compiler-options '-fPIC'\n",
            "ptxas info    : 312 bytes gmem\n",
            "ptxas info    : Compiling entry function '_ZN8implicit17bpr_update_kernelEiPjS0_PiS1_S1_iPfS2_ffbS1_' for 'sm_30'\n",
            "ptxas info    : Function properties for _ZN8implicit17bpr_update_kernelEiPjS0_PiS1_S1_iPfS2_ffbS1_\n",
            "    0 bytes stack frame, 0 bytes spill stores, 0 bytes spill loads\n",
            "ptxas info    : Used 30 registers, 144 bytes smem, 416 bytes cmem[0], 32 bytes cmem[2]\n",
            "ptxas info    : 312 bytes gmem\n",
            "ptxas info    : Compiling entry function '_ZN8implicit17bpr_update_kernelEiPjS0_PiS1_S1_iPfS2_ffbS1_' for 'sm_50'\n",
            "ptxas info    : Function properties for _ZN8implicit17bpr_update_kernelEiPjS0_PiS1_S1_iPfS2_ffbS1_\n",
            "    0 bytes stack frame, 0 bytes spill stores, 0 bytes spill loads\n",
            "ptxas info    : Used 26 registers, 144 bytes smem, 416 bytes cmem[0], 32 bytes cmem[2]\n",
            "ptxas info    : 312 bytes gmem\n",
            "ptxas info    : Compiling entry function '_ZN8implicit17bpr_update_kernelEiPjS0_PiS1_S1_iPfS2_ffbS1_' for 'sm_60'\n",
            "ptxas info    : Function properties for _ZN8implicit17bpr_update_kernelEiPjS0_PiS1_S1_iPfS2_ffbS1_\n",
            "    0 bytes stack frame, 0 bytes spill stores, 0 bytes spill loads\n",
            "ptxas info    : Used 26 registers, 144 bytes smem, 416 bytes cmem[0], 32 bytes cmem[2]\n",
            "/usr/local/cuda/bin/nvcc -I/usr/local/cuda/include -I. -I/usr/include/python3.6m -c implicit/cuda/matrix.cu -o build/temp.linux-x86_64-3.6/implicit/cuda/matrix.o -gencode=arch=compute_30,code=sm_30 -gencode=arch=compute_50,code=sm_50 -gencode=arch=compute_60,code=sm_60 -gencode=arch=compute_60,code=compute_60 --ptxas-options=-v -O2 -c --compiler-options '-fPIC'\n",
            "ptxas info    : 312 bytes gmem\n",
            "ptxas info    : 312 bytes gmem\n",
            "ptxas info    : 312 bytes gmem\n",
            "x86_64-linux-gnu-g++ -pthread -shared -Wl,-O1 -Wl,-Bsymbolic-functions -Wl,-Bsymbolic-functions -specs=/usr/share/dpkg/no-pie-link.specs -Wl,-z,relro -Wl,-Bsymbolic-functions -specs=/usr/share/dpkg/no-pie-link.specs -Wl,-z,relro -g -fdebug-prefix-map=/build/python3.6-sXpGnM/python3.6-3.6.3=. -specs=/usr/share/dpkg/no-pie-compile.specs -fstack-protector-strong -Wformat -Werror=format-security -Wdate-time -D_FORTIFY_SOURCE=2 build/temp.linux-x86_64-3.6/implicit/cuda/_cuda.o build/temp.linux-x86_64-3.6/implicit/cuda/als.o build/temp.linux-x86_64-3.6/implicit/cuda/bpr.o build/temp.linux-x86_64-3.6/implicit/cuda/matrix.o -L/usr/local/cuda/lib64 -lcudart -lcublas -lcurand -o build/lib.linux-x86_64-3.6/implicit/cuda/_cuda.cpython-36m-x86_64-linux-gnu.so -fopenmp -std=c++11\n",
            "creating build/bdist.linux-x86_64\n",
            "creating build/bdist.linux-x86_64/egg\n",
            "creating build/bdist.linux-x86_64/egg/tests\n",
            "copying build/lib.linux-x86_64-3.6/tests/als_test.py -> build/bdist.linux-x86_64/egg/tests\n",
            "copying build/lib.linux-x86_64-3.6/tests/knn_test.py -> build/bdist.linux-x86_64/egg/tests\n",
            "copying build/lib.linux-x86_64-3.6/tests/bpr_test.py -> build/bdist.linux-x86_64/egg/tests\n",
            "copying build/lib.linux-x86_64-3.6/tests/recommender_base_test.py -> build/bdist.linux-x86_64/egg/tests\n",
            "copying build/lib.linux-x86_64-3.6/tests/__init__.py -> build/bdist.linux-x86_64/egg/tests\n",
            "copying build/lib.linux-x86_64-3.6/tests/approximate_als_test.py -> build/bdist.linux-x86_64/egg/tests\n",
            "creating build/bdist.linux-x86_64/egg/implicit\n",
            "creating build/bdist.linux-x86_64/egg/implicit/cuda\n",
            "copying build/lib.linux-x86_64-3.6/implicit/cuda/_cuda.cpython-36m-x86_64-linux-gnu.so -> build/bdist.linux-x86_64/egg/implicit/cuda\n",
            "copying build/lib.linux-x86_64-3.6/implicit/cuda/__init__.py -> build/bdist.linux-x86_64/egg/implicit/cuda\n",
            "creating build/bdist.linux-x86_64/egg/implicit/datasets\n",
            "copying build/lib.linux-x86_64-3.6/implicit/datasets/reddit.py -> build/bdist.linux-x86_64/egg/implicit/datasets\n",
            "copying build/lib.linux-x86_64-3.6/implicit/datasets/million_song_dataset.py -> build/bdist.linux-x86_64/egg/implicit/datasets\n",
            "copying build/lib.linux-x86_64-3.6/implicit/datasets/sketchfab.py -> build/bdist.linux-x86_64/egg/implicit/datasets\n",
            "copying build/lib.linux-x86_64-3.6/implicit/datasets/_download.py -> build/bdist.linux-x86_64/egg/implicit/datasets\n",
            "copying build/lib.linux-x86_64-3.6/implicit/datasets/movielens.py -> build/bdist.linux-x86_64/egg/implicit/datasets\n",
            "copying build/lib.linux-x86_64-3.6/implicit/datasets/__init__.py -> build/bdist.linux-x86_64/egg/implicit/datasets\n",
            "copying build/lib.linux-x86_64-3.6/implicit/datasets/lastfm.py -> build/bdist.linux-x86_64/egg/implicit/datasets\n",
            "copying build/lib.linux-x86_64-3.6/implicit/nearest_neighbours.py -> build/bdist.linux-x86_64/egg/implicit\n",
            "copying build/lib.linux-x86_64-3.6/implicit/utils.py -> build/bdist.linux-x86_64/egg/implicit\n",
            "copying build/lib.linux-x86_64-3.6/implicit/_nearest_neighbours.cpython-36m-x86_64-linux-gnu.so -> build/bdist.linux-x86_64/egg/implicit\n",
            "copying build/lib.linux-x86_64-3.6/implicit/recommender_base.py -> build/bdist.linux-x86_64/egg/implicit\n",
            "copying build/lib.linux-x86_64-3.6/implicit/_als.cpython-36m-x86_64-linux-gnu.so -> build/bdist.linux-x86_64/egg/implicit\n",
            "copying build/lib.linux-x86_64-3.6/implicit/__init__.py -> build/bdist.linux-x86_64/egg/implicit\n",
            "copying build/lib.linux-x86_64-3.6/implicit/als.py -> build/bdist.linux-x86_64/egg/implicit\n",
            "copying build/lib.linux-x86_64-3.6/implicit/bpr.cpython-36m-x86_64-linux-gnu.so -> build/bdist.linux-x86_64/egg/implicit\n",
            "copying build/lib.linux-x86_64-3.6/implicit/evaluation.cpython-36m-x86_64-linux-gnu.so -> build/bdist.linux-x86_64/egg/implicit\n",
            "copying build/lib.linux-x86_64-3.6/implicit/approximate_als.py -> build/bdist.linux-x86_64/egg/implicit\n",
            "byte-compiling build/bdist.linux-x86_64/egg/tests/als_test.py to als_test.cpython-36.pyc\n",
            "byte-compiling build/bdist.linux-x86_64/egg/tests/knn_test.py to knn_test.cpython-36.pyc\n",
            "byte-compiling build/bdist.linux-x86_64/egg/tests/bpr_test.py to bpr_test.cpython-36.pyc\n",
            "byte-compiling build/bdist.linux-x86_64/egg/tests/recommender_base_test.py to recommender_base_test.cpython-36.pyc\n",
            "byte-compiling build/bdist.linux-x86_64/egg/tests/__init__.py to __init__.cpython-36.pyc\n",
            "byte-compiling build/bdist.linux-x86_64/egg/tests/approximate_als_test.py to approximate_als_test.cpython-36.pyc\n",
            "byte-compiling build/bdist.linux-x86_64/egg/implicit/cuda/__init__.py to __init__.cpython-36.pyc\n",
            "byte-compiling build/bdist.linux-x86_64/egg/implicit/datasets/reddit.py to reddit.cpython-36.pyc\n",
            "byte-compiling build/bdist.linux-x86_64/egg/implicit/datasets/million_song_dataset.py to million_song_dataset.cpython-36.pyc\n",
            "byte-compiling build/bdist.linux-x86_64/egg/implicit/datasets/sketchfab.py to sketchfab.cpython-36.pyc\n",
            "byte-compiling build/bdist.linux-x86_64/egg/implicit/datasets/_download.py to _download.cpython-36.pyc\n",
            "byte-compiling build/bdist.linux-x86_64/egg/implicit/datasets/movielens.py to movielens.cpython-36.pyc\n",
            "byte-compiling build/bdist.linux-x86_64/egg/implicit/datasets/__init__.py to __init__.cpython-36.pyc\n",
            "byte-compiling build/bdist.linux-x86_64/egg/implicit/datasets/lastfm.py to lastfm.cpython-36.pyc\n",
            "byte-compiling build/bdist.linux-x86_64/egg/implicit/nearest_neighbours.py to nearest_neighbours.cpython-36.pyc\n",
            "byte-compiling build/bdist.linux-x86_64/egg/implicit/utils.py to utils.cpython-36.pyc\n",
            "byte-compiling build/bdist.linux-x86_64/egg/implicit/recommender_base.py to recommender_base.cpython-36.pyc\n",
            "byte-compiling build/bdist.linux-x86_64/egg/implicit/__init__.py to __init__.cpython-36.pyc\n",
            "byte-compiling build/bdist.linux-x86_64/egg/implicit/als.py to als.cpython-36.pyc\n",
            "byte-compiling build/bdist.linux-x86_64/egg/implicit/approximate_als.py to approximate_als.cpython-36.pyc\n",
            "creating stub loader for implicit/_als.cpython-36m-x86_64-linux-gnu.so\n",
            "creating stub loader for implicit/_nearest_neighbours.cpython-36m-x86_64-linux-gnu.so\n",
            "creating stub loader for implicit/bpr.cpython-36m-x86_64-linux-gnu.so\n",
            "creating stub loader for implicit/evaluation.cpython-36m-x86_64-linux-gnu.so\n",
            "creating stub loader for implicit/cuda/_cuda.cpython-36m-x86_64-linux-gnu.so\n",
            "byte-compiling build/bdist.linux-x86_64/egg/implicit/_als.py to _als.cpython-36.pyc\n",
            "byte-compiling build/bdist.linux-x86_64/egg/implicit/_nearest_neighbours.py to _nearest_neighbours.cpython-36.pyc\n",
            "byte-compiling build/bdist.linux-x86_64/egg/implicit/bpr.py to bpr.cpython-36.pyc\n",
            "byte-compiling build/bdist.linux-x86_64/egg/implicit/evaluation.py to evaluation.cpython-36.pyc\n",
            "byte-compiling build/bdist.linux-x86_64/egg/implicit/cuda/_cuda.py to _cuda.cpython-36.pyc\n",
            "creating build/bdist.linux-x86_64/egg/EGG-INFO\n",
            "copying implicit.egg-info/PKG-INFO -> build/bdist.linux-x86_64/egg/EGG-INFO\n",
            "copying implicit.egg-info/SOURCES.txt -> build/bdist.linux-x86_64/egg/EGG-INFO\n",
            "copying implicit.egg-info/dependency_links.txt -> build/bdist.linux-x86_64/egg/EGG-INFO\n",
            "copying implicit.egg-info/requires.txt -> build/bdist.linux-x86_64/egg/EGG-INFO\n",
            "copying implicit.egg-info/top_level.txt -> build/bdist.linux-x86_64/egg/EGG-INFO\n",
            "writing build/bdist.linux-x86_64/egg/EGG-INFO/native_libs.txt\n",
            "zip_safe flag not set; analyzing archive contents...\n",
            "implicit.__pycache__._als.cpython-36: module references __file__\n",
            "implicit.__pycache__._nearest_neighbours.cpython-36: module references __file__\n",
            "implicit.__pycache__.bpr.cpython-36: module references __file__\n",
            "implicit.__pycache__.evaluation.cpython-36: module references __file__\n",
            "implicit.cuda.__pycache__._cuda.cpython-36: module references __file__\n",
            "creating dist\n",
            "creating 'dist/implicit-0.3.6-py3.6-linux-x86_64.egg' and adding 'build/bdist.linux-x86_64/egg' to it\n",
            "removing 'build/bdist.linux-x86_64/egg' (and everything under it)\n",
            "Processing implicit-0.3.6-py3.6-linux-x86_64.egg\n",
            "creating /usr/local/lib/python3.6/dist-packages/implicit-0.3.6-py3.6-linux-x86_64.egg\n",
            "Extracting implicit-0.3.6-py3.6-linux-x86_64.egg to /usr/local/lib/python3.6/dist-packages\n",
            "Adding implicit 0.3.6 to easy-install.pth file\n",
            "\n",
            "Installed /usr/local/lib/python3.6/dist-packages/implicit-0.3.6-py3.6-linux-x86_64.egg\n",
            "Processing dependencies for implicit==0.3.6\n",
            "Searching for tqdm\n",
            "Reading https://pypi.org/simple/tqdm/\n",
            "Downloading https://files.pythonhosted.org/packages/93/24/6ab1df969db228aed36a648a8959d1027099ce45fad67532b9673d533318/tqdm-4.23.4-py2.py3-none-any.whl#sha256=224291ee0d8c52d91b037fd90806f48c79bcd9994d3b0abc9e44b946a908fccd\n",
            "Best match: tqdm 4.23.4\n",
            "Processing tqdm-4.23.4-py2.py3-none-any.whl\n",
            "Installing tqdm-4.23.4-py2.py3-none-any.whl to /usr/local/lib/python3.6/dist-packages\n",
            "Adding tqdm 4.23.4 to easy-install.pth file\n",
            "Installing tqdm script to /usr/local/bin\n",
            "\n",
            "Installed /usr/local/lib/python3.6/dist-packages/tqdm-4.23.4-py3.6.egg\n",
            "Searching for h5py==2.7.1\n",
            "Best match: h5py 2.7.1\n",
            "Adding h5py 2.7.1 to easy-install.pth file\n",
            "\n",
            "Using /usr/local/lib/python3.6/dist-packages\n",
            "Searching for scipy==0.19.1\n",
            "Best match: scipy 0.19.1\n",
            "Adding scipy 0.19.1 to easy-install.pth file\n",
            "\n",
            "Using /usr/local/lib/python3.6/dist-packages\n",
            "Searching for numpy==1.14.3\n",
            "Best match: numpy 1.14.3\n",
            "Adding numpy 1.14.3 to easy-install.pth file\n",
            "\n",
            "Using /usr/local/lib/python3.6/dist-packages\n",
            "Searching for six==1.11.0\n",
            "Best match: six 1.11.0\n",
            "Adding six 1.11.0 to easy-install.pth file\n",
            "\n",
            "Using /usr/local/lib/python3.6/dist-packages\n",
            "Finished processing dependencies for implicit==0.3.6\n"
          ],
          "name": "stdout"
        }
      ]
    },
    {
      "metadata": {
        "id": "DV33__yLdInY",
        "colab_type": "code",
        "colab": {
          "autoexec": {
            "startup": false,
            "wait_interval": 0
          },
          "base_uri": "https://localhost:8080/",
          "height": 52
        },
        "outputId": "cde81a85-f490-489a-ef5e-c2575c4f799f",
        "executionInfo": {
          "status": "ok",
          "timestamp": 1528824010807,
          "user_tz": -180,
          "elapsed": 1798,
          "user": {
            "displayName": "Max Minenko",
            "photoUrl": "https://lh3.googleusercontent.com/a/default-user=s128",
            "userId": "109736211463040468281"
          }
        }
      },
      "cell_type": "code",
      "source": [
        "# чтобы дальше работать с пакетом, нужно выбрать в меню \"Runtime->Restart runtime...\"\n",
        "from scipy.sparse import csr_matrix\n",
        "from implicit.als import AlternatingLeastSquares\n",
        "import os\n",
        "\n",
        "os.environ[\"OPENBLAS_NUM_THREADS\"] = \"1\"\n",
        "als = AlternatingLeastSquares(use_gpu=True)\n",
        "item_users = csr_matrix([[1, 2], [3, 4]])\n",
        "als.fit(item_users)"
      ],
      "execution_count": 1,
      "outputs": [
        {
          "output_type": "stream",
          "text": [
            "GPU training requires factor size to be a multiple of 32. Increasing factors from 100 to 128.\n",
            "100%|██████████| 15.0/15 [00:00<00:00, 952.00it/s]\n"
          ],
          "name": "stderr"
        }
      ]
    },
    {
      "metadata": {
        "id": "y7xSGqUaj_mi",
        "colab_type": "code",
        "colab": {
          "autoexec": {
            "startup": false,
            "wait_interval": 0
          }
        }
      },
      "cell_type": "code",
      "source": [
        ""
      ],
      "execution_count": 0,
      "outputs": []
    },
    {
      "metadata": {
        "id": "Zf9L-RsalPKW",
        "colab_type": "text"
      },
      "cell_type": "markdown",
      "source": [
        "## Загрузка и обработка данных"
      ]
    },
    {
      "metadata": {
        "id": "wf4kWVoorsWx",
        "colab_type": "code",
        "colab": {
          "autoexec": {
            "startup": false,
            "wait_interval": 0
          }
        }
      },
      "cell_type": "code",
      "source": [
        "#from google.colab import files\n",
        "#uploaded = files.upload()\n",
        "#for fn in uploaded.keys():\n",
        "#  print('User uploaded file \"{name}\" with length {length} bytes'.format(\n",
        "#      name=fn, length=len(uploaded[fn])))"
      ],
      "execution_count": 0,
      "outputs": []
    },
    {
      "metadata": {
        "id": "mxIBiSXtwLeg",
        "colab_type": "code",
        "colab": {
          "autoexec": {
            "startup": false,
            "wait_interval": 0
          }
        }
      },
      "cell_type": "code",
      "source": [
        "#!ls -l"
      ],
      "execution_count": 0,
      "outputs": []
    },
    {
      "metadata": {
        "id": "EaKYS3C3veb5",
        "colab_type": "code",
        "colab": {
          "autoexec": {
            "startup": false,
            "wait_interval": 0
          }
        }
      },
      "cell_type": "code",
      "source": [
        "#from scipy.sparse import load_npz\n",
        "\n",
        "# загружаем заранее подготовленные данные\n",
        "#user_item_matrix = load_npz(\"./user_item_lastfm.npz\")"
      ],
      "execution_count": 0,
      "outputs": []
    },
    {
      "metadata": {
        "id": "Q58Huc12wvBW",
        "colab_type": "code",
        "colab": {
          "autoexec": {
            "startup": false,
            "wait_interval": 0
          }
        }
      },
      "cell_type": "code",
      "source": [
        "#user_item_matrix"
      ],
      "execution_count": 0,
      "outputs": []
    },
    {
      "metadata": {
        "id": "e42FuO5Z7h2o",
        "colab_type": "code",
        "colab": {
          "autoexec": {
            "startup": false,
            "wait_interval": 0
          },
          "base_uri": "https://localhost:8080/",
          "height": 34
        },
        "outputId": "3c596d97-d9bd-45c5-8983-992dfb882fc8",
        "executionInfo": {
          "status": "ok",
          "timestamp": 1528824028015,
          "user_tz": -180,
          "elapsed": 8694,
          "user": {
            "displayName": "Max Minenko",
            "photoUrl": "https://lh3.googleusercontent.com/a/default-user=s128",
            "userId": "109736211463040468281"
          }
        }
      },
      "cell_type": "code",
      "source": [
        "#воспользуемся датасетом lastfm из implicit в CSR формате\n",
        "from implicit.datasets.lastfm import get_lastfm\n",
        "artists, users, plays = get_lastfm()"
      ],
      "execution_count": 2,
      "outputs": [
        {
          "output_type": "stream",
          "text": [
            "184MB [00:07, 23.8MB/s]                           \n"
          ],
          "name": "stderr"
        }
      ]
    },
    {
      "metadata": {
        "id": "Ob2Iywkc7rfa",
        "colab_type": "code",
        "colab": {
          "autoexec": {
            "startup": false,
            "wait_interval": 0
          },
          "base_uri": "https://localhost:8080/",
          "height": 34
        },
        "outputId": "d93a8ed4-f4b4-4d3a-af8f-dd35bbce944a",
        "executionInfo": {
          "status": "ok",
          "timestamp": 1528824031446,
          "user_tz": -180,
          "elapsed": 559,
          "user": {
            "displayName": "Max Minenko",
            "photoUrl": "https://lh3.googleusercontent.com/a/default-user=s128",
            "userId": "109736211463040468281"
          }
        }
      },
      "cell_type": "code",
      "source": [
        "len(artists), len(users)"
      ],
      "execution_count": 3,
      "outputs": [
        {
          "output_type": "execute_result",
          "data": {
            "text/plain": [
              "(292385, 358868)"
            ]
          },
          "metadata": {
            "tags": []
          },
          "execution_count": 3
        }
      ]
    },
    {
      "metadata": {
        "id": "8yjdEVEj6g-q",
        "colab_type": "code",
        "colab": {
          "autoexec": {
            "startup": false,
            "wait_interval": 0
          },
          "base_uri": "https://localhost:8080/",
          "height": 52
        },
        "outputId": "923bdb4a-8a08-479c-b07a-e97048afce2f",
        "executionInfo": {
          "status": "ok",
          "timestamp": 1528824034990,
          "user_tz": -180,
          "elapsed": 718,
          "user": {
            "displayName": "Max Minenko",
            "photoUrl": "https://lh3.googleusercontent.com/a/default-user=s128",
            "userId": "109736211463040468281"
          }
        }
      },
      "cell_type": "code",
      "source": [
        "plays"
      ],
      "execution_count": 4,
      "outputs": [
        {
          "output_type": "execute_result",
          "data": {
            "text/plain": [
              "<292385x358868 sparse matrix of type '<class 'numpy.float32'>'\n",
              "\twith 17535606 stored elements in Compressed Sparse Row format>"
            ]
          },
          "metadata": {
            "tags": []
          },
          "execution_count": 4
        }
      ]
    },
    {
      "metadata": {
        "id": "BdMxcO3yJCB-",
        "colab_type": "code",
        "colab": {
          "autoexec": {
            "startup": false,
            "wait_interval": 0
          }
        }
      },
      "cell_type": "code",
      "source": [
        "#т.к. CSR формат не поддерживает fancy индексирование, то пеереведем в COO и транспонируем для дальнейшего разбиения на обучающую и тестовые матрицы\n",
        "user_item_matrix = plays.tocoo().T"
      ],
      "execution_count": 0,
      "outputs": []
    },
    {
      "metadata": {
        "id": "uxT8OQCnKyue",
        "colab_type": "code",
        "colab": {
          "autoexec": {
            "startup": false,
            "wait_interval": 0
          }
        }
      },
      "cell_type": "code",
      "source": [
        "#освободим память\n",
        "del artists, users, plays"
      ],
      "execution_count": 0,
      "outputs": []
    },
    {
      "metadata": {
        "id": "j4jKz1i1Jpu_",
        "colab_type": "code",
        "colab": {
          "autoexec": {
            "startup": false,
            "wait_interval": 0
          },
          "base_uri": "https://localhost:8080/",
          "height": 52
        },
        "outputId": "53f8a0e8-effe-49af-9c47-5fd59590fa11",
        "executionInfo": {
          "status": "ok",
          "timestamp": 1528824043258,
          "user_tz": -180,
          "elapsed": 669,
          "user": {
            "displayName": "Max Minenko",
            "photoUrl": "https://lh3.googleusercontent.com/a/default-user=s128",
            "userId": "109736211463040468281"
          }
        }
      },
      "cell_type": "code",
      "source": [
        "user_item_matrix"
      ],
      "execution_count": 7,
      "outputs": [
        {
          "output_type": "execute_result",
          "data": {
            "text/plain": [
              "<358868x292385 sparse matrix of type '<class 'numpy.float32'>'\n",
              "\twith 17535606 stored elements in COOrdinate format>"
            ]
          },
          "metadata": {
            "tags": []
          },
          "execution_count": 7
        }
      ]
    },
    {
      "metadata": {
        "id": "B1Dg6ldrwguu",
        "colab_type": "code",
        "colab": {
          "autoexec": {
            "startup": false,
            "wait_interval": 0
          }
        }
      },
      "cell_type": "code",
      "source": [
        "import numpy as np\n",
        "\n",
        "# делим разреженную матрицу на обучающую и тестовую\n",
        "total_len = user_item_matrix.data.size\n",
        "train_len = int(total_len * 0.8)\n",
        "all_indices = np.arange(total_len)\n",
        "np.random.seed(42)\n",
        "train_indices = np.random.choice(all_indices, train_len, replace=False)\n",
        "train_mask = np.in1d(all_indices, train_indices)"
      ],
      "execution_count": 0,
      "outputs": []
    },
    {
      "metadata": {
        "id": "GoGSWc1wyMuu",
        "colab_type": "code",
        "colab": {
          "autoexec": {
            "startup": false,
            "wait_interval": 0
          },
          "base_uri": "https://localhost:8080/",
          "height": 86
        },
        "outputId": "ca028720-7da4-4136-8c06-9cb0d42eddb8",
        "executionInfo": {
          "status": "ok",
          "timestamp": 1528824059149,
          "user_tz": -180,
          "elapsed": 754,
          "user": {
            "displayName": "Max Minenko",
            "photoUrl": "https://lh3.googleusercontent.com/a/default-user=s128",
            "userId": "109736211463040468281"
          }
        }
      },
      "cell_type": "code",
      "source": [
        "print(all_indices)\n",
        "print(train_indices)\n",
        "print(train_mask)\n",
        "print(len(train_mask))"
      ],
      "execution_count": 9,
      "outputs": [
        {
          "output_type": "stream",
          "text": [
            "[       0        1        2 ... 17535603 17535604 17535605]\n",
            "[ 2169573  6534920 15970232 ...   466581 15749026 15114794]\n",
            "[ True False  True ... False  True  True]\n",
            "17535606\n"
          ],
          "name": "stdout"
        }
      ]
    },
    {
      "metadata": {
        "id": "wJj_kaSEw6BZ",
        "colab_type": "code",
        "colab": {
          "autoexec": {
            "startup": false,
            "wait_interval": 0
          }
        }
      },
      "cell_type": "code",
      "source": [
        "from scipy.sparse import coo_matrix\n",
        "\n",
        "def get_masked(arr, mask):\n",
        "    return coo_matrix(\n",
        "        (\n",
        "            [np.float32(item) for item in arr.data[mask]],\n",
        "            (arr.row[mask], arr.col[mask])\n",
        "        ),\n",
        "        arr.shape\n",
        "    )"
      ],
      "execution_count": 0,
      "outputs": []
    },
    {
      "metadata": {
        "id": "dk_HSKB8xCYd",
        "colab_type": "code",
        "colab": {
          "autoexec": {
            "startup": false,
            "wait_interval": 0
          }
        }
      },
      "cell_type": "code",
      "source": [
        "train_csr = get_masked(user_item_matrix, train_mask).tocsr()\n",
        "# для обучения нужна item*user матрица\n",
        "train = train_csr.T\n",
        "test_coo = get_masked(user_item_matrix, ~train_mask)\n",
        "test_csr = test_coo.tocsr()"
      ],
      "execution_count": 0,
      "outputs": []
    },
    {
      "metadata": {
        "id": "SMqQvXZcq1YA",
        "colab_type": "text"
      },
      "cell_type": "markdown",
      "source": [
        "## Модели"
      ]
    },
    {
      "metadata": {
        "id": "racuxSSDrBYU",
        "colab_type": "text"
      },
      "cell_type": "markdown",
      "source": [
        "Для сравнения времени обучения и предсказания используем одинаковые параметры ALS.\n"
      ]
    },
    {
      "metadata": {
        "id": "G_BzPTiCyZNV",
        "colab_type": "text"
      },
      "cell_type": "markdown",
      "source": [
        "### ALS"
      ]
    },
    {
      "metadata": {
        "id": "W3AZbHaQ55cr",
        "colab_type": "code",
        "colab": {
          "autoexec": {
            "startup": false,
            "wait_interval": 0
          }
        }
      },
      "cell_type": "code",
      "source": [
        "os.environ[\"OPENBLAS_NUM_THREADS\"] = \"1\"\n",
        "#Параметры ALS\n",
        "n_factors = 256\n",
        "n_iterations=15\n",
        "n_users = 1000\n",
        "regularization=0.2\n"
      ],
      "execution_count": 0,
      "outputs": []
    },
    {
      "metadata": {
        "id": "wowuDY9OgqCA",
        "colab_type": "code",
        "colab": {
          "autoexec": {
            "startup": false,
            "wait_interval": 0
          }
        }
      },
      "cell_type": "code",
      "source": [
        "users = list(set(test_coo.row))\n",
        "users = users[:n_users] #уменьшим количество пользователей на тестовой выборке"
      ],
      "execution_count": 0,
      "outputs": []
    },
    {
      "metadata": {
        "id": "4xBau7A_gv61",
        "colab_type": "code",
        "colab": {
          "autoexec": {
            "startup": false,
            "wait_interval": 0
          }
        }
      },
      "cell_type": "code",
      "source": [
        "def hitrate(k, recs, users):\n",
        "    hits = 0\n",
        "    for user in users:\n",
        "        if recs[user]:\n",
        "            rec_items, _ = zip(*recs[user])\n",
        "            hits += len(set(rec_items[:k]).intersection(set(test_csr[user].indices))) > 0\n",
        "    return hits / len(users)\n",
        "  \n",
        "def precision(k, recs, users):\n",
        "  num_users = 0\n",
        "  sum_user_prec = .0\n",
        "  for user in users:\n",
        "    if recs[user]:\n",
        "      num_users += 1\n",
        "      rec_items, _ = zip(*recs[user])\n",
        "      user_prec = float(len(set(rec_items[:k]).intersection(set(test_csr[user].indices)))) / k\n",
        "      sum_user_prec += user_prec\n",
        "  return sum_user_prec / num_users \n",
        "\n",
        "def get_recs(users, model):\n",
        "    return {\n",
        "        user: model.recommend(userid=user, user_items=train_csr, N=50)\n",
        "        for user in users\n",
        "    }"
      ],
      "execution_count": 0,
      "outputs": []
    },
    {
      "metadata": {
        "id": "d8NtU1l4yHBF",
        "colab_type": "code",
        "colab": {
          "autoexec": {
            "startup": false,
            "wait_interval": 0
          },
          "base_uri": "https://localhost:8080/",
          "height": 1128
        },
        "outputId": "9da9c357-d5bc-4f93-f9da-6ae85b17ee73"
      },
      "cell_type": "code",
      "source": [
        "%%time\n",
        "\n",
        "als = AlternatingLeastSquares(\n",
        "    factors=n_factors,\n",
        "    iterations=n_iterations,\n",
        "    regularization=regularization,\n",
        "    use_gpu=True\n",
        ")\n",
        "als.fit(train)\n",
        "\n",
        "# посчитаем по 50 рекомендаций для каждого пользователя из тестовой выборки\n",
        "recs = get_recs(users, als)\n",
        "  \n"
      ],
      "execution_count": 0,
      "outputs": [
        {
          "output_type": "stream",
          "text": [
            "\n",
            "\n",
            "  0%|          | 0/15 [00:00<?, ?it/s]\u001b[A\u001b[A\n",
            "\n",
            "  3%|▎         | 0.5/15 [00:02<01:25,  5.93s/it]\u001b[A\u001b[A\n",
            "\n",
            "  7%|▋         | 1.0/15 [00:05<01:22,  5.91s/it]\u001b[A\u001b[A\n",
            "\n",
            " 10%|█         | 1.5/15 [00:08<01:18,  5.84s/it]\u001b[A\u001b[A\n",
            "\n",
            " 13%|█▎        | 2.0/15 [00:11<01:16,  5.86s/it]\u001b[A\u001b[A\n",
            "\n",
            " 17%|█▋        | 2.5/15 [00:14<01:12,  5.80s/it]\u001b[A\u001b[A\n",
            "\n",
            " 20%|██        | 3.0/15 [00:17<01:10,  5.85s/it]\u001b[A\u001b[A\n",
            "\n",
            " 23%|██▎       | 3.5/15 [00:20<01:06,  5.80s/it]\u001b[A\u001b[A\n",
            "\n",
            " 27%|██▋       | 4.0/15 [00:23<01:04,  5.84s/it]\u001b[A\u001b[A\n",
            "\n",
            " 30%|███       | 4.5/15 [00:26<01:00,  5.79s/it]\u001b[A\u001b[A\n",
            "\n",
            " 33%|███▎      | 5.0/15 [00:29<00:58,  5.82s/it]\u001b[A\u001b[A\n",
            "\n",
            " 37%|███▋      | 5.5/15 [00:31<00:54,  5.78s/it]\u001b[A\u001b[A\n",
            "\n",
            " 40%|████      | 6.0/15 [00:34<00:52,  5.83s/it]\u001b[A\u001b[A\n",
            "\n",
            " 43%|████▎     | 6.5/15 [00:37<00:49,  5.81s/it]\u001b[A\u001b[A\n",
            "\n",
            " 47%|████▋     | 7.0/15 [00:40<00:46,  5.85s/it]\u001b[A\u001b[A\n",
            "\n",
            " 50%|█████     | 7.5/15 [00:43<00:43,  5.83s/it]\u001b[A\u001b[A\n",
            "\n",
            " 53%|█████▎    | 8.0/15 [00:46<00:40,  5.85s/it]\u001b[A\u001b[A\n",
            "\n",
            " 57%|█████▋    | 8.5/15 [00:49<00:37,  5.82s/it]\u001b[A\u001b[A\n",
            "\n",
            " 60%|██████    | 9.0/15 [00:52<00:35,  5.86s/it]\u001b[A\u001b[A\n",
            "\n",
            " 63%|██████▎   | 9.5/15 [00:55<00:32,  5.82s/it]\u001b[A\u001b[A\n",
            "\n",
            " 67%|██████▋   | 10.0/15 [00:58<00:29,  5.86s/it]\u001b[A\u001b[A\n",
            "\n",
            " 70%|███████   | 10.5/15 [01:01<00:26,  5.83s/it]\u001b[A\u001b[A\n",
            "\n",
            " 73%|███████▎  | 11.0/15 [01:04<00:23,  5.87s/it]\u001b[A\u001b[A\n",
            "\n",
            " 77%|███████▋  | 11.5/15 [01:07<00:20,  5.83s/it]\u001b[A\u001b[A\n",
            "\n",
            " 80%|████████  | 12.0/15 [01:10<00:17,  5.86s/it]\u001b[A\u001b[A\n",
            "\n",
            " 83%|████████▎ | 12.5/15 [01:12<00:14,  5.83s/it]\u001b[A\u001b[A\n",
            "\n",
            " 87%|████████▋ | 13.0/15 [01:15<00:11,  5.87s/it]\u001b[A\u001b[A\n",
            "\n",
            " 90%|█████████ | 13.5/15 [01:18<00:08,  5.85s/it]\u001b[A\u001b[A\n",
            "\n",
            " 93%|█████████▎| 14.0/15 [01:21<00:05,  5.89s/it]\u001b[A\u001b[A\n",
            "\n",
            " 97%|█████████▋| 14.5/15 [01:24<00:02,  5.85s/it]\u001b[A\u001b[A\n",
            "\n",
            "100%|██████████| 15.0/15 [01:27<00:00,  5.89s/it]\u001b[A\u001b[A\n",
            "\n",
            "\u001b[A\u001b[A"
          ],
          "name": "stderr"
        }
      ]
    },
    {
      "metadata": {
        "id": "znkLlVDeiI3X",
        "colab_type": "code",
        "colab": {
          "autoexec": {
            "startup": false,
            "wait_interval": 0
          },
          "base_uri": "https://localhost:8080/",
          "height": 52
        },
        "outputId": "4de3d2d3-33b9-4c03-a68f-868fa497a480",
        "executionInfo": {
          "status": "ok",
          "timestamp": 1528833150569,
          "user_tz": -180,
          "elapsed": 537,
          "user": {
            "displayName": "Max Minenko",
            "photoUrl": "https://lh3.googleusercontent.com/a/default-user=s128",
            "userId": "109736211463040468281"
          }
        }
      },
      "cell_type": "code",
      "source": [
        "print(\"hitrate@50:\", hitrate(50, recs, users))\n",
        "print(\"precision@50:\", precision(50, recs, users))"
      ],
      "execution_count": 121,
      "outputs": [
        {
          "output_type": "stream",
          "text": [
            "hitrate@50: 0.94\n",
            "precision@50: 0.06719999999999997\n"
          ],
          "name": "stdout"
        }
      ]
    },
    {
      "metadata": {
        "id": "pzAg0cpnigxi",
        "colab_type": "text"
      },
      "cell_type": "markdown",
      "source": [
        "### ALS Annoy"
      ]
    },
    {
      "metadata": {
        "id": "dLmU64qloCSj",
        "colab_type": "code",
        "colab": {
          "autoexec": {
            "startup": false,
            "wait_interval": 0
          }
        }
      },
      "cell_type": "code",
      "source": [
        "!pip install annoy"
      ],
      "execution_count": 0,
      "outputs": []
    },
    {
      "metadata": {
        "id": "MKyhsTJ9j2fa",
        "colab_type": "code",
        "colab": {
          "autoexec": {
            "startup": false,
            "wait_interval": 0
          }
        }
      },
      "cell_type": "code",
      "source": [
        "from implicit.approximate_als import AnnoyAlternatingLeastSquares\n"
      ],
      "execution_count": 0,
      "outputs": []
    },
    {
      "metadata": {
        "id": "_GlS5ek3ilNG",
        "colab_type": "code",
        "colab": {
          "autoexec": {
            "startup": false,
            "wait_interval": 0
          },
          "base_uri": "https://localhost:8080/",
          "height": 2205
        },
        "outputId": "d37654a1-f79a-4651-b57f-f2732257b572",
        "executionInfo": {
          "status": "ok",
          "timestamp": 1528831717163,
          "user_tz": -180,
          "elapsed": 288311,
          "user": {
            "displayName": "Max Minenko",
            "photoUrl": "https://lh3.googleusercontent.com/a/default-user=s128",
            "userId": "109736211463040468281"
          }
        }
      },
      "cell_type": "code",
      "source": [
        "%%time\n",
        "\n",
        "\n",
        "als_annoy = AnnoyAlternatingLeastSquares(\n",
        "    factors=n_factors,\n",
        "    iterations=n_iterations,\n",
        "    regularization=regularization\n",
        ")\n",
        "als_annoy.fit(train)\n",
        "\n",
        "# посчитаем по 50 рекомендаций для каждого пользователя из тестовой выборки\n",
        "recs_annoy = get_recs(users, als_annoy)\n",
        "\n"
      ],
      "execution_count": 84,
      "outputs": [
        {
          "output_type": "stream",
          "text": [
            "\n",
            "\n",
            "  0%|          | 0/30 [00:00<?, ?it/s]\u001b[A\u001b[A\n",
            "\n",
            "  2%|▏         | 0.5/30 [00:02<02:26,  4.96s/it]\u001b[A\u001b[A\n",
            "\n",
            "  3%|▎         | 1.0/30 [00:05<02:25,  5.01s/it]\u001b[A\u001b[A\n",
            "\n",
            "  5%|▌         | 1.5/30 [00:07<02:20,  4.92s/it]\u001b[A\u001b[A\n",
            "\n",
            "  7%|▋         | 2.0/30 [00:10<02:19,  5.00s/it]\u001b[A\u001b[A\n",
            "\n",
            "  8%|▊         | 2.5/30 [00:12<02:15,  4.92s/it]\u001b[A\u001b[A\n",
            "\n",
            " 10%|█         | 3.0/30 [00:14<02:14,  4.99s/it]\u001b[A\u001b[A\n",
            "\n",
            " 12%|█▏        | 3.5/30 [00:17<02:10,  4.93s/it]\u001b[A\u001b[A\n",
            "\n",
            " 13%|█▎        | 4.0/30 [00:19<02:09,  5.00s/it]\u001b[A\u001b[A\n",
            "\n",
            " 15%|█▌        | 4.5/30 [00:22<02:05,  4.94s/it]\u001b[A\u001b[A\n",
            "\n",
            " 17%|█▋        | 5.0/30 [00:24<02:05,  5.01s/it]\u001b[A\u001b[A\n",
            "\n",
            " 18%|█▊        | 5.5/30 [00:27<02:01,  4.95s/it]\u001b[A\u001b[A\n",
            "\n",
            " 20%|██        | 6.0/30 [00:29<02:00,  5.03s/it]\u001b[A\u001b[A\n",
            "\n",
            " 22%|██▏       | 6.5/30 [00:32<01:56,  4.96s/it]\u001b[A\u001b[A\n",
            "\n",
            " 23%|██▎       | 7.0/30 [00:34<01:55,  5.03s/it]\u001b[A\u001b[A\n",
            "\n",
            " 25%|██▌       | 7.5/30 [00:37<01:51,  4.96s/it]\u001b[A\u001b[A\n",
            "\n",
            " 27%|██▋       | 8.0/30 [00:39<01:50,  5.04s/it]\u001b[A\u001b[A\n",
            "\n",
            " 28%|██▊       | 8.5/30 [00:42<01:46,  4.97s/it]\u001b[A\u001b[A\n",
            "\n",
            " 30%|███       | 9.0/30 [00:44<01:46,  5.05s/it]\u001b[A\u001b[A\n",
            "\n",
            " 32%|███▏      | 9.5/30 [00:47<01:42,  4.98s/it]\u001b[A\u001b[A\n",
            "\n",
            " 33%|███▎      | 10.0/30 [00:49<01:41,  5.06s/it]\u001b[A\u001b[A\n",
            "\n",
            " 35%|███▌      | 10.5/30 [00:52<01:37,  4.99s/it]\u001b[A\u001b[A\n",
            "\n",
            " 37%|███▋      | 11.0/30 [00:55<01:36,  5.07s/it]\u001b[A\u001b[A\n",
            "\n",
            " 38%|███▊      | 11.5/30 [00:57<01:32,  5.01s/it]\u001b[A\u001b[A\n",
            "\n",
            " 40%|████      | 12.0/30 [01:00<01:31,  5.09s/it]\u001b[A\u001b[A\n",
            "\n",
            " 42%|████▏     | 12.5/30 [01:02<01:27,  5.02s/it]\u001b[A\u001b[A\n",
            "\n",
            " 43%|████▎     | 13.0/30 [01:05<01:26,  5.10s/it]\u001b[A\u001b[A\n",
            "\n",
            " 45%|████▌     | 13.5/30 [01:07<01:23,  5.03s/it]\u001b[A\u001b[A\n",
            "\n",
            " 47%|████▋     | 14.0/30 [01:10<01:21,  5.10s/it]\u001b[A\u001b[A\n",
            "\n",
            " 48%|████▊     | 14.5/30 [01:12<01:17,  5.02s/it]\u001b[A\u001b[A\n",
            "\n",
            " 50%|█████     | 15.0/30 [01:15<01:16,  5.09s/it]\u001b[A\u001b[A\n",
            "\n",
            " 52%|█████▏    | 15.5/30 [01:17<01:12,  5.03s/it]\u001b[A\u001b[A\n",
            "\n",
            " 53%|█████▎    | 16.0/30 [01:20<01:11,  5.10s/it]\u001b[A\u001b[A\n",
            "\n",
            " 55%|█████▌    | 16.5/30 [01:22<01:08,  5.04s/it]\u001b[A\u001b[A\n",
            "\n"
          ],
          "name": "stderr"
        },
        {
          "output_type": "stream",
          "text": [
            "\r 57%|█████▋    | 17.0/30 [01:25<01:06,  5.10s/it]\u001b[A\u001b[A\n",
            "\n",
            " 58%|█████▊    | 17.5/30 [01:27<01:02,  5.03s/it]\u001b[A\u001b[A\n",
            "\n",
            " 60%|██████    | 18.0/30 [01:30<01:01,  5.10s/it]\u001b[A\u001b[A\n",
            "\n",
            " 62%|██████▏   | 18.5/30 [01:32<00:57,  5.04s/it]\u001b[A\u001b[A\n",
            "\n",
            " 63%|██████▎   | 19.0/30 [01:35<00:56,  5.10s/it]\u001b[A\u001b[A\n",
            "\n",
            " 65%|██████▌   | 19.5/30 [01:38<00:52,  5.04s/it]\u001b[A\u001b[A\n",
            "\n",
            " 67%|██████▋   | 20.0/30 [01:40<00:51,  5.11s/it]\u001b[A\u001b[A\n",
            "\n",
            " 68%|██████▊   | 20.5/30 [01:43<00:47,  5.04s/it]\u001b[A\u001b[A\n",
            "\n",
            " 70%|███████   | 21.0/30 [01:45<00:45,  5.09s/it]\u001b[A\u001b[A\n",
            "\n",
            " 72%|███████▏  | 21.5/30 [01:48<00:42,  5.03s/it]\u001b[A\u001b[A\n",
            "\n",
            " 73%|███████▎  | 22.0/30 [01:50<00:40,  5.09s/it]\u001b[A\u001b[A\n",
            "\n",
            " 75%|███████▌  | 22.5/30 [01:53<00:37,  5.02s/it]\u001b[A\u001b[A\n",
            "\n",
            " 77%|███████▋  | 23.0/30 [01:55<00:35,  5.08s/it]\u001b[A\u001b[A\n",
            "\n",
            " 78%|███████▊  | 23.5/30 [01:58<00:32,  5.01s/it]\u001b[A\u001b[A\n",
            "\n",
            " 80%|████████  | 24.0/30 [02:00<00:30,  5.07s/it]\u001b[A\u001b[A\n",
            "\n",
            " 82%|████████▏ | 24.5/30 [02:03<00:27,  5.00s/it]\u001b[A\u001b[A\n",
            "\n",
            " 83%|████████▎ | 25.0/30 [02:05<00:25,  5.07s/it]\u001b[A\u001b[A\n",
            "\n",
            " 85%|████████▌ | 25.5/30 [02:08<00:22,  5.00s/it]\u001b[A\u001b[A\n",
            "\n",
            " 87%|████████▋ | 26.0/30 [02:10<00:20,  5.09s/it]\u001b[A\u001b[A\n",
            "\n",
            " 88%|████████▊ | 26.5/30 [02:13<00:17,  5.03s/it]\u001b[A\u001b[A\n",
            "\n",
            " 90%|█████████ | 27.0/30 [02:15<00:15,  5.10s/it]\u001b[A\u001b[A\n",
            "\n",
            " 92%|█████████▏| 27.5/30 [02:18<00:12,  5.03s/it]\u001b[A\u001b[A\n",
            "\n",
            " 93%|█████████▎| 28.0/30 [02:21<00:10,  5.10s/it]\u001b[A\u001b[A\n",
            "\n",
            " 95%|█████████▌| 28.5/30 [02:23<00:07,  5.03s/it]\u001b[A\u001b[A\n",
            "\n",
            " 97%|█████████▋| 29.0/30 [02:26<00:05,  5.09s/it]\u001b[A\u001b[A\n",
            "\n",
            " 98%|█████████▊| 29.5/30 [02:28<00:02,  5.02s/it]\u001b[A\u001b[A\n",
            "\n",
            "100%|██████████| 30.0/30 [02:31<00:00,  5.09s/it]\u001b[A\u001b[A\n",
            "\n",
            "\u001b[A\u001b[A"
          ],
          "name": "stderr"
        },
        {
          "output_type": "stream",
          "text": [
            "CPU times: user 2min 55s, sys: 1min 52s, total: 4min 47s\n",
            "Wall time: 4min 47s\n"
          ],
          "name": "stdout"
        }
      ]
    },
    {
      "metadata": {
        "id": "-gpOGoitlFhw",
        "colab_type": "code",
        "colab": {
          "autoexec": {
            "startup": false,
            "wait_interval": 0
          },
          "base_uri": "https://localhost:8080/",
          "height": 52
        },
        "outputId": "26d87f7c-fe51-4369-e9e6-c4084989a1a4",
        "executionInfo": {
          "status": "ok",
          "timestamp": 1528831719036,
          "user_tz": -180,
          "elapsed": 1766,
          "user": {
            "displayName": "Max Minenko",
            "photoUrl": "https://lh3.googleusercontent.com/a/default-user=s128",
            "userId": "109736211463040468281"
          }
        }
      },
      "cell_type": "code",
      "source": [
        "print(\"hitrate@50:\", hitrate(50, recs_annoy, users))\n",
        "print(\"precision@50:\", precision(50, recs_annoy, users))"
      ],
      "execution_count": 85,
      "outputs": [
        {
          "output_type": "stream",
          "text": [
            "CPU times: user 1.15 s, sys: 32 ms, total: 1.18 s\n",
            "Wall time: 1.19 s\n"
          ],
          "name": "stdout"
        }
      ]
    },
    {
      "metadata": {
        "id": "FuQgSz0yixwr",
        "colab_type": "text"
      },
      "cell_type": "markdown",
      "source": [
        "### ALS NMSLib"
      ]
    },
    {
      "metadata": {
        "id": "ihhVx0-ro_TH",
        "colab_type": "code",
        "colab": {
          "autoexec": {
            "startup": false,
            "wait_interval": 0
          }
        }
      },
      "cell_type": "code",
      "source": [
        "!pip install nmslib"
      ],
      "execution_count": 0,
      "outputs": []
    },
    {
      "metadata": {
        "id": "3R14gewLi6Ai",
        "colab_type": "code",
        "colab": {
          "autoexec": {
            "startup": false,
            "wait_interval": 0
          }
        }
      },
      "cell_type": "code",
      "source": [
        "from implicit.approximate_als import NMSLibAlternatingLeastSquares"
      ],
      "execution_count": 0,
      "outputs": []
    },
    {
      "metadata": {
        "id": "OlhVVdcokbkm",
        "colab_type": "code",
        "colab": {
          "autoexec": {
            "startup": false,
            "wait_interval": 0
          },
          "base_uri": "https://localhost:8080/",
          "height": 86
        },
        "outputId": "abe6a35d-5182-40d9-8088-8223b4315efd",
        "executionInfo": {
          "status": "ok",
          "timestamp": 1528829975505,
          "user_tz": -180,
          "elapsed": 342660,
          "user": {
            "displayName": "Max Minenko",
            "photoUrl": "https://lh3.googleusercontent.com/a/default-user=s128",
            "userId": "109736211463040468281"
          }
        }
      },
      "cell_type": "code",
      "source": [
        "%%time\n",
        "\n",
        "als_nms = NMSLibAlternatingLeastSquares(\n",
        "    factors=n_factors,\n",
        "    iterations=n_iterations,\n",
        "    regularization=regularization\n",
        ")\n",
        "als_nms.fit(train)\n",
        "\n",
        "# посчитаем по 50 рекомендаций для каждого пользователя из тестовой выборки\n",
        "recs_nms = get_recs(users, als_nms)"
      ],
      "execution_count": 56,
      "outputs": [
        {
          "output_type": "stream",
          "text": [
            "GPU training requires factor size to be a multiple of 32. Increasing factors from 100 to 128.\n",
            "100%|██████████| 15.0/15 [00:38<00:00,  2.63s/it]\n"
          ],
          "name": "stderr"
        },
        {
          "output_type": "stream",
          "text": [
            "CPU times: user 10min 8s, sys: 29.4 s, total: 10min 38s\n",
            "Wall time: 5min 42s\n"
          ],
          "name": "stdout"
        }
      ]
    },
    {
      "metadata": {
        "id": "RyPdJfZolmPf",
        "colab_type": "code",
        "colab": {
          "autoexec": {
            "startup": false,
            "wait_interval": 0
          },
          "base_uri": "https://localhost:8080/",
          "height": 86
        },
        "outputId": "c19fa680-ff4b-41d4-c999-707163bda590",
        "executionInfo": {
          "status": "ok",
          "timestamp": 1528829989440,
          "user_tz": -180,
          "elapsed": 5748,
          "user": {
            "displayName": "Max Minenko",
            "photoUrl": "https://lh3.googleusercontent.com/a/default-user=s128",
            "userId": "109736211463040468281"
          }
        }
      },
      "cell_type": "code",
      "source": [
        "print(\"hitrate@50:\", hitrate(50, recs_nms, users))\n",
        "print(\"precision@50:\", precision(50, recs_nms, users))\n"
      ],
      "execution_count": 58,
      "outputs": [
        {
          "output_type": "stream",
          "text": [
            "hitrate@50: 0.58305\n",
            "precision@50: 0.03145699999999819\n",
            "CPU times: user 5.23 s, sys: 70 ms, total: 5.3 s\n",
            "Wall time: 5.22 s\n"
          ],
          "name": "stdout"
        }
      ]
    },
    {
      "metadata": {
        "id": "Qfau0hVqipp6",
        "colab_type": "text"
      },
      "cell_type": "markdown",
      "source": [
        "### ALS Faiss"
      ]
    },
    {
      "metadata": {
        "id": "SWxqTXBtVnwH",
        "colab_type": "code",
        "colab": {
          "autoexec": {
            "startup": false,
            "wait_interval": 0
          }
        }
      },
      "cell_type": "code",
      "source": [
        "!wget  https://anaconda.org/pytorch/faiss-gpu/1.2.1/download/linux-64/faiss-gpu-1.2.1-py36_cuda8.0.61_2.tar.bz2\n",
        "!tar xvjf faiss-gpu-1.2.1-py36_cuda8.0.61_2.tar.bz2\n",
        "!cp -r lib/python3.6/site-packages/* /usr/local/lib/python3.6/dist-packages/\n",
        "!pip install mkl"
      ],
      "execution_count": 0,
      "outputs": []
    },
    {
      "metadata": {
        "id": "So-ezwFZixB-",
        "colab_type": "code",
        "colab": {
          "autoexec": {
            "startup": false,
            "wait_interval": 0
          }
        }
      },
      "cell_type": "code",
      "source": [
        "from implicit.approximate_als import FaissAlternatingLeastSquares"
      ],
      "execution_count": 0,
      "outputs": []
    },
    {
      "metadata": {
        "id": "DHdNcv2ckaWO",
        "colab_type": "code",
        "colab": {
          "autoexec": {
            "startup": false,
            "wait_interval": 0
          },
          "base_uri": "https://localhost:8080/",
          "height": 86
        },
        "outputId": "8b2ef346-6b6b-4f49-eea5-e4e6810c9299",
        "executionInfo": {
          "status": "ok",
          "timestamp": 1528830323601,
          "user_tz": -180,
          "elapsed": 81717,
          "user": {
            "displayName": "Max Minenko",
            "photoUrl": "https://lh3.googleusercontent.com/a/default-user=s128",
            "userId": "109736211463040468281"
          }
        }
      },
      "cell_type": "code",
      "source": [
        "%%time\n",
        "\n",
        "# обучимся на дефолтных параметрах\n",
        "als_faiss = FaissAlternatingLeastSquares(\n",
        "    factors=n_factors,\n",
        "    iterations=n_iterations,\n",
        "    regularization=regularization\n",
        "    use_gpu=True\n",
        ")\n",
        "als_faiss.fit(train)\n",
        "%%time\n",
        "# посчитаем по 50 рекомендаций для каждого пользователя из тестовой выборки\n",
        "recs_faiss = get_recs(users, als_faiss)"
      ],
      "execution_count": 61,
      "outputs": [
        {
          "output_type": "stream",
          "text": [
            "GPU training requires factor size to be a multiple of 32. Increasing factors from 100 to 128.\n",
            "100%|██████████| 15.0/15 [00:38<00:00,  2.61s/it]\n"
          ],
          "name": "stderr"
        },
        {
          "output_type": "stream",
          "text": [
            "CPU times: user 51.1 s, sys: 30.2 s, total: 1min 21s\n",
            "Wall time: 1min 21s\n"
          ],
          "name": "stdout"
        }
      ]
    },
    {
      "metadata": {
        "id": "s5973yhrlkrI",
        "colab_type": "code",
        "colab": {
          "autoexec": {
            "startup": false,
            "wait_interval": 0
          },
          "base_uri": "https://localhost:8080/",
          "height": 52
        },
        "outputId": "0c7428e1-2eb4-4249-8514-702141689455",
        "executionInfo": {
          "status": "ok",
          "timestamp": 1528830344437,
          "user_tz": -180,
          "elapsed": 5810,
          "user": {
            "displayName": "Max Minenko",
            "photoUrl": "https://lh3.googleusercontent.com/a/default-user=s128",
            "userId": "109736211463040468281"
          }
        }
      },
      "cell_type": "code",
      "source": [
        "\n",
        "print(\"hitrate@50:\", hitrate(50, recs_faiss, users))\n",
        "print(\"precision@50:\", precision(50, recs_faiss, users))"
      ],
      "execution_count": 63,
      "outputs": [
        {
          "output_type": "stream",
          "text": [
            "hitrate@50: 0.68625\n",
            "precision@50: 0.030159999999997637\n"
          ],
          "name": "stdout"
        }
      ]
    },
    {
      "metadata": {
        "id": "jeesXzxXYx0S",
        "colab_type": "code",
        "colab": {
          "autoexec": {
            "startup": false,
            "wait_interval": 0
          }
        }
      },
      "cell_type": "code",
      "source": [
        ""
      ],
      "execution_count": 0,
      "outputs": []
    }
  ]
}