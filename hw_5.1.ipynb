{
 "cells": [
  {
   "cell_type": "markdown",
   "metadata": {},
   "source": [
    "\n",
    "# Домашнее задание по NLP # 1 [100 баллов]\n",
    "Классификация по тональности\n",
    "\n",
    "В этом домашнем задании вам предстоит классифицировать по тональности отзывы на банки с сайта banki.ru.\n",
    "\n",
    "Данные содержат непосредственно тексты отзывов, некоторую дополнительную информацию, а также оценку по шкале от 1 до 5.\n",
    "\n",
    "Тексты хранятся в json-ах в массиве responses.\n"
   ]
  },
  {
   "cell_type": "markdown",
   "metadata": {},
   "source": [
    "\n",
    "## Часть 1. Анализ текстов [40/100]\n",
    "\n",
    "- Посчитайте количество отзывов в разных городах и на разные банки\n",
    "- Постройте гистограмы длин слов в символах и в словах\n",
    "- Найдите 10 самых частых:\n",
    "  - слов\n",
    "  - слов без стоп-слов\n",
    "  - лемм\n",
    "  - существительных\n",
    "- Постройте кривые Ципфа и Хипса\n",
    "- Ответьте на следующие вопросы:\n",
    "        какое слово встречается чаще, \"сотрудник\" или \"клиент\"?\n",
    "        сколько раз встречается слова \"мошенничество\" и \"доверие\"?\n",
    "- В поле \"rating_grade\" записана оценка отзыва по шкале от 1 до 5. Используйте меру $tf-idf$, для того, чтобы найти ключевые слова и биграмы для положительных отзывов (с оценкой 5) и отрицательных отзывов (с оценкой 1)\n",
    "\n"
   ]
  },
  {
   "cell_type": "code",
   "execution_count": 2,
   "metadata": {
    "ExecuteTime": {
     "end_time": "2018-06-21T01:37:40.448247Z",
     "start_time": "2018-06-21T01:37:38.961676Z"
    }
   },
   "outputs": [],
   "source": [
    "import pandas as pd\n",
    "import numpy as np\n",
    "import matplotlib.pyplot as plt\n",
    "import seaborn as sns; sns.set()\n",
    "%matplotlib inline\n",
    "\n",
    "import re\n",
    "from pymystem3 import Mystem\n",
    "from pymorphy2 import MorphAnalyzer\n",
    "from nltk.stem.snowball import RussianStemmer\n",
    "from nltk import FreqDist\n",
    "from nltk.corpus import stopwords\n",
    "from wordcloud import WordCloud\n",
    "from pprint import pprint\n",
    "\n",
    "import multiprocessing\n"
   ]
  },
  {
   "cell_type": "code",
   "execution_count": 3,
   "metadata": {
    "ExecuteTime": {
     "end_time": "2018-06-21T01:37:40.565992Z",
     "start_time": "2018-06-21T01:37:40.545325Z"
    },
    "slideshow": {
     "slide_type": ""
    }
   },
   "outputs": [],
   "source": [
    "m = Mystem()\n",
    "regex = re.compile(\"[А-Яа-я]+\")\n",
    "mystopwords = stopwords.words('russian') + ['это', 'наш' , 'тыс', 'млн', 'млрд', 'также',  'т', 'д']\n",
    "mystoplemmas = ['который','прошлый','сей', 'свой', 'наш', 'мочь', 'год', 'мой']\n",
    "\n",
    "def words_only(text, regex=regex):\n",
    "    try:\n",
    "        return \" \".join(regex.findall(text))\n",
    "    except:\n",
    "        return \"\"\n",
    "    \n",
    "\n",
    "def lemmatize(text, mystem=m):\n",
    "    try:\n",
    "        return \"\".join(m.lemmatize(text)).strip()  \n",
    "    except:\n",
    "        return \" \"\n",
    "\n",
    "def stemming(text, stemmer = RussianStemmer()):\n",
    "    try:\n",
    "        return \" \".join([stemmer.stem(w) for w in text.split()])\n",
    "    except:\n",
    "        return \" \"\n",
    "\n",
    "def  remove_stopwords(text, mystopwords = mystopwords):\n",
    "    try:\n",
    "        return \" \".join([token for token in text.split() if not token in mystopwords])\n",
    "    except:\n",
    "        return \"\"\n",
    "\n",
    "def  remove_stoplemmas(text, mystoplemmas = mystoplemmas):\n",
    "    try:\n",
    "        return \" \".join([token for token in text.split() if not token in mystoplemmas])\n",
    "    except:\n",
    "        return \"\"\n",
    "    \n",
    "def _apply_df(args):\n",
    "    df, func, num, kwargs = args\n",
    "    return num, df.apply(func, **kwargs)\n",
    "\n",
    "def apply_by_multiprocessing(df,func,**kwargs):\n",
    "    workers=kwargs.pop('workers')\n",
    "    pool = multiprocessing.Pool(processes=workers)\n",
    "    result = pool.map(_apply_df, [(d, func, i, kwargs) for i,d in enumerate(np.array_split(df, workers))])\n",
    "    pool.close()\n",
    "    result=sorted(result,key=lambda x:x[0])\n",
    "    return pd.concat([i[1] for i in result])    "
   ]
  },
  {
   "cell_type": "markdown",
   "metadata": {},
   "source": [
    "#### Чтение и обработка данных"
   ]
  },
  {
   "cell_type": "code",
   "execution_count": 3,
   "metadata": {
    "ExecuteTime": {
     "end_time": "2018-06-18T22:42:51.532432Z",
     "start_time": "2018-06-18T22:41:16.059790Z"
    }
   },
   "outputs": [],
   "source": [
    "df_chunk = pd.read_json('./banki_responses.json.bz2', compression='bz2', lines=True, orient='records', chunksize=1000)\n",
    "df = pd.concat(df_chunk, ignore_index=True)"
   ]
  },
  {
   "cell_type": "code",
   "execution_count": 4,
   "metadata": {
    "ExecuteTime": {
     "end_time": "2018-06-18T22:42:51.785455Z",
     "start_time": "2018-06-18T22:42:51.534908Z"
    }
   },
   "outputs": [],
   "source": [
    "df = df[df['rating_not_checked']==False]"
   ]
  },
  {
   "cell_type": "code",
   "execution_count": 5,
   "metadata": {
    "ExecuteTime": {
     "end_time": "2018-06-18T22:42:51.806731Z",
     "start_time": "2018-06-18T22:42:51.788022Z"
    }
   },
   "outputs": [
    {
     "data": {
      "text/plain": [
       "(153499, 10)"
      ]
     },
     "execution_count": 5,
     "metadata": {},
     "output_type": "execute_result"
    }
   ],
   "source": [
    "df.shape"
   ]
  },
  {
   "cell_type": "code",
   "execution_count": 6,
   "metadata": {
    "ExecuteTime": {
     "end_time": "2018-06-18T22:42:51.840299Z",
     "start_time": "2018-06-18T22:42:51.808691Z"
    }
   },
   "outputs": [
    {
     "data": {
      "text/html": [
       "<div>\n",
       "<style scoped>\n",
       "    .dataframe tbody tr th:only-of-type {\n",
       "        vertical-align: middle;\n",
       "    }\n",
       "\n",
       "    .dataframe tbody tr th {\n",
       "        vertical-align: top;\n",
       "    }\n",
       "\n",
       "    .dataframe thead th {\n",
       "        text-align: right;\n",
       "    }\n",
       "</style>\n",
       "<table border=\"1\" class=\"dataframe\">\n",
       "  <thead>\n",
       "    <tr style=\"text-align: right;\">\n",
       "      <th></th>\n",
       "      <th>author</th>\n",
       "      <th>bank_license</th>\n",
       "      <th>bank_name</th>\n",
       "      <th>city</th>\n",
       "      <th>datetime</th>\n",
       "      <th>num_comments</th>\n",
       "      <th>rating_grade</th>\n",
       "      <th>rating_not_checked</th>\n",
       "      <th>text</th>\n",
       "      <th>title</th>\n",
       "    </tr>\n",
       "  </thead>\n",
       "  <tbody>\n",
       "    <tr>\n",
       "      <th>37904</th>\n",
       "      <td>mam83</td>\n",
       "      <td>лицензия № 2766</td>\n",
       "      <td>ОТП Банк</td>\n",
       "      <td>г. Тула</td>\n",
       "      <td>2014-11-10 13:37:00</td>\n",
       "      <td>2</td>\n",
       "      <td>1.0</td>\n",
       "      <td>False</td>\n",
       "      <td>В октябре через сбербанк-онлайн по ошибке пере...</td>\n",
       "      <td>Банк не возвращает деньги</td>\n",
       "    </tr>\n",
       "    <tr>\n",
       "      <th>179065</th>\n",
       "      <td>ponka</td>\n",
       "      <td>лицензия № 1481</td>\n",
       "      <td>Сбербанк России</td>\n",
       "      <td>г. Самара</td>\n",
       "      <td>2010-07-30 20:37:00</td>\n",
       "      <td>6</td>\n",
       "      <td>1.0</td>\n",
       "      <td>False</td>\n",
       "      <td>17.07.2010 я обратилась в Кировское отделение ...</td>\n",
       "      <td>Надоело</td>\n",
       "    </tr>\n",
       "    <tr>\n",
       "      <th>28316</th>\n",
       "      <td>vnykovat</td>\n",
       "      <td>лицензия № 2289</td>\n",
       "      <td>Русский Стандарт</td>\n",
       "      <td>г. Москва</td>\n",
       "      <td>2014-12-25 00:24:00</td>\n",
       "      <td>1</td>\n",
       "      <td>NaN</td>\n",
       "      <td>False</td>\n",
       "      <td>С 2.12 и ежедневно мне звонил представитель ба...</td>\n",
       "      <td>Непрофессиональность сотрудников банка</td>\n",
       "    </tr>\n",
       "    <tr>\n",
       "      <th>175750</th>\n",
       "      <td>mstik</td>\n",
       "      <td>лицензия № 3279</td>\n",
       "      <td>Национальный Банк «Траст»</td>\n",
       "      <td>г. Москва</td>\n",
       "      <td>2010-12-01 20:51:00</td>\n",
       "      <td>0</td>\n",
       "      <td>1.0</td>\n",
       "      <td>False</td>\n",
       "      <td>01 декабря 2010 г, пришел я в Операционный офи...</td>\n",
       "      <td>Анархия по обслуживанию клиентов</td>\n",
       "    </tr>\n",
       "    <tr>\n",
       "      <th>192845</th>\n",
       "      <td>NightRider</td>\n",
       "      <td>лицензия № 2272</td>\n",
       "      <td>Росбанк</td>\n",
       "      <td>NaN</td>\n",
       "      <td>2008-01-14 14:44:00</td>\n",
       "      <td>4</td>\n",
       "      <td>1.0</td>\n",
       "      <td>False</td>\n",
       "      <td>Для меня загадка, как этот Росбанк еще продолж...</td>\n",
       "      <td>Привет от \"благодарных\" клиентов!</td>\n",
       "    </tr>\n",
       "  </tbody>\n",
       "</table>\n",
       "</div>"
      ],
      "text/plain": [
       "            author     bank_license                  bank_name       city  \\\n",
       "37904        mam83  лицензия № 2766                   ОТП Банк    г. Тула   \n",
       "179065       ponka  лицензия № 1481            Сбербанк России  г. Самара   \n",
       "28316     vnykovat  лицензия № 2289           Русский Стандарт  г. Москва   \n",
       "175750       mstik  лицензия № 3279  Национальный Банк «Траст»  г. Москва   \n",
       "192845  NightRider  лицензия № 2272                    Росбанк        NaN   \n",
       "\n",
       "                  datetime  num_comments  rating_grade  rating_not_checked  \\\n",
       "37904  2014-11-10 13:37:00             2           1.0               False   \n",
       "179065 2010-07-30 20:37:00             6           1.0               False   \n",
       "28316  2014-12-25 00:24:00             1           NaN               False   \n",
       "175750 2010-12-01 20:51:00             0           1.0               False   \n",
       "192845 2008-01-14 14:44:00             4           1.0               False   \n",
       "\n",
       "                                                     text  \\\n",
       "37904   В октябре через сбербанк-онлайн по ошибке пере...   \n",
       "179065  17.07.2010 я обратилась в Кировское отделение ...   \n",
       "28316   С 2.12 и ежедневно мне звонил представитель ба...   \n",
       "175750  01 декабря 2010 г, пришел я в Операционный офи...   \n",
       "192845  Для меня загадка, как этот Росбанк еще продолж...   \n",
       "\n",
       "                                         title  \n",
       "37904                Банк не возвращает деньги  \n",
       "179065                                 Надоело  \n",
       "28316   Непрофессиональность сотрудников банка  \n",
       "175750        Анархия по обслуживанию клиентов  \n",
       "192845       Привет от \"благодарных\" клиентов!  "
      ]
     },
     "execution_count": 6,
     "metadata": {},
     "output_type": "execute_result"
    }
   ],
   "source": [
    "df.sample(5)"
   ]
  },
  {
   "cell_type": "markdown",
   "metadata": {},
   "source": [
    "#### Отзывы по разным готодам и банкам"
   ]
  },
  {
   "cell_type": "code",
   "execution_count": 7,
   "metadata": {
    "ExecuteTime": {
     "end_time": "2018-06-18T22:42:52.307180Z",
     "start_time": "2018-06-18T22:42:51.843471Z"
    }
   },
   "outputs": [
    {
     "data": {
      "text/plain": [
       "сбербанк россии            26327\n",
       "альфа банк                 10224\n",
       "втб 24                      8185\n",
       "русский стандарт            7943\n",
       "хоум кредит банк            7549\n",
       "тинькофф банк               5387\n",
       "национальный банк траст     4607\n",
       "ренессанс кредит            3849\n",
       "связной банк                3775\n",
       "отп банк                    3237\n",
       "Name: bank_name, dtype: int64"
      ]
     },
     "execution_count": 7,
     "metadata": {},
     "output_type": "execute_result"
    }
   ],
   "source": [
    "regex1 = re.compile(\"[А-Яа-я0-9]+\")\n",
    "\n",
    "df['bank_name'].apply(lambda x: words_only(x,regex=regex1)).str.lower().value_counts().head(10)"
   ]
  },
  {
   "cell_type": "code",
   "execution_count": 8,
   "metadata": {
    "ExecuteTime": {
     "end_time": "2018-06-18T22:42:52.729464Z",
     "start_time": "2018-06-18T22:42:52.309492Z"
    }
   },
   "outputs": [
    {
     "data": {
      "text/plain": [
       "г москва             56727\n",
       "                     15174\n",
       "г санкт петербург    14992\n",
       "г новосибирск         2379\n",
       "г екатеринбург        2374\n",
       "г нижний новгород     2035\n",
       "г ростов на дону      2022\n",
       "г самара              1784\n",
       "г челябинск           1551\n",
       "г казань              1515\n",
       "Name: city, dtype: int64"
      ]
     },
     "execution_count": 8,
     "metadata": {},
     "output_type": "execute_result"
    }
   ],
   "source": [
    "df['city'].apply(lambda x: words_only(x,regex=regex1)).str.lower().value_counts().head(10)"
   ]
  },
  {
   "cell_type": "markdown",
   "metadata": {},
   "source": [
    "#### Длина отзывов в словах и символах"
   ]
  },
  {
   "cell_type": "code",
   "execution_count": 9,
   "metadata": {
    "ExecuteTime": {
     "end_time": "2018-06-18T22:42:52.837215Z",
     "start_time": "2018-06-18T22:42:52.733500Z"
    }
   },
   "outputs": [
    {
     "data": {
      "text/plain": [
       "count    153499.000000\n",
       "mean       1554.212790\n",
       "std        1319.098042\n",
       "min          23.000000\n",
       "25%         732.000000\n",
       "50%        1193.000000\n",
       "75%        1929.000000\n",
       "max       32082.000000\n",
       "Name: text, dtype: float64"
      ]
     },
     "execution_count": 9,
     "metadata": {},
     "output_type": "execute_result"
    }
   ],
   "source": [
    "#длина в символах\n",
    "len_chars = df.text.apply(len)\n",
    "len_chars.describe()"
   ]
  },
  {
   "cell_type": "code",
   "execution_count": 10,
   "metadata": {
    "ExecuteTime": {
     "end_time": "2018-06-18T22:42:53.080827Z",
     "start_time": "2018-06-18T22:42:52.840072Z"
    }
   },
   "outputs": [
    {
     "data": {
      "text/plain": [
       "<matplotlib.axes._subplots.AxesSubplot at 0x7f6e8d9310b8>"
      ]
     },
     "execution_count": 10,
     "metadata": {},
     "output_type": "execute_result"
    },
    {
     "data": {
      "image/png": "[encoded data removed]",
      "text/plain": [
       "<Figure size 432x288 with 1 Axes>"
      ]
     },
     "metadata": {},
     "output_type": "display_data"
    }
   ],
   "source": [
    "len_chars[len_chars < 5000].plot(kind='hist', title='Гистограмма длины отзыва в символах')"
   ]
  },
  {
   "cell_type": "code",
   "execution_count": 11,
   "metadata": {
    "ExecuteTime": {
     "end_time": "2018-06-18T22:43:06.772187Z",
     "start_time": "2018-06-18T22:42:53.084176Z"
    }
   },
   "outputs": [
    {
     "data": {
      "text/plain": [
       "5     добрый день я не являюсь клиентом банка и пору...\n",
       "6     доброго дня являюсь держателем зарплатной карт...\n",
       "11    здравствуйте дублирую свое заявление от в до м...\n",
       "15    добрый день я открыл расчетный счет в сбербанк...\n",
       "28    г взяла кредит в вашем банке заявленная мною с...\n",
       "Name: text, dtype: object"
      ]
     },
     "execution_count": 11,
     "metadata": {},
     "output_type": "execute_result"
    }
   ],
   "source": [
    "df.text = df.text.str.lower()\n",
    "df.text = apply_by_multiprocessing(df.text, words_only,  workers=4)\n",
    "\n",
    "df.text.head()"
   ]
  },
  {
   "cell_type": "code",
   "execution_count": 12,
   "metadata": {
    "ExecuteTime": {
     "end_time": "2018-06-18T22:43:15.977558Z",
     "start_time": "2018-06-18T22:43:06.779255Z"
    }
   },
   "outputs": [
    {
     "data": {
      "text/plain": [
       "count    153499.000000\n",
       "mean        230.811751\n",
       "std         196.607612\n",
       "min           0.000000\n",
       "25%         108.000000\n",
       "50%         177.000000\n",
       "75%         287.000000\n",
       "max        5001.000000\n",
       "Name: text, dtype: float64"
      ]
     },
     "execution_count": 12,
     "metadata": {},
     "output_type": "execute_result"
    }
   ],
   "source": [
    "#длина в словах\n",
    "len_tokens = df.text.str.split().apply(len)\n",
    "len_tokens.describe()"
   ]
  },
  {
   "cell_type": "code",
   "execution_count": 13,
   "metadata": {
    "ExecuteTime": {
     "end_time": "2018-06-18T22:43:16.257113Z",
     "start_time": "2018-06-18T22:43:15.981644Z"
    }
   },
   "outputs": [
    {
     "data": {
      "text/plain": [
       "<matplotlib.axes._subplots.AxesSubplot at 0x7f6e8e2e4470>"
      ]
     },
     "execution_count": 13,
     "metadata": {},
     "output_type": "execute_result"
    },
    {
     "data": {
      "image/png": "[encoded data removed]",
      "text/plain": [
       "<Figure size 432x288 with 1 Axes>"
      ]
     },
     "metadata": {},
     "output_type": "display_data"
    }
   ],
   "source": [
    "len_tokens[len_tokens < 1000].plot(kind='hist', title='Гистограмма длины отзыва в словах')"
   ]
  },
  {
   "cell_type": "markdown",
   "metadata": {},
   "source": [
    "#### top10 слов"
   ]
  },
  {
   "cell_type": "code",
   "execution_count": 14,
   "metadata": {
    "ExecuteTime": {
     "end_time": "2018-06-18T22:44:25.568193Z",
     "start_time": "2018-06-18T22:43:16.259958Z"
    }
   },
   "outputs": [
    {
     "name": "stdout",
     "output_type": "stream",
     "text": [
      "('в', 1330550)\n",
      "('и', 1058997)\n",
      "('не', 855335)\n",
      "('на', 707935)\n",
      "('что', 640057)\n",
      "('я', 577500)\n",
      "('с', 464037)\n",
      "('по', 372769)\n",
      "('мне', 320958)\n",
      "('банка', 275906)\n"
     ]
    }
   ],
   "source": [
    "#top10 слов\n",
    "tokens = []\n",
    "for _, row in df.iterrows():\n",
    "    tokens += row['text'].split()\n",
    "fd = FreqDist(tokens)\n",
    "for i in fd.most_common(10):\n",
    "    print(i)"
   ]
  },
  {
   "cell_type": "code",
   "execution_count": 15,
   "metadata": {
    "ExecuteTime": {
     "end_time": "2018-06-18T22:45:14.732211Z",
     "start_time": "2018-06-18T22:44:25.570825Z"
    }
   },
   "outputs": [
    {
     "name": "stdout",
     "output_type": "stream",
     "text": [
      "CPU times: user 2.83 s, sys: 3.33 s, total: 6.16 s\n",
      "Wall time: 49.1 s\n"
     ]
    }
   ],
   "source": [
    "%%time\n",
    "\n",
    "df.text = apply_by_multiprocessing(df.text, remove_stopwords,  workers=4)"
   ]
  },
  {
   "cell_type": "code",
   "execution_count": 16,
   "metadata": {
    "ExecuteTime": {
     "end_time": "2018-06-18T22:46:17.691886Z",
     "start_time": "2018-06-18T22:45:14.771296Z"
    }
   },
   "outputs": [
    {
     "name": "stdout",
     "output_type": "stream",
     "text": [
      "('банка', 275906)\n",
      "('банк', 215426)\n",
      "('деньги', 131201)\n",
      "('карту', 105829)\n",
      "('карты', 101821)\n",
      "('кредит', 81136)\n",
      "('день', 76552)\n",
      "('банке', 72169)\n",
      "('заявление', 70423)\n",
      "('очень', 66824)\n"
     ]
    }
   ],
   "source": [
    "#top10 без стоп-слов\n",
    "tokens = []\n",
    "for _, row in df.iterrows():\n",
    "    tokens += row['text'].split()\n",
    "fd = FreqDist(tokens)\n",
    "for i in fd.most_common(10):\n",
    "    print(i)"
   ]
  },
  {
   "cell_type": "code",
   "execution_count": 17,
   "metadata": {
    "ExecuteTime": {
     "end_time": "2018-06-18T22:55:22.328191Z",
     "start_time": "2018-06-18T22:46:17.694840Z"
    }
   },
   "outputs": [
    {
     "name": "stdout",
     "output_type": "stream",
     "text": [
      "CPU times: user 5.58 s, sys: 4.38 s, total: 9.95 s\n",
      "Wall time: 9min 4s\n"
     ]
    }
   ],
   "source": [
    "%%time\n",
    "\n",
    "df.text = apply_by_multiprocessing(df.text, lemmatize,  workers=4)\n",
    "df.text = apply_by_multiprocessing(df.text, remove_stoplemmas,  workers=4)\n",
    "df.dropna(subset=['text'], inplace=True)\n"
   ]
  },
  {
   "cell_type": "code",
   "execution_count": 18,
   "metadata": {
    "ExecuteTime": {
     "end_time": "2018-06-18T22:55:22.341854Z",
     "start_time": "2018-06-18T22:55:22.333239Z"
    }
   },
   "outputs": [
    {
     "data": {
      "text/plain": [
       "'добрый день являться клиент банк поручитель кредитный договор являться какой либо другой лицо письменно оформлять отношение банк повод урегулирование чей либо задолженность начинать марта начинать приходить бесконечный письмо ооо примо коллект адрес город москва уваровский переулок дом квартира угроза возбуждение уголовный дело отношение гражданин филиппов эдуард владимирович уклоняться уплата взять кредит договор договор весь ответственность хотеть заверять вышеуказанный гражданин разыскивать знакомый адрес зарегистрировать какой образ удостоверяться подлинность документ оформлять имя кредитный договор меньший мера понятно почему ваш милость должный переживать бояться имущество письмо доставлять серьезный неудобство нарушать гражданский право нарушать закон защита персональный данные убедительно просить прекращать посылать адрес письмо угроза вопрос иметь отношение случай отклонение претензия быть вынужденный обращаться жалоба другой орган росспотребнадзор центральный банк служба финансовый омбудсмен кроме подавать заявление полиция заявление суд возмещение причинять моральный вред надеяться скорый решение вопрос'"
      ]
     },
     "execution_count": 18,
     "metadata": {},
     "output_type": "execute_result"
    }
   ],
   "source": [
    "df.text.iloc[0]"
   ]
  },
  {
   "cell_type": "code",
   "execution_count": 6,
   "metadata": {
    "ExecuteTime": {
     "end_time": "2018-06-20T08:08:01.598040Z",
     "start_time": "2018-06-20T08:07:09.886938Z"
    }
   },
   "outputs": [
    {
     "name": "stdout",
     "output_type": "stream",
     "text": [
      "('банк', 623032)\n",
      "('карта', 334999)\n",
      "('деньги', 179734)\n",
      "('день', 173043)\n",
      "('кредит', 156177)\n",
      "('отделение', 144050)\n",
      "('клиент', 136892)\n",
      "('сотрудник', 134168)\n",
      "('счет', 126894)\n",
      "('сказать', 114494)\n"
     ]
    }
   ],
   "source": [
    "#top10 лемм\n",
    "tokens = []\n",
    "types = set()\n",
    "n_types = []\n",
    "n_tokens = []\n",
    "for _, row in df.iterrows():\n",
    "    tokens += row['text'].split()\n",
    "    types.update(row['text'].split())\n",
    "    n_tokens.append(len(tokens))\n",
    "    n_types.append(len(types))\n",
    "fd = FreqDist(tokens)\n",
    "for i in fd.most_common(10):\n",
    "    print(i)"
   ]
  },
  {
   "cell_type": "code",
   "execution_count": 37,
   "metadata": {
    "ExecuteTime": {
     "end_time": "2018-06-18T23:01:44.596757Z",
     "start_time": "2018-06-18T23:01:43.684857Z"
    }
   },
   "outputs": [
    {
     "data": {
      "image/png": "[encoded data removed]",
      "text/plain": [
       "<Figure size 504x288 with 1 Axes>"
      ]
     },
     "metadata": {},
     "output_type": "display_data"
    }
   ],
   "source": [
    "#top существительных\n",
    "ma = MorphAnalyzer()\n",
    "word_freq = []\n",
    "for i in fd.most_common(200):\n",
    "    p = ma.parse(i[0])[0].tag\n",
    "    if {'NOUN'} in p:\n",
    "        word_freq.append(i)\n",
    "wd = WordCloud(background_color = 'white')\n",
    "wd.generate_from_frequencies(dict(word_freq))\n",
    "plt.figure(figsize=(7,4))\n",
    "plt.imshow(wd, interpolation = 'bilinear')\n",
    "plt.axis('off')\n",
    "plt.show()\n",
    "        "
   ]
  },
  {
   "cell_type": "code",
   "execution_count": 21,
   "metadata": {
    "ExecuteTime": {
     "end_time": "2018-06-18T22:57:06.170535Z",
     "start_time": "2018-06-18T22:56:16.831020Z"
    }
   },
   "outputs": [],
   "source": [
    "df.to_csv('./banki_lemmatize.csv.bz2', compression='bz2')"
   ]
  },
  {
   "cell_type": "code",
   "execution_count": 4,
   "metadata": {
    "ExecuteTime": {
     "end_time": "2018-06-21T01:38:12.995808Z",
     "start_time": "2018-06-21T01:37:48.454829Z"
    }
   },
   "outputs": [],
   "source": [
    "df = pd.read_csv('./banki_lemmatize.csv.bz2', compression='bz2', index_col=0)"
   ]
  },
  {
   "cell_type": "code",
   "execution_count": 5,
   "metadata": {
    "ExecuteTime": {
     "end_time": "2018-06-21T01:38:13.105726Z",
     "start_time": "2018-06-21T01:38:13.083581Z"
    }
   },
   "outputs": [
    {
     "data": {
      "text/html": [
       "<div>\n",
       "<style scoped>\n",
       "    .dataframe tbody tr th:only-of-type {\n",
       "        vertical-align: middle;\n",
       "    }\n",
       "\n",
       "    .dataframe tbody tr th {\n",
       "        vertical-align: top;\n",
       "    }\n",
       "\n",
       "    .dataframe thead th {\n",
       "        text-align: right;\n",
       "    }\n",
       "</style>\n",
       "<table border=\"1\" class=\"dataframe\">\n",
       "  <thead>\n",
       "    <tr style=\"text-align: right;\">\n",
       "      <th></th>\n",
       "      <th>author</th>\n",
       "      <th>bank_license</th>\n",
       "      <th>bank_name</th>\n",
       "      <th>city</th>\n",
       "      <th>datetime</th>\n",
       "      <th>num_comments</th>\n",
       "      <th>rating_grade</th>\n",
       "      <th>rating_not_checked</th>\n",
       "      <th>text</th>\n",
       "      <th>title</th>\n",
       "    </tr>\n",
       "  </thead>\n",
       "  <tbody>\n",
       "    <tr>\n",
       "      <th>5</th>\n",
       "      <td>uhnov1</td>\n",
       "      <td>лицензия № 2562</td>\n",
       "      <td>Бинбанк</td>\n",
       "      <td>г. Москва</td>\n",
       "      <td>2015-06-08 12:50:54</td>\n",
       "      <td>0</td>\n",
       "      <td>NaN</td>\n",
       "      <td>False</td>\n",
       "      <td>добрый день являться клиент банк поручитель кр...</td>\n",
       "      <td>Жалоба</td>\n",
       "    </tr>\n",
       "    <tr>\n",
       "      <th>6</th>\n",
       "      <td>Foryou</td>\n",
       "      <td>лицензия № 1481</td>\n",
       "      <td>Сбербанк России</td>\n",
       "      <td>г. Новосибирск</td>\n",
       "      <td>2015-06-08 11:09:57</td>\n",
       "      <td>0</td>\n",
       "      <td>NaN</td>\n",
       "      <td>False</td>\n",
       "      <td>добрый день являться держатель зарплатной карт...</td>\n",
       "      <td>Не могу пользоваться услугой Сбербанк он-лайн</td>\n",
       "    </tr>\n",
       "  </tbody>\n",
       "</table>\n",
       "</div>"
      ],
      "text/plain": [
       "   author     bank_license        bank_name            city  \\\n",
       "5  uhnov1  лицензия № 2562          Бинбанк       г. Москва   \n",
       "6  Foryou  лицензия № 1481  Сбербанк России  г. Новосибирск   \n",
       "\n",
       "              datetime  num_comments  rating_grade  rating_not_checked  \\\n",
       "5  2015-06-08 12:50:54             0           NaN               False   \n",
       "6  2015-06-08 11:09:57             0           NaN               False   \n",
       "\n",
       "                                                text  \\\n",
       "5  добрый день являться клиент банк поручитель кр...   \n",
       "6  добрый день являться держатель зарплатной карт...   \n",
       "\n",
       "                                           title  \n",
       "5                                         Жалоба  \n",
       "6  Не могу пользоваться услугой Сбербанк он-лайн  "
      ]
     },
     "execution_count": 5,
     "metadata": {},
     "output_type": "execute_result"
    }
   ],
   "source": [
    "df.head(2)"
   ]
  },
  {
   "cell_type": "code",
   "execution_count": 6,
   "metadata": {
    "ExecuteTime": {
     "end_time": "2018-06-21T01:38:13.298192Z",
     "start_time": "2018-06-21T01:38:13.213289Z"
    }
   },
   "outputs": [
    {
     "data": {
      "text/plain": [
       "(153497, 10)"
      ]
     },
     "execution_count": 6,
     "metadata": {},
     "output_type": "execute_result"
    }
   ],
   "source": [
    "df.dropna(subset=['text'], inplace=True)\n",
    "df.shape"
   ]
  },
  {
   "cell_type": "markdown",
   "metadata": {},
   "source": [
    "#### какое слово встречается чаще, \"сотрудник\" или \"клиент\"?"
   ]
  },
  {
   "cell_type": "code",
   "execution_count": 25,
   "metadata": {
    "ExecuteTime": {
     "end_time": "2018-06-18T22:57:30.844888Z",
     "start_time": "2018-06-18T22:57:30.831791Z"
    }
   },
   "outputs": [
    {
     "data": {
      "text/plain": [
       "False"
      ]
     },
     "execution_count": 25,
     "metadata": {},
     "output_type": "execute_result"
    }
   ],
   "source": [
    "#какое слово встречается чаще, \"сотрудник\" или \"клиент\"?\n",
    "fd['сотрудник'] > fd['клиент']"
   ]
  },
  {
   "cell_type": "markdown",
   "metadata": {},
   "source": [
    "#### сколько раз встречается слова \"мошенничество\" и \"доверие\"?"
   ]
  },
  {
   "cell_type": "code",
   "execution_count": 26,
   "metadata": {
    "ExecuteTime": {
     "end_time": "2018-06-18T22:57:30.860843Z",
     "start_time": "2018-06-18T22:57:30.855724Z"
    }
   },
   "outputs": [
    {
     "data": {
      "text/plain": [
       "(3244, 2108)"
      ]
     },
     "execution_count": 26,
     "metadata": {},
     "output_type": "execute_result"
    }
   ],
   "source": [
    "#сколько раз встречается слова \"мошенничество\" и \"доверие\"?\n",
    "fd['мошенничество'], fd['доверие']"
   ]
  },
  {
   "cell_type": "markdown",
   "metadata": {},
   "source": [
    "#### Закон Ципфа"
   ]
  },
  {
   "cell_type": "code",
   "execution_count": 27,
   "metadata": {
    "ExecuteTime": {
     "end_time": "2018-06-18T22:57:31.134450Z",
     "start_time": "2018-06-18T22:57:30.873908Z"
    }
   },
   "outputs": [
    {
     "data": {
      "image/png": "[encoded data removed]",
      "text/plain": [
       "<Figure size 432x288 with 1 Axes>"
      ]
     },
     "metadata": {},
     "output_type": "display_data"
    }
   ],
   "source": [
    "#Закон Ципфа\n",
    "freqs = list(fd.values())\n",
    "freqs = sorted(freqs, reverse = True)\n",
    "fig, ax = plt.subplots()\n",
    "ax.plot( range(300), freqs[:300])\n",
    "plt.show()"
   ]
  },
  {
   "cell_type": "markdown",
   "metadata": {},
   "source": [
    "#### Закон Хипса"
   ]
  },
  {
   "cell_type": "code",
   "execution_count": 28,
   "metadata": {
    "ExecuteTime": {
     "end_time": "2018-06-18T22:57:31.473987Z",
     "start_time": "2018-06-18T22:57:31.137903Z"
    }
   },
   "outputs": [
    {
     "data": {
      "image/png": "[encoded data removed]",
      "text/plain": [
       "<Figure size 432x288 with 1 Axes>"
      ]
     },
     "metadata": {},
     "output_type": "display_data"
    }
   ],
   "source": [
    "#Закон Хипса\n",
    "fig, ax = plt.subplots()\n",
    "ax.plot(n_tokens, n_types)\n",
    "plt.show()"
   ]
  },
  {
   "cell_type": "markdown",
   "metadata": {
    "ExecuteTime": {
     "end_time": "2018-06-18T23:03:26.638520Z",
     "start_time": "2018-06-18T23:03:26.635382Z"
    }
   },
   "source": [
    "#### tf-idf для поиска ключевых слов и биграм "
   ]
  },
  {
   "cell_type": "code",
   "execution_count": 19,
   "metadata": {
    "ExecuteTime": {
     "end_time": "2018-06-20T19:04:15.698773Z",
     "start_time": "2018-06-20T19:04:15.692873Z"
    }
   },
   "outputs": [],
   "source": [
    "from sklearn.feature_extraction.text import TfidfVectorizer\n"
   ]
  },
  {
   "cell_type": "code",
   "execution_count": 170,
   "metadata": {
    "ExecuteTime": {
     "end_time": "2018-06-20T22:03:43.746065Z",
     "start_time": "2018-06-20T22:03:43.558836Z"
    }
   },
   "outputs": [],
   "source": [
    "#Для отзывов без оценки заполним оценку нулем. Для того, чтобы эти отзывы попали в общий корпус документов\n",
    "df['rating_grade'].fillna(0.0, inplace=True)"
   ]
  },
  {
   "cell_type": "code",
   "execution_count": 21,
   "metadata": {
    "ExecuteTime": {
     "end_time": "2018-06-20T19:04:30.256130Z",
     "start_time": "2018-06-20T19:04:30.228440Z"
    }
   },
   "outputs": [
    {
     "data": {
      "text/plain": [
       "0.0    64840\n",
       "1.0    47386\n",
       "5.0    14713\n",
       "2.0    13509\n",
       "3.0     9261\n",
       "4.0     3788\n",
       "Name: rating_grade, dtype: int64"
      ]
     },
     "execution_count": 21,
     "metadata": {},
     "output_type": "execute_result"
    }
   ],
   "source": [
    "df['rating_grade'].value_counts()"
   ]
  },
  {
   "cell_type": "code",
   "execution_count": 22,
   "metadata": {
    "ExecuteTime": {
     "end_time": "2018-06-20T19:04:37.646992Z",
     "start_time": "2018-06-20T19:04:37.516949Z"
    }
   },
   "outputs": [
    {
     "name": "stdout",
     "output_type": "stream",
     "text": [
      "<class 'pandas.core.frame.DataFrame'>\n",
      "Int64Index: 153497 entries, 5 to 201029\n",
      "Data columns (total 10 columns):\n",
      "author                153472 non-null object\n",
      "bank_license          153496 non-null object\n",
      "bank_name             153497 non-null object\n",
      "city                  138325 non-null object\n",
      "datetime              153497 non-null object\n",
      "num_comments          153497 non-null int64\n",
      "rating_grade          153497 non-null float64\n",
      "rating_not_checked    153497 non-null bool\n",
      "text                  153497 non-null object\n",
      "title                 152274 non-null object\n",
      "dtypes: bool(1), float64(1), int64(1), object(7)\n",
      "memory usage: 11.9+ MB\n"
     ]
    }
   ],
   "source": [
    "df.info()"
   ]
  },
  {
   "cell_type": "code",
   "execution_count": 125,
   "metadata": {
    "ExecuteTime": {
     "end_time": "2018-06-20T19:43:37.570879Z",
     "start_time": "2018-06-20T19:43:27.946393Z"
    }
   },
   "outputs": [],
   "source": [
    "tokens_by_topic = []\n",
    "for topic in df['rating_grade'].unique():\n",
    "    tokens = []\n",
    "    sample = df[df['rating_grade']==topic]\n",
    "    for i in range(len(sample)):\n",
    "        tokens += sample.text.iloc[i].split()\n",
    "    tokens_by_topic.append(tokens)"
   ]
  },
  {
   "cell_type": "markdown",
   "metadata": {},
   "source": [
    "##### юниграммы "
   ]
  },
  {
   "cell_type": "code",
   "execution_count": 126,
   "metadata": {
    "ExecuteTime": {
     "end_time": "2018-06-20T19:43:41.596735Z",
     "start_time": "2018-06-20T19:43:41.578397Z"
    }
   },
   "outputs": [
    {
     "data": {
      "text/plain": [
       "1.0"
      ]
     },
     "execution_count": 126,
     "metadata": {},
     "output_type": "execute_result"
    }
   ],
   "source": [
    "#отрицатеьные отзывы\n",
    "event_id = 2\n",
    "df['rating_grade'].unique()[event_id]"
   ]
  },
  {
   "cell_type": "code",
   "execution_count": 127,
   "metadata": {
    "ExecuteTime": {
     "end_time": "2018-06-20T19:44:10.163040Z",
     "start_time": "2018-06-20T19:43:45.612695Z"
    }
   },
   "outputs": [],
   "source": [
    "# юниграммы \n",
    "tfidf = TfidfVectorizer(analyzer='word', ngram_range=(1,1), min_df = 5)\n",
    "X_train =  tfidf.fit_transform([' '.join(tokens) for tokens in tokens_by_topic])"
   ]
  },
  {
   "cell_type": "code",
   "execution_count": 128,
   "metadata": {
    "ExecuteTime": {
     "end_time": "2018-06-20T19:44:14.183424Z",
     "start_time": "2018-06-20T19:44:14.178869Z"
    }
   },
   "outputs": [
    {
     "data": {
      "text/plain": [
       "(6, 18937)"
      ]
     },
     "execution_count": 128,
     "metadata": {},
     "output_type": "execute_result"
    }
   ],
   "source": [
    "X_train.shape"
   ]
  },
  {
   "cell_type": "code",
   "execution_count": 129,
   "metadata": {
    "ExecuteTime": {
     "end_time": "2018-06-20T19:44:18.244407Z",
     "start_time": "2018-06-20T19:44:18.237883Z"
    }
   },
   "outputs": [
    {
     "data": {
      "text/plain": [
       "\"<1x18937 sparse matrix of type '<class 'numpy.float64'>'\\n\\twith 18899 stored elements in Compressed Sparse Row format>\""
      ]
     },
     "execution_count": 129,
     "metadata": {},
     "output_type": "execute_result"
    }
   ],
   "source": [
    "repr(X_train[event_id])"
   ]
  },
  {
   "cell_type": "code",
   "execution_count": 130,
   "metadata": {
    "ExecuteTime": {
     "end_time": "2018-06-20T19:44:22.334993Z",
     "start_time": "2018-06-20T19:44:22.329697Z"
    }
   },
   "outputs": [
    {
     "data": {
      "text/plain": [
       "(18937,)"
      ]
     },
     "execution_count": 130,
     "metadata": {},
     "output_type": "execute_result"
    }
   ],
   "source": [
    "max_value = X_train[event_id].toarray().ravel()\n",
    "max_value.shape"
   ]
  },
  {
   "cell_type": "code",
   "execution_count": 131,
   "metadata": {
    "ExecuteTime": {
     "end_time": "2018-06-20T19:44:26.563050Z",
     "start_time": "2018-06-20T19:44:26.546979Z"
    }
   },
   "outputs": [
    {
     "data": {
      "text/plain": [
       "array([ 1271, 11270, 14860, ...,  3172,  5519,   600])"
      ]
     },
     "execution_count": 131,
     "metadata": {},
     "output_type": "execute_result"
    }
   ],
   "source": [
    "sorted_by_tfidf = max_value.argsort()\n",
    "sorted_by_tfidf"
   ]
  },
  {
   "cell_type": "code",
   "execution_count": 132,
   "metadata": {
    "ExecuteTime": {
     "end_time": "2018-06-20T19:44:30.841336Z",
     "start_time": "2018-06-20T19:44:30.786225Z"
    }
   },
   "outputs": [
    {
     "data": {
      "text/plain": [
       "array(['аа', 'ааа', 'аааа', ..., 'ящик', 'ящичек', 'яя'], dtype='<U24')"
      ]
     },
     "execution_count": 132,
     "metadata": {},
     "output_type": "execute_result"
    }
   ],
   "source": [
    "feature_names = np.array(tfidf.get_feature_names())\n",
    "feature_names"
   ]
  },
  {
   "cell_type": "code",
   "execution_count": 133,
   "metadata": {
    "ExecuteTime": {
     "end_time": "2018-06-20T19:44:35.053205Z",
     "start_time": "2018-06-20T19:44:35.045371Z"
    }
   },
   "outputs": [
    {
     "name": "stdout",
     "output_type": "stream",
     "text": [
      "['офис',\n",
      " 'звонить',\n",
      " 'такой',\n",
      " 'приходить',\n",
      " 'ответ',\n",
      " 'время',\n",
      " 'вопрос',\n",
      " 'получать',\n",
      " 'сумма',\n",
      " 'заявление',\n",
      " 'сказать',\n",
      " 'клиент',\n",
      " 'счет',\n",
      " 'сотрудник',\n",
      " 'кредит',\n",
      " 'отделение',\n",
      " 'день',\n",
      " 'деньги',\n",
      " 'карта',\n",
      " 'банк']\n"
     ]
    }
   ],
   "source": [
    "#признаки с наибольшими значениями tfidf в отрицательных отзывах\n",
    "pprint(feature_names[sorted_by_tfidf[-20:]].tolist())"
   ]
  },
  {
   "cell_type": "code",
   "execution_count": 134,
   "metadata": {
    "ExecuteTime": {
     "end_time": "2018-06-20T19:44:39.175718Z",
     "start_time": "2018-06-20T19:44:39.164390Z"
    }
   },
   "outputs": [
    {
     "data": {
      "text/plain": [
       "5.0"
      ]
     },
     "execution_count": 134,
     "metadata": {},
     "output_type": "execute_result"
    }
   ],
   "source": [
    "#положительные отзывы\n",
    "\n",
    "event_id = 3\n",
    "df['rating_grade'].unique()[event_id]\n"
   ]
  },
  {
   "cell_type": "code",
   "execution_count": 135,
   "metadata": {
    "ExecuteTime": {
     "end_time": "2018-06-20T19:44:43.443043Z",
     "start_time": "2018-06-20T19:44:43.382973Z"
    }
   },
   "outputs": [],
   "source": [
    "max_value = X_train[event_id].toarray().ravel()\n",
    "sorted_by_tfidf = max_value.argsort()\n",
    "feature_names = np.array(tfidf.get_feature_names())"
   ]
  },
  {
   "cell_type": "code",
   "execution_count": 136,
   "metadata": {
    "ExecuteTime": {
     "end_time": "2018-06-20T19:44:47.663415Z",
     "start_time": "2018-06-20T19:44:47.657571Z"
    }
   },
   "outputs": [
    {
     "name": "stdout",
     "output_type": "stream",
     "text": [
      "['другой',\n",
      " 'проблема',\n",
      " 'сказать',\n",
      " 'обслуживание',\n",
      " 'получать',\n",
      " 'работа',\n",
      " 'счет',\n",
      " 'офис',\n",
      " 'время',\n",
      " 'вопрос',\n",
      " 'вклад',\n",
      " 'деньги',\n",
      " 'сотрудник',\n",
      " 'отделение',\n",
      " 'клиент',\n",
      " 'кредит',\n",
      " 'день',\n",
      " 'очень',\n",
      " 'карта',\n",
      " 'банк']\n"
     ]
    }
   ],
   "source": [
    "#признаки с наибольшими значениями tfidf в положительных отзывах\n",
    "pprint(feature_names[sorted_by_tfidf[-20:]].tolist())"
   ]
  },
  {
   "cell_type": "markdown",
   "metadata": {},
   "source": [
    "##### биграммы"
   ]
  },
  {
   "cell_type": "code",
   "execution_count": 137,
   "metadata": {
    "ExecuteTime": {
     "end_time": "2018-06-20T19:46:12.268314Z",
     "start_time": "2018-06-20T19:44:51.874172Z"
    }
   },
   "outputs": [],
   "source": [
    "\n",
    "tfidf = TfidfVectorizer(analyzer='word', ngram_range=(2,2), min_df = 0)\n",
    "X_train =  tfidf.fit_transform([' '.join(tokens) for tokens in tokens_by_topic])"
   ]
  },
  {
   "cell_type": "code",
   "execution_count": 138,
   "metadata": {
    "ExecuteTime": {
     "end_time": "2018-06-20T19:46:16.291036Z",
     "start_time": "2018-06-20T19:46:16.281331Z"
    }
   },
   "outputs": [
    {
     "data": {
      "text/plain": [
       "1.0"
      ]
     },
     "execution_count": 138,
     "metadata": {},
     "output_type": "execute_result"
    }
   ],
   "source": [
    "#отрицатеьные отзывы\n",
    "event_id = 2\n",
    "df['rating_grade'].unique()[event_id]"
   ]
  },
  {
   "cell_type": "code",
   "execution_count": 139,
   "metadata": {
    "ExecuteTime": {
     "end_time": "2018-06-20T19:46:36.235506Z",
     "start_time": "2018-06-20T19:46:20.402411Z"
    }
   },
   "outputs": [
    {
     "name": "stdout",
     "output_type": "stream",
     "text": [
      "['кредитный история',\n",
      " 'досрочный погашение',\n",
      " 'получать ответ',\n",
      " 'приходить смс',\n",
      " 'добрый день',\n",
      " 'служба поддержка',\n",
      " 'альфа банк',\n",
      " 'другой банк',\n",
      " 'интернет банк',\n",
      " 'следующий день',\n",
      " 'клиент банк',\n",
      " 'ваш банк',\n",
      " 'колл центр',\n",
      " 'рабочий день',\n",
      " 'горячий линия',\n",
      " 'написать заявление',\n",
      " 'денежный средство',\n",
      " 'отделение банк',\n",
      " 'кредитный карта',\n",
      " 'сотрудник банк']\n"
     ]
    }
   ],
   "source": [
    "max_value = X_train[event_id].toarray().ravel()\n",
    "sorted_by_tfidf = max_value.argsort()\n",
    "feature_names = np.array(tfidf.get_feature_names())\n",
    "#признаки с наибольшими значениями tfidf в отрицатеьных отзывах\n",
    "pprint(feature_names[sorted_by_tfidf[-20:]].tolist())"
   ]
  },
  {
   "cell_type": "code",
   "execution_count": 140,
   "metadata": {
    "ExecuteTime": {
     "end_time": "2018-06-20T19:46:58.322197Z",
     "start_time": "2018-06-20T19:46:58.248588Z"
    }
   },
   "outputs": [
    {
     "data": {
      "text/plain": [
       "5.0"
      ]
     },
     "execution_count": 140,
     "metadata": {},
     "output_type": "execute_result"
    }
   ],
   "source": [
    "#положительные отзывы\n",
    "event_id = 3\n",
    "df['rating_grade'].unique()[event_id]"
   ]
  },
  {
   "cell_type": "code",
   "execution_count": 141,
   "metadata": {
    "ExecuteTime": {
     "end_time": "2018-06-20T19:48:12.743545Z",
     "start_time": "2018-06-20T19:47:19.790349Z"
    }
   },
   "outputs": [
    {
     "name": "stdout",
     "output_type": "stream",
     "text": [
      "['данный банк',\n",
      " 'очень быстро',\n",
      " 'банк очень',\n",
      " 'выражать благодарность',\n",
      " 'очень довольный',\n",
      " 'процентный ставка',\n",
      " 'колл центр',\n",
      " 'рабочий день',\n",
      " 'альфа банк',\n",
      " 'добрый день',\n",
      " 'дебетовый карта',\n",
      " 'являться клиент',\n",
      " 'отделение банк',\n",
      " 'следующий день',\n",
      " 'открывать вклад',\n",
      " 'клиент банк',\n",
      " 'сотрудник банк',\n",
      " 'кредитный карта',\n",
      " 'другой банк',\n",
      " 'интернет банк']\n"
     ]
    }
   ],
   "source": [
    "max_value = X_train[event_id].toarray().ravel()\n",
    "sorted_by_tfidf = max_value.argsort()\n",
    "feature_names = np.array(tfidf.get_feature_names())\n",
    "#признаки с наибольшими значениями tfidf в положительных отзывах\n",
    "pprint(feature_names[sorted_by_tfidf[-20:]].tolist())"
   ]
  },
  {
   "cell_type": "code",
   "execution_count": 160,
   "metadata": {
    "ExecuteTime": {
     "end_time": "2018-06-20T20:26:31.615328Z",
     "start_time": "2018-06-20T20:26:30.381879Z"
    }
   },
   "outputs": [],
   "source": [
    "del X_train, tokens, tokens_by_topic"
   ]
  },
  {
   "cell_type": "markdown",
   "metadata": {},
   "source": [
    "\n",
    "## Часть 2. Тематическое моделирование [20/100]\n",
    "\n",
    "- Постройте несколько тематических моделей коллекции документов с разным числом тем. Приведите примеры понятных (интерпретируемых) тем.\n",
    "- Найдите темы, в которых упомянуты конкретные банки (Сбербанк, ВТБ, другой банк). Можете ли вы их прокомментировать / объяснить?\n",
    "\n",
    "Эта часть задания может быть сделана с использованием gensim.\n"
   ]
  },
  {
   "cell_type": "code",
   "execution_count": 155,
   "metadata": {
    "ExecuteTime": {
     "end_time": "2018-06-20T20:22:28.112833Z",
     "start_time": "2018-06-20T20:22:28.108083Z"
    }
   },
   "outputs": [],
   "source": [
    "from gensim.corpora import Dictionary\n",
    "from gensim.models import  LsiModel, LdaModel, TfidfModel\n",
    "from gensim import similarities"
   ]
  },
  {
   "cell_type": "code",
   "execution_count": 143,
   "metadata": {
    "ExecuteTime": {
     "end_time": "2018-06-20T20:14:16.465623Z",
     "start_time": "2018-06-20T20:12:12.836287Z"
    }
   },
   "outputs": [],
   "source": [
    "texts = [df.text.iloc[i].split() for i in range(len(df))]\n",
    "dictionary = Dictionary(texts)\n",
    "corpus = [dictionary.doc2bow(text) for text in texts]"
   ]
  },
  {
   "cell_type": "code",
   "execution_count": 157,
   "metadata": {
    "ExecuteTime": {
     "end_time": "2018-06-20T20:24:28.386025Z",
     "start_time": "2018-06-20T20:24:28.372208Z"
    }
   },
   "outputs": [
    {
     "name": "stdout",
     "output_type": "stream",
     "text": [
      "Dictionary(91906 unique tokens: ['адрес', 'банк', 'бесконечный', 'бояться', 'быть']...)\n"
     ]
    }
   ],
   "source": [
    "print(dictionary)"
   ]
  },
  {
   "cell_type": "code",
   "execution_count": 156,
   "metadata": {
    "ExecuteTime": {
     "end_time": "2018-06-20T20:23:38.568670Z",
     "start_time": "2018-06-20T20:22:42.435733Z"
    }
   },
   "outputs": [],
   "source": [
    "tfidf = TfidfModel(corpus)\n",
    "corpus_tfidf = tfidf[corpus]"
   ]
  },
  {
   "cell_type": "code",
   "execution_count": 159,
   "metadata": {
    "ExecuteTime": {
     "end_time": "2018-06-20T20:25:53.945701Z",
     "start_time": "2018-06-20T20:25:53.886651Z"
    }
   },
   "outputs": [
    {
     "name": "stdout",
     "output_type": "stream",
     "text": [
      "['добрый', 'день', 'являться', 'клиент', 'банк', 'поручитель', 'кредитный', 'договор', 'являться', 'какой', 'либо', 'другой', 'лицо', 'письменно', 'оформлять', 'отношение', 'банк', 'повод', 'урегулирование', 'чей', 'либо', 'задолженность', 'начинать', 'марта', 'начинать', 'приходить', 'бесконечный', 'письмо', 'ооо', 'примо', 'коллект', 'адрес', 'город', 'москва', 'уваровский', 'переулок', 'дом', 'квартира', 'угроза', 'возбуждение', 'уголовный', 'дело', 'отношение', 'гражданин', 'филиппов', 'эдуард', 'владимирович', 'уклоняться', 'уплата', 'взять', 'кредит', 'договор', 'договор', 'весь', 'ответственность', 'хотеть', 'заверять', 'вышеуказанный', 'гражданин', 'разыскивать', 'знакомый', 'адрес', 'зарегистрировать', 'какой', 'образ', 'удостоверяться', 'подлинность', 'документ', 'оформлять', 'имя', 'кредитный', 'договор', 'меньший', 'мера', 'понятно', 'почему', 'ваш', 'милость', 'должный', 'переживать', 'бояться', 'имущество', 'письмо', 'доставлять', 'серьезный', 'неудобство', 'нарушать', 'гражданский', 'право', 'нарушать', 'закон', 'защита', 'персональный', 'данные', 'убедительно', 'просить', 'прекращать', 'посылать', 'адрес', 'письмо', 'угроза', 'вопрос', 'иметь', 'отношение', 'случай', 'отклонение', 'претензия', 'быть', 'вынужденный', 'обращаться', 'жалоба', 'другой', 'орган', 'росспотребнадзор', 'центральный', 'банк', 'служба', 'финансовый', 'омбудсмен', 'кроме', 'подавать', 'заявление', 'полиция', 'заявление', 'суд', 'возмещение', 'причинять', 'моральный', 'вред', 'надеяться', 'скорый', 'решение', 'вопрос']\n",
      "[(0, 3), (1, 3), (2, 1), (3, 1), (4, 1), (5, 1), (6, 1), (7, 1), (8, 1), (9, 1), (10, 1), (11, 2), (12, 1), (13, 1), (14, 1), (15, 1), (16, 2), (17, 1), (18, 1), (19, 1), (20, 1), (21, 1), (22, 4), (23, 1), (24, 1), (25, 1), (26, 1), (27, 2), (28, 1), (29, 1), (30, 1), (31, 1), (32, 1), (33, 1), (34, 2), (35, 1), (36, 1), (37, 1), (38, 1), (39, 2), (40, 1), (41, 1), (42, 1), (43, 1), (44, 2), (45, 1), (46, 2), (47, 1), (48, 1), (49, 1), (50, 1), (51, 1), (52, 1), (53, 1), (54, 1), (55, 2), (56, 2), (57, 1), (58, 1), (59, 1), (60, 1), (61, 1), (62, 1), (63, 1), (64, 1), (65, 3), (66, 2), (67, 1), (68, 1), (69, 1), (70, 1), (71, 3), (72, 1), (73, 1), (74, 1), (75, 1), (76, 1), (77, 1), (78, 1), (79, 1), (80, 1), (81, 1), (82, 1), (83, 1), (84, 1), (85, 1), (86, 1), (87, 1), (88, 1), (89, 1), (90, 1), (91, 1), (92, 1), (93, 1), (94, 1), (95, 1), (96, 1), (97, 1), (98, 2), (99, 1), (100, 1), (101, 1), (102, 1), (103, 1), (104, 1), (105, 1), (106, 1), (107, 1), (108, 1), (109, 2)]\n",
      "[(0, 0.12928097399955832), (1, 0.007974255605686242), (2, 0.11064377850456195), (3, 0.09182807876691274), (4, 0.029987701329413623), (5, 0.028784677023931952), (6, 0.04053325179905061), (7, 0.03800310490342281), (8, 0.12174810714827249), (9, 0.12409171414357818), (10, 0.09920154532863973), (11, 0.041468861050517114), (12, 0.10568064458008544), (13, 0.08870170103336707), (14, 0.09475206511894842), (15, 0.05194574702188496), (16, 0.16669999435023788), (17, 0.10140739817823834), (18, 0.04594622410626152), (19, 0.03897733605796942), (20, 0.012985457078848827), (21, 0.03961149328158443), (22, 0.13127997963269242), (23, 0.035182622984863444), (24, 0.03221173447336385), (25, 0.06641305471893093), (26, 0.08162768261885525), (27, 0.052191041108585044), (28, 0.05744700289708721), (29, 0.06846337670021385), (30, 0.047015097595934335), (31, 0.06705242872824813), (32, 0.07255269829263132), (33, 0.08098502675274871), (34, 0.05268099564689257), (35, 0.06530083654450031), (36, 0.03707668459760723), (37, 0.09786673918176073), (38, 0.055243427760650186), (39, 0.05257236173630922), (40, 0.0689320500623701), (41, 0.016845692896243058), (42, 0.19965660961530293), (43, 0.022097620634557502), (44, 0.056571930325725155), (45, 0.057811042126929994), (46, 0.09886722926562679), (47, 0.047720387623382654), (48, 0.10642574208298655), (49, 0.09562055271115764), (50, 0.06532926995321613), (51, 0.14133897949303642), (52, 0.08975389441954734), (53, 0.04376803139764432), (54, 0.050550695252174635), (55, 0.15333611625668103), (56, 0.08107796506448887), (57, 0.08743214944338581), (58, 0.055970993915326554), (59, 0.027055907759890238), (60, 0.1605683489844305), (61, 0.08334245256203353), (62, 0.08063789835183074), (63, 0.0820485654021776), (64, 0.14605435115491944), (65, 0.1287965782220083), (66, 0.0667240901434097), (67, 0.09360666514886035), (68, 0.11616587116058112), (69, 0.07287783880751222), (70, 0.10199298445508459), (71, 0.15264981394445976), (72, 0.056989670868177474), (73, 0.04778127659003911), (74, 0.12832641691198018), (75, 0.07931720687531718), (76, 0.0646390591413929), (77, 0.0928409779113969), (78, 0.0762193285860898), (79, 0.03093125240024894), (80, 0.05535836907273456), (81, 0.07687679018631181), (82, 0.04139415307614777), (83, 0.23299408002753136), (84, 0.023204334290495846), (85, 0.11277927155792389), (86, 0.03351119708260763), (87, 0.10922783420254956), (88, 0.04236842535938183), (89, 0.19422206576844966), (90, 0.09252129689066854), (91, 0.0904012513236725), (92, 0.04329018344387684), (93, 0.03850786302495034), (94, 0.05753578701031587), (95, 0.11661214483163078), (96, 0.23299408002753136), (97, 0.10169812203829923), (98, 0.15964028944664885), (99, 0.1156930173437099), (100, 0.13340014231644232), (101, 0.09848418385331986), (102, 0.10899229961802002), (103, 0.19422206576844966), (104, 0.06906792782000086), (105, 0.028576670340658684), (106, 0.07065723190848998), (107, 0.09440174618659371), (108, 0.15905572568961449), (109, 0.06857808265379894)]\n"
     ]
    }
   ],
   "source": [
    "print(texts[0])\n",
    "print(corpus[0])\n",
    "print(corpus_tfidf[0])"
   ]
  },
  {
   "cell_type": "markdown",
   "metadata": {},
   "source": [
    "#### LSI - 5 topics"
   ]
  },
  {
   "cell_type": "code",
   "execution_count": 164,
   "metadata": {
    "ExecuteTime": {
     "end_time": "2018-06-20T20:41:06.575751Z",
     "start_time": "2018-06-20T20:38:47.468764Z"
    }
   },
   "outputs": [
    {
     "data": {
      "text/plain": [
       "[(0,\n",
       "  '0.194*\"карта\" + 0.134*\"кредит\" + 0.115*\"деньги\" + 0.109*\"заявление\" + 0.107*\"счет\" + 0.101*\"вклад\" + 0.101*\"банкомат\" + 0.100*\"отделение\" + 0.096*\"сбербанк\" + 0.096*\"сумма\"'),\n",
       " (1,\n",
       "  '-0.487*\"вклад\" + 0.321*\"кредит\" + 0.157*\"страховка\" + -0.153*\"открывать\" + 0.149*\"платеж\" + 0.143*\"задолженность\" + 0.132*\"погашение\" + -0.131*\"очередь\" + -0.119*\"банкомат\" + -0.114*\"карта\"'),\n",
       " (2,\n",
       "  '-0.378*\"вклад\" + 0.267*\"банкомат\" + 0.267*\"карта\" + -0.223*\"кредит\" + 0.205*\"сбербанк\" + -0.153*\"страховка\" + 0.143*\"операция\" + -0.137*\"договор\" + 0.130*\"средство\" + 0.128*\"деньги\"'),\n",
       " (3,\n",
       "  '-0.285*\"вклад\" + 0.211*\"заявка\" + -0.211*\"сумма\" + 0.193*\"номер\" + -0.177*\"руб\" + -0.164*\"договор\" + -0.161*\"платеж\" + -0.150*\"погашение\" + 0.149*\"звонок\" + -0.145*\"процент\"'),\n",
       " (4,\n",
       "  '0.283*\"номер\" + 0.276*\"вклад\" + 0.243*\"звонок\" + -0.243*\"страховка\" + -0.186*\"заявка\" + 0.174*\"ваш\" + 0.137*\"телефон\" + 0.136*\"персональный\" + 0.131*\"база\" + 0.130*\"удалять\"')]"
      ]
     },
     "execution_count": 164,
     "metadata": {},
     "output_type": "execute_result"
    }
   ],
   "source": [
    "lsi = LsiModel(corpus=corpus_tfidf, id2word=dictionary, num_topics=5)\n",
    "lsi.show_topics(5)"
   ]
  },
  {
   "cell_type": "markdown",
   "metadata": {},
   "source": [
    "#### LDA - 5 topics"
   ]
  },
  {
   "cell_type": "code",
   "execution_count": 168,
   "metadata": {
    "ExecuteTime": {
     "end_time": "2018-06-20T21:45:58.579444Z",
     "start_time": "2018-06-20T21:31:24.096333Z"
    }
   },
   "outputs": [
    {
     "name": "stderr",
     "output_type": "stream",
     "text": [
      "/home/max/anaconda3/lib/python3.6/site-packages/gensim/models/ldamodel.py:775: RuntimeWarning: divide by zero encountered in log\n",
      "  diff = np.log(self.expElogbeta)\n"
     ]
    },
    {
     "data": {
      "text/plain": [
       "[(0,\n",
       "  '0.055*\"карта\" + 0.024*\"банк\" + 0.020*\"деньги\" + 0.015*\"банкомат\" + 0.014*\"счет\" + 0.011*\"день\" + 0.007*\"получать\" + 0.007*\"сказать\" + 0.006*\"отделение\" + 0.006*\"интернет\"'),\n",
       " (1,\n",
       "  '0.046*\"кредит\" + 0.034*\"банк\" + 0.017*\"кредитный\" + 0.016*\"сумма\" + 0.014*\"день\" + 0.013*\"платеж\" + 0.011*\"договор\" + 0.011*\"документ\" + 0.010*\"месяц\" + 0.009*\"сказать\"'),\n",
       " (2,\n",
       "  '0.024*\"банк\" + 0.011*\"клиент\" + 0.011*\"отделение\" + 0.009*\"вклад\" + 0.008*\"работать\" + 0.008*\"очень\" + 0.008*\"офис\" + 0.007*\"очередь\" + 0.007*\"время\" + 0.006*\"работа\"'),\n",
       " (3,\n",
       "  '0.031*\"банк\" + 0.022*\"звонить\" + 0.020*\"телефон\" + 0.015*\"звонок\" + 0.012*\"ваш\" + 0.012*\"сотрудник\" + 0.012*\"номер\" + 0.009*\"позвонить\" + 0.008*\"отвечать\" + 0.008*\"говорить\"'),\n",
       " (4,\n",
       "  '0.033*\"банк\" + 0.019*\"счет\" + 0.015*\"заявление\" + 0.014*\"г\" + 0.011*\"средство\" + 0.009*\"данный\" + 0.009*\"деньги\" + 0.009*\"договор\" + 0.009*\"претензия\" + 0.008*\"ответ\"')]"
      ]
     },
     "execution_count": 168,
     "metadata": {},
     "output_type": "execute_result"
    }
   ],
   "source": [
    "lda = LdaModel(corpus=corpus, id2word=dictionary, num_topics=5,\n",
    "                        alpha='auto', eta='auto', iterations = 20, passes = 5)\n",
    "lda.show_topics(5)"
   ]
  },
  {
   "cell_type": "markdown",
   "metadata": {},
   "source": [
    "#### LSI - 10 topics\n"
   ]
  },
  {
   "cell_type": "code",
   "execution_count": 166,
   "metadata": {
    "ExecuteTime": {
     "end_time": "2018-06-20T21:01:27.329925Z",
     "start_time": "2018-06-20T20:59:03.149886Z"
    }
   },
   "outputs": [
    {
     "data": {
      "text/plain": [
       "[(0,\n",
       "  '0.194*\"карта\" + 0.133*\"кредит\" + 0.115*\"деньги\" + 0.109*\"заявление\" + 0.107*\"счет\" + 0.101*\"вклад\" + 0.101*\"банкомат\" + 0.100*\"отделение\" + 0.096*\"сбербанк\" + 0.096*\"сумма\"'),\n",
       " (1,\n",
       "  '-0.467*\"вклад\" + 0.329*\"кредит\" + 0.158*\"платеж\" + -0.151*\"банкомат\" + 0.149*\"задолженность\" + -0.147*\"открывать\" + 0.147*\"страховка\" + 0.136*\"погашение\" + -0.125*\"карта\" + -0.124*\"очередь\"'),\n",
       " (2,\n",
       "  '-0.412*\"вклад\" + 0.293*\"банкомат\" + 0.246*\"карта\" + 0.210*\"сбербанк\" + -0.199*\"кредит\" + -0.139*\"договор\" + 0.139*\"операция\" + 0.133*\"деньги\" + 0.126*\"средство\" + -0.125*\"страховка\"'),\n",
       " (3,\n",
       "  '-0.283*\"вклад\" + -0.215*\"сумма\" + 0.201*\"заявка\" + 0.184*\"номер\" + -0.181*\"руб\" + -0.160*\"платеж\" + -0.154*\"погашение\" + -0.154*\"договор\" + -0.145*\"процент\" + -0.144*\"рубль\"'),\n",
       " (4,\n",
       "  '-0.444*\"карта\" + 0.298*\"банкомат\" + -0.196*\"лимит\" + -0.188*\"кредитный\" + 0.161*\"номер\" + 0.126*\"деньги\" + 0.125*\"терминал\" + 0.123*\"звонок\" + 0.119*\"купюра\" + -0.116*\"комиссия\"'),\n",
       " (5,\n",
       "  '-0.317*\"банкомат\" + 0.289*\"вклад\" + -0.251*\"страховка\" + 0.207*\"номер\" + -0.188*\"кредит\" + 0.161*\"звонок\" + -0.137*\"заявка\" + 0.119*\"ваш\" + 0.109*\"телефон\" + 0.108*\"задолженность\"'),\n",
       " (6,\n",
       "  '0.267*\"сбербанк\" + 0.204*\"заявление\" + 0.203*\"заявка\" + 0.197*\"страховка\" + -0.183*\"платеж\" + 0.170*\"страхование\" + 0.156*\"документ\" + 0.145*\"денежный\" + 0.141*\"рассмотрение\" + -0.140*\"задолженность\"'),\n",
       " (7,\n",
       "  '-0.267*\"вклад\" + -0.247*\"карта\" + 0.225*\"перевод\" + -0.198*\"заявление\" + 0.194*\"кошелек\" + 0.155*\"киви\" + -0.144*\"закрывать\" + 0.139*\"комиссия\" + 0.119*\"терминал\" + 0.118*\"услуга\"'),\n",
       " (8,\n",
       "  '-0.440*\"страховка\" + -0.254*\"банкомат\" + -0.230*\"страхование\" + 0.205*\"платеж\" + -0.203*\"номер\" + -0.155*\"страховой\" + 0.142*\"сбербанк\" + 0.126*\"справка\" + -0.122*\"звонок\" + -0.115*\"альфа\"'),\n",
       " (9,\n",
       "  '-0.506*\"кошелек\" + -0.375*\"киви\" + 0.200*\"сбербанк\" + -0.189*\"вклад\" + -0.164*\"заявка\" + -0.154*\"идентификация\" + -0.151*\"поддержка\" + -0.141*\"терминал\" + -0.123*\"служба\" + -0.114*\"заблокировать\"')]"
      ]
     },
     "execution_count": 166,
     "metadata": {},
     "output_type": "execute_result"
    }
   ],
   "source": [
    "lsi = LsiModel(corpus=corpus_tfidf, id2word=dictionary, num_topics=10)\n",
    "lsi.show_topics(10)"
   ]
  },
  {
   "cell_type": "markdown",
   "metadata": {},
   "source": [
    "#### LDA - 10 topics"
   ]
  },
  {
   "cell_type": "code",
   "execution_count": 169,
   "metadata": {
    "ExecuteTime": {
     "end_time": "2018-06-20T22:03:31.392497Z",
     "start_time": "2018-06-20T21:46:12.763159Z"
    }
   },
   "outputs": [
    {
     "name": "stderr",
     "output_type": "stream",
     "text": [
      "/home/max/anaconda3/lib/python3.6/site-packages/gensim/models/ldamodel.py:775: RuntimeWarning: divide by zero encountered in log\n",
      "  diff = np.log(self.expElogbeta)\n"
     ]
    },
    {
     "data": {
      "text/plain": [
       "[(0,\n",
       "  '0.030*\"банк\" + 0.027*\"день\" + 0.019*\"позвонить\" + 0.018*\"звонить\" + 0.018*\"телефон\" + 0.017*\"ответ\" + 0.013*\"вопрос\" + 0.013*\"сказать\" + 0.013*\"номер\" + 0.012*\"заявление\"'),\n",
       " (1,\n",
       "  '0.068*\"деньги\" + 0.048*\"банкомат\" + 0.036*\"счет\" + 0.022*\"банк\" + 0.019*\"карта\" + 0.018*\"снимать\" + 0.018*\"операция\" + 0.016*\"средство\" + 0.015*\"сумма\" + 0.013*\"день\"'),\n",
       " (2,\n",
       "  '0.058*\"банк\" + 0.021*\"вклад\" + 0.016*\"клиент\" + 0.014*\"очень\" + 0.010*\"обслуживание\" + 0.009*\"открывать\" + 0.009*\"счет\" + 0.006*\"работа\" + 0.006*\"сайт\" + 0.006*\"время\"'),\n",
       " (3,\n",
       "  '0.012*\"человек\" + 0.012*\"такой\" + 0.012*\"банк\" + 0.010*\"говорить\" + 0.010*\"клиент\" + 0.009*\"просто\" + 0.009*\"знать\" + 0.008*\"девушка\" + 0.006*\"понимать\" + 0.006*\"думать\"'),\n",
       " (4,\n",
       "  '0.038*\"банк\" + 0.016*\"договор\" + 0.013*\"г\" + 0.012*\"данный\" + 0.011*\"сотрудник\" + 0.010*\"клиент\" + 0.008*\"заявление\" + 0.007*\"документ\" + 0.007*\"лицо\" + 0.007*\"ваш\"'),\n",
       " (5,\n",
       "  '0.039*\"отделение\" + 0.020*\"очередь\" + 0.020*\"офис\" + 0.015*\"работать\" + 0.013*\"минута\" + 0.012*\"деньги\" + 0.012*\"касса\" + 0.010*\"время\" + 0.010*\"час\" + 0.010*\"сказать\"'),\n",
       " (6,\n",
       "  '0.077*\"кредит\" + 0.072*\"банк\" + 0.025*\"кредитный\" + 0.018*\"задолженность\" + 0.014*\"погасить\" + 0.012*\"долг\" + 0.012*\"история\" + 0.011*\"звонок\" + 0.011*\"брать\" + 0.011*\"звонить\"'),\n",
       " (7,\n",
       "  '0.049*\"кредит\" + 0.034*\"документ\" + 0.028*\"банк\" + 0.016*\"заявка\" + 0.014*\"кредитный\" + 0.013*\"договор\" + 0.012*\"день\" + 0.011*\"оформлять\" + 0.011*\"справка\" + 0.011*\"менеджер\"'),\n",
       " (8,\n",
       "  '0.047*\"сумма\" + 0.045*\"платеж\" + 0.022*\"рубль\" + 0.021*\"процент\" + 0.019*\"руб\" + 0.018*\"месяц\" + 0.018*\"счет\" + 0.017*\"кредит\" + 0.017*\"банк\" + 0.016*\"погашение\"'),\n",
       " (9,\n",
       "  '0.124*\"карта\" + 0.016*\"банк\" + 0.014*\"кредитный\" + 0.012*\"получать\" + 0.011*\"лимит\" + 0.010*\"услуга\" + 0.009*\"карточка\" + 0.008*\"пользоваться\" + 0.008*\"интернет\" + 0.008*\"приходить\"')]"
      ]
     },
     "execution_count": 169,
     "metadata": {},
     "output_type": "execute_result"
    }
   ],
   "source": [
    "lda = LdaModel(corpus=corpus, id2word=dictionary, num_topics=10,\n",
    "                        alpha='auto', eta='auto', iterations = 20, passes = 5)\n",
    "lda.show_topics(10)"
   ]
  },
  {
   "cell_type": "markdown",
   "metadata": {},
   "source": [
    "#### Интерпретация"
   ]
  },
  {
   "cell_type": "markdown",
   "metadata": {},
   "source": [
    "примеры понятных тем:\n",
    "- особенности обслуживания в Сбербанке (0 и 2 в LSI-5)\n",
    "- телефонные продажи продуктов (4 в LSI-5)\n",
    "- про карты и банкоматы (0 в LDA-5, 4 в LSI-10, 1 в LDA-10)\n",
    "- про кредитные продукты (1 в LDA-5)\n",
    "- про работу отделений (2 в LDA-5, 5 в LDA-10)\n",
    "- обращения по телефону (3 в LDA-5, 0 в LDA-10)\n",
    "- про Киви кошелек и оплату услуг (7,9 в LSI-10)\n",
    "- про страхование (8 в LSI-10)\n",
    "- человеческое общение (3 в LDA-10)\n",
    "- про коллекторов (6 в LDA-10)\n",
    "- оформление кредитного договора (7 в LDA-10)\n",
    "- график платежей (8 в LDA-10)\n",
    "- оформление карты (9 в LDA-10)\n",
    "\n",
    "Увеличение числа топиков с 5 до 10 позволило уловить больше различий между похожими документами, например, тема про кредиты в LDA-5, в LDA-10 была разделена на несколько, оформление кредитного договора + график платежей.\n",
    "\n",
    "Наличие в темах названий конкретных зеленых банков говорит о том, что часть отзывов в большей мере относится к особенностям работы этой кредитной организации. Анализ bank_name ранее показал, что отзывы про Срербанк превышают суммарные отзывы всех остальных банков вместе взятых. "
   ]
  },
  {
   "cell_type": "markdown",
   "metadata": {},
   "source": [
    "\n",
    "## Часть 3. Классификация текстов [40/100]\n",
    "\n",
    "Сформулируем для простоты задачу бинарной классификации: будем классифицировать на два класса, то есть, различать резко отрицательные отзывы (с оценкой 1) и положительные отзывы (с оценкой 5).\n",
    "\n",
    "- Составьте обучающее и тестовое множество: выберите из всего набора данных N1 отзывов с оценкой 1 и N2 отзывов с оценкой 5 (значение N1 и N2 – на ваше усмотрение). Используйте sklearn.model_selection.train_test_split для разделения множества отобранных документов на обучающее и тестовое.    \n",
    "- Используйте любой известный вам алгоритм классификации текстов для решения задачи и получите baseline. Сравните разные варианты векторизации текста: использование только униграм, пар или троек слов или с использованием символьных $n$-грам.\n",
    "- Сравните, как изменяется качество решения задачи при использовании скрытых тем в качестве признаков:\n",
    "- 1-ый вариант: $tf-idf$ преобразование (sklearn.feature_extraction.text.TfidfTransformer) и сингулярное разложение (оно же – латентый семантический анализ) (sklearn.decomposition.TruncatedSVD),\n",
    "- 2-ой вариант: тематические модели LDA (sklearn.decomposition.LatentDirichletAllocation).\n",
    "\n",
    "Используйте accuracy и F-measure для оценки качества классификации.\n",
    "\n",
    "Ниже написан примерный Pipeline для классификации текстов.\n",
    "\n",
    "Эта часть задания может быть сделана с использованием sklearn.\n"
   ]
  },
  {
   "cell_type": "code",
   "execution_count": 8,
   "metadata": {
    "ExecuteTime": {
     "end_time": "2018-06-21T01:38:13.553503Z",
     "start_time": "2018-06-21T01:38:13.548103Z"
    }
   },
   "outputs": [],
   "source": [
    "from sklearn.pipeline import Pipeline\n",
    "from sklearn.preprocessing import LabelEncoder\n",
    "from sklearn.feature_extraction.text import CountVectorizer, TfidfTransformer\n",
    "from sklearn.decomposition import TruncatedSVD, LatentDirichletAllocation\n",
    "from sklearn.ensemble import RandomForestClassifier\n",
    "from sklearn.linear_model import LogisticRegression\n",
    "#from sklearn.naive_bayes import MultinomialNB\n",
    "from sklearn.model_selection import GridSearchCV,  train_test_split\n",
    "from sklearn.metrics import accuracy_score, classification_report"
   ]
  },
  {
   "cell_type": "markdown",
   "metadata": {},
   "source": [
    "В качестве Baseline будем использовать модели RandomForestClassifier, LogisticRegression  с базовой векторизацией CountVectorizer. \n",
    "\n",
    "Далее добавим в модель векторизации Tfidf, LSI и LDA и сравним точность с baseline.\n",
    "\n",
    "Далее у самой лучшей модели найдем оптимальные параметры с помощью GridSearchCV\n",
    "\n",
    "Т.к. положительный и отрицательный классы являются несбалансированными, то при разбиении на train/test и кроссвалидации будем использовать стратифицированные выборки."
   ]
  },
  {
   "cell_type": "markdown",
   "metadata": {},
   "source": [
    "#### Baseline - CountVectorizer"
   ]
  },
  {
   "cell_type": "code",
   "execution_count": 9,
   "metadata": {
    "ExecuteTime": {
     "end_time": "2018-06-21T01:38:14.942469Z",
     "start_time": "2018-06-21T01:38:14.917613Z"
    }
   },
   "outputs": [
    {
     "data": {
      "text/html": [
       "<div>\n",
       "<style scoped>\n",
       "    .dataframe tbody tr th:only-of-type {\n",
       "        vertical-align: middle;\n",
       "    }\n",
       "\n",
       "    .dataframe tbody tr th {\n",
       "        vertical-align: top;\n",
       "    }\n",
       "\n",
       "    .dataframe thead th {\n",
       "        text-align: right;\n",
       "    }\n",
       "</style>\n",
       "<table border=\"1\" class=\"dataframe\">\n",
       "  <thead>\n",
       "    <tr style=\"text-align: right;\">\n",
       "      <th></th>\n",
       "      <th>author</th>\n",
       "      <th>bank_license</th>\n",
       "      <th>bank_name</th>\n",
       "      <th>city</th>\n",
       "      <th>datetime</th>\n",
       "      <th>num_comments</th>\n",
       "      <th>rating_grade</th>\n",
       "      <th>rating_not_checked</th>\n",
       "      <th>text</th>\n",
       "      <th>title</th>\n",
       "    </tr>\n",
       "  </thead>\n",
       "  <tbody>\n",
       "    <tr>\n",
       "      <th>52215</th>\n",
       "      <td>Anna_msg</td>\n",
       "      <td>лицензия № 2289</td>\n",
       "      <td>Русский Стандарт</td>\n",
       "      <td>г. Калининград</td>\n",
       "      <td>2014-08-03 15:04:00</td>\n",
       "      <td>0</td>\n",
       "      <td>NaN</td>\n",
       "      <td>False</td>\n",
       "      <td>здравствовать получение дистанционный комплект...</td>\n",
       "      <td>О закрытии вклада \"Накопительный счет\"</td>\n",
       "    </tr>\n",
       "    <tr>\n",
       "      <th>99428</th>\n",
       "      <td>kern_dm</td>\n",
       "      <td>лицензия № 2241</td>\n",
       "      <td>Киви Банк</td>\n",
       "      <td>г. Шатура</td>\n",
       "      <td>2013-09-09 23:04:00</td>\n",
       "      <td>0</td>\n",
       "      <td>1.0</td>\n",
       "      <td>False</td>\n",
       "      <td>вряд сообщать новый судя отзыв данный портал в...</td>\n",
       "      <td>Ограничение на исходящие операции</td>\n",
       "    </tr>\n",
       "  </tbody>\n",
       "</table>\n",
       "</div>"
      ],
      "text/plain": [
       "         author     bank_license         bank_name            city  \\\n",
       "52215  Anna_msg  лицензия № 2289  Русский Стандарт  г. Калининград   \n",
       "99428   kern_dm  лицензия № 2241         Киви Банк       г. Шатура   \n",
       "\n",
       "                  datetime  num_comments  rating_grade  rating_not_checked  \\\n",
       "52215  2014-08-03 15:04:00             0           NaN               False   \n",
       "99428  2013-09-09 23:04:00             0           1.0               False   \n",
       "\n",
       "                                                    text  \\\n",
       "52215  здравствовать получение дистанционный комплект...   \n",
       "99428  вряд сообщать новый судя отзыв данный портал в...   \n",
       "\n",
       "                                        title  \n",
       "52215  О закрытии вклада \"Накопительный счет\"  \n",
       "99428       Ограничение на исходящие операции  "
      ]
     },
     "execution_count": 9,
     "metadata": {},
     "output_type": "execute_result"
    }
   ],
   "source": [
    "df.sample(2)"
   ]
  },
  {
   "cell_type": "code",
   "execution_count": 10,
   "metadata": {
    "ExecuteTime": {
     "end_time": "2018-06-21T01:38:18.371393Z",
     "start_time": "2018-06-21T01:38:18.335712Z"
    }
   },
   "outputs": [
    {
     "data": {
      "text/plain": [
       "1.0    47386\n",
       "5.0    14713\n",
       "Name: rating_grade, dtype: int64"
      ]
     },
     "execution_count": 10,
     "metadata": {},
     "output_type": "execute_result"
    }
   ],
   "source": [
    "df = df[df['rating_grade'].isin([1.0, 5.0])]\n",
    "df['rating_grade'].value_counts()"
   ]
  },
  {
   "cell_type": "code",
   "execution_count": 11,
   "metadata": {
    "ExecuteTime": {
     "end_time": "2018-06-21T01:38:21.058036Z",
     "start_time": "2018-06-21T01:38:20.981035Z"
    }
   },
   "outputs": [
    {
     "data": {
      "text/plain": [
       "0    47386\n",
       "1    14713\n",
       "Name: rating_grade, dtype: int64"
      ]
     },
     "execution_count": 11,
     "metadata": {},
     "output_type": "execute_result"
    }
   ],
   "source": [
    "le = LabelEncoder()\n",
    "df['rating_grade'] = le.fit_transform(df['rating_grade'])\n",
    "df['rating_grade'].value_counts()"
   ]
  },
  {
   "cell_type": "code",
   "execution_count": 12,
   "metadata": {
    "ExecuteTime": {
     "end_time": "2018-06-21T01:38:22.780761Z",
     "start_time": "2018-06-21T01:38:22.775263Z"
    }
   },
   "outputs": [
    {
     "data": {
      "text/plain": [
       "((62099,), (62099,))"
      ]
     },
     "execution_count": 12,
     "metadata": {},
     "output_type": "execute_result"
    }
   ],
   "source": [
    "X_full = df['text']\n",
    "y_full = df['rating_grade']\n",
    "X_full.shape, y_full.shape"
   ]
  },
  {
   "cell_type": "code",
   "execution_count": 13,
   "metadata": {
    "ExecuteTime": {
     "end_time": "2018-06-21T01:38:26.008590Z",
     "start_time": "2018-06-21T01:38:25.971639Z"
    }
   },
   "outputs": [
    {
     "data": {
      "text/plain": [
       "0    33170\n",
       "1    10299\n",
       "Name: rating_grade, dtype: int64"
      ]
     },
     "execution_count": 13,
     "metadata": {},
     "output_type": "execute_result"
    }
   ],
   "source": [
    "X_train, X_test, y_train, y_test = train_test_split(X_full, y_full, test_size=0.30, stratify=y_full, random_state=42)\n",
    "y_train.value_counts()"
   ]
  },
  {
   "cell_type": "markdown",
   "metadata": {},
   "source": [
    "##### LogisticRegression"
   ]
  },
  {
   "cell_type": "code",
   "execution_count": 17,
   "metadata": {
    "ExecuteTime": {
     "end_time": "2018-06-21T01:40:21.711593Z",
     "start_time": "2018-06-21T01:39:49.946728Z"
    }
   },
   "outputs": [
    {
     "name": "stdout",
     "output_type": "stream",
     "text": [
      "Accuracy train: 0.9976\n",
      "Accuracy test: 0.9597\n",
      "             precision    recall  f1-score   support\n",
      "\n",
      "          0       0.97      0.97      0.97     14216\n",
      "          1       0.92      0.91      0.91      4414\n",
      "\n",
      "avg / total       0.96      0.96      0.96     18630\n",
      "\n"
     ]
    }
   ],
   "source": [
    "base_lr = Pipeline([\n",
    "    ('vect', CountVectorizer()),\n",
    "    ('clf', LogisticRegression())\n",
    "])\n",
    "base_lr.fit(X_train, y_train)\n",
    "predict_train = base_lr.predict(X_train)\n",
    "predict_test = base_lr.predict(X_test)\n",
    "print(\"Accuracy train: {0:6.4f}\".format(accuracy_score(y_train, predict_train)))\n",
    "print(\"Accuracy test: {0:6.4f}\".format(accuracy_score(y_test, predict_test)))\n",
    "print(classification_report(y_test, predict_test))"
   ]
  },
  {
   "cell_type": "markdown",
   "metadata": {},
   "source": [
    "##### RandomForestClassifier"
   ]
  },
  {
   "cell_type": "code",
   "execution_count": 218,
   "metadata": {
    "ExecuteTime": {
     "end_time": "2018-06-21T00:15:13.875196Z",
     "start_time": "2018-06-21T00:14:37.082587Z"
    }
   },
   "outputs": [
    {
     "name": "stdout",
     "output_type": "stream",
     "text": [
      "Accuracy train: 0.9925\n",
      "Accuracy test: 0.8775\n",
      "             precision    recall  f1-score   support\n",
      "\n",
      "          0       0.87      0.99      0.93     14216\n",
      "          1       0.95      0.51      0.66      4414\n",
      "\n",
      "avg / total       0.89      0.88      0.86     18630\n",
      "\n"
     ]
    }
   ],
   "source": [
    "base_rf = Pipeline([\n",
    "    ('vect', CountVectorizer()),\n",
    "    ('clf', RandomForestClassifier())\n",
    "])\n",
    "base_rf.fit(X_train, y_train)\n",
    "predict_train = base_rf.predict(X_train)\n",
    "predict_test = base_rf.predict(X_test)\n",
    "print(\"Accuracy train: {0:6.4f}\".format(accuracy_score(y_train, predict_train)))\n",
    "print(\"Accuracy test: {0:6.4f}\".format(accuracy_score(y_test, predict_test)))\n",
    "print(classification_report(y_test, predict_test))"
   ]
  },
  {
   "cell_type": "markdown",
   "metadata": {},
   "source": [
    "#### TF-IDF"
   ]
  },
  {
   "cell_type": "markdown",
   "metadata": {},
   "source": [
    "##### LogisticRegression"
   ]
  },
  {
   "cell_type": "code",
   "execution_count": 219,
   "metadata": {
    "ExecuteTime": {
     "end_time": "2018-06-21T00:16:36.710691Z",
     "start_time": "2018-06-21T00:16:14.993351Z"
    }
   },
   "outputs": [
    {
     "name": "stdout",
     "output_type": "stream",
     "text": [
      "Accuracy train: 0.9709\n",
      "Accuracy test: 0.9626\n",
      "             precision    recall  f1-score   support\n",
      "\n",
      "          0       0.96      0.99      0.98     14216\n",
      "          1       0.96      0.87      0.92      4414\n",
      "\n",
      "avg / total       0.96      0.96      0.96     18630\n",
      "\n"
     ]
    }
   ],
   "source": [
    "tfidf_lr = Pipeline([\n",
    "    ('vect', CountVectorizer()),\n",
    "    ('tfidf', TfidfTransformer()),\n",
    "    ('clf', LogisticRegression())\n",
    "])\n",
    "tfidf_lr.fit(X_train, y_train)\n",
    "predict_train = tfidf_lr.predict(X_train)\n",
    "predict_test = tfidf_lr.predict(X_test)\n",
    "print(\"Accuracy train: {0:6.4f}\".format(accuracy_score(y_train, predict_train)))\n",
    "print(\"Accuracy test: {0:6.4f}\".format(accuracy_score(y_test, predict_test)))\n",
    "print(classification_report(y_test, predict_test))"
   ]
  },
  {
   "cell_type": "markdown",
   "metadata": {},
   "source": [
    "##### RandomForestClassifier"
   ]
  },
  {
   "cell_type": "code",
   "execution_count": 220,
   "metadata": {
    "ExecuteTime": {
     "end_time": "2018-06-21T00:17:20.879666Z",
     "start_time": "2018-06-21T00:16:47.027206Z"
    }
   },
   "outputs": [
    {
     "name": "stdout",
     "output_type": "stream",
     "text": [
      "Accuracy train: 0.9939\n",
      "Accuracy test: 0.8824\n",
      "             precision    recall  f1-score   support\n",
      "\n",
      "          0       0.87      0.99      0.93     14216\n",
      "          1       0.94      0.54      0.68      4414\n",
      "\n",
      "avg / total       0.89      0.88      0.87     18630\n",
      "\n"
     ]
    }
   ],
   "source": [
    "tfidf_rf = Pipeline([\n",
    "    ('vect', CountVectorizer()),\n",
    "    ('tfidf', TfidfTransformer()),\n",
    "    ('clf', RandomForestClassifier())\n",
    "])\n",
    "tfidf_rf.fit(X_train, y_train)\n",
    "predict_train = tfidf_rf.predict(X_train)\n",
    "predict_test = tfidf_rf.predict(X_test)\n",
    "print(\"Accuracy train: {0:6.4f}\".format(accuracy_score(y_train, predict_train)))\n",
    "print(\"Accuracy test: {0:6.4f}\".format(accuracy_score(y_test, predict_test)))\n",
    "print(classification_report(y_test, predict_test))"
   ]
  },
  {
   "cell_type": "markdown",
   "metadata": {},
   "source": [
    "#### TF-IDF + TruncatedSVD"
   ]
  },
  {
   "cell_type": "markdown",
   "metadata": {},
   "source": [
    "##### LogisticRegression"
   ]
  },
  {
   "cell_type": "code",
   "execution_count": 232,
   "metadata": {
    "ExecuteTime": {
     "end_time": "2018-06-21T00:58:11.714193Z",
     "start_time": "2018-06-21T00:57:41.473147Z"
    }
   },
   "outputs": [
    {
     "name": "stdout",
     "output_type": "stream",
     "text": [
      "Accuracy train: 0.9286\n",
      "Accuracy test: 0.9301\n",
      "             precision    recall  f1-score   support\n",
      "\n",
      "          0       0.94      0.97      0.96     14216\n",
      "          1       0.90      0.79      0.84      4414\n",
      "\n",
      "avg / total       0.93      0.93      0.93     18630\n",
      "\n"
     ]
    }
   ],
   "source": [
    "lsi_lr = Pipeline([\n",
    "    ('vect', CountVectorizer()),\n",
    "    ('tfidf', TfidfTransformer()),\n",
    "    ('lsi', TruncatedSVD(n_components=30)),\n",
    "    ('clf', LogisticRegression())\n",
    "])\n",
    "lsi_lr.fit(X_train, y_train)\n",
    "predict_train = lsi_lr.predict(X_train)\n",
    "predict_test = lsi_lr.predict(X_test)\n",
    "print(\"Accuracy train: {0:6.4f}\".format(accuracy_score(y_train, predict_train)))\n",
    "print(\"Accuracy test: {0:6.4f}\".format(accuracy_score(y_test, predict_test)))\n",
    "print(classification_report(y_test, predict_test))"
   ]
  },
  {
   "cell_type": "markdown",
   "metadata": {},
   "source": [
    "##### RandomForestClassifier"
   ]
  },
  {
   "cell_type": "code",
   "execution_count": 233,
   "metadata": {
    "ExecuteTime": {
     "end_time": "2018-06-21T00:58:51.289768Z",
     "start_time": "2018-06-21T00:58:23.146969Z"
    }
   },
   "outputs": [
    {
     "name": "stdout",
     "output_type": "stream",
     "text": [
      "Accuracy train: 0.9918\n",
      "Accuracy test: 0.9033\n",
      "             precision    recall  f1-score   support\n",
      "\n",
      "          0       0.90      0.98      0.94     14216\n",
      "          1       0.91      0.66      0.76      4414\n",
      "\n",
      "avg / total       0.90      0.90      0.90     18630\n",
      "\n"
     ]
    }
   ],
   "source": [
    "lsi_rf = Pipeline([\n",
    "    ('vect', CountVectorizer()),\n",
    "    ('tfidf', TfidfTransformer()),\n",
    "    ('lsi', TruncatedSVD(n_components=30)),\n",
    "    ('clf', RandomForestClassifier())\n",
    "])\n",
    "lsi_rf.fit(X_train, y_train)\n",
    "predict_train = lsi_rf.predict(X_train)\n",
    "predict_test = lsi_rf.predict(X_test)\n",
    "print(\"Accuracy train: {0:6.4f}\".format(accuracy_score(y_train, predict_train)))\n",
    "print(\"Accuracy test: {0:6.4f}\".format(accuracy_score(y_test, predict_test)))\n",
    "print(classification_report(y_test, predict_test))"
   ]
  },
  {
   "cell_type": "markdown",
   "metadata": {},
   "source": [
    "#### LDA"
   ]
  },
  {
   "cell_type": "markdown",
   "metadata": {},
   "source": [
    "##### LogisticRegression"
   ]
  },
  {
   "cell_type": "code",
   "execution_count": 230,
   "metadata": {
    "ExecuteTime": {
     "end_time": "2018-06-21T00:42:32.590752Z",
     "start_time": "2018-06-21T00:25:30.706434Z"
    }
   },
   "outputs": [
    {
     "name": "stderr",
     "output_type": "stream",
     "text": [
      "/home/max/anaconda3/lib/python3.6/site-packages/sklearn/decomposition/online_lda.py:536: DeprecationWarning: The default value for 'learning_method' will be changed from 'online' to 'batch' in the release 0.20. This warning was introduced in 0.18.\n",
      "  DeprecationWarning)\n"
     ]
    },
    {
     "name": "stdout",
     "output_type": "stream",
     "text": [
      "Accuracy train: 0.9101\n",
      "Accuracy test: 0.9090\n",
      "             precision    recall  f1-score   support\n",
      "\n",
      "          0       0.92      0.96      0.94     14216\n",
      "          1       0.85      0.75      0.80      4414\n",
      "\n",
      "avg / total       0.91      0.91      0.91     18630\n",
      "\n"
     ]
    }
   ],
   "source": [
    "lda_lr = Pipeline([\n",
    "    ('vect', CountVectorizer()),\n",
    "    ('lda', LatentDirichletAllocation()),\n",
    "    ('clf', LogisticRegression())\n",
    "])\n",
    "lda_lr.fit(X_train, y_train)\n",
    "predict_train = lda_lr.predict(X_train)\n",
    "predict_test = lda_lr.predict(X_test)\n",
    "print(\"Accuracy train: {0:6.4f}\".format(accuracy_score(y_train, predict_train)))\n",
    "print(\"Accuracy test: {0:6.4f}\".format(accuracy_score(y_test, predict_test)))\n",
    "print(classification_report(y_test, predict_test))"
   ]
  },
  {
   "cell_type": "markdown",
   "metadata": {},
   "source": [
    "##### RandomForestClassifier"
   ]
  },
  {
   "cell_type": "code",
   "execution_count": 231,
   "metadata": {
    "ExecuteTime": {
     "end_time": "2018-06-21T00:57:27.768719Z",
     "start_time": "2018-06-21T00:42:44.795945Z"
    }
   },
   "outputs": [
    {
     "name": "stderr",
     "output_type": "stream",
     "text": [
      "/home/max/anaconda3/lib/python3.6/site-packages/sklearn/decomposition/online_lda.py:536: DeprecationWarning: The default value for 'learning_method' will be changed from 'online' to 'batch' in the release 0.20. This warning was introduced in 0.18.\n",
      "  DeprecationWarning)\n"
     ]
    },
    {
     "name": "stdout",
     "output_type": "stream",
     "text": [
      "Accuracy train: 0.9902\n",
      "Accuracy test: 0.9025\n",
      "             precision    recall  f1-score   support\n",
      "\n",
      "          0       0.92      0.96      0.94     14216\n",
      "          1       0.85      0.72      0.78      4414\n",
      "\n",
      "avg / total       0.90      0.90      0.90     18630\n",
      "\n"
     ]
    }
   ],
   "source": [
    "lda_rf = Pipeline([\n",
    "    ('vect', CountVectorizer()),\n",
    "    ('lda', LatentDirichletAllocation()),\n",
    "    ('clf', RandomForestClassifier())\n",
    "])\n",
    "lda_rf.fit(X_train, y_train)\n",
    "predict_train = lda_rf.predict(X_train)\n",
    "predict_test = lda_rf.predict(X_test)\n",
    "print(\"Accuracy train: {0:6.4f}\".format(accuracy_score(y_train, predict_train)))\n",
    "print(\"Accuracy test: {0:6.4f}\".format(accuracy_score(y_test, predict_test)))\n",
    "print(classification_report(y_test, predict_test))"
   ]
  },
  {
   "cell_type": "markdown",
   "metadata": {},
   "source": [
    "#### Предварительные итоги"
   ]
  },
  {
   "cell_type": "markdown",
   "metadata": {},
   "source": [
    "  Модель  | Baseline | TF-IDF | TF-IDF+LSI | LDA\n",
    "  ------------- | -------------\n",
    "  LogisticRegression  | 0.9597 | 0.9626 | 0.9301 | 0.9090\n",
    "  RandomForestClassifier  | 0.8775 | 0.8824 | 0.9033 | 0.9025\n",
    "  \n",
    "  Точность LDA оказалась не выше LSI, а время работы на порядок больше.\n",
    "  \n",
    "  Случайный лес с дефолтными параметрами практически везде переобучался. Это можно исправить регуляризацией самого RandomForestClassifier.\n",
    "  \n",
    "  Линейная модель даже на baseline показала очень хороший результат.\n",
    "  \n",
    "  Дальнейшую оптимизацию проведем для линейной модели и без LDA"
   ]
  },
  {
   "cell_type": "markdown",
   "metadata": {},
   "source": [
    "#### Подбор параметров"
   ]
  },
  {
   "cell_type": "markdown",
   "metadata": {},
   "source": [
    "С помощью GridSearchCV подберем параметры для улучшения точности pipeline с LogisticRegression"
   ]
  },
  {
   "cell_type": "code",
   "execution_count": 14,
   "metadata": {
    "ExecuteTime": {
     "end_time": "2018-06-21T01:38:40.372234Z",
     "start_time": "2018-06-21T01:38:40.367711Z"
    }
   },
   "outputs": [],
   "source": [
    "final_pipe = Pipeline([\n",
    "    ('vect', CountVectorizer()),\n",
    "    ('tfidf', TfidfTransformer()),\n",
    "    ('lsi', TruncatedSVD()),\n",
    "    ('clf', LogisticRegression())\n",
    "])"
   ]
  },
  {
   "cell_type": "code",
   "execution_count": 25,
   "metadata": {
    "ExecuteTime": {
     "end_time": "2018-06-21T02:21:34.162587Z",
     "start_time": "2018-06-21T02:21:34.153559Z"
    }
   },
   "outputs": [],
   "source": [
    "grid_params = [\n",
    "    {'vect': [CountVectorizer()],\n",
    "     'vect__ngram_range': [(1, 1), (1, 2), (1, 3)],\n",
    "     'vect__analyzer': ['word', 'char'],\n",
    "     'vect__min_df': [1, 2],\n",
    "     'vect__max_df': [0.75, 1.0],\n",
    "     'tfidf': [TfidfTransformer()],\n",
    "     'tfidf__norm': ['l1', 'l2'],\n",
    "     'lsi': [TruncatedSVD(), None],\n",
    "     'clf': [LogisticRegression()],\n",
    "     'clf__penalty':['l1', 'l2'],\n",
    "#     'clf__C':[0.1, 1, 10]\n",
    "    }]\n"
   ]
  },
  {
   "cell_type": "code",
   "execution_count": 26,
   "metadata": {
    "ExecuteTime": {
     "end_time": "2018-06-21T10:42:36.894783Z",
     "start_time": "2018-06-21T02:21:35.767577Z"
    },
    "scrolled": true
   },
   "outputs": [
    {
     "name": "stdout",
     "output_type": "stream",
     "text": [
      "Fitting 3 folds for each of 192 candidates, totalling 576 fits\n"
     ]
    },
    {
     "name": "stderr",
     "output_type": "stream",
     "text": [
      "[Parallel(n_jobs=-1)]: Done  42 tasks      | elapsed: 24.4min\n",
      "[Parallel(n_jobs=-1)]: Done 192 tasks      | elapsed: 125.5min\n",
      "[Parallel(n_jobs=-1)]: Done 442 tasks      | elapsed: 407.0min\n",
      "[Parallel(n_jobs=-1)]: Done 576 out of 576 | elapsed: 500.7min finished\n"
     ]
    },
    {
     "data": {
      "text/plain": [
       "GridSearchCV(cv=3, error_score='raise',\n",
       "       estimator=Pipeline(memory=None,\n",
       "     steps=[('vect', CountVectorizer(analyzer='word', binary=False, decode_error='strict',\n",
       "        dtype=<class 'numpy.int64'>, encoding='utf-8', input='content',\n",
       "        lowercase=True, max_df=1.0, max_features=None, min_df=1,\n",
       "        ngram_range=(1, 1), preprocessor=None, stop_words=None,\n",
       "        strip...ty='l2', random_state=None, solver='liblinear', tol=0.0001,\n",
       "          verbose=0, warm_start=False))]),\n",
       "       fit_params=None, iid=True, n_jobs=-1,\n",
       "       param_grid=[{'vect': [CountVectorizer(analyzer='word', binary=False, decode_error='strict',\n",
       "        dtype=<class 'numpy.int64'>, encoding='utf-8', input='content',\n",
       "        lowercase=True, max_df=1.0, max_features=None, min_df=2,\n",
       "        ngram_range=(1, 1), preprocessor=None, stop_words=None,\n",
       "       ...ver='liblinear', tol=0.0001,\n",
       "          verbose=0, warm_start=False)], 'clf__penalty': ['l1', 'l2']}],\n",
       "       pre_dispatch='2*n_jobs', refit=True, return_train_score='warn',\n",
       "       scoring='accuracy', verbose=1)"
      ]
     },
     "execution_count": 26,
     "metadata": {},
     "output_type": "execute_result"
    }
   ],
   "source": [
    "grid = GridSearchCV(final_pipe, param_grid=grid_params, cv=3, n_jobs=-1, scoring='accuracy', verbose=1)\n",
    "grid.fit(X_train, y_train)"
   ]
  },
  {
   "cell_type": "code",
   "execution_count": 27,
   "metadata": {
    "ExecuteTime": {
     "end_time": "2018-06-21T10:42:51.926934Z",
     "start_time": "2018-06-21T10:42:37.317609Z"
    }
   },
   "outputs": [
    {
     "name": "stdout",
     "output_type": "stream",
     "text": [
      "Pipeline(memory=None,\n",
      "     steps=[('vect', CountVectorizer(analyzer='word', binary=False, decode_error='strict',\n",
      "        dtype=<class 'numpy.int64'>, encoding='utf-8', input='content',\n",
      "        lowercase=True, max_df=1.0, max_features=None, min_df=2,\n",
      "        ngram_range=(1, 1), preprocessor=None, stop_words=None,\n",
      "        strip...ty='l2', random_state=None, solver='liblinear', tol=0.0001,\n",
      "          verbose=0, warm_start=False))])\n",
      "Accuracy на cv: 0.9594193563228968\n",
      "Accuracy на train: 0.9707837769444891\n",
      "Accuracy на test: 0.9625335480407944\n"
     ]
    }
   ],
   "source": [
    "print(grid.best_estimator_)\n",
    "print('Accuracy на cv: {}'.format(grid.best_score_))\n",
    "print('Accuracy на train: {}'.format(grid.score(X_train, y_train)))\n",
    "print('Accuracy на test: {}'.format(grid.score(X_test, y_test)))"
   ]
  },
  {
   "cell_type": "code",
   "execution_count": 29,
   "metadata": {
    "ExecuteTime": {
     "end_time": "2018-06-21T11:04:27.935172Z",
     "start_time": "2018-06-21T11:04:27.919557Z"
    }
   },
   "outputs": [
    {
     "data": {
      "text/plain": [
       "('vect', CountVectorizer(analyzer='word', binary=False, decode_error='strict',\n",
       "         dtype=<class 'numpy.int64'>, encoding='utf-8', input='content',\n",
       "         lowercase=True, max_df=1.0, max_features=None, min_df=2,\n",
       "         ngram_range=(1, 1), preprocessor=None, stop_words=None,\n",
       "         strip_accents=None, token_pattern='(?u)\\\\b\\\\w\\\\w+\\\\b',\n",
       "         tokenizer=None, vocabulary=None))"
      ]
     },
     "execution_count": 29,
     "metadata": {},
     "output_type": "execute_result"
    }
   ],
   "source": [
    "grid.best_estimator_.steps[0]"
   ]
  },
  {
   "cell_type": "code",
   "execution_count": 30,
   "metadata": {
    "ExecuteTime": {
     "end_time": "2018-06-21T11:04:39.396087Z",
     "start_time": "2018-06-21T11:04:39.390436Z"
    }
   },
   "outputs": [
    {
     "data": {
      "text/plain": [
       "('tfidf',\n",
       " TfidfTransformer(norm='l2', smooth_idf=True, sublinear_tf=False, use_idf=True))"
      ]
     },
     "execution_count": 30,
     "metadata": {},
     "output_type": "execute_result"
    }
   ],
   "source": [
    "grid.best_estimator_.steps[1]"
   ]
  },
  {
   "cell_type": "code",
   "execution_count": 31,
   "metadata": {
    "ExecuteTime": {
     "end_time": "2018-06-21T11:04:48.668743Z",
     "start_time": "2018-06-21T11:04:48.663559Z"
    }
   },
   "outputs": [
    {
     "data": {
      "text/plain": [
       "('lsi', None)"
      ]
     },
     "execution_count": 31,
     "metadata": {},
     "output_type": "execute_result"
    }
   ],
   "source": [
    "grid.best_estimator_.steps[2]"
   ]
  },
  {
   "cell_type": "code",
   "execution_count": 32,
   "metadata": {
    "ExecuteTime": {
     "end_time": "2018-06-21T11:05:01.443310Z",
     "start_time": "2018-06-21T11:05:01.433783Z"
    }
   },
   "outputs": [
    {
     "data": {
      "text/plain": [
       "('clf',\n",
       " LogisticRegression(C=1.0, class_weight=None, dual=False, fit_intercept=True,\n",
       "           intercept_scaling=1, max_iter=100, multi_class='ovr', n_jobs=1,\n",
       "           penalty='l2', random_state=None, solver='liblinear', tol=0.0001,\n",
       "           verbose=0, warm_start=False))"
      ]
     },
     "execution_count": 32,
     "metadata": {},
     "output_type": "execute_result"
    }
   ],
   "source": [
    "grid.best_estimator_.steps[3]"
   ]
  },
  {
   "cell_type": "markdown",
   "metadata": {},
   "source": [
    "В итоге, лучший результат на перекрестной проверке у линейной модели с векторизацией CountVectorizer ( analyzer='word', min_df=2) + TDIDF и без LSI"
   ]
  },
  {
   "cell_type": "code",
   "execution_count": null,
   "metadata": {},
   "outputs": [],
   "source": []
  }
 ],
 "metadata": {
  "hide_input": false,
  "kernelspec": {
   "display_name": "Python 3",
   "language": "python",
   "name": "python3"
  },
  "language_info": {
   "codemirror_mode": {
    "name": "ipython",
    "version": 3
   },
   "file_extension": ".py",
   "mimetype": "text/x-python",
   "name": "python",
   "nbconvert_exporter": "python",
   "pygments_lexer": "ipython3",
   "version": "3.6.5"
  },
  "toc": {
   "base_numbering": 1,
   "nav_menu": {},
   "number_sections": true,
   "sideBar": true,
   "skip_h1_title": false,
   "title_cell": "Table of Contents",
   "title_sidebar": "Contents",
   "toc_cell": false,
   "toc_position": {
    "height": "calc(100% - 180px)",
    "left": "10px",
    "top": "150px",
    "width": "320px"
   },
   "toc_section_display": true,
   "toc_window_display": true
  },
  "varInspector": {
   "cols": {
    "lenName": 16,
    "lenType": 16,
    "lenVar": 40
   },
   "kernels_config": {
    "python": {
     "delete_cmd_postfix": "",
     "delete_cmd_prefix": "del ",
     "library": "var_list.py",
     "varRefreshCmd": "print(var_dic_list())"
    },
    "r": {
     "delete_cmd_postfix": ") ",
     "delete_cmd_prefix": "rm(",
     "library": "var_list.r",
     "varRefreshCmd": "cat(var_dic_list()) "
    }
   },
   "position": {
    "height": "409px",
    "left": "1230px",
    "right": "21px",
    "top": "120px",
    "width": "349px"
   },
   "types_to_exclude": [
    "module",
    "function",
    "builtin_function_or_method",
    "instance",
    "_Feature"
   ],
   "window_display": false
  }
 },
 "nbformat": 4,
 "nbformat_minor": 2
}
